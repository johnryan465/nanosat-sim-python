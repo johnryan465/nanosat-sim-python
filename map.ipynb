{
 "cells": [
  {
   "cell_type": "code",
   "execution_count": 126,
   "metadata": {},
   "outputs": [
    {
     "name": "stdout",
     "output_type": "stream",
     "text": [
      "The autoreload extension is already loaded. To reload it, use:\n",
      "  %reload_ext autoreload\n"
     ]
    }
   ],
   "source": [
    "%load_ext autoreload"
   ]
  },
  {
   "cell_type": "code",
   "execution_count": 127,
   "metadata": {},
   "outputs": [],
   "source": [
    "%autoreload 2"
   ]
  },
  {
   "cell_type": "code",
   "execution_count": 128,
   "metadata": {},
   "outputs": [],
   "source": [
    "\"\"\"\n",
    "This module is designed to visualise the outputs of the simulator\n",
    "\"\"\"\n",
    "import orekit\n",
    "from opssat.env import OPSSATEnv\n",
    "from opssat.sat import OPSSAT\n",
    "from simulator.main import Simulator\n",
    "\n",
    "import orekit\n",
    "from orekit.pyhelpers import setup_orekit_curdir\n",
    "from orekit.pyhelpers import absolutedate_to_datetime \n",
    "\n",
    "from org.orekit.frames import FramesFactory\n",
    "from org.orekit.orbits import KeplerianOrbit\n",
    "from org.orekit.time import AbsoluteDate\n",
    "from org.orekit.time import TimeScalesFactory\n",
    "from org.orekit.utils import Constants, IERSConventions, AngularDerivativesFilter\n",
    "from org.orekit.utils import PVCoordinates\n",
    "from org.hipparchus.geometry.euclidean.threed import Vector3D\n",
    "\n",
    "import numpy as np"
   ]
  },
  {
   "cell_type": "code",
   "execution_count": 129,
   "metadata": {},
   "outputs": [
    {
     "data": {
      "text/plain": [
       "<GeoMagneticField: org.orekit.models.earth.GeoMagneticField@5691e169>"
      ]
     },
     "execution_count": 129,
     "metadata": {},
     "output_type": "execute_result"
    }
   ],
   "source": [
    "from org.orekit.models.earth import GeoMagneticFieldFactory\n",
    "vm = orekit.initVM()\n",
    "setup_orekit_curdir(filename=\"orekit-data\")\n",
    "year = 2014.0\n",
    "\n",
    "GeoMagneticFieldFactory.getIGRF(year)"
   ]
  },
  {
   "cell_type": "code",
   "execution_count": 130,
   "metadata": {},
   "outputs": [],
   "source": [
    "def create_orbit(initialDate: AbsoluteDate):\n",
    "    position  = Vector3D(-6142438.668, 3492467.560, -25767.25680)\n",
    "    velocity  = Vector3D(505.8479685, 942.7809215, 7435.922231)\n",
    "    initialOrbit =  KeplerianOrbit(PVCoordinates(position, velocity),\n",
    "                                                            FramesFactory.getEME2000(), initialDate,\n",
    "                                                            Constants.EIGEN5C_EARTH_MU)\n",
    "    return initialOrbit"
   ]
  },
  {
   "cell_type": "code",
   "execution_count": 131,
   "metadata": {},
   "outputs": [
    {
     "name": "stdout",
     "output_type": "stream",
     "text": [
      "SpacecraftState{orbit=Keplerian parameters: {a: 7069220.386682823; e: 4.777356060557311E-4; i: 98.18525099174988; pa: 13.741061002484528; raan: 150.34825333049; v: -13.952151446378437;}, attitude=org.orekit.attitudes.Attitude@42a73f3c, mass=5.777673, additional={}}\n"
     ]
    }
   ],
   "source": [
    "vm = orekit.initVM()\n",
    "setup_orekit_curdir(filename=\"orekit-data\")\n",
    "start_date = AbsoluteDate(2014, 1, 1, 23, 30, 00.000, TimeScalesFactory.getUTC())\n",
    "orbit = create_orbit(start_date)\n",
    "opssat = OPSSAT(orbit=orbit)\n",
    "env = OPSSATEnv()\n",
    "simulator = Simulator(satellite=opssat, orbit=orbit, env=env, step_size=60.0 * 60)\n",
    "end_date = AbsoluteDate(2014, 2, 1, 23, 40, 00.000, TimeScalesFactory.getUTC())\n",
    "res = simulator.run(end_date)"
   ]
  },
  {
   "cell_type": "code",
   "execution_count": null,
   "metadata": {},
   "outputs": [],
   "source": [
    "5 nadir pointing"
   ]
  },
  {
   "cell_type": "code",
   "execution_count": 132,
   "metadata": {},
   "outputs": [
    {
     "data": {
      "text/plain": [
       "<SpacecraftState: SpacecraftState{orbit=Keplerian parameters: {a: 7069220.386682823; e: 4.777356060557311E-4; i: 98.18525099174988; pa: 13.741061002484528; raan: 150.34825333049; v: -13.952151446378437;}, attitude=org.orekit.attitudes.Attitude@42a73f3c, mass=5.777673, additional={}}>"
      ]
     },
     "execution_count": 132,
     "metadata": {},
     "output_type": "execute_result"
    }
   ],
   "source": [
    "res[\"state\"][0]"
   ]
  },
  {
   "cell_type": "code",
   "execution_count": 133,
   "metadata": {},
   "outputs": [],
   "source": [
    "from math import radians, pi\n",
    "from org.orekit.bodies import OneAxisEllipsoid, GeodeticPoint\n",
    "from org.orekit.frames import FramesFactory, TopocentricFrame\n",
    "\n",
    "ITRF = FramesFactory.getITRF(IERSConventions.IERS_2010, True)\n",
    "earth = OneAxisEllipsoid(Constants.WGS84_EARTH_EQUATORIAL_RADIUS, \n",
    "                         Constants.WGS84_EARTH_FLATTENING, \n",
    "                         ITRF)"
   ]
  },
  {
   "cell_type": "code",
   "execution_count": 134,
   "metadata": {},
   "outputs": [],
   "source": [
    "longitude = radians(21.063)\n",
    "latitude  = radians(67.878)\n",
    "altitude  = 341.0\n",
    "station1 = GeodeticPoint(latitude, longitude, altitude)\n",
    "sta1Frame = TopocentricFrame(earth, station1, \"Esrange\")"
   ]
  },
  {
   "cell_type": "code",
   "execution_count": 135,
   "metadata": {},
   "outputs": [],
   "source": [
    "import pandas as pd\n",
    "\n",
    "inertialFrame = FramesFactory.getEME2000()\n",
    "\n",
    "pvs = list(map(lambda x: x.getPVCoordinates(), res[\"state\"]))\n",
    "\n",
    "prop_data = pd.DataFrame(data=pvs, columns=['pv'])\n",
    "\n",
    "prop_data['Position'] = prop_data['pv'].apply(lambda x: x.getPosition())\n",
    "prop_data['datetime'] = prop_data['pv'].apply(lambda x: absolutedate_to_datetime(x.getDate()))\n",
    "prop_data['elevation'] = prop_data['pv'].apply(lambda x: sta1Frame.getElevation(x.getPosition(), inertialFrame, x.getDate())*180.0/pi )\n",
    "prop_data['azimuth'] = prop_data['pv'].apply(lambda x: sta1Frame.getAzimuth(x.getPosition(), inertialFrame, x.getDate())*180.0/pi )\n",
    "prop_data.set_index('datetime', inplace=True, drop=False)\n",
    "prop_data.index.name = 'Timestamp'"
   ]
  },
  {
   "cell_type": "code",
   "execution_count": 136,
   "metadata": {},
   "outputs": [
    {
     "data": {
      "text/html": [
       "<div>\n",
       "<style scoped>\n",
       "    .dataframe tbody tr th:only-of-type {\n",
       "        vertical-align: middle;\n",
       "    }\n",
       "\n",
       "    .dataframe tbody tr th {\n",
       "        vertical-align: top;\n",
       "    }\n",
       "\n",
       "    .dataframe thead th {\n",
       "        text-align: right;\n",
       "    }\n",
       "</style>\n",
       "<table border=\"1\" class=\"dataframe\">\n",
       "  <thead>\n",
       "    <tr style=\"text-align: right;\">\n",
       "      <th></th>\n",
       "      <th>pv</th>\n",
       "      <th>Position</th>\n",
       "      <th>datetime</th>\n",
       "      <th>elevation</th>\n",
       "      <th>azimuth</th>\n",
       "    </tr>\n",
       "    <tr>\n",
       "      <th>Timestamp</th>\n",
       "      <th></th>\n",
       "      <th></th>\n",
       "      <th></th>\n",
       "      <th></th>\n",
       "      <th></th>\n",
       "    </tr>\n",
       "  </thead>\n",
       "  <tbody>\n",
       "    <tr>\n",
       "      <th>2014-01-01 23:30:00</th>\n",
       "      <td>{2014-01-01T23:30:00.000, P(-6142438.668, 3492...</td>\n",
       "      <td>{-6,142,438.668; 3,492,467.56; -25,767.2568}</td>\n",
       "      <td>2014-01-01 23:30:00</td>\n",
       "      <td>-32.142386</td>\n",
       "      <td>142.433723</td>\n",
       "    </tr>\n",
       "    <tr>\n",
       "      <th>2014-01-02 00:30:00</th>\n",
       "      <td>{2014-01-02T00:30:00.000, P(-5.240909097528279...</td>\n",
       "      <td>{-524,090,909.75282794; 1,793,618,154.360096; ...</td>\n",
       "      <td>2014-01-02 00:30:00</td>\n",
       "      <td>-13.183707</td>\n",
       "      <td>200.116217</td>\n",
       "    </tr>\n",
       "    <tr>\n",
       "      <th>2014-01-02 01:30:00</th>\n",
       "      <td>{2014-01-02T01:30:00.000, P(-1.044492178923023...</td>\n",
       "      <td>{-1,044,492,178.9230235; 3,590,305,146.1329207...</td>\n",
       "      <td>2014-01-02 01:30:00</td>\n",
       "      <td>-15.664299</td>\n",
       "      <td>212.821211</td>\n",
       "    </tr>\n",
       "    <tr>\n",
       "      <th>2014-01-02 02:30:00</th>\n",
       "      <td>{2014-01-02T02:30:00.000, P(-1.564894563881639...</td>\n",
       "      <td>{-1,564,894,563.881639; 5,386,994,582.36215; -...</td>\n",
       "      <td>2014-01-02 02:30:00</td>\n",
       "      <td>-19.218662</td>\n",
       "      <td>225.409195</td>\n",
       "    </tr>\n",
       "    <tr>\n",
       "      <th>2014-01-02 03:30:00</th>\n",
       "      <td>{2014-01-02T03:30:00.000, P(-2.085297205052265...</td>\n",
       "      <td>{-2,085,297,205.052265; 7,183,684,576.112962; ...</td>\n",
       "      <td>2014-01-02 03:30:00</td>\n",
       "      <td>-23.648475</td>\n",
       "      <td>237.989059</td>\n",
       "    </tr>\n",
       "  </tbody>\n",
       "</table>\n",
       "</div>"
      ],
      "text/plain": [
       "                                                                    pv  \\\n",
       "Timestamp                                                                \n",
       "2014-01-01 23:30:00  {2014-01-01T23:30:00.000, P(-6142438.668, 3492...   \n",
       "2014-01-02 00:30:00  {2014-01-02T00:30:00.000, P(-5.240909097528279...   \n",
       "2014-01-02 01:30:00  {2014-01-02T01:30:00.000, P(-1.044492178923023...   \n",
       "2014-01-02 02:30:00  {2014-01-02T02:30:00.000, P(-1.564894563881639...   \n",
       "2014-01-02 03:30:00  {2014-01-02T03:30:00.000, P(-2.085297205052265...   \n",
       "\n",
       "                                                              Position  \\\n",
       "Timestamp                                                                \n",
       "2014-01-01 23:30:00       {-6,142,438.668; 3,492,467.56; -25,767.2568}   \n",
       "2014-01-02 00:30:00  {-524,090,909.75282794; 1,793,618,154.360096; ...   \n",
       "2014-01-02 01:30:00  {-1,044,492,178.9230235; 3,590,305,146.1329207...   \n",
       "2014-01-02 02:30:00  {-1,564,894,563.881639; 5,386,994,582.36215; -...   \n",
       "2014-01-02 03:30:00  {-2,085,297,205.052265; 7,183,684,576.112962; ...   \n",
       "\n",
       "                               datetime  elevation     azimuth  \n",
       "Timestamp                                                       \n",
       "2014-01-01 23:30:00 2014-01-01 23:30:00 -32.142386  142.433723  \n",
       "2014-01-02 00:30:00 2014-01-02 00:30:00 -13.183707  200.116217  \n",
       "2014-01-02 01:30:00 2014-01-02 01:30:00 -15.664299  212.821211  \n",
       "2014-01-02 02:30:00 2014-01-02 02:30:00 -19.218662  225.409195  \n",
       "2014-01-02 03:30:00 2014-01-02 03:30:00 -23.648475  237.989059  "
      ]
     },
     "execution_count": 136,
     "metadata": {},
     "output_type": "execute_result"
    }
   ],
   "source": [
    "prop_data.head() "
   ]
  },
  {
   "cell_type": "code",
   "execution_count": 137,
   "metadata": {},
   "outputs": [],
   "source": [
    "prop_data['groundpoint'] = prop_data['pv'].apply(lambda pv: earth.transform(pv.position, inertialFrame, pv.date))\n",
    "prop_data['latitude'] = np.degrees(prop_data.groundpoint.apply(lambda gp: gp.latitude))\n",
    "prop_data['longitude'] = np.degrees(prop_data.groundpoint.apply(lambda gp: gp.longitude))\n",
    "prop_data['day'] = prop_data.datetime.dt.dayofyear\n",
    "prop_data['hour'] = prop_data.datetime.dt.hour"
   ]
  },
  {
   "cell_type": "code",
   "execution_count": 138,
   "metadata": {},
   "outputs": [],
   "source": [
    "prop_data['visible'] = prop_data.elevation.apply(lambda el: 'Yes' if el>0 else 'No') "
   ]
  },
  {
   "cell_type": "code",
   "execution_count": 139,
   "metadata": {},
   "outputs": [
    {
     "data": {
      "image/png": "[encoded data removed]",
      "text/plain": [
       "<Figure size 432x288 with 1 Axes>"
      ]
     },
     "metadata": {
      "needs_background": "light"
     },
     "output_type": "display_data"
    }
   ],
   "source": [
    "prop_data.plot(y='elevation'); "
   ]
  },
  {
   "cell_type": "code",
   "execution_count": 140,
   "metadata": {},
   "outputs": [],
   "source": [
    "import plotly.express as px "
   ]
  },
  {
   "cell_type": "code",
   "execution_count": 141,
   "metadata": {},
   "outputs": [
    {
     "data": {
      "application/vnd.plotly.v1+json": {
       "config": {
        "plotlyServerURL": "https://plot.ly"
       },
       "data": [
        {
         "customdata": [
          [
           142.4337231135884,
           -0.2805343880709552,
           56.52442628768894
          ],
          [
           200.1162170176122,
           -33.59427484334466,
           -2.6564701013421237
          ],
          [
           212.8212105609823,
           -33.62386612687472,
           -17.765074945267802
          ],
          [
           225.40919495139033,
           -33.633719649047485,
           -32.82864250533924
          ],
          [
           237.98905900473025,
           -33.63864817827096,
           -47.88096389533964
          ],
          [
           250.73669522979765,
           -33.64160527319287,
           -62.928789635109496
          ],
          [
           263.9256747770189,
           -33.643573949632945,
           -77.97436825344542
          ],
          [
           277.9426163616994,
           -33.6449751954078,
           -93.01866253710098
          ],
          [
           293.28945211413554,
           -33.64601965714244,
           -108.06215325809099
          ],
          [
           310.5241403106183,
           -33.64682476807141,
           -123.10510705588509
          ],
          [
           330.0266071839179,
           -33.647461544500764,
           -138.14768361050116
          ],
          [
           351.51307936631105,
           -33.64797580525191,
           -153.189984380951
          ],
          [
           13.680413150058977,
           -33.64839872700262,
           -168.23207699057602
          ],
          [
           34.77898399765984,
           -33.64875247285536,
           176.72599163622596
          ],
          [
           53.737776790653115,
           -33.649053356494505,
           161.68418777123333
          ],
          [
           70.47958808012845,
           -33.64931369497226,
           146.64248639367088
          ],
          [
           85.46153944955846,
           -33.649542930369215,
           131.60086840490297
          ],
          [
           99.24033706196437,
           -33.649748330662476,
           116.55931885134017
          ],
          [
           112.29193760416163,
           -33.649935444542606,
           101.51782576752406
          ],
          [
           124.97422929551553,
           -33.65010841273881,
           86.47637941256794
          ],
          [
           137.53380744720016,
           -33.65027019779973,
           71.43497176168889
          ],
          [
           150.11881007191047,
           -33.65042277014429,
           56.39359616504988
          ],
          [
           162.79109899208748,
           -33.65056727306967,
           41.352247116206215
          ],
          [
           175.54202667888234,
           -33.65070417945211,
           26.310920090983345
          ],
          [
           188.31687613182626,
           -33.65083344608601,
           11.26961142965471
          ],
          [
           201.04818624796354,
           -33.65095466688248,
           -3.7716817577336474
          ],
          [
           213.69199167718014,
           -33.65106722262676,
           -18.812961671175586
          ],
          [
           226.2588404189864,
           -33.65117042462113,
           -33.85422990024484
          ],
          [
           238.83528947872622,
           -33.651263645218144,
           -48.895487508781294
          ],
          [
           251.5979454090857,
           -33.651346430608385,
           -63.9367351208791
          ],
          [
           264.8256428398076,
           -33.65141859089966,
           -78.97797301314833
          ],
          [
           278.91205959020107,
           -33.65148026327201,
           -94.01920121051104
          ],
          [
           294.3654365507812,
           -33.65153194549227,
           -109.0604195826361
          ],
          [
           311.74171729421334,
           -33.65157449876381,
           -124.10162793733541
          ],
          [
           331.39406979247275,
           -33.6516091207259,
           -139.14282610684745
          ],
          [
           352.9759733639642,
           -33.65163729126037,
           -154.1840140229506
          ],
          [
           15.124375717507924,
           -33.6516606954743,
           -169.22519177726096
          ],
          [
           36.10247056026135,
           -33.65168112966487,
           175.73364033616508
          ],
          [
           54.90793003696363,
           -33.65170039714607,
           160.6924817978682
          ],
          [
           71.51622814546963,
           -33.6517202014322,
           145.6513318603816
          ],
          [
           86.40154434132312,
           -33.65174204439514,
           130.61018956547215
          ],
          [
           100.11850368666053,
           -33.651767136622006,
           115.56905377950338
          ],
          [
           113.13556408758771,
           -33.65179632632448,
           100.52792324395872
          ],
          [
           125.80288415244311,
           -33.65183005184835,
           85.48679663731802
          ],
          [
           138.36017496740672,
           -33.651868321189276,
           70.4456726436583
          ],
          [
           150.94950482206346,
           -33.65191072004909,
           55.40455002300019
          ],
          [
           163.6275347269057,
           -33.65195644799401,
           40.36342767834666
          ],
          [
           176.3817271912293,
           -33.65200438033704,
           25.32230471457618
          ],
          [
           189.15543267817955,
           -33.65205315159072,
           10.281180484991122
          ],
          [
           201.8816409826055,
           -33.65210125527173,
           -4.759945376575237
          ],
          [
           214.51911197794468,
           -33.65214715152655,
           -19.801072945649178
          ],
          [
           227.08282967762818,
           -33.652189377527925,
           -34.84220201277316
          ],
          [
           239.6648809517891,
           -33.652226653113196,
           -49.883332105787346
          ],
          [
           252.44819588199297,
           -33.65225797222357,
           -64.924462532988
          ],
          [
           265.7187733088896,
           -33.6522826756736,
           -79.9655924392463
          ],
          [
           279.8781347311093,
           -33.6523004998732,
           -95.00672087262872
          ],
          [
           295.44095439250333,
           -33.652311598191616,
           -110.04784685706335
          ],
          [
           312.96036967277746,
           -33.652316533522175,
           -125.08896946608608
          ],
          [
           332.7608271399204,
           -33.652316242577555,
           -140.13008789271154
          ],
          [
           354.4318031336576,
           -33.65231197437783,
           -155.1712015106535
          ],
          [
           16.55376300522502,
           -33.65230520716089,
           -170.21230992276375
          ],
          [
           37.40812890727591,
           -33.65229754941925,
           174.74658700660933
          ],
          [
           56.06171117373906,
           -33.65229063185549,
           159.70548913750682
          ],
          [
           72.53989525672219,
           -33.65228599766736,
           144.6643960594562
          ],
          [
           87.3319695630733,
           -33.65228499868878,
           129.6233071153736
          ],
          [
           100.98983725707016,
           -33.652288704510084,
           114.5822214426332
          ],
          [
           113.97440804960144,
           -33.6522978308121,
           99.54113802846884
          ],
          [
           126.62820841729913,
           -33.65231269183192,
           84.50005577588176
          ],
          [
           139.18416270660606,
           -33.65233318022492,
           69.45897357553186
          ],
          [
           151.77834969509468,
           -33.652358775711534,
           54.4178903786893
          ],
          [
           164.46231672546534,
           -33.6523885819246,
           39.376805266202894
          ],
          [
           177.2197548687979,
           -33.65242138894212,
           24.3357175087806
          ],
          [
           189.99223297018574,
           -33.65245575723015,
           9.29462661442599
          ],
          [
           202.7133484537374,
           -33.65249011726562,
           -5.746467639514369
          ],
          [
           215.34471452724512,
           -33.6525228781891,
           -20.787565194727765
          ],
          [
           227.9058353473093,
           -33.65255253731947,
           -35.82866571807888
          ],
          [
           240.49438060102494,
           -33.652577784031344,
           -50.869768624954496
          ],
          [
           253.29965207350756,
           -33.652597590424655,
           -65.91087312188111
          ],
          [
           266.6148667750094,
           -33.652611282541315,
           -80.95197826263994
          ],
          [
           280.8493929534004,
           -33.652618587311224,
           -95.9930830147556
          ],
          [
           296.5240569283497,
           -33.652619652012305,
           -111.0341863318124
          ],
          [
           314.1880832924016,
           -33.65261503491228,
           -126.07528722664576
          ],
          [
           334.13488359374327,
           -33.652605667731365,
           -141.11638484041467
          ],
          [
           355.8884166344312,
           -33.65259279249655,
           -156.15747850281727
          ],
          [
           17.976038452191464,
           -33.65257787710953,
           -171.19856777933416
          ],
          [
           38.70271723952734,
           -33.65256251541044,
           173.76034749772842
          ],
          [
           57.20489256299544,
           -33.65254831857978,
           158.71926721653162
          ],
          [
           73.55535265331523,
           -33.65253680531597,
           143.67819099218116
          ],
          [
           88.25672464048044,
           -33.65252929830892,
           128.63711819196052
          ],
          [
           101.85758241481932,
           -33.652526834100996,
           113.59604797759431
          ],
          [
           114.81120546229913,
           -33.65253009250944,
           98.55497936161768
          ],
          [
           127.45254162315834,
           -33.652539350446126,
           83.51391127403016
          ],
          [
           140.0077895493398,
           -33.652554463300255,
           68.47284263464229
          ],
          [
           152.60709366172605,
           -33.65257487516284,
           53.43177242616744
          ],
          [
           165.29696039436877,
           -33.652599657197136,
           38.390699763057704
          ],
          [
           178.05742172953066,
           -33.65262757153192,
           23.349623951357906
          ],
          [
           190.8284143521774,
           -33.65265715630706,
           8.308544535492167
          ],
          [
           203.54430002782834,
           -33.65268682562548,
           -6.732538671545628
          ],
          [
           216.16967323547857,
           -33.65271497941552,
           -21.77362557523283
          ],
          [
           228.72864227835595,
           -33.65274011313882,
           -36.814715807038226
          ],
          [
           241.3245133813843,
           -33.652760920183674,
           -51.85580875074622
          ],
          [
           254.15301012700576,
           -33.65277638206162,
           -66.8969035848371
          ],
          [
           267.51462310365395,
           -33.652785838432315,
           -81.93799933928975
          ],
          [
           281.8265647629583,
           -33.65278903261223,
           -96.97909496252487
          ],
          [
           297.6155019588516,
           -33.65278612944876,
           -112.02018939393334
          ],
          [
           315.42556283332027,
           -33.652777704333076,
           -127.06128163700426
          ],
          [
           335.5167436951389,
           -33.6527647041002,
           -142.1023708280594
          ],
          [
           357.3461412585206,
           -33.65274838248769,
           -157.1434562958844
          ],
          [
           19.39166423463385,
           -33.65273021456824,
           -172.18453760818457
          ],
          [
           39.98696830485319,
           -33.65271179600901,
           172.77438539833304
          ],
          [
           58.33831324779737,
           -33.652694734051614,
           157.73331260629809
          ],
          [
           74.56338899818606,
           -33.652680537672964,
           142.69224362523696
          ],
          [
           89.17649524944416,
           -33.65267051444576,
           127.6511778178478
          ],
          [
           102.72232414405501,
           -33.65266568115874,
           112.61011434318928
          ],
          [
           115.64645663527209,
           -33.65266669431731,
           97.56905221382007
          ],
          [
           128.27631385635067,
           -33.65267380528525,
           82.52799036300398
          ],
          [
           140.83142555412306,
           -33.65268684314289,
           67.48692771735568
          ],
          [
           153.4360544488712,
           -33.65270522644031,
           52.445863269976435
          ],
          [
           166.13173903350216,
           -33.65272800304797,
           37.404796149060054
          ],
          [
           178.8949664497688,
           -33.65275391538269,
           22.36372567728279
          ],
          [
           191.6641922355011,
           -33.65278148655101,
           7.322651417903923
          ],
          [
           204.37469895153532,
           -33.65280912127964,
           -7.718426796452331
          ],
          [
           216.99418852930734,
           -33.65283521570712,
           -22.75950885075346
          ],
          [
           229.55145579599628,
           -33.652858267295024,
           -37.80059435584784
          ],
          [
           242.1554971227395,
           -33.65287697729426,
           -52.84168267696159
          ],
          [
           255.0085093475326,
           -33.65289034003281,
           -67.88277297643639
          ],
          [
           268.41831243739165,
           -33.65289771192541,
           -82.92386427126849
          ],
          [
           282.80995223536274,
           -33.652898855713595,
           -97.9649555006006
          ],
          [
           298.7155895493814,
           -33.65289395690289,
           -113.00604559855623
          ],
          [
           316.6729928783669,
           -33.65288361126358,
           -128.0471335674223
          ],
          [
           336.9063154973806,
           -33.65286878424534,
           -143.0882185461888
          ],
          [
           358.80466878774916,
           -33.65285074507387,
           -158.12929986972614
          ],
          [
           20.80048433048605,
           -33.6528309800349,
           -173.1703771145824
          ],
          [
           41.26104274032341,
           -33.652811090874486,
           171.78854987176913
          ],
          [
           59.46230248908836,
           -33.6527926852649,
           156.74748096021932
          ],
          [
           75.56435061149251,
           -33.65277726683189,
           141.7064157485974
          ],
          [
           90.09158523102032,
           -33.652766132268916,
           126.66535358893525
          ],
          [
           103.58431475330904,
           -33.65276028258358,
           111.62429363157761
          ],
          [
           116.48036792942898,
           -33.65276035455476,
           96.58323488311314
          ],
          [
           129.09969216143674,
           -33.652766577098625,
           81.54217627416193
          ],
          [
           141.6552034795199,
           -33.65277875553788,
           66.50111673239915
          ],
          [
           154.2653352323658,
           -33.65279628486053,
           51.460055255801755
          ],
          [
           166.9667326436198,
           -33.652818191069976,
           36.418990981105324
          ],
          [
           179.7324548757856,
           -33.65284319780615,
           21.377923242805014
          ],
          [
           192.4996288583062,
           -33.65286981368586,
           6.336851618627396
          ],
          [
           205.2046136211472,
           -33.65289643513161,
           -8.704224042702721
          ],
          [
           217.8183423069065,
           -33.652921454307275,
           -23.745303609420855
          ],
          [
           230.3743764486953,
           -33.6529433697293,
           -38.786386675037235
          ],
          [
           242.98745562630697,
           -33.65296089069517,
           -53.82747258851021
          ],
          [
           255.86630230731208,
           -33.652973024956474,
           -68.8685604979384
          ],
          [
           269.3261212223073,
           -33.65297914680954,
           -83.90964940897224
          ],
          [
           283.79977070978936,
           -33.65297904010281,
           -98.95073825297952
          ],
          [
           299.8245203901606,
           -33.65297291320724,
           -113.99182596033579
          ],
          [
           317.9304337999522,
           -33.65296138491493,
           -129.03291153379308
          ],
          [
           338.3033578511405,
           -33.65294544222295,
           -144.0739941169123
          ],
          [
           0.26354460324154594,
           -33.652926372884174,
           -159.11507305286761
          ],
          [
           22.202215175930764,
           -33.652905677337856,
           -174.15614792960304
          ],
          [
           42.524979061809724,
           -33.652884966044695,
           170.8027813917787
          ],
          [
           60.57707044553313,
           -33.65286584925386,
           155.76171476731867
          ],
          [
           76.55847395466415,
           -33.65284982675002,
           140.7206517798803
          ],
          [
           91.00220033111214,
           -33.65283818513115,
           125.67959176754215
          ],
          [
           104.44371922947626,
           -33.65283190965524,
           110.63853386877555
          ],
          [
           117.31306718584975,
           -33.652831616698165,
           95.59747708129044
          ],
          [
           129.92277214400877,
           -33.652837511454905,
           80.55642033055766
          ],
          [
           142.4791906116713,
           -33.6528493737888,
           65.5153625432966
          ],
          [
           155.09497917710172,
           -33.65286657320665,
           50.47430272089883
          ],
          [
           167.80196660841054,
           -33.652888111943184,
           35.43324000776468
          ],
          [
           180.569903716256,
           -33.65291269321252,
           20.39217374987095
          ],
          [
           193.33474275280736,
           -33.6529388099597,
           5.351103539548462
          ],
          [
           206.03407382807666,
           -33.65296484828388,
           -9.689970755243046
          ],
          [
           218.6421823800388,
           -33.652989197872,
           -24.731048984623612
          ],
          [
           231.1974744939038,
           -33.6530103615865,
           -39.77213072692053
          ],
          [
           243.82048539410317,
           -33.653027058707785,
           -54.8132153148365
          ],
          [
           256.72651630818996,
           -33.65303831265136,
           -69.85430188252859
          ],
          [
           270.23821118551336,
           -33.65304351798603,
           -84.89538942490775
          ],
          [
           284.79620842367905,
           -33.65304248205211,
           -99.93647686651093
          ],
          [
           300.94245967651045,
           -33.65303543831957,
           -114.97756313520024
          ],
          [
           319.1978940549334,
           -33.65302303056085,
           -130.01864723568042
          ],
          [
           339.7075653581582,
           -33.65300626891175,
           -145.0597283177541
          ],
          [
           1.7222644123622237,
           -33.652986460820905,
           -160.10080573467528
          ],
          [
           23.59654412956755,
           -33.65296512160837,
           -175.14187908757742
          ],
          [
           43.778785135438206,
           -33.65294387075366,
           169.8170517470612
          ],
          [
           61.682789513330384,
           -33.65292432101297,
           154.77598660880815
          ],
          [
           77.54595663401146,
           -33.652907967958356,
           139.7349250641186
          ],
          [
           91.90851017041076,
           -33.65289608750646,
           124.6938664358814
          ],
          [
           105.3006699020253,
           -33.65288964845863,
           109.65280984967679
          ],
          [
           118.14465261093986,
           -33.65288924604898,
           94.61175429354566
          ],
          [
           130.74562221169887,
           -33.652895061059226,
           79.57069868721092
          ],
          [
           143.30342911136617,
           -33.652906847309566,
           64.52964195600872
          ],
          [
           155.92500632436818,
           -33.6529239483921,
           49.48858310444368
          ],
          [
           168.63744532825197,
           -33.65294534250973,
           34.44752128436517
          ],
          [
           181.40731100143952,
           -33.652969712358,
           19.406455853057683
          ],
          [
           194.16953608941054,
           -33.65299553527145,
           4.365386417293033
          ],
          [
           206.86309512906,
           -33.65302118701738,
           -10.675687139934434
          ],
          [
           219.46574413964913,
           -33.653045053942705,
           -25.716764650652323
          ],
          [
           232.02080925553196,
           -33.653065643593585,
           -40.757845673780125
          ],
          [
           244.65467319209455,
           -33.65308168599306,
           -55.798929525688834
          ],
          [
           257.5892697622879,
           -33.65309222112211,
           -70.84001532666667
          ],
          [
           271.15473523199097,
           -33.6530966647673,
           -85.8811020611456
          ],
          [
           285.79944270018666,
           -33.65309484864997,
           -100.92218864724873
          ],
          [
           302.0695544700924,
           -33.65308703208179,
           -115.96327401090514
          ],
          [
           320.47535011460695,
           -33.65307388433985,
           -131.00435715943829
          ],
          [
           341.1185932842503,
           -33.653056438961045,
           -146.045437249609
          ],
          [
           3.1803041169692494,
           -33.653036023077796,
           -161.08651364544045
          ],
          [
           24.983159253789726,
           -33.65301416662763,
           -176.12758596186015
          ],
          [
           45.022465366289836,
           -33.652992497649485,
           168.83134590881915
          ],
          [
           62.77961893162588,
           -33.65297263083242,
           153.79028178942266
          ],
          [
           78.52697939402142,
           -33.652956056948064,
           138.74922122993127
          ],
          [
           92.81066780509602,
           -33.65294404073812,
           123.70816353818495
          ],
          [
           106.15528396643165,
           -33.652937534252054,
           108.66710782719113
          ],
          [
           118.97520867144932,
           -33.652937111573024,
           93.62605307576221
          ],
          [
           131.56829816196242,
           -33.652942929407715,
           78.58499819839014
          ],
          [
           144.12794950795458,
           -33.6529547162451,
           63.5439421195094
          ],
          [
           156.75542610783313,
           -33.65297179083401,
           48.5028838471272
          ],
          [
           169.4731637982676,
           -33.65299310872166,
           33.461822540741665
          ],
          [
           182.2446667185893,
           -33.6530173336736,
           18.420757568900022
          ],
          [
           195.00400436033993,
           -33.6530429290912,
           3.3796885524708755
          ],
          [
           207.69168758740412,
           -33.65306826280078,
           -11.661384611308364
          ],
          [
           220.28905841782878,
           -33.65309171938454,
           -26.70246173775998
          ],
          [
           232.8444362401203,
           -33.65311181111996,
           -41.743542367653404
          ],
          [
           245.49010259730298,
           -33.653127279017525,
           -56.78462580236656
          ],
          [
           258.4546783750419,
           -33.65313717937386,
           -71.82571114966886
          ],
          [
           272.0758434752286,
           -33.653140948453505,
           -86.86679738477768
          ],
          [
           286.80964600635855,
           -33.65313844117183,
           -101.90788342050223
          ],
          [
           303.2059399514723,
           -33.65312994112613,
           -116.94896818167283
          ],
          [
           321.7627535664066,
           -33.653116141283334,
           -131.99005067876945
          ],
          [
           342.53606737464776,
           -33.65309809663895,
           -147.03113007569218
          ],
          [
           4.637132229734805,
           -33.653077152083995,
           -162.07220574704755
          ],
          [
           26.3617605996027,
           -33.653054850411486,
           -177.1132773210258
          ],
          [
           46.25603026546811,
           -33.65303282675731,
           167.84565529507935
          ],
          [
           63.86771354716091,
           -33.65301269669759,
           152.80459190844653
          ],
          [
           79.50171414433674,
           -33.652995945661104,
           137.76353205384655
          ],
          [
           93.70881694536754,
           -33.65298382722735,
           122.72247502541764
          ],
          [
           107.0076699608233,
           -33.65297727727297,
           107.6814199249014
          ],
          [
           119.80481195033926,
           -33.65297684984556,
           92.64036572307954
          ],
          [
           132.3908485262391,
           -33.652982679159265,
           77.59931133017103
          ],
          [
           144.9527756077013,
           -33.65299447031793,
           62.55825567038858
          ],
          [
           157.5862418663701,
           -33.653011519406654,
           47.517197755573854
          ],
          [
           170.3091117340652,
           -33.65303276158283,
           32.4761367528195
          ],
          [
           183.0819565377287,
           -33.653056843880634,
           17.43507204151181
          ],
          [
           195.83813969017064,
           -33.653082217751184,
           2.3940032558327426
          ],
          [
           208.51985867886728,
           -33.65310724482179,
           -12.647069688599162
          ],
          [
           221.1121540287751,
           -33.653130309440535,
           -27.688146591830588
          ],
          [
           233.66840937073945,
           -33.653149929209704,
           -42.729226983375256
          ],
          [
           246.32685599881003,
           -33.65316485607825,
           -57.7703101513122
          ],
          [
           259.3228569904852,
           -33.65317416200673,
           -72.81139519249123
          ],
          [
           273.0016849824134,
           -33.65317730255234,
           -87.85248107431339
          ],
          [
           287.82698758712985,
           -33.653174154215755,
           -102.89356670538326
          ],
          [
           304.35174089596626,
           -33.65316502298745,
           -117.93465101020557
          ],
          [
           323.06003293007996,
           -33.65315062350304,
           -132.97573300280408
          ],
          [
           343.9595877874428,
           -33.65313203022641,
           -148.01681185423428
          ],
          [
           6.092215662786448,
           -33.65311060399722,
           -163.05788694935757
          ],
          [
           27.732064618072414,
           -33.653087898962625,
           -178.09895792899897
          ],
          [
           47.47949965616829,
           -33.65306555625868,
           166.85997528540256
          ],
          [
           64.94722693021976,
           -33.65304519171475,
           151.81891248634832
          ],
          [
           80.47032701247979,
           -33.653028285263936,
           136.77785319440846
          ],
          [
           94.60309477484721,
           -33.653016079628635,
           121.73679669096083
          ],
          [
           107.85793030771228,
           -33.65300949521698,
           106.6957420673107
          ],
          [
           120.63353343888983,
           -33.653009067057624,
           91.65468828682876
          ],
          [
           133.21331665605643,
           -33.653014908094725,
           76.61363425585807
          ],
          [
           145.7779264112656,
           -33.65302670136086,
           61.572578898540684
          ],
          [
           158.41745261659193,
           -33.65304372157143,
           46.531521230447765
          ],
          [
           171.1452752062744,
           -33.65306488466972,
           31.490460425964113
          ],
          [
           183.91916330109476,
           -33.653088821938795,
           16.449395874830934
          ],
          [
           196.67193216969625,
           -33.653113973615675,
           1.4083272239586737
          ],
          [
           209.347614483713,
           -33.65313869630352,
           -13.632745599316502
          ],
          [
           221.9350588485725,
           -33.653161373638774,
           -28.673822380651057
          ],
          [
           234.4927819825479,
           -33.65318052746334,
           -43.714902632627116
          ],
          [
           247.1650155430036,
           -33.653194920471336,
           -58.75598563010833
          ],
          [
           260.19392051508004,
           -33.653203640174894,
           -73.7970704590081
          ],
          [
           273.93240867618664,
           -33.65320616144851,
           -88.83815607883587
          ],
          [
           288.85163426893786,
           -33.65320238256658,
           -103.87924139391062
          ],
          [
           305.50707227465364,
           -33.65319263225898,
           -118.92032532837045
          ],
          [
           324.3670945646792,
           -33.65317764729707,
           -133.9614068998428
          ],
          [
           345.38873206645314,
           -33.65315852213676,
           -149.00248528672842
          ],
          [
           7.545024222714706,
           -33.65313663406168,
           -164.04355988448063
          ],
          [
           29.093807131984555,
           -33.65311354894686,
           -179.08463034705613
          ],
          [
           48.69290466422419,
           -33.65309091409085,
           165.87430338935036
          ],
          [
           66.01831351605351,
           -33.65307034545226,
           150.83324110187417
          ],
          [
           81.43298063568139,
           -33.65305331700964,
           135.79218229618172
          ],
          [
           95.49363420631757,
           -33.653041059821184,
           120.75112624026022
          ],
          [
           108.70616346811363,
           -33.65303447769661,
           105.71007201448548
          ],
          [
           121.46144059623893,
           -33.65303408525846,
           90.66901857454437
          ],
          [
           134.03574271532767,
           -33.65303997263758,
           75.62796482290271
          ],
          [
           146.6034180643815,
           -33.653051799224876,
           60.58690968393488
          ],
          [
           159.2490549763433,
           -33.65306881691222,
           45.545852177563525
          ],
          [
           171.98163853513347,
           -33.6530899212374,
           30.504791486377346
          ],
          [
           184.7562688725472,
           -33.65311372693579,
           15.463727011616776
          ],
          [
           197.5053716399871,
           -33.65313866273126,
           0.42265841420980477
          ],
          [
           210.17496136375703,
           -33.65316307894255,
           -14.618414361396544
          ],
          [
           222.75780135852597,
           -33.65318536068436,
           -29.659491084557626
          ],
          [
           235.31760824838696,
           -33.6532040377348,
           -44.70057125417105
          ],
          [
           248.0046644608176,
           -33.65321788547588,
           -59.7416541317363
          ],
          [
           261.06798515632016,
           -33.65322600886633,
           -74.78273879244553
          ],
          [
           274.8681644562528,
           -33.653227903796335,
           -89.82382418845128
          ],
          [
           289.88375134856057,
           -33.65322349169165,
           -104.86490922058958
          ],
          [
           306.6720397702686,
           -33.65321312499165,
           -119.90599281361838
          ],
          [
           325.68382334503207,
           -33.65319756311938,
           -134.94707398984986
          ],
          [
           346.82305770166784,
           -33.65317792058149,
           -149.9881519361095
          ],
          [
           8.995034211240936,
           -33.65315559074606,
           -165.02922605944468
          ],
          [
           30.446745127900957,
           -33.653132150511,
           179.92970397222376
          ],
          [
           49.89628855355847,
           -33.65310925238548,
           164.8886382073082
          ],
          [
           67.08112960070672,
           -33.653088511370974,
           149.84757640718223
          ],
          [
           82.38983528891943,
           -33.65307139438558,
           134.80651806244643
          ],
          [
           96.3805649439659,
           -33.65305911980238,
           119.7654624277523
          ],
          [
           109.55246485512139,
           -33.653052573983125,
           104.72440857277671
          ],
          [
           122.28859810292235,
           -33.653052250524645,
           89.68335544587215
          ],
          [
           134.85816428771062,
           -33.65305821638334,
           74.64230194604373
          ],
          [
           147.4292643387661,
           -33.65307010720237,
           59.60124699831307
          ],
          [
           160.08104353562334,
           -33.653087152168176,
           44.56018962731965
          ],
          [
           172.81818455825402,
           -33.65310822670055,
           29.51912902411724
          ],
          [
           185.59325429833444,
           -33.65313192937546,
           14.478064601597762
          ],
          [
           198.3384477382401,
           -33.65315667781821,
           -0.5630039652671118
          ],
          [
           211.00190592037296,
           -33.653180816320194,
           -15.604076717358712
          ],
          [
           223.58041055189858,
           -33.65320273049593,
           -30.645153407722102
          ],
          [
           236.1429430456219,
           -33.65322095809505,
           -45.686233519015865
          ],
          [
           248.8458869035784,
           -33.653234287611156,
           -60.72731629925231
          ],
          [
           261.945168221832,
           -33.65324184189528,
           -75.76840081287507
          ],
          [
           275.8091029121071,
           -33.65324313826626,
           -90.80948600476952
          ],
          [
           290.92350207693954,
           -33.65323812163118,
           -105.85057077245365
          ],
          [
           307.8467388824458,
           -33.65322716834468,
           -120.89165404154647
          ],
          [
           327.0100819905171,
           -33.653211060537224,
           -135.93273483930997
          ],
          [
           348.2621034006445,
           -33.6531909326649,
           -150.9738123612529
          ],
          [
           10.441730535561675,
           -33.65316819393332,
           -166.0148860262307
          ],
          [
           31.79065708338582,
           -33.6531444319013,
           178.9440444837293
          ],
          [
           51.0897063649227,
           -33.65312130385807,
           163.90297920161407
          ],
          [
           68.1358333541536,
           -33.653100423406244,
           148.86191787310548
          ],
          [
           83.34104921412712,
           -33.65308325001206,
           133.82085997393688
          ],
          [
           97.2640139299991,
           -33.65307098908239,
           118.77980474570988
          ],
          [
           110.39692731274485,
           -33.65306450940979,
           103.73875124776657
          ],
          [
           123.1150683546663,
           -33.65306428363885,
           88.69769842152127
          ],
          [
           135.6806168918308,
           -33.65307035583333,
           73.65664516290009
          ],
          [
           148.25547718009796,
           -33.65308233836956,
           58.61559039789507
          ],
          [
           160.91341144441083,
           -33.65309943837541,
           43.57453315608403
          ],
          [
           173.6548952558373,
           -33.65312051191204,
           28.533472637072357
          ],
          [
           186.43010045887044,
           -33.65314414219689,
           13.492408265324997
          ],
          [
           199.1711505659678,
           -33.65316873652011,
           -1.5486602703881158
          ],
          [
           211.8284556576901,
           -33.653192635650214,
           -16.58973299494739
          ],
          [
           224.40291658191688,
           -33.65321422639394,
           -31.630809646617344
          ],
          [
           236.96884260703075,
           -33.65323205220906,
           -46.67188969450823
          ],
          [
           249.68876861231797,
           -33.653244913840304,
           -61.7129723736265
          ],
          [
           262.82558880511016,
           -33.6532519510322,
           -76.75405673793523
          ],
          [
           276.7553759713978,
           -33.653252701512585,
           -91.79514172507497
          ],
          [
           291.97104810986065,
           -33.65324713274582,
           -106.83622622906418
          ],
          [
           309.0312550117251,
           -33.65323564427523,
           -121.87730917600541
          ],
          [
           328.34571140043124,
           -33.65321904048723,
           -136.91838959761108
          ],
          [
           349.7053912554412,
           -33.65319847565334,
           -151.95946669752405
          ],
          [
           11.8846092175257,
           -33.6531753750058,
           -167.00053990587406
          ],
          [
           33.12534338140116,
           -33.653151337243614,
           177.95839108164154
          ],
          [
           52.27322455037802,
           -33.653128025137825,
           162.91732628286837
          ],
          [
           69.18258472203487,
           -33.65310705172278,
           147.87626542789246
          ],
          [
           84.28677874783457,
           -33.65308986986229,
           132.83520797744382
          ],
          [
           98.1441055293475,
           -33.65307767275191,
           117.79415315975059
          ],
          [
           111.23964128747402,
           -33.65307131217126,
           102.75310002330282
          ],
          [
           123.9409116077061,
           -33.653071240087314,
           87.71204750195076
          ],
          [
           136.50313410651304,
           -33.65307747761224,
           72.6709944878598
          ],
          [
           149.0820668228999,
           -33.65308961344831,
           57.629939907336684
          ],
          [
           161.74615052249607,
           -33.65310683193472,
           42.58888279434152
          ],
          [
           174.49175185120114,
           -33.65312796878383,
           27.547822356658482
          ],
          [
           187.26678814718304,
           -33.653151590700126,
           12.50675803017393
          ],
          [
           200.00347073272988,
           -33.65317609343744,
           -2.5343104824394502
          ],
          [
           212.65461900499486,
           -33.65319981207714,
           -17.57538319147059
          ],
          [
           225.22535078781934,
           -33.653221134301376,
           -32.6164598193119
          ],
          [
           237.79536456492755,
           -33.653238610197356,
           -47.65753981897277
          ],
          [
           250.53339699163917,
           -33.65325105274699,
           -62.698622411822114
          ],
          [
           263.7093678833683,
           -33.653257618825606,
           -77.73970664071112
          ],
          [
           277.70713696463895,
           -33.653257867054585,
           -92.78079143545462
          ],
          [
           293.02654938074426,
           -33.653251788163786,
           -107.82187568607769
          ],
          [
           310.22566301045043,
           -33.65323980577691,
           -122.86295831880891
          ],
          [
           329.69053063261066,
           -33.65322274755434,
           -137.90403836961448
          ],
          [
           351.1524287317449,
           -33.65320178865935,
           -152.94511505025557
          ],
          [
           13.32317966487463,
           -33.653178371410476,
           -167.9861878023151
          ],
          [
           34.45062664364663,
           -33.653154106612504,
           176.97274366448613
          ],
          [
           53.44692076425178,
           -33.653130663317825,
           161.93167935232876
          ],
          [
           70.22154557748365,
           -33.65310965456302,
           146.8906189750464
          ],
          [
           85.22717872908684,
           -33.653092526903464,
           131.84956197763594
          ],
          [
           99.02096201182918,
           -33.653080461312854,
           116.80850757417572
          ],
          [
           112.08069531169787,
           -33.65307429223716,
           101.76745480156416
          ],
          [
           124.76618645061525,
           -33.65307445035199,
           86.72640258541225
          ],
          [
           137.32574803990218,
           -33.653080932951774,
           71.68534981358135
          ],
          [
           149.9090422711627,
           -33.653093304006724,
           56.64429541232262
          ],
          [
           162.57925176191375,
           -33.653110723893796,
           41.60323841981399
          ],
          [
           175.32873533494583,
           -33.653132006774456,
           26.562178052053184
          ],
          [
           188.10329860416218,
           -33.653155701699575,
           11.521113756605958
          ],
          [
           200.83539988867855,
           -33.653180191893625,
           -3.5199547495022396
          ],
          [
           213.48040582360292,
           -33.65320380460874,
           -18.56102745941308
          ],
          [
           226.047746161135,
           -33.65322492737155,
           -33.60210407817025
          ],
          [
           238.62256837887304,
           -33.65324211848659,
           -48.643184043564624
          ],
          [
           251.3798614949092,
           -33.653254204029714,
           -63.68426656265948
          ],
          [
           264.5966286349891,
           -33.65326035910333,
           -78.72535066677446
          ],
          [
           278.66454079231806,
           -33.65326016441601,
           -93.76643527777092
          ],
          [
           294.0901639295418,
           -33.653253635110225,
           -108.80751928182102
          ],
          [
           311.430026544813,
           -33.65324121985695,
           -123.84860160566366
          ],
          [
           331.044336638098,
           -33.6532237702704,
           -138.88968129009496
          ],
          [
           352.6027103159596,
           -33.65320248272945,
           -153.93075755566673
          ],
          [
           14.756966310086614,
           -33.65317881658062,
           -168.97182985610524
          ],
          [
           35.766351457951366,
           -33.65315439431576,
           175.98710208422727
          ],
          [
           54.610883203531294,
           -33.65313089055295,
           160.9460382513785
          ],
          [
           71.25287947773059,
           -33.65310991741792,
           145.90497834268137
          ],
          [
           86.16240252420292,
           -33.65309291417086,
           130.86392178738873
          ],
          [
           99.89470365074321,
           -33.65308104863608,
           115.8228677856649
          ],
          [
           112.9201760936628,
           -33.65307513718505,
           100.78181536327469
          ],
          [
           125.59094986425649,
           -33.65307558875621,
           85.74076343822036
          ],
          [
           138.14848936199093,
           -33.65308237675033,
           70.69971089478076
          ],
          [
           150.73641131400325,
           -33.65309504073381,
           55.65865665987413
          ],
          [
           163.41270533515197,
           -33.653112717841594,
           40.6175997765306
          ],
          [
           176.16582646779096,
           -33.653134201739654,
           25.576539469431218
          ],
          [
           188.93961351112716,
           -33.65315802511804,
           10.53547519803991
          ],
          [
           201.66693070234277,
           -33.65318256007503,
           -4.50559330632807
          ],
          [
           214.30582738478776,
           -33.6532061291347,
           -19.54666602179532
          ],
          [
           226.870137345112,
           -33.6532271208395,
           -34.58774263760849
          ],
          [
           239.45051536715917,
           -33.65324410023026,
           -49.628822575653935
          ],
          [
           252.22825369167808,
           -33.65325590627684,
           -64.66990502946064
          ],
          [
           265.4874965242311,
           -33.65326173180791,
           -79.71098901951048
          ],
          [
           279.6277439471988,
           -33.65326117887478,
           -94.75207346026247
          ],
          [
           295.162047673164,
           -33.65325428611876,
           -109.79315723442848
          ],
          [
           312.6443975029563,
           -33.653241526258654,
           -124.834239269469
          ],
          [
           332.4069042084295,
           -33.65322377386239,
           -139.87531861102732
          ],
          [
           354.05571937429085,
           -33.65320224559943,
           -154.91639448830838
          ],
          [
           16.185510145425603,
           -33.65317841705529,
           -169.9574663669001
          ],
          [
           37.07238392345713,
           -33.65315392179617,
           175.00146601455802
          ],
          [
           55.765209784101856,
           -33.65313043958683,
           159.96040262640696
          ],
          [
           72.2767512261329,
           -33.653109581411414,
           144.91934314990735
          ],
          [
           87.092601847282,
           -33.65309277916675,
           129.87828699896397
          ],
          [
           100.76544864506785,
           -33.653081187581435,
           114.83723336017684
          ],
          [
           113.75816848483322,
           -33.65307560507935,
           99.79618124845065
          ],
          [
           126.41525722798933,
           -33.65307641901163,
           84.75512957438592
          ],
          [
           138.9713873593833,
           -33.6530835790151,
           69.71407721883004
          ],
          [
           151.56418063987869,
           -33.65309660033113,
           54.67302310948721
          ],
          [
           164.24650077237158,
           -33.6531145968683,
           39.631966294354356
          ],
          [
           177.0030060125423,
           -33.653136341755996,
           24.590906006934922
          ],
          [
           189.77571525983214,
           -33.65316035125343,
           9.5498417187845
          ],
          [
           202.4980571546011,
           -33.653184986277054,
           -5.491226824229558
          ],
          [
           215.13089667779906,
           -33.653208565530804,
           -20.532299585248406
          ],
          [
           227.69256096089973,
           -33.653229478370235,
           -35.57337623773969
          ],
          [
           240.2792690713606,
           -33.65324629562272,
           -50.61445618687798
          ],
          [
           253.07866768760144,
           -33.6532578694812,
           -65.65553861198299
          ],
          [
           266.3820997707544,
           -33.65326341121548,
           -80.69662252203968
          ],
          [
           280.5969049609445,
           -33.653262545328786,
           -95.73770682355072
          ],
          [
           296.2423546383641,
           -33.65325533542078,
           -110.77879039542488
          ],
          [
           313.86881591909327,
           -33.653242279973114,
           -125.8198721657823
          ],
          [
           333.7779865446608,
           -33.65322427833632,
           -140.8609511854203
          ],
          [
           355.51093055008516,
           -33.65320256923758,
           -155.90202669289164
          ],
          [
           17.60837045387746,
           -33.65317864601384,
           -170.94309816673615
          ],
          [
           38.36861133603585,
           -33.653154154370995,
           174.01583463870762
          ],
          [
           56.910007479549584,
           -33.653130779669105,
           158.97477167639198
          ],
          [
           73.29332655350659,
           -33.65311013145537,
           143.93371260968672
          ],
          [
           88.01792665305837,
           -33.65309363315576,
           128.8926568353622
          ],
          [
           101.6333130771338,
           -33.65308242448759,
           113.8516035248472
          ],
          [
           114.59475544734661,
           -33.65307728328424,
           98.81055168093555
          ],
          [
           127.2391622861864,
           -33.6530785720963,
           83.76950020606675
          ],
          [
           139.79446990507475,
           -33.653086213236655,
           68.72844797751044
          ],
          [
           152.3923558169771,
           -33.65309969398855,
           53.68739392429181
          ],
          [
           165.08062695591514,
           -33.65311810162955,
           38.64633710059024
          ],
          [
           177.84025473787773,
           -33.653140185879934,
           23.605276750593017
          ],
          [
           190.61158695417785,
           -33.653164444504164,
           8.564212360335112
          ],
          [
           203.3287745280387,
           -33.65318922620536,
           -6.476856307015816
          ],
          [
           215.95562838618983,
           -33.65321284394763,
           -21.51792919456122
          ],
          [
           228.5150555742636,
           -33.65323369017377,
           -36.559005956156206
          ],
          [
           241.10889521090624,
           -33.65325034704242,
           -51.60008597991167
          ],
          [
           253.93120005181737,
           -33.65326168404847,
           -66.6411684295285
          ],
          [
           267.2805692038753,
           -33.653266935402904,
           -81.68225230189694
          ],
          [
           281.57218406702106,
           -33.65326575262082,
           -96.72333649582022
          ],
          [
           297.33123620667783,
           -33.65325822851722,
           -111.76441988747804
          ],
          [
           315.1033087449772,
           -33.653244890957446,
           -126.80550140747006
          ],
          [
           335.15731468905716,
           -33.65322666678321,
           -141.84658011413305
          ],
          [
           356.9678110761075,
           -33.65320481837893,
           -156.88765525813622
          ],
          [
           19.025125519939213,
           -33.65318085722051,
           -171.92872633389473
          ],
          [
           39.654941274617435,
           -33.65315644032707,
           173.03020688570837
          ],
          [
           58.04539143259336,
           -33.65313325671101,
           157.98914433368736
          ],
          [
           74.30277174127754,
           -33.65311291160776,
           142.94808565346793
          ],
          [
           88.93852503525657,
           -33.65309681642222,
           127.90703022326244
          ],
          [
           102.49841088903682,
           -33.65308609193731,
           112.86597719862796
          ],
          [
           115.43001802754114,
           -33.65308149142364,
           97.82492557029607
          ],
          [
           128.06271709790383,
           -33.65308334892615,
           82.78387423331615
          ],
          [
           140.61776338905392,
           -33.65309155627783,
           67.74282206276588
          ],
          [
           153.22094121909902,
           -33.65310557042354,
           52.701767990857356
          ],
          [
           165.91507205410227,
           -33.653124450557556,
           37.660711080134895
          ],
          [
           178.67755336298018,
           -33.653146922535825,
           22.619650587756922
          ],
          [
           191.4472123584131,
           -33.653171466152756,
           7.57858601645374
          ],
          [
           204.1590793481109,
           -33.65319641930372,
           -7.462482851342507
          ],
          [
           216.7800388175309,
           -33.65322009166298,
           -22.503555937619748
          ],
          [
           229.33766161467287,
           -33.65324088134652,
           -37.544632875746885
          ],
          [
           241.93946158943677,
           -33.65325738423817,
           -52.58571303583263
          ],
          [
           254.78594970052566,
           -33.65326848985008,
           -67.62679556598056
          ],
          [
           268.18303808759083,
           -33.65327345783294,
           -82.66787945149416
          ],
          [
           282.5537428632798,
           -33.65327196880325,
           -97.70896358440989
          ],
          [
           298.4288404109449,
           -33.65326414632629,
           -112.75004683942457
          ],
          [
           316.3478887918365,
           -33.653250548542324,
           -127.79112815103696
          ],
          [
           336.5445973473508,
           -33.65323213000378,
           -142.83220658660207
          ],
          [
           358.42582248262573,
           -33.65321017633198,
           -157.87328141029724
          ],
          [
           20.435373497310458,
           -33.65318621616763,
           -172.91435213360518
          ],
          [
           40.93130082259336,
           -33.6531619164452,
           172.04458145113932
          ],
          [
           59.171484170278845,
           -33.65313896816581,
           157.00351925645012
          ],
          [
           75.3052532665836,
           -33.65311897049685,
           141.96246090561615
          ],
          [
           89.85454309829045,
           -33.65310332114193,
           126.92140575845397
          ],
          [
           103.36085382828306,
           -33.653093120496536,
           111.88035295512624
          ],
          [
           116.26403532536789,
           -33.653089096162375,
           96.8393014750176
          ],
          [
           128.88597202662854,
           -33.65309155299779,
           81.79825020664951
          ],
          [
           141.44129274021003,
           -33.65310035213384,
           66.75719802383392
          ],
          [
           154.04994009271277,
           -33.65311492039963,
           51.71614386284809
          ],
          [
           166.74982363904059,
           -33.653134289517666,
           36.67508679535103
          ],
          [
           179.514882720425,
           -33.65315716238852,
           21.63402609202697
          ],
          [
           192.28257609284148,
           -33.653182001927085,
           6.592961272610878
          ],
          [
           204.98896960391215,
           -33.653207136366035,
           -8.448107861156691
          ],
          [
           217.60414615118555,
           -33.65323087378987,
           -23.489181212871898
          ],
          [
           230.1604216617823,
           -33.653251618130014,
           -38.53025839609722
          ],
          [
           242.77103843686908,
           -33.65326797859849,
           -53.571338760809674
          ],
          [
           255.64301830239685,
           -33.65327886500199,
           -68.61242143983179
          ],
          [
           269.0896425642457,
           -33.65328356253868,
           -83.65350540723794
          ],
          [
           283.5417446844938,
           -33.65328178086168,
           -98.69458954865233
          ],
          [
           299.5353120056258,
           -33.65327367405792,
           -113.73567273761954
          ],
          [
           317.6025544881387,
           -33.65325983016879,
           -128.77675391281142
          ],
          [
           337.9395215404513,
           -33.653241230965094,
           -143.81783215080358
          ],
          [
           359.8844228255627,
           -33.65321918472711,
           -158.85890672938876
          ],
          [
           21.838733325676124,
           -33.65319523663416,
           -173.89997717712225
          ],
          [
           42.19763572630692,
           -33.65317106290058,
           171.0589566943125
          ],
          [
           60.288414732252456,
           -33.65314835591198,
           156.01789477714203
          ],
          [
           76.30093733551668,
           -33.6531287082333,
           140.97683667482863
          ],
          [
           90.76612472391,
           -33.65311350343847,
           125.93578172919452
          ],
          [
           104.22075131473531,
           -33.653103821245345,
           110.89472906547707
          ],
          [
           117.09688441253124,
           -33.65310036345992,
           95.8536776522343
          ],
          [
           129.7089756973503,
           -33.653103405809375,
           80.81262637200219
          ],
          [
           142.26508142209943,
           -33.65311277896868,
           65.77157409785566
          ],
          [
           154.87935459281812,
           -33.65312788008616,
           50.73051977063194
          ],
          [
           167.58486875911336,
           -33.65314771402277,
           35.68946247151748
          ],
          [
           180.35222385408878,
           -33.65317096148306,
           20.648401485040587
          ],
          [
           193.1176637425146,
           -33.653196069372946,
           5.607336348122613
          ],
          [
           205.81844485854018,
           -33.65322135719437,
           -9.43373311814987
          ],
          [
           218.42797054669126,
           -33.65324513178769,
           -24.47480679724811
          ],
          [
           230.98338055460152,
           -33.65326580409789,
           -39.515884282962276
          ],
          [
           243.60369852473548,
           -33.65328199827335,
           -54.55696490751643
          ],
          [
           256.50251039075135,
           -33.65329264508325,
           -69.59804778925354
          ],
          [
           270.0005217148702,
           -33.653297055580275,
           -84.6391318919477
          ],
          [
           284.53635447149054,
           -33.65329496835105,
           -99.6802160957867
          ],
          [
           300.6507918916061,
           -33.65328656747513,
           -114.72129927410457
          ],
          [
           318.86728890043156,
           -33.65327246996011,
           -129.76238037059068
          ],
          [
           339.34175256235284,
           -33.65325368350915,
           -144.80345847168078
          ],
          [
           1.3430681616455507,
           -33.65323153751349,
           -159.8445328691766
          ],
          [
           23.234844870417877,
           -33.653207591994175,
           -174.8856031088036
          ],
          [
           43.453909061129906,
           -33.65318353073168,
           170.07333097863108
          ],
          [
           61.39631750027648,
           -33.6531610459034,
           155.0322692656066
          ],
          [
           77.28998916678296,
           -33.65314172213354,
           139.9912113365905
          ],
          [
           91.67341107964684,
           -33.65312692789906,
           124.95015651646938
          ],
          [
           105.07821001621045,
           -33.65311772173346,
           109.9091039167702
          ],
          [
           117.92863991352684,
           -33.653114779656015,
           94.86805249650497
          ],
          [
           130.531774566245,
           -33.65311834880025,
           79.82700113347057
          ],
          [
           143.08915099270087,
           -33.653128230422254,
           64.7859487011203
          ],
          [
           155.70918534000685,
           -33.65314379345497,
           49.74489414573687
          ],
          [
           168.4201934974791,
           -33.65316401768371,
           34.70383655863689
          ],
          [
           181.18955757496494,
           -33.65318756358781,
           19.662775238433277
          ],
          [
           193.95246140035667,
           -33.65321286406641,
           4.621709739112076
          ],
          [
           206.64750577121595,
           -33.65323823176629,
           -10.419360099378585
          ],
          [
           219.2515336499421,
           -33.65326197448455,
           -25.460434138816215
          ],
          [
           231.80658489122817,
           -33.653282511321876,
           -40.50151195459763
          ],
          [
           244.43751665840352,
           -33.65329848125323,
           -55.542592864936566
          ],
          [
           257.3645328330285,
           -33.65330883595978,
           -70.58367597499533
          ],
          [
           270.9158169528014,
           -33.653312911795396,
           -85.62476023945788
          ],
          [
           285.53773794814305,
           -33.65331047528017,
           -100.66584453413523
          ],
          [
           301.7754158403437,
           -33.6533017391296,
           -115.70692773297769
          ],
          [
           320.1420581396412,
           -33.65328734771782,
           -130.7480087852258
          ],
          [
           340.7509335478339,
           -33.653268332968274,
           -145.78908678740655
          ],
          [
           2.8012136783337835,
           -33.65324604369104,
           -160.83016104524384
          ],
          [
           24.623368719912563,
           -33.65322205320498,
           -175.87123112125246
          ],
          [
           44.70009977184572,
           -33.653198051570094,
           169.0877031352648
          ],
          [
           62.49533100811428,
           -33.65317572981201,
           154.04664157785373
          ],
          [
           78.27257226331076,
           -33.6531566640672,
           139.00558377291122
          ],
          [
           92.57654011335103,
           -33.653142207585574,
           123.96452902934753
          ],
          [
           105.93333342044512,
           -33.65313339798843,
           108.92347644589731
          ],
          [
           118.75937360544454,
           -33.65313088613608,
           93.88242497282477
          ],
          [
           131.35441254092845,
           -33.65313489147994,
           78.84137348381893
          ],
          [
           143.9135207528681,
           -33.6531451869599,
           63.80032085312612
          ],
          [
           156.53943110708136,
           -33.653161114485826,
           48.75926603266816
          ],
          [
           169.25578270045153,
           -33.65318162994599,
           33.7182081238475
          ],
          [
           182.02686422473823,
           -33.65320537466398,
           18.677146439117852
          ],
          [
           194.78695545398426,
           -33.65323076841338,
           3.6360805491130628
          ],
          [
           207.47615389964798,
           -33.65325611762211,
           -11.404989687894654
          ],
          [
           220.07485841805584,
           -33.653279731819225,
           -26.446064118252192
          ],
          [
           232.6300828888612,
           -33.65330003840364,
           -41.487142299727736
          ],
          [
           245.27256957840552,
           -33.653315690453574,
           -56.528223531361945
          ],
          [
           258.2291947669368,
           -33.65332566000595,
           -71.56930690541564
          ],
          [
           271.8356719501913,
           -33.653329308052456,
           -86.61039136759398
          ],
          [
           286.54606140402683,
           -33.65332642837512,
           -101.65147578925946
          ],
          [
           302.9093139107121,
           -33.65331726173875,
           -116.69255904473557
          ],
          [
           321.4268106166513,
           -33.653302479461914,
           -131.7336400884407
          ],
          [
           342.166686100332,
           -33.65328313748685,
           -146.77471802653417
          ],
          [
           4.258315793457435,
           -33.653260604089695,
           -161.81579217818063
          ],
          [
           26.00398679152316,
           -33.65323646617855,
           -176.85686212223658
          ],
          [
           45.936202075008424,
           -33.653212420594926,
           168.10207227384925
          ],
          [
           63.58559759984549,
           -33.65319015786259,
           153.06101084490635
          ],
          [
           79.24884847355199,
           -33.65317124634692,
           138.01995313930607
          ],
          [
           93.47564679630261,
           -33.653157024760695,
           122.97889844984824
          ],
          [
           106.78622213449138,
           -33.65314851038204,
           107.93784586217326
          ],
          [
           119.5891547340542,
           -33.653146329275685,
           92.89679431736502
          ],
          [
           132.17693130847286,
           -33.65315067330216,
           77.8557426844794
          ],
          [
           144.73820809178977,
           -33.65316128686569,
           62.81468983801521
          ],
          [
           157.37008918633452,
           -33.65317748431491,
           47.77363473503746
          ],
          [
           170.09162036229083,
           -33.65319819681105,
           32.732576486650416
          ],
          [
           182.86412406290881,
           -33.65322204545918,
           17.691514418945296
          ],
          [
           195.62113295524955,
           -33.65324743569877,
           2.650448119226803
          ],
          [
           208.30439203754986,
           -33.65327266649158,
           -12.390622535641299
          ],
          [
           220.8979693975895,
           -33.653296047055136,
           -27.431697370574106
          ],
          [
           233.45392458258277,
           -33.65331601256122,
           -42.47277592462541
          ],
          [
           246.10893608037708,
           -33.653331230764586,
           -57.51385748231601
          ],
          [
           259.0966076255422,
           -33.65334069392578,
           -72.55494112225605
          ],
          [
           272.7602325071011,
           -33.65334378783409,
           -87.59602578039318
          ],
          [
           287.5614912482544,
           -33.653340333996425,
           -102.6371103228723
          ],
          [
           304.05260945077697,
           -33.653330601984635,
           -117.67819362370605
          ],
          [
           322.72147576306537,
           -33.653315291087246,
           -132.71927464191134
          ],
          [
           343.588610360747,
           -33.65329548251225,
           -147.76035249287335
          ],
          [
           5.713833491115526,
           -33.65327256540652,
           -162.8014265089866
          ],
          [
           27.376402091591302,
           -33.65324814175306,
           -177.8424962854706
          ],
          [
           47.1622242040372,
           -33.653223916654156,
           167.11643829182924
          ],
          [
           64.66726252577682,
           -33.65320158151432,
           152.0753770385305
          ],
          [
           80.21897749039705,
           -33.65318269812417,
           137.03431948427186
          ],
          [
           94.37086276730656,
           -33.65316859158768,
           121.99326490485215
          ],
          [
           107.63697352443866,
           -33.65316025943229,
           106.95221237178879
          ],
          [
           120.41804958877859,
           -33.653158303135086,
           91.91116081588103
          ],
          [
           132.99936982474597,
           -33.65316288676392,
           76.87010910043723
          ],
          [
           145.56322788647694,
           -33.65317372557707,
           61.82905609915661
          ],
          [
           158.2011547011161,
           -33.65319010537291,
           46.78800077331849
          ],
          [
           170.92768884962507,
           -33.653210931274174,
           31.74694224300192
          ],
          [
           183.70131640035441,
           -33.653234802615145,
           16.705879847453417
          ],
          [
           196.45498065806675,
           -33.653260108809405,
           1.6648131904473202
          ],
          [
           209.1322231563393,
           -33.65328513963655,
           -13.376257832449697
          ],
          [
           221.72089160445034,
           -33.65330820229489,
           -28.41733302576899
          ],
          [
           234.2781606760965,
           -33.653327737796594,
           -43.45841190904682
          ],
          [
           246.94669582880354,
           -33.65334242751608,
           -58.49949374968972
          ],
          [
           259.9668838840769,
           -33.653351283481484,
           -73.54057761139809
          ],
          [
           273.6896451536326,
           -33.653353716359895,
           -88.58166241907087
          ],
          [
           288.584192295331,
           -33.65334957598668,
           -103.6227470324141
          ],
          [
           305.20541685366857,
           -33.65333916181654,
           -118.66383032405086
          ],
          [
           324.02596166693013,
           -33.65332320256747,
           -133.704911256773
          ],
          [
           345.0162843112009,
           -33.65330280644108,
           -148.74598895464322
          ],
          [
           7.167229044360649,
           -33.653279385318456,
           -163.7870627630716
          ],
          [
           28.74033810195631,
           -33.65325455811628,
           -178.8281322937519
          ],
          [
           48.37818716714906,
           -33.65323003991756,
           166.13080254864744
          ],
          [
           65.74047327329386,
           -33.65320752446966,
           151.08974155984367
          ],
          [
           81.18311670436955,
           -33.65318856809851,
           136.0486842498402
          ],
          [
           95.2623164281926,
           -33.65317448299598,
           121.00762987641313
          ],
          [
           108.48568190217657,
           -33.65316624719623,
           105.96657749588594
          ],
          [
           121.24612172270893,
           -33.653164437417736,
           90.92552602774191
          ],
          [
           133.82176454935131,
           -33.65316918938238,
           75.88447432863053
          ],
          [
           146.3885927478054,
           -33.653180188341786,
           60.84342127071014
          ],
          [
           159.03262086132528,
           -33.65319669047321,
           45.802365818964404
          ],
          [
           171.76396915918502,
           -33.65321757369008,
           30.76130710217822
          ],
          [
           184.53841984492644,
           -33.6532414143976,
           15.720244472728806
          ],
          [
           197.28848523706893,
           -33.65326658494316,
           0.6791775510649664
          ],
          [
           209.95965059126624,
           -33.65329136509113,
           -14.361893748158197
          ],
          [
           222.54365066448915,
           -33.653314060022005,
           -29.402969210145177
          ],
          [
           235.10284263132374,
           -33.653333115963775,
           -44.44404833447598
          ],
          [
           247.78592940950386,
           -33.65334722720092,
           -59.485130369193996
          ],
          [
           260.84013707641725,
           -33.65335542585906,
           -74.52621436238836
          ],
          [
           274.6240570923714,
           -33.65335714814369,
           -89.56729922732316
          ],
          [
           289.61432751056736,
           -33.65335227312948,
           -104.60838381687373
          ],
          [
           306.3678409635932,
           -33.653341131206936,
           -119.64946700211087
          ],
          [
           325.3401546743598,
           -33.653324481597934,
           -134.69054774967557
          ],
          [
           346.44926534552246,
           -33.65330346046934,
           -149.73162519263
          ],
          [
           8.617970838800797,
           -33.65327950319346,
           -164.77269868991553
          ],
          [
           30.09553998472618,
           -33.65325424607368,
           -179.81376787035498
          ],
          [
           49.584125124269185,
           -33.65322941426657,
           165.14516734183158
          ],
          [
           66.80538024148974,
           -33.65320670357805,
           150.10410672175576
          ],
          [
           82.1414221419005,
           -33.65318766423427,
           135.06304975918823
          ],
          [
           96.1501339287852,
           -33.653173594594804,
           120.02199569345427
          ],
          [
           109.3324394554285,
           -33.65316545209657,
           104.98094356549784
          ],
          [
           122.07343279930471,
           -33.65316378753841,
           89.93989228357016
          ],
          [
           134.6441502063541,
           -33.65316870721711,
           74.89884069801815
          ],
          [
           147.21431369831728,
           -33.65317986551892,
           59.8577876800729
          ],
          [
           159.8644795584081,
           -33.653196488482784,
           44.8167321992267
          ],
          [
           172.60044142241273,
           -33.65321742672972,
           29.775673393896877
          ],
          [
           185.37541270141412,
           -33.653241234137965,
           14.734610630532533
          ],
          [
           198.12163357043264,
           -33.6532662668794,
           -0.30645645288481244
          ],
          [
           210.78667820593543,
           -33.65329079603379,
           -15.347527921945268
          ],
          [
           223.3662728752215,
           -33.65331312557034,
           -30.38860353969386
          ],
          [
           235.92802265119175,
           -33.65333170957872,
           -45.42968278549223
          ],
          [
           248.62671825454578,
           -33.65334525840724,
           -60.470764891040886
          ],
          [
           261.71648167195224,
           -33.653352826023934,
           -75.511848889922
          ],
          [
           275.56361600041765,
           -33.6533538754042,
           -90.55293368521849
          ],
          [
           290.6520576315823,
           -33.653348315438485,
           -105.59401812463663
          ],
          [
           307.53997642079844,
           -33.65333650729292,
           -120.63510107944919
          ],
          [
           326.663919115297,
           -33.65331923978021,
           -135.67618152182544
          ],
          [
           347.88709215529605,
           -33.65329767542279,
           -150.7172585952841
          ],
          [
           10.065536348400562,
           -33.653273270898346,
           -165.75833167340238
          ],
          [
           31.441775842759874,
           -33.653247677313544,
           179.200599597221
          ],
          [
           50.78008586494604,
           -33.65322262713603,
           164.1595352726944
          ],
          [
           67.8621374725213,
           -33.65319981552926,
           149.11847510793956
          ],
          [
           83.09404939012038,
           -33.653180784219735,
           134.07741857342194
          ],
          [
           97.0344400874311,
           -33.65316681585431,
           119.03636489137793
          ],
          [
           110.17733708263013,
           -33.65315884608731,
           103.99531308905729
          ],
          [
           122.90004332945914,
           -33.65315739942404,
           88.95426206532413
          ],
          [
           135.4665604355219,
           -33.65316255322086,
           73.91321066607797
          ],
          [
           148.04040075495217,
           -33.653173932312264,
           58.87215776331252
          ],
          [
           160.6967218932313,
           -33.65319073464009,
           43.831102332394906
          ],
          [
           173.43708538286148,
           -33.65321178613324,
           28.790043522291263
          ],
          [
           186.2122733937861,
           -33.653235621084384,
           13.748980713901286
          ],
          [
           198.9544131011237,
           -33.653260582521284,
           -1.2920864374792602
          ],
          [
           211.61331069507148,
           -33.65328493570036,
           -16.333157978484213
          ],
          [
           224.18878547385742,
           -33.6533069867834,
           -31.374233654617157
          ],
          [
           236.7537539456391,
           -33.653325199367785,
           -46.415312927162006
          ],
          [
           249.4691449320167,
           -33.653338299595596,
           -61.45639501021409
          ],
          [
           262.5960334074138,
           -33.65334536315267,
           -76.49747892478733
          ],
          [
           276.50847038692496,
           -33.65334587887186,
           -91.53856356560762
          ],
          [
           291.69754145457745,
           -33.65333978384553,
           -106.57964777679787
          ],
          [
           308.72190779641267,
           -33.65332746783965,
           -121.62073043104809
          ],
          [
           327.99709798687155,
           -33.65330974670132,
           -136.66181050683554
          ],
          [
           349.32928759010747,
           -33.65328780657587,
           -151.70288715842085
          ],
          [
           11.50941564138408,
           -33.65326312274867,
           -166.743959773812
          ],
          [
           32.778838181460024,
           -33.65323735866678,
           178.21497198327197
          ],
          [
           51.966131380695955,
           -33.65321225205343,
           163.17390815031436
          ],
          [
           68.91090338290061,
           -33.653189495912926,
           148.13284846337572
          ],
          [
           84.04115447634094,
           -33.65317062257661,
           133.09179237511748
          ],
          [
           97.91535928108418,
           -33.653156898731844,
           118.05073909223795
          ],
          [
           111.02046525292981,
           -33.65314923862635,
           103.00968762975533
          ],
          [
           123.72601351405827,
           -33.65314814139609,
           87.96863687843957
          ],
          [
           136.28902864472428,
           -33.65315365681394,
           72.92758568076434
          ],
          [
           148.86686381738653,
           -33.65316538181104,
           57.8865329101714
          ],
          [
           161.52933911759132,
           -33.65318248801458,
           42.84547754824462
          ],
          [
           174.2738813947948,
           -33.65320377842282,
           27.80441875448509
          ],
          [
           187.04898151374334,
           -33.653227769341115,
           12.763355923907275
          ],
          [
           199.7868129274976,
           -33.653252791972,
           -2.2777112714696486
          ],
          [
           212.43955471977839,
           -33.65327710670528,
           -17.318782860106015
          ],
          [
           225.01121781916038,
           -33.653299022552794,
           -32.35985856935739
          ],
          [
           237.58009197093557,
           -33.65331701229096,
           -47.40093784342218
          ],
          [
           250.3132944686886,
           -33.6533298173502,
           -62.44201988105118
          ],
          [
           263.47891070303825,
           -33.65333653466183,
           -77.48310369129909
          ],
          [
           277.45877105955634,
           -33.65333667830106,
           -92.52418816101303
          ],
          [
           292.75093719321706,
           -33.653330212877044,
           -107.5652721310787
          ],
          [
           309.91371066940184,
           -33.653317556063314,
           -122.60635447582156
          ],
          [
           329.33951435195394,
           -33.65329955008823,
           -137.64743418015013
          ],
          [
           350.7753617476045,
           -33.65327740413313,
           -152.6885104091216
          ],
          [
           12.94911427889161,
           -33.65325261157742,
           -167.72958256518885
          ],
          [
           34.10654431152775,
           -33.6532268477559,
           177.2293496708085
          ],
          [
           53.142337306604496,
           -33.65320185522917,
           162.1882863177188
          ],
          [
           69.95184036177177,
           -33.65317932442501,
           147.1472270927249
          ],
          [
           84.98289364956389,
           -33.653160777827445,
           132.1061714306531
          ],
          [
           98.79301529113091,
           -33.65314746564902,
           117.06511852264066
          ],
          [
           111.86191387203735,
           -33.65314028013635,
           102.02406737148878
          ],
          [
           124.5514031302061,
           -33.653139694383796,
           86.98301685994866
          ],
          [
           137.11158793251622,
           -33.65314572985278,
           71.94196582722957
          ],
          [
           149.69371264702653,
           -33.653157954827726,
           56.90091314851538
          ],
          [
           162.36232268689173,
           -33.65317551392054,
           41.859857812026384
          ],
          [
           175.110810558141,
           -33.65319718660928,
           26.818798988353535
          ],
          [
           187.88551803692212,
           -33.65322147080545,
           11.777736087309666
          ],
          [
           200.61882409614003,
           -33.653246685729634,
           -3.2633312015904576
          ],
          [
           213.26541927554365,
           -33.653271087051074,
           -18.304402887814312
          ]
         ],
         "hovertemplate": "<b>%{hovertext}</b><br><br>datetime=%{x}<br>elevation=%{y}<br>azimuth=%{customdata[0]}<br>latitude=%{customdata[1]}<br>longitude=%{customdata[2]}<extra></extra>",
         "hovertext": [
          "2014-01-01T23:30:00",
          "2014-01-02T00:30:00",
          "2014-01-02T01:30:00",
          "2014-01-02T02:30:00",
          "2014-01-02T03:30:00",
          "2014-01-02T04:30:00",
          "2014-01-02T05:30:00",
          "2014-01-02T06:30:00",
          "2014-01-02T07:30:00",
          "2014-01-02T08:30:00",
          "2014-01-02T09:30:00",
          "2014-01-02T10:30:00",
          "2014-01-02T11:30:00",
          "2014-01-02T12:30:00",
          "2014-01-02T13:30:00",
          "2014-01-02T14:30:00",
          "2014-01-02T15:30:00",
          "2014-01-02T16:30:00",
          "2014-01-02T17:30:00",
          "2014-01-02T18:30:00",
          "2014-01-02T19:30:00",
          "2014-01-02T20:30:00",
          "2014-01-02T21:30:00",
          "2014-01-02T22:30:00",
          "2014-01-02T23:30:00",
          "2014-01-03T00:30:00",
          "2014-01-03T01:30:00",
          "2014-01-03T02:30:00",
          "2014-01-03T03:30:00",
          "2014-01-03T04:30:00",
          "2014-01-03T05:30:00",
          "2014-01-03T06:30:00",
          "2014-01-03T07:30:00",
          "2014-01-03T08:30:00",
          "2014-01-03T09:30:00",
          "2014-01-03T10:30:00",
          "2014-01-03T11:30:00",
          "2014-01-03T12:30:00",
          "2014-01-03T13:30:00",
          "2014-01-03T14:30:00",
          "2014-01-03T15:30:00",
          "2014-01-03T16:30:00",
          "2014-01-03T17:30:00",
          "2014-01-03T18:30:00",
          "2014-01-03T19:30:00",
          "2014-01-03T20:30:00",
          "2014-01-03T21:30:00",
          "2014-01-03T22:30:00",
          "2014-01-03T23:30:00",
          "2014-01-04T00:30:00",
          "2014-01-04T01:30:00",
          "2014-01-04T02:30:00",
          "2014-01-04T03:30:00",
          "2014-01-04T04:30:00",
          "2014-01-04T05:30:00",
          "2014-01-04T06:30:00",
          "2014-01-04T07:30:00",
          "2014-01-04T08:30:00",
          "2014-01-04T09:30:00",
          "2014-01-04T10:30:00",
          "2014-01-04T11:30:00",
          "2014-01-04T12:30:00",
          "2014-01-04T13:30:00",
          "2014-01-04T14:30:00",
          "2014-01-04T15:30:00",
          "2014-01-04T16:30:00",
          "2014-01-04T17:30:00",
          "2014-01-04T18:30:00",
          "2014-01-04T19:30:00",
          "2014-01-04T20:30:00",
          "2014-01-04T21:30:00",
          "2014-01-04T22:30:00",
          "2014-01-04T23:30:00",
          "2014-01-05T00:30:00",
          "2014-01-05T01:30:00",
          "2014-01-05T02:30:00",
          "2014-01-05T03:30:00",
          "2014-01-05T04:30:00",
          "2014-01-05T05:30:00",
          "2014-01-05T06:30:00",
          "2014-01-05T07:30:00",
          "2014-01-05T08:30:00",
          "2014-01-05T09:30:00",
          "2014-01-05T10:30:00",
          "2014-01-05T11:30:00",
          "2014-01-05T12:30:00",
          "2014-01-05T13:30:00",
          "2014-01-05T14:30:00",
          "2014-01-05T15:30:00",
          "2014-01-05T16:30:00",
          "2014-01-05T17:30:00",
          "2014-01-05T18:30:00",
          "2014-01-05T19:30:00",
          "2014-01-05T20:30:00",
          "2014-01-05T21:30:00",
          "2014-01-05T22:30:00",
          "2014-01-05T23:30:00",
          "2014-01-06T00:30:00",
          "2014-01-06T01:30:00",
          "2014-01-06T02:30:00",
          "2014-01-06T03:30:00",
          "2014-01-06T04:30:00",
          "2014-01-06T05:30:00",
          "2014-01-06T06:30:00",
          "2014-01-06T07:30:00",
          "2014-01-06T08:30:00",
          "2014-01-06T09:30:00",
          "2014-01-06T10:30:00",
          "2014-01-06T11:30:00",
          "2014-01-06T12:30:00",
          "2014-01-06T13:30:00",
          "2014-01-06T14:30:00",
          "2014-01-06T15:30:00",
          "2014-01-06T16:30:00",
          "2014-01-06T17:30:00",
          "2014-01-06T18:30:00",
          "2014-01-06T19:30:00",
          "2014-01-06T20:30:00",
          "2014-01-06T21:30:00",
          "2014-01-06T22:30:00",
          "2014-01-06T23:30:00",
          "2014-01-07T00:30:00",
          "2014-01-07T01:30:00",
          "2014-01-07T02:30:00",
          "2014-01-07T03:30:00",
          "2014-01-07T04:30:00",
          "2014-01-07T05:30:00",
          "2014-01-07T06:30:00",
          "2014-01-07T07:30:00",
          "2014-01-07T08:30:00",
          "2014-01-07T09:30:00",
          "2014-01-07T10:30:00",
          "2014-01-07T11:30:00",
          "2014-01-07T12:30:00",
          "2014-01-07T13:30:00",
          "2014-01-07T14:30:00",
          "2014-01-07T15:30:00",
          "2014-01-07T16:30:00",
          "2014-01-07T17:30:00",
          "2014-01-07T18:30:00",
          "2014-01-07T19:30:00",
          "2014-01-07T20:30:00",
          "2014-01-07T21:30:00",
          "2014-01-07T22:30:00",
          "2014-01-07T23:30:00",
          "2014-01-08T00:30:00",
          "2014-01-08T01:30:00",
          "2014-01-08T02:30:00",
          "2014-01-08T03:30:00",
          "2014-01-08T04:30:00",
          "2014-01-08T05:30:00",
          "2014-01-08T06:30:00",
          "2014-01-08T07:30:00",
          "2014-01-08T08:30:00",
          "2014-01-08T09:30:00",
          "2014-01-08T10:30:00",
          "2014-01-08T11:30:00",
          "2014-01-08T12:30:00",
          "2014-01-08T13:30:00",
          "2014-01-08T14:30:00",
          "2014-01-08T15:30:00",
          "2014-01-08T16:30:00",
          "2014-01-08T17:30:00",
          "2014-01-08T18:30:00",
          "2014-01-08T19:30:00",
          "2014-01-08T20:30:00",
          "2014-01-08T21:30:00",
          "2014-01-08T22:30:00",
          "2014-01-08T23:30:00",
          "2014-01-09T00:30:00",
          "2014-01-09T01:30:00",
          "2014-01-09T02:30:00",
          "2014-01-09T03:30:00",
          "2014-01-09T04:30:00",
          "2014-01-09T05:30:00",
          "2014-01-09T06:30:00",
          "2014-01-09T07:30:00",
          "2014-01-09T08:30:00",
          "2014-01-09T09:30:00",
          "2014-01-09T10:30:00",
          "2014-01-09T11:30:00",
          "2014-01-09T12:30:00",
          "2014-01-09T13:30:00",
          "2014-01-09T14:30:00",
          "2014-01-09T15:30:00",
          "2014-01-09T16:30:00",
          "2014-01-09T17:30:00",
          "2014-01-09T18:30:00",
          "2014-01-09T19:30:00",
          "2014-01-09T20:30:00",
          "2014-01-09T21:30:00",
          "2014-01-09T22:30:00",
          "2014-01-09T23:30:00",
          "2014-01-10T00:30:00",
          "2014-01-10T01:30:00",
          "2014-01-10T02:30:00",
          "2014-01-10T03:30:00",
          "2014-01-10T04:30:00",
          "2014-01-10T05:30:00",
          "2014-01-10T06:30:00",
          "2014-01-10T07:30:00",
          "2014-01-10T08:30:00",
          "2014-01-10T09:30:00",
          "2014-01-10T10:30:00",
          "2014-01-10T11:30:00",
          "2014-01-10T12:30:00",
          "2014-01-10T13:30:00",
          "2014-01-10T14:30:00",
          "2014-01-10T15:30:00",
          "2014-01-10T16:30:00",
          "2014-01-10T17:30:00",
          "2014-01-10T18:30:00",
          "2014-01-10T19:30:00",
          "2014-01-10T20:30:00",
          "2014-01-10T21:30:00",
          "2014-01-10T22:30:00",
          "2014-01-10T23:30:00",
          "2014-01-11T00:30:00",
          "2014-01-11T01:30:00",
          "2014-01-11T02:30:00",
          "2014-01-11T03:30:00",
          "2014-01-11T04:30:00",
          "2014-01-11T05:30:00",
          "2014-01-11T06:30:00",
          "2014-01-11T07:30:00",
          "2014-01-11T08:30:00",
          "2014-01-11T09:30:00",
          "2014-01-11T10:30:00",
          "2014-01-11T11:30:00",
          "2014-01-11T12:30:00",
          "2014-01-11T13:30:00",
          "2014-01-11T14:30:00",
          "2014-01-11T15:30:00",
          "2014-01-11T16:30:00",
          "2014-01-11T17:30:00",
          "2014-01-11T18:30:00",
          "2014-01-11T19:30:00",
          "2014-01-11T20:30:00",
          "2014-01-11T21:30:00",
          "2014-01-11T22:30:00",
          "2014-01-11T23:30:00",
          "2014-01-12T00:30:00",
          "2014-01-12T01:30:00",
          "2014-01-12T02:30:00",
          "2014-01-12T03:30:00",
          "2014-01-12T04:30:00",
          "2014-01-12T05:30:00",
          "2014-01-12T06:30:00",
          "2014-01-12T07:30:00",
          "2014-01-12T08:30:00",
          "2014-01-12T09:30:00",
          "2014-01-12T10:30:00",
          "2014-01-12T11:30:00",
          "2014-01-12T12:30:00",
          "2014-01-12T13:30:00",
          "2014-01-12T14:30:00",
          "2014-01-12T15:30:00",
          "2014-01-12T16:30:00",
          "2014-01-12T17:30:00",
          "2014-01-12T18:30:00",
          "2014-01-12T19:30:00",
          "2014-01-12T20:30:00",
          "2014-01-12T21:30:00",
          "2014-01-12T22:30:00",
          "2014-01-12T23:30:00",
          "2014-01-13T00:30:00",
          "2014-01-13T01:30:00",
          "2014-01-13T02:30:00",
          "2014-01-13T03:30:00",
          "2014-01-13T04:30:00",
          "2014-01-13T05:30:00",
          "2014-01-13T06:30:00",
          "2014-01-13T07:30:00",
          "2014-01-13T08:30:00",
          "2014-01-13T09:30:00",
          "2014-01-13T10:30:00",
          "2014-01-13T11:30:00",
          "2014-01-13T12:30:00",
          "2014-01-13T13:30:00",
          "2014-01-13T14:30:00",
          "2014-01-13T15:30:00",
          "2014-01-13T16:30:00",
          "2014-01-13T17:30:00",
          "2014-01-13T18:30:00",
          "2014-01-13T19:30:00",
          "2014-01-13T20:30:00",
          "2014-01-13T21:30:00",
          "2014-01-13T22:30:00",
          "2014-01-13T23:30:00",
          "2014-01-14T00:30:00",
          "2014-01-14T01:30:00",
          "2014-01-14T02:30:00",
          "2014-01-14T03:30:00",
          "2014-01-14T04:30:00",
          "2014-01-14T05:30:00",
          "2014-01-14T06:30:00",
          "2014-01-14T07:30:00",
          "2014-01-14T08:30:00",
          "2014-01-14T09:30:00",
          "2014-01-14T10:30:00",
          "2014-01-14T11:30:00",
          "2014-01-14T12:30:00",
          "2014-01-14T13:30:00",
          "2014-01-14T14:30:00",
          "2014-01-14T15:30:00",
          "2014-01-14T16:30:00",
          "2014-01-14T17:30:00",
          "2014-01-14T18:30:00",
          "2014-01-14T19:30:00",
          "2014-01-14T20:30:00",
          "2014-01-14T21:30:00",
          "2014-01-14T22:30:00",
          "2014-01-14T23:30:00",
          "2014-01-15T00:30:00",
          "2014-01-15T01:30:00",
          "2014-01-15T02:30:00",
          "2014-01-15T03:30:00",
          "2014-01-15T04:30:00",
          "2014-01-15T05:30:00",
          "2014-01-15T06:30:00",
          "2014-01-15T07:30:00",
          "2014-01-15T08:30:00",
          "2014-01-15T09:30:00",
          "2014-01-15T10:30:00",
          "2014-01-15T11:30:00",
          "2014-01-15T12:30:00",
          "2014-01-15T13:30:00",
          "2014-01-15T14:30:00",
          "2014-01-15T15:30:00",
          "2014-01-15T16:30:00",
          "2014-01-15T17:30:00",
          "2014-01-15T18:30:00",
          "2014-01-15T19:30:00",
          "2014-01-15T20:30:00",
          "2014-01-15T21:30:00",
          "2014-01-15T22:30:00",
          "2014-01-15T23:30:00",
          "2014-01-16T00:30:00",
          "2014-01-16T01:30:00",
          "2014-01-16T02:30:00",
          "2014-01-16T03:30:00",
          "2014-01-16T04:30:00",
          "2014-01-16T05:30:00",
          "2014-01-16T06:30:00",
          "2014-01-16T07:30:00",
          "2014-01-16T08:30:00",
          "2014-01-16T09:30:00",
          "2014-01-16T10:30:00",
          "2014-01-16T11:30:00",
          "2014-01-16T12:30:00",
          "2014-01-16T13:30:00",
          "2014-01-16T14:30:00",
          "2014-01-16T15:30:00",
          "2014-01-16T16:30:00",
          "2014-01-16T17:30:00",
          "2014-01-16T18:30:00",
          "2014-01-16T19:30:00",
          "2014-01-16T20:30:00",
          "2014-01-16T21:30:00",
          "2014-01-16T22:30:00",
          "2014-01-16T23:30:00",
          "2014-01-17T00:30:00",
          "2014-01-17T01:30:00",
          "2014-01-17T02:30:00",
          "2014-01-17T03:30:00",
          "2014-01-17T04:30:00",
          "2014-01-17T05:30:00",
          "2014-01-17T06:30:00",
          "2014-01-17T07:30:00",
          "2014-01-17T08:30:00",
          "2014-01-17T09:30:00",
          "2014-01-17T10:30:00",
          "2014-01-17T11:30:00",
          "2014-01-17T12:30:00",
          "2014-01-17T13:30:00",
          "2014-01-17T14:30:00",
          "2014-01-17T15:30:00",
          "2014-01-17T16:30:00",
          "2014-01-17T17:30:00",
          "2014-01-17T18:30:00",
          "2014-01-17T19:30:00",
          "2014-01-17T20:30:00",
          "2014-01-17T21:30:00",
          "2014-01-17T22:30:00",
          "2014-01-17T23:30:00",
          "2014-01-18T00:30:00",
          "2014-01-18T01:30:00",
          "2014-01-18T02:30:00",
          "2014-01-18T03:30:00",
          "2014-01-18T04:30:00",
          "2014-01-18T05:30:00",
          "2014-01-18T06:30:00",
          "2014-01-18T07:30:00",
          "2014-01-18T08:30:00",
          "2014-01-18T09:30:00",
          "2014-01-18T10:30:00",
          "2014-01-18T11:30:00",
          "2014-01-18T12:30:00",
          "2014-01-18T13:30:00",
          "2014-01-18T14:30:00",
          "2014-01-18T15:30:00",
          "2014-01-18T16:30:00",
          "2014-01-18T17:30:00",
          "2014-01-18T18:30:00",
          "2014-01-18T19:30:00",
          "2014-01-18T20:30:00",
          "2014-01-18T21:30:00",
          "2014-01-18T22:30:00",
          "2014-01-18T23:30:00",
          "2014-01-19T00:30:00",
          "2014-01-19T01:30:00",
          "2014-01-19T02:30:00",
          "2014-01-19T03:30:00",
          "2014-01-19T04:30:00",
          "2014-01-19T05:30:00",
          "2014-01-19T06:30:00",
          "2014-01-19T07:30:00",
          "2014-01-19T08:30:00",
          "2014-01-19T09:30:00",
          "2014-01-19T10:30:00",
          "2014-01-19T11:30:00",
          "2014-01-19T12:30:00",
          "2014-01-19T13:30:00",
          "2014-01-19T14:30:00",
          "2014-01-19T15:30:00",
          "2014-01-19T16:30:00",
          "2014-01-19T17:30:00",
          "2014-01-19T18:30:00",
          "2014-01-19T19:30:00",
          "2014-01-19T20:30:00",
          "2014-01-19T21:30:00",
          "2014-01-19T22:30:00",
          "2014-01-19T23:30:00",
          "2014-01-20T00:30:00",
          "2014-01-20T01:30:00",
          "2014-01-20T02:30:00",
          "2014-01-20T03:30:00",
          "2014-01-20T04:30:00",
          "2014-01-20T05:30:00",
          "2014-01-20T06:30:00",
          "2014-01-20T07:30:00",
          "2014-01-20T08:30:00",
          "2014-01-20T09:30:00",
          "2014-01-20T10:30:00",
          "2014-01-20T11:30:00",
          "2014-01-20T12:30:00",
          "2014-01-20T13:30:00",
          "2014-01-20T14:30:00",
          "2014-01-20T15:30:00",
          "2014-01-20T16:30:00",
          "2014-01-20T17:30:00",
          "2014-01-20T18:30:00",
          "2014-01-20T19:30:00",
          "2014-01-20T20:30:00",
          "2014-01-20T21:30:00",
          "2014-01-20T22:30:00",
          "2014-01-20T23:30:00",
          "2014-01-21T00:30:00",
          "2014-01-21T01:30:00",
          "2014-01-21T02:30:00",
          "2014-01-21T03:30:00",
          "2014-01-21T04:30:00",
          "2014-01-21T05:30:00",
          "2014-01-21T06:30:00",
          "2014-01-21T07:30:00",
          "2014-01-21T08:30:00",
          "2014-01-21T09:30:00",
          "2014-01-21T10:30:00",
          "2014-01-21T11:30:00",
          "2014-01-21T12:30:00",
          "2014-01-21T13:30:00",
          "2014-01-21T14:30:00",
          "2014-01-21T15:30:00",
          "2014-01-21T16:30:00",
          "2014-01-21T17:30:00",
          "2014-01-21T18:30:00",
          "2014-01-21T19:30:00",
          "2014-01-21T20:30:00",
          "2014-01-21T21:30:00",
          "2014-01-21T22:30:00",
          "2014-01-21T23:30:00",
          "2014-01-22T00:30:00",
          "2014-01-22T01:30:00",
          "2014-01-22T02:30:00",
          "2014-01-22T03:30:00",
          "2014-01-22T04:30:00",
          "2014-01-22T05:30:00",
          "2014-01-22T06:30:00",
          "2014-01-22T07:30:00",
          "2014-01-22T08:30:00",
          "2014-01-22T09:30:00",
          "2014-01-22T10:30:00",
          "2014-01-22T11:30:00",
          "2014-01-22T12:30:00",
          "2014-01-22T13:30:00",
          "2014-01-22T14:30:00",
          "2014-01-22T15:30:00",
          "2014-01-22T16:30:00",
          "2014-01-22T17:30:00",
          "2014-01-22T18:30:00",
          "2014-01-22T19:30:00",
          "2014-01-22T20:30:00",
          "2014-01-22T21:30:00",
          "2014-01-22T22:30:00",
          "2014-01-22T23:30:00",
          "2014-01-23T00:30:00",
          "2014-01-23T01:30:00",
          "2014-01-23T02:30:00",
          "2014-01-23T03:30:00",
          "2014-01-23T04:30:00",
          "2014-01-23T05:30:00",
          "2014-01-23T06:30:00",
          "2014-01-23T07:30:00",
          "2014-01-23T08:30:00",
          "2014-01-23T09:30:00",
          "2014-01-23T10:30:00",
          "2014-01-23T11:30:00",
          "2014-01-23T12:30:00",
          "2014-01-23T13:30:00",
          "2014-01-23T14:30:00",
          "2014-01-23T15:30:00",
          "2014-01-23T16:30:00",
          "2014-01-23T17:30:00",
          "2014-01-23T18:30:00",
          "2014-01-23T19:30:00",
          "2014-01-23T20:30:00",
          "2014-01-23T21:30:00",
          "2014-01-23T22:30:00",
          "2014-01-23T23:30:00",
          "2014-01-24T00:30:00",
          "2014-01-24T01:30:00",
          "2014-01-24T02:30:00",
          "2014-01-24T03:30:00",
          "2014-01-24T04:30:00",
          "2014-01-24T05:30:00",
          "2014-01-24T06:30:00",
          "2014-01-24T07:30:00",
          "2014-01-24T08:30:00",
          "2014-01-24T09:30:00",
          "2014-01-24T10:30:00",
          "2014-01-24T11:30:00",
          "2014-01-24T12:30:00",
          "2014-01-24T13:30:00",
          "2014-01-24T14:30:00",
          "2014-01-24T15:30:00",
          "2014-01-24T16:30:00",
          "2014-01-24T17:30:00",
          "2014-01-24T18:30:00",
          "2014-01-24T19:30:00",
          "2014-01-24T20:30:00",
          "2014-01-24T21:30:00",
          "2014-01-24T22:30:00",
          "2014-01-24T23:30:00",
          "2014-01-25T00:30:00",
          "2014-01-25T01:30:00",
          "2014-01-25T02:30:00",
          "2014-01-25T03:30:00",
          "2014-01-25T04:30:00",
          "2014-01-25T05:30:00",
          "2014-01-25T06:30:00",
          "2014-01-25T07:30:00",
          "2014-01-25T08:30:00",
          "2014-01-25T09:30:00",
          "2014-01-25T10:30:00",
          "2014-01-25T11:30:00",
          "2014-01-25T12:30:00",
          "2014-01-25T13:30:00",
          "2014-01-25T14:30:00",
          "2014-01-25T15:30:00",
          "2014-01-25T16:30:00",
          "2014-01-25T17:30:00",
          "2014-01-25T18:30:00",
          "2014-01-25T19:30:00",
          "2014-01-25T20:30:00",
          "2014-01-25T21:30:00",
          "2014-01-25T22:30:00",
          "2014-01-25T23:30:00",
          "2014-01-26T00:30:00",
          "2014-01-26T01:30:00",
          "2014-01-26T02:30:00",
          "2014-01-26T03:30:00",
          "2014-01-26T04:30:00",
          "2014-01-26T05:30:00",
          "2014-01-26T06:30:00",
          "2014-01-26T07:30:00",
          "2014-01-26T08:30:00",
          "2014-01-26T09:30:00",
          "2014-01-26T10:30:00",
          "2014-01-26T11:30:00",
          "2014-01-26T12:30:00",
          "2014-01-26T13:30:00",
          "2014-01-26T14:30:00",
          "2014-01-26T15:30:00",
          "2014-01-26T16:30:00",
          "2014-01-26T17:30:00",
          "2014-01-26T18:30:00",
          "2014-01-26T19:30:00",
          "2014-01-26T20:30:00",
          "2014-01-26T21:30:00",
          "2014-01-26T22:30:00",
          "2014-01-26T23:30:00",
          "2014-01-27T00:30:00",
          "2014-01-27T01:30:00",
          "2014-01-27T02:30:00",
          "2014-01-27T03:30:00",
          "2014-01-27T04:30:00",
          "2014-01-27T05:30:00",
          "2014-01-27T06:30:00",
          "2014-01-27T07:30:00",
          "2014-01-27T08:30:00",
          "2014-01-27T09:30:00",
          "2014-01-27T10:30:00",
          "2014-01-27T11:30:00",
          "2014-01-27T12:30:00",
          "2014-01-27T13:30:00",
          "2014-01-27T14:30:00",
          "2014-01-27T15:30:00",
          "2014-01-27T16:30:00",
          "2014-01-27T17:30:00",
          "2014-01-27T18:30:00",
          "2014-01-27T19:30:00",
          "2014-01-27T20:30:00",
          "2014-01-27T21:30:00",
          "2014-01-27T22:30:00",
          "2014-01-27T23:30:00",
          "2014-01-28T00:30:00",
          "2014-01-28T01:30:00",
          "2014-01-28T02:30:00",
          "2014-01-28T03:30:00",
          "2014-01-28T04:30:00",
          "2014-01-28T05:30:00",
          "2014-01-28T06:30:00",
          "2014-01-28T07:30:00",
          "2014-01-28T08:30:00",
          "2014-01-28T09:30:00",
          "2014-01-28T10:30:00",
          "2014-01-28T11:30:00",
          "2014-01-28T12:30:00",
          "2014-01-28T13:30:00",
          "2014-01-28T14:30:00",
          "2014-01-28T15:30:00",
          "2014-01-28T16:30:00",
          "2014-01-28T17:30:00",
          "2014-01-28T18:30:00",
          "2014-01-28T19:30:00",
          "2014-01-28T20:30:00",
          "2014-01-28T21:30:00",
          "2014-01-28T22:30:00",
          "2014-01-28T23:30:00",
          "2014-01-29T00:30:00",
          "2014-01-29T01:30:00",
          "2014-01-29T02:30:00",
          "2014-01-29T03:30:00",
          "2014-01-29T04:30:00",
          "2014-01-29T05:30:00",
          "2014-01-29T06:30:00",
          "2014-01-29T07:30:00",
          "2014-01-29T08:30:00",
          "2014-01-29T09:30:00",
          "2014-01-29T10:30:00",
          "2014-01-29T11:30:00",
          "2014-01-29T12:30:00",
          "2014-01-29T13:30:00",
          "2014-01-29T14:30:00",
          "2014-01-29T15:30:00",
          "2014-01-29T16:30:00",
          "2014-01-29T17:30:00",
          "2014-01-29T18:30:00",
          "2014-01-29T19:30:00",
          "2014-01-29T20:30:00",
          "2014-01-29T21:30:00",
          "2014-01-29T22:30:00",
          "2014-01-29T23:30:00",
          "2014-01-30T00:30:00",
          "2014-01-30T01:30:00",
          "2014-01-30T02:30:00",
          "2014-01-30T03:30:00",
          "2014-01-30T04:30:00",
          "2014-01-30T05:30:00",
          "2014-01-30T06:30:00",
          "2014-01-30T07:30:00",
          "2014-01-30T08:30:00",
          "2014-01-30T09:30:00",
          "2014-01-30T10:30:00",
          "2014-01-30T11:30:00",
          "2014-01-30T12:30:00",
          "2014-01-30T13:30:00",
          "2014-01-30T14:30:00",
          "2014-01-30T15:30:00",
          "2014-01-30T16:30:00",
          "2014-01-30T17:30:00",
          "2014-01-30T18:30:00",
          "2014-01-30T19:30:00",
          "2014-01-30T20:30:00",
          "2014-01-30T21:30:00",
          "2014-01-30T22:30:00",
          "2014-01-30T23:30:00",
          "2014-01-31T00:30:00",
          "2014-01-31T01:30:00",
          "2014-01-31T02:30:00",
          "2014-01-31T03:30:00",
          "2014-01-31T04:30:00",
          "2014-01-31T05:30:00",
          "2014-01-31T06:30:00",
          "2014-01-31T07:30:00",
          "2014-01-31T08:30:00",
          "2014-01-31T09:30:00",
          "2014-01-31T10:30:00",
          "2014-01-31T11:30:00",
          "2014-01-31T12:30:00",
          "2014-01-31T13:30:00",
          "2014-01-31T14:30:00",
          "2014-01-31T15:30:00",
          "2014-01-31T16:30:00",
          "2014-01-31T17:30:00",
          "2014-01-31T18:30:00",
          "2014-01-31T19:30:00",
          "2014-01-31T20:30:00",
          "2014-01-31T21:30:00",
          "2014-01-31T22:30:00",
          "2014-01-31T23:30:00",
          "2014-02-01T00:30:00",
          "2014-02-01T01:30:00",
          "2014-02-01T02:30:00",
          "2014-02-01T03:30:00",
          "2014-02-01T04:30:00",
          "2014-02-01T05:30:00",
          "2014-02-01T06:30:00",
          "2014-02-01T07:30:00",
          "2014-02-01T08:30:00",
          "2014-02-01T09:30:00",
          "2014-02-01T10:30:00",
          "2014-02-01T11:30:00",
          "2014-02-01T12:30:00",
          "2014-02-01T13:30:00",
          "2014-02-01T14:30:00",
          "2014-02-01T15:30:00",
          "2014-02-01T16:30:00",
          "2014-02-01T17:30:00",
          "2014-02-01T18:30:00",
          "2014-02-01T19:30:00",
          "2014-02-01T20:30:00",
          "2014-02-01T21:30:00",
          "2014-02-01T22:30:00",
          "2014-02-01T23:30:00"
         ],
         "legendgroup": "",
         "line": {
          "color": "#636efa",
          "dash": "solid"
         },
         "marker": {
          "symbol": "circle"
         },
         "mode": "lines",
         "name": "",
         "orientation": "v",
         "showlegend": false,
         "type": "scatter",
         "x": [
          "2014-01-01T23:30:00",
          "2014-01-02T00:30:00",
          "2014-01-02T01:30:00",
          "2014-01-02T02:30:00",
          "2014-01-02T03:30:00",
          "2014-01-02T04:30:00",
          "2014-01-02T05:30:00",
          "2014-01-02T06:30:00",
          "2014-01-02T07:30:00",
          "2014-01-02T08:30:00",
          "2014-01-02T09:30:00",
          "2014-01-02T10:30:00",
          "2014-01-02T11:30:00",
          "2014-01-02T12:30:00",
          "2014-01-02T13:30:00",
          "2014-01-02T14:30:00",
          "2014-01-02T15:30:00",
          "2014-01-02T16:30:00",
          "2014-01-02T17:30:00",
          "2014-01-02T18:30:00",
          "2014-01-02T19:30:00",
          "2014-01-02T20:30:00",
          "2014-01-02T21:30:00",
          "2014-01-02T22:30:00",
          "2014-01-02T23:30:00",
          "2014-01-03T00:30:00",
          "2014-01-03T01:30:00",
          "2014-01-03T02:30:00",
          "2014-01-03T03:30:00",
          "2014-01-03T04:30:00",
          "2014-01-03T05:30:00",
          "2014-01-03T06:30:00",
          "2014-01-03T07:30:00",
          "2014-01-03T08:30:00",
          "2014-01-03T09:30:00",
          "2014-01-03T10:30:00",
          "2014-01-03T11:30:00",
          "2014-01-03T12:30:00",
          "2014-01-03T13:30:00",
          "2014-01-03T14:30:00",
          "2014-01-03T15:30:00",
          "2014-01-03T16:30:00",
          "2014-01-03T17:30:00",
          "2014-01-03T18:30:00",
          "2014-01-03T19:30:00",
          "2014-01-03T20:30:00",
          "2014-01-03T21:30:00",
          "2014-01-03T22:30:00",
          "2014-01-03T23:30:00",
          "2014-01-04T00:30:00",
          "2014-01-04T01:30:00",
          "2014-01-04T02:30:00",
          "2014-01-04T03:30:00",
          "2014-01-04T04:30:00",
          "2014-01-04T05:30:00",
          "2014-01-04T06:30:00",
          "2014-01-04T07:30:00",
          "2014-01-04T08:30:00",
          "2014-01-04T09:30:00",
          "2014-01-04T10:30:00",
          "2014-01-04T11:30:00",
          "2014-01-04T12:30:00",
          "2014-01-04T13:30:00",
          "2014-01-04T14:30:00",
          "2014-01-04T15:30:00",
          "2014-01-04T16:30:00",
          "2014-01-04T17:30:00",
          "2014-01-04T18:30:00",
          "2014-01-04T19:30:00",
          "2014-01-04T20:30:00",
          "2014-01-04T21:30:00",
          "2014-01-04T22:30:00",
          "2014-01-04T23:30:00",
          "2014-01-05T00:30:00",
          "2014-01-05T01:30:00",
          "2014-01-05T02:30:00",
          "2014-01-05T03:30:00",
          "2014-01-05T04:30:00",
          "2014-01-05T05:30:00",
          "2014-01-05T06:30:00",
          "2014-01-05T07:30:00",
          "2014-01-05T08:30:00",
          "2014-01-05T09:30:00",
          "2014-01-05T10:30:00",
          "2014-01-05T11:30:00",
          "2014-01-05T12:30:00",
          "2014-01-05T13:30:00",
          "2014-01-05T14:30:00",
          "2014-01-05T15:30:00",
          "2014-01-05T16:30:00",
          "2014-01-05T17:30:00",
          "2014-01-05T18:30:00",
          "2014-01-05T19:30:00",
          "2014-01-05T20:30:00",
          "2014-01-05T21:30:00",
          "2014-01-05T22:30:00",
          "2014-01-05T23:30:00",
          "2014-01-06T00:30:00",
          "2014-01-06T01:30:00",
          "2014-01-06T02:30:00",
          "2014-01-06T03:30:00",
          "2014-01-06T04:30:00",
          "2014-01-06T05:30:00",
          "2014-01-06T06:30:00",
          "2014-01-06T07:30:00",
          "2014-01-06T08:30:00",
          "2014-01-06T09:30:00",
          "2014-01-06T10:30:00",
          "2014-01-06T11:30:00",
          "2014-01-06T12:30:00",
          "2014-01-06T13:30:00",
          "2014-01-06T14:30:00",
          "2014-01-06T15:30:00",
          "2014-01-06T16:30:00",
          "2014-01-06T17:30:00",
          "2014-01-06T18:30:00",
          "2014-01-06T19:30:00",
          "2014-01-06T20:30:00",
          "2014-01-06T21:30:00",
          "2014-01-06T22:30:00",
          "2014-01-06T23:30:00",
          "2014-01-07T00:30:00",
          "2014-01-07T01:30:00",
          "2014-01-07T02:30:00",
          "2014-01-07T03:30:00",
          "2014-01-07T04:30:00",
          "2014-01-07T05:30:00",
          "2014-01-07T06:30:00",
          "2014-01-07T07:30:00",
          "2014-01-07T08:30:00",
          "2014-01-07T09:30:00",
          "2014-01-07T10:30:00",
          "2014-01-07T11:30:00",
          "2014-01-07T12:30:00",
          "2014-01-07T13:30:00",
          "2014-01-07T14:30:00",
          "2014-01-07T15:30:00",
          "2014-01-07T16:30:00",
          "2014-01-07T17:30:00",
          "2014-01-07T18:30:00",
          "2014-01-07T19:30:00",
          "2014-01-07T20:30:00",
          "2014-01-07T21:30:00",
          "2014-01-07T22:30:00",
          "2014-01-07T23:30:00",
          "2014-01-08T00:30:00",
          "2014-01-08T01:30:00",
          "2014-01-08T02:30:00",
          "2014-01-08T03:30:00",
          "2014-01-08T04:30:00",
          "2014-01-08T05:30:00",
          "2014-01-08T06:30:00",
          "2014-01-08T07:30:00",
          "2014-01-08T08:30:00",
          "2014-01-08T09:30:00",
          "2014-01-08T10:30:00",
          "2014-01-08T11:30:00",
          "2014-01-08T12:30:00",
          "2014-01-08T13:30:00",
          "2014-01-08T14:30:00",
          "2014-01-08T15:30:00",
          "2014-01-08T16:30:00",
          "2014-01-08T17:30:00",
          "2014-01-08T18:30:00",
          "2014-01-08T19:30:00",
          "2014-01-08T20:30:00",
          "2014-01-08T21:30:00",
          "2014-01-08T22:30:00",
          "2014-01-08T23:30:00",
          "2014-01-09T00:30:00",
          "2014-01-09T01:30:00",
          "2014-01-09T02:30:00",
          "2014-01-09T03:30:00",
          "2014-01-09T04:30:00",
          "2014-01-09T05:30:00",
          "2014-01-09T06:30:00",
          "2014-01-09T07:30:00",
          "2014-01-09T08:30:00",
          "2014-01-09T09:30:00",
          "2014-01-09T10:30:00",
          "2014-01-09T11:30:00",
          "2014-01-09T12:30:00",
          "2014-01-09T13:30:00",
          "2014-01-09T14:30:00",
          "2014-01-09T15:30:00",
          "2014-01-09T16:30:00",
          "2014-01-09T17:30:00",
          "2014-01-09T18:30:00",
          "2014-01-09T19:30:00",
          "2014-01-09T20:30:00",
          "2014-01-09T21:30:00",
          "2014-01-09T22:30:00",
          "2014-01-09T23:30:00",
          "2014-01-10T00:30:00",
          "2014-01-10T01:30:00",
          "2014-01-10T02:30:00",
          "2014-01-10T03:30:00",
          "2014-01-10T04:30:00",
          "2014-01-10T05:30:00",
          "2014-01-10T06:30:00",
          "2014-01-10T07:30:00",
          "2014-01-10T08:30:00",
          "2014-01-10T09:30:00",
          "2014-01-10T10:30:00",
          "2014-01-10T11:30:00",
          "2014-01-10T12:30:00",
          "2014-01-10T13:30:00",
          "2014-01-10T14:30:00",
          "2014-01-10T15:30:00",
          "2014-01-10T16:30:00",
          "2014-01-10T17:30:00",
          "2014-01-10T18:30:00",
          "2014-01-10T19:30:00",
          "2014-01-10T20:30:00",
          "2014-01-10T21:30:00",
          "2014-01-10T22:30:00",
          "2014-01-10T23:30:00",
          "2014-01-11T00:30:00",
          "2014-01-11T01:30:00",
          "2014-01-11T02:30:00",
          "2014-01-11T03:30:00",
          "2014-01-11T04:30:00",
          "2014-01-11T05:30:00",
          "2014-01-11T06:30:00",
          "2014-01-11T07:30:00",
          "2014-01-11T08:30:00",
          "2014-01-11T09:30:00",
          "2014-01-11T10:30:00",
          "2014-01-11T11:30:00",
          "2014-01-11T12:30:00",
          "2014-01-11T13:30:00",
          "2014-01-11T14:30:00",
          "2014-01-11T15:30:00",
          "2014-01-11T16:30:00",
          "2014-01-11T17:30:00",
          "2014-01-11T18:30:00",
          "2014-01-11T19:30:00",
          "2014-01-11T20:30:00",
          "2014-01-11T21:30:00",
          "2014-01-11T22:30:00",
          "2014-01-11T23:30:00",
          "2014-01-12T00:30:00",
          "2014-01-12T01:30:00",
          "2014-01-12T02:30:00",
          "2014-01-12T03:30:00",
          "2014-01-12T04:30:00",
          "2014-01-12T05:30:00",
          "2014-01-12T06:30:00",
          "2014-01-12T07:30:00",
          "2014-01-12T08:30:00",
          "2014-01-12T09:30:00",
          "2014-01-12T10:30:00",
          "2014-01-12T11:30:00",
          "2014-01-12T12:30:00",
          "2014-01-12T13:30:00",
          "2014-01-12T14:30:00",
          "2014-01-12T15:30:00",
          "2014-01-12T16:30:00",
          "2014-01-12T17:30:00",
          "2014-01-12T18:30:00",
          "2014-01-12T19:30:00",
          "2014-01-12T20:30:00",
          "2014-01-12T21:30:00",
          "2014-01-12T22:30:00",
          "2014-01-12T23:30:00",
          "2014-01-13T00:30:00",
          "2014-01-13T01:30:00",
          "2014-01-13T02:30:00",
          "2014-01-13T03:30:00",
          "2014-01-13T04:30:00",
          "2014-01-13T05:30:00",
          "2014-01-13T06:30:00",
          "2014-01-13T07:30:00",
          "2014-01-13T08:30:00",
          "2014-01-13T09:30:00",
          "2014-01-13T10:30:00",
          "2014-01-13T11:30:00",
          "2014-01-13T12:30:00",
          "2014-01-13T13:30:00",
          "2014-01-13T14:30:00",
          "2014-01-13T15:30:00",
          "2014-01-13T16:30:00",
          "2014-01-13T17:30:00",
          "2014-01-13T18:30:00",
          "2014-01-13T19:30:00",
          "2014-01-13T20:30:00",
          "2014-01-13T21:30:00",
          "2014-01-13T22:30:00",
          "2014-01-13T23:30:00",
          "2014-01-14T00:30:00",
          "2014-01-14T01:30:00",
          "2014-01-14T02:30:00",
          "2014-01-14T03:30:00",
          "2014-01-14T04:30:00",
          "2014-01-14T05:30:00",
          "2014-01-14T06:30:00",
          "2014-01-14T07:30:00",
          "2014-01-14T08:30:00",
          "2014-01-14T09:30:00",
          "2014-01-14T10:30:00",
          "2014-01-14T11:30:00",
          "2014-01-14T12:30:00",
          "2014-01-14T13:30:00",
          "2014-01-14T14:30:00",
          "2014-01-14T15:30:00",
          "2014-01-14T16:30:00",
          "2014-01-14T17:30:00",
          "2014-01-14T18:30:00",
          "2014-01-14T19:30:00",
          "2014-01-14T20:30:00",
          "2014-01-14T21:30:00",
          "2014-01-14T22:30:00",
          "2014-01-14T23:30:00",
          "2014-01-15T00:30:00",
          "2014-01-15T01:30:00",
          "2014-01-15T02:30:00",
          "2014-01-15T03:30:00",
          "2014-01-15T04:30:00",
          "2014-01-15T05:30:00",
          "2014-01-15T06:30:00",
          "2014-01-15T07:30:00",
          "2014-01-15T08:30:00",
          "2014-01-15T09:30:00",
          "2014-01-15T10:30:00",
          "2014-01-15T11:30:00",
          "2014-01-15T12:30:00",
          "2014-01-15T13:30:00",
          "2014-01-15T14:30:00",
          "2014-01-15T15:30:00",
          "2014-01-15T16:30:00",
          "2014-01-15T17:30:00",
          "2014-01-15T18:30:00",
          "2014-01-15T19:30:00",
          "2014-01-15T20:30:00",
          "2014-01-15T21:30:00",
          "2014-01-15T22:30:00",
          "2014-01-15T23:30:00",
          "2014-01-16T00:30:00",
          "2014-01-16T01:30:00",
          "2014-01-16T02:30:00",
          "2014-01-16T03:30:00",
          "2014-01-16T04:30:00",
          "2014-01-16T05:30:00",
          "2014-01-16T06:30:00",
          "2014-01-16T07:30:00",
          "2014-01-16T08:30:00",
          "2014-01-16T09:30:00",
          "2014-01-16T10:30:00",
          "2014-01-16T11:30:00",
          "2014-01-16T12:30:00",
          "2014-01-16T13:30:00",
          "2014-01-16T14:30:00",
          "2014-01-16T15:30:00",
          "2014-01-16T16:30:00",
          "2014-01-16T17:30:00",
          "2014-01-16T18:30:00",
          "2014-01-16T19:30:00",
          "2014-01-16T20:30:00",
          "2014-01-16T21:30:00",
          "2014-01-16T22:30:00",
          "2014-01-16T23:30:00",
          "2014-01-17T00:30:00",
          "2014-01-17T01:30:00",
          "2014-01-17T02:30:00",
          "2014-01-17T03:30:00",
          "2014-01-17T04:30:00",
          "2014-01-17T05:30:00",
          "2014-01-17T06:30:00",
          "2014-01-17T07:30:00",
          "2014-01-17T08:30:00",
          "2014-01-17T09:30:00",
          "2014-01-17T10:30:00",
          "2014-01-17T11:30:00",
          "2014-01-17T12:30:00",
          "2014-01-17T13:30:00",
          "2014-01-17T14:30:00",
          "2014-01-17T15:30:00",
          "2014-01-17T16:30:00",
          "2014-01-17T17:30:00",
          "2014-01-17T18:30:00",
          "2014-01-17T19:30:00",
          "2014-01-17T20:30:00",
          "2014-01-17T21:30:00",
          "2014-01-17T22:30:00",
          "2014-01-17T23:30:00",
          "2014-01-18T00:30:00",
          "2014-01-18T01:30:00",
          "2014-01-18T02:30:00",
          "2014-01-18T03:30:00",
          "2014-01-18T04:30:00",
          "2014-01-18T05:30:00",
          "2014-01-18T06:30:00",
          "2014-01-18T07:30:00",
          "2014-01-18T08:30:00",
          "2014-01-18T09:30:00",
          "2014-01-18T10:30:00",
          "2014-01-18T11:30:00",
          "2014-01-18T12:30:00",
          "2014-01-18T13:30:00",
          "2014-01-18T14:30:00",
          "2014-01-18T15:30:00",
          "2014-01-18T16:30:00",
          "2014-01-18T17:30:00",
          "2014-01-18T18:30:00",
          "2014-01-18T19:30:00",
          "2014-01-18T20:30:00",
          "2014-01-18T21:30:00",
          "2014-01-18T22:30:00",
          "2014-01-18T23:30:00",
          "2014-01-19T00:30:00",
          "2014-01-19T01:30:00",
          "2014-01-19T02:30:00",
          "2014-01-19T03:30:00",
          "2014-01-19T04:30:00",
          "2014-01-19T05:30:00",
          "2014-01-19T06:30:00",
          "2014-01-19T07:30:00",
          "2014-01-19T08:30:00",
          "2014-01-19T09:30:00",
          "2014-01-19T10:30:00",
          "2014-01-19T11:30:00",
          "2014-01-19T12:30:00",
          "2014-01-19T13:30:00",
          "2014-01-19T14:30:00",
          "2014-01-19T15:30:00",
          "2014-01-19T16:30:00",
          "2014-01-19T17:30:00",
          "2014-01-19T18:30:00",
          "2014-01-19T19:30:00",
          "2014-01-19T20:30:00",
          "2014-01-19T21:30:00",
          "2014-01-19T22:30:00",
          "2014-01-19T23:30:00",
          "2014-01-20T00:30:00",
          "2014-01-20T01:30:00",
          "2014-01-20T02:30:00",
          "2014-01-20T03:30:00",
          "2014-01-20T04:30:00",
          "2014-01-20T05:30:00",
          "2014-01-20T06:30:00",
          "2014-01-20T07:30:00",
          "2014-01-20T08:30:00",
          "2014-01-20T09:30:00",
          "2014-01-20T10:30:00",
          "2014-01-20T11:30:00",
          "2014-01-20T12:30:00",
          "2014-01-20T13:30:00",
          "2014-01-20T14:30:00",
          "2014-01-20T15:30:00",
          "2014-01-20T16:30:00",
          "2014-01-20T17:30:00",
          "2014-01-20T18:30:00",
          "2014-01-20T19:30:00",
          "2014-01-20T20:30:00",
          "2014-01-20T21:30:00",
          "2014-01-20T22:30:00",
          "2014-01-20T23:30:00",
          "2014-01-21T00:30:00",
          "2014-01-21T01:30:00",
          "2014-01-21T02:30:00",
          "2014-01-21T03:30:00",
          "2014-01-21T04:30:00",
          "2014-01-21T05:30:00",
          "2014-01-21T06:30:00",
          "2014-01-21T07:30:00",
          "2014-01-21T08:30:00",
          "2014-01-21T09:30:00",
          "2014-01-21T10:30:00",
          "2014-01-21T11:30:00",
          "2014-01-21T12:30:00",
          "2014-01-21T13:30:00",
          "2014-01-21T14:30:00",
          "2014-01-21T15:30:00",
          "2014-01-21T16:30:00",
          "2014-01-21T17:30:00",
          "2014-01-21T18:30:00",
          "2014-01-21T19:30:00",
          "2014-01-21T20:30:00",
          "2014-01-21T21:30:00",
          "2014-01-21T22:30:00",
          "2014-01-21T23:30:00",
          "2014-01-22T00:30:00",
          "2014-01-22T01:30:00",
          "2014-01-22T02:30:00",
          "2014-01-22T03:30:00",
          "2014-01-22T04:30:00",
          "2014-01-22T05:30:00",
          "2014-01-22T06:30:00",
          "2014-01-22T07:30:00",
          "2014-01-22T08:30:00",
          "2014-01-22T09:30:00",
          "2014-01-22T10:30:00",
          "2014-01-22T11:30:00",
          "2014-01-22T12:30:00",
          "2014-01-22T13:30:00",
          "2014-01-22T14:30:00",
          "2014-01-22T15:30:00",
          "2014-01-22T16:30:00",
          "2014-01-22T17:30:00",
          "2014-01-22T18:30:00",
          "2014-01-22T19:30:00",
          "2014-01-22T20:30:00",
          "2014-01-22T21:30:00",
          "2014-01-22T22:30:00",
          "2014-01-22T23:30:00",
          "2014-01-23T00:30:00",
          "2014-01-23T01:30:00",
          "2014-01-23T02:30:00",
          "2014-01-23T03:30:00",
          "2014-01-23T04:30:00",
          "2014-01-23T05:30:00",
          "2014-01-23T06:30:00",
          "2014-01-23T07:30:00",
          "2014-01-23T08:30:00",
          "2014-01-23T09:30:00",
          "2014-01-23T10:30:00",
          "2014-01-23T11:30:00",
          "2014-01-23T12:30:00",
          "2014-01-23T13:30:00",
          "2014-01-23T14:30:00",
          "2014-01-23T15:30:00",
          "2014-01-23T16:30:00",
          "2014-01-23T17:30:00",
          "2014-01-23T18:30:00",
          "2014-01-23T19:30:00",
          "2014-01-23T20:30:00",
          "2014-01-23T21:30:00",
          "2014-01-23T22:30:00",
          "2014-01-23T23:30:00",
          "2014-01-24T00:30:00",
          "2014-01-24T01:30:00",
          "2014-01-24T02:30:00",
          "2014-01-24T03:30:00",
          "2014-01-24T04:30:00",
          "2014-01-24T05:30:00",
          "2014-01-24T06:30:00",
          "2014-01-24T07:30:00",
          "2014-01-24T08:30:00",
          "2014-01-24T09:30:00",
          "2014-01-24T10:30:00",
          "2014-01-24T11:30:00",
          "2014-01-24T12:30:00",
          "2014-01-24T13:30:00",
          "2014-01-24T14:30:00",
          "2014-01-24T15:30:00",
          "2014-01-24T16:30:00",
          "2014-01-24T17:30:00",
          "2014-01-24T18:30:00",
          "2014-01-24T19:30:00",
          "2014-01-24T20:30:00",
          "2014-01-24T21:30:00",
          "2014-01-24T22:30:00",
          "2014-01-24T23:30:00",
          "2014-01-25T00:30:00",
          "2014-01-25T01:30:00",
          "2014-01-25T02:30:00",
          "2014-01-25T03:30:00",
          "2014-01-25T04:30:00",
          "2014-01-25T05:30:00",
          "2014-01-25T06:30:00",
          "2014-01-25T07:30:00",
          "2014-01-25T08:30:00",
          "2014-01-25T09:30:00",
          "2014-01-25T10:30:00",
          "2014-01-25T11:30:00",
          "2014-01-25T12:30:00",
          "2014-01-25T13:30:00",
          "2014-01-25T14:30:00",
          "2014-01-25T15:30:00",
          "2014-01-25T16:30:00",
          "2014-01-25T17:30:00",
          "2014-01-25T18:30:00",
          "2014-01-25T19:30:00",
          "2014-01-25T20:30:00",
          "2014-01-25T21:30:00",
          "2014-01-25T22:30:00",
          "2014-01-25T23:30:00",
          "2014-01-26T00:30:00",
          "2014-01-26T01:30:00",
          "2014-01-26T02:30:00",
          "2014-01-26T03:30:00",
          "2014-01-26T04:30:00",
          "2014-01-26T05:30:00",
          "2014-01-26T06:30:00",
          "2014-01-26T07:30:00",
          "2014-01-26T08:30:00",
          "2014-01-26T09:30:00",
          "2014-01-26T10:30:00",
          "2014-01-26T11:30:00",
          "2014-01-26T12:30:00",
          "2014-01-26T13:30:00",
          "2014-01-26T14:30:00",
          "2014-01-26T15:30:00",
          "2014-01-26T16:30:00",
          "2014-01-26T17:30:00",
          "2014-01-26T18:30:00",
          "2014-01-26T19:30:00",
          "2014-01-26T20:30:00",
          "2014-01-26T21:30:00",
          "2014-01-26T22:30:00",
          "2014-01-26T23:30:00",
          "2014-01-27T00:30:00",
          "2014-01-27T01:30:00",
          "2014-01-27T02:30:00",
          "2014-01-27T03:30:00",
          "2014-01-27T04:30:00",
          "2014-01-27T05:30:00",
          "2014-01-27T06:30:00",
          "2014-01-27T07:30:00",
          "2014-01-27T08:30:00",
          "2014-01-27T09:30:00",
          "2014-01-27T10:30:00",
          "2014-01-27T11:30:00",
          "2014-01-27T12:30:00",
          "2014-01-27T13:30:00",
          "2014-01-27T14:30:00",
          "2014-01-27T15:30:00",
          "2014-01-27T16:30:00",
          "2014-01-27T17:30:00",
          "2014-01-27T18:30:00",
          "2014-01-27T19:30:00",
          "2014-01-27T20:30:00",
          "2014-01-27T21:30:00",
          "2014-01-27T22:30:00",
          "2014-01-27T23:30:00",
          "2014-01-28T00:30:00",
          "2014-01-28T01:30:00",
          "2014-01-28T02:30:00",
          "2014-01-28T03:30:00",
          "2014-01-28T04:30:00",
          "2014-01-28T05:30:00",
          "2014-01-28T06:30:00",
          "2014-01-28T07:30:00",
          "2014-01-28T08:30:00",
          "2014-01-28T09:30:00",
          "2014-01-28T10:30:00",
          "2014-01-28T11:30:00",
          "2014-01-28T12:30:00",
          "2014-01-28T13:30:00",
          "2014-01-28T14:30:00",
          "2014-01-28T15:30:00",
          "2014-01-28T16:30:00",
          "2014-01-28T17:30:00",
          "2014-01-28T18:30:00",
          "2014-01-28T19:30:00",
          "2014-01-28T20:30:00",
          "2014-01-28T21:30:00",
          "2014-01-28T22:30:00",
          "2014-01-28T23:30:00",
          "2014-01-29T00:30:00",
          "2014-01-29T01:30:00",
          "2014-01-29T02:30:00",
          "2014-01-29T03:30:00",
          "2014-01-29T04:30:00",
          "2014-01-29T05:30:00",
          "2014-01-29T06:30:00",
          "2014-01-29T07:30:00",
          "2014-01-29T08:30:00",
          "2014-01-29T09:30:00",
          "2014-01-29T10:30:00",
          "2014-01-29T11:30:00",
          "2014-01-29T12:30:00",
          "2014-01-29T13:30:00",
          "2014-01-29T14:30:00",
          "2014-01-29T15:30:00",
          "2014-01-29T16:30:00",
          "2014-01-29T17:30:00",
          "2014-01-29T18:30:00",
          "2014-01-29T19:30:00",
          "2014-01-29T20:30:00",
          "2014-01-29T21:30:00",
          "2014-01-29T22:30:00",
          "2014-01-29T23:30:00",
          "2014-01-30T00:30:00",
          "2014-01-30T01:30:00",
          "2014-01-30T02:30:00",
          "2014-01-30T03:30:00",
          "2014-01-30T04:30:00",
          "2014-01-30T05:30:00",
          "2014-01-30T06:30:00",
          "2014-01-30T07:30:00",
          "2014-01-30T08:30:00",
          "2014-01-30T09:30:00",
          "2014-01-30T10:30:00",
          "2014-01-30T11:30:00",
          "2014-01-30T12:30:00",
          "2014-01-30T13:30:00",
          "2014-01-30T14:30:00",
          "2014-01-30T15:30:00",
          "2014-01-30T16:30:00",
          "2014-01-30T17:30:00",
          "2014-01-30T18:30:00",
          "2014-01-30T19:30:00",
          "2014-01-30T20:30:00",
          "2014-01-30T21:30:00",
          "2014-01-30T22:30:00",
          "2014-01-30T23:30:00",
          "2014-01-31T00:30:00",
          "2014-01-31T01:30:00",
          "2014-01-31T02:30:00",
          "2014-01-31T03:30:00",
          "2014-01-31T04:30:00",
          "2014-01-31T05:30:00",
          "2014-01-31T06:30:00",
          "2014-01-31T07:30:00",
          "2014-01-31T08:30:00",
          "2014-01-31T09:30:00",
          "2014-01-31T10:30:00",
          "2014-01-31T11:30:00",
          "2014-01-31T12:30:00",
          "2014-01-31T13:30:00",
          "2014-01-31T14:30:00",
          "2014-01-31T15:30:00",
          "2014-01-31T16:30:00",
          "2014-01-31T17:30:00",
          "2014-01-31T18:30:00",
          "2014-01-31T19:30:00",
          "2014-01-31T20:30:00",
          "2014-01-31T21:30:00",
          "2014-01-31T22:30:00",
          "2014-01-31T23:30:00",
          "2014-02-01T00:30:00",
          "2014-02-01T01:30:00",
          "2014-02-01T02:30:00",
          "2014-02-01T03:30:00",
          "2014-02-01T04:30:00",
          "2014-02-01T05:30:00",
          "2014-02-01T06:30:00",
          "2014-02-01T07:30:00",
          "2014-02-01T08:30:00",
          "2014-02-01T09:30:00",
          "2014-02-01T10:30:00",
          "2014-02-01T11:30:00",
          "2014-02-01T12:30:00",
          "2014-02-01T13:30:00",
          "2014-02-01T14:30:00",
          "2014-02-01T15:30:00",
          "2014-02-01T16:30:00",
          "2014-02-01T17:30:00",
          "2014-02-01T18:30:00",
          "2014-02-01T19:30:00",
          "2014-02-01T20:30:00",
          "2014-02-01T21:30:00",
          "2014-02-01T22:30:00",
          "2014-02-01T23:30:00"
         ],
         "xaxis": "x",
         "y": [
          -32.1423861816526,
          -13.183707255158744,
          -15.664299499972609,
          -19.218661772757358,
          -23.648474619939478,
          -28.739768970390177,
          -34.250067219141904,
          -39.897412015357936,
          -45.33806554610901,
          -50.13627842264707,
          -53.75230869108863,
          -55.61806799298972,
          -55.36097972779046,
          -53.03611249166191,
          -49.08763399980465,
          -44.091621871928474,
          -38.565243291503045,
          -32.91987232606043,
          -27.481750183378686,
          -22.52123513330565,
          -18.271514778179714,
          -14.934411856300663,
          -12.675479036770815,
          -11.612442870910698,
          -11.802683953937128,
          -13.235811813343469,
          -15.835077282677485,
          -19.466900970849526,
          -23.95377021913699,
          -29.084318283145908,
          -34.61533944642632,
          -40.262204053526716,
          -45.6763051467985,
          -50.41502147523154,
          -53.932960378464976,
          -55.66657336074543,
          -55.26612633881736,
          -52.8174278323319,
          -48.78198589790255,
          -43.73615104209706,
          -38.19035723271401,
          -32.54941697508888,
          -27.13503192862417,
          -22.214648729356814,
          -18.01931341341754,
          -14.748683941736243,
          -12.56554623410683,
          -11.584007445201427,
          -11.857135236922648,
          -13.370039139288785,
          -16.041888345704383,
          -19.735835011600948,
          -24.271911524148006,
          -29.436720437625503,
          -34.98477642150478,
          -40.628078087252,
          -46.012761812298066,
          -50.68917980215331,
          -54.10658916144146,
          -55.706961072652646,
          -55.164293200273214,
          -52.59456778820713,
          -48.47520710952298,
          -43.382010470467456,
          -37.81858014794829,
          -32.18333451742156,
          -26.793611315411813,
          -21.91406143255172,
          -17.773642299156933,
          -14.56984882456005,
          -12.462668785673356,
          -11.56255025358172,
          -11.918226255019094,
          -13.510318435032417,
          -16.25395660860382,
          -20.009076635908297,
          -24.59329302429291,
          -29.791179606144073,
          -35.35492530644581,
          -40.993057542774096,
          -46.34632519605151,
          -50.9580149671696,
          -54.272421035807824,
          -55.738133634236675,
          -55.053899488679775,
          -52.36543774888764,
          -48.16480032659615,
          -43.0264866714379,
          -37.44716133568176,
          -31.818974003053302,
          -26.45502987953966,
          -21.617262468224666,
          -17.53256315528098,
          -14.39624155364423,
          -12.365438376380796,
          -11.546892276063359,
          -11.984976028200759,
          -13.65583690510285,
          -16.47061191925866,
          -20.286077603593235,
          -24.917471194248726,
          -30.14734093034474,
          -35.72550197311559,
          -41.35690631790615,
          -46.67678003795631,
          -51.22131234222521,
          -54.430255921730385,
          -55.75995284568768,
          -54.934865461653395,
          -52.12993659082732,
          -47.850585522998045,
          -42.66932163716766,
          -37.07579215247626,
          -31.456004977357612,
          -26.11895769222359,
          -21.323937193983962,
          -17.295784413797644,
          -14.227595610272278,
          -12.273611496928385,
          -11.536809315782106,
          -12.057176535784155,
          -13.806401277859615,
          -16.69167576290965,
          -20.56667438732221,
          -25.244296528421728,
          -30.505065483971862,
          -36.0963710253475,
          -41.71948143726083,
          -47.00396387006713,
          -51.47889210375305,
          -54.57994079395244,
          -55.7723682509824,
          -54.80725256397008,
          -51.888157390932506,
          -47.53262164887763,
          -42.3105270181266,
          -36.704448702833275,
          -31.094382911892648,
          -25.785340738033135,
          -21.034028503877295,
          -17.06324800863157,
          -14.063850820363255,
          -12.187122985567603,
          -11.532228557925775,
          -12.13474647296758,
          -13.961923187999854,
          -16.91705549992671,
          -20.850772603708638,
          -25.573673640739113,
          -30.864254679435604,
          -36.46742472893444,
          -42.080656430798115,
          -47.32772252874646,
          -51.7305805672352,
          -54.7213358455681,
          -55.7753554815838,
          -54.67115870580846,
          -51.640238508525556,
          -47.21102282700208,
          -41.95017838701497,
          -36.33317660403015,
          -30.734134857095235,
          -25.45419552619458,
          -20.747546253948343,
          -16.83495742642579,
          -13.905001993441948,
          -12.105955620239039,
          -11.53311821519671,
          -12.217639201724408,
          -14.122343289757374,
          -17.146682515607015,
          -21.138297367868642,
          -25.905522377253135,
          -31.224820999618235,
          -36.83856232560328,
          -42.44030800806943,
          -47.64790245556823,
          -51.97620551344075,
          -54.85430894866828,
          -55.76890491713559,
          -54.526697716511464,
          -51.38633361288787,
          -46.88592056453067,
          -41.588371970524186,
          -35.962044694294555,
          -30.37531234462306,
          -25.125563031754105,
          -20.464523682429714,
          -16.61093764103081,
          -13.751063014565183,
          -12.030108648243015,
          -11.539460465727666,
          -12.30581983833724,
          -14.287612115663096,
          -17.380496442773715,
          -21.429180510901922,
          -26.23976773749735,
          -31.586680395663713,
          -37.20968469418223,
          -42.79831271708085,
          -47.96434896884038,
          -52.21559546369702,
          -54.97873475744926,
          -55.75301875102432,
          -54.37399331662077,
          -51.12660282906645,
          -46.55745256503865,
          -41.22521171193744,
          -35.59113103776155,
          -30.01797701274183,
          -24.799494532040505,
          -20.185003935164325,
          -16.39122268528195,
          -13.602055697772803,
          -11.95958803781754,
          -11.551243110973127,
          -12.399258239378023,
          -14.457684252556168,
          -17.61844037799634,
          -21.72335671070847,
          -26.576336823097346,
          -31.949749980755318,
          -37.58069272579094,
          -43.154545932486464,
          -48.27690579374685,
          -52.448579639243164,
          -55.094494613588054,
          -55.727709822716,
          -54.21317656163866,
          -50.86120924496024,
          -46.22575850704768,
          -40.860804444343636,
          -35.2205177007419,
          -29.662195224366517,
          -24.476046285402752,
          -19.909034986229727,
          -16.175850952263065,
          -13.458005563181745,
          -11.894402782447756,
          -11.568456416137163,
          -12.497926350913112,
          -14.63251614947338,
          -17.86045908952618,
          -22.020762048481256,
          -26.915157705351454,
          -32.31394718348362,
          -37.951486745792025,
          -43.508881541794466,
          -48.58541504637151,
          -52.67498828761759,
          -55.20147692473301,
          -55.69300128486589,
          -54.044384738828,
          -50.59031751130523,
          -45.890978426842636,
          -40.495258021012106,
          -34.8502886776874,
          -29.30803587981819,
          -24.155277322759204,
          -19.63666748665969,
          -15.9648631632304,
          -13.318939969874913,
          -11.83456322760424,
          -11.59109164140831,
          -12.601796937629974,
          -14.812065033036482,
          -18.10649810915142,
          -22.321333265860627,
          -27.25615884165085,
          -32.679189320967716,
          -38.321966244193796,
          -43.861191848422926,
          -48.88971737221159,
          -52.89465313538114,
          -55.299577661213554,
          -55.648926455047665,
          -53.867760641466,
          -50.31409301410364,
          -45.55325182185646,
          -40.12868027517324,
          -34.48052871618238,
          -28.95556916160456,
          -23.837248174666698,
          -19.367953531611473,
          -15.758301225529936,
          -13.184887107122925,
          -11.780080226938688,
          -11.61914037962484,
          -12.710843101156831,
          -14.996288580867358,
          -18.356503524664678,
          -22.62500765247883,
          -27.599269039796305,
          -33.045393627149295,
          -38.69202996304173,
          -44.21134773739468,
          -49.18965227104825,
          -53.10740797502557,
          -55.388700946772516,
          -55.59552879662292,
          -53.68345212646151,
          -50.03270148271807,
          -45.2127173037655,
          -39.76117861174708,
          -34.11132281858012,
          -28.604865958907105,
          -23.52202023970518,
          -19.102945992025333,
          -15.556207544952041,
          -13.055875304104182,
          -11.73096446452982,
          -11.652593901792887,
          -12.825037653378486,
          -15.185144336319816,
          -18.61042145084267,
          -22.931722575884997,
          -27.94441705036075,
          -33.41247691155055,
          -39.061575630066045,
          -44.55921851658984,
          -49.48505814319172,
          -53.313089026206534,
          -55.46875945598885,
          -55.53286177474604,
          -53.491611685489325,
          -49.74630871930495,
          -44.86951244769166,
          -39.39285986161077,
          -33.742756068708005,
          -28.255997676925535,
          -23.209655596651146,
          -18.84169834941194,
          -15.358624900726989,
          -12.931932959841403,
          -11.68722644900243,
          -11.691443215031617,
          -12.944353226306442,
          -15.378589841771044,
          -18.86819815772004,
          -23.241415588283797,
          -28.291531639036506,
          -33.78035558721518,
          -39.430499939044786,
          -44.90467187444681,
          -49.77577231982526,
          -53.511535141961794,
          -55.5396745011859,
          -55.46098831942881,
          -53.29239565443596,
          -49.45508000954363,
          -44.52377336450488,
          -39.02382990540687,
          -33.374913270531536,
          -27.909035890654554,
          -22.900216682364984,
          -18.584264407733965,
          -15.16559620164016,
          -12.813088354106656,
          -11.648876387700758,
          -11.735679002307435,
          -13.068762271314954,
          -15.576582683453058,
          -19.129780144001366,
          -23.55402451536728,
          -28.64054168083252,
          -34.14894576292345,
          -39.798698640418245,
          -45.24757399974663,
          -50.061631313796426,
          -53.70258827997744,
          -55.60137637925156,
          -55.37998055347687,
          -53.08596371570201,
          -49.15917979754416,
          -44.175634477385465,
          -38.65419343862837,
          -33.007878664626205,
          -27.564052011080083,
          -22.593765914567474,
          -18.33069788144346,
          -14.977164050220143,
          -12.699369201475545,
          -11.615923745051974,
          -11.785291196112247,
          -13.198236653185022,
          -15.779080110961909,
          -19.395113783940044,
          -23.869487128325986,
          -28.99137585624887,
          -34.51816296436591,
          -40.166066297102326,
          -45.58778941661304,
          -50.34247085462667,
          -53.88609383201174,
          -55.65380463071728,
          -55.289919532898736,
          -52.87247854831565,
          -48.85877158774707,
          -43.82522856884904,
          -38.28405403886105,
          -32.64173597000958,
          -27.221117291691147,
          -22.290365662165573,
          -18.081052330828744,
          -14.793370646317197,
          -12.590802528631357,
          -11.588377099243688,
          -11.840268816518355,
          -13.332747466097254,
          -15.986038828304757,
          -19.664145097233607,
          -24.18774089563422,
          -29.343962387587567,
          -34.887921856561135,
          -40.53249600013612,
          -45.92518073296628,
          -50.618125781939014,
          -54.061900726961895,
          -55.69690794498107,
          -55.190894561020585,
          -52.65210504233794,
          -48.554017392211485,
          -43.47268636457941,
          -37.91351378433358,
          -32.27656801096242,
          -26.88030247024758,
          -21.99007791759878,
          -17.83538088306494,
          -14.614257576375135,
          -12.487414551043004,
          -11.566244120657956,
          -11.900600055301071,
          -13.472265214510438,
          -16.197415242749592,
          -19.93682002645123,
          -24.508723258465565,
          -29.698229283878188,
          -35.25813643247637,
          -40.89787948570649,
          -46.25960871035341,
          -50.88843017220905,
          -54.2298616613636,
          -55.73064407199878,
          -55.083002474926374,
          -52.42500952088738,
          -48.24507720797149,
          -43.11813616898271,
          -37.54267294849726,
          -31.91245643612462,
          -26.541677502396126,
          -21.69296403878816,
          -17.59373597607438,
          -14.439865553735446,
          -12.389230406090983,
          -11.549531294478896,
          -11.966271982190948,
          -13.616759494338206,
          -16.413165115206013,
          -20.21308405876901,
          -24.83237122980745,
          -30.054103927705654,
          -35.628719602647394,
          -41.26210675671162,
          -46.590931992136795,
          -51.153217328451625,
          -54.38983341372817,
          -55.75498000877853,
          -54.96634739886771,
          -52.19135955303248,
          -47.932109082270664,
          -42.761704015643254,
          -37.17163010602089,
          -31.54948173028056,
          -26.205311463321017,
          -21.399084536403127,
          -17.356169034251703,
          -14.270233993600613,
          -12.2962736461108,
          -11.538243355524532,
          -12.037269944925523,
          -13.766198378226122,
          -16.633242956566384,
          -20.49288165654759,
          -25.158620870894733,
          -30.411512605704214,
          -35.99958278567049,
          -41.625065747351066,
          -46.919006897233125,
          -51.41231982953321,
          -54.541677153046834,
          -55.76989205411494,
          -54.84104028958117,
          -51.95132352051096,
          -47.61526889455109,
          -42.4035135311458,
          -36.8004819889429,
          -31.187723044965804,
          -25.871272361888614,
          -21.108498887057436,
          -17.122730297717016,
          -14.105400876029316,
          -12.208566151548217,
          -11.532383262104586,
          -12.113577603476017,
          -13.920548497775155,
          -16.857602128761087,
          -20.7761563452469,
          -25.48740734381168,
          -30.770380505223244,
          -36.370635831123565,
          -41.98664216866572,
          -47.24368723474672,
          -51.665569441581866,
          -54.68525844705557,
          -55.775365430226024,
          -54.70719805480354,
          -51.705069842433836,
          -47.29470988253657,
          -42.043685635013,
          -36.42932327019592,
          -30.827258035492356,
          -25.539627021589986,
          -20.821265452057236,
          -16.893468773003388,
          -13.945402723472798,
          -12.126128130606277,
          -11.531952210622277,
          -12.19517694707157,
          -14.079775045518314,
          -17.08619481270226,
          -21.062850632534985,
          -25.818664773199707,
          -31.13063151463422,
          -36.7417867604715,
          -42.34671921092126,
          -47.56482404570125,
          -51.912797057959956,
          -54.820447398280145,
          -55.771394115248455,
          -54.56494300000366,
          -51.45276659676712,
          -46.9705825496681,
          -41.68233856921664,
          -36.05824660975479,
          -30.468162883560034,
          -25.21044106318302,
          -20.537441410651557,
          -16.668432111844847,
          -13.790274425423663,
          -12.048977895303997,
          -11.536949370765264,
          -12.282047994597928,
          -14.243841444057518,
          -17.318971655735034,
          -21.352905645317435,
          -26.15232587927068,
          -31.492187859186355,
          -37.11294141523408,
          -42.70517723047463,
          -47.882265411099034,
          -52.15383278179553,
          -54.94711895175859,
          -55.75798082908086,
          -54.41440243826641,
          -51.19458128704677,
          -46.643034661367786,
          -41.31958796727385,
          -35.687342710760824,
          -30.110512318491775,
          -24.883778891227706,
          -20.25708271801805,
          -16.447666549719546,
          -13.640049169655365,
          -11.97713179901458,
          -11.547371840144418,
          -12.374168770027003,
          -14.412709338373416,
          -17.555881770367815,
          -21.64626112634197,
          -26.488321968126076,
          -31.85497008156971,
          -37.4840034273175,
          -43.06189372731932,
          -48.1958565119632,
          -52.388506207913224,
          -55.06515330480505,
          -55.73513700809196,
          -54.25570825168288,
          -50.93068053757091,
          -46.31221114070146,
          -40.95554681384818,
          -35.316700276399196,
          -29.75437956074014,
          -24.559703630890624,
          -19.98024404541042,
          -16.231216860578417,
          -13.494758424078391,
          -11.910604257593501,
          -11.563214712176547,
          -12.471515416139734,
          -14.5863387465749,
          -17.796872903343573,
          -21.94285559885169,
          -26.82658307871554,
          -32.21889716377207,
          -37.8548743183362,
          -43.41674345237915,
          -48.50543984611938,
          -52.61664691832805,
          -55.174436588999015,
          -55.702883131705036,
          -54.088996952507955,
          -50.66123040495396,
          -45.97825464326526,
          -40.59032612317245,
          -34.94640670703856,
          -29.399837005739148,
          -24.238277781137505,
          -19.70697938696727,
          -16.019126902094,
          -13.354432407721454,
          -11.849408136583268,
          -11.584471371769535,
          -12.574062391490052,
          -14.764688153355909,
          -18.041891439382848,
          -22.242626308938526,
          -27.167037888065206,
          -32.58388642418482,
          -38.22545342621227,
          -43.76959842874455,
          -48.8108554790202,
          -52.83808514648258,
          -55.274861813564016,
          -55.661249364991995,
          -53.91441012140912,
          -50.386397062622564,
          -45.641306452453875,
          -40.22403588581882,
          -34.57654902928344,
          -29.046957123176902,
          -23.91956409028035,
          -19.437342922089293,
          -15.811440477359133,
          -13.219100965735828,
          -11.793555652748585,
          -11.6111344314937,
          -12.681783440943166,
          -14.947715507417549,
          -18.290883407222395,
          -22.54551022107791,
          -27.50961468896368,
          -32.949854474781255,
          -38.59563884758995,
          -44.1203289116623,
          -49.11194212011829,
          -53.052653099576766,
          -55.366330212327675,
          -55.61027633649246,
          -53.73209480759593,
          -50.1063473228836,
          -45.30150713696837,
          -39.8567857598632,
          -34.2072145912575,
          -28.695813166470618,
          -23.603626296502487,
          -19.171389800910845,
          -15.608202175619745,
          -13.088794472765853,
          -11.74305934327674,
          -11.643196762621077,
          -12.79465267599209,
          -15.135379332968109,
          -18.543795603169514,
          -22.85144513944892,
          -27.854242501760357,
          -33.31671832117485,
          -38.965328532322786,
          -44.468804509936774,
          -49.408538367240205,
          -53.26018643182895,
          -55.44875266059861,
          -55.55001589864985,
          -53.54220387855459,
          -49.821249053812345,
          -44.958997031682266,
          -39.48868552029735,
          -33.83849145658303,
          -28.346479523523303,
          -23.290529453771047,
          -18.90917646205003,
          -15.409457697197988,
          -12.963544180108649,
          -11.697932448517069,
          -11.68065192138482,
          -12.912645044636976,
          -15.327639237189542,
          -18.800576136898876,
          -23.16037029333748,
          -28.200851690876576,
          -33.684395999348105,
          -39.334420930243255,
          -44.81489485168927,
          -49.70048345641614,
          -53.460525134487675,
          -55.522050351897065,
          -55.480531020714835,
          -53.34489547186159,
          -49.5312706807983,
          -44.613915793315385,
          -39.11984459217291,
          -33.4704679044023,
          -27.99903120495567,
          -22.980339434802172,
          -18.650760175046226,
          -15.215253458106094,
          -12.843381902783744,
          -11.658188696190875,
          -11.72349403435121,
          -13.03573630832181,
          -15.524455957502358,
          -19.061174510204587,
          -23.472226404387122,
          -28.549373987869355,
          -34.05280652147125,
          -39.702814830710025,
          -45.15846931487995,
          -49.98761695040805,
          -53.65351325140713,
          -55.58615421665488,
          -55.40189447481963,
          -53.14033142975475,
          -49.23657985362961,
          -44.26640126429304,
          -38.75037099600855,
          -33.10323140270838,
          -27.653542822771616,
          -22.67312190007743,
          -18.396197987071556,
          -15.025635505353382,
          -12.728338899308017,
          -11.623841145205047,
          -11.771716605921181,
          -13.163901810290316,
          -15.725790086416172
         ],
         "yaxis": "y"
        }
       ],
       "layout": {
        "legend": {
         "tracegroupgap": 0
        },
        "margin": {
         "t": 60
        },
        "template": {
         "data": {
          "bar": [
           {
            "error_x": {
             "color": "#2a3f5f"
            },
            "error_y": {
             "color": "#2a3f5f"
            },
            "marker": {
             "line": {
              "color": "#E5ECF6",
              "width": 0.5
             },
             "pattern": {
              "fillmode": "overlay",
              "size": 10,
              "solidity": 0.2
             }
            },
            "type": "bar"
           }
          ],
          "barpolar": [
           {
            "marker": {
             "line": {
              "color": "#E5ECF6",
              "width": 0.5
             },
             "pattern": {
              "fillmode": "overlay",
              "size": 10,
              "solidity": 0.2
             }
            },
            "type": "barpolar"
           }
          ],
          "carpet": [
           {
            "aaxis": {
             "endlinecolor": "#2a3f5f",
             "gridcolor": "white",
             "linecolor": "white",
             "minorgridcolor": "white",
             "startlinecolor": "#2a3f5f"
            },
            "baxis": {
             "endlinecolor": "#2a3f5f",
             "gridcolor": "white",
             "linecolor": "white",
             "minorgridcolor": "white",
             "startlinecolor": "#2a3f5f"
            },
            "type": "carpet"
           }
          ],
          "choropleth": [
           {
            "colorbar": {
             "outlinewidth": 0,
             "ticks": ""
            },
            "type": "choropleth"
           }
          ],
          "contour": [
           {
            "colorbar": {
             "outlinewidth": 0,
             "ticks": ""
            },
            "colorscale": [
             [
              0,
              "#0d0887"
             ],
             [
              0.1111111111111111,
              "#46039f"
             ],
             [
              0.2222222222222222,
              "#7201a8"
             ],
             [
              0.3333333333333333,
              "#9c179e"
             ],
             [
              0.4444444444444444,
              "#bd3786"
             ],
             [
              0.5555555555555556,
              "#d8576b"
             ],
             [
              0.6666666666666666,
              "#ed7953"
             ],
             [
              0.7777777777777778,
              "#fb9f3a"
             ],
             [
              0.8888888888888888,
              "#fdca26"
             ],
             [
              1,
              "#f0f921"
             ]
            ],
            "type": "contour"
           }
          ],
          "contourcarpet": [
           {
            "colorbar": {
             "outlinewidth": 0,
             "ticks": ""
            },
            "type": "contourcarpet"
           }
          ],
          "heatmap": [
           {
            "colorbar": {
             "outlinewidth": 0,
             "ticks": ""
            },
            "colorscale": [
             [
              0,
              "#0d0887"
             ],
             [
              0.1111111111111111,
              "#46039f"
             ],
             [
              0.2222222222222222,
              "#7201a8"
             ],
             [
              0.3333333333333333,
              "#9c179e"
             ],
             [
              0.4444444444444444,
              "#bd3786"
             ],
             [
              0.5555555555555556,
              "#d8576b"
             ],
             [
              0.6666666666666666,
              "#ed7953"
             ],
             [
              0.7777777777777778,
              "#fb9f3a"
             ],
             [
              0.8888888888888888,
              "#fdca26"
             ],
             [
              1,
              "#f0f921"
             ]
            ],
            "type": "heatmap"
           }
          ],
          "heatmapgl": [
           {
            "colorbar": {
             "outlinewidth": 0,
             "ticks": ""
            },
            "colorscale": [
             [
              0,
              "#0d0887"
             ],
             [
              0.1111111111111111,
              "#46039f"
             ],
             [
              0.2222222222222222,
              "#7201a8"
             ],
             [
              0.3333333333333333,
              "#9c179e"
             ],
             [
              0.4444444444444444,
              "#bd3786"
             ],
             [
              0.5555555555555556,
              "#d8576b"
             ],
             [
              0.6666666666666666,
              "#ed7953"
             ],
             [
              0.7777777777777778,
              "#fb9f3a"
             ],
             [
              0.8888888888888888,
              "#fdca26"
             ],
             [
              1,
              "#f0f921"
             ]
            ],
            "type": "heatmapgl"
           }
          ],
          "histogram": [
           {
            "marker": {
             "pattern": {
              "fillmode": "overlay",
              "size": 10,
              "solidity": 0.2
             }
            },
            "type": "histogram"
           }
          ],
          "histogram2d": [
           {
            "colorbar": {
             "outlinewidth": 0,
             "ticks": ""
            },
            "colorscale": [
             [
              0,
              "#0d0887"
             ],
             [
              0.1111111111111111,
              "#46039f"
             ],
             [
              0.2222222222222222,
              "#7201a8"
             ],
             [
              0.3333333333333333,
              "#9c179e"
             ],
             [
              0.4444444444444444,
              "#bd3786"
             ],
             [
              0.5555555555555556,
              "#d8576b"
             ],
             [
              0.6666666666666666,
              "#ed7953"
             ],
             [
              0.7777777777777778,
              "#fb9f3a"
             ],
             [
              0.8888888888888888,
              "#fdca26"
             ],
             [
              1,
              "#f0f921"
             ]
            ],
            "type": "histogram2d"
           }
          ],
          "histogram2dcontour": [
           {
            "colorbar": {
             "outlinewidth": 0,
             "ticks": ""
            },
            "colorscale": [
             [
              0,
              "#0d0887"
             ],
             [
              0.1111111111111111,
              "#46039f"
             ],
             [
              0.2222222222222222,
              "#7201a8"
             ],
             [
              0.3333333333333333,
              "#9c179e"
             ],
             [
              0.4444444444444444,
              "#bd3786"
             ],
             [
              0.5555555555555556,
              "#d8576b"
             ],
             [
              0.6666666666666666,
              "#ed7953"
             ],
             [
              0.7777777777777778,
              "#fb9f3a"
             ],
             [
              0.8888888888888888,
              "#fdca26"
             ],
             [
              1,
              "#f0f921"
             ]
            ],
            "type": "histogram2dcontour"
           }
          ],
          "mesh3d": [
           {
            "colorbar": {
             "outlinewidth": 0,
             "ticks": ""
            },
            "type": "mesh3d"
           }
          ],
          "parcoords": [
           {
            "line": {
             "colorbar": {
              "outlinewidth": 0,
              "ticks": ""
             }
            },
            "type": "parcoords"
           }
          ],
          "pie": [
           {
            "automargin": true,
            "type": "pie"
           }
          ],
          "scatter": [
           {
            "marker": {
             "colorbar": {
              "outlinewidth": 0,
              "ticks": ""
             }
            },
            "type": "scatter"
           }
          ],
          "scatter3d": [
           {
            "line": {
             "colorbar": {
              "outlinewidth": 0,
              "ticks": ""
             }
            },
            "marker": {
             "colorbar": {
              "outlinewidth": 0,
              "ticks": ""
             }
            },
            "type": "scatter3d"
           }
          ],
          "scattercarpet": [
           {
            "marker": {
             "colorbar": {
              "outlinewidth": 0,
              "ticks": ""
             }
            },
            "type": "scattercarpet"
           }
          ],
          "scattergeo": [
           {
            "marker": {
             "colorbar": {
              "outlinewidth": 0,
              "ticks": ""
             }
            },
            "type": "scattergeo"
           }
          ],
          "scattergl": [
           {
            "marker": {
             "colorbar": {
              "outlinewidth": 0,
              "ticks": ""
             }
            },
            "type": "scattergl"
           }
          ],
          "scattermapbox": [
           {
            "marker": {
             "colorbar": {
              "outlinewidth": 0,
              "ticks": ""
             }
            },
            "type": "scattermapbox"
           }
          ],
          "scatterpolar": [
           {
            "marker": {
             "colorbar": {
              "outlinewidth": 0,
              "ticks": ""
             }
            },
            "type": "scatterpolar"
           }
          ],
          "scatterpolargl": [
           {
            "marker": {
             "colorbar": {
              "outlinewidth": 0,
              "ticks": ""
             }
            },
            "type": "scatterpolargl"
           }
          ],
          "scatterternary": [
           {
            "marker": {
             "colorbar": {
              "outlinewidth": 0,
              "ticks": ""
             }
            },
            "type": "scatterternary"
           }
          ],
          "surface": [
           {
            "colorbar": {
             "outlinewidth": 0,
             "ticks": ""
            },
            "colorscale": [
             [
              0,
              "#0d0887"
             ],
             [
              0.1111111111111111,
              "#46039f"
             ],
             [
              0.2222222222222222,
              "#7201a8"
             ],
             [
              0.3333333333333333,
              "#9c179e"
             ],
             [
              0.4444444444444444,
              "#bd3786"
             ],
             [
              0.5555555555555556,
              "#d8576b"
             ],
             [
              0.6666666666666666,
              "#ed7953"
             ],
             [
              0.7777777777777778,
              "#fb9f3a"
             ],
             [
              0.8888888888888888,
              "#fdca26"
             ],
             [
              1,
              "#f0f921"
             ]
            ],
            "type": "surface"
           }
          ],
          "table": [
           {
            "cells": {
             "fill": {
              "color": "#EBF0F8"
             },
             "line": {
              "color": "white"
             }
            },
            "header": {
             "fill": {
              "color": "#C8D4E3"
             },
             "line": {
              "color": "white"
             }
            },
            "type": "table"
           }
          ]
         },
         "layout": {
          "annotationdefaults": {
           "arrowcolor": "#2a3f5f",
           "arrowhead": 0,
           "arrowwidth": 1
          },
          "autotypenumbers": "strict",
          "coloraxis": {
           "colorbar": {
            "outlinewidth": 0,
            "ticks": ""
           }
          },
          "colorscale": {
           "diverging": [
            [
             0,
             "#8e0152"
            ],
            [
             0.1,
             "#c51b7d"
            ],
            [
             0.2,
             "#de77ae"
            ],
            [
             0.3,
             "#f1b6da"
            ],
            [
             0.4,
             "#fde0ef"
            ],
            [
             0.5,
             "#f7f7f7"
            ],
            [
             0.6,
             "#e6f5d0"
            ],
            [
             0.7,
             "#b8e186"
            ],
            [
             0.8,
             "#7fbc41"
            ],
            [
             0.9,
             "#4d9221"
            ],
            [
             1,
             "#276419"
            ]
           ],
           "sequential": [
            [
             0,
             "#0d0887"
            ],
            [
             0.1111111111111111,
             "#46039f"
            ],
            [
             0.2222222222222222,
             "#7201a8"
            ],
            [
             0.3333333333333333,
             "#9c179e"
            ],
            [
             0.4444444444444444,
             "#bd3786"
            ],
            [
             0.5555555555555556,
             "#d8576b"
            ],
            [
             0.6666666666666666,
             "#ed7953"
            ],
            [
             0.7777777777777778,
             "#fb9f3a"
            ],
            [
             0.8888888888888888,
             "#fdca26"
            ],
            [
             1,
             "#f0f921"
            ]
           ],
           "sequentialminus": [
            [
             0,
             "#0d0887"
            ],
            [
             0.1111111111111111,
             "#46039f"
            ],
            [
             0.2222222222222222,
             "#7201a8"
            ],
            [
             0.3333333333333333,
             "#9c179e"
            ],
            [
             0.4444444444444444,
             "#bd3786"
            ],
            [
             0.5555555555555556,
             "#d8576b"
            ],
            [
             0.6666666666666666,
             "#ed7953"
            ],
            [
             0.7777777777777778,
             "#fb9f3a"
            ],
            [
             0.8888888888888888,
             "#fdca26"
            ],
            [
             1,
             "#f0f921"
            ]
           ]
          },
          "colorway": [
           "#636efa",
           "#EF553B",
           "#00cc96",
           "#ab63fa",
           "#FFA15A",
           "#19d3f3",
           "#FF6692",
           "#B6E880",
           "#FF97FF",
           "#FECB52"
          ],
          "font": {
           "color": "#2a3f5f"
          },
          "geo": {
           "bgcolor": "white",
           "lakecolor": "white",
           "landcolor": "#E5ECF6",
           "showlakes": true,
           "showland": true,
           "subunitcolor": "white"
          },
          "hoverlabel": {
           "align": "left"
          },
          "hovermode": "closest",
          "mapbox": {
           "style": "light"
          },
          "paper_bgcolor": "white",
          "plot_bgcolor": "#E5ECF6",
          "polar": {
           "angularaxis": {
            "gridcolor": "white",
            "linecolor": "white",
            "ticks": ""
           },
           "bgcolor": "#E5ECF6",
           "radialaxis": {
            "gridcolor": "white",
            "linecolor": "white",
            "ticks": ""
           }
          },
          "scene": {
           "xaxis": {
            "backgroundcolor": "#E5ECF6",
            "gridcolor": "white",
            "gridwidth": 2,
            "linecolor": "white",
            "showbackground": true,
            "ticks": "",
            "zerolinecolor": "white"
           },
           "yaxis": {
            "backgroundcolor": "#E5ECF6",
            "gridcolor": "white",
            "gridwidth": 2,
            "linecolor": "white",
            "showbackground": true,
            "ticks": "",
            "zerolinecolor": "white"
           },
           "zaxis": {
            "backgroundcolor": "#E5ECF6",
            "gridcolor": "white",
            "gridwidth": 2,
            "linecolor": "white",
            "showbackground": true,
            "ticks": "",
            "zerolinecolor": "white"
           }
          },
          "shapedefaults": {
           "line": {
            "color": "#2a3f5f"
           }
          },
          "ternary": {
           "aaxis": {
            "gridcolor": "white",
            "linecolor": "white",
            "ticks": ""
           },
           "baxis": {
            "gridcolor": "white",
            "linecolor": "white",
            "ticks": ""
           },
           "bgcolor": "#E5ECF6",
           "caxis": {
            "gridcolor": "white",
            "linecolor": "white",
            "ticks": ""
           }
          },
          "title": {
           "x": 0.05
          },
          "xaxis": {
           "automargin": true,
           "gridcolor": "white",
           "linecolor": "white",
           "ticks": "",
           "title": {
            "standoff": 15
           },
           "zerolinecolor": "white",
           "zerolinewidth": 2
          },
          "yaxis": {
           "automargin": true,
           "gridcolor": "white",
           "linecolor": "white",
           "ticks": "",
           "title": {
            "standoff": 15
           },
           "zerolinecolor": "white",
           "zerolinewidth": 2
          }
         }
        },
        "xaxis": {
         "anchor": "y",
         "domain": [
          0,
          1
         ],
         "title": {
          "text": "datetime"
         }
        },
        "yaxis": {
         "anchor": "x",
         "domain": [
          0,
          1
         ],
         "title": {
          "text": "elevation"
         }
        }
       }
      },
      "text/html": [
       "<div>                            <div id=\"ac8974b8-d5bb-487a-9401-baab3a3e3eed\" class=\"plotly-graph-div\" style=\"height:525px; width:100%;\"></div>            <script type=\"text/javascript\">                require([\"plotly\"], function(Plotly) {                    window.PLOTLYENV=window.PLOTLYENV || {};                                    if (document.getElementById(\"ac8974b8-d5bb-487a-9401-baab3a3e3eed\")) {                    Plotly.newPlot(                        \"ac8974b8-d5bb-487a-9401-baab3a3e3eed\",                        [{\"customdata\":[[142.4337231135884,-0.2805343880709552,56.52442628768894],[200.1162170176122,-33.59427484334466,-2.6564701013421237],[212.8212105609823,-33.62386612687472,-17.765074945267802],[225.40919495139033,-33.633719649047485,-32.82864250533924],[237.98905900473025,-33.63864817827096,-47.88096389533964],[250.73669522979765,-33.64160527319287,-62.928789635109496],[263.9256747770189,-33.643573949632945,-77.97436825344542],[277.9426163616994,-33.6449751954078,-93.01866253710098],[293.28945211413554,-33.64601965714244,-108.06215325809099],[310.5241403106183,-33.64682476807141,-123.10510705588509],[330.0266071839179,-33.647461544500764,-138.14768361050116],[351.51307936631105,-33.64797580525191,-153.189984380951],[13.680413150058977,-33.64839872700262,-168.23207699057602],[34.77898399765984,-33.64875247285536,176.72599163622596],[53.737776790653115,-33.649053356494505,161.68418777123333],[70.47958808012845,-33.64931369497226,146.64248639367088],[85.46153944955846,-33.649542930369215,131.60086840490297],[99.24033706196437,-33.649748330662476,116.55931885134017],[112.29193760416163,-33.649935444542606,101.51782576752406],[124.97422929551553,-33.65010841273881,86.47637941256794],[137.53380744720016,-33.65027019779973,71.43497176168889],[150.11881007191047,-33.65042277014429,56.39359616504988],[162.79109899208748,-33.65056727306967,41.352247116206215],[175.54202667888234,-33.65070417945211,26.310920090983345],[188.31687613182626,-33.65083344608601,11.26961142965471],[201.04818624796354,-33.65095466688248,-3.7716817577336474],[213.69199167718014,-33.65106722262676,-18.812961671175586],[226.2588404189864,-33.65117042462113,-33.85422990024484],[238.83528947872622,-33.651263645218144,-48.895487508781294],[251.5979454090857,-33.651346430608385,-63.9367351208791],[264.8256428398076,-33.65141859089966,-78.97797301314833],[278.91205959020107,-33.65148026327201,-94.01920121051104],[294.3654365507812,-33.65153194549227,-109.0604195826361],[311.74171729421334,-33.65157449876381,-124.10162793733541],[331.39406979247275,-33.6516091207259,-139.14282610684745],[352.9759733639642,-33.65163729126037,-154.1840140229506],[15.124375717507924,-33.6516606954743,-169.22519177726096],[36.10247056026135,-33.65168112966487,175.73364033616508],[54.90793003696363,-33.65170039714607,160.6924817978682],[71.51622814546963,-33.6517202014322,145.6513318603816],[86.40154434132312,-33.65174204439514,130.61018956547215],[100.11850368666053,-33.651767136622006,115.56905377950338],[113.13556408758771,-33.65179632632448,100.52792324395872],[125.80288415244311,-33.65183005184835,85.48679663731802],[138.36017496740672,-33.651868321189276,70.4456726436583],[150.94950482206346,-33.65191072004909,55.40455002300019],[163.6275347269057,-33.65195644799401,40.36342767834666],[176.3817271912293,-33.65200438033704,25.32230471457618],[189.15543267817955,-33.65205315159072,10.281180484991122],[201.8816409826055,-33.65210125527173,-4.759945376575237],[214.51911197794468,-33.65214715152655,-19.801072945649178],[227.08282967762818,-33.652189377527925,-34.84220201277316],[239.6648809517891,-33.652226653113196,-49.883332105787346],[252.44819588199297,-33.65225797222357,-64.924462532988],[265.7187733088896,-33.6522826756736,-79.9655924392463],[279.8781347311093,-33.6523004998732,-95.00672087262872],[295.44095439250333,-33.652311598191616,-110.04784685706335],[312.96036967277746,-33.652316533522175,-125.08896946608608],[332.7608271399204,-33.652316242577555,-140.13008789271154],[354.4318031336576,-33.65231197437783,-155.1712015106535],[16.55376300522502,-33.65230520716089,-170.21230992276375],[37.40812890727591,-33.65229754941925,174.74658700660933],[56.06171117373906,-33.65229063185549,159.70548913750682],[72.53989525672219,-33.65228599766736,144.6643960594562],[87.3319695630733,-33.65228499868878,129.6233071153736],[100.98983725707016,-33.652288704510084,114.5822214426332],[113.97440804960144,-33.6522978308121,99.54113802846884],[126.62820841729913,-33.65231269183192,84.50005577588176],[139.18416270660606,-33.65233318022492,69.45897357553186],[151.77834969509468,-33.652358775711534,54.4178903786893],[164.46231672546534,-33.6523885819246,39.376805266202894],[177.2197548687979,-33.65242138894212,24.3357175087806],[189.99223297018574,-33.65245575723015,9.29462661442599],[202.7133484537374,-33.65249011726562,-5.746467639514369],[215.34471452724512,-33.6525228781891,-20.787565194727765],[227.9058353473093,-33.65255253731947,-35.82866571807888],[240.49438060102494,-33.652577784031344,-50.869768624954496],[253.29965207350756,-33.652597590424655,-65.91087312188111],[266.6148667750094,-33.652611282541315,-80.95197826263994],[280.8493929534004,-33.652618587311224,-95.9930830147556],[296.5240569283497,-33.652619652012305,-111.0341863318124],[314.1880832924016,-33.65261503491228,-126.07528722664576],[334.13488359374327,-33.652605667731365,-141.11638484041467],[355.8884166344312,-33.65259279249655,-156.15747850281727],[17.976038452191464,-33.65257787710953,-171.19856777933416],[38.70271723952734,-33.65256251541044,173.76034749772842],[57.20489256299544,-33.65254831857978,158.71926721653162],[73.55535265331523,-33.65253680531597,143.67819099218116],[88.25672464048044,-33.65252929830892,128.63711819196052],[101.85758241481932,-33.652526834100996,113.59604797759431],[114.81120546229913,-33.65253009250944,98.55497936161768],[127.45254162315834,-33.652539350446126,83.51391127403016],[140.0077895493398,-33.652554463300255,68.47284263464229],[152.60709366172605,-33.65257487516284,53.43177242616744],[165.29696039436877,-33.652599657197136,38.390699763057704],[178.05742172953066,-33.65262757153192,23.349623951357906],[190.8284143521774,-33.65265715630706,8.308544535492167],[203.54430002782834,-33.65268682562548,-6.732538671545628],[216.16967323547857,-33.65271497941552,-21.77362557523283],[228.72864227835595,-33.65274011313882,-36.814715807038226],[241.3245133813843,-33.652760920183674,-51.85580875074622],[254.15301012700576,-33.65277638206162,-66.8969035848371],[267.51462310365395,-33.652785838432315,-81.93799933928975],[281.8265647629583,-33.65278903261223,-96.97909496252487],[297.6155019588516,-33.65278612944876,-112.02018939393334],[315.42556283332027,-33.652777704333076,-127.06128163700426],[335.5167436951389,-33.6527647041002,-142.1023708280594],[357.3461412585206,-33.65274838248769,-157.1434562958844],[19.39166423463385,-33.65273021456824,-172.18453760818457],[39.98696830485319,-33.65271179600901,172.77438539833304],[58.33831324779737,-33.652694734051614,157.73331260629809],[74.56338899818606,-33.652680537672964,142.69224362523696],[89.17649524944416,-33.65267051444576,127.6511778178478],[102.72232414405501,-33.65266568115874,112.61011434318928],[115.64645663527209,-33.65266669431731,97.56905221382007],[128.27631385635067,-33.65267380528525,82.52799036300398],[140.83142555412306,-33.65268684314289,67.48692771735568],[153.4360544488712,-33.65270522644031,52.445863269976435],[166.13173903350216,-33.65272800304797,37.404796149060054],[178.8949664497688,-33.65275391538269,22.36372567728279],[191.6641922355011,-33.65278148655101,7.322651417903923],[204.37469895153532,-33.65280912127964,-7.718426796452331],[216.99418852930734,-33.65283521570712,-22.75950885075346],[229.55145579599628,-33.652858267295024,-37.80059435584784],[242.1554971227395,-33.65287697729426,-52.84168267696159],[255.0085093475326,-33.65289034003281,-67.88277297643639],[268.41831243739165,-33.65289771192541,-82.92386427126849],[282.80995223536274,-33.652898855713595,-97.9649555006006],[298.7155895493814,-33.65289395690289,-113.00604559855623],[316.6729928783669,-33.65288361126358,-128.0471335674223],[336.9063154973806,-33.65286878424534,-143.0882185461888],[358.80466878774916,-33.65285074507387,-158.12929986972614],[20.80048433048605,-33.6528309800349,-173.1703771145824],[41.26104274032341,-33.652811090874486,171.78854987176913],[59.46230248908836,-33.6527926852649,156.74748096021932],[75.56435061149251,-33.65277726683189,141.7064157485974],[90.09158523102032,-33.652766132268916,126.66535358893525],[103.58431475330904,-33.65276028258358,111.62429363157761],[116.48036792942898,-33.65276035455476,96.58323488311314],[129.09969216143674,-33.652766577098625,81.54217627416193],[141.6552034795199,-33.65277875553788,66.50111673239915],[154.2653352323658,-33.65279628486053,51.460055255801755],[166.9667326436198,-33.652818191069976,36.418990981105324],[179.7324548757856,-33.65284319780615,21.377923242805014],[192.4996288583062,-33.65286981368586,6.336851618627396],[205.2046136211472,-33.65289643513161,-8.704224042702721],[217.8183423069065,-33.652921454307275,-23.745303609420855],[230.3743764486953,-33.6529433697293,-38.786386675037235],[242.98745562630697,-33.65296089069517,-53.82747258851021],[255.86630230731208,-33.652973024956474,-68.8685604979384],[269.3261212223073,-33.65297914680954,-83.90964940897224],[283.79977070978936,-33.65297904010281,-98.95073825297952],[299.8245203901606,-33.65297291320724,-113.99182596033579],[317.9304337999522,-33.65296138491493,-129.03291153379308],[338.3033578511405,-33.65294544222295,-144.0739941169123],[0.26354460324154594,-33.652926372884174,-159.11507305286761],[22.202215175930764,-33.652905677337856,-174.15614792960304],[42.524979061809724,-33.652884966044695,170.8027813917787],[60.57707044553313,-33.65286584925386,155.76171476731867],[76.55847395466415,-33.65284982675002,140.7206517798803],[91.00220033111214,-33.65283818513115,125.67959176754215],[104.44371922947626,-33.65283190965524,110.63853386877555],[117.31306718584975,-33.652831616698165,95.59747708129044],[129.92277214400877,-33.652837511454905,80.55642033055766],[142.4791906116713,-33.6528493737888,65.5153625432966],[155.09497917710172,-33.65286657320665,50.47430272089883],[167.80196660841054,-33.652888111943184,35.43324000776468],[180.569903716256,-33.65291269321252,20.39217374987095],[193.33474275280736,-33.6529388099597,5.351103539548462],[206.03407382807666,-33.65296484828388,-9.689970755243046],[218.6421823800388,-33.652989197872,-24.731048984623612],[231.1974744939038,-33.6530103615865,-39.77213072692053],[243.82048539410317,-33.653027058707785,-54.8132153148365],[256.72651630818996,-33.65303831265136,-69.85430188252859],[270.23821118551336,-33.65304351798603,-84.89538942490775],[284.79620842367905,-33.65304248205211,-99.93647686651093],[300.94245967651045,-33.65303543831957,-114.97756313520024],[319.1978940549334,-33.65302303056085,-130.01864723568042],[339.7075653581582,-33.65300626891175,-145.0597283177541],[1.7222644123622237,-33.652986460820905,-160.10080573467528],[23.59654412956755,-33.65296512160837,-175.14187908757742],[43.778785135438206,-33.65294387075366,169.8170517470612],[61.682789513330384,-33.65292432101297,154.77598660880815],[77.54595663401146,-33.652907967958356,139.7349250641186],[91.90851017041076,-33.65289608750646,124.6938664358814],[105.3006699020253,-33.65288964845863,109.65280984967679],[118.14465261093986,-33.65288924604898,94.61175429354566],[130.74562221169887,-33.652895061059226,79.57069868721092],[143.30342911136617,-33.652906847309566,64.52964195600872],[155.92500632436818,-33.6529239483921,49.48858310444368],[168.63744532825197,-33.65294534250973,34.44752128436517],[181.40731100143952,-33.652969712358,19.406455853057683],[194.16953608941054,-33.65299553527145,4.365386417293033],[206.86309512906,-33.65302118701738,-10.675687139934434],[219.46574413964913,-33.653045053942705,-25.716764650652323],[232.02080925553196,-33.653065643593585,-40.757845673780125],[244.65467319209455,-33.65308168599306,-55.798929525688834],[257.5892697622879,-33.65309222112211,-70.84001532666667],[271.15473523199097,-33.6530966647673,-85.8811020611456],[285.79944270018666,-33.65309484864997,-100.92218864724873],[302.0695544700924,-33.65308703208179,-115.96327401090514],[320.47535011460695,-33.65307388433985,-131.00435715943829],[341.1185932842503,-33.653056438961045,-146.045437249609],[3.1803041169692494,-33.653036023077796,-161.08651364544045],[24.983159253789726,-33.65301416662763,-176.12758596186015],[45.022465366289836,-33.652992497649485,168.83134590881915],[62.77961893162588,-33.65297263083242,153.79028178942266],[78.52697939402142,-33.652956056948064,138.74922122993127],[92.81066780509602,-33.65294404073812,123.70816353818495],[106.15528396643165,-33.652937534252054,108.66710782719113],[118.97520867144932,-33.652937111573024,93.62605307576221],[131.56829816196242,-33.652942929407715,78.58499819839014],[144.12794950795458,-33.6529547162451,63.5439421195094],[156.75542610783313,-33.65297179083401,48.5028838471272],[169.4731637982676,-33.65299310872166,33.461822540741665],[182.2446667185893,-33.6530173336736,18.420757568900022],[195.00400436033993,-33.6530429290912,3.3796885524708755],[207.69168758740412,-33.65306826280078,-11.661384611308364],[220.28905841782878,-33.65309171938454,-26.70246173775998],[232.8444362401203,-33.65311181111996,-41.743542367653404],[245.49010259730298,-33.653127279017525,-56.78462580236656],[258.4546783750419,-33.65313717937386,-71.82571114966886],[272.0758434752286,-33.653140948453505,-86.86679738477768],[286.80964600635855,-33.65313844117183,-101.90788342050223],[303.2059399514723,-33.65312994112613,-116.94896818167283],[321.7627535664066,-33.653116141283334,-131.99005067876945],[342.53606737464776,-33.65309809663895,-147.03113007569218],[4.637132229734805,-33.653077152083995,-162.07220574704755],[26.3617605996027,-33.653054850411486,-177.1132773210258],[46.25603026546811,-33.65303282675731,167.84565529507935],[63.86771354716091,-33.65301269669759,152.80459190844653],[79.50171414433674,-33.652995945661104,137.76353205384655],[93.70881694536754,-33.65298382722735,122.72247502541764],[107.0076699608233,-33.65297727727297,107.6814199249014],[119.80481195033926,-33.65297684984556,92.64036572307954],[132.3908485262391,-33.652982679159265,77.59931133017103],[144.9527756077013,-33.65299447031793,62.55825567038858],[157.5862418663701,-33.653011519406654,47.517197755573854],[170.3091117340652,-33.65303276158283,32.4761367528195],[183.0819565377287,-33.653056843880634,17.43507204151181],[195.83813969017064,-33.653082217751184,2.3940032558327426],[208.51985867886728,-33.65310724482179,-12.647069688599162],[221.1121540287751,-33.653130309440535,-27.688146591830588],[233.66840937073945,-33.653149929209704,-42.729226983375256],[246.32685599881003,-33.65316485607825,-57.7703101513122],[259.3228569904852,-33.65317416200673,-72.81139519249123],[273.0016849824134,-33.65317730255234,-87.85248107431339],[287.82698758712985,-33.653174154215755,-102.89356670538326],[304.35174089596626,-33.65316502298745,-117.93465101020557],[323.06003293007996,-33.65315062350304,-132.97573300280408],[343.9595877874428,-33.65313203022641,-148.01681185423428],[6.092215662786448,-33.65311060399722,-163.05788694935757],[27.732064618072414,-33.653087898962625,-178.09895792899897],[47.47949965616829,-33.65306555625868,166.85997528540256],[64.94722693021976,-33.65304519171475,151.81891248634832],[80.47032701247979,-33.653028285263936,136.77785319440846],[94.60309477484721,-33.653016079628635,121.73679669096083],[107.85793030771228,-33.65300949521698,106.6957420673107],[120.63353343888983,-33.653009067057624,91.65468828682876],[133.21331665605643,-33.653014908094725,76.61363425585807],[145.7779264112656,-33.65302670136086,61.572578898540684],[158.41745261659193,-33.65304372157143,46.531521230447765],[171.1452752062744,-33.65306488466972,31.490460425964113],[183.91916330109476,-33.653088821938795,16.449395874830934],[196.67193216969625,-33.653113973615675,1.4083272239586737],[209.347614483713,-33.65313869630352,-13.632745599316502],[221.9350588485725,-33.653161373638774,-28.673822380651057],[234.4927819825479,-33.65318052746334,-43.714902632627116],[247.1650155430036,-33.653194920471336,-58.75598563010833],[260.19392051508004,-33.653203640174894,-73.7970704590081],[273.93240867618664,-33.65320616144851,-88.83815607883587],[288.85163426893786,-33.65320238256658,-103.87924139391062],[305.50707227465364,-33.65319263225898,-118.92032532837045],[324.3670945646792,-33.65317764729707,-133.9614068998428],[345.38873206645314,-33.65315852213676,-149.00248528672842],[7.545024222714706,-33.65313663406168,-164.04355988448063],[29.093807131984555,-33.65311354894686,-179.08463034705613],[48.69290466422419,-33.65309091409085,165.87430338935036],[66.01831351605351,-33.65307034545226,150.83324110187417],[81.43298063568139,-33.65305331700964,135.79218229618172],[95.49363420631757,-33.653041059821184,120.75112624026022],[108.70616346811363,-33.65303447769661,105.71007201448548],[121.46144059623893,-33.65303408525846,90.66901857454437],[134.03574271532767,-33.65303997263758,75.62796482290271],[146.6034180643815,-33.653051799224876,60.58690968393488],[159.2490549763433,-33.65306881691222,45.545852177563525],[171.98163853513347,-33.6530899212374,30.504791486377346],[184.7562688725472,-33.65311372693579,15.463727011616776],[197.5053716399871,-33.65313866273126,0.42265841420980477],[210.17496136375703,-33.65316307894255,-14.618414361396544],[222.75780135852597,-33.65318536068436,-29.659491084557626],[235.31760824838696,-33.6532040377348,-44.70057125417105],[248.0046644608176,-33.65321788547588,-59.7416541317363],[261.06798515632016,-33.65322600886633,-74.78273879244553],[274.8681644562528,-33.653227903796335,-89.82382418845128],[289.88375134856057,-33.65322349169165,-104.86490922058958],[306.6720397702686,-33.65321312499165,-119.90599281361838],[325.68382334503207,-33.65319756311938,-134.94707398984986],[346.82305770166784,-33.65317792058149,-149.9881519361095],[8.995034211240936,-33.65315559074606,-165.02922605944468],[30.446745127900957,-33.653132150511,179.92970397222376],[49.89628855355847,-33.65310925238548,164.8886382073082],[67.08112960070672,-33.653088511370974,149.84757640718223],[82.38983528891943,-33.65307139438558,134.80651806244643],[96.3805649439659,-33.65305911980238,119.7654624277523],[109.55246485512139,-33.653052573983125,104.72440857277671],[122.28859810292235,-33.653052250524645,89.68335544587215],[134.85816428771062,-33.65305821638334,74.64230194604373],[147.4292643387661,-33.65307010720237,59.60124699831307],[160.08104353562334,-33.653087152168176,44.56018962731965],[172.81818455825402,-33.65310822670055,29.51912902411724],[185.59325429833444,-33.65313192937546,14.478064601597762],[198.3384477382401,-33.65315667781821,-0.5630039652671118],[211.00190592037296,-33.653180816320194,-15.604076717358712],[223.58041055189858,-33.65320273049593,-30.645153407722102],[236.1429430456219,-33.65322095809505,-45.686233519015865],[248.8458869035784,-33.653234287611156,-60.72731629925231],[261.945168221832,-33.65324184189528,-75.76840081287507],[275.8091029121071,-33.65324313826626,-90.80948600476952],[290.92350207693954,-33.65323812163118,-105.85057077245365],[307.8467388824458,-33.65322716834468,-120.89165404154647],[327.0100819905171,-33.653211060537224,-135.93273483930997],[348.2621034006445,-33.6531909326649,-150.9738123612529],[10.441730535561675,-33.65316819393332,-166.0148860262307],[31.79065708338582,-33.6531444319013,178.9440444837293],[51.0897063649227,-33.65312130385807,163.90297920161407],[68.1358333541536,-33.653100423406244,148.86191787310548],[83.34104921412712,-33.65308325001206,133.82085997393688],[97.2640139299991,-33.65307098908239,118.77980474570988],[110.39692731274485,-33.65306450940979,103.73875124776657],[123.1150683546663,-33.65306428363885,88.69769842152127],[135.6806168918308,-33.65307035583333,73.65664516290009],[148.25547718009796,-33.65308233836956,58.61559039789507],[160.91341144441083,-33.65309943837541,43.57453315608403],[173.6548952558373,-33.65312051191204,28.533472637072357],[186.43010045887044,-33.65314414219689,13.492408265324997],[199.1711505659678,-33.65316873652011,-1.5486602703881158],[211.8284556576901,-33.653192635650214,-16.58973299494739],[224.40291658191688,-33.65321422639394,-31.630809646617344],[236.96884260703075,-33.65323205220906,-46.67188969450823],[249.68876861231797,-33.653244913840304,-61.7129723736265],[262.82558880511016,-33.6532519510322,-76.75405673793523],[276.7553759713978,-33.653252701512585,-91.79514172507497],[291.97104810986065,-33.65324713274582,-106.83622622906418],[309.0312550117251,-33.65323564427523,-121.87730917600541],[328.34571140043124,-33.65321904048723,-136.91838959761108],[349.7053912554412,-33.65319847565334,-151.95946669752405],[11.8846092175257,-33.6531753750058,-167.00053990587406],[33.12534338140116,-33.653151337243614,177.95839108164154],[52.27322455037802,-33.653128025137825,162.91732628286837],[69.18258472203487,-33.65310705172278,147.87626542789246],[84.28677874783457,-33.65308986986229,132.83520797744382],[98.1441055293475,-33.65307767275191,117.79415315975059],[111.23964128747402,-33.65307131217126,102.75310002330282],[123.9409116077061,-33.653071240087314,87.71204750195076],[136.50313410651304,-33.65307747761224,72.6709944878598],[149.0820668228999,-33.65308961344831,57.629939907336684],[161.74615052249607,-33.65310683193472,42.58888279434152],[174.49175185120114,-33.65312796878383,27.547822356658482],[187.26678814718304,-33.653151590700126,12.50675803017393],[200.00347073272988,-33.65317609343744,-2.5343104824394502],[212.65461900499486,-33.65319981207714,-17.57538319147059],[225.22535078781934,-33.653221134301376,-32.6164598193119],[237.79536456492755,-33.653238610197356,-47.65753981897277],[250.53339699163917,-33.65325105274699,-62.698622411822114],[263.7093678833683,-33.653257618825606,-77.73970664071112],[277.70713696463895,-33.653257867054585,-92.78079143545462],[293.02654938074426,-33.653251788163786,-107.82187568607769],[310.22566301045043,-33.65323980577691,-122.86295831880891],[329.69053063261066,-33.65322274755434,-137.90403836961448],[351.1524287317449,-33.65320178865935,-152.94511505025557],[13.32317966487463,-33.653178371410476,-167.9861878023151],[34.45062664364663,-33.653154106612504,176.97274366448613],[53.44692076425178,-33.653130663317825,161.93167935232876],[70.22154557748365,-33.65310965456302,146.8906189750464],[85.22717872908684,-33.653092526903464,131.84956197763594],[99.02096201182918,-33.653080461312854,116.80850757417572],[112.08069531169787,-33.65307429223716,101.76745480156416],[124.76618645061525,-33.65307445035199,86.72640258541225],[137.32574803990218,-33.653080932951774,71.68534981358135],[149.9090422711627,-33.653093304006724,56.64429541232262],[162.57925176191375,-33.653110723893796,41.60323841981399],[175.32873533494583,-33.653132006774456,26.562178052053184],[188.10329860416218,-33.653155701699575,11.521113756605958],[200.83539988867855,-33.653180191893625,-3.5199547495022396],[213.48040582360292,-33.65320380460874,-18.56102745941308],[226.047746161135,-33.65322492737155,-33.60210407817025],[238.62256837887304,-33.65324211848659,-48.643184043564624],[251.3798614949092,-33.653254204029714,-63.68426656265948],[264.5966286349891,-33.65326035910333,-78.72535066677446],[278.66454079231806,-33.65326016441601,-93.76643527777092],[294.0901639295418,-33.653253635110225,-108.80751928182102],[311.430026544813,-33.65324121985695,-123.84860160566366],[331.044336638098,-33.6532237702704,-138.88968129009496],[352.6027103159596,-33.65320248272945,-153.93075755566673],[14.756966310086614,-33.65317881658062,-168.97182985610524],[35.766351457951366,-33.65315439431576,175.98710208422727],[54.610883203531294,-33.65313089055295,160.9460382513785],[71.25287947773059,-33.65310991741792,145.90497834268137],[86.16240252420292,-33.65309291417086,130.86392178738873],[99.89470365074321,-33.65308104863608,115.8228677856649],[112.9201760936628,-33.65307513718505,100.78181536327469],[125.59094986425649,-33.65307558875621,85.74076343822036],[138.14848936199093,-33.65308237675033,70.69971089478076],[150.73641131400325,-33.65309504073381,55.65865665987413],[163.41270533515197,-33.653112717841594,40.6175997765306],[176.16582646779096,-33.653134201739654,25.576539469431218],[188.93961351112716,-33.65315802511804,10.53547519803991],[201.66693070234277,-33.65318256007503,-4.50559330632807],[214.30582738478776,-33.6532061291347,-19.54666602179532],[226.870137345112,-33.6532271208395,-34.58774263760849],[239.45051536715917,-33.65324410023026,-49.628822575653935],[252.22825369167808,-33.65325590627684,-64.66990502946064],[265.4874965242311,-33.65326173180791,-79.71098901951048],[279.6277439471988,-33.65326117887478,-94.75207346026247],[295.162047673164,-33.65325428611876,-109.79315723442848],[312.6443975029563,-33.653241526258654,-124.834239269469],[332.4069042084295,-33.65322377386239,-139.87531861102732],[354.05571937429085,-33.65320224559943,-154.91639448830838],[16.185510145425603,-33.65317841705529,-169.9574663669001],[37.07238392345713,-33.65315392179617,175.00146601455802],[55.765209784101856,-33.65313043958683,159.96040262640696],[72.2767512261329,-33.653109581411414,144.91934314990735],[87.092601847282,-33.65309277916675,129.87828699896397],[100.76544864506785,-33.653081187581435,114.83723336017684],[113.75816848483322,-33.65307560507935,99.79618124845065],[126.41525722798933,-33.65307641901163,84.75512957438592],[138.9713873593833,-33.6530835790151,69.71407721883004],[151.56418063987869,-33.65309660033113,54.67302310948721],[164.24650077237158,-33.6531145968683,39.631966294354356],[177.0030060125423,-33.653136341755996,24.590906006934922],[189.77571525983214,-33.65316035125343,9.5498417187845],[202.4980571546011,-33.653184986277054,-5.491226824229558],[215.13089667779906,-33.653208565530804,-20.532299585248406],[227.69256096089973,-33.653229478370235,-35.57337623773969],[240.2792690713606,-33.65324629562272,-50.61445618687798],[253.07866768760144,-33.6532578694812,-65.65553861198299],[266.3820997707544,-33.65326341121548,-80.69662252203968],[280.5969049609445,-33.653262545328786,-95.73770682355072],[296.2423546383641,-33.65325533542078,-110.77879039542488],[313.86881591909327,-33.653242279973114,-125.8198721657823],[333.7779865446608,-33.65322427833632,-140.8609511854203],[355.51093055008516,-33.65320256923758,-155.90202669289164],[17.60837045387746,-33.65317864601384,-170.94309816673615],[38.36861133603585,-33.653154154370995,174.01583463870762],[56.910007479549584,-33.653130779669105,158.97477167639198],[73.29332655350659,-33.65311013145537,143.93371260968672],[88.01792665305837,-33.65309363315576,128.8926568353622],[101.6333130771338,-33.65308242448759,113.8516035248472],[114.59475544734661,-33.65307728328424,98.81055168093555],[127.2391622861864,-33.6530785720963,83.76950020606675],[139.79446990507475,-33.653086213236655,68.72844797751044],[152.3923558169771,-33.65309969398855,53.68739392429181],[165.08062695591514,-33.65311810162955,38.64633710059024],[177.84025473787773,-33.653140185879934,23.605276750593017],[190.61158695417785,-33.653164444504164,8.564212360335112],[203.3287745280387,-33.65318922620536,-6.476856307015816],[215.95562838618983,-33.65321284394763,-21.51792919456122],[228.5150555742636,-33.65323369017377,-36.559005956156206],[241.10889521090624,-33.65325034704242,-51.60008597991167],[253.93120005181737,-33.65326168404847,-66.6411684295285],[267.2805692038753,-33.653266935402904,-81.68225230189694],[281.57218406702106,-33.65326575262082,-96.72333649582022],[297.33123620667783,-33.65325822851722,-111.76441988747804],[315.1033087449772,-33.653244890957446,-126.80550140747006],[335.15731468905716,-33.65322666678321,-141.84658011413305],[356.9678110761075,-33.65320481837893,-156.88765525813622],[19.025125519939213,-33.65318085722051,-171.92872633389473],[39.654941274617435,-33.65315644032707,173.03020688570837],[58.04539143259336,-33.65313325671101,157.98914433368736],[74.30277174127754,-33.65311291160776,142.94808565346793],[88.93852503525657,-33.65309681642222,127.90703022326244],[102.49841088903682,-33.65308609193731,112.86597719862796],[115.43001802754114,-33.65308149142364,97.82492557029607],[128.06271709790383,-33.65308334892615,82.78387423331615],[140.61776338905392,-33.65309155627783,67.74282206276588],[153.22094121909902,-33.65310557042354,52.701767990857356],[165.91507205410227,-33.653124450557556,37.660711080134895],[178.67755336298018,-33.653146922535825,22.619650587756922],[191.4472123584131,-33.653171466152756,7.57858601645374],[204.1590793481109,-33.65319641930372,-7.462482851342507],[216.7800388175309,-33.65322009166298,-22.503555937619748],[229.33766161467287,-33.65324088134652,-37.544632875746885],[241.93946158943677,-33.65325738423817,-52.58571303583263],[254.78594970052566,-33.65326848985008,-67.62679556598056],[268.18303808759083,-33.65327345783294,-82.66787945149416],[282.5537428632798,-33.65327196880325,-97.70896358440989],[298.4288404109449,-33.65326414632629,-112.75004683942457],[316.3478887918365,-33.653250548542324,-127.79112815103696],[336.5445973473508,-33.65323213000378,-142.83220658660207],[358.42582248262573,-33.65321017633198,-157.87328141029724],[20.435373497310458,-33.65318621616763,-172.91435213360518],[40.93130082259336,-33.6531619164452,172.04458145113932],[59.171484170278845,-33.65313896816581,157.00351925645012],[75.3052532665836,-33.65311897049685,141.96246090561615],[89.85454309829045,-33.65310332114193,126.92140575845397],[103.36085382828306,-33.653093120496536,111.88035295512624],[116.26403532536789,-33.653089096162375,96.8393014750176],[128.88597202662854,-33.65309155299779,81.79825020664951],[141.44129274021003,-33.65310035213384,66.75719802383392],[154.04994009271277,-33.65311492039963,51.71614386284809],[166.74982363904059,-33.653134289517666,36.67508679535103],[179.514882720425,-33.65315716238852,21.63402609202697],[192.28257609284148,-33.653182001927085,6.592961272610878],[204.98896960391215,-33.653207136366035,-8.448107861156691],[217.60414615118555,-33.65323087378987,-23.489181212871898],[230.1604216617823,-33.653251618130014,-38.53025839609722],[242.77103843686908,-33.65326797859849,-53.571338760809674],[255.64301830239685,-33.65327886500199,-68.61242143983179],[269.0896425642457,-33.65328356253868,-83.65350540723794],[283.5417446844938,-33.65328178086168,-98.69458954865233],[299.5353120056258,-33.65327367405792,-113.73567273761954],[317.6025544881387,-33.65325983016879,-128.77675391281142],[337.9395215404513,-33.653241230965094,-143.81783215080358],[359.8844228255627,-33.65321918472711,-158.85890672938876],[21.838733325676124,-33.65319523663416,-173.89997717712225],[42.19763572630692,-33.65317106290058,171.0589566943125],[60.288414732252456,-33.65314835591198,156.01789477714203],[76.30093733551668,-33.6531287082333,140.97683667482863],[90.76612472391,-33.65311350343847,125.93578172919452],[104.22075131473531,-33.653103821245345,110.89472906547707],[117.09688441253124,-33.65310036345992,95.8536776522343],[129.7089756973503,-33.653103405809375,80.81262637200219],[142.26508142209943,-33.65311277896868,65.77157409785566],[154.87935459281812,-33.65312788008616,50.73051977063194],[167.58486875911336,-33.65314771402277,35.68946247151748],[180.35222385408878,-33.65317096148306,20.648401485040587],[193.1176637425146,-33.653196069372946,5.607336348122613],[205.81844485854018,-33.65322135719437,-9.43373311814987],[218.42797054669126,-33.65324513178769,-24.47480679724811],[230.98338055460152,-33.65326580409789,-39.515884282962276],[243.60369852473548,-33.65328199827335,-54.55696490751643],[256.50251039075135,-33.65329264508325,-69.59804778925354],[270.0005217148702,-33.653297055580275,-84.6391318919477],[284.53635447149054,-33.65329496835105,-99.6802160957867],[300.6507918916061,-33.65328656747513,-114.72129927410457],[318.86728890043156,-33.65327246996011,-129.76238037059068],[339.34175256235284,-33.65325368350915,-144.80345847168078],[1.3430681616455507,-33.65323153751349,-159.8445328691766],[23.234844870417877,-33.653207591994175,-174.8856031088036],[43.453909061129906,-33.65318353073168,170.07333097863108],[61.39631750027648,-33.6531610459034,155.0322692656066],[77.28998916678296,-33.65314172213354,139.9912113365905],[91.67341107964684,-33.65312692789906,124.95015651646938],[105.07821001621045,-33.65311772173346,109.9091039167702],[117.92863991352684,-33.653114779656015,94.86805249650497],[130.531774566245,-33.65311834880025,79.82700113347057],[143.08915099270087,-33.653128230422254,64.7859487011203],[155.70918534000685,-33.65314379345497,49.74489414573687],[168.4201934974791,-33.65316401768371,34.70383655863689],[181.18955757496494,-33.65318756358781,19.662775238433277],[193.95246140035667,-33.65321286406641,4.621709739112076],[206.64750577121595,-33.65323823176629,-10.419360099378585],[219.2515336499421,-33.65326197448455,-25.460434138816215],[231.80658489122817,-33.653282511321876,-40.50151195459763],[244.43751665840352,-33.65329848125323,-55.542592864936566],[257.3645328330285,-33.65330883595978,-70.58367597499533],[270.9158169528014,-33.653312911795396,-85.62476023945788],[285.53773794814305,-33.65331047528017,-100.66584453413523],[301.7754158403437,-33.6533017391296,-115.70692773297769],[320.1420581396412,-33.65328734771782,-130.7480087852258],[340.7509335478339,-33.653268332968274,-145.78908678740655],[2.8012136783337835,-33.65324604369104,-160.83016104524384],[24.623368719912563,-33.65322205320498,-175.87123112125246],[44.70009977184572,-33.653198051570094,169.0877031352648],[62.49533100811428,-33.65317572981201,154.04664157785373],[78.27257226331076,-33.6531566640672,139.00558377291122],[92.57654011335103,-33.653142207585574,123.96452902934753],[105.93333342044512,-33.65313339798843,108.92347644589731],[118.75937360544454,-33.65313088613608,93.88242497282477],[131.35441254092845,-33.65313489147994,78.84137348381893],[143.9135207528681,-33.6531451869599,63.80032085312612],[156.53943110708136,-33.653161114485826,48.75926603266816],[169.25578270045153,-33.65318162994599,33.7182081238475],[182.02686422473823,-33.65320537466398,18.677146439117852],[194.78695545398426,-33.65323076841338,3.6360805491130628],[207.47615389964798,-33.65325611762211,-11.404989687894654],[220.07485841805584,-33.653279731819225,-26.446064118252192],[232.6300828888612,-33.65330003840364,-41.487142299727736],[245.27256957840552,-33.653315690453574,-56.528223531361945],[258.2291947669368,-33.65332566000595,-71.56930690541564],[271.8356719501913,-33.653329308052456,-86.61039136759398],[286.54606140402683,-33.65332642837512,-101.65147578925946],[302.9093139107121,-33.65331726173875,-116.69255904473557],[321.4268106166513,-33.653302479461914,-131.7336400884407],[342.166686100332,-33.65328313748685,-146.77471802653417],[4.258315793457435,-33.653260604089695,-161.81579217818063],[26.00398679152316,-33.65323646617855,-176.85686212223658],[45.936202075008424,-33.653212420594926,168.10207227384925],[63.58559759984549,-33.65319015786259,153.06101084490635],[79.24884847355199,-33.65317124634692,138.01995313930607],[93.47564679630261,-33.653157024760695,122.97889844984824],[106.78622213449138,-33.65314851038204,107.93784586217326],[119.5891547340542,-33.653146329275685,92.89679431736502],[132.17693130847286,-33.65315067330216,77.8557426844794],[144.73820809178977,-33.65316128686569,62.81468983801521],[157.37008918633452,-33.65317748431491,47.77363473503746],[170.09162036229083,-33.65319819681105,32.732576486650416],[182.86412406290881,-33.65322204545918,17.691514418945296],[195.62113295524955,-33.65324743569877,2.650448119226803],[208.30439203754986,-33.65327266649158,-12.390622535641299],[220.8979693975895,-33.653296047055136,-27.431697370574106],[233.45392458258277,-33.65331601256122,-42.47277592462541],[246.10893608037708,-33.653331230764586,-57.51385748231601],[259.0966076255422,-33.65334069392578,-72.55494112225605],[272.7602325071011,-33.65334378783409,-87.59602578039318],[287.5614912482544,-33.653340333996425,-102.6371103228723],[304.05260945077697,-33.653330601984635,-117.67819362370605],[322.72147576306537,-33.653315291087246,-132.71927464191134],[343.588610360747,-33.65329548251225,-147.76035249287335],[5.713833491115526,-33.65327256540652,-162.8014265089866],[27.376402091591302,-33.65324814175306,-177.8424962854706],[47.1622242040372,-33.653223916654156,167.11643829182924],[64.66726252577682,-33.65320158151432,152.0753770385305],[80.21897749039705,-33.65318269812417,137.03431948427186],[94.37086276730656,-33.65316859158768,121.99326490485215],[107.63697352443866,-33.65316025943229,106.95221237178879],[120.41804958877859,-33.653158303135086,91.91116081588103],[132.99936982474597,-33.65316288676392,76.87010910043723],[145.56322788647694,-33.65317372557707,61.82905609915661],[158.2011547011161,-33.65319010537291,46.78800077331849],[170.92768884962507,-33.653210931274174,31.74694224300192],[183.70131640035441,-33.653234802615145,16.705879847453417],[196.45498065806675,-33.653260108809405,1.6648131904473202],[209.1322231563393,-33.65328513963655,-13.376257832449697],[221.72089160445034,-33.65330820229489,-28.41733302576899],[234.2781606760965,-33.653327737796594,-43.45841190904682],[246.94669582880354,-33.65334242751608,-58.49949374968972],[259.9668838840769,-33.653351283481484,-73.54057761139809],[273.6896451536326,-33.653353716359895,-88.58166241907087],[288.584192295331,-33.65334957598668,-103.6227470324141],[305.20541685366857,-33.65333916181654,-118.66383032405086],[324.02596166693013,-33.65332320256747,-133.704911256773],[345.0162843112009,-33.65330280644108,-148.74598895464322],[7.167229044360649,-33.653279385318456,-163.7870627630716],[28.74033810195631,-33.65325455811628,-178.8281322937519],[48.37818716714906,-33.65323003991756,166.13080254864744],[65.74047327329386,-33.65320752446966,151.08974155984367],[81.18311670436955,-33.65318856809851,136.0486842498402],[95.2623164281926,-33.65317448299598,121.00762987641313],[108.48568190217657,-33.65316624719623,105.96657749588594],[121.24612172270893,-33.653164437417736,90.92552602774191],[133.82176454935131,-33.65316918938238,75.88447432863053],[146.3885927478054,-33.653180188341786,60.84342127071014],[159.03262086132528,-33.65319669047321,45.802365818964404],[171.76396915918502,-33.65321757369008,30.76130710217822],[184.53841984492644,-33.6532414143976,15.720244472728806],[197.28848523706893,-33.65326658494316,0.6791775510649664],[209.95965059126624,-33.65329136509113,-14.361893748158197],[222.54365066448915,-33.653314060022005,-29.402969210145177],[235.10284263132374,-33.653333115963775,-44.44404833447598],[247.78592940950386,-33.65334722720092,-59.485130369193996],[260.84013707641725,-33.65335542585906,-74.52621436238836],[274.6240570923714,-33.65335714814369,-89.56729922732316],[289.61432751056736,-33.65335227312948,-104.60838381687373],[306.3678409635932,-33.653341131206936,-119.64946700211087],[325.3401546743598,-33.653324481597934,-134.69054774967557],[346.44926534552246,-33.65330346046934,-149.73162519263],[8.617970838800797,-33.65327950319346,-164.77269868991553],[30.09553998472618,-33.65325424607368,-179.81376787035498],[49.584125124269185,-33.65322941426657,165.14516734183158],[66.80538024148974,-33.65320670357805,150.10410672175576],[82.1414221419005,-33.65318766423427,135.06304975918823],[96.1501339287852,-33.653173594594804,120.02199569345427],[109.3324394554285,-33.65316545209657,104.98094356549784],[122.07343279930471,-33.65316378753841,89.93989228357016],[134.6441502063541,-33.65316870721711,74.89884069801815],[147.21431369831728,-33.65317986551892,59.8577876800729],[159.8644795584081,-33.653196488482784,44.8167321992267],[172.60044142241273,-33.65321742672972,29.775673393896877],[185.37541270141412,-33.653241234137965,14.734610630532533],[198.12163357043264,-33.6532662668794,-0.30645645288481244],[210.78667820593543,-33.65329079603379,-15.347527921945268],[223.3662728752215,-33.65331312557034,-30.38860353969386],[235.92802265119175,-33.65333170957872,-45.42968278549223],[248.62671825454578,-33.65334525840724,-60.470764891040886],[261.71648167195224,-33.653352826023934,-75.511848889922],[275.56361600041765,-33.6533538754042,-90.55293368521849],[290.6520576315823,-33.653348315438485,-105.59401812463663],[307.53997642079844,-33.65333650729292,-120.63510107944919],[326.663919115297,-33.65331923978021,-135.67618152182544],[347.88709215529605,-33.65329767542279,-150.7172585952841],[10.065536348400562,-33.653273270898346,-165.75833167340238],[31.441775842759874,-33.653247677313544,179.200599597221],[50.78008586494604,-33.65322262713603,164.1595352726944],[67.8621374725213,-33.65319981552926,149.11847510793956],[83.09404939012038,-33.653180784219735,134.07741857342194],[97.0344400874311,-33.65316681585431,119.03636489137793],[110.17733708263013,-33.65315884608731,103.99531308905729],[122.90004332945914,-33.65315739942404,88.95426206532413],[135.4665604355219,-33.65316255322086,73.91321066607797],[148.04040075495217,-33.653173932312264,58.87215776331252],[160.6967218932313,-33.65319073464009,43.831102332394906],[173.43708538286148,-33.65321178613324,28.790043522291263],[186.2122733937861,-33.653235621084384,13.748980713901286],[198.9544131011237,-33.653260582521284,-1.2920864374792602],[211.61331069507148,-33.65328493570036,-16.333157978484213],[224.18878547385742,-33.6533069867834,-31.374233654617157],[236.7537539456391,-33.653325199367785,-46.415312927162006],[249.4691449320167,-33.653338299595596,-61.45639501021409],[262.5960334074138,-33.65334536315267,-76.49747892478733],[276.50847038692496,-33.65334587887186,-91.53856356560762],[291.69754145457745,-33.65333978384553,-106.57964777679787],[308.72190779641267,-33.65332746783965,-121.62073043104809],[327.99709798687155,-33.65330974670132,-136.66181050683554],[349.32928759010747,-33.65328780657587,-151.70288715842085],[11.50941564138408,-33.65326312274867,-166.743959773812],[32.778838181460024,-33.65323735866678,178.21497198327197],[51.966131380695955,-33.65321225205343,163.17390815031436],[68.91090338290061,-33.653189495912926,148.13284846337572],[84.04115447634094,-33.65317062257661,133.09179237511748],[97.91535928108418,-33.653156898731844,118.05073909223795],[111.02046525292981,-33.65314923862635,103.00968762975533],[123.72601351405827,-33.65314814139609,87.96863687843957],[136.28902864472428,-33.65315365681394,72.92758568076434],[148.86686381738653,-33.65316538181104,57.8865329101714],[161.52933911759132,-33.65318248801458,42.84547754824462],[174.2738813947948,-33.65320377842282,27.80441875448509],[187.04898151374334,-33.653227769341115,12.763355923907275],[199.7868129274976,-33.653252791972,-2.2777112714696486],[212.43955471977839,-33.65327710670528,-17.318782860106015],[225.01121781916038,-33.653299022552794,-32.35985856935739],[237.58009197093557,-33.65331701229096,-47.40093784342218],[250.3132944686886,-33.6533298173502,-62.44201988105118],[263.47891070303825,-33.65333653466183,-77.48310369129909],[277.45877105955634,-33.65333667830106,-92.52418816101303],[292.75093719321706,-33.653330212877044,-107.5652721310787],[309.91371066940184,-33.653317556063314,-122.60635447582156],[329.33951435195394,-33.65329955008823,-137.64743418015013],[350.7753617476045,-33.65327740413313,-152.6885104091216],[12.94911427889161,-33.65325261157742,-167.72958256518885],[34.10654431152775,-33.6532268477559,177.2293496708085],[53.142337306604496,-33.65320185522917,162.1882863177188],[69.95184036177177,-33.65317932442501,147.1472270927249],[84.98289364956389,-33.653160777827445,132.1061714306531],[98.79301529113091,-33.65314746564902,117.06511852264066],[111.86191387203735,-33.65314028013635,102.02406737148878],[124.5514031302061,-33.653139694383796,86.98301685994866],[137.11158793251622,-33.65314572985278,71.94196582722957],[149.69371264702653,-33.653157954827726,56.90091314851538],[162.36232268689173,-33.65317551392054,41.859857812026384],[175.110810558141,-33.65319718660928,26.818798988353535],[187.88551803692212,-33.65322147080545,11.777736087309666],[200.61882409614003,-33.653246685729634,-3.2633312015904576],[213.26541927554365,-33.653271087051074,-18.304402887814312]],\"hovertemplate\":\"<b>%{hovertext}</b><br><br>datetime=%{x}<br>elevation=%{y}<br>azimuth=%{customdata[0]}<br>latitude=%{customdata[1]}<br>longitude=%{customdata[2]}<extra></extra>\",\"hovertext\":[\"2014-01-01T23:30:00\",\"2014-01-02T00:30:00\",\"2014-01-02T01:30:00\",\"2014-01-02T02:30:00\",\"2014-01-02T03:30:00\",\"2014-01-02T04:30:00\",\"2014-01-02T05:30:00\",\"2014-01-02T06:30:00\",\"2014-01-02T07:30:00\",\"2014-01-02T08:30:00\",\"2014-01-02T09:30:00\",\"2014-01-02T10:30:00\",\"2014-01-02T11:30:00\",\"2014-01-02T12:30:00\",\"2014-01-02T13:30:00\",\"2014-01-02T14:30:00\",\"2014-01-02T15:30:00\",\"2014-01-02T16:30:00\",\"2014-01-02T17:30:00\",\"2014-01-02T18:30:00\",\"2014-01-02T19:30:00\",\"2014-01-02T20:30:00\",\"2014-01-02T21:30:00\",\"2014-01-02T22:30:00\",\"2014-01-02T23:30:00\",\"2014-01-03T00:30:00\",\"2014-01-03T01:30:00\",\"2014-01-03T02:30:00\",\"2014-01-03T03:30:00\",\"2014-01-03T04:30:00\",\"2014-01-03T05:30:00\",\"2014-01-03T06:30:00\",\"2014-01-03T07:30:00\",\"2014-01-03T08:30:00\",\"2014-01-03T09:30:00\",\"2014-01-03T10:30:00\",\"2014-01-03T11:30:00\",\"2014-01-03T12:30:00\",\"2014-01-03T13:30:00\",\"2014-01-03T14:30:00\",\"2014-01-03T15:30:00\",\"2014-01-03T16:30:00\",\"2014-01-03T17:30:00\",\"2014-01-03T18:30:00\",\"2014-01-03T19:30:00\",\"2014-01-03T20:30:00\",\"2014-01-03T21:30:00\",\"2014-01-03T22:30:00\",\"2014-01-03T23:30:00\",\"2014-01-04T00:30:00\",\"2014-01-04T01:30:00\",\"2014-01-04T02:30:00\",\"2014-01-04T03:30:00\",\"2014-01-04T04:30:00\",\"2014-01-04T05:30:00\",\"2014-01-04T06:30:00\",\"2014-01-04T07:30:00\",\"2014-01-04T08:30:00\",\"2014-01-04T09:30:00\",\"2014-01-04T10:30:00\",\"2014-01-04T11:30:00\",\"2014-01-04T12:30:00\",\"2014-01-04T13:30:00\",\"2014-01-04T14:30:00\",\"2014-01-04T15:30:00\",\"2014-01-04T16:30:00\",\"2014-01-04T17:30:00\",\"2014-01-04T18:30:00\",\"2014-01-04T19:30:00\",\"2014-01-04T20:30:00\",\"2014-01-04T21:30:00\",\"2014-01-04T22:30:00\",\"2014-01-04T23:30:00\",\"2014-01-05T00:30:00\",\"2014-01-05T01:30:00\",\"2014-01-05T02:30:00\",\"2014-01-05T03:30:00\",\"2014-01-05T04:30:00\",\"2014-01-05T05:30:00\",\"2014-01-05T06:30:00\",\"2014-01-05T07:30:00\",\"2014-01-05T08:30:00\",\"2014-01-05T09:30:00\",\"2014-01-05T10:30:00\",\"2014-01-05T11:30:00\",\"2014-01-05T12:30:00\",\"2014-01-05T13:30:00\",\"2014-01-05T14:30:00\",\"2014-01-05T15:30:00\",\"2014-01-05T16:30:00\",\"2014-01-05T17:30:00\",\"2014-01-05T18:30:00\",\"2014-01-05T19:30:00\",\"2014-01-05T20:30:00\",\"2014-01-05T21:30:00\",\"2014-01-05T22:30:00\",\"2014-01-05T23:30:00\",\"2014-01-06T00:30:00\",\"2014-01-06T01:30:00\",\"2014-01-06T02:30:00\",\"2014-01-06T03:30:00\",\"2014-01-06T04:30:00\",\"2014-01-06T05:30:00\",\"2014-01-06T06:30:00\",\"2014-01-06T07:30:00\",\"2014-01-06T08:30:00\",\"2014-01-06T09:30:00\",\"2014-01-06T10:30:00\",\"2014-01-06T11:30:00\",\"2014-01-06T12:30:00\",\"2014-01-06T13:30:00\",\"2014-01-06T14:30:00\",\"2014-01-06T15:30:00\",\"2014-01-06T16:30:00\",\"2014-01-06T17:30:00\",\"2014-01-06T18:30:00\",\"2014-01-06T19:30:00\",\"2014-01-06T20:30:00\",\"2014-01-06T21:30:00\",\"2014-01-06T22:30:00\",\"2014-01-06T23:30:00\",\"2014-01-07T00:30:00\",\"2014-01-07T01:30:00\",\"2014-01-07T02:30:00\",\"2014-01-07T03:30:00\",\"2014-01-07T04:30:00\",\"2014-01-07T05:30:00\",\"2014-01-07T06:30:00\",\"2014-01-07T07:30:00\",\"2014-01-07T08:30:00\",\"2014-01-07T09:30:00\",\"2014-01-07T10:30:00\",\"2014-01-07T11:30:00\",\"2014-01-07T12:30:00\",\"2014-01-07T13:30:00\",\"2014-01-07T14:30:00\",\"2014-01-07T15:30:00\",\"2014-01-07T16:30:00\",\"2014-01-07T17:30:00\",\"2014-01-07T18:30:00\",\"2014-01-07T19:30:00\",\"2014-01-07T20:30:00\",\"2014-01-07T21:30:00\",\"2014-01-07T22:30:00\",\"2014-01-07T23:30:00\",\"2014-01-08T00:30:00\",\"2014-01-08T01:30:00\",\"2014-01-08T02:30:00\",\"2014-01-08T03:30:00\",\"2014-01-08T04:30:00\",\"2014-01-08T05:30:00\",\"2014-01-08T06:30:00\",\"2014-01-08T07:30:00\",\"2014-01-08T08:30:00\",\"2014-01-08T09:30:00\",\"2014-01-08T10:30:00\",\"2014-01-08T11:30:00\",\"2014-01-08T12:30:00\",\"2014-01-08T13:30:00\",\"2014-01-08T14:30:00\",\"2014-01-08T15:30:00\",\"2014-01-08T16:30:00\",\"2014-01-08T17:30:00\",\"2014-01-08T18:30:00\",\"2014-01-08T19:30:00\",\"2014-01-08T20:30:00\",\"2014-01-08T21:30:00\",\"2014-01-08T22:30:00\",\"2014-01-08T23:30:00\",\"2014-01-09T00:30:00\",\"2014-01-09T01:30:00\",\"2014-01-09T02:30:00\",\"2014-01-09T03:30:00\",\"2014-01-09T04:30:00\",\"2014-01-09T05:30:00\",\"2014-01-09T06:30:00\",\"2014-01-09T07:30:00\",\"2014-01-09T08:30:00\",\"2014-01-09T09:30:00\",\"2014-01-09T10:30:00\",\"2014-01-09T11:30:00\",\"2014-01-09T12:30:00\",\"2014-01-09T13:30:00\",\"2014-01-09T14:30:00\",\"2014-01-09T15:30:00\",\"2014-01-09T16:30:00\",\"2014-01-09T17:30:00\",\"2014-01-09T18:30:00\",\"2014-01-09T19:30:00\",\"2014-01-09T20:30:00\",\"2014-01-09T21:30:00\",\"2014-01-09T22:30:00\",\"2014-01-09T23:30:00\",\"2014-01-10T00:30:00\",\"2014-01-10T01:30:00\",\"2014-01-10T02:30:00\",\"2014-01-10T03:30:00\",\"2014-01-10T04:30:00\",\"2014-01-10T05:30:00\",\"2014-01-10T06:30:00\",\"2014-01-10T07:30:00\",\"2014-01-10T08:30:00\",\"2014-01-10T09:30:00\",\"2014-01-10T10:30:00\",\"2014-01-10T11:30:00\",\"2014-01-10T12:30:00\",\"2014-01-10T13:30:00\",\"2014-01-10T14:30:00\",\"2014-01-10T15:30:00\",\"2014-01-10T16:30:00\",\"2014-01-10T17:30:00\",\"2014-01-10T18:30:00\",\"2014-01-10T19:30:00\",\"2014-01-10T20:30:00\",\"2014-01-10T21:30:00\",\"2014-01-10T22:30:00\",\"2014-01-10T23:30:00\",\"2014-01-11T00:30:00\",\"2014-01-11T01:30:00\",\"2014-01-11T02:30:00\",\"2014-01-11T03:30:00\",\"2014-01-11T04:30:00\",\"2014-01-11T05:30:00\",\"2014-01-11T06:30:00\",\"2014-01-11T07:30:00\",\"2014-01-11T08:30:00\",\"2014-01-11T09:30:00\",\"2014-01-11T10:30:00\",\"2014-01-11T11:30:00\",\"2014-01-11T12:30:00\",\"2014-01-11T13:30:00\",\"2014-01-11T14:30:00\",\"2014-01-11T15:30:00\",\"2014-01-11T16:30:00\",\"2014-01-11T17:30:00\",\"2014-01-11T18:30:00\",\"2014-01-11T19:30:00\",\"2014-01-11T20:30:00\",\"2014-01-11T21:30:00\",\"2014-01-11T22:30:00\",\"2014-01-11T23:30:00\",\"2014-01-12T00:30:00\",\"2014-01-12T01:30:00\",\"2014-01-12T02:30:00\",\"2014-01-12T03:30:00\",\"2014-01-12T04:30:00\",\"2014-01-12T05:30:00\",\"2014-01-12T06:30:00\",\"2014-01-12T07:30:00\",\"2014-01-12T08:30:00\",\"2014-01-12T09:30:00\",\"2014-01-12T10:30:00\",\"2014-01-12T11:30:00\",\"2014-01-12T12:30:00\",\"2014-01-12T13:30:00\",\"2014-01-12T14:30:00\",\"2014-01-12T15:30:00\",\"2014-01-12T16:30:00\",\"2014-01-12T17:30:00\",\"2014-01-12T18:30:00\",\"2014-01-12T19:30:00\",\"2014-01-12T20:30:00\",\"2014-01-12T21:30:00\",\"2014-01-12T22:30:00\",\"2014-01-12T23:30:00\",\"2014-01-13T00:30:00\",\"2014-01-13T01:30:00\",\"2014-01-13T02:30:00\",\"2014-01-13T03:30:00\",\"2014-01-13T04:30:00\",\"2014-01-13T05:30:00\",\"2014-01-13T06:30:00\",\"2014-01-13T07:30:00\",\"2014-01-13T08:30:00\",\"2014-01-13T09:30:00\",\"2014-01-13T10:30:00\",\"2014-01-13T11:30:00\",\"2014-01-13T12:30:00\",\"2014-01-13T13:30:00\",\"2014-01-13T14:30:00\",\"2014-01-13T15:30:00\",\"2014-01-13T16:30:00\",\"2014-01-13T17:30:00\",\"2014-01-13T18:30:00\",\"2014-01-13T19:30:00\",\"2014-01-13T20:30:00\",\"2014-01-13T21:30:00\",\"2014-01-13T22:30:00\",\"2014-01-13T23:30:00\",\"2014-01-14T00:30:00\",\"2014-01-14T01:30:00\",\"2014-01-14T02:30:00\",\"2014-01-14T03:30:00\",\"2014-01-14T04:30:00\",\"2014-01-14T05:30:00\",\"2014-01-14T06:30:00\",\"2014-01-14T07:30:00\",\"2014-01-14T08:30:00\",\"2014-01-14T09:30:00\",\"2014-01-14T10:30:00\",\"2014-01-14T11:30:00\",\"2014-01-14T12:30:00\",\"2014-01-14T13:30:00\",\"2014-01-14T14:30:00\",\"2014-01-14T15:30:00\",\"2014-01-14T16:30:00\",\"2014-01-14T17:30:00\",\"2014-01-14T18:30:00\",\"2014-01-14T19:30:00\",\"2014-01-14T20:30:00\",\"2014-01-14T21:30:00\",\"2014-01-14T22:30:00\",\"2014-01-14T23:30:00\",\"2014-01-15T00:30:00\",\"2014-01-15T01:30:00\",\"2014-01-15T02:30:00\",\"2014-01-15T03:30:00\",\"2014-01-15T04:30:00\",\"2014-01-15T05:30:00\",\"2014-01-15T06:30:00\",\"2014-01-15T07:30:00\",\"2014-01-15T08:30:00\",\"2014-01-15T09:30:00\",\"2014-01-15T10:30:00\",\"2014-01-15T11:30:00\",\"2014-01-15T12:30:00\",\"2014-01-15T13:30:00\",\"2014-01-15T14:30:00\",\"2014-01-15T15:30:00\",\"2014-01-15T16:30:00\",\"2014-01-15T17:30:00\",\"2014-01-15T18:30:00\",\"2014-01-15T19:30:00\",\"2014-01-15T20:30:00\",\"2014-01-15T21:30:00\",\"2014-01-15T22:30:00\",\"2014-01-15T23:30:00\",\"2014-01-16T00:30:00\",\"2014-01-16T01:30:00\",\"2014-01-16T02:30:00\",\"2014-01-16T03:30:00\",\"2014-01-16T04:30:00\",\"2014-01-16T05:30:00\",\"2014-01-16T06:30:00\",\"2014-01-16T07:30:00\",\"2014-01-16T08:30:00\",\"2014-01-16T09:30:00\",\"2014-01-16T10:30:00\",\"2014-01-16T11:30:00\",\"2014-01-16T12:30:00\",\"2014-01-16T13:30:00\",\"2014-01-16T14:30:00\",\"2014-01-16T15:30:00\",\"2014-01-16T16:30:00\",\"2014-01-16T17:30:00\",\"2014-01-16T18:30:00\",\"2014-01-16T19:30:00\",\"2014-01-16T20:30:00\",\"2014-01-16T21:30:00\",\"2014-01-16T22:30:00\",\"2014-01-16T23:30:00\",\"2014-01-17T00:30:00\",\"2014-01-17T01:30:00\",\"2014-01-17T02:30:00\",\"2014-01-17T03:30:00\",\"2014-01-17T04:30:00\",\"2014-01-17T05:30:00\",\"2014-01-17T06:30:00\",\"2014-01-17T07:30:00\",\"2014-01-17T08:30:00\",\"2014-01-17T09:30:00\",\"2014-01-17T10:30:00\",\"2014-01-17T11:30:00\",\"2014-01-17T12:30:00\",\"2014-01-17T13:30:00\",\"2014-01-17T14:30:00\",\"2014-01-17T15:30:00\",\"2014-01-17T16:30:00\",\"2014-01-17T17:30:00\",\"2014-01-17T18:30:00\",\"2014-01-17T19:30:00\",\"2014-01-17T20:30:00\",\"2014-01-17T21:30:00\",\"2014-01-17T22:30:00\",\"2014-01-17T23:30:00\",\"2014-01-18T00:30:00\",\"2014-01-18T01:30:00\",\"2014-01-18T02:30:00\",\"2014-01-18T03:30:00\",\"2014-01-18T04:30:00\",\"2014-01-18T05:30:00\",\"2014-01-18T06:30:00\",\"2014-01-18T07:30:00\",\"2014-01-18T08:30:00\",\"2014-01-18T09:30:00\",\"2014-01-18T10:30:00\",\"2014-01-18T11:30:00\",\"2014-01-18T12:30:00\",\"2014-01-18T13:30:00\",\"2014-01-18T14:30:00\",\"2014-01-18T15:30:00\",\"2014-01-18T16:30:00\",\"2014-01-18T17:30:00\",\"2014-01-18T18:30:00\",\"2014-01-18T19:30:00\",\"2014-01-18T20:30:00\",\"2014-01-18T21:30:00\",\"2014-01-18T22:30:00\",\"2014-01-18T23:30:00\",\"2014-01-19T00:30:00\",\"2014-01-19T01:30:00\",\"2014-01-19T02:30:00\",\"2014-01-19T03:30:00\",\"2014-01-19T04:30:00\",\"2014-01-19T05:30:00\",\"2014-01-19T06:30:00\",\"2014-01-19T07:30:00\",\"2014-01-19T08:30:00\",\"2014-01-19T09:30:00\",\"2014-01-19T10:30:00\",\"2014-01-19T11:30:00\",\"2014-01-19T12:30:00\",\"2014-01-19T13:30:00\",\"2014-01-19T14:30:00\",\"2014-01-19T15:30:00\",\"2014-01-19T16:30:00\",\"2014-01-19T17:30:00\",\"2014-01-19T18:30:00\",\"2014-01-19T19:30:00\",\"2014-01-19T20:30:00\",\"2014-01-19T21:30:00\",\"2014-01-19T22:30:00\",\"2014-01-19T23:30:00\",\"2014-01-20T00:30:00\",\"2014-01-20T01:30:00\",\"2014-01-20T02:30:00\",\"2014-01-20T03:30:00\",\"2014-01-20T04:30:00\",\"2014-01-20T05:30:00\",\"2014-01-20T06:30:00\",\"2014-01-20T07:30:00\",\"2014-01-20T08:30:00\",\"2014-01-20T09:30:00\",\"2014-01-20T10:30:00\",\"2014-01-20T11:30:00\",\"2014-01-20T12:30:00\",\"2014-01-20T13:30:00\",\"2014-01-20T14:30:00\",\"2014-01-20T15:30:00\",\"2014-01-20T16:30:00\",\"2014-01-20T17:30:00\",\"2014-01-20T18:30:00\",\"2014-01-20T19:30:00\",\"2014-01-20T20:30:00\",\"2014-01-20T21:30:00\",\"2014-01-20T22:30:00\",\"2014-01-20T23:30:00\",\"2014-01-21T00:30:00\",\"2014-01-21T01:30:00\",\"2014-01-21T02:30:00\",\"2014-01-21T03:30:00\",\"2014-01-21T04:30:00\",\"2014-01-21T05:30:00\",\"2014-01-21T06:30:00\",\"2014-01-21T07:30:00\",\"2014-01-21T08:30:00\",\"2014-01-21T09:30:00\",\"2014-01-21T10:30:00\",\"2014-01-21T11:30:00\",\"2014-01-21T12:30:00\",\"2014-01-21T13:30:00\",\"2014-01-21T14:30:00\",\"2014-01-21T15:30:00\",\"2014-01-21T16:30:00\",\"2014-01-21T17:30:00\",\"2014-01-21T18:30:00\",\"2014-01-21T19:30:00\",\"2014-01-21T20:30:00\",\"2014-01-21T21:30:00\",\"2014-01-21T22:30:00\",\"2014-01-21T23:30:00\",\"2014-01-22T00:30:00\",\"2014-01-22T01:30:00\",\"2014-01-22T02:30:00\",\"2014-01-22T03:30:00\",\"2014-01-22T04:30:00\",\"2014-01-22T05:30:00\",\"2014-01-22T06:30:00\",\"2014-01-22T07:30:00\",\"2014-01-22T08:30:00\",\"2014-01-22T09:30:00\",\"2014-01-22T10:30:00\",\"2014-01-22T11:30:00\",\"2014-01-22T12:30:00\",\"2014-01-22T13:30:00\",\"2014-01-22T14:30:00\",\"2014-01-22T15:30:00\",\"2014-01-22T16:30:00\",\"2014-01-22T17:30:00\",\"2014-01-22T18:30:00\",\"2014-01-22T19:30:00\",\"2014-01-22T20:30:00\",\"2014-01-22T21:30:00\",\"2014-01-22T22:30:00\",\"2014-01-22T23:30:00\",\"2014-01-23T00:30:00\",\"2014-01-23T01:30:00\",\"2014-01-23T02:30:00\",\"2014-01-23T03:30:00\",\"2014-01-23T04:30:00\",\"2014-01-23T05:30:00\",\"2014-01-23T06:30:00\",\"2014-01-23T07:30:00\",\"2014-01-23T08:30:00\",\"2014-01-23T09:30:00\",\"2014-01-23T10:30:00\",\"2014-01-23T11:30:00\",\"2014-01-23T12:30:00\",\"2014-01-23T13:30:00\",\"2014-01-23T14:30:00\",\"2014-01-23T15:30:00\",\"2014-01-23T16:30:00\",\"2014-01-23T17:30:00\",\"2014-01-23T18:30:00\",\"2014-01-23T19:30:00\",\"2014-01-23T20:30:00\",\"2014-01-23T21:30:00\",\"2014-01-23T22:30:00\",\"2014-01-23T23:30:00\",\"2014-01-24T00:30:00\",\"2014-01-24T01:30:00\",\"2014-01-24T02:30:00\",\"2014-01-24T03:30:00\",\"2014-01-24T04:30:00\",\"2014-01-24T05:30:00\",\"2014-01-24T06:30:00\",\"2014-01-24T07:30:00\",\"2014-01-24T08:30:00\",\"2014-01-24T09:30:00\",\"2014-01-24T10:30:00\",\"2014-01-24T11:30:00\",\"2014-01-24T12:30:00\",\"2014-01-24T13:30:00\",\"2014-01-24T14:30:00\",\"2014-01-24T15:30:00\",\"2014-01-24T16:30:00\",\"2014-01-24T17:30:00\",\"2014-01-24T18:30:00\",\"2014-01-24T19:30:00\",\"2014-01-24T20:30:00\",\"2014-01-24T21:30:00\",\"2014-01-24T22:30:00\",\"2014-01-24T23:30:00\",\"2014-01-25T00:30:00\",\"2014-01-25T01:30:00\",\"2014-01-25T02:30:00\",\"2014-01-25T03:30:00\",\"2014-01-25T04:30:00\",\"2014-01-25T05:30:00\",\"2014-01-25T06:30:00\",\"2014-01-25T07:30:00\",\"2014-01-25T08:30:00\",\"2014-01-25T09:30:00\",\"2014-01-25T10:30:00\",\"2014-01-25T11:30:00\",\"2014-01-25T12:30:00\",\"2014-01-25T13:30:00\",\"2014-01-25T14:30:00\",\"2014-01-25T15:30:00\",\"2014-01-25T16:30:00\",\"2014-01-25T17:30:00\",\"2014-01-25T18:30:00\",\"2014-01-25T19:30:00\",\"2014-01-25T20:30:00\",\"2014-01-25T21:30:00\",\"2014-01-25T22:30:00\",\"2014-01-25T23:30:00\",\"2014-01-26T00:30:00\",\"2014-01-26T01:30:00\",\"2014-01-26T02:30:00\",\"2014-01-26T03:30:00\",\"2014-01-26T04:30:00\",\"2014-01-26T05:30:00\",\"2014-01-26T06:30:00\",\"2014-01-26T07:30:00\",\"2014-01-26T08:30:00\",\"2014-01-26T09:30:00\",\"2014-01-26T10:30:00\",\"2014-01-26T11:30:00\",\"2014-01-26T12:30:00\",\"2014-01-26T13:30:00\",\"2014-01-26T14:30:00\",\"2014-01-26T15:30:00\",\"2014-01-26T16:30:00\",\"2014-01-26T17:30:00\",\"2014-01-26T18:30:00\",\"2014-01-26T19:30:00\",\"2014-01-26T20:30:00\",\"2014-01-26T21:30:00\",\"2014-01-26T22:30:00\",\"2014-01-26T23:30:00\",\"2014-01-27T00:30:00\",\"2014-01-27T01:30:00\",\"2014-01-27T02:30:00\",\"2014-01-27T03:30:00\",\"2014-01-27T04:30:00\",\"2014-01-27T05:30:00\",\"2014-01-27T06:30:00\",\"2014-01-27T07:30:00\",\"2014-01-27T08:30:00\",\"2014-01-27T09:30:00\",\"2014-01-27T10:30:00\",\"2014-01-27T11:30:00\",\"2014-01-27T12:30:00\",\"2014-01-27T13:30:00\",\"2014-01-27T14:30:00\",\"2014-01-27T15:30:00\",\"2014-01-27T16:30:00\",\"2014-01-27T17:30:00\",\"2014-01-27T18:30:00\",\"2014-01-27T19:30:00\",\"2014-01-27T20:30:00\",\"2014-01-27T21:30:00\",\"2014-01-27T22:30:00\",\"2014-01-27T23:30:00\",\"2014-01-28T00:30:00\",\"2014-01-28T01:30:00\",\"2014-01-28T02:30:00\",\"2014-01-28T03:30:00\",\"2014-01-28T04:30:00\",\"2014-01-28T05:30:00\",\"2014-01-28T06:30:00\",\"2014-01-28T07:30:00\",\"2014-01-28T08:30:00\",\"2014-01-28T09:30:00\",\"2014-01-28T10:30:00\",\"2014-01-28T11:30:00\",\"2014-01-28T12:30:00\",\"2014-01-28T13:30:00\",\"2014-01-28T14:30:00\",\"2014-01-28T15:30:00\",\"2014-01-28T16:30:00\",\"2014-01-28T17:30:00\",\"2014-01-28T18:30:00\",\"2014-01-28T19:30:00\",\"2014-01-28T20:30:00\",\"2014-01-28T21:30:00\",\"2014-01-28T22:30:00\",\"2014-01-28T23:30:00\",\"2014-01-29T00:30:00\",\"2014-01-29T01:30:00\",\"2014-01-29T02:30:00\",\"2014-01-29T03:30:00\",\"2014-01-29T04:30:00\",\"2014-01-29T05:30:00\",\"2014-01-29T06:30:00\",\"2014-01-29T07:30:00\",\"2014-01-29T08:30:00\",\"2014-01-29T09:30:00\",\"2014-01-29T10:30:00\",\"2014-01-29T11:30:00\",\"2014-01-29T12:30:00\",\"2014-01-29T13:30:00\",\"2014-01-29T14:30:00\",\"2014-01-29T15:30:00\",\"2014-01-29T16:30:00\",\"2014-01-29T17:30:00\",\"2014-01-29T18:30:00\",\"2014-01-29T19:30:00\",\"2014-01-29T20:30:00\",\"2014-01-29T21:30:00\",\"2014-01-29T22:30:00\",\"2014-01-29T23:30:00\",\"2014-01-30T00:30:00\",\"2014-01-30T01:30:00\",\"2014-01-30T02:30:00\",\"2014-01-30T03:30:00\",\"2014-01-30T04:30:00\",\"2014-01-30T05:30:00\",\"2014-01-30T06:30:00\",\"2014-01-30T07:30:00\",\"2014-01-30T08:30:00\",\"2014-01-30T09:30:00\",\"2014-01-30T10:30:00\",\"2014-01-30T11:30:00\",\"2014-01-30T12:30:00\",\"2014-01-30T13:30:00\",\"2014-01-30T14:30:00\",\"2014-01-30T15:30:00\",\"2014-01-30T16:30:00\",\"2014-01-30T17:30:00\",\"2014-01-30T18:30:00\",\"2014-01-30T19:30:00\",\"2014-01-30T20:30:00\",\"2014-01-30T21:30:00\",\"2014-01-30T22:30:00\",\"2014-01-30T23:30:00\",\"2014-01-31T00:30:00\",\"2014-01-31T01:30:00\",\"2014-01-31T02:30:00\",\"2014-01-31T03:30:00\",\"2014-01-31T04:30:00\",\"2014-01-31T05:30:00\",\"2014-01-31T06:30:00\",\"2014-01-31T07:30:00\",\"2014-01-31T08:30:00\",\"2014-01-31T09:30:00\",\"2014-01-31T10:30:00\",\"2014-01-31T11:30:00\",\"2014-01-31T12:30:00\",\"2014-01-31T13:30:00\",\"2014-01-31T14:30:00\",\"2014-01-31T15:30:00\",\"2014-01-31T16:30:00\",\"2014-01-31T17:30:00\",\"2014-01-31T18:30:00\",\"2014-01-31T19:30:00\",\"2014-01-31T20:30:00\",\"2014-01-31T21:30:00\",\"2014-01-31T22:30:00\",\"2014-01-31T23:30:00\",\"2014-02-01T00:30:00\",\"2014-02-01T01:30:00\",\"2014-02-01T02:30:00\",\"2014-02-01T03:30:00\",\"2014-02-01T04:30:00\",\"2014-02-01T05:30:00\",\"2014-02-01T06:30:00\",\"2014-02-01T07:30:00\",\"2014-02-01T08:30:00\",\"2014-02-01T09:30:00\",\"2014-02-01T10:30:00\",\"2014-02-01T11:30:00\",\"2014-02-01T12:30:00\",\"2014-02-01T13:30:00\",\"2014-02-01T14:30:00\",\"2014-02-01T15:30:00\",\"2014-02-01T16:30:00\",\"2014-02-01T17:30:00\",\"2014-02-01T18:30:00\",\"2014-02-01T19:30:00\",\"2014-02-01T20:30:00\",\"2014-02-01T21:30:00\",\"2014-02-01T22:30:00\",\"2014-02-01T23:30:00\"],\"legendgroup\":\"\",\"line\":{\"color\":\"#636efa\",\"dash\":\"solid\"},\"marker\":{\"symbol\":\"circle\"},\"mode\":\"lines\",\"name\":\"\",\"orientation\":\"v\",\"showlegend\":false,\"x\":[\"2014-01-01T23:30:00\",\"2014-01-02T00:30:00\",\"2014-01-02T01:30:00\",\"2014-01-02T02:30:00\",\"2014-01-02T03:30:00\",\"2014-01-02T04:30:00\",\"2014-01-02T05:30:00\",\"2014-01-02T06:30:00\",\"2014-01-02T07:30:00\",\"2014-01-02T08:30:00\",\"2014-01-02T09:30:00\",\"2014-01-02T10:30:00\",\"2014-01-02T11:30:00\",\"2014-01-02T12:30:00\",\"2014-01-02T13:30:00\",\"2014-01-02T14:30:00\",\"2014-01-02T15:30:00\",\"2014-01-02T16:30:00\",\"2014-01-02T17:30:00\",\"2014-01-02T18:30:00\",\"2014-01-02T19:30:00\",\"2014-01-02T20:30:00\",\"2014-01-02T21:30:00\",\"2014-01-02T22:30:00\",\"2014-01-02T23:30:00\",\"2014-01-03T00:30:00\",\"2014-01-03T01:30:00\",\"2014-01-03T02:30:00\",\"2014-01-03T03:30:00\",\"2014-01-03T04:30:00\",\"2014-01-03T05:30:00\",\"2014-01-03T06:30:00\",\"2014-01-03T07:30:00\",\"2014-01-03T08:30:00\",\"2014-01-03T09:30:00\",\"2014-01-03T10:30:00\",\"2014-01-03T11:30:00\",\"2014-01-03T12:30:00\",\"2014-01-03T13:30:00\",\"2014-01-03T14:30:00\",\"2014-01-03T15:30:00\",\"2014-01-03T16:30:00\",\"2014-01-03T17:30:00\",\"2014-01-03T18:30:00\",\"2014-01-03T19:30:00\",\"2014-01-03T20:30:00\",\"2014-01-03T21:30:00\",\"2014-01-03T22:30:00\",\"2014-01-03T23:30:00\",\"2014-01-04T00:30:00\",\"2014-01-04T01:30:00\",\"2014-01-04T02:30:00\",\"2014-01-04T03:30:00\",\"2014-01-04T04:30:00\",\"2014-01-04T05:30:00\",\"2014-01-04T06:30:00\",\"2014-01-04T07:30:00\",\"2014-01-04T08:30:00\",\"2014-01-04T09:30:00\",\"2014-01-04T10:30:00\",\"2014-01-04T11:30:00\",\"2014-01-04T12:30:00\",\"2014-01-04T13:30:00\",\"2014-01-04T14:30:00\",\"2014-01-04T15:30:00\",\"2014-01-04T16:30:00\",\"2014-01-04T17:30:00\",\"2014-01-04T18:30:00\",\"2014-01-04T19:30:00\",\"2014-01-04T20:30:00\",\"2014-01-04T21:30:00\",\"2014-01-04T22:30:00\",\"2014-01-04T23:30:00\",\"2014-01-05T00:30:00\",\"2014-01-05T01:30:00\",\"2014-01-05T02:30:00\",\"2014-01-05T03:30:00\",\"2014-01-05T04:30:00\",\"2014-01-05T05:30:00\",\"2014-01-05T06:30:00\",\"2014-01-05T07:30:00\",\"2014-01-05T08:30:00\",\"2014-01-05T09:30:00\",\"2014-01-05T10:30:00\",\"2014-01-05T11:30:00\",\"2014-01-05T12:30:00\",\"2014-01-05T13:30:00\",\"2014-01-05T14:30:00\",\"2014-01-05T15:30:00\",\"2014-01-05T16:30:00\",\"2014-01-05T17:30:00\",\"2014-01-05T18:30:00\",\"2014-01-05T19:30:00\",\"2014-01-05T20:30:00\",\"2014-01-05T21:30:00\",\"2014-01-05T22:30:00\",\"2014-01-05T23:30:00\",\"2014-01-06T00:30:00\",\"2014-01-06T01:30:00\",\"2014-01-06T02:30:00\",\"2014-01-06T03:30:00\",\"2014-01-06T04:30:00\",\"2014-01-06T05:30:00\",\"2014-01-06T06:30:00\",\"2014-01-06T07:30:00\",\"2014-01-06T08:30:00\",\"2014-01-06T09:30:00\",\"2014-01-06T10:30:00\",\"2014-01-06T11:30:00\",\"2014-01-06T12:30:00\",\"2014-01-06T13:30:00\",\"2014-01-06T14:30:00\",\"2014-01-06T15:30:00\",\"2014-01-06T16:30:00\",\"2014-01-06T17:30:00\",\"2014-01-06T18:30:00\",\"2014-01-06T19:30:00\",\"2014-01-06T20:30:00\",\"2014-01-06T21:30:00\",\"2014-01-06T22:30:00\",\"2014-01-06T23:30:00\",\"2014-01-07T00:30:00\",\"2014-01-07T01:30:00\",\"2014-01-07T02:30:00\",\"2014-01-07T03:30:00\",\"2014-01-07T04:30:00\",\"2014-01-07T05:30:00\",\"2014-01-07T06:30:00\",\"2014-01-07T07:30:00\",\"2014-01-07T08:30:00\",\"2014-01-07T09:30:00\",\"2014-01-07T10:30:00\",\"2014-01-07T11:30:00\",\"2014-01-07T12:30:00\",\"2014-01-07T13:30:00\",\"2014-01-07T14:30:00\",\"2014-01-07T15:30:00\",\"2014-01-07T16:30:00\",\"2014-01-07T17:30:00\",\"2014-01-07T18:30:00\",\"2014-01-07T19:30:00\",\"2014-01-07T20:30:00\",\"2014-01-07T21:30:00\",\"2014-01-07T22:30:00\",\"2014-01-07T23:30:00\",\"2014-01-08T00:30:00\",\"2014-01-08T01:30:00\",\"2014-01-08T02:30:00\",\"2014-01-08T03:30:00\",\"2014-01-08T04:30:00\",\"2014-01-08T05:30:00\",\"2014-01-08T06:30:00\",\"2014-01-08T07:30:00\",\"2014-01-08T08:30:00\",\"2014-01-08T09:30:00\",\"2014-01-08T10:30:00\",\"2014-01-08T11:30:00\",\"2014-01-08T12:30:00\",\"2014-01-08T13:30:00\",\"2014-01-08T14:30:00\",\"2014-01-08T15:30:00\",\"2014-01-08T16:30:00\",\"2014-01-08T17:30:00\",\"2014-01-08T18:30:00\",\"2014-01-08T19:30:00\",\"2014-01-08T20:30:00\",\"2014-01-08T21:30:00\",\"2014-01-08T22:30:00\",\"2014-01-08T23:30:00\",\"2014-01-09T00:30:00\",\"2014-01-09T01:30:00\",\"2014-01-09T02:30:00\",\"2014-01-09T03:30:00\",\"2014-01-09T04:30:00\",\"2014-01-09T05:30:00\",\"2014-01-09T06:30:00\",\"2014-01-09T07:30:00\",\"2014-01-09T08:30:00\",\"2014-01-09T09:30:00\",\"2014-01-09T10:30:00\",\"2014-01-09T11:30:00\",\"2014-01-09T12:30:00\",\"2014-01-09T13:30:00\",\"2014-01-09T14:30:00\",\"2014-01-09T15:30:00\",\"2014-01-09T16:30:00\",\"2014-01-09T17:30:00\",\"2014-01-09T18:30:00\",\"2014-01-09T19:30:00\",\"2014-01-09T20:30:00\",\"2014-01-09T21:30:00\",\"2014-01-09T22:30:00\",\"2014-01-09T23:30:00\",\"2014-01-10T00:30:00\",\"2014-01-10T01:30:00\",\"2014-01-10T02:30:00\",\"2014-01-10T03:30:00\",\"2014-01-10T04:30:00\",\"2014-01-10T05:30:00\",\"2014-01-10T06:30:00\",\"2014-01-10T07:30:00\",\"2014-01-10T08:30:00\",\"2014-01-10T09:30:00\",\"2014-01-10T10:30:00\",\"2014-01-10T11:30:00\",\"2014-01-10T12:30:00\",\"2014-01-10T13:30:00\",\"2014-01-10T14:30:00\",\"2014-01-10T15:30:00\",\"2014-01-10T16:30:00\",\"2014-01-10T17:30:00\",\"2014-01-10T18:30:00\",\"2014-01-10T19:30:00\",\"2014-01-10T20:30:00\",\"2014-01-10T21:30:00\",\"2014-01-10T22:30:00\",\"2014-01-10T23:30:00\",\"2014-01-11T00:30:00\",\"2014-01-11T01:30:00\",\"2014-01-11T02:30:00\",\"2014-01-11T03:30:00\",\"2014-01-11T04:30:00\",\"2014-01-11T05:30:00\",\"2014-01-11T06:30:00\",\"2014-01-11T07:30:00\",\"2014-01-11T08:30:00\",\"2014-01-11T09:30:00\",\"2014-01-11T10:30:00\",\"2014-01-11T11:30:00\",\"2014-01-11T12:30:00\",\"2014-01-11T13:30:00\",\"2014-01-11T14:30:00\",\"2014-01-11T15:30:00\",\"2014-01-11T16:30:00\",\"2014-01-11T17:30:00\",\"2014-01-11T18:30:00\",\"2014-01-11T19:30:00\",\"2014-01-11T20:30:00\",\"2014-01-11T21:30:00\",\"2014-01-11T22:30:00\",\"2014-01-11T23:30:00\",\"2014-01-12T00:30:00\",\"2014-01-12T01:30:00\",\"2014-01-12T02:30:00\",\"2014-01-12T03:30:00\",\"2014-01-12T04:30:00\",\"2014-01-12T05:30:00\",\"2014-01-12T06:30:00\",\"2014-01-12T07:30:00\",\"2014-01-12T08:30:00\",\"2014-01-12T09:30:00\",\"2014-01-12T10:30:00\",\"2014-01-12T11:30:00\",\"2014-01-12T12:30:00\",\"2014-01-12T13:30:00\",\"2014-01-12T14:30:00\",\"2014-01-12T15:30:00\",\"2014-01-12T16:30:00\",\"2014-01-12T17:30:00\",\"2014-01-12T18:30:00\",\"2014-01-12T19:30:00\",\"2014-01-12T20:30:00\",\"2014-01-12T21:30:00\",\"2014-01-12T22:30:00\",\"2014-01-12T23:30:00\",\"2014-01-13T00:30:00\",\"2014-01-13T01:30:00\",\"2014-01-13T02:30:00\",\"2014-01-13T03:30:00\",\"2014-01-13T04:30:00\",\"2014-01-13T05:30:00\",\"2014-01-13T06:30:00\",\"2014-01-13T07:30:00\",\"2014-01-13T08:30:00\",\"2014-01-13T09:30:00\",\"2014-01-13T10:30:00\",\"2014-01-13T11:30:00\",\"2014-01-13T12:30:00\",\"2014-01-13T13:30:00\",\"2014-01-13T14:30:00\",\"2014-01-13T15:30:00\",\"2014-01-13T16:30:00\",\"2014-01-13T17:30:00\",\"2014-01-13T18:30:00\",\"2014-01-13T19:30:00\",\"2014-01-13T20:30:00\",\"2014-01-13T21:30:00\",\"2014-01-13T22:30:00\",\"2014-01-13T23:30:00\",\"2014-01-14T00:30:00\",\"2014-01-14T01:30:00\",\"2014-01-14T02:30:00\",\"2014-01-14T03:30:00\",\"2014-01-14T04:30:00\",\"2014-01-14T05:30:00\",\"2014-01-14T06:30:00\",\"2014-01-14T07:30:00\",\"2014-01-14T08:30:00\",\"2014-01-14T09:30:00\",\"2014-01-14T10:30:00\",\"2014-01-14T11:30:00\",\"2014-01-14T12:30:00\",\"2014-01-14T13:30:00\",\"2014-01-14T14:30:00\",\"2014-01-14T15:30:00\",\"2014-01-14T16:30:00\",\"2014-01-14T17:30:00\",\"2014-01-14T18:30:00\",\"2014-01-14T19:30:00\",\"2014-01-14T20:30:00\",\"2014-01-14T21:30:00\",\"2014-01-14T22:30:00\",\"2014-01-14T23:30:00\",\"2014-01-15T00:30:00\",\"2014-01-15T01:30:00\",\"2014-01-15T02:30:00\",\"2014-01-15T03:30:00\",\"2014-01-15T04:30:00\",\"2014-01-15T05:30:00\",\"2014-01-15T06:30:00\",\"2014-01-15T07:30:00\",\"2014-01-15T08:30:00\",\"2014-01-15T09:30:00\",\"2014-01-15T10:30:00\",\"2014-01-15T11:30:00\",\"2014-01-15T12:30:00\",\"2014-01-15T13:30:00\",\"2014-01-15T14:30:00\",\"2014-01-15T15:30:00\",\"2014-01-15T16:30:00\",\"2014-01-15T17:30:00\",\"2014-01-15T18:30:00\",\"2014-01-15T19:30:00\",\"2014-01-15T20:30:00\",\"2014-01-15T21:30:00\",\"2014-01-15T22:30:00\",\"2014-01-15T23:30:00\",\"2014-01-16T00:30:00\",\"2014-01-16T01:30:00\",\"2014-01-16T02:30:00\",\"2014-01-16T03:30:00\",\"2014-01-16T04:30:00\",\"2014-01-16T05:30:00\",\"2014-01-16T06:30:00\",\"2014-01-16T07:30:00\",\"2014-01-16T08:30:00\",\"2014-01-16T09:30:00\",\"2014-01-16T10:30:00\",\"2014-01-16T11:30:00\",\"2014-01-16T12:30:00\",\"2014-01-16T13:30:00\",\"2014-01-16T14:30:00\",\"2014-01-16T15:30:00\",\"2014-01-16T16:30:00\",\"2014-01-16T17:30:00\",\"2014-01-16T18:30:00\",\"2014-01-16T19:30:00\",\"2014-01-16T20:30:00\",\"2014-01-16T21:30:00\",\"2014-01-16T22:30:00\",\"2014-01-16T23:30:00\",\"2014-01-17T00:30:00\",\"2014-01-17T01:30:00\",\"2014-01-17T02:30:00\",\"2014-01-17T03:30:00\",\"2014-01-17T04:30:00\",\"2014-01-17T05:30:00\",\"2014-01-17T06:30:00\",\"2014-01-17T07:30:00\",\"2014-01-17T08:30:00\",\"2014-01-17T09:30:00\",\"2014-01-17T10:30:00\",\"2014-01-17T11:30:00\",\"2014-01-17T12:30:00\",\"2014-01-17T13:30:00\",\"2014-01-17T14:30:00\",\"2014-01-17T15:30:00\",\"2014-01-17T16:30:00\",\"2014-01-17T17:30:00\",\"2014-01-17T18:30:00\",\"2014-01-17T19:30:00\",\"2014-01-17T20:30:00\",\"2014-01-17T21:30:00\",\"2014-01-17T22:30:00\",\"2014-01-17T23:30:00\",\"2014-01-18T00:30:00\",\"2014-01-18T01:30:00\",\"2014-01-18T02:30:00\",\"2014-01-18T03:30:00\",\"2014-01-18T04:30:00\",\"2014-01-18T05:30:00\",\"2014-01-18T06:30:00\",\"2014-01-18T07:30:00\",\"2014-01-18T08:30:00\",\"2014-01-18T09:30:00\",\"2014-01-18T10:30:00\",\"2014-01-18T11:30:00\",\"2014-01-18T12:30:00\",\"2014-01-18T13:30:00\",\"2014-01-18T14:30:00\",\"2014-01-18T15:30:00\",\"2014-01-18T16:30:00\",\"2014-01-18T17:30:00\",\"2014-01-18T18:30:00\",\"2014-01-18T19:30:00\",\"2014-01-18T20:30:00\",\"2014-01-18T21:30:00\",\"2014-01-18T22:30:00\",\"2014-01-18T23:30:00\",\"2014-01-19T00:30:00\",\"2014-01-19T01:30:00\",\"2014-01-19T02:30:00\",\"2014-01-19T03:30:00\",\"2014-01-19T04:30:00\",\"2014-01-19T05:30:00\",\"2014-01-19T06:30:00\",\"2014-01-19T07:30:00\",\"2014-01-19T08:30:00\",\"2014-01-19T09:30:00\",\"2014-01-19T10:30:00\",\"2014-01-19T11:30:00\",\"2014-01-19T12:30:00\",\"2014-01-19T13:30:00\",\"2014-01-19T14:30:00\",\"2014-01-19T15:30:00\",\"2014-01-19T16:30:00\",\"2014-01-19T17:30:00\",\"2014-01-19T18:30:00\",\"2014-01-19T19:30:00\",\"2014-01-19T20:30:00\",\"2014-01-19T21:30:00\",\"2014-01-19T22:30:00\",\"2014-01-19T23:30:00\",\"2014-01-20T00:30:00\",\"2014-01-20T01:30:00\",\"2014-01-20T02:30:00\",\"2014-01-20T03:30:00\",\"2014-01-20T04:30:00\",\"2014-01-20T05:30:00\",\"2014-01-20T06:30:00\",\"2014-01-20T07:30:00\",\"2014-01-20T08:30:00\",\"2014-01-20T09:30:00\",\"2014-01-20T10:30:00\",\"2014-01-20T11:30:00\",\"2014-01-20T12:30:00\",\"2014-01-20T13:30:00\",\"2014-01-20T14:30:00\",\"2014-01-20T15:30:00\",\"2014-01-20T16:30:00\",\"2014-01-20T17:30:00\",\"2014-01-20T18:30:00\",\"2014-01-20T19:30:00\",\"2014-01-20T20:30:00\",\"2014-01-20T21:30:00\",\"2014-01-20T22:30:00\",\"2014-01-20T23:30:00\",\"2014-01-21T00:30:00\",\"2014-01-21T01:30:00\",\"2014-01-21T02:30:00\",\"2014-01-21T03:30:00\",\"2014-01-21T04:30:00\",\"2014-01-21T05:30:00\",\"2014-01-21T06:30:00\",\"2014-01-21T07:30:00\",\"2014-01-21T08:30:00\",\"2014-01-21T09:30:00\",\"2014-01-21T10:30:00\",\"2014-01-21T11:30:00\",\"2014-01-21T12:30:00\",\"2014-01-21T13:30:00\",\"2014-01-21T14:30:00\",\"2014-01-21T15:30:00\",\"2014-01-21T16:30:00\",\"2014-01-21T17:30:00\",\"2014-01-21T18:30:00\",\"2014-01-21T19:30:00\",\"2014-01-21T20:30:00\",\"2014-01-21T21:30:00\",\"2014-01-21T22:30:00\",\"2014-01-21T23:30:00\",\"2014-01-22T00:30:00\",\"2014-01-22T01:30:00\",\"2014-01-22T02:30:00\",\"2014-01-22T03:30:00\",\"2014-01-22T04:30:00\",\"2014-01-22T05:30:00\",\"2014-01-22T06:30:00\",\"2014-01-22T07:30:00\",\"2014-01-22T08:30:00\",\"2014-01-22T09:30:00\",\"2014-01-22T10:30:00\",\"2014-01-22T11:30:00\",\"2014-01-22T12:30:00\",\"2014-01-22T13:30:00\",\"2014-01-22T14:30:00\",\"2014-01-22T15:30:00\",\"2014-01-22T16:30:00\",\"2014-01-22T17:30:00\",\"2014-01-22T18:30:00\",\"2014-01-22T19:30:00\",\"2014-01-22T20:30:00\",\"2014-01-22T21:30:00\",\"2014-01-22T22:30:00\",\"2014-01-22T23:30:00\",\"2014-01-23T00:30:00\",\"2014-01-23T01:30:00\",\"2014-01-23T02:30:00\",\"2014-01-23T03:30:00\",\"2014-01-23T04:30:00\",\"2014-01-23T05:30:00\",\"2014-01-23T06:30:00\",\"2014-01-23T07:30:00\",\"2014-01-23T08:30:00\",\"2014-01-23T09:30:00\",\"2014-01-23T10:30:00\",\"2014-01-23T11:30:00\",\"2014-01-23T12:30:00\",\"2014-01-23T13:30:00\",\"2014-01-23T14:30:00\",\"2014-01-23T15:30:00\",\"2014-01-23T16:30:00\",\"2014-01-23T17:30:00\",\"2014-01-23T18:30:00\",\"2014-01-23T19:30:00\",\"2014-01-23T20:30:00\",\"2014-01-23T21:30:00\",\"2014-01-23T22:30:00\",\"2014-01-23T23:30:00\",\"2014-01-24T00:30:00\",\"2014-01-24T01:30:00\",\"2014-01-24T02:30:00\",\"2014-01-24T03:30:00\",\"2014-01-24T04:30:00\",\"2014-01-24T05:30:00\",\"2014-01-24T06:30:00\",\"2014-01-24T07:30:00\",\"2014-01-24T08:30:00\",\"2014-01-24T09:30:00\",\"2014-01-24T10:30:00\",\"2014-01-24T11:30:00\",\"2014-01-24T12:30:00\",\"2014-01-24T13:30:00\",\"2014-01-24T14:30:00\",\"2014-01-24T15:30:00\",\"2014-01-24T16:30:00\",\"2014-01-24T17:30:00\",\"2014-01-24T18:30:00\",\"2014-01-24T19:30:00\",\"2014-01-24T20:30:00\",\"2014-01-24T21:30:00\",\"2014-01-24T22:30:00\",\"2014-01-24T23:30:00\",\"2014-01-25T00:30:00\",\"2014-01-25T01:30:00\",\"2014-01-25T02:30:00\",\"2014-01-25T03:30:00\",\"2014-01-25T04:30:00\",\"2014-01-25T05:30:00\",\"2014-01-25T06:30:00\",\"2014-01-25T07:30:00\",\"2014-01-25T08:30:00\",\"2014-01-25T09:30:00\",\"2014-01-25T10:30:00\",\"2014-01-25T11:30:00\",\"2014-01-25T12:30:00\",\"2014-01-25T13:30:00\",\"2014-01-25T14:30:00\",\"2014-01-25T15:30:00\",\"2014-01-25T16:30:00\",\"2014-01-25T17:30:00\",\"2014-01-25T18:30:00\",\"2014-01-25T19:30:00\",\"2014-01-25T20:30:00\",\"2014-01-25T21:30:00\",\"2014-01-25T22:30:00\",\"2014-01-25T23:30:00\",\"2014-01-26T00:30:00\",\"2014-01-26T01:30:00\",\"2014-01-26T02:30:00\",\"2014-01-26T03:30:00\",\"2014-01-26T04:30:00\",\"2014-01-26T05:30:00\",\"2014-01-26T06:30:00\",\"2014-01-26T07:30:00\",\"2014-01-26T08:30:00\",\"2014-01-26T09:30:00\",\"2014-01-26T10:30:00\",\"2014-01-26T11:30:00\",\"2014-01-26T12:30:00\",\"2014-01-26T13:30:00\",\"2014-01-26T14:30:00\",\"2014-01-26T15:30:00\",\"2014-01-26T16:30:00\",\"2014-01-26T17:30:00\",\"2014-01-26T18:30:00\",\"2014-01-26T19:30:00\",\"2014-01-26T20:30:00\",\"2014-01-26T21:30:00\",\"2014-01-26T22:30:00\",\"2014-01-26T23:30:00\",\"2014-01-27T00:30:00\",\"2014-01-27T01:30:00\",\"2014-01-27T02:30:00\",\"2014-01-27T03:30:00\",\"2014-01-27T04:30:00\",\"2014-01-27T05:30:00\",\"2014-01-27T06:30:00\",\"2014-01-27T07:30:00\",\"2014-01-27T08:30:00\",\"2014-01-27T09:30:00\",\"2014-01-27T10:30:00\",\"2014-01-27T11:30:00\",\"2014-01-27T12:30:00\",\"2014-01-27T13:30:00\",\"2014-01-27T14:30:00\",\"2014-01-27T15:30:00\",\"2014-01-27T16:30:00\",\"2014-01-27T17:30:00\",\"2014-01-27T18:30:00\",\"2014-01-27T19:30:00\",\"2014-01-27T20:30:00\",\"2014-01-27T21:30:00\",\"2014-01-27T22:30:00\",\"2014-01-27T23:30:00\",\"2014-01-28T00:30:00\",\"2014-01-28T01:30:00\",\"2014-01-28T02:30:00\",\"2014-01-28T03:30:00\",\"2014-01-28T04:30:00\",\"2014-01-28T05:30:00\",\"2014-01-28T06:30:00\",\"2014-01-28T07:30:00\",\"2014-01-28T08:30:00\",\"2014-01-28T09:30:00\",\"2014-01-28T10:30:00\",\"2014-01-28T11:30:00\",\"2014-01-28T12:30:00\",\"2014-01-28T13:30:00\",\"2014-01-28T14:30:00\",\"2014-01-28T15:30:00\",\"2014-01-28T16:30:00\",\"2014-01-28T17:30:00\",\"2014-01-28T18:30:00\",\"2014-01-28T19:30:00\",\"2014-01-28T20:30:00\",\"2014-01-28T21:30:00\",\"2014-01-28T22:30:00\",\"2014-01-28T23:30:00\",\"2014-01-29T00:30:00\",\"2014-01-29T01:30:00\",\"2014-01-29T02:30:00\",\"2014-01-29T03:30:00\",\"2014-01-29T04:30:00\",\"2014-01-29T05:30:00\",\"2014-01-29T06:30:00\",\"2014-01-29T07:30:00\",\"2014-01-29T08:30:00\",\"2014-01-29T09:30:00\",\"2014-01-29T10:30:00\",\"2014-01-29T11:30:00\",\"2014-01-29T12:30:00\",\"2014-01-29T13:30:00\",\"2014-01-29T14:30:00\",\"2014-01-29T15:30:00\",\"2014-01-29T16:30:00\",\"2014-01-29T17:30:00\",\"2014-01-29T18:30:00\",\"2014-01-29T19:30:00\",\"2014-01-29T20:30:00\",\"2014-01-29T21:30:00\",\"2014-01-29T22:30:00\",\"2014-01-29T23:30:00\",\"2014-01-30T00:30:00\",\"2014-01-30T01:30:00\",\"2014-01-30T02:30:00\",\"2014-01-30T03:30:00\",\"2014-01-30T04:30:00\",\"2014-01-30T05:30:00\",\"2014-01-30T06:30:00\",\"2014-01-30T07:30:00\",\"2014-01-30T08:30:00\",\"2014-01-30T09:30:00\",\"2014-01-30T10:30:00\",\"2014-01-30T11:30:00\",\"2014-01-30T12:30:00\",\"2014-01-30T13:30:00\",\"2014-01-30T14:30:00\",\"2014-01-30T15:30:00\",\"2014-01-30T16:30:00\",\"2014-01-30T17:30:00\",\"2014-01-30T18:30:00\",\"2014-01-30T19:30:00\",\"2014-01-30T20:30:00\",\"2014-01-30T21:30:00\",\"2014-01-30T22:30:00\",\"2014-01-30T23:30:00\",\"2014-01-31T00:30:00\",\"2014-01-31T01:30:00\",\"2014-01-31T02:30:00\",\"2014-01-31T03:30:00\",\"2014-01-31T04:30:00\",\"2014-01-31T05:30:00\",\"2014-01-31T06:30:00\",\"2014-01-31T07:30:00\",\"2014-01-31T08:30:00\",\"2014-01-31T09:30:00\",\"2014-01-31T10:30:00\",\"2014-01-31T11:30:00\",\"2014-01-31T12:30:00\",\"2014-01-31T13:30:00\",\"2014-01-31T14:30:00\",\"2014-01-31T15:30:00\",\"2014-01-31T16:30:00\",\"2014-01-31T17:30:00\",\"2014-01-31T18:30:00\",\"2014-01-31T19:30:00\",\"2014-01-31T20:30:00\",\"2014-01-31T21:30:00\",\"2014-01-31T22:30:00\",\"2014-01-31T23:30:00\",\"2014-02-01T00:30:00\",\"2014-02-01T01:30:00\",\"2014-02-01T02:30:00\",\"2014-02-01T03:30:00\",\"2014-02-01T04:30:00\",\"2014-02-01T05:30:00\",\"2014-02-01T06:30:00\",\"2014-02-01T07:30:00\",\"2014-02-01T08:30:00\",\"2014-02-01T09:30:00\",\"2014-02-01T10:30:00\",\"2014-02-01T11:30:00\",\"2014-02-01T12:30:00\",\"2014-02-01T13:30:00\",\"2014-02-01T14:30:00\",\"2014-02-01T15:30:00\",\"2014-02-01T16:30:00\",\"2014-02-01T17:30:00\",\"2014-02-01T18:30:00\",\"2014-02-01T19:30:00\",\"2014-02-01T20:30:00\",\"2014-02-01T21:30:00\",\"2014-02-01T22:30:00\",\"2014-02-01T23:30:00\"],\"xaxis\":\"x\",\"y\":[-32.1423861816526,-13.183707255158744,-15.664299499972609,-19.218661772757358,-23.648474619939478,-28.739768970390177,-34.250067219141904,-39.897412015357936,-45.33806554610901,-50.13627842264707,-53.75230869108863,-55.61806799298972,-55.36097972779046,-53.03611249166191,-49.08763399980465,-44.091621871928474,-38.565243291503045,-32.91987232606043,-27.481750183378686,-22.52123513330565,-18.271514778179714,-14.934411856300663,-12.675479036770815,-11.612442870910698,-11.802683953937128,-13.235811813343469,-15.835077282677485,-19.466900970849526,-23.95377021913699,-29.084318283145908,-34.61533944642632,-40.262204053526716,-45.6763051467985,-50.41502147523154,-53.932960378464976,-55.66657336074543,-55.26612633881736,-52.8174278323319,-48.78198589790255,-43.73615104209706,-38.19035723271401,-32.54941697508888,-27.13503192862417,-22.214648729356814,-18.01931341341754,-14.748683941736243,-12.56554623410683,-11.584007445201427,-11.857135236922648,-13.370039139288785,-16.041888345704383,-19.735835011600948,-24.271911524148006,-29.436720437625503,-34.98477642150478,-40.628078087252,-46.012761812298066,-50.68917980215331,-54.10658916144146,-55.706961072652646,-55.164293200273214,-52.59456778820713,-48.47520710952298,-43.382010470467456,-37.81858014794829,-32.18333451742156,-26.793611315411813,-21.91406143255172,-17.773642299156933,-14.56984882456005,-12.462668785673356,-11.56255025358172,-11.918226255019094,-13.510318435032417,-16.25395660860382,-20.009076635908297,-24.59329302429291,-29.791179606144073,-35.35492530644581,-40.993057542774096,-46.34632519605151,-50.9580149671696,-54.272421035807824,-55.738133634236675,-55.053899488679775,-52.36543774888764,-48.16480032659615,-43.0264866714379,-37.44716133568176,-31.818974003053302,-26.45502987953966,-21.617262468224666,-17.53256315528098,-14.39624155364423,-12.365438376380796,-11.546892276063359,-11.984976028200759,-13.65583690510285,-16.47061191925866,-20.286077603593235,-24.917471194248726,-30.14734093034474,-35.72550197311559,-41.35690631790615,-46.67678003795631,-51.22131234222521,-54.430255921730385,-55.75995284568768,-54.934865461653395,-52.12993659082732,-47.850585522998045,-42.66932163716766,-37.07579215247626,-31.456004977357612,-26.11895769222359,-21.323937193983962,-17.295784413797644,-14.227595610272278,-12.273611496928385,-11.536809315782106,-12.057176535784155,-13.806401277859615,-16.69167576290965,-20.56667438732221,-25.244296528421728,-30.505065483971862,-36.0963710253475,-41.71948143726083,-47.00396387006713,-51.47889210375305,-54.57994079395244,-55.7723682509824,-54.80725256397008,-51.888157390932506,-47.53262164887763,-42.3105270181266,-36.704448702833275,-31.094382911892648,-25.785340738033135,-21.034028503877295,-17.06324800863157,-14.063850820363255,-12.187122985567603,-11.532228557925775,-12.13474647296758,-13.961923187999854,-16.91705549992671,-20.850772603708638,-25.573673640739113,-30.864254679435604,-36.46742472893444,-42.080656430798115,-47.32772252874646,-51.7305805672352,-54.7213358455681,-55.7753554815838,-54.67115870580846,-51.640238508525556,-47.21102282700208,-41.95017838701497,-36.33317660403015,-30.734134857095235,-25.45419552619458,-20.747546253948343,-16.83495742642579,-13.905001993441948,-12.105955620239039,-11.53311821519671,-12.217639201724408,-14.122343289757374,-17.146682515607015,-21.138297367868642,-25.905522377253135,-31.224820999618235,-36.83856232560328,-42.44030800806943,-47.64790245556823,-51.97620551344075,-54.85430894866828,-55.76890491713559,-54.526697716511464,-51.38633361288787,-46.88592056453067,-41.588371970524186,-35.962044694294555,-30.37531234462306,-25.125563031754105,-20.464523682429714,-16.61093764103081,-13.751063014565183,-12.030108648243015,-11.539460465727666,-12.30581983833724,-14.287612115663096,-17.380496442773715,-21.429180510901922,-26.23976773749735,-31.586680395663713,-37.20968469418223,-42.79831271708085,-47.96434896884038,-52.21559546369702,-54.97873475744926,-55.75301875102432,-54.37399331662077,-51.12660282906645,-46.55745256503865,-41.22521171193744,-35.59113103776155,-30.01797701274183,-24.799494532040505,-20.185003935164325,-16.39122268528195,-13.602055697772803,-11.95958803781754,-11.551243110973127,-12.399258239378023,-14.457684252556168,-17.61844037799634,-21.72335671070847,-26.576336823097346,-31.949749980755318,-37.58069272579094,-43.154545932486464,-48.27690579374685,-52.448579639243164,-55.094494613588054,-55.727709822716,-54.21317656163866,-50.86120924496024,-46.22575850704768,-40.860804444343636,-35.2205177007419,-29.662195224366517,-24.476046285402752,-19.909034986229727,-16.175850952263065,-13.458005563181745,-11.894402782447756,-11.568456416137163,-12.497926350913112,-14.63251614947338,-17.86045908952618,-22.020762048481256,-26.915157705351454,-32.31394718348362,-37.951486745792025,-43.508881541794466,-48.58541504637151,-52.67498828761759,-55.20147692473301,-55.69300128486589,-54.044384738828,-50.59031751130523,-45.890978426842636,-40.495258021012106,-34.8502886776874,-29.30803587981819,-24.155277322759204,-19.63666748665969,-15.9648631632304,-13.318939969874913,-11.83456322760424,-11.59109164140831,-12.601796937629974,-14.812065033036482,-18.10649810915142,-22.321333265860627,-27.25615884165085,-32.679189320967716,-38.321966244193796,-43.861191848422926,-48.88971737221159,-52.89465313538114,-55.299577661213554,-55.648926455047665,-53.867760641466,-50.31409301410364,-45.55325182185646,-40.12868027517324,-34.48052871618238,-28.95556916160456,-23.837248174666698,-19.367953531611473,-15.758301225529936,-13.184887107122925,-11.780080226938688,-11.61914037962484,-12.710843101156831,-14.996288580867358,-18.356503524664678,-22.62500765247883,-27.599269039796305,-33.045393627149295,-38.69202996304173,-44.21134773739468,-49.18965227104825,-53.10740797502557,-55.388700946772516,-55.59552879662292,-53.68345212646151,-50.03270148271807,-45.2127173037655,-39.76117861174708,-34.11132281858012,-28.604865958907105,-23.52202023970518,-19.102945992025333,-15.556207544952041,-13.055875304104182,-11.73096446452982,-11.652593901792887,-12.825037653378486,-15.185144336319816,-18.61042145084267,-22.931722575884997,-27.94441705036075,-33.41247691155055,-39.061575630066045,-44.55921851658984,-49.48505814319172,-53.313089026206534,-55.46875945598885,-55.53286177474604,-53.491611685489325,-49.74630871930495,-44.86951244769166,-39.39285986161077,-33.742756068708005,-28.255997676925535,-23.209655596651146,-18.84169834941194,-15.358624900726989,-12.931932959841403,-11.68722644900243,-11.691443215031617,-12.944353226306442,-15.378589841771044,-18.86819815772004,-23.241415588283797,-28.291531639036506,-33.78035558721518,-39.430499939044786,-44.90467187444681,-49.77577231982526,-53.511535141961794,-55.5396745011859,-55.46098831942881,-53.29239565443596,-49.45508000954363,-44.52377336450488,-39.02382990540687,-33.374913270531536,-27.909035890654554,-22.900216682364984,-18.584264407733965,-15.16559620164016,-12.813088354106656,-11.648876387700758,-11.735679002307435,-13.068762271314954,-15.576582683453058,-19.129780144001366,-23.55402451536728,-28.64054168083252,-34.14894576292345,-39.798698640418245,-45.24757399974663,-50.061631313796426,-53.70258827997744,-55.60137637925156,-55.37998055347687,-53.08596371570201,-49.15917979754416,-44.175634477385465,-38.65419343862837,-33.007878664626205,-27.564052011080083,-22.593765914567474,-18.33069788144346,-14.977164050220143,-12.699369201475545,-11.615923745051974,-11.785291196112247,-13.198236653185022,-15.779080110961909,-19.395113783940044,-23.869487128325986,-28.99137585624887,-34.51816296436591,-40.166066297102326,-45.58778941661304,-50.34247085462667,-53.88609383201174,-55.65380463071728,-55.289919532898736,-52.87247854831565,-48.85877158774707,-43.82522856884904,-38.28405403886105,-32.64173597000958,-27.221117291691147,-22.290365662165573,-18.081052330828744,-14.793370646317197,-12.590802528631357,-11.588377099243688,-11.840268816518355,-13.332747466097254,-15.986038828304757,-19.664145097233607,-24.18774089563422,-29.343962387587567,-34.887921856561135,-40.53249600013612,-45.92518073296628,-50.618125781939014,-54.061900726961895,-55.69690794498107,-55.190894561020585,-52.65210504233794,-48.554017392211485,-43.47268636457941,-37.91351378433358,-32.27656801096242,-26.88030247024758,-21.99007791759878,-17.83538088306494,-14.614257576375135,-12.487414551043004,-11.566244120657956,-11.900600055301071,-13.472265214510438,-16.197415242749592,-19.93682002645123,-24.508723258465565,-29.698229283878188,-35.25813643247637,-40.89787948570649,-46.25960871035341,-50.88843017220905,-54.2298616613636,-55.73064407199878,-55.083002474926374,-52.42500952088738,-48.24507720797149,-43.11813616898271,-37.54267294849726,-31.91245643612462,-26.541677502396126,-21.69296403878816,-17.59373597607438,-14.439865553735446,-12.389230406090983,-11.549531294478896,-11.966271982190948,-13.616759494338206,-16.413165115206013,-20.21308405876901,-24.83237122980745,-30.054103927705654,-35.628719602647394,-41.26210675671162,-46.590931992136795,-51.153217328451625,-54.38983341372817,-55.75498000877853,-54.96634739886771,-52.19135955303248,-47.932109082270664,-42.761704015643254,-37.17163010602089,-31.54948173028056,-26.205311463321017,-21.399084536403127,-17.356169034251703,-14.270233993600613,-12.2962736461108,-11.538243355524532,-12.037269944925523,-13.766198378226122,-16.633242956566384,-20.49288165654759,-25.158620870894733,-30.411512605704214,-35.99958278567049,-41.625065747351066,-46.919006897233125,-51.41231982953321,-54.541677153046834,-55.76989205411494,-54.84104028958117,-51.95132352051096,-47.61526889455109,-42.4035135311458,-36.8004819889429,-31.187723044965804,-25.871272361888614,-21.108498887057436,-17.122730297717016,-14.105400876029316,-12.208566151548217,-11.532383262104586,-12.113577603476017,-13.920548497775155,-16.857602128761087,-20.7761563452469,-25.48740734381168,-30.770380505223244,-36.370635831123565,-41.98664216866572,-47.24368723474672,-51.665569441581866,-54.68525844705557,-55.775365430226024,-54.70719805480354,-51.705069842433836,-47.29470988253657,-42.043685635013,-36.42932327019592,-30.827258035492356,-25.539627021589986,-20.821265452057236,-16.893468773003388,-13.945402723472798,-12.126128130606277,-11.531952210622277,-12.19517694707157,-14.079775045518314,-17.08619481270226,-21.062850632534985,-25.818664773199707,-31.13063151463422,-36.7417867604715,-42.34671921092126,-47.56482404570125,-51.912797057959956,-54.820447398280145,-55.771394115248455,-54.56494300000366,-51.45276659676712,-46.9705825496681,-41.68233856921664,-36.05824660975479,-30.468162883560034,-25.21044106318302,-20.537441410651557,-16.668432111844847,-13.790274425423663,-12.048977895303997,-11.536949370765264,-12.282047994597928,-14.243841444057518,-17.318971655735034,-21.352905645317435,-26.15232587927068,-31.492187859186355,-37.11294141523408,-42.70517723047463,-47.882265411099034,-52.15383278179553,-54.94711895175859,-55.75798082908086,-54.41440243826641,-51.19458128704677,-46.643034661367786,-41.31958796727385,-35.687342710760824,-30.110512318491775,-24.883778891227706,-20.25708271801805,-16.447666549719546,-13.640049169655365,-11.97713179901458,-11.547371840144418,-12.374168770027003,-14.412709338373416,-17.555881770367815,-21.64626112634197,-26.488321968126076,-31.85497008156971,-37.4840034273175,-43.06189372731932,-48.1958565119632,-52.388506207913224,-55.06515330480505,-55.73513700809196,-54.25570825168288,-50.93068053757091,-46.31221114070146,-40.95554681384818,-35.316700276399196,-29.75437956074014,-24.559703630890624,-19.98024404541042,-16.231216860578417,-13.494758424078391,-11.910604257593501,-11.563214712176547,-12.471515416139734,-14.5863387465749,-17.796872903343573,-21.94285559885169,-26.82658307871554,-32.21889716377207,-37.8548743183362,-43.41674345237915,-48.50543984611938,-52.61664691832805,-55.174436588999015,-55.702883131705036,-54.088996952507955,-50.66123040495396,-45.97825464326526,-40.59032612317245,-34.94640670703856,-29.399837005739148,-24.238277781137505,-19.70697938696727,-16.019126902094,-13.354432407721454,-11.849408136583268,-11.584471371769535,-12.574062391490052,-14.764688153355909,-18.041891439382848,-22.242626308938526,-27.167037888065206,-32.58388642418482,-38.22545342621227,-43.76959842874455,-48.8108554790202,-52.83808514648258,-55.274861813564016,-55.661249364991995,-53.91441012140912,-50.386397062622564,-45.641306452453875,-40.22403588581882,-34.57654902928344,-29.046957123176902,-23.91956409028035,-19.437342922089293,-15.811440477359133,-13.219100965735828,-11.793555652748585,-11.6111344314937,-12.681783440943166,-14.947715507417549,-18.290883407222395,-22.54551022107791,-27.50961468896368,-32.949854474781255,-38.59563884758995,-44.1203289116623,-49.11194212011829,-53.052653099576766,-55.366330212327675,-55.61027633649246,-53.73209480759593,-50.1063473228836,-45.30150713696837,-39.8567857598632,-34.2072145912575,-28.695813166470618,-23.603626296502487,-19.171389800910845,-15.608202175619745,-13.088794472765853,-11.74305934327674,-11.643196762621077,-12.79465267599209,-15.135379332968109,-18.543795603169514,-22.85144513944892,-27.854242501760357,-33.31671832117485,-38.965328532322786,-44.468804509936774,-49.408538367240205,-53.26018643182895,-55.44875266059861,-55.55001589864985,-53.54220387855459,-49.821249053812345,-44.958997031682266,-39.48868552029735,-33.83849145658303,-28.346479523523303,-23.290529453771047,-18.90917646205003,-15.409457697197988,-12.963544180108649,-11.697932448517069,-11.68065192138482,-12.912645044636976,-15.327639237189542,-18.800576136898876,-23.16037029333748,-28.200851690876576,-33.684395999348105,-39.334420930243255,-44.81489485168927,-49.70048345641614,-53.460525134487675,-55.522050351897065,-55.480531020714835,-53.34489547186159,-49.5312706807983,-44.613915793315385,-39.11984459217291,-33.4704679044023,-27.99903120495567,-22.980339434802172,-18.650760175046226,-15.215253458106094,-12.843381902783744,-11.658188696190875,-11.72349403435121,-13.03573630832181,-15.524455957502358,-19.061174510204587,-23.472226404387122,-28.549373987869355,-34.05280652147125,-39.702814830710025,-45.15846931487995,-49.98761695040805,-53.65351325140713,-55.58615421665488,-55.40189447481963,-53.14033142975475,-49.23657985362961,-44.26640126429304,-38.75037099600855,-33.10323140270838,-27.653542822771616,-22.67312190007743,-18.396197987071556,-15.025635505353382,-12.728338899308017,-11.623841145205047,-11.771716605921181,-13.163901810290316,-15.725790086416172],\"yaxis\":\"y\",\"type\":\"scatter\"}],                        {\"template\":{\"data\":{\"bar\":[{\"error_x\":{\"color\":\"#2a3f5f\"},\"error_y\":{\"color\":\"#2a3f5f\"},\"marker\":{\"line\":{\"color\":\"#E5ECF6\",\"width\":0.5},\"pattern\":{\"fillmode\":\"overlay\",\"size\":10,\"solidity\":0.2}},\"type\":\"bar\"}],\"barpolar\":[{\"marker\":{\"line\":{\"color\":\"#E5ECF6\",\"width\":0.5},\"pattern\":{\"fillmode\":\"overlay\",\"size\":10,\"solidity\":0.2}},\"type\":\"barpolar\"}],\"carpet\":[{\"aaxis\":{\"endlinecolor\":\"#2a3f5f\",\"gridcolor\":\"white\",\"linecolor\":\"white\",\"minorgridcolor\":\"white\",\"startlinecolor\":\"#2a3f5f\"},\"baxis\":{\"endlinecolor\":\"#2a3f5f\",\"gridcolor\":\"white\",\"linecolor\":\"white\",\"minorgridcolor\":\"white\",\"startlinecolor\":\"#2a3f5f\"},\"type\":\"carpet\"}],\"choropleth\":[{\"colorbar\":{\"outlinewidth\":0,\"ticks\":\"\"},\"type\":\"choropleth\"}],\"contour\":[{\"colorbar\":{\"outlinewidth\":0,\"ticks\":\"\"},\"colorscale\":[[0.0,\"#0d0887\"],[0.1111111111111111,\"#46039f\"],[0.2222222222222222,\"#7201a8\"],[0.3333333333333333,\"#9c179e\"],[0.4444444444444444,\"#bd3786\"],[0.5555555555555556,\"#d8576b\"],[0.6666666666666666,\"#ed7953\"],[0.7777777777777778,\"#fb9f3a\"],[0.8888888888888888,\"#fdca26\"],[1.0,\"#f0f921\"]],\"type\":\"contour\"}],\"contourcarpet\":[{\"colorbar\":{\"outlinewidth\":0,\"ticks\":\"\"},\"type\":\"contourcarpet\"}],\"heatmap\":[{\"colorbar\":{\"outlinewidth\":0,\"ticks\":\"\"},\"colorscale\":[[0.0,\"#0d0887\"],[0.1111111111111111,\"#46039f\"],[0.2222222222222222,\"#7201a8\"],[0.3333333333333333,\"#9c179e\"],[0.4444444444444444,\"#bd3786\"],[0.5555555555555556,\"#d8576b\"],[0.6666666666666666,\"#ed7953\"],[0.7777777777777778,\"#fb9f3a\"],[0.8888888888888888,\"#fdca26\"],[1.0,\"#f0f921\"]],\"type\":\"heatmap\"}],\"heatmapgl\":[{\"colorbar\":{\"outlinewidth\":0,\"ticks\":\"\"},\"colorscale\":[[0.0,\"#0d0887\"],[0.1111111111111111,\"#46039f\"],[0.2222222222222222,\"#7201a8\"],[0.3333333333333333,\"#9c179e\"],[0.4444444444444444,\"#bd3786\"],[0.5555555555555556,\"#d8576b\"],[0.6666666666666666,\"#ed7953\"],[0.7777777777777778,\"#fb9f3a\"],[0.8888888888888888,\"#fdca26\"],[1.0,\"#f0f921\"]],\"type\":\"heatmapgl\"}],\"histogram\":[{\"marker\":{\"pattern\":{\"fillmode\":\"overlay\",\"size\":10,\"solidity\":0.2}},\"type\":\"histogram\"}],\"histogram2d\":[{\"colorbar\":{\"outlinewidth\":0,\"ticks\":\"\"},\"colorscale\":[[0.0,\"#0d0887\"],[0.1111111111111111,\"#46039f\"],[0.2222222222222222,\"#7201a8\"],[0.3333333333333333,\"#9c179e\"],[0.4444444444444444,\"#bd3786\"],[0.5555555555555556,\"#d8576b\"],[0.6666666666666666,\"#ed7953\"],[0.7777777777777778,\"#fb9f3a\"],[0.8888888888888888,\"#fdca26\"],[1.0,\"#f0f921\"]],\"type\":\"histogram2d\"}],\"histogram2dcontour\":[{\"colorbar\":{\"outlinewidth\":0,\"ticks\":\"\"},\"colorscale\":[[0.0,\"#0d0887\"],[0.1111111111111111,\"#46039f\"],[0.2222222222222222,\"#7201a8\"],[0.3333333333333333,\"#9c179e\"],[0.4444444444444444,\"#bd3786\"],[0.5555555555555556,\"#d8576b\"],[0.6666666666666666,\"#ed7953\"],[0.7777777777777778,\"#fb9f3a\"],[0.8888888888888888,\"#fdca26\"],[1.0,\"#f0f921\"]],\"type\":\"histogram2dcontour\"}],\"mesh3d\":[{\"colorbar\":{\"outlinewidth\":0,\"ticks\":\"\"},\"type\":\"mesh3d\"}],\"parcoords\":[{\"line\":{\"colorbar\":{\"outlinewidth\":0,\"ticks\":\"\"}},\"type\":\"parcoords\"}],\"pie\":[{\"automargin\":true,\"type\":\"pie\"}],\"scatter\":[{\"marker\":{\"colorbar\":{\"outlinewidth\":0,\"ticks\":\"\"}},\"type\":\"scatter\"}],\"scatter3d\":[{\"line\":{\"colorbar\":{\"outlinewidth\":0,\"ticks\":\"\"}},\"marker\":{\"colorbar\":{\"outlinewidth\":0,\"ticks\":\"\"}},\"type\":\"scatter3d\"}],\"scattercarpet\":[{\"marker\":{\"colorbar\":{\"outlinewidth\":0,\"ticks\":\"\"}},\"type\":\"scattercarpet\"}],\"scattergeo\":[{\"marker\":{\"colorbar\":{\"outlinewidth\":0,\"ticks\":\"\"}},\"type\":\"scattergeo\"}],\"scattergl\":[{\"marker\":{\"colorbar\":{\"outlinewidth\":0,\"ticks\":\"\"}},\"type\":\"scattergl\"}],\"scattermapbox\":[{\"marker\":{\"colorbar\":{\"outlinewidth\":0,\"ticks\":\"\"}},\"type\":\"scattermapbox\"}],\"scatterpolar\":[{\"marker\":{\"colorbar\":{\"outlinewidth\":0,\"ticks\":\"\"}},\"type\":\"scatterpolar\"}],\"scatterpolargl\":[{\"marker\":{\"colorbar\":{\"outlinewidth\":0,\"ticks\":\"\"}},\"type\":\"scatterpolargl\"}],\"scatterternary\":[{\"marker\":{\"colorbar\":{\"outlinewidth\":0,\"ticks\":\"\"}},\"type\":\"scatterternary\"}],\"surface\":[{\"colorbar\":{\"outlinewidth\":0,\"ticks\":\"\"},\"colorscale\":[[0.0,\"#0d0887\"],[0.1111111111111111,\"#46039f\"],[0.2222222222222222,\"#7201a8\"],[0.3333333333333333,\"#9c179e\"],[0.4444444444444444,\"#bd3786\"],[0.5555555555555556,\"#d8576b\"],[0.6666666666666666,\"#ed7953\"],[0.7777777777777778,\"#fb9f3a\"],[0.8888888888888888,\"#fdca26\"],[1.0,\"#f0f921\"]],\"type\":\"surface\"}],\"table\":[{\"cells\":{\"fill\":{\"color\":\"#EBF0F8\"},\"line\":{\"color\":\"white\"}},\"header\":{\"fill\":{\"color\":\"#C8D4E3\"},\"line\":{\"color\":\"white\"}},\"type\":\"table\"}]},\"layout\":{\"annotationdefaults\":{\"arrowcolor\":\"#2a3f5f\",\"arrowhead\":0,\"arrowwidth\":1},\"autotypenumbers\":\"strict\",\"coloraxis\":{\"colorbar\":{\"outlinewidth\":0,\"ticks\":\"\"}},\"colorscale\":{\"diverging\":[[0,\"#8e0152\"],[0.1,\"#c51b7d\"],[0.2,\"#de77ae\"],[0.3,\"#f1b6da\"],[0.4,\"#fde0ef\"],[0.5,\"#f7f7f7\"],[0.6,\"#e6f5d0\"],[0.7,\"#b8e186\"],[0.8,\"#7fbc41\"],[0.9,\"#4d9221\"],[1,\"#276419\"]],\"sequential\":[[0.0,\"#0d0887\"],[0.1111111111111111,\"#46039f\"],[0.2222222222222222,\"#7201a8\"],[0.3333333333333333,\"#9c179e\"],[0.4444444444444444,\"#bd3786\"],[0.5555555555555556,\"#d8576b\"],[0.6666666666666666,\"#ed7953\"],[0.7777777777777778,\"#fb9f3a\"],[0.8888888888888888,\"#fdca26\"],[1.0,\"#f0f921\"]],\"sequentialminus\":[[0.0,\"#0d0887\"],[0.1111111111111111,\"#46039f\"],[0.2222222222222222,\"#7201a8\"],[0.3333333333333333,\"#9c179e\"],[0.4444444444444444,\"#bd3786\"],[0.5555555555555556,\"#d8576b\"],[0.6666666666666666,\"#ed7953\"],[0.7777777777777778,\"#fb9f3a\"],[0.8888888888888888,\"#fdca26\"],[1.0,\"#f0f921\"]]},\"colorway\":[\"#636efa\",\"#EF553B\",\"#00cc96\",\"#ab63fa\",\"#FFA15A\",\"#19d3f3\",\"#FF6692\",\"#B6E880\",\"#FF97FF\",\"#FECB52\"],\"font\":{\"color\":\"#2a3f5f\"},\"geo\":{\"bgcolor\":\"white\",\"lakecolor\":\"white\",\"landcolor\":\"#E5ECF6\",\"showlakes\":true,\"showland\":true,\"subunitcolor\":\"white\"},\"hoverlabel\":{\"align\":\"left\"},\"hovermode\":\"closest\",\"mapbox\":{\"style\":\"light\"},\"paper_bgcolor\":\"white\",\"plot_bgcolor\":\"#E5ECF6\",\"polar\":{\"angularaxis\":{\"gridcolor\":\"white\",\"linecolor\":\"white\",\"ticks\":\"\"},\"bgcolor\":\"#E5ECF6\",\"radialaxis\":{\"gridcolor\":\"white\",\"linecolor\":\"white\",\"ticks\":\"\"}},\"scene\":{\"xaxis\":{\"backgroundcolor\":\"#E5ECF6\",\"gridcolor\":\"white\",\"gridwidth\":2,\"linecolor\":\"white\",\"showbackground\":true,\"ticks\":\"\",\"zerolinecolor\":\"white\"},\"yaxis\":{\"backgroundcolor\":\"#E5ECF6\",\"gridcolor\":\"white\",\"gridwidth\":2,\"linecolor\":\"white\",\"showbackground\":true,\"ticks\":\"\",\"zerolinecolor\":\"white\"},\"zaxis\":{\"backgroundcolor\":\"#E5ECF6\",\"gridcolor\":\"white\",\"gridwidth\":2,\"linecolor\":\"white\",\"showbackground\":true,\"ticks\":\"\",\"zerolinecolor\":\"white\"}},\"shapedefaults\":{\"line\":{\"color\":\"#2a3f5f\"}},\"ternary\":{\"aaxis\":{\"gridcolor\":\"white\",\"linecolor\":\"white\",\"ticks\":\"\"},\"baxis\":{\"gridcolor\":\"white\",\"linecolor\":\"white\",\"ticks\":\"\"},\"bgcolor\":\"#E5ECF6\",\"caxis\":{\"gridcolor\":\"white\",\"linecolor\":\"white\",\"ticks\":\"\"}},\"title\":{\"x\":0.05},\"xaxis\":{\"automargin\":true,\"gridcolor\":\"white\",\"linecolor\":\"white\",\"ticks\":\"\",\"title\":{\"standoff\":15},\"zerolinecolor\":\"white\",\"zerolinewidth\":2},\"yaxis\":{\"automargin\":true,\"gridcolor\":\"white\",\"linecolor\":\"white\",\"ticks\":\"\",\"title\":{\"standoff\":15},\"zerolinecolor\":\"white\",\"zerolinewidth\":2}}},\"xaxis\":{\"anchor\":\"y\",\"domain\":[0.0,1.0],\"title\":{\"text\":\"datetime\"}},\"yaxis\":{\"anchor\":\"x\",\"domain\":[0.0,1.0],\"title\":{\"text\":\"elevation\"}},\"legend\":{\"tracegroupgap\":0},\"margin\":{\"t\":60}},                        {\"responsive\": true}                    ).then(function(){\n",
       "                            \n",
       "var gd = document.getElementById('ac8974b8-d5bb-487a-9401-baab3a3e3eed');\n",
       "var x = new MutationObserver(function (mutations, observer) {{\n",
       "        var display = window.getComputedStyle(gd).display;\n",
       "        if (!display || display === 'none') {{\n",
       "            console.log([gd, 'removed!']);\n",
       "            Plotly.purge(gd);\n",
       "            observer.disconnect();\n",
       "        }}\n",
       "}});\n",
       "\n",
       "// Listen for the removal of the full notebook cells\n",
       "var notebookContainer = gd.closest('#notebook-container');\n",
       "if (notebookContainer) {{\n",
       "    x.observe(notebookContainer, {childList: true});\n",
       "}}\n",
       "\n",
       "// Listen for the clearing of the current output cell\n",
       "var outputEl = gd.closest('.output');\n",
       "if (outputEl) {{\n",
       "    x.observe(outputEl, {childList: true});\n",
       "}}\n",
       "\n",
       "                        })                };                });            </script>        </div>"
      ]
     },
     "metadata": {},
     "output_type": "display_data"
    }
   ],
   "source": [
    "px.line(prop_data, y='elevation', x='datetime', hover_name=\"datetime\", \n",
    "        hover_data=['azimuth',\n",
    "                    'elevation',\n",
    "                    'latitude',\n",
    "                    'longitude'])"
   ]
  },
  {
   "cell_type": "code",
   "execution_count": 142,
   "metadata": {},
   "outputs": [
    {
     "data": {
      "application/vnd.plotly.v1+json": {
       "config": {
        "plotlyServerURL": "https://plot.ly"
       },
       "data": [
        {
         "customdata": [
          [
           -32.1423861816526,
           142.4337231135884
          ],
          [
           -11.802683953937128,
           188.31687613182626
          ],
          [
           -11.857135236922648,
           189.15543267817955
          ],
          [
           -11.918226255019094,
           189.99223297018574
          ],
          [
           -11.984976028200759,
           190.8284143521774
          ],
          [
           -12.057176535784155,
           191.6641922355011
          ],
          [
           -12.13474647296758,
           192.4996288583062
          ],
          [
           -12.217639201724408,
           193.33474275280736
          ],
          [
           -12.30581983833724,
           194.16953608941054
          ],
          [
           -12.399258239378023,
           195.00400436033993
          ],
          [
           -12.497926350913112,
           195.83813969017064
          ],
          [
           -12.601796937629974,
           196.67193216969625
          ],
          [
           -12.710843101156831,
           197.5053716399871
          ],
          [
           -12.825037653378486,
           198.3384477382401
          ],
          [
           -12.944353226306442,
           199.1711505659678
          ],
          [
           -13.068762271314954,
           200.00347073272988
          ],
          [
           -13.198236653185022,
           200.83539988867855
          ],
          [
           -13.332747466097254,
           201.66693070234277
          ],
          [
           -13.472265214510438,
           202.4980571546011
          ],
          [
           -13.616759494338206,
           203.3287745280387
          ],
          [
           -13.766198378226122,
           204.1590793481109
          ],
          [
           -13.920548497775155,
           204.98896960391215
          ],
          [
           -14.079775045518314,
           205.81844485854018
          ],
          [
           -14.243841444057518,
           206.64750577121595
          ],
          [
           -14.412709338373416,
           207.47615389964798
          ],
          [
           -14.5863387465749,
           208.30439203754986
          ],
          [
           -14.764688153355909,
           209.1322231563393
          ],
          [
           -14.947715507417549,
           209.95965059126624
          ],
          [
           -15.135379332968109,
           210.78667820593543
          ],
          [
           -15.327639237189542,
           211.61331069507148
          ],
          [
           -15.524455957502358,
           212.43955471977839
          ],
          [
           -15.725790086416172,
           213.26541927554365
          ]
         ],
         "geo": "geo",
         "hovertemplate": "visible=No<br>hour=23<br>latitude=%{lat}<br>longitude=%{lon}<br>elevation=%{customdata[0]}<br>azimuth=%{customdata[1]}<extra></extra>",
         "lat": [
          -0.2805343880709552,
          -33.65083344608601,
          -33.65205315159072,
          -33.65245575723015,
          -33.65265715630706,
          -33.65278148655101,
          -33.65286981368586,
          -33.6529388099597,
          -33.65299553527145,
          -33.6530429290912,
          -33.653082217751184,
          -33.653113973615675,
          -33.65313866273126,
          -33.65315667781821,
          -33.65316873652011,
          -33.65317609343744,
          -33.653180191893625,
          -33.65318256007503,
          -33.653184986277054,
          -33.65318922620536,
          -33.65319641930372,
          -33.653207136366035,
          -33.65322135719437,
          -33.65323823176629,
          -33.65325611762211,
          -33.65327266649158,
          -33.65328513963655,
          -33.65329136509113,
          -33.65329079603379,
          -33.65328493570036,
          -33.65327710670528,
          -33.653271087051074
         ],
         "legendgroup": "No",
         "lon": [
          56.52442628768894,
          11.26961142965471,
          10.281180484991122,
          9.29462661442599,
          8.308544535492167,
          7.322651417903923,
          6.336851618627396,
          5.351103539548462,
          4.365386417293033,
          3.3796885524708755,
          2.3940032558327426,
          1.4083272239586737,
          0.42265841420980477,
          -0.5630039652671118,
          -1.5486602703881158,
          -2.5343104824394502,
          -3.5199547495022396,
          -4.50559330632807,
          -5.491226824229558,
          -6.476856307015816,
          -7.462482851342507,
          -8.448107861156691,
          -9.43373311814987,
          -10.419360099378585,
          -11.404989687894654,
          -12.390622535641299,
          -13.376257832449697,
          -14.361893748158197,
          -15.347527921945268,
          -16.333157978484213,
          -17.318782860106015,
          -18.304402887814312
         ],
         "marker": {
          "color": "#636efa",
          "opacity": 0.3,
          "symbol": "circle"
         },
         "mode": "markers",
         "name": "No",
         "showlegend": true,
         "type": "scattergeo"
        }
       ],
       "frames": [
        {
         "data": [
          {
           "customdata": [
            [
             -32.1423861816526,
             142.4337231135884
            ],
            [
             -11.802683953937128,
             188.31687613182626
            ],
            [
             -11.857135236922648,
             189.15543267817955
            ],
            [
             -11.918226255019094,
             189.99223297018574
            ],
            [
             -11.984976028200759,
             190.8284143521774
            ],
            [
             -12.057176535784155,
             191.6641922355011
            ],
            [
             -12.13474647296758,
             192.4996288583062
            ],
            [
             -12.217639201724408,
             193.33474275280736
            ],
            [
             -12.30581983833724,
             194.16953608941054
            ],
            [
             -12.399258239378023,
             195.00400436033993
            ],
            [
             -12.497926350913112,
             195.83813969017064
            ],
            [
             -12.601796937629974,
             196.67193216969625
            ],
            [
             -12.710843101156831,
             197.5053716399871
            ],
            [
             -12.825037653378486,
             198.3384477382401
            ],
            [
             -12.944353226306442,
             199.1711505659678
            ],
            [
             -13.068762271314954,
             200.00347073272988
            ],
            [
             -13.198236653185022,
             200.83539988867855
            ],
            [
             -13.332747466097254,
             201.66693070234277
            ],
            [
             -13.472265214510438,
             202.4980571546011
            ],
            [
             -13.616759494338206,
             203.3287745280387
            ],
            [
             -13.766198378226122,
             204.1590793481109
            ],
            [
             -13.920548497775155,
             204.98896960391215
            ],
            [
             -14.079775045518314,
             205.81844485854018
            ],
            [
             -14.243841444057518,
             206.64750577121595
            ],
            [
             -14.412709338373416,
             207.47615389964798
            ],
            [
             -14.5863387465749,
             208.30439203754986
            ],
            [
             -14.764688153355909,
             209.1322231563393
            ],
            [
             -14.947715507417549,
             209.95965059126624
            ],
            [
             -15.135379332968109,
             210.78667820593543
            ],
            [
             -15.327639237189542,
             211.61331069507148
            ],
            [
             -15.524455957502358,
             212.43955471977839
            ],
            [
             -15.725790086416172,
             213.26541927554365
            ]
           ],
           "geo": "geo",
           "hovertemplate": "visible=No<br>hour=23<br>latitude=%{lat}<br>longitude=%{lon}<br>elevation=%{customdata[0]}<br>azimuth=%{customdata[1]}<extra></extra>",
           "lat": [
            -0.2805343880709552,
            -33.65083344608601,
            -33.65205315159072,
            -33.65245575723015,
            -33.65265715630706,
            -33.65278148655101,
            -33.65286981368586,
            -33.6529388099597,
            -33.65299553527145,
            -33.6530429290912,
            -33.653082217751184,
            -33.653113973615675,
            -33.65313866273126,
            -33.65315667781821,
            -33.65316873652011,
            -33.65317609343744,
            -33.653180191893625,
            -33.65318256007503,
            -33.653184986277054,
            -33.65318922620536,
            -33.65319641930372,
            -33.653207136366035,
            -33.65322135719437,
            -33.65323823176629,
            -33.65325611762211,
            -33.65327266649158,
            -33.65328513963655,
            -33.65329136509113,
            -33.65329079603379,
            -33.65328493570036,
            -33.65327710670528,
            -33.653271087051074
           ],
           "legendgroup": "No",
           "lon": [
            56.52442628768894,
            11.26961142965471,
            10.281180484991122,
            9.29462661442599,
            8.308544535492167,
            7.322651417903923,
            6.336851618627396,
            5.351103539548462,
            4.365386417293033,
            3.3796885524708755,
            2.3940032558327426,
            1.4083272239586737,
            0.42265841420980477,
            -0.5630039652671118,
            -1.5486602703881158,
            -2.5343104824394502,
            -3.5199547495022396,
            -4.50559330632807,
            -5.491226824229558,
            -6.476856307015816,
            -7.462482851342507,
            -8.448107861156691,
            -9.43373311814987,
            -10.419360099378585,
            -11.404989687894654,
            -12.390622535641299,
            -13.376257832449697,
            -14.361893748158197,
            -15.347527921945268,
            -16.333157978484213,
            -17.318782860106015,
            -18.304402887814312
           ],
           "marker": {
            "color": "#636efa",
            "opacity": 0.3,
            "symbol": "circle"
           },
           "mode": "markers",
           "name": "No",
           "showlegend": true,
           "type": "scattergeo"
          }
         ],
         "name": "23"
        },
        {
         "data": [
          {
           "customdata": [
            [
             -13.183707255158744,
             200.1162170176122
            ],
            [
             -13.235811813343469,
             201.04818624796354
            ],
            [
             -13.370039139288785,
             201.8816409826055
            ],
            [
             -13.510318435032417,
             202.7133484537374
            ],
            [
             -13.65583690510285,
             203.54430002782834
            ],
            [
             -13.806401277859615,
             204.37469895153532
            ],
            [
             -13.961923187999854,
             205.2046136211472
            ],
            [
             -14.122343289757374,
             206.03407382807666
            ],
            [
             -14.287612115663096,
             206.86309512906
            ],
            [
             -14.457684252556168,
             207.69168758740412
            ],
            [
             -14.63251614947338,
             208.51985867886728
            ],
            [
             -14.812065033036482,
             209.347614483713
            ],
            [
             -14.996288580867358,
             210.17496136375703
            ],
            [
             -15.185144336319816,
             211.00190592037296
            ],
            [
             -15.378589841771044,
             211.8284556576901
            ],
            [
             -15.576582683453058,
             212.65461900499486
            ],
            [
             -15.779080110961909,
             213.48040582360292
            ],
            [
             -15.986038828304757,
             214.30582738478776
            ],
            [
             -16.197415242749592,
             215.13089667779906
            ],
            [
             -16.413165115206013,
             215.95562838618983
            ],
            [
             -16.633242956566384,
             216.7800388175309
            ],
            [
             -16.857602128761087,
             217.60414615118555
            ],
            [
             -17.08619481270226,
             218.42797054669126
            ],
            [
             -17.318971655735034,
             219.2515336499421
            ],
            [
             -17.555881770367815,
             220.07485841805584
            ],
            [
             -17.796872903343573,
             220.8979693975895
            ],
            [
             -18.041891439382848,
             221.72089160445034
            ],
            [
             -18.290883407222395,
             222.54365066448915
            ],
            [
             -18.543795603169514,
             223.3662728752215
            ],
            [
             -18.800576136898876,
             224.18878547385742
            ],
            [
             -19.061174510204587,
             225.01121781916038
            ]
           ],
           "geo": "geo",
           "hovertemplate": "visible=No<br>hour=0<br>latitude=%{lat}<br>longitude=%{lon}<br>elevation=%{customdata[0]}<br>azimuth=%{customdata[1]}<extra></extra>",
           "lat": [
            -33.59427484334466,
            -33.65095466688248,
            -33.65210125527173,
            -33.65249011726562,
            -33.65268682562548,
            -33.65280912127964,
            -33.65289643513161,
            -33.65296484828388,
            -33.65302118701738,
            -33.65306826280078,
            -33.65310724482179,
            -33.65313869630352,
            -33.65316307894255,
            -33.653180816320194,
            -33.653192635650214,
            -33.65319981207714,
            -33.65320380460874,
            -33.6532061291347,
            -33.653208565530804,
            -33.65321284394763,
            -33.65322009166298,
            -33.65323087378987,
            -33.65324513178769,
            -33.65326197448455,
            -33.653279731819225,
            -33.653296047055136,
            -33.65330820229489,
            -33.653314060022005,
            -33.65331312557034,
            -33.6533069867834,
            -33.653299022552794
           ],
           "legendgroup": "No",
           "lon": [
            -2.6564701013421237,
            -3.7716817577336474,
            -4.759945376575237,
            -5.746467639514369,
            -6.732538671545628,
            -7.718426796452331,
            -8.704224042702721,
            -9.689970755243046,
            -10.675687139934434,
            -11.661384611308364,
            -12.647069688599162,
            -13.632745599316502,
            -14.618414361396544,
            -15.604076717358712,
            -16.58973299494739,
            -17.57538319147059,
            -18.56102745941308,
            -19.54666602179532,
            -20.532299585248406,
            -21.51792919456122,
            -22.503555937619748,
            -23.489181212871898,
            -24.47480679724811,
            -25.460434138816215,
            -26.446064118252192,
            -27.431697370574106,
            -28.41733302576899,
            -29.402969210145177,
            -30.38860353969386,
            -31.374233654617157,
            -32.35985856935739
           ],
           "marker": {
            "color": "#636efa",
            "opacity": 0.3,
            "symbol": "circle"
           },
           "mode": "markers",
           "name": "No",
           "showlegend": true,
           "type": "scattergeo"
          }
         ],
         "name": "0"
        },
        {
         "data": [
          {
           "customdata": [
            [
             -15.664299499972609,
             212.8212105609823
            ],
            [
             -15.835077282677485,
             213.69199167718014
            ],
            [
             -16.041888345704383,
             214.51911197794468
            ],
            [
             -16.25395660860382,
             215.34471452724512
            ],
            [
             -16.47061191925866,
             216.16967323547857
            ],
            [
             -16.69167576290965,
             216.99418852930734
            ],
            [
             -16.91705549992671,
             217.8183423069065
            ],
            [
             -17.146682515607015,
             218.6421823800388
            ],
            [
             -17.380496442773715,
             219.46574413964913
            ],
            [
             -17.61844037799634,
             220.28905841782878
            ],
            [
             -17.86045908952618,
             221.1121540287751
            ],
            [
             -18.10649810915142,
             221.9350588485725
            ],
            [
             -18.356503524664678,
             222.75780135852597
            ],
            [
             -18.61042145084267,
             223.58041055189858
            ],
            [
             -18.86819815772004,
             224.40291658191688
            ],
            [
             -19.129780144001366,
             225.22535078781934
            ],
            [
             -19.395113783940044,
             226.047746161135
            ],
            [
             -19.664145097233607,
             226.870137345112
            ],
            [
             -19.93682002645123,
             227.69256096089973
            ],
            [
             -20.21308405876901,
             228.5150555742636
            ],
            [
             -20.49288165654759,
             229.33766161467287
            ],
            [
             -20.7761563452469,
             230.1604216617823
            ],
            [
             -21.062850632534985,
             230.98338055460152
            ],
            [
             -21.352905645317435,
             231.80658489122817
            ],
            [
             -21.64626112634197,
             232.6300828888612
            ],
            [
             -21.94285559885169,
             233.45392458258277
            ],
            [
             -22.242626308938526,
             234.2781606760965
            ],
            [
             -22.54551022107791,
             235.10284263132374
            ],
            [
             -22.85144513944892,
             235.92802265119175
            ],
            [
             -23.16037029333748,
             236.7537539456391
            ],
            [
             -23.472226404387122,
             237.58009197093557
            ]
           ],
           "geo": "geo",
           "hovertemplate": "visible=No<br>hour=1<br>latitude=%{lat}<br>longitude=%{lon}<br>elevation=%{customdata[0]}<br>azimuth=%{customdata[1]}<extra></extra>",
           "lat": [
            -33.62386612687472,
            -33.65106722262676,
            -33.65214715152655,
            -33.6525228781891,
            -33.65271497941552,
            -33.65283521570712,
            -33.652921454307275,
            -33.652989197872,
            -33.653045053942705,
            -33.65309171938454,
            -33.653130309440535,
            -33.653161373638774,
            -33.65318536068436,
            -33.65320273049593,
            -33.65321422639394,
            -33.653221134301376,
            -33.65322492737155,
            -33.6532271208395,
            -33.653229478370235,
            -33.65323369017377,
            -33.65324088134652,
            -33.653251618130014,
            -33.65326580409789,
            -33.653282511321876,
            -33.65330003840364,
            -33.65331601256122,
            -33.653327737796594,
            -33.653333115963775,
            -33.65333170957872,
            -33.653325199367785,
            -33.65331701229096
           ],
           "legendgroup": "No",
           "lon": [
            -17.765074945267802,
            -18.812961671175586,
            -19.801072945649178,
            -20.787565194727765,
            -21.77362557523283,
            -22.75950885075346,
            -23.745303609420855,
            -24.731048984623612,
            -25.716764650652323,
            -26.70246173775998,
            -27.688146591830588,
            -28.673822380651057,
            -29.659491084557626,
            -30.645153407722102,
            -31.630809646617344,
            -32.6164598193119,
            -33.60210407817025,
            -34.58774263760849,
            -35.57337623773969,
            -36.559005956156206,
            -37.544632875746885,
            -38.53025839609722,
            -39.515884282962276,
            -40.50151195459763,
            -41.487142299727736,
            -42.47277592462541,
            -43.45841190904682,
            -44.44404833447598,
            -45.42968278549223,
            -46.415312927162006,
            -47.40093784342218
           ],
           "marker": {
            "color": "#636efa",
            "opacity": 0.3,
            "symbol": "circle"
           },
           "mode": "markers",
           "name": "No",
           "showlegend": true,
           "type": "scattergeo"
          }
         ],
         "name": "1"
        },
        {
         "data": [
          {
           "customdata": [
            [
             -19.218661772757358,
             225.40919495139033
            ],
            [
             -19.466900970849526,
             226.2588404189864
            ],
            [
             -19.735835011600948,
             227.08282967762818
            ],
            [
             -20.009076635908297,
             227.9058353473093
            ],
            [
             -20.286077603593235,
             228.72864227835595
            ],
            [
             -20.56667438732221,
             229.55145579599628
            ],
            [
             -20.850772603708638,
             230.3743764486953
            ],
            [
             -21.138297367868642,
             231.1974744939038
            ],
            [
             -21.429180510901922,
             232.02080925553196
            ],
            [
             -21.72335671070847,
             232.8444362401203
            ],
            [
             -22.020762048481256,
             233.66840937073945
            ],
            [
             -22.321333265860627,
             234.4927819825479
            ],
            [
             -22.62500765247883,
             235.31760824838696
            ],
            [
             -22.931722575884997,
             236.1429430456219
            ],
            [
             -23.241415588283797,
             236.96884260703075
            ],
            [
             -23.55402451536728,
             237.79536456492755
            ],
            [
             -23.869487128325986,
             238.62256837887304
            ],
            [
             -24.18774089563422,
             239.45051536715917
            ],
            [
             -24.508723258465565,
             240.2792690713606
            ],
            [
             -24.83237122980745,
             241.10889521090624
            ],
            [
             -25.158620870894733,
             241.93946158943677
            ],
            [
             -25.48740734381168,
             242.77103843686908
            ],
            [
             -25.818664773199707,
             243.60369852473548
            ],
            [
             -26.15232587927068,
             244.43751665840352
            ],
            [
             -26.488321968126076,
             245.27256957840552
            ],
            [
             -26.82658307871554,
             246.10893608037708
            ],
            [
             -27.167037888065206,
             246.94669582880354
            ],
            [
             -27.50961468896368,
             247.78592940950386
            ],
            [
             -27.854242501760357,
             248.62671825454578
            ],
            [
             -28.200851690876576,
             249.4691449320167
            ],
            [
             -28.549373987869355,
             250.3132944686886
            ]
           ],
           "geo": "geo",
           "hovertemplate": "visible=No<br>hour=2<br>latitude=%{lat}<br>longitude=%{lon}<br>elevation=%{customdata[0]}<br>azimuth=%{customdata[1]}<extra></extra>",
           "lat": [
            -33.633719649047485,
            -33.65117042462113,
            -33.652189377527925,
            -33.65255253731947,
            -33.65274011313882,
            -33.652858267295024,
            -33.6529433697293,
            -33.6530103615865,
            -33.653065643593585,
            -33.65311181111996,
            -33.653149929209704,
            -33.65318052746334,
            -33.6532040377348,
            -33.65322095809505,
            -33.65323205220906,
            -33.653238610197356,
            -33.65324211848659,
            -33.65324410023026,
            -33.65324629562272,
            -33.65325034704242,
            -33.65325738423817,
            -33.65326797859849,
            -33.65328199827335,
            -33.65329848125323,
            -33.653315690453574,
            -33.653331230764586,
            -33.65334242751608,
            -33.65334722720092,
            -33.65334525840724,
            -33.653338299595596,
            -33.6533298173502
           ],
           "legendgroup": "No",
           "lon": [
            -32.82864250533924,
            -33.85422990024484,
            -34.84220201277316,
            -35.82866571807888,
            -36.814715807038226,
            -37.80059435584784,
            -38.786386675037235,
            -39.77213072692053,
            -40.757845673780125,
            -41.743542367653404,
            -42.729226983375256,
            -43.714902632627116,
            -44.70057125417105,
            -45.686233519015865,
            -46.67188969450823,
            -47.65753981897277,
            -48.643184043564624,
            -49.628822575653935,
            -50.61445618687798,
            -51.60008597991167,
            -52.58571303583263,
            -53.571338760809674,
            -54.55696490751643,
            -55.542592864936566,
            -56.528223531361945,
            -57.51385748231601,
            -58.49949374968972,
            -59.485130369193996,
            -60.470764891040886,
            -61.45639501021409,
            -62.44201988105118
           ],
           "marker": {
            "color": "#636efa",
            "opacity": 0.3,
            "symbol": "circle"
           },
           "mode": "markers",
           "name": "No",
           "showlegend": true,
           "type": "scattergeo"
          }
         ],
         "name": "2"
        },
        {
         "data": [
          {
           "customdata": [
            [
             -23.648474619939478,
             237.98905900473025
            ],
            [
             -23.95377021913699,
             238.83528947872622
            ],
            [
             -24.271911524148006,
             239.6648809517891
            ],
            [
             -24.59329302429291,
             240.49438060102494
            ],
            [
             -24.917471194248726,
             241.3245133813843
            ],
            [
             -25.244296528421728,
             242.1554971227395
            ],
            [
             -25.573673640739113,
             242.98745562630697
            ],
            [
             -25.905522377253135,
             243.82048539410317
            ],
            [
             -26.23976773749735,
             244.65467319209455
            ],
            [
             -26.576336823097346,
             245.49010259730298
            ],
            [
             -26.915157705351454,
             246.32685599881003
            ],
            [
             -27.25615884165085,
             247.1650155430036
            ],
            [
             -27.599269039796305,
             248.0046644608176
            ],
            [
             -27.94441705036075,
             248.8458869035784
            ],
            [
             -28.291531639036506,
             249.68876861231797
            ],
            [
             -28.64054168083252,
             250.53339699163917
            ],
            [
             -28.99137585624887,
             251.3798614949092
            ],
            [
             -29.343962387587567,
             252.22825369167808
            ],
            [
             -29.698229283878188,
             253.07866768760144
            ],
            [
             -30.054103927705654,
             253.93120005181737
            ],
            [
             -30.411512605704214,
             254.78594970052566
            ],
            [
             -30.770380505223244,
             255.64301830239685
            ],
            [
             -31.13063151463422,
             256.50251039075135
            ],
            [
             -31.492187859186355,
             257.3645328330285
            ],
            [
             -31.85497008156971,
             258.2291947669368
            ],
            [
             -32.21889716377207,
             259.0966076255422
            ],
            [
             -32.58388642418482,
             259.9668838840769
            ],
            [
             -32.949854474781255,
             260.84013707641725
            ],
            [
             -33.31671832117485,
             261.71648167195224
            ],
            [
             -33.684395999348105,
             262.5960334074138
            ],
            [
             -34.05280652147125,
             263.47891070303825
            ]
           ],
           "geo": "geo",
           "hovertemplate": "visible=No<br>hour=3<br>latitude=%{lat}<br>longitude=%{lon}<br>elevation=%{customdata[0]}<br>azimuth=%{customdata[1]}<extra></extra>",
           "lat": [
            -33.63864817827096,
            -33.651263645218144,
            -33.652226653113196,
            -33.652577784031344,
            -33.652760920183674,
            -33.65287697729426,
            -33.65296089069517,
            -33.653027058707785,
            -33.65308168599306,
            -33.653127279017525,
            -33.65316485607825,
            -33.653194920471336,
            -33.65321788547588,
            -33.653234287611156,
            -33.653244913840304,
            -33.65325105274699,
            -33.653254204029714,
            -33.65325590627684,
            -33.6532578694812,
            -33.65326168404847,
            -33.65326848985008,
            -33.65327886500199,
            -33.65329264508325,
            -33.65330883595978,
            -33.65332566000595,
            -33.65334069392578,
            -33.653351283481484,
            -33.65335542585906,
            -33.653352826023934,
            -33.65334536315267,
            -33.65333653466183
           ],
           "legendgroup": "No",
           "lon": [
            -47.88096389533964,
            -48.895487508781294,
            -49.883332105787346,
            -50.869768624954496,
            -51.85580875074622,
            -52.84168267696159,
            -53.82747258851021,
            -54.8132153148365,
            -55.798929525688834,
            -56.78462580236656,
            -57.7703101513122,
            -58.75598563010833,
            -59.7416541317363,
            -60.72731629925231,
            -61.7129723736265,
            -62.698622411822114,
            -63.68426656265948,
            -64.66990502946064,
            -65.65553861198299,
            -66.6411684295285,
            -67.62679556598056,
            -68.61242143983179,
            -69.59804778925354,
            -70.58367597499533,
            -71.56930690541564,
            -72.55494112225605,
            -73.54057761139809,
            -74.52621436238836,
            -75.511848889922,
            -76.49747892478733,
            -77.48310369129909
           ],
           "marker": {
            "color": "#636efa",
            "opacity": 0.3,
            "symbol": "circle"
           },
           "mode": "markers",
           "name": "No",
           "showlegend": true,
           "type": "scattergeo"
          }
         ],
         "name": "3"
        },
        {
         "data": [
          {
           "customdata": [
            [
             -28.739768970390177,
             250.73669522979765
            ],
            [
             -29.084318283145908,
             251.5979454090857
            ],
            [
             -29.436720437625503,
             252.44819588199297
            ],
            [
             -29.791179606144073,
             253.29965207350756
            ],
            [
             -30.14734093034474,
             254.15301012700576
            ],
            [
             -30.505065483971862,
             255.0085093475326
            ],
            [
             -30.864254679435604,
             255.86630230731208
            ],
            [
             -31.224820999618235,
             256.72651630818996
            ],
            [
             -31.586680395663713,
             257.5892697622879
            ],
            [
             -31.949749980755318,
             258.4546783750419
            ],
            [
             -32.31394718348362,
             259.3228569904852
            ],
            [
             -32.679189320967716,
             260.19392051508004
            ],
            [
             -33.045393627149295,
             261.06798515632016
            ],
            [
             -33.41247691155055,
             261.945168221832
            ],
            [
             -33.78035558721518,
             262.82558880511016
            ],
            [
             -34.14894576292345,
             263.7093678833683
            ],
            [
             -34.51816296436591,
             264.5966286349891
            ],
            [
             -34.887921856561135,
             265.4874965242311
            ],
            [
             -35.25813643247637,
             266.3820997707544
            ],
            [
             -35.628719602647394,
             267.2805692038753
            ],
            [
             -35.99958278567049,
             268.18303808759083
            ],
            [
             -36.370635831123565,
             269.0896425642457
            ],
            [
             -36.7417867604715,
             270.0005217148702
            ],
            [
             -37.11294141523408,
             270.9158169528014
            ],
            [
             -37.4840034273175,
             271.8356719501913
            ],
            [
             -37.8548743183362,
             272.7602325071011
            ],
            [
             -38.22545342621227,
             273.6896451536326
            ],
            [
             -38.59563884758995,
             274.6240570923714
            ],
            [
             -38.965328532322786,
             275.56361600041765
            ],
            [
             -39.334420930243255,
             276.50847038692496
            ],
            [
             -39.702814830710025,
             277.45877105955634
            ]
           ],
           "geo": "geo",
           "hovertemplate": "visible=No<br>hour=4<br>latitude=%{lat}<br>longitude=%{lon}<br>elevation=%{customdata[0]}<br>azimuth=%{customdata[1]}<extra></extra>",
           "lat": [
            -33.64160527319287,
            -33.651346430608385,
            -33.65225797222357,
            -33.652597590424655,
            -33.65277638206162,
            -33.65289034003281,
            -33.652973024956474,
            -33.65303831265136,
            -33.65309222112211,
            -33.65313717937386,
            -33.65317416200673,
            -33.653203640174894,
            -33.65322600886633,
            -33.65324184189528,
            -33.6532519510322,
            -33.653257618825606,
            -33.65326035910333,
            -33.65326173180791,
            -33.65326341121548,
            -33.653266935402904,
            -33.65327345783294,
            -33.65328356253868,
            -33.653297055580275,
            -33.653312911795396,
            -33.653329308052456,
            -33.65334378783409,
            -33.653353716359895,
            -33.65335714814369,
            -33.6533538754042,
            -33.65334587887186,
            -33.65333667830106
           ],
           "legendgroup": "No",
           "lon": [
            -62.928789635109496,
            -63.9367351208791,
            -64.924462532988,
            -65.91087312188111,
            -66.8969035848371,
            -67.88277297643639,
            -68.8685604979384,
            -69.85430188252859,
            -70.84001532666667,
            -71.82571114966886,
            -72.81139519249123,
            -73.7970704590081,
            -74.78273879244553,
            -75.76840081287507,
            -76.75405673793523,
            -77.73970664071112,
            -78.72535066677446,
            -79.71098901951048,
            -80.69662252203968,
            -81.68225230189694,
            -82.66787945149416,
            -83.65350540723794,
            -84.6391318919477,
            -85.62476023945788,
            -86.61039136759398,
            -87.59602578039318,
            -88.58166241907087,
            -89.56729922732316,
            -90.55293368521849,
            -91.53856356560762,
            -92.52418816101303
           ],
           "marker": {
            "color": "#636efa",
            "opacity": 0.3,
            "symbol": "circle"
           },
           "mode": "markers",
           "name": "No",
           "showlegend": true,
           "type": "scattergeo"
          }
         ],
         "name": "4"
        },
        {
         "data": [
          {
           "customdata": [
            [
             -34.250067219141904,
             263.9256747770189
            ],
            [
             -34.61533944642632,
             264.8256428398076
            ],
            [
             -34.98477642150478,
             265.7187733088896
            ],
            [
             -35.35492530644581,
             266.6148667750094
            ],
            [
             -35.72550197311559,
             267.51462310365395
            ],
            [
             -36.0963710253475,
             268.41831243739165
            ],
            [
             -36.46742472893444,
             269.3261212223073
            ],
            [
             -36.83856232560328,
             270.23821118551336
            ],
            [
             -37.20968469418223,
             271.15473523199097
            ],
            [
             -37.58069272579094,
             272.0758434752286
            ],
            [
             -37.951486745792025,
             273.0016849824134
            ],
            [
             -38.321966244193796,
             273.93240867618664
            ],
            [
             -38.69202996304173,
             274.8681644562528
            ],
            [
             -39.061575630066045,
             275.8091029121071
            ],
            [
             -39.430499939044786,
             276.7553759713978
            ],
            [
             -39.798698640418245,
             277.70713696463895
            ],
            [
             -40.166066297102326,
             278.66454079231806
            ],
            [
             -40.53249600013612,
             279.6277439471988
            ],
            [
             -40.89787948570649,
             280.5969049609445
            ],
            [
             -41.26210675671162,
             281.57218406702106
            ],
            [
             -41.625065747351066,
             282.5537428632798
            ],
            [
             -41.98664216866572,
             283.5417446844938
            ],
            [
             -42.34671921092126,
             284.53635447149054
            ],
            [
             -42.70517723047463,
             285.53773794814305
            ],
            [
             -43.06189372731932,
             286.54606140402683
            ],
            [
             -43.41674345237915,
             287.5614912482544
            ],
            [
             -43.76959842874455,
             288.584192295331
            ],
            [
             -44.1203289116623,
             289.61432751056736
            ],
            [
             -44.468804509936774,
             290.6520576315823
            ],
            [
             -44.81489485168927,
             291.69754145457745
            ],
            [
             -45.15846931487995,
             292.75093719321706
            ]
           ],
           "geo": "geo",
           "hovertemplate": "visible=No<br>hour=5<br>latitude=%{lat}<br>longitude=%{lon}<br>elevation=%{customdata[0]}<br>azimuth=%{customdata[1]}<extra></extra>",
           "lat": [
            -33.643573949632945,
            -33.65141859089966,
            -33.6522826756736,
            -33.652611282541315,
            -33.652785838432315,
            -33.65289771192541,
            -33.65297914680954,
            -33.65304351798603,
            -33.6530966647673,
            -33.653140948453505,
            -33.65317730255234,
            -33.65320616144851,
            -33.653227903796335,
            -33.65324313826626,
            -33.653252701512585,
            -33.653257867054585,
            -33.65326016441601,
            -33.65326117887478,
            -33.653262545328786,
            -33.65326575262082,
            -33.65327196880325,
            -33.65328178086168,
            -33.65329496835105,
            -33.65331047528017,
            -33.65332642837512,
            -33.653340333996425,
            -33.65334957598668,
            -33.65335227312948,
            -33.653348315438485,
            -33.65333978384553,
            -33.653330212877044
           ],
           "legendgroup": "No",
           "lon": [
            -77.97436825344542,
            -78.97797301314833,
            -79.9655924392463,
            -80.95197826263994,
            -81.93799933928975,
            -82.92386427126849,
            -83.90964940897224,
            -84.89538942490775,
            -85.8811020611456,
            -86.86679738477768,
            -87.85248107431339,
            -88.83815607883587,
            -89.82382418845128,
            -90.80948600476952,
            -91.79514172507497,
            -92.78079143545462,
            -93.76643527777092,
            -94.75207346026247,
            -95.73770682355072,
            -96.72333649582022,
            -97.70896358440989,
            -98.69458954865233,
            -99.6802160957867,
            -100.66584453413523,
            -101.65147578925946,
            -102.6371103228723,
            -103.6227470324141,
            -104.60838381687373,
            -105.59401812463663,
            -106.57964777679787,
            -107.5652721310787
           ],
           "marker": {
            "color": "#636efa",
            "opacity": 0.3,
            "symbol": "circle"
           },
           "mode": "markers",
           "name": "No",
           "showlegend": true,
           "type": "scattergeo"
          }
         ],
         "name": "5"
        },
        {
         "data": [
          {
           "customdata": [
            [
             -39.897412015357936,
             277.9426163616994
            ],
            [
             -40.262204053526716,
             278.91205959020107
            ],
            [
             -40.628078087252,
             279.8781347311093
            ],
            [
             -40.993057542774096,
             280.8493929534004
            ],
            [
             -41.35690631790615,
             281.8265647629583
            ],
            [
             -41.71948143726083,
             282.80995223536274
            ],
            [
             -42.080656430798115,
             283.79977070978936
            ],
            [
             -42.44030800806943,
             284.79620842367905
            ],
            [
             -42.79831271708085,
             285.79944270018666
            ],
            [
             -43.154545932486464,
             286.80964600635855
            ],
            [
             -43.508881541794466,
             287.82698758712985
            ],
            [
             -43.861191848422926,
             288.85163426893786
            ],
            [
             -44.21134773739468,
             289.88375134856057
            ],
            [
             -44.55921851658984,
             290.92350207693954
            ],
            [
             -44.90467187444681,
             291.97104810986065
            ],
            [
             -45.24757399974663,
             293.02654938074426
            ],
            [
             -45.58778941661304,
             294.0901639295418
            ],
            [
             -45.92518073296628,
             295.162047673164
            ],
            [
             -46.25960871035341,
             296.2423546383641
            ],
            [
             -46.590931992136795,
             297.33123620667783
            ],
            [
             -46.919006897233125,
             298.4288404109449
            ],
            [
             -47.24368723474672,
             299.5353120056258
            ],
            [
             -47.56482404570125,
             300.6507918916061
            ],
            [
             -47.882265411099034,
             301.7754158403437
            ],
            [
             -48.1958565119632,
             302.9093139107121
            ],
            [
             -48.50543984611938,
             304.05260945077697
            ],
            [
             -48.8108554790202,
             305.20541685366857
            ],
            [
             -49.11194212011829,
             306.3678409635932
            ],
            [
             -49.408538367240205,
             307.53997642079844
            ],
            [
             -49.70048345641614,
             308.72190779641267
            ],
            [
             -49.98761695040805,
             309.91371066940184
            ]
           ],
           "geo": "geo",
           "hovertemplate": "visible=No<br>hour=6<br>latitude=%{lat}<br>longitude=%{lon}<br>elevation=%{customdata[0]}<br>azimuth=%{customdata[1]}<extra></extra>",
           "lat": [
            -33.6449751954078,
            -33.65148026327201,
            -33.6523004998732,
            -33.652618587311224,
            -33.65278903261223,
            -33.652898855713595,
            -33.65297904010281,
            -33.65304248205211,
            -33.65309484864997,
            -33.65313844117183,
            -33.653174154215755,
            -33.65320238256658,
            -33.65322349169165,
            -33.65323812163118,
            -33.65324713274582,
            -33.653251788163786,
            -33.653253635110225,
            -33.65325428611876,
            -33.65325533542078,
            -33.65325822851722,
            -33.65326414632629,
            -33.65327367405792,
            -33.65328656747513,
            -33.6533017391296,
            -33.65331726173875,
            -33.653330601984635,
            -33.65333916181654,
            -33.653341131206936,
            -33.65333650729292,
            -33.65332746783965,
            -33.653317556063314
           ],
           "legendgroup": "No",
           "lon": [
            -93.01866253710098,
            -94.01920121051104,
            -95.00672087262872,
            -95.9930830147556,
            -96.97909496252487,
            -97.9649555006006,
            -98.95073825297952,
            -99.93647686651093,
            -100.92218864724873,
            -101.90788342050223,
            -102.89356670538326,
            -103.87924139391062,
            -104.86490922058958,
            -105.85057077245365,
            -106.83622622906418,
            -107.82187568607769,
            -108.80751928182102,
            -109.79315723442848,
            -110.77879039542488,
            -111.76441988747804,
            -112.75004683942457,
            -113.73567273761954,
            -114.72129927410457,
            -115.70692773297769,
            -116.69255904473557,
            -117.67819362370605,
            -118.66383032405086,
            -119.64946700211087,
            -120.63510107944919,
            -121.62073043104809,
            -122.60635447582156
           ],
           "marker": {
            "color": "#636efa",
            "opacity": 0.3,
            "symbol": "circle"
           },
           "mode": "markers",
           "name": "No",
           "showlegend": true,
           "type": "scattergeo"
          }
         ],
         "name": "6"
        },
        {
         "data": [
          {
           "customdata": [
            [
             -45.33806554610901,
             293.28945211413554
            ],
            [
             -45.6763051467985,
             294.3654365507812
            ],
            [
             -46.012761812298066,
             295.44095439250333
            ],
            [
             -46.34632519605151,
             296.5240569283497
            ],
            [
             -46.67678003795631,
             297.6155019588516
            ],
            [
             -47.00396387006713,
             298.7155895493814
            ],
            [
             -47.32772252874646,
             299.8245203901606
            ],
            [
             -47.64790245556823,
             300.94245967651045
            ],
            [
             -47.96434896884038,
             302.0695544700924
            ],
            [
             -48.27690579374685,
             303.2059399514723
            ],
            [
             -48.58541504637151,
             304.35174089596626
            ],
            [
             -48.88971737221159,
             305.50707227465364
            ],
            [
             -49.18965227104825,
             306.6720397702686
            ],
            [
             -49.48505814319172,
             307.8467388824458
            ],
            [
             -49.77577231982526,
             309.0312550117251
            ],
            [
             -50.061631313796426,
             310.22566301045043
            ],
            [
             -50.34247085462667,
             311.430026544813
            ],
            [
             -50.618125781939014,
             312.6443975029563
            ],
            [
             -50.88843017220905,
             313.86881591909327
            ],
            [
             -51.153217328451625,
             315.1033087449772
            ],
            [
             -51.41231982953321,
             316.3478887918365
            ],
            [
             -51.665569441581866,
             317.6025544881387
            ],
            [
             -51.912797057959956,
             318.86728890043156
            ],
            [
             -52.15383278179553,
             320.1420581396412
            ],
            [
             -52.388506207913224,
             321.4268106166513
            ],
            [
             -52.61664691832805,
             322.72147576306537
            ],
            [
             -52.83808514648258,
             324.02596166693013
            ],
            [
             -53.052653099576766,
             325.3401546743598
            ],
            [
             -53.26018643182895,
             326.663919115297
            ],
            [
             -53.460525134487675,
             327.99709798687155
            ],
            [
             -53.65351325140713,
             329.33951435195394
            ]
           ],
           "geo": "geo",
           "hovertemplate": "visible=No<br>hour=7<br>latitude=%{lat}<br>longitude=%{lon}<br>elevation=%{customdata[0]}<br>azimuth=%{customdata[1]}<extra></extra>",
           "lat": [
            -33.64601965714244,
            -33.65153194549227,
            -33.652311598191616,
            -33.652619652012305,
            -33.65278612944876,
            -33.65289395690289,
            -33.65297291320724,
            -33.65303543831957,
            -33.65308703208179,
            -33.65312994112613,
            -33.65316502298745,
            -33.65319263225898,
            -33.65321312499165,
            -33.65322716834468,
            -33.65323564427523,
            -33.65323980577691,
            -33.65324121985695,
            -33.653241526258654,
            -33.653242279973114,
            -33.653244890957446,
            -33.653250548542324,
            -33.65325983016879,
            -33.65327246996011,
            -33.65328734771782,
            -33.653302479461914,
            -33.653315291087246,
            -33.65332320256747,
            -33.653324481597934,
            -33.65331923978021,
            -33.65330974670132,
            -33.65329955008823
           ],
           "legendgroup": "No",
           "lon": [
            -108.06215325809099,
            -109.0604195826361,
            -110.04784685706335,
            -111.0341863318124,
            -112.02018939393334,
            -113.00604559855623,
            -113.99182596033579,
            -114.97756313520024,
            -115.96327401090514,
            -116.94896818167283,
            -117.93465101020557,
            -118.92032532837045,
            -119.90599281361838,
            -120.89165404154647,
            -121.87730917600541,
            -122.86295831880891,
            -123.84860160566366,
            -124.834239269469,
            -125.8198721657823,
            -126.80550140747006,
            -127.79112815103696,
            -128.77675391281142,
            -129.76238037059068,
            -130.7480087852258,
            -131.7336400884407,
            -132.71927464191134,
            -133.704911256773,
            -134.69054774967557,
            -135.67618152182544,
            -136.66181050683554,
            -137.64743418015013
           ],
           "marker": {
            "color": "#636efa",
            "opacity": 0.3,
            "symbol": "circle"
           },
           "mode": "markers",
           "name": "No",
           "showlegend": true,
           "type": "scattergeo"
          }
         ],
         "name": "7"
        },
        {
         "data": [
          {
           "customdata": [
            [
             -50.13627842264707,
             310.5241403106183
            ],
            [
             -50.41502147523154,
             311.74171729421334
            ],
            [
             -50.68917980215331,
             312.96036967277746
            ],
            [
             -50.9580149671696,
             314.1880832924016
            ],
            [
             -51.22131234222521,
             315.42556283332027
            ],
            [
             -51.47889210375305,
             316.6729928783669
            ],
            [
             -51.7305805672352,
             317.9304337999522
            ],
            [
             -51.97620551344075,
             319.1978940549334
            ],
            [
             -52.21559546369702,
             320.47535011460695
            ],
            [
             -52.448579639243164,
             321.7627535664066
            ],
            [
             -52.67498828761759,
             323.06003293007996
            ],
            [
             -52.89465313538114,
             324.3670945646792
            ],
            [
             -53.10740797502557,
             325.68382334503207
            ],
            [
             -53.313089026206534,
             327.0100819905171
            ],
            [
             -53.511535141961794,
             328.34571140043124
            ],
            [
             -53.70258827997744,
             329.69053063261066
            ],
            [
             -53.88609383201174,
             331.044336638098
            ],
            [
             -54.061900726961895,
             332.4069042084295
            ],
            [
             -54.2298616613636,
             333.7779865446608
            ],
            [
             -54.38983341372817,
             335.15731468905716
            ],
            [
             -54.541677153046834,
             336.5445973473508
            ],
            [
             -54.68525844705557,
             337.9395215404513
            ],
            [
             -54.820447398280145,
             339.34175256235284
            ],
            [
             -54.94711895175859,
             340.7509335478339
            ],
            [
             -55.06515330480505,
             342.166686100332
            ],
            [
             -55.174436588999015,
             343.588610360747
            ],
            [
             -55.274861813564016,
             345.0162843112009
            ],
            [
             -55.366330212327675,
             346.44926534552246
            ],
            [
             -55.44875266059861,
             347.88709215529605
            ],
            [
             -55.522050351897065,
             349.32928759010747
            ],
            [
             -55.58615421665488,
             350.7753617476045
            ]
           ],
           "geo": "geo",
           "hovertemplate": "visible=No<br>hour=8<br>latitude=%{lat}<br>longitude=%{lon}<br>elevation=%{customdata[0]}<br>azimuth=%{customdata[1]}<extra></extra>",
           "lat": [
            -33.64682476807141,
            -33.65157449876381,
            -33.652316533522175,
            -33.65261503491228,
            -33.652777704333076,
            -33.65288361126358,
            -33.65296138491493,
            -33.65302303056085,
            -33.65307388433985,
            -33.653116141283334,
            -33.65315062350304,
            -33.65317764729707,
            -33.65319756311938,
            -33.653211060537224,
            -33.65321904048723,
            -33.65322274755434,
            -33.6532237702704,
            -33.65322377386239,
            -33.65322427833632,
            -33.65322666678321,
            -33.65323213000378,
            -33.653241230965094,
            -33.65325368350915,
            -33.653268332968274,
            -33.65328313748685,
            -33.65329548251225,
            -33.65330280644108,
            -33.65330346046934,
            -33.65329767542279,
            -33.65328780657587,
            -33.65327740413313
           ],
           "legendgroup": "No",
           "lon": [
            -123.10510705588509,
            -124.10162793733541,
            -125.08896946608608,
            -126.07528722664576,
            -127.06128163700426,
            -128.0471335674223,
            -129.03291153379308,
            -130.01864723568042,
            -131.00435715943829,
            -131.99005067876945,
            -132.97573300280408,
            -133.9614068998428,
            -134.94707398984986,
            -135.93273483930997,
            -136.91838959761108,
            -137.90403836961448,
            -138.88968129009496,
            -139.87531861102732,
            -140.8609511854203,
            -141.84658011413305,
            -142.83220658660207,
            -143.81783215080358,
            -144.80345847168078,
            -145.78908678740655,
            -146.77471802653417,
            -147.76035249287335,
            -148.74598895464322,
            -149.73162519263,
            -150.7172585952841,
            -151.70288715842085,
            -152.6885104091216
           ],
           "marker": {
            "color": "#636efa",
            "opacity": 0.3,
            "symbol": "circle"
           },
           "mode": "markers",
           "name": "No",
           "showlegend": true,
           "type": "scattergeo"
          }
         ],
         "name": "8"
        },
        {
         "data": [
          {
           "customdata": [
            [
             -53.75230869108863,
             330.0266071839179
            ],
            [
             -53.932960378464976,
             331.39406979247275
            ],
            [
             -54.10658916144146,
             332.7608271399204
            ],
            [
             -54.272421035807824,
             334.13488359374327
            ],
            [
             -54.430255921730385,
             335.5167436951389
            ],
            [
             -54.57994079395244,
             336.9063154973806
            ],
            [
             -54.7213358455681,
             338.3033578511405
            ],
            [
             -54.85430894866828,
             339.7075653581582
            ],
            [
             -54.97873475744926,
             341.1185932842503
            ],
            [
             -55.094494613588054,
             342.53606737464776
            ],
            [
             -55.20147692473301,
             343.9595877874428
            ],
            [
             -55.299577661213554,
             345.38873206645314
            ],
            [
             -55.388700946772516,
             346.82305770166784
            ],
            [
             -55.46875945598885,
             348.2621034006445
            ],
            [
             -55.5396745011859,
             349.7053912554412
            ],
            [
             -55.60137637925156,
             351.1524287317449
            ],
            [
             -55.65380463071728,
             352.6027103159596
            ],
            [
             -55.69690794498107,
             354.05571937429085
            ],
            [
             -55.73064407199878,
             355.51093055008516
            ],
            [
             -55.75498000877853,
             356.9678110761075
            ],
            [
             -55.76989205411494,
             358.42582248262573
            ],
            [
             -55.775365430226024,
             359.8844228255627
            ],
            [
             -55.771394115248455,
             1.3430681616455507
            ],
            [
             -55.75798082908086,
             2.8012136783337835
            ],
            [
             -55.73513700809196,
             4.258315793457435
            ],
            [
             -55.702883131705036,
             5.713833491115526
            ],
            [
             -55.661249364991995,
             7.167229044360649
            ],
            [
             -55.61027633649246,
             8.617970838800797
            ],
            [
             -55.55001589864985,
             10.065536348400562
            ],
            [
             -55.480531020714835,
             11.50941564138408
            ],
            [
             -55.40189447481963,
             12.94911427889161
            ]
           ],
           "geo": "geo",
           "hovertemplate": "visible=No<br>hour=9<br>latitude=%{lat}<br>longitude=%{lon}<br>elevation=%{customdata[0]}<br>azimuth=%{customdata[1]}<extra></extra>",
           "lat": [
            -33.647461544500764,
            -33.6516091207259,
            -33.652316242577555,
            -33.652605667731365,
            -33.6527647041002,
            -33.65286878424534,
            -33.65294544222295,
            -33.65300626891175,
            -33.653056438961045,
            -33.65309809663895,
            -33.65313203022641,
            -33.65315852213676,
            -33.65317792058149,
            -33.6531909326649,
            -33.65319847565334,
            -33.65320178865935,
            -33.65320248272945,
            -33.65320224559943,
            -33.65320256923758,
            -33.65320481837893,
            -33.65321017633198,
            -33.65321918472711,
            -33.65323153751349,
            -33.65324604369104,
            -33.653260604089695,
            -33.65327256540652,
            -33.653279385318456,
            -33.65327950319346,
            -33.653273270898346,
            -33.65326312274867,
            -33.65325261157742
           ],
           "legendgroup": "No",
           "lon": [
            -138.14768361050116,
            -139.14282610684745,
            -140.13008789271154,
            -141.11638484041467,
            -142.1023708280594,
            -143.0882185461888,
            -144.0739941169123,
            -145.0597283177541,
            -146.045437249609,
            -147.03113007569218,
            -148.01681185423428,
            -149.00248528672842,
            -149.9881519361095,
            -150.9738123612529,
            -151.95946669752405,
            -152.94511505025557,
            -153.93075755566673,
            -154.91639448830838,
            -155.90202669289164,
            -156.88765525813622,
            -157.87328141029724,
            -158.85890672938876,
            -159.8445328691766,
            -160.83016104524384,
            -161.81579217818063,
            -162.8014265089866,
            -163.7870627630716,
            -164.77269868991553,
            -165.75833167340238,
            -166.743959773812,
            -167.72958256518885
           ],
           "marker": {
            "color": "#636efa",
            "opacity": 0.3,
            "symbol": "circle"
           },
           "mode": "markers",
           "name": "No",
           "showlegend": true,
           "type": "scattergeo"
          }
         ],
         "name": "9"
        },
        {
         "data": [
          {
           "customdata": [
            [
             -55.61806799298972,
             351.51307936631105
            ],
            [
             -55.66657336074543,
             352.9759733639642
            ],
            [
             -55.706961072652646,
             354.4318031336576
            ],
            [
             -55.738133634236675,
             355.8884166344312
            ],
            [
             -55.75995284568768,
             357.3461412585206
            ],
            [
             -55.7723682509824,
             358.80466878774916
            ],
            [
             -55.7753554815838,
             0.26354460324154594
            ],
            [
             -55.76890491713559,
             1.7222644123622237
            ],
            [
             -55.75301875102432,
             3.1803041169692494
            ],
            [
             -55.727709822716,
             4.637132229734805
            ],
            [
             -55.69300128486589,
             6.092215662786448
            ],
            [
             -55.648926455047665,
             7.545024222714706
            ],
            [
             -55.59552879662292,
             8.995034211240936
            ],
            [
             -55.53286177474604,
             10.441730535561675
            ],
            [
             -55.46098831942881,
             11.8846092175257
            ],
            [
             -55.37998055347687,
             13.32317966487463
            ],
            [
             -55.289919532898736,
             14.756966310086614
            ],
            [
             -55.190894561020585,
             16.185510145425603
            ],
            [
             -55.083002474926374,
             17.60837045387746
            ],
            [
             -54.96634739886771,
             19.025125519939213
            ],
            [
             -54.84104028958117,
             20.435373497310458
            ],
            [
             -54.70719805480354,
             21.838733325676124
            ],
            [
             -54.56494300000366,
             23.234844870417877
            ],
            [
             -54.41440243826641,
             24.623368719912563
            ],
            [
             -54.25570825168288,
             26.00398679152316
            ],
            [
             -54.088996952507955,
             27.376402091591302
            ],
            [
             -53.91441012140912,
             28.74033810195631
            ],
            [
             -53.73209480759593,
             30.09553998472618
            ],
            [
             -53.54220387855459,
             31.441775842759874
            ],
            [
             -53.34489547186159,
             32.778838181460024
            ],
            [
             -53.14033142975475,
             34.10654431152775
            ]
           ],
           "geo": "geo",
           "hovertemplate": "visible=No<br>hour=10<br>latitude=%{lat}<br>longitude=%{lon}<br>elevation=%{customdata[0]}<br>azimuth=%{customdata[1]}<extra></extra>",
           "lat": [
            -33.64797580525191,
            -33.65163729126037,
            -33.65231197437783,
            -33.65259279249655,
            -33.65274838248769,
            -33.65285074507387,
            -33.652926372884174,
            -33.652986460820905,
            -33.653036023077796,
            -33.653077152083995,
            -33.65311060399722,
            -33.65313663406168,
            -33.65315559074606,
            -33.65316819393332,
            -33.6531753750058,
            -33.653178371410476,
            -33.65317881658062,
            -33.65317841705529,
            -33.65317864601384,
            -33.65318085722051,
            -33.65318621616763,
            -33.65319523663416,
            -33.653207591994175,
            -33.65322205320498,
            -33.65323646617855,
            -33.65324814175306,
            -33.65325455811628,
            -33.65325424607368,
            -33.653247677313544,
            -33.65323735866678,
            -33.6532268477559
           ],
           "legendgroup": "No",
           "lon": [
            -153.189984380951,
            -154.1840140229506,
            -155.1712015106535,
            -156.15747850281727,
            -157.1434562958844,
            -158.12929986972614,
            -159.11507305286761,
            -160.10080573467528,
            -161.08651364544045,
            -162.07220574704755,
            -163.05788694935757,
            -164.04355988448063,
            -165.02922605944468,
            -166.0148860262307,
            -167.00053990587406,
            -167.9861878023151,
            -168.97182985610524,
            -169.9574663669001,
            -170.94309816673615,
            -171.92872633389473,
            -172.91435213360518,
            -173.89997717712225,
            -174.8856031088036,
            -175.87123112125246,
            -176.85686212223658,
            -177.8424962854706,
            -178.8281322937519,
            -179.81376787035498,
            179.200599597221,
            178.21497198327197,
            177.2293496708085
           ],
           "marker": {
            "color": "#636efa",
            "opacity": 0.3,
            "symbol": "circle"
           },
           "mode": "markers",
           "name": "No",
           "showlegend": true,
           "type": "scattergeo"
          }
         ],
         "name": "10"
        },
        {
         "data": [
          {
           "customdata": [
            [
             -55.36097972779046,
             13.680413150058977
            ],
            [
             -55.26612633881736,
             15.124375717507924
            ],
            [
             -55.164293200273214,
             16.55376300522502
            ],
            [
             -55.053899488679775,
             17.976038452191464
            ],
            [
             -54.934865461653395,
             19.39166423463385
            ],
            [
             -54.80725256397008,
             20.80048433048605
            ],
            [
             -54.67115870580846,
             22.202215175930764
            ],
            [
             -54.526697716511464,
             23.59654412956755
            ],
            [
             -54.37399331662077,
             24.983159253789726
            ],
            [
             -54.21317656163866,
             26.3617605996027
            ],
            [
             -54.044384738828,
             27.732064618072414
            ],
            [
             -53.867760641466,
             29.093807131984555
            ],
            [
             -53.68345212646151,
             30.446745127900957
            ],
            [
             -53.491611685489325,
             31.79065708338582
            ],
            [
             -53.29239565443596,
             33.12534338140116
            ],
            [
             -53.08596371570201,
             34.45062664364663
            ],
            [
             -52.87247854831565,
             35.766351457951366
            ],
            [
             -52.65210504233794,
             37.07238392345713
            ],
            [
             -52.42500952088738,
             38.36861133603585
            ],
            [
             -52.19135955303248,
             39.654941274617435
            ],
            [
             -51.95132352051096,
             40.93130082259336
            ],
            [
             -51.705069842433836,
             42.19763572630692
            ],
            [
             -51.45276659676712,
             43.453909061129906
            ],
            [
             -51.19458128704677,
             44.70009977184572
            ],
            [
             -50.93068053757091,
             45.936202075008424
            ],
            [
             -50.66123040495396,
             47.1622242040372
            ],
            [
             -50.386397062622564,
             48.37818716714906
            ],
            [
             -50.1063473228836,
             49.584125124269185
            ],
            [
             -49.821249053812345,
             50.78008586494604
            ],
            [
             -49.5312706807983,
             51.966131380695955
            ],
            [
             -49.23657985362961,
             53.142337306604496
            ]
           ],
           "geo": "geo",
           "hovertemplate": "visible=No<br>hour=11<br>latitude=%{lat}<br>longitude=%{lon}<br>elevation=%{customdata[0]}<br>azimuth=%{customdata[1]}<extra></extra>",
           "lat": [
            -33.64839872700262,
            -33.6516606954743,
            -33.65230520716089,
            -33.65257787710953,
            -33.65273021456824,
            -33.6528309800349,
            -33.652905677337856,
            -33.65296512160837,
            -33.65301416662763,
            -33.653054850411486,
            -33.653087898962625,
            -33.65311354894686,
            -33.653132150511,
            -33.6531444319013,
            -33.653151337243614,
            -33.653154106612504,
            -33.65315439431576,
            -33.65315392179617,
            -33.653154154370995,
            -33.65315644032707,
            -33.6531619164452,
            -33.65317106290058,
            -33.65318353073168,
            -33.653198051570094,
            -33.653212420594926,
            -33.653223916654156,
            -33.65323003991756,
            -33.65322941426657,
            -33.65322262713603,
            -33.65321225205343,
            -33.65320185522917
           ],
           "legendgroup": "No",
           "lon": [
            -168.23207699057602,
            -169.22519177726096,
            -170.21230992276375,
            -171.19856777933416,
            -172.18453760818457,
            -173.1703771145824,
            -174.15614792960304,
            -175.14187908757742,
            -176.12758596186015,
            -177.1132773210258,
            -178.09895792899897,
            -179.08463034705613,
            179.92970397222376,
            178.9440444837293,
            177.95839108164154,
            176.97274366448613,
            175.98710208422727,
            175.00146601455802,
            174.01583463870762,
            173.03020688570837,
            172.04458145113932,
            171.0589566943125,
            170.07333097863108,
            169.0877031352648,
            168.10207227384925,
            167.11643829182924,
            166.13080254864744,
            165.14516734183158,
            164.1595352726944,
            163.17390815031436,
            162.1882863177188
           ],
           "marker": {
            "color": "#636efa",
            "opacity": 0.3,
            "symbol": "circle"
           },
           "mode": "markers",
           "name": "No",
           "showlegend": true,
           "type": "scattergeo"
          }
         ],
         "name": "11"
        },
        {
         "data": [
          {
           "customdata": [
            [
             -53.03611249166191,
             34.77898399765984
            ],
            [
             -52.8174278323319,
             36.10247056026135
            ],
            [
             -52.59456778820713,
             37.40812890727591
            ],
            [
             -52.36543774888764,
             38.70271723952734
            ],
            [
             -52.12993659082732,
             39.98696830485319
            ],
            [
             -51.888157390932506,
             41.26104274032341
            ],
            [
             -51.640238508525556,
             42.524979061809724
            ],
            [
             -51.38633361288787,
             43.778785135438206
            ],
            [
             -51.12660282906645,
             45.022465366289836
            ],
            [
             -50.86120924496024,
             46.25603026546811
            ],
            [
             -50.59031751130523,
             47.47949965616829
            ],
            [
             -50.31409301410364,
             48.69290466422419
            ],
            [
             -50.03270148271807,
             49.89628855355847
            ],
            [
             -49.74630871930495,
             51.0897063649227
            ],
            [
             -49.45508000954363,
             52.27322455037802
            ],
            [
             -49.15917979754416,
             53.44692076425178
            ],
            [
             -48.85877158774707,
             54.610883203531294
            ],
            [
             -48.554017392211485,
             55.765209784101856
            ],
            [
             -48.24507720797149,
             56.910007479549584
            ],
            [
             -47.932109082270664,
             58.04539143259336
            ],
            [
             -47.61526889455109,
             59.171484170278845
            ],
            [
             -47.29470988253657,
             60.288414732252456
            ],
            [
             -46.9705825496681,
             61.39631750027648
            ],
            [
             -46.643034661367786,
             62.49533100811428
            ],
            [
             -46.31221114070146,
             63.58559759984549
            ],
            [
             -45.97825464326526,
             64.66726252577682
            ],
            [
             -45.641306452453875,
             65.74047327329386
            ],
            [
             -45.30150713696837,
             66.80538024148974
            ],
            [
             -44.958997031682266,
             67.8621374725213
            ],
            [
             -44.613915793315385,
             68.91090338290061
            ],
            [
             -44.26640126429304,
             69.95184036177177
            ]
           ],
           "geo": "geo",
           "hovertemplate": "visible=No<br>hour=12<br>latitude=%{lat}<br>longitude=%{lon}<br>elevation=%{customdata[0]}<br>azimuth=%{customdata[1]}<extra></extra>",
           "lat": [
            -33.64875247285536,
            -33.65168112966487,
            -33.65229754941925,
            -33.65256251541044,
            -33.65271179600901,
            -33.652811090874486,
            -33.652884966044695,
            -33.65294387075366,
            -33.652992497649485,
            -33.65303282675731,
            -33.65306555625868,
            -33.65309091409085,
            -33.65310925238548,
            -33.65312130385807,
            -33.653128025137825,
            -33.653130663317825,
            -33.65313089055295,
            -33.65313043958683,
            -33.653130779669105,
            -33.65313325671101,
            -33.65313896816581,
            -33.65314835591198,
            -33.6531610459034,
            -33.65317572981201,
            -33.65319015786259,
            -33.65320158151432,
            -33.65320752446966,
            -33.65320670357805,
            -33.65319981552926,
            -33.653189495912926,
            -33.65317932442501
           ],
           "legendgroup": "No",
           "lon": [
            176.72599163622596,
            175.73364033616508,
            174.74658700660933,
            173.76034749772842,
            172.77438539833304,
            171.78854987176913,
            170.8027813917787,
            169.8170517470612,
            168.83134590881915,
            167.84565529507935,
            166.85997528540256,
            165.87430338935036,
            164.8886382073082,
            163.90297920161407,
            162.91732628286837,
            161.93167935232876,
            160.9460382513785,
            159.96040262640696,
            158.97477167639198,
            157.98914433368736,
            157.00351925645012,
            156.01789477714203,
            155.0322692656066,
            154.04664157785373,
            153.06101084490635,
            152.0753770385305,
            151.08974155984367,
            150.10410672175576,
            149.11847510793956,
            148.13284846337572,
            147.1472270927249
           ],
           "marker": {
            "color": "#636efa",
            "opacity": 0.3,
            "symbol": "circle"
           },
           "mode": "markers",
           "name": "No",
           "showlegend": true,
           "type": "scattergeo"
          }
         ],
         "name": "12"
        },
        {
         "data": [
          {
           "customdata": [
            [
             -49.08763399980465,
             53.737776790653115
            ],
            [
             -48.78198589790255,
             54.90793003696363
            ],
            [
             -48.47520710952298,
             56.06171117373906
            ],
            [
             -48.16480032659615,
             57.20489256299544
            ],
            [
             -47.850585522998045,
             58.33831324779737
            ],
            [
             -47.53262164887763,
             59.46230248908836
            ],
            [
             -47.21102282700208,
             60.57707044553313
            ],
            [
             -46.88592056453067,
             61.682789513330384
            ],
            [
             -46.55745256503865,
             62.77961893162588
            ],
            [
             -46.22575850704768,
             63.86771354716091
            ],
            [
             -45.890978426842636,
             64.94722693021976
            ],
            [
             -45.55325182185646,
             66.01831351605351
            ],
            [
             -45.2127173037655,
             67.08112960070672
            ],
            [
             -44.86951244769166,
             68.1358333541536
            ],
            [
             -44.52377336450488,
             69.18258472203487
            ],
            [
             -44.175634477385465,
             70.22154557748365
            ],
            [
             -43.82522856884904,
             71.25287947773059
            ],
            [
             -43.47268636457941,
             72.2767512261329
            ],
            [
             -43.11813616898271,
             73.29332655350659
            ],
            [
             -42.761704015643254,
             74.30277174127754
            ],
            [
             -42.4035135311458,
             75.3052532665836
            ],
            [
             -42.043685635013,
             76.30093733551668
            ],
            [
             -41.68233856921664,
             77.28998916678296
            ],
            [
             -41.31958796727385,
             78.27257226331076
            ],
            [
             -40.95554681384818,
             79.24884847355199
            ],
            [
             -40.59032612317245,
             80.21897749039705
            ],
            [
             -40.22403588581882,
             81.18311670436955
            ],
            [
             -39.8567857598632,
             82.1414221419005
            ],
            [
             -39.48868552029735,
             83.09404939012038
            ],
            [
             -39.11984459217291,
             84.04115447634094
            ],
            [
             -38.75037099600855,
             84.98289364956389
            ]
           ],
           "geo": "geo",
           "hovertemplate": "visible=No<br>hour=13<br>latitude=%{lat}<br>longitude=%{lon}<br>elevation=%{customdata[0]}<br>azimuth=%{customdata[1]}<extra></extra>",
           "lat": [
            -33.649053356494505,
            -33.65170039714607,
            -33.65229063185549,
            -33.65254831857978,
            -33.652694734051614,
            -33.6527926852649,
            -33.65286584925386,
            -33.65292432101297,
            -33.65297263083242,
            -33.65301269669759,
            -33.65304519171475,
            -33.65307034545226,
            -33.653088511370974,
            -33.653100423406244,
            -33.65310705172278,
            -33.65310965456302,
            -33.65310991741792,
            -33.653109581411414,
            -33.65311013145537,
            -33.65311291160776,
            -33.65311897049685,
            -33.6531287082333,
            -33.65314172213354,
            -33.6531566640672,
            -33.65317124634692,
            -33.65318269812417,
            -33.65318856809851,
            -33.65318766423427,
            -33.653180784219735,
            -33.65317062257661,
            -33.653160777827445
           ],
           "legendgroup": "No",
           "lon": [
            161.68418777123333,
            160.6924817978682,
            159.70548913750682,
            158.71926721653162,
            157.73331260629809,
            156.74748096021932,
            155.76171476731867,
            154.77598660880815,
            153.79028178942266,
            152.80459190844653,
            151.81891248634832,
            150.83324110187417,
            149.84757640718223,
            148.86191787310548,
            147.87626542789246,
            146.8906189750464,
            145.90497834268137,
            144.91934314990735,
            143.93371260968672,
            142.94808565346793,
            141.96246090561615,
            140.97683667482863,
            139.9912113365905,
            139.00558377291122,
            138.01995313930607,
            137.03431948427186,
            136.0486842498402,
            135.06304975918823,
            134.07741857342194,
            133.09179237511748,
            132.1061714306531
           ],
           "marker": {
            "color": "#636efa",
            "opacity": 0.3,
            "symbol": "circle"
           },
           "mode": "markers",
           "name": "No",
           "showlegend": true,
           "type": "scattergeo"
          }
         ],
         "name": "13"
        },
        {
         "data": [
          {
           "customdata": [
            [
             -44.091621871928474,
             70.47958808012845
            ],
            [
             -43.73615104209706,
             71.51622814546963
            ],
            [
             -43.382010470467456,
             72.53989525672219
            ],
            [
             -43.0264866714379,
             73.55535265331523
            ],
            [
             -42.66932163716766,
             74.56338899818606
            ],
            [
             -42.3105270181266,
             75.56435061149251
            ],
            [
             -41.95017838701497,
             76.55847395466415
            ],
            [
             -41.588371970524186,
             77.54595663401146
            ],
            [
             -41.22521171193744,
             78.52697939402142
            ],
            [
             -40.860804444343636,
             79.50171414433674
            ],
            [
             -40.495258021012106,
             80.47032701247979
            ],
            [
             -40.12868027517324,
             81.43298063568139
            ],
            [
             -39.76117861174708,
             82.38983528891943
            ],
            [
             -39.39285986161077,
             83.34104921412712
            ],
            [
             -39.02382990540687,
             84.28677874783457
            ],
            [
             -38.65419343862837,
             85.22717872908684
            ],
            [
             -38.28405403886105,
             86.16240252420292
            ],
            [
             -37.91351378433358,
             87.092601847282
            ],
            [
             -37.54267294849726,
             88.01792665305837
            ],
            [
             -37.17163010602089,
             88.93852503525657
            ],
            [
             -36.8004819889429,
             89.85454309829045
            ],
            [
             -36.42932327019592,
             90.76612472391
            ],
            [
             -36.05824660975479,
             91.67341107964684
            ],
            [
             -35.687342710760824,
             92.57654011335103
            ],
            [
             -35.316700276399196,
             93.47564679630261
            ],
            [
             -34.94640670703856,
             94.37086276730656
            ],
            [
             -34.57654902928344,
             95.2623164281926
            ],
            [
             -34.2072145912575,
             96.1501339287852
            ],
            [
             -33.83849145658303,
             97.0344400874311
            ],
            [
             -33.4704679044023,
             97.91535928108418
            ],
            [
             -33.10323140270838,
             98.79301529113091
            ]
           ],
           "geo": "geo",
           "hovertemplate": "visible=No<br>hour=14<br>latitude=%{lat}<br>longitude=%{lon}<br>elevation=%{customdata[0]}<br>azimuth=%{customdata[1]}<extra></extra>",
           "lat": [
            -33.64931369497226,
            -33.6517202014322,
            -33.65228599766736,
            -33.65253680531597,
            -33.652680537672964,
            -33.65277726683189,
            -33.65284982675002,
            -33.652907967958356,
            -33.652956056948064,
            -33.652995945661104,
            -33.653028285263936,
            -33.65305331700964,
            -33.65307139438558,
            -33.65308325001206,
            -33.65308986986229,
            -33.653092526903464,
            -33.65309291417086,
            -33.65309277916675,
            -33.65309363315576,
            -33.65309681642222,
            -33.65310332114193,
            -33.65311350343847,
            -33.65312692789906,
            -33.653142207585574,
            -33.653157024760695,
            -33.65316859158768,
            -33.65317448299598,
            -33.653173594594804,
            -33.65316681585431,
            -33.653156898731844,
            -33.65314746564902
           ],
           "legendgroup": "No",
           "lon": [
            146.64248639367088,
            145.6513318603816,
            144.6643960594562,
            143.67819099218116,
            142.69224362523696,
            141.7064157485974,
            140.7206517798803,
            139.7349250641186,
            138.74922122993127,
            137.76353205384655,
            136.77785319440846,
            135.79218229618172,
            134.80651806244643,
            133.82085997393688,
            132.83520797744382,
            131.84956197763594,
            130.86392178738873,
            129.87828699896397,
            128.8926568353622,
            127.90703022326244,
            126.92140575845397,
            125.93578172919452,
            124.95015651646938,
            123.96452902934753,
            122.97889844984824,
            121.99326490485215,
            121.00762987641313,
            120.02199569345427,
            119.03636489137793,
            118.05073909223795,
            117.06511852264066
           ],
           "marker": {
            "color": "#636efa",
            "opacity": 0.3,
            "symbol": "circle"
           },
           "mode": "markers",
           "name": "No",
           "showlegend": true,
           "type": "scattergeo"
          }
         ],
         "name": "14"
        },
        {
         "data": [
          {
           "customdata": [
            [
             -38.565243291503045,
             85.46153944955846
            ],
            [
             -38.19035723271401,
             86.40154434132312
            ],
            [
             -37.81858014794829,
             87.3319695630733
            ],
            [
             -37.44716133568176,
             88.25672464048044
            ],
            [
             -37.07579215247626,
             89.17649524944416
            ],
            [
             -36.704448702833275,
             90.09158523102032
            ],
            [
             -36.33317660403015,
             91.00220033111214
            ],
            [
             -35.962044694294555,
             91.90851017041076
            ],
            [
             -35.59113103776155,
             92.81066780509602
            ],
            [
             -35.2205177007419,
             93.70881694536754
            ],
            [
             -34.8502886776874,
             94.60309477484721
            ],
            [
             -34.48052871618238,
             95.49363420631757
            ],
            [
             -34.11132281858012,
             96.3805649439659
            ],
            [
             -33.742756068708005,
             97.2640139299991
            ],
            [
             -33.374913270531536,
             98.1441055293475
            ],
            [
             -33.007878664626205,
             99.02096201182918
            ],
            [
             -32.64173597000958,
             99.89470365074321
            ],
            [
             -32.27656801096242,
             100.76544864506785
            ],
            [
             -31.91245643612462,
             101.6333130771338
            ],
            [
             -31.54948173028056,
             102.49841088903682
            ],
            [
             -31.187723044965804,
             103.36085382828306
            ],
            [
             -30.827258035492356,
             104.22075131473531
            ],
            [
             -30.468162883560034,
             105.07821001621045
            ],
            [
             -30.110512318491775,
             105.93333342044512
            ],
            [
             -29.75437956074014,
             106.78622213449138
            ],
            [
             -29.399837005739148,
             107.63697352443866
            ],
            [
             -29.046957123176902,
             108.48568190217657
            ],
            [
             -28.695813166470618,
             109.3324394554285
            ],
            [
             -28.346479523523303,
             110.17733708263013
            ],
            [
             -27.99903120495567,
             111.02046525292981
            ],
            [
             -27.653542822771616,
             111.86191387203735
            ]
           ],
           "geo": "geo",
           "hovertemplate": "visible=No<br>hour=15<br>latitude=%{lat}<br>longitude=%{lon}<br>elevation=%{customdata[0]}<br>azimuth=%{customdata[1]}<extra></extra>",
           "lat": [
            -33.649542930369215,
            -33.65174204439514,
            -33.65228499868878,
            -33.65252929830892,
            -33.65267051444576,
            -33.652766132268916,
            -33.65283818513115,
            -33.65289608750646,
            -33.65294404073812,
            -33.65298382722735,
            -33.653016079628635,
            -33.653041059821184,
            -33.65305911980238,
            -33.65307098908239,
            -33.65307767275191,
            -33.653080461312854,
            -33.65308104863608,
            -33.653081187581435,
            -33.65308242448759,
            -33.65308609193731,
            -33.653093120496536,
            -33.653103821245345,
            -33.65311772173346,
            -33.65313339798843,
            -33.65314851038204,
            -33.65316025943229,
            -33.65316624719623,
            -33.65316545209657,
            -33.65315884608731,
            -33.65314923862635,
            -33.65314028013635
           ],
           "legendgroup": "No",
           "lon": [
            131.60086840490297,
            130.61018956547215,
            129.6233071153736,
            128.63711819196052,
            127.6511778178478,
            126.66535358893525,
            125.67959176754215,
            124.6938664358814,
            123.70816353818495,
            122.72247502541764,
            121.73679669096083,
            120.75112624026022,
            119.7654624277523,
            118.77980474570988,
            117.79415315975059,
            116.80850757417572,
            115.8228677856649,
            114.83723336017684,
            113.8516035248472,
            112.86597719862796,
            111.88035295512624,
            110.89472906547707,
            109.9091039167702,
            108.92347644589731,
            107.93784586217326,
            106.95221237178879,
            105.96657749588594,
            104.98094356549784,
            103.99531308905729,
            103.00968762975533,
            102.02406737148878
           ],
           "marker": {
            "color": "#636efa",
            "opacity": 0.3,
            "symbol": "circle"
           },
           "mode": "markers",
           "name": "No",
           "showlegend": true,
           "type": "scattergeo"
          }
         ],
         "name": "15"
        },
        {
         "data": [
          {
           "customdata": [
            [
             -32.91987232606043,
             99.24033706196437
            ],
            [
             -32.54941697508888,
             100.11850368666053
            ],
            [
             -32.18333451742156,
             100.98983725707016
            ],
            [
             -31.818974003053302,
             101.85758241481932
            ],
            [
             -31.456004977357612,
             102.72232414405501
            ],
            [
             -31.094382911892648,
             103.58431475330904
            ],
            [
             -30.734134857095235,
             104.44371922947626
            ],
            [
             -30.37531234462306,
             105.3006699020253
            ],
            [
             -30.01797701274183,
             106.15528396643165
            ],
            [
             -29.662195224366517,
             107.0076699608233
            ],
            [
             -29.30803587981819,
             107.85793030771228
            ],
            [
             -28.95556916160456,
             108.70616346811363
            ],
            [
             -28.604865958907105,
             109.55246485512139
            ],
            [
             -28.255997676925535,
             110.39692731274485
            ],
            [
             -27.909035890654554,
             111.23964128747402
            ],
            [
             -27.564052011080083,
             112.08069531169787
            ],
            [
             -27.221117291691147,
             112.9201760936628
            ],
            [
             -26.88030247024758,
             113.75816848483322
            ],
            [
             -26.541677502396126,
             114.59475544734661
            ],
            [
             -26.205311463321017,
             115.43001802754114
            ],
            [
             -25.871272361888614,
             116.26403532536789
            ],
            [
             -25.539627021589986,
             117.09688441253124
            ],
            [
             -25.21044106318302,
             117.92863991352684
            ],
            [
             -24.883778891227706,
             118.75937360544454
            ],
            [
             -24.559703630890624,
             119.5891547340542
            ],
            [
             -24.238277781137505,
             120.41804958877859
            ],
            [
             -23.91956409028035,
             121.24612172270893
            ],
            [
             -23.603626296502487,
             122.07343279930471
            ],
            [
             -23.290529453771047,
             122.90004332945914
            ],
            [
             -22.980339434802172,
             123.72601351405827
            ],
            [
             -22.67312190007743,
             124.5514031302061
            ]
           ],
           "geo": "geo",
           "hovertemplate": "visible=No<br>hour=16<br>latitude=%{lat}<br>longitude=%{lon}<br>elevation=%{customdata[0]}<br>azimuth=%{customdata[1]}<extra></extra>",
           "lat": [
            -33.649748330662476,
            -33.651767136622006,
            -33.652288704510084,
            -33.652526834100996,
            -33.65266568115874,
            -33.65276028258358,
            -33.65283190965524,
            -33.65288964845863,
            -33.652937534252054,
            -33.65297727727297,
            -33.65300949521698,
            -33.65303447769661,
            -33.653052573983125,
            -33.65306450940979,
            -33.65307131217126,
            -33.65307429223716,
            -33.65307513718505,
            -33.65307560507935,
            -33.65307728328424,
            -33.65308149142364,
            -33.653089096162375,
            -33.65310036345992,
            -33.653114779656015,
            -33.65313088613608,
            -33.653146329275685,
            -33.653158303135086,
            -33.653164437417736,
            -33.65316378753841,
            -33.65315739942404,
            -33.65314814139609,
            -33.653139694383796
           ],
           "legendgroup": "No",
           "lon": [
            116.55931885134017,
            115.56905377950338,
            114.5822214426332,
            113.59604797759431,
            112.61011434318928,
            111.62429363157761,
            110.63853386877555,
            109.65280984967679,
            108.66710782719113,
            107.6814199249014,
            106.6957420673107,
            105.71007201448548,
            104.72440857277671,
            103.73875124776657,
            102.75310002330282,
            101.76745480156416,
            100.78181536327469,
            99.79618124845065,
            98.81055168093555,
            97.82492557029607,
            96.8393014750176,
            95.8536776522343,
            94.86805249650497,
            93.88242497282477,
            92.89679431736502,
            91.91116081588103,
            90.92552602774191,
            89.93989228357016,
            88.95426206532413,
            87.96863687843957,
            86.98301685994866
           ],
           "marker": {
            "color": "#636efa",
            "opacity": 0.3,
            "symbol": "circle"
           },
           "mode": "markers",
           "name": "No",
           "showlegend": true,
           "type": "scattergeo"
          }
         ],
         "name": "16"
        },
        {
         "data": [
          {
           "customdata": [
            [
             -27.481750183378686,
             112.29193760416163
            ],
            [
             -27.13503192862417,
             113.13556408758771
            ],
            [
             -26.793611315411813,
             113.97440804960144
            ],
            [
             -26.45502987953966,
             114.81120546229913
            ],
            [
             -26.11895769222359,
             115.64645663527209
            ],
            [
             -25.785340738033135,
             116.48036792942898
            ],
            [
             -25.45419552619458,
             117.31306718584975
            ],
            [
             -25.125563031754105,
             118.14465261093986
            ],
            [
             -24.799494532040505,
             118.97520867144932
            ],
            [
             -24.476046285402752,
             119.80481195033926
            ],
            [
             -24.155277322759204,
             120.63353343888983
            ],
            [
             -23.837248174666698,
             121.46144059623893
            ],
            [
             -23.52202023970518,
             122.28859810292235
            ],
            [
             -23.209655596651146,
             123.1150683546663
            ],
            [
             -22.900216682364984,
             123.9409116077061
            ],
            [
             -22.593765914567474,
             124.76618645061525
            ],
            [
             -22.290365662165573,
             125.59094986425649
            ],
            [
             -21.99007791759878,
             126.41525722798933
            ],
            [
             -21.69296403878816,
             127.2391622861864
            ],
            [
             -21.399084536403127,
             128.06271709790383
            ],
            [
             -21.108498887057436,
             128.88597202662854
            ],
            [
             -20.821265452057236,
             129.7089756973503
            ],
            [
             -20.537441410651557,
             130.531774566245
            ],
            [
             -20.25708271801805,
             131.35441254092845
            ],
            [
             -19.98024404541042,
             132.17693130847286
            ],
            [
             -19.70697938696727,
             132.99936982474597
            ],
            [
             -19.437342922089293,
             133.82176454935131
            ],
            [
             -19.171389800910845,
             134.6441502063541
            ],
            [
             -18.90917646205003,
             135.4665604355219
            ],
            [
             -18.650760175046226,
             136.28902864472428
            ],
            [
             -18.396197987071556,
             137.11158793251622
            ]
           ],
           "geo": "geo",
           "hovertemplate": "visible=No<br>hour=17<br>latitude=%{lat}<br>longitude=%{lon}<br>elevation=%{customdata[0]}<br>azimuth=%{customdata[1]}<extra></extra>",
           "lat": [
            -33.649935444542606,
            -33.65179632632448,
            -33.6522978308121,
            -33.65253009250944,
            -33.65266669431731,
            -33.65276035455476,
            -33.652831616698165,
            -33.65288924604898,
            -33.652937111573024,
            -33.65297684984556,
            -33.653009067057624,
            -33.65303408525846,
            -33.653052250524645,
            -33.65306428363885,
            -33.653071240087314,
            -33.65307445035199,
            -33.65307558875621,
            -33.65307641901163,
            -33.6530785720963,
            -33.65308334892615,
            -33.65309155299779,
            -33.653103405809375,
            -33.65311834880025,
            -33.65313489147994,
            -33.65315067330216,
            -33.65316288676392,
            -33.65316918938238,
            -33.65316870721711,
            -33.65316255322086,
            -33.65315365681394,
            -33.65314572985278
           ],
           "legendgroup": "No",
           "lon": [
            101.51782576752406,
            100.52792324395872,
            99.54113802846884,
            98.55497936161768,
            97.56905221382007,
            96.58323488311314,
            95.59747708129044,
            94.61175429354566,
            93.62605307576221,
            92.64036572307954,
            91.65468828682876,
            90.66901857454437,
            89.68335544587215,
            88.69769842152127,
            87.71204750195076,
            86.72640258541225,
            85.74076343822036,
            84.75512957438592,
            83.76950020606675,
            82.78387423331615,
            81.79825020664951,
            80.81262637200219,
            79.82700113347057,
            78.84137348381893,
            77.8557426844794,
            76.87010910043723,
            75.88447432863053,
            74.89884069801815,
            73.91321066607797,
            72.92758568076434,
            71.94196582722957
           ],
           "marker": {
            "color": "#636efa",
            "opacity": 0.3,
            "symbol": "circle"
           },
           "mode": "markers",
           "name": "No",
           "showlegend": true,
           "type": "scattergeo"
          }
         ],
         "name": "17"
        },
        {
         "data": [
          {
           "customdata": [
            [
             -22.52123513330565,
             124.97422929551553
            ],
            [
             -22.214648729356814,
             125.80288415244311
            ],
            [
             -21.91406143255172,
             126.62820841729913
            ],
            [
             -21.617262468224666,
             127.45254162315834
            ],
            [
             -21.323937193983962,
             128.27631385635067
            ],
            [
             -21.034028503877295,
             129.09969216143674
            ],
            [
             -20.747546253948343,
             129.92277214400877
            ],
            [
             -20.464523682429714,
             130.74562221169887
            ],
            [
             -20.185003935164325,
             131.56829816196242
            ],
            [
             -19.909034986229727,
             132.3908485262391
            ],
            [
             -19.63666748665969,
             133.21331665605643
            ],
            [
             -19.367953531611473,
             134.03574271532767
            ],
            [
             -19.102945992025333,
             134.85816428771062
            ],
            [
             -18.84169834941194,
             135.6806168918308
            ],
            [
             -18.584264407733965,
             136.50313410651304
            ],
            [
             -18.33069788144346,
             137.32574803990218
            ],
            [
             -18.081052330828744,
             138.14848936199093
            ],
            [
             -17.83538088306494,
             138.9713873593833
            ],
            [
             -17.59373597607438,
             139.79446990507475
            ],
            [
             -17.356169034251703,
             140.61776338905392
            ],
            [
             -17.122730297717016,
             141.44129274021003
            ],
            [
             -16.893468773003388,
             142.26508142209943
            ],
            [
             -16.668432111844847,
             143.08915099270087
            ],
            [
             -16.447666549719546,
             143.9135207528681
            ],
            [
             -16.231216860578417,
             144.73820809178977
            ],
            [
             -16.019126902094,
             145.56322788647694
            ],
            [
             -15.811440477359133,
             146.3885927478054
            ],
            [
             -15.608202175619745,
             147.21431369831728
            ],
            [
             -15.409457697197988,
             148.04040075495217
            ],
            [
             -15.215253458106094,
             148.86686381738653
            ],
            [
             -15.025635505353382,
             149.69371264702653
            ]
           ],
           "geo": "geo",
           "hovertemplate": "visible=No<br>hour=18<br>latitude=%{lat}<br>longitude=%{lon}<br>elevation=%{customdata[0]}<br>azimuth=%{customdata[1]}<extra></extra>",
           "lat": [
            -33.65010841273881,
            -33.65183005184835,
            -33.65231269183192,
            -33.652539350446126,
            -33.65267380528525,
            -33.652766577098625,
            -33.652837511454905,
            -33.652895061059226,
            -33.652942929407715,
            -33.652982679159265,
            -33.653014908094725,
            -33.65303997263758,
            -33.65305821638334,
            -33.65307035583333,
            -33.65307747761224,
            -33.653080932951774,
            -33.65308237675033,
            -33.6530835790151,
            -33.653086213236655,
            -33.65309155627783,
            -33.65310035213384,
            -33.65311277896868,
            -33.653128230422254,
            -33.6531451869599,
            -33.65316128686569,
            -33.65317372557707,
            -33.653180188341786,
            -33.65317986551892,
            -33.653173932312264,
            -33.65316538181104,
            -33.653157954827726
           ],
           "legendgroup": "No",
           "lon": [
            86.47637941256794,
            85.48679663731802,
            84.50005577588176,
            83.51391127403016,
            82.52799036300398,
            81.54217627416193,
            80.55642033055766,
            79.57069868721092,
            78.58499819839014,
            77.59931133017103,
            76.61363425585807,
            75.62796482290271,
            74.64230194604373,
            73.65664516290009,
            72.6709944878598,
            71.68534981358135,
            70.69971089478076,
            69.71407721883004,
            68.72844797751044,
            67.74282206276588,
            66.75719802383392,
            65.77157409785566,
            64.7859487011203,
            63.80032085312612,
            62.81468983801521,
            61.82905609915661,
            60.84342127071014,
            59.8577876800729,
            58.87215776331252,
            57.8865329101714,
            56.90091314851538
           ],
           "marker": {
            "color": "#636efa",
            "opacity": 0.3,
            "symbol": "circle"
           },
           "mode": "markers",
           "name": "No",
           "showlegend": true,
           "type": "scattergeo"
          }
         ],
         "name": "18"
        },
        {
         "data": [
          {
           "customdata": [
            [
             -18.271514778179714,
             137.53380744720016
            ],
            [
             -18.01931341341754,
             138.36017496740672
            ],
            [
             -17.773642299156933,
             139.18416270660606
            ],
            [
             -17.53256315528098,
             140.0077895493398
            ],
            [
             -17.295784413797644,
             140.83142555412306
            ],
            [
             -17.06324800863157,
             141.6552034795199
            ],
            [
             -16.83495742642579,
             142.4791906116713
            ],
            [
             -16.61093764103081,
             143.30342911136617
            ],
            [
             -16.39122268528195,
             144.12794950795458
            ],
            [
             -16.175850952263065,
             144.9527756077013
            ],
            [
             -15.9648631632304,
             145.7779264112656
            ],
            [
             -15.758301225529936,
             146.6034180643815
            ],
            [
             -15.556207544952041,
             147.4292643387661
            ],
            [
             -15.358624900726989,
             148.25547718009796
            ],
            [
             -15.16559620164016,
             149.0820668228999
            ],
            [
             -14.977164050220143,
             149.9090422711627
            ],
            [
             -14.793370646317197,
             150.73641131400325
            ],
            [
             -14.614257576375135,
             151.56418063987869
            ],
            [
             -14.439865553735446,
             152.3923558169771
            ],
            [
             -14.270233993600613,
             153.22094121909902
            ],
            [
             -14.105400876029316,
             154.04994009271277
            ],
            [
             -13.945402723472798,
             154.87935459281812
            ],
            [
             -13.790274425423663,
             155.70918534000685
            ],
            [
             -13.640049169655365,
             156.53943110708136
            ],
            [
             -13.494758424078391,
             157.37008918633452
            ],
            [
             -13.354432407721454,
             158.2011547011161
            ],
            [
             -13.219100965735828,
             159.03262086132528
            ],
            [
             -13.088794472765853,
             159.8644795584081
            ],
            [
             -12.963544180108649,
             160.6967218932313
            ],
            [
             -12.843381902783744,
             161.52933911759132
            ],
            [
             -12.728338899308017,
             162.36232268689173
            ]
           ],
           "geo": "geo",
           "hovertemplate": "visible=No<br>hour=19<br>latitude=%{lat}<br>longitude=%{lon}<br>elevation=%{customdata[0]}<br>azimuth=%{customdata[1]}<extra></extra>",
           "lat": [
            -33.65027019779973,
            -33.651868321189276,
            -33.65233318022492,
            -33.652554463300255,
            -33.65268684314289,
            -33.65277875553788,
            -33.6528493737888,
            -33.652906847309566,
            -33.6529547162451,
            -33.65299447031793,
            -33.65302670136086,
            -33.653051799224876,
            -33.65307010720237,
            -33.65308233836956,
            -33.65308961344831,
            -33.653093304006724,
            -33.65309504073381,
            -33.65309660033113,
            -33.65309969398855,
            -33.65310557042354,
            -33.65311492039963,
            -33.65312788008616,
            -33.65314379345497,
            -33.653161114485826,
            -33.65317748431491,
            -33.65319010537291,
            -33.65319669047321,
            -33.653196488482784,
            -33.65319073464009,
            -33.65318248801458,
            -33.65317551392054
           ],
           "legendgroup": "No",
           "lon": [
            71.43497176168889,
            70.4456726436583,
            69.45897357553186,
            68.47284263464229,
            67.48692771735568,
            66.50111673239915,
            65.5153625432966,
            64.52964195600872,
            63.5439421195094,
            62.55825567038858,
            61.572578898540684,
            60.58690968393488,
            59.60124699831307,
            58.61559039789507,
            57.629939907336684,
            56.64429541232262,
            55.65865665987413,
            54.67302310948721,
            53.68739392429181,
            52.701767990857356,
            51.71614386284809,
            50.73051977063194,
            49.74489414573687,
            48.75926603266816,
            47.77363473503746,
            46.78800077331849,
            45.802365818964404,
            44.8167321992267,
            43.831102332394906,
            42.84547754824462,
            41.859857812026384
           ],
           "marker": {
            "color": "#636efa",
            "opacity": 0.3,
            "symbol": "circle"
           },
           "mode": "markers",
           "name": "No",
           "showlegend": true,
           "type": "scattergeo"
          }
         ],
         "name": "19"
        },
        {
         "data": [
          {
           "customdata": [
            [
             -14.934411856300663,
             150.11881007191047
            ],
            [
             -14.748683941736243,
             150.94950482206346
            ],
            [
             -14.56984882456005,
             151.77834969509468
            ],
            [
             -14.39624155364423,
             152.60709366172605
            ],
            [
             -14.227595610272278,
             153.4360544488712
            ],
            [
             -14.063850820363255,
             154.2653352323658
            ],
            [
             -13.905001993441948,
             155.09497917710172
            ],
            [
             -13.751063014565183,
             155.92500632436818
            ],
            [
             -13.602055697772803,
             156.75542610783313
            ],
            [
             -13.458005563181745,
             157.5862418663701
            ],
            [
             -13.318939969874913,
             158.41745261659193
            ],
            [
             -13.184887107122925,
             159.2490549763433
            ],
            [
             -13.055875304104182,
             160.08104353562334
            ],
            [
             -12.931932959841403,
             160.91341144441083
            ],
            [
             -12.813088354106656,
             161.74615052249607
            ],
            [
             -12.699369201475545,
             162.57925176191375
            ],
            [
             -12.590802528631357,
             163.41270533515197
            ],
            [
             -12.487414551043004,
             164.24650077237158
            ],
            [
             -12.389230406090983,
             165.08062695591514
            ],
            [
             -12.2962736461108,
             165.91507205410227
            ],
            [
             -12.208566151548217,
             166.74982363904059
            ],
            [
             -12.126128130606277,
             167.58486875911336
            ],
            [
             -12.048977895303997,
             168.4201934974791
            ],
            [
             -11.97713179901458,
             169.25578270045153
            ],
            [
             -11.910604257593501,
             170.09162036229083
            ],
            [
             -11.849408136583268,
             170.92768884962507
            ],
            [
             -11.793555652748585,
             171.76396915918502
            ],
            [
             -11.74305934327674,
             172.60044142241273
            ],
            [
             -11.697932448517069,
             173.43708538286148
            ],
            [
             -11.658188696190875,
             174.2738813947948
            ],
            [
             -11.623841145205047,
             175.110810558141
            ]
           ],
           "geo": "geo",
           "hovertemplate": "visible=No<br>hour=20<br>latitude=%{lat}<br>longitude=%{lon}<br>elevation=%{customdata[0]}<br>azimuth=%{customdata[1]}<extra></extra>",
           "lat": [
            -33.65042277014429,
            -33.65191072004909,
            -33.652358775711534,
            -33.65257487516284,
            -33.65270522644031,
            -33.65279628486053,
            -33.65286657320665,
            -33.6529239483921,
            -33.65297179083401,
            -33.653011519406654,
            -33.65304372157143,
            -33.65306881691222,
            -33.653087152168176,
            -33.65309943837541,
            -33.65310683193472,
            -33.653110723893796,
            -33.653112717841594,
            -33.6531145968683,
            -33.65311810162955,
            -33.653124450557556,
            -33.653134289517666,
            -33.65314771402277,
            -33.65316401768371,
            -33.65318162994599,
            -33.65319819681105,
            -33.653210931274174,
            -33.65321757369008,
            -33.65321742672972,
            -33.65321178613324,
            -33.65320377842282,
            -33.65319718660928
           ],
           "legendgroup": "No",
           "lon": [
            56.39359616504988,
            55.40455002300019,
            54.4178903786893,
            53.43177242616744,
            52.445863269976435,
            51.460055255801755,
            50.47430272089883,
            49.48858310444368,
            48.5028838471272,
            47.517197755573854,
            46.531521230447765,
            45.545852177563525,
            44.56018962731965,
            43.57453315608403,
            42.58888279434152,
            41.60323841981399,
            40.6175997765306,
            39.631966294354356,
            38.64633710059024,
            37.660711080134895,
            36.67508679535103,
            35.68946247151748,
            34.70383655863689,
            33.7182081238475,
            32.732576486650416,
            31.74694224300192,
            30.76130710217822,
            29.775673393896877,
            28.790043522291263,
            27.80441875448509,
            26.818798988353535
           ],
           "marker": {
            "color": "#636efa",
            "opacity": 0.3,
            "symbol": "circle"
           },
           "mode": "markers",
           "name": "No",
           "showlegend": true,
           "type": "scattergeo"
          }
         ],
         "name": "20"
        },
        {
         "data": [
          {
           "customdata": [
            [
             -12.675479036770815,
             162.79109899208748
            ],
            [
             -12.56554623410683,
             163.6275347269057
            ],
            [
             -12.462668785673356,
             164.46231672546534
            ],
            [
             -12.365438376380796,
             165.29696039436877
            ],
            [
             -12.273611496928385,
             166.13173903350216
            ],
            [
             -12.187122985567603,
             166.9667326436198
            ],
            [
             -12.105955620239039,
             167.80196660841054
            ],
            [
             -12.030108648243015,
             168.63744532825197
            ],
            [
             -11.95958803781754,
             169.4731637982676
            ],
            [
             -11.894402782447756,
             170.3091117340652
            ],
            [
             -11.83456322760424,
             171.1452752062744
            ],
            [
             -11.780080226938688,
             171.98163853513347
            ],
            [
             -11.73096446452982,
             172.81818455825402
            ],
            [
             -11.68722644900243,
             173.6548952558373
            ],
            [
             -11.648876387700758,
             174.49175185120114
            ],
            [
             -11.615923745051974,
             175.32873533494583
            ],
            [
             -11.588377099243688,
             176.16582646779096
            ],
            [
             -11.566244120657956,
             177.0030060125423
            ],
            [
             -11.549531294478896,
             177.84025473787773
            ],
            [
             -11.538243355524532,
             178.67755336298018
            ],
            [
             -11.532383262104586,
             179.514882720425
            ],
            [
             -11.531952210622277,
             180.35222385408878
            ],
            [
             -11.536949370765264,
             181.18955757496494
            ],
            [
             -11.547371840144418,
             182.02686422473823
            ],
            [
             -11.563214712176547,
             182.86412406290881
            ],
            [
             -11.584471371769535,
             183.70131640035441
            ],
            [
             -11.6111344314937,
             184.53841984492644
            ],
            [
             -11.643196762621077,
             185.37541270141412
            ],
            [
             -11.68065192138482,
             186.2122733937861
            ],
            [
             -11.72349403435121,
             187.04898151374334
            ],
            [
             -11.771716605921181,
             187.88551803692212
            ]
           ],
           "geo": "geo",
           "hovertemplate": "visible=No<br>hour=21<br>latitude=%{lat}<br>longitude=%{lon}<br>elevation=%{customdata[0]}<br>azimuth=%{customdata[1]}<extra></extra>",
           "lat": [
            -33.65056727306967,
            -33.65195644799401,
            -33.6523885819246,
            -33.652599657197136,
            -33.65272800304797,
            -33.652818191069976,
            -33.652888111943184,
            -33.65294534250973,
            -33.65299310872166,
            -33.65303276158283,
            -33.65306488466972,
            -33.6530899212374,
            -33.65310822670055,
            -33.65312051191204,
            -33.65312796878383,
            -33.653132006774456,
            -33.653134201739654,
            -33.653136341755996,
            -33.653140185879934,
            -33.653146922535825,
            -33.65315716238852,
            -33.65317096148306,
            -33.65318756358781,
            -33.65320537466398,
            -33.65322204545918,
            -33.653234802615145,
            -33.6532414143976,
            -33.653241234137965,
            -33.653235621084384,
            -33.653227769341115,
            -33.65322147080545
           ],
           "legendgroup": "No",
           "lon": [
            41.352247116206215,
            40.36342767834666,
            39.376805266202894,
            38.390699763057704,
            37.404796149060054,
            36.418990981105324,
            35.43324000776468,
            34.44752128436517,
            33.461822540741665,
            32.4761367528195,
            31.490460425964113,
            30.504791486377346,
            29.51912902411724,
            28.533472637072357,
            27.547822356658482,
            26.562178052053184,
            25.576539469431218,
            24.590906006934922,
            23.605276750593017,
            22.619650587756922,
            21.63402609202697,
            20.648401485040587,
            19.662775238433277,
            18.677146439117852,
            17.691514418945296,
            16.705879847453417,
            15.720244472728806,
            14.734610630532533,
            13.748980713901286,
            12.763355923907275,
            11.777736087309666
           ],
           "marker": {
            "color": "#636efa",
            "opacity": 0.3,
            "symbol": "circle"
           },
           "mode": "markers",
           "name": "No",
           "showlegend": true,
           "type": "scattergeo"
          }
         ],
         "name": "21"
        },
        {
         "data": [
          {
           "customdata": [
            [
             -11.612442870910698,
             175.54202667888234
            ],
            [
             -11.584007445201427,
             176.3817271912293
            ],
            [
             -11.56255025358172,
             177.2197548687979
            ],
            [
             -11.546892276063359,
             178.05742172953066
            ],
            [
             -11.536809315782106,
             178.8949664497688
            ],
            [
             -11.532228557925775,
             179.7324548757856
            ],
            [
             -11.53311821519671,
             180.569903716256
            ],
            [
             -11.539460465727666,
             181.40731100143952
            ],
            [
             -11.551243110973127,
             182.2446667185893
            ],
            [
             -11.568456416137163,
             183.0819565377287
            ],
            [
             -11.59109164140831,
             183.91916330109476
            ],
            [
             -11.61914037962484,
             184.7562688725472
            ],
            [
             -11.652593901792887,
             185.59325429833444
            ],
            [
             -11.691443215031617,
             186.43010045887044
            ],
            [
             -11.735679002307435,
             187.26678814718304
            ],
            [
             -11.785291196112247,
             188.10329860416218
            ],
            [
             -11.840268816518355,
             188.93961351112716
            ],
            [
             -11.900600055301071,
             189.77571525983214
            ],
            [
             -11.966271982190948,
             190.61158695417785
            ],
            [
             -12.037269944925523,
             191.4472123584131
            ],
            [
             -12.113577603476017,
             192.28257609284148
            ],
            [
             -12.19517694707157,
             193.1176637425146
            ],
            [
             -12.282047994597928,
             193.95246140035667
            ],
            [
             -12.374168770027003,
             194.78695545398426
            ],
            [
             -12.471515416139734,
             195.62113295524955
            ],
            [
             -12.574062391490052,
             196.45498065806675
            ],
            [
             -12.681783440943166,
             197.28848523706893
            ],
            [
             -12.79465267599209,
             198.12163357043264
            ],
            [
             -12.912645044636976,
             198.9544131011237
            ],
            [
             -13.03573630832181,
             199.7868129274976
            ],
            [
             -13.163901810290316,
             200.61882409614003
            ]
           ],
           "geo": "geo",
           "hovertemplate": "visible=No<br>hour=22<br>latitude=%{lat}<br>longitude=%{lon}<br>elevation=%{customdata[0]}<br>azimuth=%{customdata[1]}<extra></extra>",
           "lat": [
            -33.65070417945211,
            -33.65200438033704,
            -33.65242138894212,
            -33.65262757153192,
            -33.65275391538269,
            -33.65284319780615,
            -33.65291269321252,
            -33.652969712358,
            -33.6530173336736,
            -33.653056843880634,
            -33.653088821938795,
            -33.65311372693579,
            -33.65313192937546,
            -33.65314414219689,
            -33.653151590700126,
            -33.653155701699575,
            -33.65315802511804,
            -33.65316035125343,
            -33.653164444504164,
            -33.653171466152756,
            -33.653182001927085,
            -33.653196069372946,
            -33.65321286406641,
            -33.65323076841338,
            -33.65324743569877,
            -33.653260108809405,
            -33.65326658494316,
            -33.6532662668794,
            -33.653260582521284,
            -33.653252791972,
            -33.653246685729634
           ],
           "legendgroup": "No",
           "lon": [
            26.310920090983345,
            25.32230471457618,
            24.3357175087806,
            23.349623951357906,
            22.36372567728279,
            21.377923242805014,
            20.39217374987095,
            19.406455853057683,
            18.420757568900022,
            17.43507204151181,
            16.449395874830934,
            15.463727011616776,
            14.478064601597762,
            13.492408265324997,
            12.50675803017393,
            11.521113756605958,
            10.53547519803991,
            9.5498417187845,
            8.564212360335112,
            7.57858601645374,
            6.592961272610878,
            5.607336348122613,
            4.621709739112076,
            3.6360805491130628,
            2.650448119226803,
            1.6648131904473202,
            0.6791775510649664,
            -0.30645645288481244,
            -1.2920864374792602,
            -2.2777112714696486,
            -3.2633312015904576
           ],
           "marker": {
            "color": "#636efa",
            "opacity": 0.3,
            "symbol": "circle"
           },
           "mode": "markers",
           "name": "No",
           "showlegend": true,
           "type": "scattergeo"
          }
         ],
         "name": "22"
        }
       ],
       "layout": {
        "geo": {
         "center": {},
         "domain": {
          "x": [
           0,
           1
          ],
          "y": [
           0,
           1
          ]
         },
         "projection": {
          "type": "orthographic"
         }
        },
        "legend": {
         "title": {
          "text": "visible"
         },
         "tracegroupgap": 0
        },
        "margin": {
         "t": 60
        },
        "sliders": [
         {
          "active": 0,
          "currentvalue": {
           "prefix": "hour="
          },
          "len": 0.9,
          "pad": {
           "b": 10,
           "t": 60
          },
          "steps": [
           {
            "args": [
             [
              "23"
             ],
             {
              "frame": {
               "duration": 0,
               "redraw": true
              },
              "fromcurrent": true,
              "mode": "immediate",
              "transition": {
               "duration": 0,
               "easing": "linear"
              }
             }
            ],
            "label": "23",
            "method": "animate"
           },
           {
            "args": [
             [
              "0"
             ],
             {
              "frame": {
               "duration": 0,
               "redraw": true
              },
              "fromcurrent": true,
              "mode": "immediate",
              "transition": {
               "duration": 0,
               "easing": "linear"
              }
             }
            ],
            "label": "0",
            "method": "animate"
           },
           {
            "args": [
             [
              "1"
             ],
             {
              "frame": {
               "duration": 0,
               "redraw": true
              },
              "fromcurrent": true,
              "mode": "immediate",
              "transition": {
               "duration": 0,
               "easing": "linear"
              }
             }
            ],
            "label": "1",
            "method": "animate"
           },
           {
            "args": [
             [
              "2"
             ],
             {
              "frame": {
               "duration": 0,
               "redraw": true
              },
              "fromcurrent": true,
              "mode": "immediate",
              "transition": {
               "duration": 0,
               "easing": "linear"
              }
             }
            ],
            "label": "2",
            "method": "animate"
           },
           {
            "args": [
             [
              "3"
             ],
             {
              "frame": {
               "duration": 0,
               "redraw": true
              },
              "fromcurrent": true,
              "mode": "immediate",
              "transition": {
               "duration": 0,
               "easing": "linear"
              }
             }
            ],
            "label": "3",
            "method": "animate"
           },
           {
            "args": [
             [
              "4"
             ],
             {
              "frame": {
               "duration": 0,
               "redraw": true
              },
              "fromcurrent": true,
              "mode": "immediate",
              "transition": {
               "duration": 0,
               "easing": "linear"
              }
             }
            ],
            "label": "4",
            "method": "animate"
           },
           {
            "args": [
             [
              "5"
             ],
             {
              "frame": {
               "duration": 0,
               "redraw": true
              },
              "fromcurrent": true,
              "mode": "immediate",
              "transition": {
               "duration": 0,
               "easing": "linear"
              }
             }
            ],
            "label": "5",
            "method": "animate"
           },
           {
            "args": [
             [
              "6"
             ],
             {
              "frame": {
               "duration": 0,
               "redraw": true
              },
              "fromcurrent": true,
              "mode": "immediate",
              "transition": {
               "duration": 0,
               "easing": "linear"
              }
             }
            ],
            "label": "6",
            "method": "animate"
           },
           {
            "args": [
             [
              "7"
             ],
             {
              "frame": {
               "duration": 0,
               "redraw": true
              },
              "fromcurrent": true,
              "mode": "immediate",
              "transition": {
               "duration": 0,
               "easing": "linear"
              }
             }
            ],
            "label": "7",
            "method": "animate"
           },
           {
            "args": [
             [
              "8"
             ],
             {
              "frame": {
               "duration": 0,
               "redraw": true
              },
              "fromcurrent": true,
              "mode": "immediate",
              "transition": {
               "duration": 0,
               "easing": "linear"
              }
             }
            ],
            "label": "8",
            "method": "animate"
           },
           {
            "args": [
             [
              "9"
             ],
             {
              "frame": {
               "duration": 0,
               "redraw": true
              },
              "fromcurrent": true,
              "mode": "immediate",
              "transition": {
               "duration": 0,
               "easing": "linear"
              }
             }
            ],
            "label": "9",
            "method": "animate"
           },
           {
            "args": [
             [
              "10"
             ],
             {
              "frame": {
               "duration": 0,
               "redraw": true
              },
              "fromcurrent": true,
              "mode": "immediate",
              "transition": {
               "duration": 0,
               "easing": "linear"
              }
             }
            ],
            "label": "10",
            "method": "animate"
           },
           {
            "args": [
             [
              "11"
             ],
             {
              "frame": {
               "duration": 0,
               "redraw": true
              },
              "fromcurrent": true,
              "mode": "immediate",
              "transition": {
               "duration": 0,
               "easing": "linear"
              }
             }
            ],
            "label": "11",
            "method": "animate"
           },
           {
            "args": [
             [
              "12"
             ],
             {
              "frame": {
               "duration": 0,
               "redraw": true
              },
              "fromcurrent": true,
              "mode": "immediate",
              "transition": {
               "duration": 0,
               "easing": "linear"
              }
             }
            ],
            "label": "12",
            "method": "animate"
           },
           {
            "args": [
             [
              "13"
             ],
             {
              "frame": {
               "duration": 0,
               "redraw": true
              },
              "fromcurrent": true,
              "mode": "immediate",
              "transition": {
               "duration": 0,
               "easing": "linear"
              }
             }
            ],
            "label": "13",
            "method": "animate"
           },
           {
            "args": [
             [
              "14"
             ],
             {
              "frame": {
               "duration": 0,
               "redraw": true
              },
              "fromcurrent": true,
              "mode": "immediate",
              "transition": {
               "duration": 0,
               "easing": "linear"
              }
             }
            ],
            "label": "14",
            "method": "animate"
           },
           {
            "args": [
             [
              "15"
             ],
             {
              "frame": {
               "duration": 0,
               "redraw": true
              },
              "fromcurrent": true,
              "mode": "immediate",
              "transition": {
               "duration": 0,
               "easing": "linear"
              }
             }
            ],
            "label": "15",
            "method": "animate"
           },
           {
            "args": [
             [
              "16"
             ],
             {
              "frame": {
               "duration": 0,
               "redraw": true
              },
              "fromcurrent": true,
              "mode": "immediate",
              "transition": {
               "duration": 0,
               "easing": "linear"
              }
             }
            ],
            "label": "16",
            "method": "animate"
           },
           {
            "args": [
             [
              "17"
             ],
             {
              "frame": {
               "duration": 0,
               "redraw": true
              },
              "fromcurrent": true,
              "mode": "immediate",
              "transition": {
               "duration": 0,
               "easing": "linear"
              }
             }
            ],
            "label": "17",
            "method": "animate"
           },
           {
            "args": [
             [
              "18"
             ],
             {
              "frame": {
               "duration": 0,
               "redraw": true
              },
              "fromcurrent": true,
              "mode": "immediate",
              "transition": {
               "duration": 0,
               "easing": "linear"
              }
             }
            ],
            "label": "18",
            "method": "animate"
           },
           {
            "args": [
             [
              "19"
             ],
             {
              "frame": {
               "duration": 0,
               "redraw": true
              },
              "fromcurrent": true,
              "mode": "immediate",
              "transition": {
               "duration": 0,
               "easing": "linear"
              }
             }
            ],
            "label": "19",
            "method": "animate"
           },
           {
            "args": [
             [
              "20"
             ],
             {
              "frame": {
               "duration": 0,
               "redraw": true
              },
              "fromcurrent": true,
              "mode": "immediate",
              "transition": {
               "duration": 0,
               "easing": "linear"
              }
             }
            ],
            "label": "20",
            "method": "animate"
           },
           {
            "args": [
             [
              "21"
             ],
             {
              "frame": {
               "duration": 0,
               "redraw": true
              },
              "fromcurrent": true,
              "mode": "immediate",
              "transition": {
               "duration": 0,
               "easing": "linear"
              }
             }
            ],
            "label": "21",
            "method": "animate"
           },
           {
            "args": [
             [
              "22"
             ],
             {
              "frame": {
               "duration": 0,
               "redraw": true
              },
              "fromcurrent": true,
              "mode": "immediate",
              "transition": {
               "duration": 0,
               "easing": "linear"
              }
             }
            ],
            "label": "22",
            "method": "animate"
           }
          ],
          "x": 0.1,
          "xanchor": "left",
          "y": 0,
          "yanchor": "top"
         }
        ],
        "template": {
         "data": {
          "bar": [
           {
            "error_x": {
             "color": "#2a3f5f"
            },
            "error_y": {
             "color": "#2a3f5f"
            },
            "marker": {
             "line": {
              "color": "#E5ECF6",
              "width": 0.5
             },
             "pattern": {
              "fillmode": "overlay",
              "size": 10,
              "solidity": 0.2
             }
            },
            "type": "bar"
           }
          ],
          "barpolar": [
           {
            "marker": {
             "line": {
              "color": "#E5ECF6",
              "width": 0.5
             },
             "pattern": {
              "fillmode": "overlay",
              "size": 10,
              "solidity": 0.2
             }
            },
            "type": "barpolar"
           }
          ],
          "carpet": [
           {
            "aaxis": {
             "endlinecolor": "#2a3f5f",
             "gridcolor": "white",
             "linecolor": "white",
             "minorgridcolor": "white",
             "startlinecolor": "#2a3f5f"
            },
            "baxis": {
             "endlinecolor": "#2a3f5f",
             "gridcolor": "white",
             "linecolor": "white",
             "minorgridcolor": "white",
             "startlinecolor": "#2a3f5f"
            },
            "type": "carpet"
           }
          ],
          "choropleth": [
           {
            "colorbar": {
             "outlinewidth": 0,
             "ticks": ""
            },
            "type": "choropleth"
           }
          ],
          "contour": [
           {
            "colorbar": {
             "outlinewidth": 0,
             "ticks": ""
            },
            "colorscale": [
             [
              0,
              "#0d0887"
             ],
             [
              0.1111111111111111,
              "#46039f"
             ],
             [
              0.2222222222222222,
              "#7201a8"
             ],
             [
              0.3333333333333333,
              "#9c179e"
             ],
             [
              0.4444444444444444,
              "#bd3786"
             ],
             [
              0.5555555555555556,
              "#d8576b"
             ],
             [
              0.6666666666666666,
              "#ed7953"
             ],
             [
              0.7777777777777778,
              "#fb9f3a"
             ],
             [
              0.8888888888888888,
              "#fdca26"
             ],
             [
              1,
              "#f0f921"
             ]
            ],
            "type": "contour"
           }
          ],
          "contourcarpet": [
           {
            "colorbar": {
             "outlinewidth": 0,
             "ticks": ""
            },
            "type": "contourcarpet"
           }
          ],
          "heatmap": [
           {
            "colorbar": {
             "outlinewidth": 0,
             "ticks": ""
            },
            "colorscale": [
             [
              0,
              "#0d0887"
             ],
             [
              0.1111111111111111,
              "#46039f"
             ],
             [
              0.2222222222222222,
              "#7201a8"
             ],
             [
              0.3333333333333333,
              "#9c179e"
             ],
             [
              0.4444444444444444,
              "#bd3786"
             ],
             [
              0.5555555555555556,
              "#d8576b"
             ],
             [
              0.6666666666666666,
              "#ed7953"
             ],
             [
              0.7777777777777778,
              "#fb9f3a"
             ],
             [
              0.8888888888888888,
              "#fdca26"
             ],
             [
              1,
              "#f0f921"
             ]
            ],
            "type": "heatmap"
           }
          ],
          "heatmapgl": [
           {
            "colorbar": {
             "outlinewidth": 0,
             "ticks": ""
            },
            "colorscale": [
             [
              0,
              "#0d0887"
             ],
             [
              0.1111111111111111,
              "#46039f"
             ],
             [
              0.2222222222222222,
              "#7201a8"
             ],
             [
              0.3333333333333333,
              "#9c179e"
             ],
             [
              0.4444444444444444,
              "#bd3786"
             ],
             [
              0.5555555555555556,
              "#d8576b"
             ],
             [
              0.6666666666666666,
              "#ed7953"
             ],
             [
              0.7777777777777778,
              "#fb9f3a"
             ],
             [
              0.8888888888888888,
              "#fdca26"
             ],
             [
              1,
              "#f0f921"
             ]
            ],
            "type": "heatmapgl"
           }
          ],
          "histogram": [
           {
            "marker": {
             "pattern": {
              "fillmode": "overlay",
              "size": 10,
              "solidity": 0.2
             }
            },
            "type": "histogram"
           }
          ],
          "histogram2d": [
           {
            "colorbar": {
             "outlinewidth": 0,
             "ticks": ""
            },
            "colorscale": [
             [
              0,
              "#0d0887"
             ],
             [
              0.1111111111111111,
              "#46039f"
             ],
             [
              0.2222222222222222,
              "#7201a8"
             ],
             [
              0.3333333333333333,
              "#9c179e"
             ],
             [
              0.4444444444444444,
              "#bd3786"
             ],
             [
              0.5555555555555556,
              "#d8576b"
             ],
             [
              0.6666666666666666,
              "#ed7953"
             ],
             [
              0.7777777777777778,
              "#fb9f3a"
             ],
             [
              0.8888888888888888,
              "#fdca26"
             ],
             [
              1,
              "#f0f921"
             ]
            ],
            "type": "histogram2d"
           }
          ],
          "histogram2dcontour": [
           {
            "colorbar": {
             "outlinewidth": 0,
             "ticks": ""
            },
            "colorscale": [
             [
              0,
              "#0d0887"
             ],
             [
              0.1111111111111111,
              "#46039f"
             ],
             [
              0.2222222222222222,
              "#7201a8"
             ],
             [
              0.3333333333333333,
              "#9c179e"
             ],
             [
              0.4444444444444444,
              "#bd3786"
             ],
             [
              0.5555555555555556,
              "#d8576b"
             ],
             [
              0.6666666666666666,
              "#ed7953"
             ],
             [
              0.7777777777777778,
              "#fb9f3a"
             ],
             [
              0.8888888888888888,
              "#fdca26"
             ],
             [
              1,
              "#f0f921"
             ]
            ],
            "type": "histogram2dcontour"
           }
          ],
          "mesh3d": [
           {
            "colorbar": {
             "outlinewidth": 0,
             "ticks": ""
            },
            "type": "mesh3d"
           }
          ],
          "parcoords": [
           {
            "line": {
             "colorbar": {
              "outlinewidth": 0,
              "ticks": ""
             }
            },
            "type": "parcoords"
           }
          ],
          "pie": [
           {
            "automargin": true,
            "type": "pie"
           }
          ],
          "scatter": [
           {
            "marker": {
             "colorbar": {
              "outlinewidth": 0,
              "ticks": ""
             }
            },
            "type": "scatter"
           }
          ],
          "scatter3d": [
           {
            "line": {
             "colorbar": {
              "outlinewidth": 0,
              "ticks": ""
             }
            },
            "marker": {
             "colorbar": {
              "outlinewidth": 0,
              "ticks": ""
             }
            },
            "type": "scatter3d"
           }
          ],
          "scattercarpet": [
           {
            "marker": {
             "colorbar": {
              "outlinewidth": 0,
              "ticks": ""
             }
            },
            "type": "scattercarpet"
           }
          ],
          "scattergeo": [
           {
            "marker": {
             "colorbar": {
              "outlinewidth": 0,
              "ticks": ""
             }
            },
            "type": "scattergeo"
           }
          ],
          "scattergl": [
           {
            "marker": {
             "colorbar": {
              "outlinewidth": 0,
              "ticks": ""
             }
            },
            "type": "scattergl"
           }
          ],
          "scattermapbox": [
           {
            "marker": {
             "colorbar": {
              "outlinewidth": 0,
              "ticks": ""
             }
            },
            "type": "scattermapbox"
           }
          ],
          "scatterpolar": [
           {
            "marker": {
             "colorbar": {
              "outlinewidth": 0,
              "ticks": ""
             }
            },
            "type": "scatterpolar"
           }
          ],
          "scatterpolargl": [
           {
            "marker": {
             "colorbar": {
              "outlinewidth": 0,
              "ticks": ""
             }
            },
            "type": "scatterpolargl"
           }
          ],
          "scatterternary": [
           {
            "marker": {
             "colorbar": {
              "outlinewidth": 0,
              "ticks": ""
             }
            },
            "type": "scatterternary"
           }
          ],
          "surface": [
           {
            "colorbar": {
             "outlinewidth": 0,
             "ticks": ""
            },
            "colorscale": [
             [
              0,
              "#0d0887"
             ],
             [
              0.1111111111111111,
              "#46039f"
             ],
             [
              0.2222222222222222,
              "#7201a8"
             ],
             [
              0.3333333333333333,
              "#9c179e"
             ],
             [
              0.4444444444444444,
              "#bd3786"
             ],
             [
              0.5555555555555556,
              "#d8576b"
             ],
             [
              0.6666666666666666,
              "#ed7953"
             ],
             [
              0.7777777777777778,
              "#fb9f3a"
             ],
             [
              0.8888888888888888,
              "#fdca26"
             ],
             [
              1,
              "#f0f921"
             ]
            ],
            "type": "surface"
           }
          ],
          "table": [
           {
            "cells": {
             "fill": {
              "color": "#EBF0F8"
             },
             "line": {
              "color": "white"
             }
            },
            "header": {
             "fill": {
              "color": "#C8D4E3"
             },
             "line": {
              "color": "white"
             }
            },
            "type": "table"
           }
          ]
         },
         "layout": {
          "annotationdefaults": {
           "arrowcolor": "#2a3f5f",
           "arrowhead": 0,
           "arrowwidth": 1
          },
          "autotypenumbers": "strict",
          "coloraxis": {
           "colorbar": {
            "outlinewidth": 0,
            "ticks": ""
           }
          },
          "colorscale": {
           "diverging": [
            [
             0,
             "#8e0152"
            ],
            [
             0.1,
             "#c51b7d"
            ],
            [
             0.2,
             "#de77ae"
            ],
            [
             0.3,
             "#f1b6da"
            ],
            [
             0.4,
             "#fde0ef"
            ],
            [
             0.5,
             "#f7f7f7"
            ],
            [
             0.6,
             "#e6f5d0"
            ],
            [
             0.7,
             "#b8e186"
            ],
            [
             0.8,
             "#7fbc41"
            ],
            [
             0.9,
             "#4d9221"
            ],
            [
             1,
             "#276419"
            ]
           ],
           "sequential": [
            [
             0,
             "#0d0887"
            ],
            [
             0.1111111111111111,
             "#46039f"
            ],
            [
             0.2222222222222222,
             "#7201a8"
            ],
            [
             0.3333333333333333,
             "#9c179e"
            ],
            [
             0.4444444444444444,
             "#bd3786"
            ],
            [
             0.5555555555555556,
             "#d8576b"
            ],
            [
             0.6666666666666666,
             "#ed7953"
            ],
            [
             0.7777777777777778,
             "#fb9f3a"
            ],
            [
             0.8888888888888888,
             "#fdca26"
            ],
            [
             1,
             "#f0f921"
            ]
           ],
           "sequentialminus": [
            [
             0,
             "#0d0887"
            ],
            [
             0.1111111111111111,
             "#46039f"
            ],
            [
             0.2222222222222222,
             "#7201a8"
            ],
            [
             0.3333333333333333,
             "#9c179e"
            ],
            [
             0.4444444444444444,
             "#bd3786"
            ],
            [
             0.5555555555555556,
             "#d8576b"
            ],
            [
             0.6666666666666666,
             "#ed7953"
            ],
            [
             0.7777777777777778,
             "#fb9f3a"
            ],
            [
             0.8888888888888888,
             "#fdca26"
            ],
            [
             1,
             "#f0f921"
            ]
           ]
          },
          "colorway": [
           "#636efa",
           "#EF553B",
           "#00cc96",
           "#ab63fa",
           "#FFA15A",
           "#19d3f3",
           "#FF6692",
           "#B6E880",
           "#FF97FF",
           "#FECB52"
          ],
          "font": {
           "color": "#2a3f5f"
          },
          "geo": {
           "bgcolor": "white",
           "lakecolor": "white",
           "landcolor": "#E5ECF6",
           "showlakes": true,
           "showland": true,
           "subunitcolor": "white"
          },
          "hoverlabel": {
           "align": "left"
          },
          "hovermode": "closest",
          "mapbox": {
           "style": "light"
          },
          "paper_bgcolor": "white",
          "plot_bgcolor": "#E5ECF6",
          "polar": {
           "angularaxis": {
            "gridcolor": "white",
            "linecolor": "white",
            "ticks": ""
           },
           "bgcolor": "#E5ECF6",
           "radialaxis": {
            "gridcolor": "white",
            "linecolor": "white",
            "ticks": ""
           }
          },
          "scene": {
           "xaxis": {
            "backgroundcolor": "#E5ECF6",
            "gridcolor": "white",
            "gridwidth": 2,
            "linecolor": "white",
            "showbackground": true,
            "ticks": "",
            "zerolinecolor": "white"
           },
           "yaxis": {
            "backgroundcolor": "#E5ECF6",
            "gridcolor": "white",
            "gridwidth": 2,
            "linecolor": "white",
            "showbackground": true,
            "ticks": "",
            "zerolinecolor": "white"
           },
           "zaxis": {
            "backgroundcolor": "#E5ECF6",
            "gridcolor": "white",
            "gridwidth": 2,
            "linecolor": "white",
            "showbackground": true,
            "ticks": "",
            "zerolinecolor": "white"
           }
          },
          "shapedefaults": {
           "line": {
            "color": "#2a3f5f"
           }
          },
          "ternary": {
           "aaxis": {
            "gridcolor": "white",
            "linecolor": "white",
            "ticks": ""
           },
           "baxis": {
            "gridcolor": "white",
            "linecolor": "white",
            "ticks": ""
           },
           "bgcolor": "#E5ECF6",
           "caxis": {
            "gridcolor": "white",
            "linecolor": "white",
            "ticks": ""
           }
          },
          "title": {
           "x": 0.05
          },
          "xaxis": {
           "automargin": true,
           "gridcolor": "white",
           "linecolor": "white",
           "ticks": "",
           "title": {
            "standoff": 15
           },
           "zerolinecolor": "white",
           "zerolinewidth": 2
          },
          "yaxis": {
           "automargin": true,
           "gridcolor": "white",
           "linecolor": "white",
           "ticks": "",
           "title": {
            "standoff": 15
           },
           "zerolinecolor": "white",
           "zerolinewidth": 2
          }
         }
        },
        "updatemenus": [
         {
          "buttons": [
           {
            "args": [
             null,
             {
              "frame": {
               "duration": 500,
               "redraw": true
              },
              "fromcurrent": true,
              "mode": "immediate",
              "transition": {
               "duration": 500,
               "easing": "linear"
              }
             }
            ],
            "label": "&#9654;",
            "method": "animate"
           },
           {
            "args": [
             [
              null
             ],
             {
              "frame": {
               "duration": 0,
               "redraw": true
              },
              "fromcurrent": true,
              "mode": "immediate",
              "transition": {
               "duration": 0,
               "easing": "linear"
              }
             }
            ],
            "label": "&#9724;",
            "method": "animate"
           }
          ],
          "direction": "left",
          "pad": {
           "r": 10,
           "t": 70
          },
          "showactive": false,
          "type": "buttons",
          "x": 0.1,
          "xanchor": "right",
          "y": 0,
          "yanchor": "top"
         }
        ]
       }
      },
      "text/html": [
       "<div>                            <div id=\"d5b7eb74-496f-49da-98d9-1be5c93ae6f9\" class=\"plotly-graph-div\" style=\"height:525px; width:100%;\"></div>            <script type=\"text/javascript\">                require([\"plotly\"], function(Plotly) {                    window.PLOTLYENV=window.PLOTLYENV || {};                                    if (document.getElementById(\"d5b7eb74-496f-49da-98d9-1be5c93ae6f9\")) {                    Plotly.newPlot(                        \"d5b7eb74-496f-49da-98d9-1be5c93ae6f9\",                        [{\"customdata\":[[-32.1423861816526,142.4337231135884],[-11.802683953937128,188.31687613182626],[-11.857135236922648,189.15543267817955],[-11.918226255019094,189.99223297018574],[-11.984976028200759,190.8284143521774],[-12.057176535784155,191.6641922355011],[-12.13474647296758,192.4996288583062],[-12.217639201724408,193.33474275280736],[-12.30581983833724,194.16953608941054],[-12.399258239378023,195.00400436033993],[-12.497926350913112,195.83813969017064],[-12.601796937629974,196.67193216969625],[-12.710843101156831,197.5053716399871],[-12.825037653378486,198.3384477382401],[-12.944353226306442,199.1711505659678],[-13.068762271314954,200.00347073272988],[-13.198236653185022,200.83539988867855],[-13.332747466097254,201.66693070234277],[-13.472265214510438,202.4980571546011],[-13.616759494338206,203.3287745280387],[-13.766198378226122,204.1590793481109],[-13.920548497775155,204.98896960391215],[-14.079775045518314,205.81844485854018],[-14.243841444057518,206.64750577121595],[-14.412709338373416,207.47615389964798],[-14.5863387465749,208.30439203754986],[-14.764688153355909,209.1322231563393],[-14.947715507417549,209.95965059126624],[-15.135379332968109,210.78667820593543],[-15.327639237189542,211.61331069507148],[-15.524455957502358,212.43955471977839],[-15.725790086416172,213.26541927554365]],\"geo\":\"geo\",\"hovertemplate\":\"visible=No<br>hour=23<br>latitude=%{lat}<br>longitude=%{lon}<br>elevation=%{customdata[0]}<br>azimuth=%{customdata[1]}<extra></extra>\",\"lat\":[-0.2805343880709552,-33.65083344608601,-33.65205315159072,-33.65245575723015,-33.65265715630706,-33.65278148655101,-33.65286981368586,-33.6529388099597,-33.65299553527145,-33.6530429290912,-33.653082217751184,-33.653113973615675,-33.65313866273126,-33.65315667781821,-33.65316873652011,-33.65317609343744,-33.653180191893625,-33.65318256007503,-33.653184986277054,-33.65318922620536,-33.65319641930372,-33.653207136366035,-33.65322135719437,-33.65323823176629,-33.65325611762211,-33.65327266649158,-33.65328513963655,-33.65329136509113,-33.65329079603379,-33.65328493570036,-33.65327710670528,-33.653271087051074],\"legendgroup\":\"No\",\"lon\":[56.52442628768894,11.26961142965471,10.281180484991122,9.29462661442599,8.308544535492167,7.322651417903923,6.336851618627396,5.351103539548462,4.365386417293033,3.3796885524708755,2.3940032558327426,1.4083272239586737,0.42265841420980477,-0.5630039652671118,-1.5486602703881158,-2.5343104824394502,-3.5199547495022396,-4.50559330632807,-5.491226824229558,-6.476856307015816,-7.462482851342507,-8.448107861156691,-9.43373311814987,-10.419360099378585,-11.404989687894654,-12.390622535641299,-13.376257832449697,-14.361893748158197,-15.347527921945268,-16.333157978484213,-17.318782860106015,-18.304402887814312],\"marker\":{\"color\":\"#636efa\",\"opacity\":0.3,\"symbol\":\"circle\"},\"mode\":\"markers\",\"name\":\"No\",\"showlegend\":true,\"type\":\"scattergeo\"}],                        {\"template\":{\"data\":{\"bar\":[{\"error_x\":{\"color\":\"#2a3f5f\"},\"error_y\":{\"color\":\"#2a3f5f\"},\"marker\":{\"line\":{\"color\":\"#E5ECF6\",\"width\":0.5},\"pattern\":{\"fillmode\":\"overlay\",\"size\":10,\"solidity\":0.2}},\"type\":\"bar\"}],\"barpolar\":[{\"marker\":{\"line\":{\"color\":\"#E5ECF6\",\"width\":0.5},\"pattern\":{\"fillmode\":\"overlay\",\"size\":10,\"solidity\":0.2}},\"type\":\"barpolar\"}],\"carpet\":[{\"aaxis\":{\"endlinecolor\":\"#2a3f5f\",\"gridcolor\":\"white\",\"linecolor\":\"white\",\"minorgridcolor\":\"white\",\"startlinecolor\":\"#2a3f5f\"},\"baxis\":{\"endlinecolor\":\"#2a3f5f\",\"gridcolor\":\"white\",\"linecolor\":\"white\",\"minorgridcolor\":\"white\",\"startlinecolor\":\"#2a3f5f\"},\"type\":\"carpet\"}],\"choropleth\":[{\"colorbar\":{\"outlinewidth\":0,\"ticks\":\"\"},\"type\":\"choropleth\"}],\"contour\":[{\"colorbar\":{\"outlinewidth\":0,\"ticks\":\"\"},\"colorscale\":[[0.0,\"#0d0887\"],[0.1111111111111111,\"#46039f\"],[0.2222222222222222,\"#7201a8\"],[0.3333333333333333,\"#9c179e\"],[0.4444444444444444,\"#bd3786\"],[0.5555555555555556,\"#d8576b\"],[0.6666666666666666,\"#ed7953\"],[0.7777777777777778,\"#fb9f3a\"],[0.8888888888888888,\"#fdca26\"],[1.0,\"#f0f921\"]],\"type\":\"contour\"}],\"contourcarpet\":[{\"colorbar\":{\"outlinewidth\":0,\"ticks\":\"\"},\"type\":\"contourcarpet\"}],\"heatmap\":[{\"colorbar\":{\"outlinewidth\":0,\"ticks\":\"\"},\"colorscale\":[[0.0,\"#0d0887\"],[0.1111111111111111,\"#46039f\"],[0.2222222222222222,\"#7201a8\"],[0.3333333333333333,\"#9c179e\"],[0.4444444444444444,\"#bd3786\"],[0.5555555555555556,\"#d8576b\"],[0.6666666666666666,\"#ed7953\"],[0.7777777777777778,\"#fb9f3a\"],[0.8888888888888888,\"#fdca26\"],[1.0,\"#f0f921\"]],\"type\":\"heatmap\"}],\"heatmapgl\":[{\"colorbar\":{\"outlinewidth\":0,\"ticks\":\"\"},\"colorscale\":[[0.0,\"#0d0887\"],[0.1111111111111111,\"#46039f\"],[0.2222222222222222,\"#7201a8\"],[0.3333333333333333,\"#9c179e\"],[0.4444444444444444,\"#bd3786\"],[0.5555555555555556,\"#d8576b\"],[0.6666666666666666,\"#ed7953\"],[0.7777777777777778,\"#fb9f3a\"],[0.8888888888888888,\"#fdca26\"],[1.0,\"#f0f921\"]],\"type\":\"heatmapgl\"}],\"histogram\":[{\"marker\":{\"pattern\":{\"fillmode\":\"overlay\",\"size\":10,\"solidity\":0.2}},\"type\":\"histogram\"}],\"histogram2d\":[{\"colorbar\":{\"outlinewidth\":0,\"ticks\":\"\"},\"colorscale\":[[0.0,\"#0d0887\"],[0.1111111111111111,\"#46039f\"],[0.2222222222222222,\"#7201a8\"],[0.3333333333333333,\"#9c179e\"],[0.4444444444444444,\"#bd3786\"],[0.5555555555555556,\"#d8576b\"],[0.6666666666666666,\"#ed7953\"],[0.7777777777777778,\"#fb9f3a\"],[0.8888888888888888,\"#fdca26\"],[1.0,\"#f0f921\"]],\"type\":\"histogram2d\"}],\"histogram2dcontour\":[{\"colorbar\":{\"outlinewidth\":0,\"ticks\":\"\"},\"colorscale\":[[0.0,\"#0d0887\"],[0.1111111111111111,\"#46039f\"],[0.2222222222222222,\"#7201a8\"],[0.3333333333333333,\"#9c179e\"],[0.4444444444444444,\"#bd3786\"],[0.5555555555555556,\"#d8576b\"],[0.6666666666666666,\"#ed7953\"],[0.7777777777777778,\"#fb9f3a\"],[0.8888888888888888,\"#fdca26\"],[1.0,\"#f0f921\"]],\"type\":\"histogram2dcontour\"}],\"mesh3d\":[{\"colorbar\":{\"outlinewidth\":0,\"ticks\":\"\"},\"type\":\"mesh3d\"}],\"parcoords\":[{\"line\":{\"colorbar\":{\"outlinewidth\":0,\"ticks\":\"\"}},\"type\":\"parcoords\"}],\"pie\":[{\"automargin\":true,\"type\":\"pie\"}],\"scatter\":[{\"marker\":{\"colorbar\":{\"outlinewidth\":0,\"ticks\":\"\"}},\"type\":\"scatter\"}],\"scatter3d\":[{\"line\":{\"colorbar\":{\"outlinewidth\":0,\"ticks\":\"\"}},\"marker\":{\"colorbar\":{\"outlinewidth\":0,\"ticks\":\"\"}},\"type\":\"scatter3d\"}],\"scattercarpet\":[{\"marker\":{\"colorbar\":{\"outlinewidth\":0,\"ticks\":\"\"}},\"type\":\"scattercarpet\"}],\"scattergeo\":[{\"marker\":{\"colorbar\":{\"outlinewidth\":0,\"ticks\":\"\"}},\"type\":\"scattergeo\"}],\"scattergl\":[{\"marker\":{\"colorbar\":{\"outlinewidth\":0,\"ticks\":\"\"}},\"type\":\"scattergl\"}],\"scattermapbox\":[{\"marker\":{\"colorbar\":{\"outlinewidth\":0,\"ticks\":\"\"}},\"type\":\"scattermapbox\"}],\"scatterpolar\":[{\"marker\":{\"colorbar\":{\"outlinewidth\":0,\"ticks\":\"\"}},\"type\":\"scatterpolar\"}],\"scatterpolargl\":[{\"marker\":{\"colorbar\":{\"outlinewidth\":0,\"ticks\":\"\"}},\"type\":\"scatterpolargl\"}],\"scatterternary\":[{\"marker\":{\"colorbar\":{\"outlinewidth\":0,\"ticks\":\"\"}},\"type\":\"scatterternary\"}],\"surface\":[{\"colorbar\":{\"outlinewidth\":0,\"ticks\":\"\"},\"colorscale\":[[0.0,\"#0d0887\"],[0.1111111111111111,\"#46039f\"],[0.2222222222222222,\"#7201a8\"],[0.3333333333333333,\"#9c179e\"],[0.4444444444444444,\"#bd3786\"],[0.5555555555555556,\"#d8576b\"],[0.6666666666666666,\"#ed7953\"],[0.7777777777777778,\"#fb9f3a\"],[0.8888888888888888,\"#fdca26\"],[1.0,\"#f0f921\"]],\"type\":\"surface\"}],\"table\":[{\"cells\":{\"fill\":{\"color\":\"#EBF0F8\"},\"line\":{\"color\":\"white\"}},\"header\":{\"fill\":{\"color\":\"#C8D4E3\"},\"line\":{\"color\":\"white\"}},\"type\":\"table\"}]},\"layout\":{\"annotationdefaults\":{\"arrowcolor\":\"#2a3f5f\",\"arrowhead\":0,\"arrowwidth\":1},\"autotypenumbers\":\"strict\",\"coloraxis\":{\"colorbar\":{\"outlinewidth\":0,\"ticks\":\"\"}},\"colorscale\":{\"diverging\":[[0,\"#8e0152\"],[0.1,\"#c51b7d\"],[0.2,\"#de77ae\"],[0.3,\"#f1b6da\"],[0.4,\"#fde0ef\"],[0.5,\"#f7f7f7\"],[0.6,\"#e6f5d0\"],[0.7,\"#b8e186\"],[0.8,\"#7fbc41\"],[0.9,\"#4d9221\"],[1,\"#276419\"]],\"sequential\":[[0.0,\"#0d0887\"],[0.1111111111111111,\"#46039f\"],[0.2222222222222222,\"#7201a8\"],[0.3333333333333333,\"#9c179e\"],[0.4444444444444444,\"#bd3786\"],[0.5555555555555556,\"#d8576b\"],[0.6666666666666666,\"#ed7953\"],[0.7777777777777778,\"#fb9f3a\"],[0.8888888888888888,\"#fdca26\"],[1.0,\"#f0f921\"]],\"sequentialminus\":[[0.0,\"#0d0887\"],[0.1111111111111111,\"#46039f\"],[0.2222222222222222,\"#7201a8\"],[0.3333333333333333,\"#9c179e\"],[0.4444444444444444,\"#bd3786\"],[0.5555555555555556,\"#d8576b\"],[0.6666666666666666,\"#ed7953\"],[0.7777777777777778,\"#fb9f3a\"],[0.8888888888888888,\"#fdca26\"],[1.0,\"#f0f921\"]]},\"colorway\":[\"#636efa\",\"#EF553B\",\"#00cc96\",\"#ab63fa\",\"#FFA15A\",\"#19d3f3\",\"#FF6692\",\"#B6E880\",\"#FF97FF\",\"#FECB52\"],\"font\":{\"color\":\"#2a3f5f\"},\"geo\":{\"bgcolor\":\"white\",\"lakecolor\":\"white\",\"landcolor\":\"#E5ECF6\",\"showlakes\":true,\"showland\":true,\"subunitcolor\":\"white\"},\"hoverlabel\":{\"align\":\"left\"},\"hovermode\":\"closest\",\"mapbox\":{\"style\":\"light\"},\"paper_bgcolor\":\"white\",\"plot_bgcolor\":\"#E5ECF6\",\"polar\":{\"angularaxis\":{\"gridcolor\":\"white\",\"linecolor\":\"white\",\"ticks\":\"\"},\"bgcolor\":\"#E5ECF6\",\"radialaxis\":{\"gridcolor\":\"white\",\"linecolor\":\"white\",\"ticks\":\"\"}},\"scene\":{\"xaxis\":{\"backgroundcolor\":\"#E5ECF6\",\"gridcolor\":\"white\",\"gridwidth\":2,\"linecolor\":\"white\",\"showbackground\":true,\"ticks\":\"\",\"zerolinecolor\":\"white\"},\"yaxis\":{\"backgroundcolor\":\"#E5ECF6\",\"gridcolor\":\"white\",\"gridwidth\":2,\"linecolor\":\"white\",\"showbackground\":true,\"ticks\":\"\",\"zerolinecolor\":\"white\"},\"zaxis\":{\"backgroundcolor\":\"#E5ECF6\",\"gridcolor\":\"white\",\"gridwidth\":2,\"linecolor\":\"white\",\"showbackground\":true,\"ticks\":\"\",\"zerolinecolor\":\"white\"}},\"shapedefaults\":{\"line\":{\"color\":\"#2a3f5f\"}},\"ternary\":{\"aaxis\":{\"gridcolor\":\"white\",\"linecolor\":\"white\",\"ticks\":\"\"},\"baxis\":{\"gridcolor\":\"white\",\"linecolor\":\"white\",\"ticks\":\"\"},\"bgcolor\":\"#E5ECF6\",\"caxis\":{\"gridcolor\":\"white\",\"linecolor\":\"white\",\"ticks\":\"\"}},\"title\":{\"x\":0.05},\"xaxis\":{\"automargin\":true,\"gridcolor\":\"white\",\"linecolor\":\"white\",\"ticks\":\"\",\"title\":{\"standoff\":15},\"zerolinecolor\":\"white\",\"zerolinewidth\":2},\"yaxis\":{\"automargin\":true,\"gridcolor\":\"white\",\"linecolor\":\"white\",\"ticks\":\"\",\"title\":{\"standoff\":15},\"zerolinecolor\":\"white\",\"zerolinewidth\":2}}},\"geo\":{\"domain\":{\"x\":[0.0,1.0],\"y\":[0.0,1.0]},\"projection\":{\"type\":\"orthographic\"},\"center\":{}},\"legend\":{\"title\":{\"text\":\"visible\"},\"tracegroupgap\":0},\"margin\":{\"t\":60},\"updatemenus\":[{\"buttons\":[{\"args\":[null,{\"frame\":{\"duration\":500,\"redraw\":true},\"mode\":\"immediate\",\"fromcurrent\":true,\"transition\":{\"duration\":500,\"easing\":\"linear\"}}],\"label\":\"&#9654;\",\"method\":\"animate\"},{\"args\":[[null],{\"frame\":{\"duration\":0,\"redraw\":true},\"mode\":\"immediate\",\"fromcurrent\":true,\"transition\":{\"duration\":0,\"easing\":\"linear\"}}],\"label\":\"&#9724;\",\"method\":\"animate\"}],\"direction\":\"left\",\"pad\":{\"r\":10,\"t\":70},\"showactive\":false,\"type\":\"buttons\",\"x\":0.1,\"xanchor\":\"right\",\"y\":0,\"yanchor\":\"top\"}],\"sliders\":[{\"active\":0,\"currentvalue\":{\"prefix\":\"hour=\"},\"len\":0.9,\"pad\":{\"b\":10,\"t\":60},\"steps\":[{\"args\":[[\"23\"],{\"frame\":{\"duration\":0,\"redraw\":true},\"mode\":\"immediate\",\"fromcurrent\":true,\"transition\":{\"duration\":0,\"easing\":\"linear\"}}],\"label\":\"23\",\"method\":\"animate\"},{\"args\":[[\"0\"],{\"frame\":{\"duration\":0,\"redraw\":true},\"mode\":\"immediate\",\"fromcurrent\":true,\"transition\":{\"duration\":0,\"easing\":\"linear\"}}],\"label\":\"0\",\"method\":\"animate\"},{\"args\":[[\"1\"],{\"frame\":{\"duration\":0,\"redraw\":true},\"mode\":\"immediate\",\"fromcurrent\":true,\"transition\":{\"duration\":0,\"easing\":\"linear\"}}],\"label\":\"1\",\"method\":\"animate\"},{\"args\":[[\"2\"],{\"frame\":{\"duration\":0,\"redraw\":true},\"mode\":\"immediate\",\"fromcurrent\":true,\"transition\":{\"duration\":0,\"easing\":\"linear\"}}],\"label\":\"2\",\"method\":\"animate\"},{\"args\":[[\"3\"],{\"frame\":{\"duration\":0,\"redraw\":true},\"mode\":\"immediate\",\"fromcurrent\":true,\"transition\":{\"duration\":0,\"easing\":\"linear\"}}],\"label\":\"3\",\"method\":\"animate\"},{\"args\":[[\"4\"],{\"frame\":{\"duration\":0,\"redraw\":true},\"mode\":\"immediate\",\"fromcurrent\":true,\"transition\":{\"duration\":0,\"easing\":\"linear\"}}],\"label\":\"4\",\"method\":\"animate\"},{\"args\":[[\"5\"],{\"frame\":{\"duration\":0,\"redraw\":true},\"mode\":\"immediate\",\"fromcurrent\":true,\"transition\":{\"duration\":0,\"easing\":\"linear\"}}],\"label\":\"5\",\"method\":\"animate\"},{\"args\":[[\"6\"],{\"frame\":{\"duration\":0,\"redraw\":true},\"mode\":\"immediate\",\"fromcurrent\":true,\"transition\":{\"duration\":0,\"easing\":\"linear\"}}],\"label\":\"6\",\"method\":\"animate\"},{\"args\":[[\"7\"],{\"frame\":{\"duration\":0,\"redraw\":true},\"mode\":\"immediate\",\"fromcurrent\":true,\"transition\":{\"duration\":0,\"easing\":\"linear\"}}],\"label\":\"7\",\"method\":\"animate\"},{\"args\":[[\"8\"],{\"frame\":{\"duration\":0,\"redraw\":true},\"mode\":\"immediate\",\"fromcurrent\":true,\"transition\":{\"duration\":0,\"easing\":\"linear\"}}],\"label\":\"8\",\"method\":\"animate\"},{\"args\":[[\"9\"],{\"frame\":{\"duration\":0,\"redraw\":true},\"mode\":\"immediate\",\"fromcurrent\":true,\"transition\":{\"duration\":0,\"easing\":\"linear\"}}],\"label\":\"9\",\"method\":\"animate\"},{\"args\":[[\"10\"],{\"frame\":{\"duration\":0,\"redraw\":true},\"mode\":\"immediate\",\"fromcurrent\":true,\"transition\":{\"duration\":0,\"easing\":\"linear\"}}],\"label\":\"10\",\"method\":\"animate\"},{\"args\":[[\"11\"],{\"frame\":{\"duration\":0,\"redraw\":true},\"mode\":\"immediate\",\"fromcurrent\":true,\"transition\":{\"duration\":0,\"easing\":\"linear\"}}],\"label\":\"11\",\"method\":\"animate\"},{\"args\":[[\"12\"],{\"frame\":{\"duration\":0,\"redraw\":true},\"mode\":\"immediate\",\"fromcurrent\":true,\"transition\":{\"duration\":0,\"easing\":\"linear\"}}],\"label\":\"12\",\"method\":\"animate\"},{\"args\":[[\"13\"],{\"frame\":{\"duration\":0,\"redraw\":true},\"mode\":\"immediate\",\"fromcurrent\":true,\"transition\":{\"duration\":0,\"easing\":\"linear\"}}],\"label\":\"13\",\"method\":\"animate\"},{\"args\":[[\"14\"],{\"frame\":{\"duration\":0,\"redraw\":true},\"mode\":\"immediate\",\"fromcurrent\":true,\"transition\":{\"duration\":0,\"easing\":\"linear\"}}],\"label\":\"14\",\"method\":\"animate\"},{\"args\":[[\"15\"],{\"frame\":{\"duration\":0,\"redraw\":true},\"mode\":\"immediate\",\"fromcurrent\":true,\"transition\":{\"duration\":0,\"easing\":\"linear\"}}],\"label\":\"15\",\"method\":\"animate\"},{\"args\":[[\"16\"],{\"frame\":{\"duration\":0,\"redraw\":true},\"mode\":\"immediate\",\"fromcurrent\":true,\"transition\":{\"duration\":0,\"easing\":\"linear\"}}],\"label\":\"16\",\"method\":\"animate\"},{\"args\":[[\"17\"],{\"frame\":{\"duration\":0,\"redraw\":true},\"mode\":\"immediate\",\"fromcurrent\":true,\"transition\":{\"duration\":0,\"easing\":\"linear\"}}],\"label\":\"17\",\"method\":\"animate\"},{\"args\":[[\"18\"],{\"frame\":{\"duration\":0,\"redraw\":true},\"mode\":\"immediate\",\"fromcurrent\":true,\"transition\":{\"duration\":0,\"easing\":\"linear\"}}],\"label\":\"18\",\"method\":\"animate\"},{\"args\":[[\"19\"],{\"frame\":{\"duration\":0,\"redraw\":true},\"mode\":\"immediate\",\"fromcurrent\":true,\"transition\":{\"duration\":0,\"easing\":\"linear\"}}],\"label\":\"19\",\"method\":\"animate\"},{\"args\":[[\"20\"],{\"frame\":{\"duration\":0,\"redraw\":true},\"mode\":\"immediate\",\"fromcurrent\":true,\"transition\":{\"duration\":0,\"easing\":\"linear\"}}],\"label\":\"20\",\"method\":\"animate\"},{\"args\":[[\"21\"],{\"frame\":{\"duration\":0,\"redraw\":true},\"mode\":\"immediate\",\"fromcurrent\":true,\"transition\":{\"duration\":0,\"easing\":\"linear\"}}],\"label\":\"21\",\"method\":\"animate\"},{\"args\":[[\"22\"],{\"frame\":{\"duration\":0,\"redraw\":true},\"mode\":\"immediate\",\"fromcurrent\":true,\"transition\":{\"duration\":0,\"easing\":\"linear\"}}],\"label\":\"22\",\"method\":\"animate\"}],\"x\":0.1,\"xanchor\":\"left\",\"y\":0,\"yanchor\":\"top\"}]},                        {\"responsive\": true}                    ).then(function(){\n",
       "                            Plotly.addFrames('d5b7eb74-496f-49da-98d9-1be5c93ae6f9', [{\"data\":[{\"customdata\":[[-32.1423861816526,142.4337231135884],[-11.802683953937128,188.31687613182626],[-11.857135236922648,189.15543267817955],[-11.918226255019094,189.99223297018574],[-11.984976028200759,190.8284143521774],[-12.057176535784155,191.6641922355011],[-12.13474647296758,192.4996288583062],[-12.217639201724408,193.33474275280736],[-12.30581983833724,194.16953608941054],[-12.399258239378023,195.00400436033993],[-12.497926350913112,195.83813969017064],[-12.601796937629974,196.67193216969625],[-12.710843101156831,197.5053716399871],[-12.825037653378486,198.3384477382401],[-12.944353226306442,199.1711505659678],[-13.068762271314954,200.00347073272988],[-13.198236653185022,200.83539988867855],[-13.332747466097254,201.66693070234277],[-13.472265214510438,202.4980571546011],[-13.616759494338206,203.3287745280387],[-13.766198378226122,204.1590793481109],[-13.920548497775155,204.98896960391215],[-14.079775045518314,205.81844485854018],[-14.243841444057518,206.64750577121595],[-14.412709338373416,207.47615389964798],[-14.5863387465749,208.30439203754986],[-14.764688153355909,209.1322231563393],[-14.947715507417549,209.95965059126624],[-15.135379332968109,210.78667820593543],[-15.327639237189542,211.61331069507148],[-15.524455957502358,212.43955471977839],[-15.725790086416172,213.26541927554365]],\"geo\":\"geo\",\"hovertemplate\":\"visible=No<br>hour=23<br>latitude=%{lat}<br>longitude=%{lon}<br>elevation=%{customdata[0]}<br>azimuth=%{customdata[1]}<extra></extra>\",\"lat\":[-0.2805343880709552,-33.65083344608601,-33.65205315159072,-33.65245575723015,-33.65265715630706,-33.65278148655101,-33.65286981368586,-33.6529388099597,-33.65299553527145,-33.6530429290912,-33.653082217751184,-33.653113973615675,-33.65313866273126,-33.65315667781821,-33.65316873652011,-33.65317609343744,-33.653180191893625,-33.65318256007503,-33.653184986277054,-33.65318922620536,-33.65319641930372,-33.653207136366035,-33.65322135719437,-33.65323823176629,-33.65325611762211,-33.65327266649158,-33.65328513963655,-33.65329136509113,-33.65329079603379,-33.65328493570036,-33.65327710670528,-33.653271087051074],\"legendgroup\":\"No\",\"lon\":[56.52442628768894,11.26961142965471,10.281180484991122,9.29462661442599,8.308544535492167,7.322651417903923,6.336851618627396,5.351103539548462,4.365386417293033,3.3796885524708755,2.3940032558327426,1.4083272239586737,0.42265841420980477,-0.5630039652671118,-1.5486602703881158,-2.5343104824394502,-3.5199547495022396,-4.50559330632807,-5.491226824229558,-6.476856307015816,-7.462482851342507,-8.448107861156691,-9.43373311814987,-10.419360099378585,-11.404989687894654,-12.390622535641299,-13.376257832449697,-14.361893748158197,-15.347527921945268,-16.333157978484213,-17.318782860106015,-18.304402887814312],\"marker\":{\"color\":\"#636efa\",\"opacity\":0.3,\"symbol\":\"circle\"},\"mode\":\"markers\",\"name\":\"No\",\"showlegend\":true,\"type\":\"scattergeo\"}],\"name\":\"23\"},{\"data\":[{\"customdata\":[[-13.183707255158744,200.1162170176122],[-13.235811813343469,201.04818624796354],[-13.370039139288785,201.8816409826055],[-13.510318435032417,202.7133484537374],[-13.65583690510285,203.54430002782834],[-13.806401277859615,204.37469895153532],[-13.961923187999854,205.2046136211472],[-14.122343289757374,206.03407382807666],[-14.287612115663096,206.86309512906],[-14.457684252556168,207.69168758740412],[-14.63251614947338,208.51985867886728],[-14.812065033036482,209.347614483713],[-14.996288580867358,210.17496136375703],[-15.185144336319816,211.00190592037296],[-15.378589841771044,211.8284556576901],[-15.576582683453058,212.65461900499486],[-15.779080110961909,213.48040582360292],[-15.986038828304757,214.30582738478776],[-16.197415242749592,215.13089667779906],[-16.413165115206013,215.95562838618983],[-16.633242956566384,216.7800388175309],[-16.857602128761087,217.60414615118555],[-17.08619481270226,218.42797054669126],[-17.318971655735034,219.2515336499421],[-17.555881770367815,220.07485841805584],[-17.796872903343573,220.8979693975895],[-18.041891439382848,221.72089160445034],[-18.290883407222395,222.54365066448915],[-18.543795603169514,223.3662728752215],[-18.800576136898876,224.18878547385742],[-19.061174510204587,225.01121781916038]],\"geo\":\"geo\",\"hovertemplate\":\"visible=No<br>hour=0<br>latitude=%{lat}<br>longitude=%{lon}<br>elevation=%{customdata[0]}<br>azimuth=%{customdata[1]}<extra></extra>\",\"lat\":[-33.59427484334466,-33.65095466688248,-33.65210125527173,-33.65249011726562,-33.65268682562548,-33.65280912127964,-33.65289643513161,-33.65296484828388,-33.65302118701738,-33.65306826280078,-33.65310724482179,-33.65313869630352,-33.65316307894255,-33.653180816320194,-33.653192635650214,-33.65319981207714,-33.65320380460874,-33.6532061291347,-33.653208565530804,-33.65321284394763,-33.65322009166298,-33.65323087378987,-33.65324513178769,-33.65326197448455,-33.653279731819225,-33.653296047055136,-33.65330820229489,-33.653314060022005,-33.65331312557034,-33.6533069867834,-33.653299022552794],\"legendgroup\":\"No\",\"lon\":[-2.6564701013421237,-3.7716817577336474,-4.759945376575237,-5.746467639514369,-6.732538671545628,-7.718426796452331,-8.704224042702721,-9.689970755243046,-10.675687139934434,-11.661384611308364,-12.647069688599162,-13.632745599316502,-14.618414361396544,-15.604076717358712,-16.58973299494739,-17.57538319147059,-18.56102745941308,-19.54666602179532,-20.532299585248406,-21.51792919456122,-22.503555937619748,-23.489181212871898,-24.47480679724811,-25.460434138816215,-26.446064118252192,-27.431697370574106,-28.41733302576899,-29.402969210145177,-30.38860353969386,-31.374233654617157,-32.35985856935739],\"marker\":{\"color\":\"#636efa\",\"opacity\":0.3,\"symbol\":\"circle\"},\"mode\":\"markers\",\"name\":\"No\",\"showlegend\":true,\"type\":\"scattergeo\"}],\"name\":\"0\"},{\"data\":[{\"customdata\":[[-15.664299499972609,212.8212105609823],[-15.835077282677485,213.69199167718014],[-16.041888345704383,214.51911197794468],[-16.25395660860382,215.34471452724512],[-16.47061191925866,216.16967323547857],[-16.69167576290965,216.99418852930734],[-16.91705549992671,217.8183423069065],[-17.146682515607015,218.6421823800388],[-17.380496442773715,219.46574413964913],[-17.61844037799634,220.28905841782878],[-17.86045908952618,221.1121540287751],[-18.10649810915142,221.9350588485725],[-18.356503524664678,222.75780135852597],[-18.61042145084267,223.58041055189858],[-18.86819815772004,224.40291658191688],[-19.129780144001366,225.22535078781934],[-19.395113783940044,226.047746161135],[-19.664145097233607,226.870137345112],[-19.93682002645123,227.69256096089973],[-20.21308405876901,228.5150555742636],[-20.49288165654759,229.33766161467287],[-20.7761563452469,230.1604216617823],[-21.062850632534985,230.98338055460152],[-21.352905645317435,231.80658489122817],[-21.64626112634197,232.6300828888612],[-21.94285559885169,233.45392458258277],[-22.242626308938526,234.2781606760965],[-22.54551022107791,235.10284263132374],[-22.85144513944892,235.92802265119175],[-23.16037029333748,236.7537539456391],[-23.472226404387122,237.58009197093557]],\"geo\":\"geo\",\"hovertemplate\":\"visible=No<br>hour=1<br>latitude=%{lat}<br>longitude=%{lon}<br>elevation=%{customdata[0]}<br>azimuth=%{customdata[1]}<extra></extra>\",\"lat\":[-33.62386612687472,-33.65106722262676,-33.65214715152655,-33.6525228781891,-33.65271497941552,-33.65283521570712,-33.652921454307275,-33.652989197872,-33.653045053942705,-33.65309171938454,-33.653130309440535,-33.653161373638774,-33.65318536068436,-33.65320273049593,-33.65321422639394,-33.653221134301376,-33.65322492737155,-33.6532271208395,-33.653229478370235,-33.65323369017377,-33.65324088134652,-33.653251618130014,-33.65326580409789,-33.653282511321876,-33.65330003840364,-33.65331601256122,-33.653327737796594,-33.653333115963775,-33.65333170957872,-33.653325199367785,-33.65331701229096],\"legendgroup\":\"No\",\"lon\":[-17.765074945267802,-18.812961671175586,-19.801072945649178,-20.787565194727765,-21.77362557523283,-22.75950885075346,-23.745303609420855,-24.731048984623612,-25.716764650652323,-26.70246173775998,-27.688146591830588,-28.673822380651057,-29.659491084557626,-30.645153407722102,-31.630809646617344,-32.6164598193119,-33.60210407817025,-34.58774263760849,-35.57337623773969,-36.559005956156206,-37.544632875746885,-38.53025839609722,-39.515884282962276,-40.50151195459763,-41.487142299727736,-42.47277592462541,-43.45841190904682,-44.44404833447598,-45.42968278549223,-46.415312927162006,-47.40093784342218],\"marker\":{\"color\":\"#636efa\",\"opacity\":0.3,\"symbol\":\"circle\"},\"mode\":\"markers\",\"name\":\"No\",\"showlegend\":true,\"type\":\"scattergeo\"}],\"name\":\"1\"},{\"data\":[{\"customdata\":[[-19.218661772757358,225.40919495139033],[-19.466900970849526,226.2588404189864],[-19.735835011600948,227.08282967762818],[-20.009076635908297,227.9058353473093],[-20.286077603593235,228.72864227835595],[-20.56667438732221,229.55145579599628],[-20.850772603708638,230.3743764486953],[-21.138297367868642,231.1974744939038],[-21.429180510901922,232.02080925553196],[-21.72335671070847,232.8444362401203],[-22.020762048481256,233.66840937073945],[-22.321333265860627,234.4927819825479],[-22.62500765247883,235.31760824838696],[-22.931722575884997,236.1429430456219],[-23.241415588283797,236.96884260703075],[-23.55402451536728,237.79536456492755],[-23.869487128325986,238.62256837887304],[-24.18774089563422,239.45051536715917],[-24.508723258465565,240.2792690713606],[-24.83237122980745,241.10889521090624],[-25.158620870894733,241.93946158943677],[-25.48740734381168,242.77103843686908],[-25.818664773199707,243.60369852473548],[-26.15232587927068,244.43751665840352],[-26.488321968126076,245.27256957840552],[-26.82658307871554,246.10893608037708],[-27.167037888065206,246.94669582880354],[-27.50961468896368,247.78592940950386],[-27.854242501760357,248.62671825454578],[-28.200851690876576,249.4691449320167],[-28.549373987869355,250.3132944686886]],\"geo\":\"geo\",\"hovertemplate\":\"visible=No<br>hour=2<br>latitude=%{lat}<br>longitude=%{lon}<br>elevation=%{customdata[0]}<br>azimuth=%{customdata[1]}<extra></extra>\",\"lat\":[-33.633719649047485,-33.65117042462113,-33.652189377527925,-33.65255253731947,-33.65274011313882,-33.652858267295024,-33.6529433697293,-33.6530103615865,-33.653065643593585,-33.65311181111996,-33.653149929209704,-33.65318052746334,-33.6532040377348,-33.65322095809505,-33.65323205220906,-33.653238610197356,-33.65324211848659,-33.65324410023026,-33.65324629562272,-33.65325034704242,-33.65325738423817,-33.65326797859849,-33.65328199827335,-33.65329848125323,-33.653315690453574,-33.653331230764586,-33.65334242751608,-33.65334722720092,-33.65334525840724,-33.653338299595596,-33.6533298173502],\"legendgroup\":\"No\",\"lon\":[-32.82864250533924,-33.85422990024484,-34.84220201277316,-35.82866571807888,-36.814715807038226,-37.80059435584784,-38.786386675037235,-39.77213072692053,-40.757845673780125,-41.743542367653404,-42.729226983375256,-43.714902632627116,-44.70057125417105,-45.686233519015865,-46.67188969450823,-47.65753981897277,-48.643184043564624,-49.628822575653935,-50.61445618687798,-51.60008597991167,-52.58571303583263,-53.571338760809674,-54.55696490751643,-55.542592864936566,-56.528223531361945,-57.51385748231601,-58.49949374968972,-59.485130369193996,-60.470764891040886,-61.45639501021409,-62.44201988105118],\"marker\":{\"color\":\"#636efa\",\"opacity\":0.3,\"symbol\":\"circle\"},\"mode\":\"markers\",\"name\":\"No\",\"showlegend\":true,\"type\":\"scattergeo\"}],\"name\":\"2\"},{\"data\":[{\"customdata\":[[-23.648474619939478,237.98905900473025],[-23.95377021913699,238.83528947872622],[-24.271911524148006,239.6648809517891],[-24.59329302429291,240.49438060102494],[-24.917471194248726,241.3245133813843],[-25.244296528421728,242.1554971227395],[-25.573673640739113,242.98745562630697],[-25.905522377253135,243.82048539410317],[-26.23976773749735,244.65467319209455],[-26.576336823097346,245.49010259730298],[-26.915157705351454,246.32685599881003],[-27.25615884165085,247.1650155430036],[-27.599269039796305,248.0046644608176],[-27.94441705036075,248.8458869035784],[-28.291531639036506,249.68876861231797],[-28.64054168083252,250.53339699163917],[-28.99137585624887,251.3798614949092],[-29.343962387587567,252.22825369167808],[-29.698229283878188,253.07866768760144],[-30.054103927705654,253.93120005181737],[-30.411512605704214,254.78594970052566],[-30.770380505223244,255.64301830239685],[-31.13063151463422,256.50251039075135],[-31.492187859186355,257.3645328330285],[-31.85497008156971,258.2291947669368],[-32.21889716377207,259.0966076255422],[-32.58388642418482,259.9668838840769],[-32.949854474781255,260.84013707641725],[-33.31671832117485,261.71648167195224],[-33.684395999348105,262.5960334074138],[-34.05280652147125,263.47891070303825]],\"geo\":\"geo\",\"hovertemplate\":\"visible=No<br>hour=3<br>latitude=%{lat}<br>longitude=%{lon}<br>elevation=%{customdata[0]}<br>azimuth=%{customdata[1]}<extra></extra>\",\"lat\":[-33.63864817827096,-33.651263645218144,-33.652226653113196,-33.652577784031344,-33.652760920183674,-33.65287697729426,-33.65296089069517,-33.653027058707785,-33.65308168599306,-33.653127279017525,-33.65316485607825,-33.653194920471336,-33.65321788547588,-33.653234287611156,-33.653244913840304,-33.65325105274699,-33.653254204029714,-33.65325590627684,-33.6532578694812,-33.65326168404847,-33.65326848985008,-33.65327886500199,-33.65329264508325,-33.65330883595978,-33.65332566000595,-33.65334069392578,-33.653351283481484,-33.65335542585906,-33.653352826023934,-33.65334536315267,-33.65333653466183],\"legendgroup\":\"No\",\"lon\":[-47.88096389533964,-48.895487508781294,-49.883332105787346,-50.869768624954496,-51.85580875074622,-52.84168267696159,-53.82747258851021,-54.8132153148365,-55.798929525688834,-56.78462580236656,-57.7703101513122,-58.75598563010833,-59.7416541317363,-60.72731629925231,-61.7129723736265,-62.698622411822114,-63.68426656265948,-64.66990502946064,-65.65553861198299,-66.6411684295285,-67.62679556598056,-68.61242143983179,-69.59804778925354,-70.58367597499533,-71.56930690541564,-72.55494112225605,-73.54057761139809,-74.52621436238836,-75.511848889922,-76.49747892478733,-77.48310369129909],\"marker\":{\"color\":\"#636efa\",\"opacity\":0.3,\"symbol\":\"circle\"},\"mode\":\"markers\",\"name\":\"No\",\"showlegend\":true,\"type\":\"scattergeo\"}],\"name\":\"3\"},{\"data\":[{\"customdata\":[[-28.739768970390177,250.73669522979765],[-29.084318283145908,251.5979454090857],[-29.436720437625503,252.44819588199297],[-29.791179606144073,253.29965207350756],[-30.14734093034474,254.15301012700576],[-30.505065483971862,255.0085093475326],[-30.864254679435604,255.86630230731208],[-31.224820999618235,256.72651630818996],[-31.586680395663713,257.5892697622879],[-31.949749980755318,258.4546783750419],[-32.31394718348362,259.3228569904852],[-32.679189320967716,260.19392051508004],[-33.045393627149295,261.06798515632016],[-33.41247691155055,261.945168221832],[-33.78035558721518,262.82558880511016],[-34.14894576292345,263.7093678833683],[-34.51816296436591,264.5966286349891],[-34.887921856561135,265.4874965242311],[-35.25813643247637,266.3820997707544],[-35.628719602647394,267.2805692038753],[-35.99958278567049,268.18303808759083],[-36.370635831123565,269.0896425642457],[-36.7417867604715,270.0005217148702],[-37.11294141523408,270.9158169528014],[-37.4840034273175,271.8356719501913],[-37.8548743183362,272.7602325071011],[-38.22545342621227,273.6896451536326],[-38.59563884758995,274.6240570923714],[-38.965328532322786,275.56361600041765],[-39.334420930243255,276.50847038692496],[-39.702814830710025,277.45877105955634]],\"geo\":\"geo\",\"hovertemplate\":\"visible=No<br>hour=4<br>latitude=%{lat}<br>longitude=%{lon}<br>elevation=%{customdata[0]}<br>azimuth=%{customdata[1]}<extra></extra>\",\"lat\":[-33.64160527319287,-33.651346430608385,-33.65225797222357,-33.652597590424655,-33.65277638206162,-33.65289034003281,-33.652973024956474,-33.65303831265136,-33.65309222112211,-33.65313717937386,-33.65317416200673,-33.653203640174894,-33.65322600886633,-33.65324184189528,-33.6532519510322,-33.653257618825606,-33.65326035910333,-33.65326173180791,-33.65326341121548,-33.653266935402904,-33.65327345783294,-33.65328356253868,-33.653297055580275,-33.653312911795396,-33.653329308052456,-33.65334378783409,-33.653353716359895,-33.65335714814369,-33.6533538754042,-33.65334587887186,-33.65333667830106],\"legendgroup\":\"No\",\"lon\":[-62.928789635109496,-63.9367351208791,-64.924462532988,-65.91087312188111,-66.8969035848371,-67.88277297643639,-68.8685604979384,-69.85430188252859,-70.84001532666667,-71.82571114966886,-72.81139519249123,-73.7970704590081,-74.78273879244553,-75.76840081287507,-76.75405673793523,-77.73970664071112,-78.72535066677446,-79.71098901951048,-80.69662252203968,-81.68225230189694,-82.66787945149416,-83.65350540723794,-84.6391318919477,-85.62476023945788,-86.61039136759398,-87.59602578039318,-88.58166241907087,-89.56729922732316,-90.55293368521849,-91.53856356560762,-92.52418816101303],\"marker\":{\"color\":\"#636efa\",\"opacity\":0.3,\"symbol\":\"circle\"},\"mode\":\"markers\",\"name\":\"No\",\"showlegend\":true,\"type\":\"scattergeo\"}],\"name\":\"4\"},{\"data\":[{\"customdata\":[[-34.250067219141904,263.9256747770189],[-34.61533944642632,264.8256428398076],[-34.98477642150478,265.7187733088896],[-35.35492530644581,266.6148667750094],[-35.72550197311559,267.51462310365395],[-36.0963710253475,268.41831243739165],[-36.46742472893444,269.3261212223073],[-36.83856232560328,270.23821118551336],[-37.20968469418223,271.15473523199097],[-37.58069272579094,272.0758434752286],[-37.951486745792025,273.0016849824134],[-38.321966244193796,273.93240867618664],[-38.69202996304173,274.8681644562528],[-39.061575630066045,275.8091029121071],[-39.430499939044786,276.7553759713978],[-39.798698640418245,277.70713696463895],[-40.166066297102326,278.66454079231806],[-40.53249600013612,279.6277439471988],[-40.89787948570649,280.5969049609445],[-41.26210675671162,281.57218406702106],[-41.625065747351066,282.5537428632798],[-41.98664216866572,283.5417446844938],[-42.34671921092126,284.53635447149054],[-42.70517723047463,285.53773794814305],[-43.06189372731932,286.54606140402683],[-43.41674345237915,287.5614912482544],[-43.76959842874455,288.584192295331],[-44.1203289116623,289.61432751056736],[-44.468804509936774,290.6520576315823],[-44.81489485168927,291.69754145457745],[-45.15846931487995,292.75093719321706]],\"geo\":\"geo\",\"hovertemplate\":\"visible=No<br>hour=5<br>latitude=%{lat}<br>longitude=%{lon}<br>elevation=%{customdata[0]}<br>azimuth=%{customdata[1]}<extra></extra>\",\"lat\":[-33.643573949632945,-33.65141859089966,-33.6522826756736,-33.652611282541315,-33.652785838432315,-33.65289771192541,-33.65297914680954,-33.65304351798603,-33.6530966647673,-33.653140948453505,-33.65317730255234,-33.65320616144851,-33.653227903796335,-33.65324313826626,-33.653252701512585,-33.653257867054585,-33.65326016441601,-33.65326117887478,-33.653262545328786,-33.65326575262082,-33.65327196880325,-33.65328178086168,-33.65329496835105,-33.65331047528017,-33.65332642837512,-33.653340333996425,-33.65334957598668,-33.65335227312948,-33.653348315438485,-33.65333978384553,-33.653330212877044],\"legendgroup\":\"No\",\"lon\":[-77.97436825344542,-78.97797301314833,-79.9655924392463,-80.95197826263994,-81.93799933928975,-82.92386427126849,-83.90964940897224,-84.89538942490775,-85.8811020611456,-86.86679738477768,-87.85248107431339,-88.83815607883587,-89.82382418845128,-90.80948600476952,-91.79514172507497,-92.78079143545462,-93.76643527777092,-94.75207346026247,-95.73770682355072,-96.72333649582022,-97.70896358440989,-98.69458954865233,-99.6802160957867,-100.66584453413523,-101.65147578925946,-102.6371103228723,-103.6227470324141,-104.60838381687373,-105.59401812463663,-106.57964777679787,-107.5652721310787],\"marker\":{\"color\":\"#636efa\",\"opacity\":0.3,\"symbol\":\"circle\"},\"mode\":\"markers\",\"name\":\"No\",\"showlegend\":true,\"type\":\"scattergeo\"}],\"name\":\"5\"},{\"data\":[{\"customdata\":[[-39.897412015357936,277.9426163616994],[-40.262204053526716,278.91205959020107],[-40.628078087252,279.8781347311093],[-40.993057542774096,280.8493929534004],[-41.35690631790615,281.8265647629583],[-41.71948143726083,282.80995223536274],[-42.080656430798115,283.79977070978936],[-42.44030800806943,284.79620842367905],[-42.79831271708085,285.79944270018666],[-43.154545932486464,286.80964600635855],[-43.508881541794466,287.82698758712985],[-43.861191848422926,288.85163426893786],[-44.21134773739468,289.88375134856057],[-44.55921851658984,290.92350207693954],[-44.90467187444681,291.97104810986065],[-45.24757399974663,293.02654938074426],[-45.58778941661304,294.0901639295418],[-45.92518073296628,295.162047673164],[-46.25960871035341,296.2423546383641],[-46.590931992136795,297.33123620667783],[-46.919006897233125,298.4288404109449],[-47.24368723474672,299.5353120056258],[-47.56482404570125,300.6507918916061],[-47.882265411099034,301.7754158403437],[-48.1958565119632,302.9093139107121],[-48.50543984611938,304.05260945077697],[-48.8108554790202,305.20541685366857],[-49.11194212011829,306.3678409635932],[-49.408538367240205,307.53997642079844],[-49.70048345641614,308.72190779641267],[-49.98761695040805,309.91371066940184]],\"geo\":\"geo\",\"hovertemplate\":\"visible=No<br>hour=6<br>latitude=%{lat}<br>longitude=%{lon}<br>elevation=%{customdata[0]}<br>azimuth=%{customdata[1]}<extra></extra>\",\"lat\":[-33.6449751954078,-33.65148026327201,-33.6523004998732,-33.652618587311224,-33.65278903261223,-33.652898855713595,-33.65297904010281,-33.65304248205211,-33.65309484864997,-33.65313844117183,-33.653174154215755,-33.65320238256658,-33.65322349169165,-33.65323812163118,-33.65324713274582,-33.653251788163786,-33.653253635110225,-33.65325428611876,-33.65325533542078,-33.65325822851722,-33.65326414632629,-33.65327367405792,-33.65328656747513,-33.6533017391296,-33.65331726173875,-33.653330601984635,-33.65333916181654,-33.653341131206936,-33.65333650729292,-33.65332746783965,-33.653317556063314],\"legendgroup\":\"No\",\"lon\":[-93.01866253710098,-94.01920121051104,-95.00672087262872,-95.9930830147556,-96.97909496252487,-97.9649555006006,-98.95073825297952,-99.93647686651093,-100.92218864724873,-101.90788342050223,-102.89356670538326,-103.87924139391062,-104.86490922058958,-105.85057077245365,-106.83622622906418,-107.82187568607769,-108.80751928182102,-109.79315723442848,-110.77879039542488,-111.76441988747804,-112.75004683942457,-113.73567273761954,-114.72129927410457,-115.70692773297769,-116.69255904473557,-117.67819362370605,-118.66383032405086,-119.64946700211087,-120.63510107944919,-121.62073043104809,-122.60635447582156],\"marker\":{\"color\":\"#636efa\",\"opacity\":0.3,\"symbol\":\"circle\"},\"mode\":\"markers\",\"name\":\"No\",\"showlegend\":true,\"type\":\"scattergeo\"}],\"name\":\"6\"},{\"data\":[{\"customdata\":[[-45.33806554610901,293.28945211413554],[-45.6763051467985,294.3654365507812],[-46.012761812298066,295.44095439250333],[-46.34632519605151,296.5240569283497],[-46.67678003795631,297.6155019588516],[-47.00396387006713,298.7155895493814],[-47.32772252874646,299.8245203901606],[-47.64790245556823,300.94245967651045],[-47.96434896884038,302.0695544700924],[-48.27690579374685,303.2059399514723],[-48.58541504637151,304.35174089596626],[-48.88971737221159,305.50707227465364],[-49.18965227104825,306.6720397702686],[-49.48505814319172,307.8467388824458],[-49.77577231982526,309.0312550117251],[-50.061631313796426,310.22566301045043],[-50.34247085462667,311.430026544813],[-50.618125781939014,312.6443975029563],[-50.88843017220905,313.86881591909327],[-51.153217328451625,315.1033087449772],[-51.41231982953321,316.3478887918365],[-51.665569441581866,317.6025544881387],[-51.912797057959956,318.86728890043156],[-52.15383278179553,320.1420581396412],[-52.388506207913224,321.4268106166513],[-52.61664691832805,322.72147576306537],[-52.83808514648258,324.02596166693013],[-53.052653099576766,325.3401546743598],[-53.26018643182895,326.663919115297],[-53.460525134487675,327.99709798687155],[-53.65351325140713,329.33951435195394]],\"geo\":\"geo\",\"hovertemplate\":\"visible=No<br>hour=7<br>latitude=%{lat}<br>longitude=%{lon}<br>elevation=%{customdata[0]}<br>azimuth=%{customdata[1]}<extra></extra>\",\"lat\":[-33.64601965714244,-33.65153194549227,-33.652311598191616,-33.652619652012305,-33.65278612944876,-33.65289395690289,-33.65297291320724,-33.65303543831957,-33.65308703208179,-33.65312994112613,-33.65316502298745,-33.65319263225898,-33.65321312499165,-33.65322716834468,-33.65323564427523,-33.65323980577691,-33.65324121985695,-33.653241526258654,-33.653242279973114,-33.653244890957446,-33.653250548542324,-33.65325983016879,-33.65327246996011,-33.65328734771782,-33.653302479461914,-33.653315291087246,-33.65332320256747,-33.653324481597934,-33.65331923978021,-33.65330974670132,-33.65329955008823],\"legendgroup\":\"No\",\"lon\":[-108.06215325809099,-109.0604195826361,-110.04784685706335,-111.0341863318124,-112.02018939393334,-113.00604559855623,-113.99182596033579,-114.97756313520024,-115.96327401090514,-116.94896818167283,-117.93465101020557,-118.92032532837045,-119.90599281361838,-120.89165404154647,-121.87730917600541,-122.86295831880891,-123.84860160566366,-124.834239269469,-125.8198721657823,-126.80550140747006,-127.79112815103696,-128.77675391281142,-129.76238037059068,-130.7480087852258,-131.7336400884407,-132.71927464191134,-133.704911256773,-134.69054774967557,-135.67618152182544,-136.66181050683554,-137.64743418015013],\"marker\":{\"color\":\"#636efa\",\"opacity\":0.3,\"symbol\":\"circle\"},\"mode\":\"markers\",\"name\":\"No\",\"showlegend\":true,\"type\":\"scattergeo\"}],\"name\":\"7\"},{\"data\":[{\"customdata\":[[-50.13627842264707,310.5241403106183],[-50.41502147523154,311.74171729421334],[-50.68917980215331,312.96036967277746],[-50.9580149671696,314.1880832924016],[-51.22131234222521,315.42556283332027],[-51.47889210375305,316.6729928783669],[-51.7305805672352,317.9304337999522],[-51.97620551344075,319.1978940549334],[-52.21559546369702,320.47535011460695],[-52.448579639243164,321.7627535664066],[-52.67498828761759,323.06003293007996],[-52.89465313538114,324.3670945646792],[-53.10740797502557,325.68382334503207],[-53.313089026206534,327.0100819905171],[-53.511535141961794,328.34571140043124],[-53.70258827997744,329.69053063261066],[-53.88609383201174,331.044336638098],[-54.061900726961895,332.4069042084295],[-54.2298616613636,333.7779865446608],[-54.38983341372817,335.15731468905716],[-54.541677153046834,336.5445973473508],[-54.68525844705557,337.9395215404513],[-54.820447398280145,339.34175256235284],[-54.94711895175859,340.7509335478339],[-55.06515330480505,342.166686100332],[-55.174436588999015,343.588610360747],[-55.274861813564016,345.0162843112009],[-55.366330212327675,346.44926534552246],[-55.44875266059861,347.88709215529605],[-55.522050351897065,349.32928759010747],[-55.58615421665488,350.7753617476045]],\"geo\":\"geo\",\"hovertemplate\":\"visible=No<br>hour=8<br>latitude=%{lat}<br>longitude=%{lon}<br>elevation=%{customdata[0]}<br>azimuth=%{customdata[1]}<extra></extra>\",\"lat\":[-33.64682476807141,-33.65157449876381,-33.652316533522175,-33.65261503491228,-33.652777704333076,-33.65288361126358,-33.65296138491493,-33.65302303056085,-33.65307388433985,-33.653116141283334,-33.65315062350304,-33.65317764729707,-33.65319756311938,-33.653211060537224,-33.65321904048723,-33.65322274755434,-33.6532237702704,-33.65322377386239,-33.65322427833632,-33.65322666678321,-33.65323213000378,-33.653241230965094,-33.65325368350915,-33.653268332968274,-33.65328313748685,-33.65329548251225,-33.65330280644108,-33.65330346046934,-33.65329767542279,-33.65328780657587,-33.65327740413313],\"legendgroup\":\"No\",\"lon\":[-123.10510705588509,-124.10162793733541,-125.08896946608608,-126.07528722664576,-127.06128163700426,-128.0471335674223,-129.03291153379308,-130.01864723568042,-131.00435715943829,-131.99005067876945,-132.97573300280408,-133.9614068998428,-134.94707398984986,-135.93273483930997,-136.91838959761108,-137.90403836961448,-138.88968129009496,-139.87531861102732,-140.8609511854203,-141.84658011413305,-142.83220658660207,-143.81783215080358,-144.80345847168078,-145.78908678740655,-146.77471802653417,-147.76035249287335,-148.74598895464322,-149.73162519263,-150.7172585952841,-151.70288715842085,-152.6885104091216],\"marker\":{\"color\":\"#636efa\",\"opacity\":0.3,\"symbol\":\"circle\"},\"mode\":\"markers\",\"name\":\"No\",\"showlegend\":true,\"type\":\"scattergeo\"}],\"name\":\"8\"},{\"data\":[{\"customdata\":[[-53.75230869108863,330.0266071839179],[-53.932960378464976,331.39406979247275],[-54.10658916144146,332.7608271399204],[-54.272421035807824,334.13488359374327],[-54.430255921730385,335.5167436951389],[-54.57994079395244,336.9063154973806],[-54.7213358455681,338.3033578511405],[-54.85430894866828,339.7075653581582],[-54.97873475744926,341.1185932842503],[-55.094494613588054,342.53606737464776],[-55.20147692473301,343.9595877874428],[-55.299577661213554,345.38873206645314],[-55.388700946772516,346.82305770166784],[-55.46875945598885,348.2621034006445],[-55.5396745011859,349.7053912554412],[-55.60137637925156,351.1524287317449],[-55.65380463071728,352.6027103159596],[-55.69690794498107,354.05571937429085],[-55.73064407199878,355.51093055008516],[-55.75498000877853,356.9678110761075],[-55.76989205411494,358.42582248262573],[-55.775365430226024,359.8844228255627],[-55.771394115248455,1.3430681616455507],[-55.75798082908086,2.8012136783337835],[-55.73513700809196,4.258315793457435],[-55.702883131705036,5.713833491115526],[-55.661249364991995,7.167229044360649],[-55.61027633649246,8.617970838800797],[-55.55001589864985,10.065536348400562],[-55.480531020714835,11.50941564138408],[-55.40189447481963,12.94911427889161]],\"geo\":\"geo\",\"hovertemplate\":\"visible=No<br>hour=9<br>latitude=%{lat}<br>longitude=%{lon}<br>elevation=%{customdata[0]}<br>azimuth=%{customdata[1]}<extra></extra>\",\"lat\":[-33.647461544500764,-33.6516091207259,-33.652316242577555,-33.652605667731365,-33.6527647041002,-33.65286878424534,-33.65294544222295,-33.65300626891175,-33.653056438961045,-33.65309809663895,-33.65313203022641,-33.65315852213676,-33.65317792058149,-33.6531909326649,-33.65319847565334,-33.65320178865935,-33.65320248272945,-33.65320224559943,-33.65320256923758,-33.65320481837893,-33.65321017633198,-33.65321918472711,-33.65323153751349,-33.65324604369104,-33.653260604089695,-33.65327256540652,-33.653279385318456,-33.65327950319346,-33.653273270898346,-33.65326312274867,-33.65325261157742],\"legendgroup\":\"No\",\"lon\":[-138.14768361050116,-139.14282610684745,-140.13008789271154,-141.11638484041467,-142.1023708280594,-143.0882185461888,-144.0739941169123,-145.0597283177541,-146.045437249609,-147.03113007569218,-148.01681185423428,-149.00248528672842,-149.9881519361095,-150.9738123612529,-151.95946669752405,-152.94511505025557,-153.93075755566673,-154.91639448830838,-155.90202669289164,-156.88765525813622,-157.87328141029724,-158.85890672938876,-159.8445328691766,-160.83016104524384,-161.81579217818063,-162.8014265089866,-163.7870627630716,-164.77269868991553,-165.75833167340238,-166.743959773812,-167.72958256518885],\"marker\":{\"color\":\"#636efa\",\"opacity\":0.3,\"symbol\":\"circle\"},\"mode\":\"markers\",\"name\":\"No\",\"showlegend\":true,\"type\":\"scattergeo\"}],\"name\":\"9\"},{\"data\":[{\"customdata\":[[-55.61806799298972,351.51307936631105],[-55.66657336074543,352.9759733639642],[-55.706961072652646,354.4318031336576],[-55.738133634236675,355.8884166344312],[-55.75995284568768,357.3461412585206],[-55.7723682509824,358.80466878774916],[-55.7753554815838,0.26354460324154594],[-55.76890491713559,1.7222644123622237],[-55.75301875102432,3.1803041169692494],[-55.727709822716,4.637132229734805],[-55.69300128486589,6.092215662786448],[-55.648926455047665,7.545024222714706],[-55.59552879662292,8.995034211240936],[-55.53286177474604,10.441730535561675],[-55.46098831942881,11.8846092175257],[-55.37998055347687,13.32317966487463],[-55.289919532898736,14.756966310086614],[-55.190894561020585,16.185510145425603],[-55.083002474926374,17.60837045387746],[-54.96634739886771,19.025125519939213],[-54.84104028958117,20.435373497310458],[-54.70719805480354,21.838733325676124],[-54.56494300000366,23.234844870417877],[-54.41440243826641,24.623368719912563],[-54.25570825168288,26.00398679152316],[-54.088996952507955,27.376402091591302],[-53.91441012140912,28.74033810195631],[-53.73209480759593,30.09553998472618],[-53.54220387855459,31.441775842759874],[-53.34489547186159,32.778838181460024],[-53.14033142975475,34.10654431152775]],\"geo\":\"geo\",\"hovertemplate\":\"visible=No<br>hour=10<br>latitude=%{lat}<br>longitude=%{lon}<br>elevation=%{customdata[0]}<br>azimuth=%{customdata[1]}<extra></extra>\",\"lat\":[-33.64797580525191,-33.65163729126037,-33.65231197437783,-33.65259279249655,-33.65274838248769,-33.65285074507387,-33.652926372884174,-33.652986460820905,-33.653036023077796,-33.653077152083995,-33.65311060399722,-33.65313663406168,-33.65315559074606,-33.65316819393332,-33.6531753750058,-33.653178371410476,-33.65317881658062,-33.65317841705529,-33.65317864601384,-33.65318085722051,-33.65318621616763,-33.65319523663416,-33.653207591994175,-33.65322205320498,-33.65323646617855,-33.65324814175306,-33.65325455811628,-33.65325424607368,-33.653247677313544,-33.65323735866678,-33.6532268477559],\"legendgroup\":\"No\",\"lon\":[-153.189984380951,-154.1840140229506,-155.1712015106535,-156.15747850281727,-157.1434562958844,-158.12929986972614,-159.11507305286761,-160.10080573467528,-161.08651364544045,-162.07220574704755,-163.05788694935757,-164.04355988448063,-165.02922605944468,-166.0148860262307,-167.00053990587406,-167.9861878023151,-168.97182985610524,-169.9574663669001,-170.94309816673615,-171.92872633389473,-172.91435213360518,-173.89997717712225,-174.8856031088036,-175.87123112125246,-176.85686212223658,-177.8424962854706,-178.8281322937519,-179.81376787035498,179.200599597221,178.21497198327197,177.2293496708085],\"marker\":{\"color\":\"#636efa\",\"opacity\":0.3,\"symbol\":\"circle\"},\"mode\":\"markers\",\"name\":\"No\",\"showlegend\":true,\"type\":\"scattergeo\"}],\"name\":\"10\"},{\"data\":[{\"customdata\":[[-55.36097972779046,13.680413150058977],[-55.26612633881736,15.124375717507924],[-55.164293200273214,16.55376300522502],[-55.053899488679775,17.976038452191464],[-54.934865461653395,19.39166423463385],[-54.80725256397008,20.80048433048605],[-54.67115870580846,22.202215175930764],[-54.526697716511464,23.59654412956755],[-54.37399331662077,24.983159253789726],[-54.21317656163866,26.3617605996027],[-54.044384738828,27.732064618072414],[-53.867760641466,29.093807131984555],[-53.68345212646151,30.446745127900957],[-53.491611685489325,31.79065708338582],[-53.29239565443596,33.12534338140116],[-53.08596371570201,34.45062664364663],[-52.87247854831565,35.766351457951366],[-52.65210504233794,37.07238392345713],[-52.42500952088738,38.36861133603585],[-52.19135955303248,39.654941274617435],[-51.95132352051096,40.93130082259336],[-51.705069842433836,42.19763572630692],[-51.45276659676712,43.453909061129906],[-51.19458128704677,44.70009977184572],[-50.93068053757091,45.936202075008424],[-50.66123040495396,47.1622242040372],[-50.386397062622564,48.37818716714906],[-50.1063473228836,49.584125124269185],[-49.821249053812345,50.78008586494604],[-49.5312706807983,51.966131380695955],[-49.23657985362961,53.142337306604496]],\"geo\":\"geo\",\"hovertemplate\":\"visible=No<br>hour=11<br>latitude=%{lat}<br>longitude=%{lon}<br>elevation=%{customdata[0]}<br>azimuth=%{customdata[1]}<extra></extra>\",\"lat\":[-33.64839872700262,-33.6516606954743,-33.65230520716089,-33.65257787710953,-33.65273021456824,-33.6528309800349,-33.652905677337856,-33.65296512160837,-33.65301416662763,-33.653054850411486,-33.653087898962625,-33.65311354894686,-33.653132150511,-33.6531444319013,-33.653151337243614,-33.653154106612504,-33.65315439431576,-33.65315392179617,-33.653154154370995,-33.65315644032707,-33.6531619164452,-33.65317106290058,-33.65318353073168,-33.653198051570094,-33.653212420594926,-33.653223916654156,-33.65323003991756,-33.65322941426657,-33.65322262713603,-33.65321225205343,-33.65320185522917],\"legendgroup\":\"No\",\"lon\":[-168.23207699057602,-169.22519177726096,-170.21230992276375,-171.19856777933416,-172.18453760818457,-173.1703771145824,-174.15614792960304,-175.14187908757742,-176.12758596186015,-177.1132773210258,-178.09895792899897,-179.08463034705613,179.92970397222376,178.9440444837293,177.95839108164154,176.97274366448613,175.98710208422727,175.00146601455802,174.01583463870762,173.03020688570837,172.04458145113932,171.0589566943125,170.07333097863108,169.0877031352648,168.10207227384925,167.11643829182924,166.13080254864744,165.14516734183158,164.1595352726944,163.17390815031436,162.1882863177188],\"marker\":{\"color\":\"#636efa\",\"opacity\":0.3,\"symbol\":\"circle\"},\"mode\":\"markers\",\"name\":\"No\",\"showlegend\":true,\"type\":\"scattergeo\"}],\"name\":\"11\"},{\"data\":[{\"customdata\":[[-53.03611249166191,34.77898399765984],[-52.8174278323319,36.10247056026135],[-52.59456778820713,37.40812890727591],[-52.36543774888764,38.70271723952734],[-52.12993659082732,39.98696830485319],[-51.888157390932506,41.26104274032341],[-51.640238508525556,42.524979061809724],[-51.38633361288787,43.778785135438206],[-51.12660282906645,45.022465366289836],[-50.86120924496024,46.25603026546811],[-50.59031751130523,47.47949965616829],[-50.31409301410364,48.69290466422419],[-50.03270148271807,49.89628855355847],[-49.74630871930495,51.0897063649227],[-49.45508000954363,52.27322455037802],[-49.15917979754416,53.44692076425178],[-48.85877158774707,54.610883203531294],[-48.554017392211485,55.765209784101856],[-48.24507720797149,56.910007479549584],[-47.932109082270664,58.04539143259336],[-47.61526889455109,59.171484170278845],[-47.29470988253657,60.288414732252456],[-46.9705825496681,61.39631750027648],[-46.643034661367786,62.49533100811428],[-46.31221114070146,63.58559759984549],[-45.97825464326526,64.66726252577682],[-45.641306452453875,65.74047327329386],[-45.30150713696837,66.80538024148974],[-44.958997031682266,67.8621374725213],[-44.613915793315385,68.91090338290061],[-44.26640126429304,69.95184036177177]],\"geo\":\"geo\",\"hovertemplate\":\"visible=No<br>hour=12<br>latitude=%{lat}<br>longitude=%{lon}<br>elevation=%{customdata[0]}<br>azimuth=%{customdata[1]}<extra></extra>\",\"lat\":[-33.64875247285536,-33.65168112966487,-33.65229754941925,-33.65256251541044,-33.65271179600901,-33.652811090874486,-33.652884966044695,-33.65294387075366,-33.652992497649485,-33.65303282675731,-33.65306555625868,-33.65309091409085,-33.65310925238548,-33.65312130385807,-33.653128025137825,-33.653130663317825,-33.65313089055295,-33.65313043958683,-33.653130779669105,-33.65313325671101,-33.65313896816581,-33.65314835591198,-33.6531610459034,-33.65317572981201,-33.65319015786259,-33.65320158151432,-33.65320752446966,-33.65320670357805,-33.65319981552926,-33.653189495912926,-33.65317932442501],\"legendgroup\":\"No\",\"lon\":[176.72599163622596,175.73364033616508,174.74658700660933,173.76034749772842,172.77438539833304,171.78854987176913,170.8027813917787,169.8170517470612,168.83134590881915,167.84565529507935,166.85997528540256,165.87430338935036,164.8886382073082,163.90297920161407,162.91732628286837,161.93167935232876,160.9460382513785,159.96040262640696,158.97477167639198,157.98914433368736,157.00351925645012,156.01789477714203,155.0322692656066,154.04664157785373,153.06101084490635,152.0753770385305,151.08974155984367,150.10410672175576,149.11847510793956,148.13284846337572,147.1472270927249],\"marker\":{\"color\":\"#636efa\",\"opacity\":0.3,\"symbol\":\"circle\"},\"mode\":\"markers\",\"name\":\"No\",\"showlegend\":true,\"type\":\"scattergeo\"}],\"name\":\"12\"},{\"data\":[{\"customdata\":[[-49.08763399980465,53.737776790653115],[-48.78198589790255,54.90793003696363],[-48.47520710952298,56.06171117373906],[-48.16480032659615,57.20489256299544],[-47.850585522998045,58.33831324779737],[-47.53262164887763,59.46230248908836],[-47.21102282700208,60.57707044553313],[-46.88592056453067,61.682789513330384],[-46.55745256503865,62.77961893162588],[-46.22575850704768,63.86771354716091],[-45.890978426842636,64.94722693021976],[-45.55325182185646,66.01831351605351],[-45.2127173037655,67.08112960070672],[-44.86951244769166,68.1358333541536],[-44.52377336450488,69.18258472203487],[-44.175634477385465,70.22154557748365],[-43.82522856884904,71.25287947773059],[-43.47268636457941,72.2767512261329],[-43.11813616898271,73.29332655350659],[-42.761704015643254,74.30277174127754],[-42.4035135311458,75.3052532665836],[-42.043685635013,76.30093733551668],[-41.68233856921664,77.28998916678296],[-41.31958796727385,78.27257226331076],[-40.95554681384818,79.24884847355199],[-40.59032612317245,80.21897749039705],[-40.22403588581882,81.18311670436955],[-39.8567857598632,82.1414221419005],[-39.48868552029735,83.09404939012038],[-39.11984459217291,84.04115447634094],[-38.75037099600855,84.98289364956389]],\"geo\":\"geo\",\"hovertemplate\":\"visible=No<br>hour=13<br>latitude=%{lat}<br>longitude=%{lon}<br>elevation=%{customdata[0]}<br>azimuth=%{customdata[1]}<extra></extra>\",\"lat\":[-33.649053356494505,-33.65170039714607,-33.65229063185549,-33.65254831857978,-33.652694734051614,-33.6527926852649,-33.65286584925386,-33.65292432101297,-33.65297263083242,-33.65301269669759,-33.65304519171475,-33.65307034545226,-33.653088511370974,-33.653100423406244,-33.65310705172278,-33.65310965456302,-33.65310991741792,-33.653109581411414,-33.65311013145537,-33.65311291160776,-33.65311897049685,-33.6531287082333,-33.65314172213354,-33.6531566640672,-33.65317124634692,-33.65318269812417,-33.65318856809851,-33.65318766423427,-33.653180784219735,-33.65317062257661,-33.653160777827445],\"legendgroup\":\"No\",\"lon\":[161.68418777123333,160.6924817978682,159.70548913750682,158.71926721653162,157.73331260629809,156.74748096021932,155.76171476731867,154.77598660880815,153.79028178942266,152.80459190844653,151.81891248634832,150.83324110187417,149.84757640718223,148.86191787310548,147.87626542789246,146.8906189750464,145.90497834268137,144.91934314990735,143.93371260968672,142.94808565346793,141.96246090561615,140.97683667482863,139.9912113365905,139.00558377291122,138.01995313930607,137.03431948427186,136.0486842498402,135.06304975918823,134.07741857342194,133.09179237511748,132.1061714306531],\"marker\":{\"color\":\"#636efa\",\"opacity\":0.3,\"symbol\":\"circle\"},\"mode\":\"markers\",\"name\":\"No\",\"showlegend\":true,\"type\":\"scattergeo\"}],\"name\":\"13\"},{\"data\":[{\"customdata\":[[-44.091621871928474,70.47958808012845],[-43.73615104209706,71.51622814546963],[-43.382010470467456,72.53989525672219],[-43.0264866714379,73.55535265331523],[-42.66932163716766,74.56338899818606],[-42.3105270181266,75.56435061149251],[-41.95017838701497,76.55847395466415],[-41.588371970524186,77.54595663401146],[-41.22521171193744,78.52697939402142],[-40.860804444343636,79.50171414433674],[-40.495258021012106,80.47032701247979],[-40.12868027517324,81.43298063568139],[-39.76117861174708,82.38983528891943],[-39.39285986161077,83.34104921412712],[-39.02382990540687,84.28677874783457],[-38.65419343862837,85.22717872908684],[-38.28405403886105,86.16240252420292],[-37.91351378433358,87.092601847282],[-37.54267294849726,88.01792665305837],[-37.17163010602089,88.93852503525657],[-36.8004819889429,89.85454309829045],[-36.42932327019592,90.76612472391],[-36.05824660975479,91.67341107964684],[-35.687342710760824,92.57654011335103],[-35.316700276399196,93.47564679630261],[-34.94640670703856,94.37086276730656],[-34.57654902928344,95.2623164281926],[-34.2072145912575,96.1501339287852],[-33.83849145658303,97.0344400874311],[-33.4704679044023,97.91535928108418],[-33.10323140270838,98.79301529113091]],\"geo\":\"geo\",\"hovertemplate\":\"visible=No<br>hour=14<br>latitude=%{lat}<br>longitude=%{lon}<br>elevation=%{customdata[0]}<br>azimuth=%{customdata[1]}<extra></extra>\",\"lat\":[-33.64931369497226,-33.6517202014322,-33.65228599766736,-33.65253680531597,-33.652680537672964,-33.65277726683189,-33.65284982675002,-33.652907967958356,-33.652956056948064,-33.652995945661104,-33.653028285263936,-33.65305331700964,-33.65307139438558,-33.65308325001206,-33.65308986986229,-33.653092526903464,-33.65309291417086,-33.65309277916675,-33.65309363315576,-33.65309681642222,-33.65310332114193,-33.65311350343847,-33.65312692789906,-33.653142207585574,-33.653157024760695,-33.65316859158768,-33.65317448299598,-33.653173594594804,-33.65316681585431,-33.653156898731844,-33.65314746564902],\"legendgroup\":\"No\",\"lon\":[146.64248639367088,145.6513318603816,144.6643960594562,143.67819099218116,142.69224362523696,141.7064157485974,140.7206517798803,139.7349250641186,138.74922122993127,137.76353205384655,136.77785319440846,135.79218229618172,134.80651806244643,133.82085997393688,132.83520797744382,131.84956197763594,130.86392178738873,129.87828699896397,128.8926568353622,127.90703022326244,126.92140575845397,125.93578172919452,124.95015651646938,123.96452902934753,122.97889844984824,121.99326490485215,121.00762987641313,120.02199569345427,119.03636489137793,118.05073909223795,117.06511852264066],\"marker\":{\"color\":\"#636efa\",\"opacity\":0.3,\"symbol\":\"circle\"},\"mode\":\"markers\",\"name\":\"No\",\"showlegend\":true,\"type\":\"scattergeo\"}],\"name\":\"14\"},{\"data\":[{\"customdata\":[[-38.565243291503045,85.46153944955846],[-38.19035723271401,86.40154434132312],[-37.81858014794829,87.3319695630733],[-37.44716133568176,88.25672464048044],[-37.07579215247626,89.17649524944416],[-36.704448702833275,90.09158523102032],[-36.33317660403015,91.00220033111214],[-35.962044694294555,91.90851017041076],[-35.59113103776155,92.81066780509602],[-35.2205177007419,93.70881694536754],[-34.8502886776874,94.60309477484721],[-34.48052871618238,95.49363420631757],[-34.11132281858012,96.3805649439659],[-33.742756068708005,97.2640139299991],[-33.374913270531536,98.1441055293475],[-33.007878664626205,99.02096201182918],[-32.64173597000958,99.89470365074321],[-32.27656801096242,100.76544864506785],[-31.91245643612462,101.6333130771338],[-31.54948173028056,102.49841088903682],[-31.187723044965804,103.36085382828306],[-30.827258035492356,104.22075131473531],[-30.468162883560034,105.07821001621045],[-30.110512318491775,105.93333342044512],[-29.75437956074014,106.78622213449138],[-29.399837005739148,107.63697352443866],[-29.046957123176902,108.48568190217657],[-28.695813166470618,109.3324394554285],[-28.346479523523303,110.17733708263013],[-27.99903120495567,111.02046525292981],[-27.653542822771616,111.86191387203735]],\"geo\":\"geo\",\"hovertemplate\":\"visible=No<br>hour=15<br>latitude=%{lat}<br>longitude=%{lon}<br>elevation=%{customdata[0]}<br>azimuth=%{customdata[1]}<extra></extra>\",\"lat\":[-33.649542930369215,-33.65174204439514,-33.65228499868878,-33.65252929830892,-33.65267051444576,-33.652766132268916,-33.65283818513115,-33.65289608750646,-33.65294404073812,-33.65298382722735,-33.653016079628635,-33.653041059821184,-33.65305911980238,-33.65307098908239,-33.65307767275191,-33.653080461312854,-33.65308104863608,-33.653081187581435,-33.65308242448759,-33.65308609193731,-33.653093120496536,-33.653103821245345,-33.65311772173346,-33.65313339798843,-33.65314851038204,-33.65316025943229,-33.65316624719623,-33.65316545209657,-33.65315884608731,-33.65314923862635,-33.65314028013635],\"legendgroup\":\"No\",\"lon\":[131.60086840490297,130.61018956547215,129.6233071153736,128.63711819196052,127.6511778178478,126.66535358893525,125.67959176754215,124.6938664358814,123.70816353818495,122.72247502541764,121.73679669096083,120.75112624026022,119.7654624277523,118.77980474570988,117.79415315975059,116.80850757417572,115.8228677856649,114.83723336017684,113.8516035248472,112.86597719862796,111.88035295512624,110.89472906547707,109.9091039167702,108.92347644589731,107.93784586217326,106.95221237178879,105.96657749588594,104.98094356549784,103.99531308905729,103.00968762975533,102.02406737148878],\"marker\":{\"color\":\"#636efa\",\"opacity\":0.3,\"symbol\":\"circle\"},\"mode\":\"markers\",\"name\":\"No\",\"showlegend\":true,\"type\":\"scattergeo\"}],\"name\":\"15\"},{\"data\":[{\"customdata\":[[-32.91987232606043,99.24033706196437],[-32.54941697508888,100.11850368666053],[-32.18333451742156,100.98983725707016],[-31.818974003053302,101.85758241481932],[-31.456004977357612,102.72232414405501],[-31.094382911892648,103.58431475330904],[-30.734134857095235,104.44371922947626],[-30.37531234462306,105.3006699020253],[-30.01797701274183,106.15528396643165],[-29.662195224366517,107.0076699608233],[-29.30803587981819,107.85793030771228],[-28.95556916160456,108.70616346811363],[-28.604865958907105,109.55246485512139],[-28.255997676925535,110.39692731274485],[-27.909035890654554,111.23964128747402],[-27.564052011080083,112.08069531169787],[-27.221117291691147,112.9201760936628],[-26.88030247024758,113.75816848483322],[-26.541677502396126,114.59475544734661],[-26.205311463321017,115.43001802754114],[-25.871272361888614,116.26403532536789],[-25.539627021589986,117.09688441253124],[-25.21044106318302,117.92863991352684],[-24.883778891227706,118.75937360544454],[-24.559703630890624,119.5891547340542],[-24.238277781137505,120.41804958877859],[-23.91956409028035,121.24612172270893],[-23.603626296502487,122.07343279930471],[-23.290529453771047,122.90004332945914],[-22.980339434802172,123.72601351405827],[-22.67312190007743,124.5514031302061]],\"geo\":\"geo\",\"hovertemplate\":\"visible=No<br>hour=16<br>latitude=%{lat}<br>longitude=%{lon}<br>elevation=%{customdata[0]}<br>azimuth=%{customdata[1]}<extra></extra>\",\"lat\":[-33.649748330662476,-33.651767136622006,-33.652288704510084,-33.652526834100996,-33.65266568115874,-33.65276028258358,-33.65283190965524,-33.65288964845863,-33.652937534252054,-33.65297727727297,-33.65300949521698,-33.65303447769661,-33.653052573983125,-33.65306450940979,-33.65307131217126,-33.65307429223716,-33.65307513718505,-33.65307560507935,-33.65307728328424,-33.65308149142364,-33.653089096162375,-33.65310036345992,-33.653114779656015,-33.65313088613608,-33.653146329275685,-33.653158303135086,-33.653164437417736,-33.65316378753841,-33.65315739942404,-33.65314814139609,-33.653139694383796],\"legendgroup\":\"No\",\"lon\":[116.55931885134017,115.56905377950338,114.5822214426332,113.59604797759431,112.61011434318928,111.62429363157761,110.63853386877555,109.65280984967679,108.66710782719113,107.6814199249014,106.6957420673107,105.71007201448548,104.72440857277671,103.73875124776657,102.75310002330282,101.76745480156416,100.78181536327469,99.79618124845065,98.81055168093555,97.82492557029607,96.8393014750176,95.8536776522343,94.86805249650497,93.88242497282477,92.89679431736502,91.91116081588103,90.92552602774191,89.93989228357016,88.95426206532413,87.96863687843957,86.98301685994866],\"marker\":{\"color\":\"#636efa\",\"opacity\":0.3,\"symbol\":\"circle\"},\"mode\":\"markers\",\"name\":\"No\",\"showlegend\":true,\"type\":\"scattergeo\"}],\"name\":\"16\"},{\"data\":[{\"customdata\":[[-27.481750183378686,112.29193760416163],[-27.13503192862417,113.13556408758771],[-26.793611315411813,113.97440804960144],[-26.45502987953966,114.81120546229913],[-26.11895769222359,115.64645663527209],[-25.785340738033135,116.48036792942898],[-25.45419552619458,117.31306718584975],[-25.125563031754105,118.14465261093986],[-24.799494532040505,118.97520867144932],[-24.476046285402752,119.80481195033926],[-24.155277322759204,120.63353343888983],[-23.837248174666698,121.46144059623893],[-23.52202023970518,122.28859810292235],[-23.209655596651146,123.1150683546663],[-22.900216682364984,123.9409116077061],[-22.593765914567474,124.76618645061525],[-22.290365662165573,125.59094986425649],[-21.99007791759878,126.41525722798933],[-21.69296403878816,127.2391622861864],[-21.399084536403127,128.06271709790383],[-21.108498887057436,128.88597202662854],[-20.821265452057236,129.7089756973503],[-20.537441410651557,130.531774566245],[-20.25708271801805,131.35441254092845],[-19.98024404541042,132.17693130847286],[-19.70697938696727,132.99936982474597],[-19.437342922089293,133.82176454935131],[-19.171389800910845,134.6441502063541],[-18.90917646205003,135.4665604355219],[-18.650760175046226,136.28902864472428],[-18.396197987071556,137.11158793251622]],\"geo\":\"geo\",\"hovertemplate\":\"visible=No<br>hour=17<br>latitude=%{lat}<br>longitude=%{lon}<br>elevation=%{customdata[0]}<br>azimuth=%{customdata[1]}<extra></extra>\",\"lat\":[-33.649935444542606,-33.65179632632448,-33.6522978308121,-33.65253009250944,-33.65266669431731,-33.65276035455476,-33.652831616698165,-33.65288924604898,-33.652937111573024,-33.65297684984556,-33.653009067057624,-33.65303408525846,-33.653052250524645,-33.65306428363885,-33.653071240087314,-33.65307445035199,-33.65307558875621,-33.65307641901163,-33.6530785720963,-33.65308334892615,-33.65309155299779,-33.653103405809375,-33.65311834880025,-33.65313489147994,-33.65315067330216,-33.65316288676392,-33.65316918938238,-33.65316870721711,-33.65316255322086,-33.65315365681394,-33.65314572985278],\"legendgroup\":\"No\",\"lon\":[101.51782576752406,100.52792324395872,99.54113802846884,98.55497936161768,97.56905221382007,96.58323488311314,95.59747708129044,94.61175429354566,93.62605307576221,92.64036572307954,91.65468828682876,90.66901857454437,89.68335544587215,88.69769842152127,87.71204750195076,86.72640258541225,85.74076343822036,84.75512957438592,83.76950020606675,82.78387423331615,81.79825020664951,80.81262637200219,79.82700113347057,78.84137348381893,77.8557426844794,76.87010910043723,75.88447432863053,74.89884069801815,73.91321066607797,72.92758568076434,71.94196582722957],\"marker\":{\"color\":\"#636efa\",\"opacity\":0.3,\"symbol\":\"circle\"},\"mode\":\"markers\",\"name\":\"No\",\"showlegend\":true,\"type\":\"scattergeo\"}],\"name\":\"17\"},{\"data\":[{\"customdata\":[[-22.52123513330565,124.97422929551553],[-22.214648729356814,125.80288415244311],[-21.91406143255172,126.62820841729913],[-21.617262468224666,127.45254162315834],[-21.323937193983962,128.27631385635067],[-21.034028503877295,129.09969216143674],[-20.747546253948343,129.92277214400877],[-20.464523682429714,130.74562221169887],[-20.185003935164325,131.56829816196242],[-19.909034986229727,132.3908485262391],[-19.63666748665969,133.21331665605643],[-19.367953531611473,134.03574271532767],[-19.102945992025333,134.85816428771062],[-18.84169834941194,135.6806168918308],[-18.584264407733965,136.50313410651304],[-18.33069788144346,137.32574803990218],[-18.081052330828744,138.14848936199093],[-17.83538088306494,138.9713873593833],[-17.59373597607438,139.79446990507475],[-17.356169034251703,140.61776338905392],[-17.122730297717016,141.44129274021003],[-16.893468773003388,142.26508142209943],[-16.668432111844847,143.08915099270087],[-16.447666549719546,143.9135207528681],[-16.231216860578417,144.73820809178977],[-16.019126902094,145.56322788647694],[-15.811440477359133,146.3885927478054],[-15.608202175619745,147.21431369831728],[-15.409457697197988,148.04040075495217],[-15.215253458106094,148.86686381738653],[-15.025635505353382,149.69371264702653]],\"geo\":\"geo\",\"hovertemplate\":\"visible=No<br>hour=18<br>latitude=%{lat}<br>longitude=%{lon}<br>elevation=%{customdata[0]}<br>azimuth=%{customdata[1]}<extra></extra>\",\"lat\":[-33.65010841273881,-33.65183005184835,-33.65231269183192,-33.652539350446126,-33.65267380528525,-33.652766577098625,-33.652837511454905,-33.652895061059226,-33.652942929407715,-33.652982679159265,-33.653014908094725,-33.65303997263758,-33.65305821638334,-33.65307035583333,-33.65307747761224,-33.653080932951774,-33.65308237675033,-33.6530835790151,-33.653086213236655,-33.65309155627783,-33.65310035213384,-33.65311277896868,-33.653128230422254,-33.6531451869599,-33.65316128686569,-33.65317372557707,-33.653180188341786,-33.65317986551892,-33.653173932312264,-33.65316538181104,-33.653157954827726],\"legendgroup\":\"No\",\"lon\":[86.47637941256794,85.48679663731802,84.50005577588176,83.51391127403016,82.52799036300398,81.54217627416193,80.55642033055766,79.57069868721092,78.58499819839014,77.59931133017103,76.61363425585807,75.62796482290271,74.64230194604373,73.65664516290009,72.6709944878598,71.68534981358135,70.69971089478076,69.71407721883004,68.72844797751044,67.74282206276588,66.75719802383392,65.77157409785566,64.7859487011203,63.80032085312612,62.81468983801521,61.82905609915661,60.84342127071014,59.8577876800729,58.87215776331252,57.8865329101714,56.90091314851538],\"marker\":{\"color\":\"#636efa\",\"opacity\":0.3,\"symbol\":\"circle\"},\"mode\":\"markers\",\"name\":\"No\",\"showlegend\":true,\"type\":\"scattergeo\"}],\"name\":\"18\"},{\"data\":[{\"customdata\":[[-18.271514778179714,137.53380744720016],[-18.01931341341754,138.36017496740672],[-17.773642299156933,139.18416270660606],[-17.53256315528098,140.0077895493398],[-17.295784413797644,140.83142555412306],[-17.06324800863157,141.6552034795199],[-16.83495742642579,142.4791906116713],[-16.61093764103081,143.30342911136617],[-16.39122268528195,144.12794950795458],[-16.175850952263065,144.9527756077013],[-15.9648631632304,145.7779264112656],[-15.758301225529936,146.6034180643815],[-15.556207544952041,147.4292643387661],[-15.358624900726989,148.25547718009796],[-15.16559620164016,149.0820668228999],[-14.977164050220143,149.9090422711627],[-14.793370646317197,150.73641131400325],[-14.614257576375135,151.56418063987869],[-14.439865553735446,152.3923558169771],[-14.270233993600613,153.22094121909902],[-14.105400876029316,154.04994009271277],[-13.945402723472798,154.87935459281812],[-13.790274425423663,155.70918534000685],[-13.640049169655365,156.53943110708136],[-13.494758424078391,157.37008918633452],[-13.354432407721454,158.2011547011161],[-13.219100965735828,159.03262086132528],[-13.088794472765853,159.8644795584081],[-12.963544180108649,160.6967218932313],[-12.843381902783744,161.52933911759132],[-12.728338899308017,162.36232268689173]],\"geo\":\"geo\",\"hovertemplate\":\"visible=No<br>hour=19<br>latitude=%{lat}<br>longitude=%{lon}<br>elevation=%{customdata[0]}<br>azimuth=%{customdata[1]}<extra></extra>\",\"lat\":[-33.65027019779973,-33.651868321189276,-33.65233318022492,-33.652554463300255,-33.65268684314289,-33.65277875553788,-33.6528493737888,-33.652906847309566,-33.6529547162451,-33.65299447031793,-33.65302670136086,-33.653051799224876,-33.65307010720237,-33.65308233836956,-33.65308961344831,-33.653093304006724,-33.65309504073381,-33.65309660033113,-33.65309969398855,-33.65310557042354,-33.65311492039963,-33.65312788008616,-33.65314379345497,-33.653161114485826,-33.65317748431491,-33.65319010537291,-33.65319669047321,-33.653196488482784,-33.65319073464009,-33.65318248801458,-33.65317551392054],\"legendgroup\":\"No\",\"lon\":[71.43497176168889,70.4456726436583,69.45897357553186,68.47284263464229,67.48692771735568,66.50111673239915,65.5153625432966,64.52964195600872,63.5439421195094,62.55825567038858,61.572578898540684,60.58690968393488,59.60124699831307,58.61559039789507,57.629939907336684,56.64429541232262,55.65865665987413,54.67302310948721,53.68739392429181,52.701767990857356,51.71614386284809,50.73051977063194,49.74489414573687,48.75926603266816,47.77363473503746,46.78800077331849,45.802365818964404,44.8167321992267,43.831102332394906,42.84547754824462,41.859857812026384],\"marker\":{\"color\":\"#636efa\",\"opacity\":0.3,\"symbol\":\"circle\"},\"mode\":\"markers\",\"name\":\"No\",\"showlegend\":true,\"type\":\"scattergeo\"}],\"name\":\"19\"},{\"data\":[{\"customdata\":[[-14.934411856300663,150.11881007191047],[-14.748683941736243,150.94950482206346],[-14.56984882456005,151.77834969509468],[-14.39624155364423,152.60709366172605],[-14.227595610272278,153.4360544488712],[-14.063850820363255,154.2653352323658],[-13.905001993441948,155.09497917710172],[-13.751063014565183,155.92500632436818],[-13.602055697772803,156.75542610783313],[-13.458005563181745,157.5862418663701],[-13.318939969874913,158.41745261659193],[-13.184887107122925,159.2490549763433],[-13.055875304104182,160.08104353562334],[-12.931932959841403,160.91341144441083],[-12.813088354106656,161.74615052249607],[-12.699369201475545,162.57925176191375],[-12.590802528631357,163.41270533515197],[-12.487414551043004,164.24650077237158],[-12.389230406090983,165.08062695591514],[-12.2962736461108,165.91507205410227],[-12.208566151548217,166.74982363904059],[-12.126128130606277,167.58486875911336],[-12.048977895303997,168.4201934974791],[-11.97713179901458,169.25578270045153],[-11.910604257593501,170.09162036229083],[-11.849408136583268,170.92768884962507],[-11.793555652748585,171.76396915918502],[-11.74305934327674,172.60044142241273],[-11.697932448517069,173.43708538286148],[-11.658188696190875,174.2738813947948],[-11.623841145205047,175.110810558141]],\"geo\":\"geo\",\"hovertemplate\":\"visible=No<br>hour=20<br>latitude=%{lat}<br>longitude=%{lon}<br>elevation=%{customdata[0]}<br>azimuth=%{customdata[1]}<extra></extra>\",\"lat\":[-33.65042277014429,-33.65191072004909,-33.652358775711534,-33.65257487516284,-33.65270522644031,-33.65279628486053,-33.65286657320665,-33.6529239483921,-33.65297179083401,-33.653011519406654,-33.65304372157143,-33.65306881691222,-33.653087152168176,-33.65309943837541,-33.65310683193472,-33.653110723893796,-33.653112717841594,-33.6531145968683,-33.65311810162955,-33.653124450557556,-33.653134289517666,-33.65314771402277,-33.65316401768371,-33.65318162994599,-33.65319819681105,-33.653210931274174,-33.65321757369008,-33.65321742672972,-33.65321178613324,-33.65320377842282,-33.65319718660928],\"legendgroup\":\"No\",\"lon\":[56.39359616504988,55.40455002300019,54.4178903786893,53.43177242616744,52.445863269976435,51.460055255801755,50.47430272089883,49.48858310444368,48.5028838471272,47.517197755573854,46.531521230447765,45.545852177563525,44.56018962731965,43.57453315608403,42.58888279434152,41.60323841981399,40.6175997765306,39.631966294354356,38.64633710059024,37.660711080134895,36.67508679535103,35.68946247151748,34.70383655863689,33.7182081238475,32.732576486650416,31.74694224300192,30.76130710217822,29.775673393896877,28.790043522291263,27.80441875448509,26.818798988353535],\"marker\":{\"color\":\"#636efa\",\"opacity\":0.3,\"symbol\":\"circle\"},\"mode\":\"markers\",\"name\":\"No\",\"showlegend\":true,\"type\":\"scattergeo\"}],\"name\":\"20\"},{\"data\":[{\"customdata\":[[-12.675479036770815,162.79109899208748],[-12.56554623410683,163.6275347269057],[-12.462668785673356,164.46231672546534],[-12.365438376380796,165.29696039436877],[-12.273611496928385,166.13173903350216],[-12.187122985567603,166.9667326436198],[-12.105955620239039,167.80196660841054],[-12.030108648243015,168.63744532825197],[-11.95958803781754,169.4731637982676],[-11.894402782447756,170.3091117340652],[-11.83456322760424,171.1452752062744],[-11.780080226938688,171.98163853513347],[-11.73096446452982,172.81818455825402],[-11.68722644900243,173.6548952558373],[-11.648876387700758,174.49175185120114],[-11.615923745051974,175.32873533494583],[-11.588377099243688,176.16582646779096],[-11.566244120657956,177.0030060125423],[-11.549531294478896,177.84025473787773],[-11.538243355524532,178.67755336298018],[-11.532383262104586,179.514882720425],[-11.531952210622277,180.35222385408878],[-11.536949370765264,181.18955757496494],[-11.547371840144418,182.02686422473823],[-11.563214712176547,182.86412406290881],[-11.584471371769535,183.70131640035441],[-11.6111344314937,184.53841984492644],[-11.643196762621077,185.37541270141412],[-11.68065192138482,186.2122733937861],[-11.72349403435121,187.04898151374334],[-11.771716605921181,187.88551803692212]],\"geo\":\"geo\",\"hovertemplate\":\"visible=No<br>hour=21<br>latitude=%{lat}<br>longitude=%{lon}<br>elevation=%{customdata[0]}<br>azimuth=%{customdata[1]}<extra></extra>\",\"lat\":[-33.65056727306967,-33.65195644799401,-33.6523885819246,-33.652599657197136,-33.65272800304797,-33.652818191069976,-33.652888111943184,-33.65294534250973,-33.65299310872166,-33.65303276158283,-33.65306488466972,-33.6530899212374,-33.65310822670055,-33.65312051191204,-33.65312796878383,-33.653132006774456,-33.653134201739654,-33.653136341755996,-33.653140185879934,-33.653146922535825,-33.65315716238852,-33.65317096148306,-33.65318756358781,-33.65320537466398,-33.65322204545918,-33.653234802615145,-33.6532414143976,-33.653241234137965,-33.653235621084384,-33.653227769341115,-33.65322147080545],\"legendgroup\":\"No\",\"lon\":[41.352247116206215,40.36342767834666,39.376805266202894,38.390699763057704,37.404796149060054,36.418990981105324,35.43324000776468,34.44752128436517,33.461822540741665,32.4761367528195,31.490460425964113,30.504791486377346,29.51912902411724,28.533472637072357,27.547822356658482,26.562178052053184,25.576539469431218,24.590906006934922,23.605276750593017,22.619650587756922,21.63402609202697,20.648401485040587,19.662775238433277,18.677146439117852,17.691514418945296,16.705879847453417,15.720244472728806,14.734610630532533,13.748980713901286,12.763355923907275,11.777736087309666],\"marker\":{\"color\":\"#636efa\",\"opacity\":0.3,\"symbol\":\"circle\"},\"mode\":\"markers\",\"name\":\"No\",\"showlegend\":true,\"type\":\"scattergeo\"}],\"name\":\"21\"},{\"data\":[{\"customdata\":[[-11.612442870910698,175.54202667888234],[-11.584007445201427,176.3817271912293],[-11.56255025358172,177.2197548687979],[-11.546892276063359,178.05742172953066],[-11.536809315782106,178.8949664497688],[-11.532228557925775,179.7324548757856],[-11.53311821519671,180.569903716256],[-11.539460465727666,181.40731100143952],[-11.551243110973127,182.2446667185893],[-11.568456416137163,183.0819565377287],[-11.59109164140831,183.91916330109476],[-11.61914037962484,184.7562688725472],[-11.652593901792887,185.59325429833444],[-11.691443215031617,186.43010045887044],[-11.735679002307435,187.26678814718304],[-11.785291196112247,188.10329860416218],[-11.840268816518355,188.93961351112716],[-11.900600055301071,189.77571525983214],[-11.966271982190948,190.61158695417785],[-12.037269944925523,191.4472123584131],[-12.113577603476017,192.28257609284148],[-12.19517694707157,193.1176637425146],[-12.282047994597928,193.95246140035667],[-12.374168770027003,194.78695545398426],[-12.471515416139734,195.62113295524955],[-12.574062391490052,196.45498065806675],[-12.681783440943166,197.28848523706893],[-12.79465267599209,198.12163357043264],[-12.912645044636976,198.9544131011237],[-13.03573630832181,199.7868129274976],[-13.163901810290316,200.61882409614003]],\"geo\":\"geo\",\"hovertemplate\":\"visible=No<br>hour=22<br>latitude=%{lat}<br>longitude=%{lon}<br>elevation=%{customdata[0]}<br>azimuth=%{customdata[1]}<extra></extra>\",\"lat\":[-33.65070417945211,-33.65200438033704,-33.65242138894212,-33.65262757153192,-33.65275391538269,-33.65284319780615,-33.65291269321252,-33.652969712358,-33.6530173336736,-33.653056843880634,-33.653088821938795,-33.65311372693579,-33.65313192937546,-33.65314414219689,-33.653151590700126,-33.653155701699575,-33.65315802511804,-33.65316035125343,-33.653164444504164,-33.653171466152756,-33.653182001927085,-33.653196069372946,-33.65321286406641,-33.65323076841338,-33.65324743569877,-33.653260108809405,-33.65326658494316,-33.6532662668794,-33.653260582521284,-33.653252791972,-33.653246685729634],\"legendgroup\":\"No\",\"lon\":[26.310920090983345,25.32230471457618,24.3357175087806,23.349623951357906,22.36372567728279,21.377923242805014,20.39217374987095,19.406455853057683,18.420757568900022,17.43507204151181,16.449395874830934,15.463727011616776,14.478064601597762,13.492408265324997,12.50675803017393,11.521113756605958,10.53547519803991,9.5498417187845,8.564212360335112,7.57858601645374,6.592961272610878,5.607336348122613,4.621709739112076,3.6360805491130628,2.650448119226803,1.6648131904473202,0.6791775510649664,-0.30645645288481244,-1.2920864374792602,-2.2777112714696486,-3.2633312015904576],\"marker\":{\"color\":\"#636efa\",\"opacity\":0.3,\"symbol\":\"circle\"},\"mode\":\"markers\",\"name\":\"No\",\"showlegend\":true,\"type\":\"scattergeo\"}],\"name\":\"22\"}]);\n",
       "                        }).then(function(){\n",
       "                            \n",
       "var gd = document.getElementById('d5b7eb74-496f-49da-98d9-1be5c93ae6f9');\n",
       "var x = new MutationObserver(function (mutations, observer) {{\n",
       "        var display = window.getComputedStyle(gd).display;\n",
       "        if (!display || display === 'none') {{\n",
       "            console.log([gd, 'removed!']);\n",
       "            Plotly.purge(gd);\n",
       "            observer.disconnect();\n",
       "        }}\n",
       "}});\n",
       "\n",
       "// Listen for the removal of the full notebook cells\n",
       "var notebookContainer = gd.closest('#notebook-container');\n",
       "if (notebookContainer) {{\n",
       "    x.observe(notebookContainer, {childList: true});\n",
       "}}\n",
       "\n",
       "// Listen for the clearing of the current output cell\n",
       "var outputEl = gd.closest('.output');\n",
       "if (outputEl) {{\n",
       "    x.observe(outputEl, {childList: true});\n",
       "}}\n",
       "\n",
       "                        })                };                });            </script>        </div>"
      ]
     },
     "metadata": {},
     "output_type": "display_data"
    }
   ],
   "source": [
    "px.scatter_geo(prop_data,\n",
    "               animation_frame='hour',\n",
    "               color='visible',\n",
    "               lat='latitude',\n",
    "               lon='longitude',\n",
    "               opacity=0.3,\n",
    "               hover_data=['elevation', 'azimuth'],\n",
    "           projection='orthographic',)"
   ]
  },
  {
   "cell_type": "markdown",
   "metadata": {},
   "source": [
    "- Training loss curve\n",
    "- Trained policy graphs\n",
    "- Model Based approaches compare possible gain\n",
    "- "
   ]
  },
  {
   "cell_type": "code",
   "execution_count": null,
   "metadata": {},
   "outputs": [],
   "source": []
  }
 ],
 "metadata": {
  "interpreter": {
   "hash": "7c1ec5d9efc34516c1b49d6429fd2f63ed729056e5d8b6dccd5a1716143e1140"
  },
  "kernelspec": {
   "display_name": "Python 3.9.10 ('simulator')",
   "language": "python",
   "name": "python3"
  },
  "language_info": {
   "codemirror_mode": {
    "name": "ipython",
    "version": 3
   },
   "file_extension": ".py",
   "mimetype": "text/x-python",
   "name": "python",
   "nbconvert_exporter": "python",
   "pygments_lexer": "ipython3",
   "version": "3.9.10"
  },
  "orig_nbformat": 4
 },
 "nbformat": 4,
 "nbformat_minor": 2
}
