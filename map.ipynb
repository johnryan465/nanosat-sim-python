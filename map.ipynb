{
 "cells": [
  {
   "cell_type": "code",
   "execution_count": 4,
   "metadata": {},
   "outputs": [
    {
     "name": "stdout",
     "output_type": "stream",
     "text": [
      "The autoreload extension is already loaded. To reload it, use:\n",
      "  %reload_ext autoreload\n"
     ]
    }
   ],
   "source": [
    "%load_ext autoreload"
   ]
  },
  {
   "cell_type": "code",
   "execution_count": 5,
   "metadata": {},
   "outputs": [],
   "source": [
    "%autoreload 2"
   ]
  },
  {
   "cell_type": "code",
   "execution_count": 6,
   "metadata": {},
   "outputs": [
    {
     "ename": "ModuleNotFoundError",
     "evalue": "No module named 'spacecraft.actuators.magnetorquer'; 'spacecraft.actuators' is not a package",
     "output_type": "error",
     "traceback": [
      "\u001b[0;31m---------------------------------------------------------------------------\u001b[0m",
      "\u001b[0;31mModuleNotFoundError\u001b[0m                       Traceback (most recent call last)",
      "Input \u001b[0;32mIn [6]\u001b[0m, in \u001b[0;36m<cell line: 5>\u001b[0;34m()\u001b[0m\n\u001b[1;32m      1\u001b[0m \u001b[38;5;124;03m\"\"\"\u001b[39;00m\n\u001b[1;32m      2\u001b[0m \u001b[38;5;124;03mThis module is designed to visualise the outputs of the simulator\u001b[39;00m\n\u001b[1;32m      3\u001b[0m \u001b[38;5;124;03m\"\"\"\u001b[39;00m\n\u001b[1;32m      4\u001b[0m \u001b[38;5;28;01mfrom\u001b[39;00m \u001b[38;5;21;01mopssat\u001b[39;00m\u001b[38;5;21;01m.\u001b[39;00m\u001b[38;5;21;01menv\u001b[39;00m \u001b[38;5;28;01mimport\u001b[39;00m OPSSATEnv\n\u001b[0;32m----> 5\u001b[0m \u001b[38;5;28;01mfrom\u001b[39;00m \u001b[38;5;21;01mopssat\u001b[39;00m\u001b[38;5;21;01m.\u001b[39;00m\u001b[38;5;21;01msat\u001b[39;00m \u001b[38;5;28;01mimport\u001b[39;00m OPSSAT\n\u001b[1;32m      6\u001b[0m \u001b[38;5;28;01mfrom\u001b[39;00m \u001b[38;5;21;01msimulator\u001b[39;00m\u001b[38;5;21;01m.\u001b[39;00m\u001b[38;5;21;01mmain\u001b[39;00m \u001b[38;5;28;01mimport\u001b[39;00m Simulator\n\u001b[1;32m      8\u001b[0m \u001b[38;5;28;01mimport\u001b[39;00m \u001b[38;5;21;01morekit\u001b[39;00m\n",
      "File \u001b[0;32m/workspaces/nanosat-sim-python/opssat/sat.py:11\u001b[0m, in \u001b[0;36m<module>\u001b[0;34m\u001b[0m\n\u001b[1;32m      9\u001b[0m \u001b[38;5;28;01mfrom\u001b[39;00m \u001b[38;5;21;01mopssat\u001b[39;00m\u001b[38;5;21;01m.\u001b[39;00m\u001b[38;5;21;01mactuators\u001b[39;00m\u001b[38;5;21;01m.\u001b[39;00m\u001b[38;5;21;01mreactionwheel\u001b[39;00m \u001b[38;5;28;01mimport\u001b[39;00m SetOfReactionWheels, SetOfReactionWheelsState\n\u001b[1;32m     10\u001b[0m \u001b[38;5;28;01mfrom\u001b[39;00m \u001b[38;5;21;01mspacecraft\u001b[39;00m\u001b[38;5;21;01m.\u001b[39;00m\u001b[38;5;21;01mcontroller\u001b[39;00m\u001b[38;5;21;01m.\u001b[39;00m\u001b[38;5;21;01mcontroller\u001b[39;00m \u001b[38;5;28;01mimport\u001b[39;00m Controller, SimpleController\n\u001b[0;32m---> 11\u001b[0m \u001b[38;5;28;01mfrom\u001b[39;00m \u001b[38;5;21;01mspacecraft\u001b[39;00m\u001b[38;5;21;01m.\u001b[39;00m\u001b[38;5;21;01msensorsat\u001b[39;00m \u001b[38;5;28;01mimport\u001b[39;00m SensorSatellite\n\u001b[1;32m     12\u001b[0m \u001b[38;5;28;01mfrom\u001b[39;00m \u001b[38;5;21;01mopssat\u001b[39;00m\u001b[38;5;21;01m.\u001b[39;00m\u001b[38;5;21;01mstate\u001b[39;00m\u001b[38;5;21;01m.\u001b[39;00m\u001b[38;5;21;01mmagnetometer\u001b[39;00m \u001b[38;5;28;01mimport\u001b[39;00m MagnetometerStateProvider\n\u001b[1;32m     15\u001b[0m \u001b[38;5;28;01mclass\u001b[39;00m \u001b[38;5;21;01mOPSSAT\u001b[39;00m(SensorSatellite):\n",
      "File \u001b[0;32m/workspaces/nanosat-sim-python/spacecraft/sensorsat.py:6\u001b[0m, in \u001b[0;36m<module>\u001b[0;34m\u001b[0m\n\u001b[1;32m      3\u001b[0m \u001b[38;5;28;01mimport\u001b[39;00m \u001b[38;5;21;01mnumpy\u001b[39;00m \u001b[38;5;28;01mas\u001b[39;00m \u001b[38;5;21;01mnp\u001b[39;00m\n\u001b[1;32m      4\u001b[0m \u001b[38;5;28;01mfrom\u001b[39;00m \u001b[38;5;21;01mnumpy\u001b[39;00m\u001b[38;5;21;01m.\u001b[39;00m\u001b[38;5;21;01mtyping\u001b[39;00m \u001b[38;5;28;01mimport\u001b[39;00m NDArray\n\u001b[0;32m----> 6\u001b[0m \u001b[38;5;28;01mfrom\u001b[39;00m \u001b[38;5;21;01mspacecraft\u001b[39;00m\u001b[38;5;21;01m.\u001b[39;00m\u001b[38;5;21;01mactuators\u001b[39;00m\u001b[38;5;21;01m.\u001b[39;00m\u001b[38;5;21;01mmagnetorquer\u001b[39;00m \u001b[38;5;28;01mimport\u001b[39;00m SetOfMagnetorquers\n\u001b[1;32m      7\u001b[0m \u001b[38;5;28;01mfrom\u001b[39;00m \u001b[38;5;21;01mspacecraft\u001b[39;00m\u001b[38;5;21;01m.\u001b[39;00m\u001b[38;5;21;01mactuators\u001b[39;00m\u001b[38;5;21;01m.\u001b[39;00m\u001b[38;5;21;01mreactionwheel\u001b[39;00m \u001b[38;5;28;01mimport\u001b[39;00m SetOfReactionWheels\n\u001b[1;32m      8\u001b[0m \u001b[38;5;28;01mfrom\u001b[39;00m \u001b[38;5;21;01mspacecraft\u001b[39;00m\u001b[38;5;21;01m.\u001b[39;00m\u001b[38;5;21;01msatellite\u001b[39;00m \u001b[38;5;28;01mimport\u001b[39;00m Satellite\n",
      "\u001b[0;31mModuleNotFoundError\u001b[0m: No module named 'spacecraft.actuators.magnetorquer'; 'spacecraft.actuators' is not a package"
     ]
    }
   ],
   "source": [
    "\"\"\"\n",
    "This module is designed to visualise the outputs of the simulator\n",
    "\"\"\"\n",
    "from opssat.env import OPSSATEnv\n",
    "from opssat.sat import OPSSAT\n",
    "from simulator.main import Simulator\n",
    "\n",
    "import orekit\n",
    "from orekit.pyhelpers import setup_orekit_curdir\n",
    "from orekit.pyhelpers import absolutedate_to_datetime \n",
    "\n",
    "from org.orekit.frames import FramesFactory\n",
    "from org.orekit.orbits import KeplerianOrbit\n",
    "from org.orekit.time import AbsoluteDate\n",
    "from org.orekit.time import TimeScalesFactory\n",
    "from org.orekit.utils import Constants, IERSConventions, AngularDerivativesFilter\n",
    "from org.orekit.utils import PVCoordinates\n",
    "from org.hipparchus.geometry.euclidean.threed import Vector3D\n",
    "\n",
    "import numpy as np"
   ]
  },
  {
   "cell_type": "code",
   "execution_count": null,
   "metadata": {},
   "outputs": [],
   "source": [
    "def create_orbit(initialDate: AbsoluteDate):\n",
    "    position  = Vector3D(-6142438.668, 3492467.560, -25767.25680)\n",
    "    velocity  = Vector3D(505.8479685, 942.7809215, 7435.922231)\n",
    "    initialOrbit =  KeplerianOrbit(PVCoordinates(position, velocity),\n",
    "                                                            FramesFactory.getEME2000(), initialDate,\n",
    "                                                            Constants.EIGEN5C_EARTH_MU)\n",
    "    return initialOrbit"
   ]
  },
  {
   "cell_type": "code",
   "execution_count": null,
   "metadata": {},
   "outputs": [
    {
     "name": "stdout",
     "output_type": "stream",
     "text": [
      "SpacecraftState{orbit=Keplerian parameters: {a: 7069220.386682823; e: 4.777356060557311E-4; i: 98.18525099174988; pa: 13.741061002484528; raan: 150.34825333049; v: -13.952151446378437;}, attitude=org.orekit.attitudes.Attitude@71b2217f, mass=5.777673, additional={}}\n"
     ]
    }
   ],
   "source": [
    "vm = orekit.initVM()\n",
    "setup_orekit_curdir()\n",
    "start_date = AbsoluteDate(2004, 1, 1, 23, 30, 00.000, TimeScalesFactory.getUTC())\n",
    "orbit = create_orbit(start_date)\n",
    "opssat = OPSSAT(orbit=orbit)\n",
    "env = OPSSATEnv()\n",
    "simulator = Simulator(satellite=opssat, orbit=orbit, env=env, step_size=60.0 * 60 * 24)\n",
    "end_date = AbsoluteDate(2004, 2, 1, 23, 40, 00.000, TimeScalesFactory.getUTC())\n",
    "res = simulator.run(end_date)"
   ]
  },
  {
   "cell_type": "code",
   "execution_count": null,
   "metadata": {},
   "outputs": [
    {
     "data": {
      "text/plain": [
       "JArray<double>[1.0, 1.0, 1.0]"
      ]
     },
     "execution_count": 30,
     "metadata": {},
     "output_type": "execute_result"
    }
   ],
   "source": [
    "res[\"state\"][1].getAdditionalState(\"dipole_moment\")"
   ]
  },
  {
   "cell_type": "code",
   "execution_count": null,
   "metadata": {},
   "outputs": [],
   "source": [
    "from math import radians, pi\n",
    "from org.orekit.bodies import OneAxisEllipsoid, GeodeticPoint\n",
    "from org.orekit.frames import FramesFactory, TopocentricFrame\n",
    "\n",
    "ITRF = FramesFactory.getITRF(IERSConventions.IERS_2010, True)\n",
    "earth = OneAxisEllipsoid(Constants.WGS84_EARTH_EQUATORIAL_RADIUS, \n",
    "                         Constants.WGS84_EARTH_FLATTENING, \n",
    "                         ITRF)"
   ]
  },
  {
   "cell_type": "code",
   "execution_count": null,
   "metadata": {},
   "outputs": [],
   "source": [
    "longitude = radians(21.063)\n",
    "latitude  = radians(67.878)\n",
    "altitude  = 341.0\n",
    "station1 = GeodeticPoint(latitude, longitude, altitude)\n",
    "sta1Frame = TopocentricFrame(earth, station1, \"Esrange\")"
   ]
  },
  {
   "cell_type": "code",
   "execution_count": null,
   "metadata": {},
   "outputs": [],
   "source": [
    "import pandas as pd\n",
    "\n",
    "inertialFrame = FramesFactory.getEME2000()\n",
    "\n",
    "pvs = list(map(lambda x: x.getPVCoordinates(), res[\"state\"]))\n",
    "\n",
    "prop_data = pd.DataFrame(data=pvs, columns=['pv'])\n",
    "\n",
    "prop_data['Position'] = prop_data['pv'].apply(lambda x: x.getPosition())\n",
    "prop_data['datetime'] = prop_data['pv'].apply(lambda x: absolutedate_to_datetime(x.getDate()))\n",
    "prop_data['elevation'] = prop_data['pv'].apply(lambda x: sta1Frame.getElevation(x.getPosition(), inertialFrame, x.getDate())*180.0/pi )\n",
    "prop_data['azimuth'] = prop_data['pv'].apply(lambda x: sta1Frame.getAzimuth(x.getPosition(), inertialFrame, x.getDate())*180.0/pi )\n",
    "prop_data.set_index('datetime', inplace=True, drop=False)\n",
    "prop_data.index.name = 'Timestamp'"
   ]
  },
  {
   "cell_type": "code",
   "execution_count": null,
   "metadata": {},
   "outputs": [
    {
     "data": {
      "text/html": [
       "<div>\n",
       "<style scoped>\n",
       "    .dataframe tbody tr th:only-of-type {\n",
       "        vertical-align: middle;\n",
       "    }\n",
       "\n",
       "    .dataframe tbody tr th {\n",
       "        vertical-align: top;\n",
       "    }\n",
       "\n",
       "    .dataframe thead th {\n",
       "        text-align: right;\n",
       "    }\n",
       "</style>\n",
       "<table border=\"1\" class=\"dataframe\">\n",
       "  <thead>\n",
       "    <tr style=\"text-align: right;\">\n",
       "      <th></th>\n",
       "      <th>pv</th>\n",
       "      <th>Position</th>\n",
       "      <th>datetime</th>\n",
       "      <th>elevation</th>\n",
       "      <th>azimuth</th>\n",
       "    </tr>\n",
       "    <tr>\n",
       "      <th>Timestamp</th>\n",
       "      <th></th>\n",
       "      <th></th>\n",
       "      <th></th>\n",
       "      <th></th>\n",
       "      <th></th>\n",
       "    </tr>\n",
       "  </thead>\n",
       "  <tbody>\n",
       "    <tr>\n",
       "      <th>2004-01-01 23:30:00</th>\n",
       "      <td>{2004-01-01T23:30:00.000, P(-6142438.668, 3492...</td>\n",
       "      <td>{-6,142,438.668; 3,492,467.56; -25,767.2568}</td>\n",
       "      <td>2004-01-01 23:30:00</td>\n",
       "      <td>-32.171412</td>\n",
       "      <td>141.968060</td>\n",
       "    </tr>\n",
       "    <tr>\n",
       "      <th>2004-01-02 23:30:00</th>\n",
       "      <td>{2004-01-02T23:30:00.000, P(4290649.606226927,...</td>\n",
       "      <td>{4,290,649.606226927; -3,111,892.9937405; -4,6...</td>\n",
       "      <td>2004-01-02 23:30:00</td>\n",
       "      <td>-73.813211</td>\n",
       "      <td>315.343239</td>\n",
       "    </tr>\n",
       "    <tr>\n",
       "      <th>2004-01-03 23:30:00</th>\n",
       "      <td>{2004-01-03T23:30:00.000, P(-191223.3813256002...</td>\n",
       "      <td>{-191,223.3813256002; 1,230,768.2263023935; 6,...</td>\n",
       "      <td>2004-01-03 23:30:00</td>\n",
       "      <td>18.478792</td>\n",
       "      <td>346.262952</td>\n",
       "    </tr>\n",
       "    <tr>\n",
       "      <th>2004-01-04 23:30:00</th>\n",
       "      <td>{2004-01-04T23:30:00.000, P(-4083946.014820818...</td>\n",
       "      <td>{-4,083,946.014820818; 1,141,229.1466658672; -...</td>\n",
       "      <td>2004-01-04 23:30:00</td>\n",
       "      <td>-61.488694</td>\n",
       "      <td>147.137486</td>\n",
       "    </tr>\n",
       "    <tr>\n",
       "      <th>2004-01-05 23:30:00</th>\n",
       "      <td>{2004-01-05T23:30:00.000, P(6320775.90627522, ...</td>\n",
       "      <td>{6,320,775.90627522; -2,811,540.3933480196; 1,...</td>\n",
       "      <td>2004-01-05 23:30:00</td>\n",
       "      <td>-45.238654</td>\n",
       "      <td>323.148774</td>\n",
       "    </tr>\n",
       "  </tbody>\n",
       "</table>\n",
       "</div>"
      ],
      "text/plain": [
       "                                                                    pv  \\\n",
       "Timestamp                                                                \n",
       "2004-01-01 23:30:00  {2004-01-01T23:30:00.000, P(-6142438.668, 3492...   \n",
       "2004-01-02 23:30:00  {2004-01-02T23:30:00.000, P(4290649.606226927,...   \n",
       "2004-01-03 23:30:00  {2004-01-03T23:30:00.000, P(-191223.3813256002...   \n",
       "2004-01-04 23:30:00  {2004-01-04T23:30:00.000, P(-4083946.014820818...   \n",
       "2004-01-05 23:30:00  {2004-01-05T23:30:00.000, P(6320775.90627522, ...   \n",
       "\n",
       "                                                              Position  \\\n",
       "Timestamp                                                                \n",
       "2004-01-01 23:30:00       {-6,142,438.668; 3,492,467.56; -25,767.2568}   \n",
       "2004-01-02 23:30:00  {4,290,649.606226927; -3,111,892.9937405; -4,6...   \n",
       "2004-01-03 23:30:00  {-191,223.3813256002; 1,230,768.2263023935; 6,...   \n",
       "2004-01-04 23:30:00  {-4,083,946.014820818; 1,141,229.1466658672; -...   \n",
       "2004-01-05 23:30:00  {6,320,775.90627522; -2,811,540.3933480196; 1,...   \n",
       "\n",
       "                               datetime  elevation     azimuth  \n",
       "Timestamp                                                       \n",
       "2004-01-01 23:30:00 2004-01-01 23:30:00 -32.171412  141.968060  \n",
       "2004-01-02 23:30:00 2004-01-02 23:30:00 -73.813211  315.343239  \n",
       "2004-01-03 23:30:00 2004-01-03 23:30:00  18.478792  346.262952  \n",
       "2004-01-04 23:30:00 2004-01-04 23:30:00 -61.488694  147.137486  \n",
       "2004-01-05 23:30:00 2004-01-05 23:30:00 -45.238654  323.148774  "
      ]
     },
     "execution_count": 34,
     "metadata": {},
     "output_type": "execute_result"
    }
   ],
   "source": [
    "prop_data.head() "
   ]
  },
  {
   "cell_type": "code",
   "execution_count": null,
   "metadata": {},
   "outputs": [],
   "source": [
    "prop_data['groundpoint'] = prop_data['pv'].apply(lambda pv: earth.transform(pv.position, inertialFrame, pv.date))\n",
    "prop_data['latitude'] = np.degrees(prop_data.groundpoint.apply(lambda gp: gp.latitude))\n",
    "prop_data['longitude'] = np.degrees(prop_data.groundpoint.apply(lambda gp: gp.longitude))\n",
    "prop_data['day'] = prop_data.datetime.dt.dayofyear\n",
    "prop_data['hour'] = prop_data.datetime.dt.hour"
   ]
  },
  {
   "cell_type": "code",
   "execution_count": null,
   "metadata": {},
   "outputs": [],
   "source": [
    "prop_data['visible'] = prop_data.elevation.apply(lambda el: 'Yes' if el>0 else 'No') "
   ]
  },
  {
   "cell_type": "code",
   "execution_count": null,
   "metadata": {},
   "outputs": [
    {
     "data": {
      "image/png": "[encoded data removed]",
      "text/plain": [
       "<Figure size 432x288 with 1 Axes>"
      ]
     },
     "metadata": {
      "needs_background": "light"
     },
     "output_type": "display_data"
    }
   ],
   "source": [
    "prop_data.plot(y='elevation'); "
   ]
  },
  {
   "cell_type": "code",
   "execution_count": null,
   "metadata": {},
   "outputs": [],
   "source": [
    "import plotly.express as px "
   ]
  },
  {
   "cell_type": "code",
   "execution_count": null,
   "metadata": {},
   "outputs": [
    {
     "data": {
      "application/vnd.plotly.v1+json": {
       "config": {
        "plotlyServerURL": "https://plot.ly"
       },
       "data": [
        {
         "customdata": [
          [
           141.96805997351217,
           -0.227699376414182,
           56.96744395641475
          ],
          [
           315.3432393191809,
           -41.54664374034856,
           -130.3368712083421
          ],
          [
           346.2629524542844,
           79.90023128075934,
           3.5660905582169287
          ],
          [
           147.13748629420172,
           -53.30469026752929,
           68.01020036541472
          ],
          [
           323.14877371924973,
           11.771854388598285,
           -121.33527091315189
          ],
          [
           137.95945859253865,
           30.054212210313864,
           52.217663107719986
          ],
          [
           231.84747547312463,
           -70.76862839314698,
           -147.22230989416087
          ],
          [
           329.1254263914323,
           64.43797070207464,
           -105.6349952605436
          ],
          [
           143.9934507172806,
           -23.292691777966716,
           60.50717307425374
          ],
          [
           319.98438932547566,
           -18.652115291700017,
           -125.7808067811127
          ],
          [
           119.83355317798214,
           59.87352269055879,
           42.72810978768613
          ],
          [
           151.7408267754906,
           -74.77907149576184,
           88.68902713694087
          ],
          [
           325.16500175108564,
           34.726816148926275,
           -117.31200397000991
          ],
          [
           141.15412502033797,
           7.086035505671828,
           55.988043217582984
          ],
          [
           312.0828987779564,
           -48.883505849348204,
           -132.41342880494705
          ],
          [
           337.74116835928874,
           81.75848167499909,
           -42.227652453085724
          ],
          [
           146.17810539479203,
           -45.99877506353325,
           65.5350279414425
          ],
          [
           322.40602199203704,
           4.257626949040976,
           -122.36133445915073
          ],
          [
           136.15644781712754,
           37.41518594599909,
           50.75545399081622
          ],
          [
           175.6796323509242,
           -77.22340790697228,
           -162.03830341128722
          ],
          [
           327.80489956966494,
           57.214045692164184,
           -110.13132765780442
          ],
          [
           143.2659899225867,
           -15.759511393250708,
           59.36214019439569
          ],
          [
           318.7520026364532,
           -26.34419278821114,
           -127.00285541193148
          ],
          [
           89.85214623364683,
           67.06710748017495,
           37.313300886664564
          ],
          [
           149.64964442319018,
           -67.9047719329116,
           77.6835804293623
          ],
          [
           324.3840740122736,
           26.99766749051285,
           -118.75068340224237
          ],
          [
           140.19429729624568,
           14.752270181319917,
           54.92030852004723
          ],
          [
           305.68015237347794,
           -56.551629617948734,
           -135.41353746771293
          ],
          [
           333.3300606261709,
           77.80137298010926,
           -81.5133511148336
          ],
          [
           145.29673688597418,
           -38.30363568223007,
           63.57693873274095
          ],
          [
           321.5673130829997,
           -3.732819236693361,
           -123.43417087613987
          ],
          [
           133.36974317546654,
           45.1610007323384,
           48.83956986806556
          ]
         ],
         "hovertemplate": "<b>%{hovertext}</b><br><br>datetime=%{x}<br>elevation=%{y}<br>azimuth=%{customdata[0]}<br>latitude=%{customdata[1]}<br>longitude=%{customdata[2]}<extra></extra>",
         "hovertext": [
          "2004-01-01T23:30:00",
          "2004-01-02T23:30:00",
          "2004-01-03T23:30:00",
          "2004-01-04T23:30:00",
          "2004-01-05T23:30:00",
          "2004-01-06T23:30:00",
          "2004-01-07T23:30:00",
          "2004-01-08T23:30:00",
          "2004-01-09T23:30:00",
          "2004-01-10T23:30:00",
          "2004-01-11T23:30:00",
          "2004-01-12T23:30:00",
          "2004-01-13T23:30:00",
          "2004-01-14T23:30:00",
          "2004-01-15T23:30:00",
          "2004-01-16T23:30:00",
          "2004-01-17T23:30:00",
          "2004-01-18T23:30:00",
          "2004-01-19T23:30:00",
          "2004-01-20T23:30:00",
          "2004-01-21T23:30:00",
          "2004-01-22T23:30:00",
          "2004-01-23T23:30:00",
          "2004-01-24T23:30:00",
          "2004-01-25T23:30:00",
          "2004-01-26T23:30:00",
          "2004-01-27T23:30:00",
          "2004-01-28T23:30:00",
          "2004-01-29T23:30:00",
          "2004-01-30T23:30:00",
          "2004-01-31T23:30:00",
          "2004-02-01T23:30:00"
         ],
         "legendgroup": "",
         "line": {
          "color": "#636efa",
          "dash": "solid"
         },
         "marker": {
          "symbol": "circle"
         },
         "mode": "lines",
         "name": "",
         "orientation": "v",
         "showlegend": false,
         "type": "scatter",
         "x": [
          "2004-01-01T23:30:00",
          "2004-01-02T23:30:00",
          "2004-01-03T23:30:00",
          "2004-01-04T23:30:00",
          "2004-01-05T23:30:00",
          "2004-01-06T23:30:00",
          "2004-01-07T23:30:00",
          "2004-01-08T23:30:00",
          "2004-01-09T23:30:00",
          "2004-01-10T23:30:00",
          "2004-01-11T23:30:00",
          "2004-01-12T23:30:00",
          "2004-01-13T23:30:00",
          "2004-01-14T23:30:00",
          "2004-01-15T23:30:00",
          "2004-01-16T23:30:00",
          "2004-01-17T23:30:00",
          "2004-01-18T23:30:00",
          "2004-01-19T23:30:00",
          "2004-01-20T23:30:00",
          "2004-01-21T23:30:00",
          "2004-01-22T23:30:00",
          "2004-01-23T23:30:00",
          "2004-01-24T23:30:00",
          "2004-01-25T23:30:00",
          "2004-01-26T23:30:00",
          "2004-01-27T23:30:00",
          "2004-01-28T23:30:00",
          "2004-01-29T23:30:00",
          "2004-01-30T23:30:00",
          "2004-01-31T23:30:00",
          "2004-02-01T23:30:00"
         ],
         "xaxis": "x",
         "y": [
          -32.17141235535226,
          -73.81321146970056,
          18.4787920297135,
          -61.48869418131999,
          -45.23865448006683,
          -13.343204761940909,
          -87.41867715619688,
          -13.570149181383377,
          -45.093473923051285,
          -61.64213831634924,
          19.530687728038778,
          -73.63251686963588,
          -32.373711430260514,
          -27.89404308777798,
          -77.68653156554397,
          6.7433905016194196,
          -57.49894925168901,
          -49.340884051200014,
          -7.8837560189376585,
          -85.16106513167966,
          -18.62189866884078,
          -40.916898874269926,
          -65.73135835658351,
          40.36856846932655,
          -69.5827106285241,
          -36.801174619134365,
          -23.28699961161422,
          -81.69318299185393,
          -1.714963364896676,
          -53.300739830805924,
          -53.649611270097274,
          -1.2517224039037782
         ],
         "yaxis": "y"
        }
       ],
       "layout": {
        "legend": {
         "tracegroupgap": 0
        },
        "margin": {
         "t": 60
        },
        "template": {
         "data": {
          "bar": [
           {
            "error_x": {
             "color": "#2a3f5f"
            },
            "error_y": {
             "color": "#2a3f5f"
            },
            "marker": {
             "line": {
              "color": "#E5ECF6",
              "width": 0.5
             },
             "pattern": {
              "fillmode": "overlay",
              "size": 10,
              "solidity": 0.2
             }
            },
            "type": "bar"
           }
          ],
          "barpolar": [
           {
            "marker": {
             "line": {
              "color": "#E5ECF6",
              "width": 0.5
             },
             "pattern": {
              "fillmode": "overlay",
              "size": 10,
              "solidity": 0.2
             }
            },
            "type": "barpolar"
           }
          ],
          "carpet": [
           {
            "aaxis": {
             "endlinecolor": "#2a3f5f",
             "gridcolor": "white",
             "linecolor": "white",
             "minorgridcolor": "white",
             "startlinecolor": "#2a3f5f"
            },
            "baxis": {
             "endlinecolor": "#2a3f5f",
             "gridcolor": "white",
             "linecolor": "white",
             "minorgridcolor": "white",
             "startlinecolor": "#2a3f5f"
            },
            "type": "carpet"
           }
          ],
          "choropleth": [
           {
            "colorbar": {
             "outlinewidth": 0,
             "ticks": ""
            },
            "type": "choropleth"
           }
          ],
          "contour": [
           {
            "colorbar": {
             "outlinewidth": 0,
             "ticks": ""
            },
            "colorscale": [
             [
              0,
              "#0d0887"
             ],
             [
              0.1111111111111111,
              "#46039f"
             ],
             [
              0.2222222222222222,
              "#7201a8"
             ],
             [
              0.3333333333333333,
              "#9c179e"
             ],
             [
              0.4444444444444444,
              "#bd3786"
             ],
             [
              0.5555555555555556,
              "#d8576b"
             ],
             [
              0.6666666666666666,
              "#ed7953"
             ],
             [
              0.7777777777777778,
              "#fb9f3a"
             ],
             [
              0.8888888888888888,
              "#fdca26"
             ],
             [
              1,
              "#f0f921"
             ]
            ],
            "type": "contour"
           }
          ],
          "contourcarpet": [
           {
            "colorbar": {
             "outlinewidth": 0,
             "ticks": ""
            },
            "type": "contourcarpet"
           }
          ],
          "heatmap": [
           {
            "colorbar": {
             "outlinewidth": 0,
             "ticks": ""
            },
            "colorscale": [
             [
              0,
              "#0d0887"
             ],
             [
              0.1111111111111111,
              "#46039f"
             ],
             [
              0.2222222222222222,
              "#7201a8"
             ],
             [
              0.3333333333333333,
              "#9c179e"
             ],
             [
              0.4444444444444444,
              "#bd3786"
             ],
             [
              0.5555555555555556,
              "#d8576b"
             ],
             [
              0.6666666666666666,
              "#ed7953"
             ],
             [
              0.7777777777777778,
              "#fb9f3a"
             ],
             [
              0.8888888888888888,
              "#fdca26"
             ],
             [
              1,
              "#f0f921"
             ]
            ],
            "type": "heatmap"
           }
          ],
          "heatmapgl": [
           {
            "colorbar": {
             "outlinewidth": 0,
             "ticks": ""
            },
            "colorscale": [
             [
              0,
              "#0d0887"
             ],
             [
              0.1111111111111111,
              "#46039f"
             ],
             [
              0.2222222222222222,
              "#7201a8"
             ],
             [
              0.3333333333333333,
              "#9c179e"
             ],
             [
              0.4444444444444444,
              "#bd3786"
             ],
             [
              0.5555555555555556,
              "#d8576b"
             ],
             [
              0.6666666666666666,
              "#ed7953"
             ],
             [
              0.7777777777777778,
              "#fb9f3a"
             ],
             [
              0.8888888888888888,
              "#fdca26"
             ],
             [
              1,
              "#f0f921"
             ]
            ],
            "type": "heatmapgl"
           }
          ],
          "histogram": [
           {
            "marker": {
             "pattern": {
              "fillmode": "overlay",
              "size": 10,
              "solidity": 0.2
             }
            },
            "type": "histogram"
           }
          ],
          "histogram2d": [
           {
            "colorbar": {
             "outlinewidth": 0,
             "ticks": ""
            },
            "colorscale": [
             [
              0,
              "#0d0887"
             ],
             [
              0.1111111111111111,
              "#46039f"
             ],
             [
              0.2222222222222222,
              "#7201a8"
             ],
             [
              0.3333333333333333,
              "#9c179e"
             ],
             [
              0.4444444444444444,
              "#bd3786"
             ],
             [
              0.5555555555555556,
              "#d8576b"
             ],
             [
              0.6666666666666666,
              "#ed7953"
             ],
             [
              0.7777777777777778,
              "#fb9f3a"
             ],
             [
              0.8888888888888888,
              "#fdca26"
             ],
             [
              1,
              "#f0f921"
             ]
            ],
            "type": "histogram2d"
           }
          ],
          "histogram2dcontour": [
           {
            "colorbar": {
             "outlinewidth": 0,
             "ticks": ""
            },
            "colorscale": [
             [
              0,
              "#0d0887"
             ],
             [
              0.1111111111111111,
              "#46039f"
             ],
             [
              0.2222222222222222,
              "#7201a8"
             ],
             [
              0.3333333333333333,
              "#9c179e"
             ],
             [
              0.4444444444444444,
              "#bd3786"
             ],
             [
              0.5555555555555556,
              "#d8576b"
             ],
             [
              0.6666666666666666,
              "#ed7953"
             ],
             [
              0.7777777777777778,
              "#fb9f3a"
             ],
             [
              0.8888888888888888,
              "#fdca26"
             ],
             [
              1,
              "#f0f921"
             ]
            ],
            "type": "histogram2dcontour"
           }
          ],
          "mesh3d": [
           {
            "colorbar": {
             "outlinewidth": 0,
             "ticks": ""
            },
            "type": "mesh3d"
           }
          ],
          "parcoords": [
           {
            "line": {
             "colorbar": {
              "outlinewidth": 0,
              "ticks": ""
             }
            },
            "type": "parcoords"
           }
          ],
          "pie": [
           {
            "automargin": true,
            "type": "pie"
           }
          ],
          "scatter": [
           {
            "marker": {
             "colorbar": {
              "outlinewidth": 0,
              "ticks": ""
             }
            },
            "type": "scatter"
           }
          ],
          "scatter3d": [
           {
            "line": {
             "colorbar": {
              "outlinewidth": 0,
              "ticks": ""
             }
            },
            "marker": {
             "colorbar": {
              "outlinewidth": 0,
              "ticks": ""
             }
            },
            "type": "scatter3d"
           }
          ],
          "scattercarpet": [
           {
            "marker": {
             "colorbar": {
              "outlinewidth": 0,
              "ticks": ""
             }
            },
            "type": "scattercarpet"
           }
          ],
          "scattergeo": [
           {
            "marker": {
             "colorbar": {
              "outlinewidth": 0,
              "ticks": ""
             }
            },
            "type": "scattergeo"
           }
          ],
          "scattergl": [
           {
            "marker": {
             "colorbar": {
              "outlinewidth": 0,
              "ticks": ""
             }
            },
            "type": "scattergl"
           }
          ],
          "scattermapbox": [
           {
            "marker": {
             "colorbar": {
              "outlinewidth": 0,
              "ticks": ""
             }
            },
            "type": "scattermapbox"
           }
          ],
          "scatterpolar": [
           {
            "marker": {
             "colorbar": {
              "outlinewidth": 0,
              "ticks": ""
             }
            },
            "type": "scatterpolar"
           }
          ],
          "scatterpolargl": [
           {
            "marker": {
             "colorbar": {
              "outlinewidth": 0,
              "ticks": ""
             }
            },
            "type": "scatterpolargl"
           }
          ],
          "scatterternary": [
           {
            "marker": {
             "colorbar": {
              "outlinewidth": 0,
              "ticks": ""
             }
            },
            "type": "scatterternary"
           }
          ],
          "surface": [
           {
            "colorbar": {
             "outlinewidth": 0,
             "ticks": ""
            },
            "colorscale": [
             [
              0,
              "#0d0887"
             ],
             [
              0.1111111111111111,
              "#46039f"
             ],
             [
              0.2222222222222222,
              "#7201a8"
             ],
             [
              0.3333333333333333,
              "#9c179e"
             ],
             [
              0.4444444444444444,
              "#bd3786"
             ],
             [
              0.5555555555555556,
              "#d8576b"
             ],
             [
              0.6666666666666666,
              "#ed7953"
             ],
             [
              0.7777777777777778,
              "#fb9f3a"
             ],
             [
              0.8888888888888888,
              "#fdca26"
             ],
             [
              1,
              "#f0f921"
             ]
            ],
            "type": "surface"
           }
          ],
          "table": [
           {
            "cells": {
             "fill": {
              "color": "#EBF0F8"
             },
             "line": {
              "color": "white"
             }
            },
            "header": {
             "fill": {
              "color": "#C8D4E3"
             },
             "line": {
              "color": "white"
             }
            },
            "type": "table"
           }
          ]
         },
         "layout": {
          "annotationdefaults": {
           "arrowcolor": "#2a3f5f",
           "arrowhead": 0,
           "arrowwidth": 1
          },
          "autotypenumbers": "strict",
          "coloraxis": {
           "colorbar": {
            "outlinewidth": 0,
            "ticks": ""
           }
          },
          "colorscale": {
           "diverging": [
            [
             0,
             "#8e0152"
            ],
            [
             0.1,
             "#c51b7d"
            ],
            [
             0.2,
             "#de77ae"
            ],
            [
             0.3,
             "#f1b6da"
            ],
            [
             0.4,
             "#fde0ef"
            ],
            [
             0.5,
             "#f7f7f7"
            ],
            [
             0.6,
             "#e6f5d0"
            ],
            [
             0.7,
             "#b8e186"
            ],
            [
             0.8,
             "#7fbc41"
            ],
            [
             0.9,
             "#4d9221"
            ],
            [
             1,
             "#276419"
            ]
           ],
           "sequential": [
            [
             0,
             "#0d0887"
            ],
            [
             0.1111111111111111,
             "#46039f"
            ],
            [
             0.2222222222222222,
             "#7201a8"
            ],
            [
             0.3333333333333333,
             "#9c179e"
            ],
            [
             0.4444444444444444,
             "#bd3786"
            ],
            [
             0.5555555555555556,
             "#d8576b"
            ],
            [
             0.6666666666666666,
             "#ed7953"
            ],
            [
             0.7777777777777778,
             "#fb9f3a"
            ],
            [
             0.8888888888888888,
             "#fdca26"
            ],
            [
             1,
             "#f0f921"
            ]
           ],
           "sequentialminus": [
            [
             0,
             "#0d0887"
            ],
            [
             0.1111111111111111,
             "#46039f"
            ],
            [
             0.2222222222222222,
             "#7201a8"
            ],
            [
             0.3333333333333333,
             "#9c179e"
            ],
            [
             0.4444444444444444,
             "#bd3786"
            ],
            [
             0.5555555555555556,
             "#d8576b"
            ],
            [
             0.6666666666666666,
             "#ed7953"
            ],
            [
             0.7777777777777778,
             "#fb9f3a"
            ],
            [
             0.8888888888888888,
             "#fdca26"
            ],
            [
             1,
             "#f0f921"
            ]
           ]
          },
          "colorway": [
           "#636efa",
           "#EF553B",
           "#00cc96",
           "#ab63fa",
           "#FFA15A",
           "#19d3f3",
           "#FF6692",
           "#B6E880",
           "#FF97FF",
           "#FECB52"
          ],
          "font": {
           "color": "#2a3f5f"
          },
          "geo": {
           "bgcolor": "white",
           "lakecolor": "white",
           "landcolor": "#E5ECF6",
           "showlakes": true,
           "showland": true,
           "subunitcolor": "white"
          },
          "hoverlabel": {
           "align": "left"
          },
          "hovermode": "closest",
          "mapbox": {
           "style": "light"
          },
          "paper_bgcolor": "white",
          "plot_bgcolor": "#E5ECF6",
          "polar": {
           "angularaxis": {
            "gridcolor": "white",
            "linecolor": "white",
            "ticks": ""
           },
           "bgcolor": "#E5ECF6",
           "radialaxis": {
            "gridcolor": "white",
            "linecolor": "white",
            "ticks": ""
           }
          },
          "scene": {
           "xaxis": {
            "backgroundcolor": "#E5ECF6",
            "gridcolor": "white",
            "gridwidth": 2,
            "linecolor": "white",
            "showbackground": true,
            "ticks": "",
            "zerolinecolor": "white"
           },
           "yaxis": {
            "backgroundcolor": "#E5ECF6",
            "gridcolor": "white",
            "gridwidth": 2,
            "linecolor": "white",
            "showbackground": true,
            "ticks": "",
            "zerolinecolor": "white"
           },
           "zaxis": {
            "backgroundcolor": "#E5ECF6",
            "gridcolor": "white",
            "gridwidth": 2,
            "linecolor": "white",
            "showbackground": true,
            "ticks": "",
            "zerolinecolor": "white"
           }
          },
          "shapedefaults": {
           "line": {
            "color": "#2a3f5f"
           }
          },
          "ternary": {
           "aaxis": {
            "gridcolor": "white",
            "linecolor": "white",
            "ticks": ""
           },
           "baxis": {
            "gridcolor": "white",
            "linecolor": "white",
            "ticks": ""
           },
           "bgcolor": "#E5ECF6",
           "caxis": {
            "gridcolor": "white",
            "linecolor": "white",
            "ticks": ""
           }
          },
          "title": {
           "x": 0.05
          },
          "xaxis": {
           "automargin": true,
           "gridcolor": "white",
           "linecolor": "white",
           "ticks": "",
           "title": {
            "standoff": 15
           },
           "zerolinecolor": "white",
           "zerolinewidth": 2
          },
          "yaxis": {
           "automargin": true,
           "gridcolor": "white",
           "linecolor": "white",
           "ticks": "",
           "title": {
            "standoff": 15
           },
           "zerolinecolor": "white",
           "zerolinewidth": 2
          }
         }
        },
        "xaxis": {
         "anchor": "y",
         "domain": [
          0,
          1
         ],
         "title": {
          "text": "datetime"
         }
        },
        "yaxis": {
         "anchor": "x",
         "domain": [
          0,
          1
         ],
         "title": {
          "text": "elevation"
         }
        }
       }
      },
      "text/html": [
       "<div>                            <div id=\"3e9a2ac9-de8a-478d-81e5-c725239e27f7\" class=\"plotly-graph-div\" style=\"height:525px; width:100%;\"></div>            <script type=\"text/javascript\">                require([\"plotly\"], function(Plotly) {                    window.PLOTLYENV=window.PLOTLYENV || {};                                    if (document.getElementById(\"3e9a2ac9-de8a-478d-81e5-c725239e27f7\")) {                    Plotly.newPlot(                        \"3e9a2ac9-de8a-478d-81e5-c725239e27f7\",                        [{\"customdata\":[[141.96805997351217,-0.227699376414182,56.96744395641475],[315.3432393191809,-41.54664374034856,-130.3368712083421],[346.2629524542844,79.90023128075934,3.5660905582169287],[147.13748629420172,-53.30469026752929,68.01020036541472],[323.14877371924973,11.771854388598285,-121.33527091315189],[137.95945859253865,30.054212210313864,52.217663107719986],[231.84747547312463,-70.76862839314698,-147.22230989416087],[329.1254263914323,64.43797070207464,-105.6349952605436],[143.9934507172806,-23.292691777966716,60.50717307425374],[319.98438932547566,-18.652115291700017,-125.7808067811127],[119.83355317798214,59.87352269055879,42.72810978768613],[151.7408267754906,-74.77907149576184,88.68902713694087],[325.16500175108564,34.726816148926275,-117.31200397000991],[141.15412502033797,7.086035505671828,55.988043217582984],[312.0828987779564,-48.883505849348204,-132.41342880494705],[337.74116835928874,81.75848167499909,-42.227652453085724],[146.17810539479203,-45.99877506353325,65.5350279414425],[322.40602199203704,4.257626949040976,-122.36133445915073],[136.15644781712754,37.41518594599909,50.75545399081622],[175.6796323509242,-77.22340790697228,-162.03830341128722],[327.80489956966494,57.214045692164184,-110.13132765780442],[143.2659899225867,-15.759511393250708,59.36214019439569],[318.7520026364532,-26.34419278821114,-127.00285541193148],[89.85214623364683,67.06710748017495,37.313300886664564],[149.64964442319018,-67.9047719329116,77.6835804293623],[324.3840740122736,26.99766749051285,-118.75068340224237],[140.19429729624568,14.752270181319917,54.92030852004723],[305.68015237347794,-56.551629617948734,-135.41353746771293],[333.3300606261709,77.80137298010926,-81.5133511148336],[145.29673688597418,-38.30363568223007,63.57693873274095],[321.5673130829997,-3.732819236693361,-123.43417087613987],[133.36974317546654,45.1610007323384,48.83956986806556]],\"hovertemplate\":\"<b>%{hovertext}</b><br><br>datetime=%{x}<br>elevation=%{y}<br>azimuth=%{customdata[0]}<br>latitude=%{customdata[1]}<br>longitude=%{customdata[2]}<extra></extra>\",\"hovertext\":[\"2004-01-01T23:30:00\",\"2004-01-02T23:30:00\",\"2004-01-03T23:30:00\",\"2004-01-04T23:30:00\",\"2004-01-05T23:30:00\",\"2004-01-06T23:30:00\",\"2004-01-07T23:30:00\",\"2004-01-08T23:30:00\",\"2004-01-09T23:30:00\",\"2004-01-10T23:30:00\",\"2004-01-11T23:30:00\",\"2004-01-12T23:30:00\",\"2004-01-13T23:30:00\",\"2004-01-14T23:30:00\",\"2004-01-15T23:30:00\",\"2004-01-16T23:30:00\",\"2004-01-17T23:30:00\",\"2004-01-18T23:30:00\",\"2004-01-19T23:30:00\",\"2004-01-20T23:30:00\",\"2004-01-21T23:30:00\",\"2004-01-22T23:30:00\",\"2004-01-23T23:30:00\",\"2004-01-24T23:30:00\",\"2004-01-25T23:30:00\",\"2004-01-26T23:30:00\",\"2004-01-27T23:30:00\",\"2004-01-28T23:30:00\",\"2004-01-29T23:30:00\",\"2004-01-30T23:30:00\",\"2004-01-31T23:30:00\",\"2004-02-01T23:30:00\"],\"legendgroup\":\"\",\"line\":{\"color\":\"#636efa\",\"dash\":\"solid\"},\"marker\":{\"symbol\":\"circle\"},\"mode\":\"lines\",\"name\":\"\",\"orientation\":\"v\",\"showlegend\":false,\"x\":[\"2004-01-01T23:30:00\",\"2004-01-02T23:30:00\",\"2004-01-03T23:30:00\",\"2004-01-04T23:30:00\",\"2004-01-05T23:30:00\",\"2004-01-06T23:30:00\",\"2004-01-07T23:30:00\",\"2004-01-08T23:30:00\",\"2004-01-09T23:30:00\",\"2004-01-10T23:30:00\",\"2004-01-11T23:30:00\",\"2004-01-12T23:30:00\",\"2004-01-13T23:30:00\",\"2004-01-14T23:30:00\",\"2004-01-15T23:30:00\",\"2004-01-16T23:30:00\",\"2004-01-17T23:30:00\",\"2004-01-18T23:30:00\",\"2004-01-19T23:30:00\",\"2004-01-20T23:30:00\",\"2004-01-21T23:30:00\",\"2004-01-22T23:30:00\",\"2004-01-23T23:30:00\",\"2004-01-24T23:30:00\",\"2004-01-25T23:30:00\",\"2004-01-26T23:30:00\",\"2004-01-27T23:30:00\",\"2004-01-28T23:30:00\",\"2004-01-29T23:30:00\",\"2004-01-30T23:30:00\",\"2004-01-31T23:30:00\",\"2004-02-01T23:30:00\"],\"xaxis\":\"x\",\"y\":[-32.17141235535226,-73.81321146970056,18.4787920297135,-61.48869418131999,-45.23865448006683,-13.343204761940909,-87.41867715619688,-13.570149181383377,-45.093473923051285,-61.64213831634924,19.530687728038778,-73.63251686963588,-32.373711430260514,-27.89404308777798,-77.68653156554397,6.7433905016194196,-57.49894925168901,-49.340884051200014,-7.8837560189376585,-85.16106513167966,-18.62189866884078,-40.916898874269926,-65.73135835658351,40.36856846932655,-69.5827106285241,-36.801174619134365,-23.28699961161422,-81.69318299185393,-1.714963364896676,-53.300739830805924,-53.649611270097274,-1.2517224039037782],\"yaxis\":\"y\",\"type\":\"scatter\"}],                        {\"template\":{\"data\":{\"bar\":[{\"error_x\":{\"color\":\"#2a3f5f\"},\"error_y\":{\"color\":\"#2a3f5f\"},\"marker\":{\"line\":{\"color\":\"#E5ECF6\",\"width\":0.5},\"pattern\":{\"fillmode\":\"overlay\",\"size\":10,\"solidity\":0.2}},\"type\":\"bar\"}],\"barpolar\":[{\"marker\":{\"line\":{\"color\":\"#E5ECF6\",\"width\":0.5},\"pattern\":{\"fillmode\":\"overlay\",\"size\":10,\"solidity\":0.2}},\"type\":\"barpolar\"}],\"carpet\":[{\"aaxis\":{\"endlinecolor\":\"#2a3f5f\",\"gridcolor\":\"white\",\"linecolor\":\"white\",\"minorgridcolor\":\"white\",\"startlinecolor\":\"#2a3f5f\"},\"baxis\":{\"endlinecolor\":\"#2a3f5f\",\"gridcolor\":\"white\",\"linecolor\":\"white\",\"minorgridcolor\":\"white\",\"startlinecolor\":\"#2a3f5f\"},\"type\":\"carpet\"}],\"choropleth\":[{\"colorbar\":{\"outlinewidth\":0,\"ticks\":\"\"},\"type\":\"choropleth\"}],\"contour\":[{\"colorbar\":{\"outlinewidth\":0,\"ticks\":\"\"},\"colorscale\":[[0.0,\"#0d0887\"],[0.1111111111111111,\"#46039f\"],[0.2222222222222222,\"#7201a8\"],[0.3333333333333333,\"#9c179e\"],[0.4444444444444444,\"#bd3786\"],[0.5555555555555556,\"#d8576b\"],[0.6666666666666666,\"#ed7953\"],[0.7777777777777778,\"#fb9f3a\"],[0.8888888888888888,\"#fdca26\"],[1.0,\"#f0f921\"]],\"type\":\"contour\"}],\"contourcarpet\":[{\"colorbar\":{\"outlinewidth\":0,\"ticks\":\"\"},\"type\":\"contourcarpet\"}],\"heatmap\":[{\"colorbar\":{\"outlinewidth\":0,\"ticks\":\"\"},\"colorscale\":[[0.0,\"#0d0887\"],[0.1111111111111111,\"#46039f\"],[0.2222222222222222,\"#7201a8\"],[0.3333333333333333,\"#9c179e\"],[0.4444444444444444,\"#bd3786\"],[0.5555555555555556,\"#d8576b\"],[0.6666666666666666,\"#ed7953\"],[0.7777777777777778,\"#fb9f3a\"],[0.8888888888888888,\"#fdca26\"],[1.0,\"#f0f921\"]],\"type\":\"heatmap\"}],\"heatmapgl\":[{\"colorbar\":{\"outlinewidth\":0,\"ticks\":\"\"},\"colorscale\":[[0.0,\"#0d0887\"],[0.1111111111111111,\"#46039f\"],[0.2222222222222222,\"#7201a8\"],[0.3333333333333333,\"#9c179e\"],[0.4444444444444444,\"#bd3786\"],[0.5555555555555556,\"#d8576b\"],[0.6666666666666666,\"#ed7953\"],[0.7777777777777778,\"#fb9f3a\"],[0.8888888888888888,\"#fdca26\"],[1.0,\"#f0f921\"]],\"type\":\"heatmapgl\"}],\"histogram\":[{\"marker\":{\"pattern\":{\"fillmode\":\"overlay\",\"size\":10,\"solidity\":0.2}},\"type\":\"histogram\"}],\"histogram2d\":[{\"colorbar\":{\"outlinewidth\":0,\"ticks\":\"\"},\"colorscale\":[[0.0,\"#0d0887\"],[0.1111111111111111,\"#46039f\"],[0.2222222222222222,\"#7201a8\"],[0.3333333333333333,\"#9c179e\"],[0.4444444444444444,\"#bd3786\"],[0.5555555555555556,\"#d8576b\"],[0.6666666666666666,\"#ed7953\"],[0.7777777777777778,\"#fb9f3a\"],[0.8888888888888888,\"#fdca26\"],[1.0,\"#f0f921\"]],\"type\":\"histogram2d\"}],\"histogram2dcontour\":[{\"colorbar\":{\"outlinewidth\":0,\"ticks\":\"\"},\"colorscale\":[[0.0,\"#0d0887\"],[0.1111111111111111,\"#46039f\"],[0.2222222222222222,\"#7201a8\"],[0.3333333333333333,\"#9c179e\"],[0.4444444444444444,\"#bd3786\"],[0.5555555555555556,\"#d8576b\"],[0.6666666666666666,\"#ed7953\"],[0.7777777777777778,\"#fb9f3a\"],[0.8888888888888888,\"#fdca26\"],[1.0,\"#f0f921\"]],\"type\":\"histogram2dcontour\"}],\"mesh3d\":[{\"colorbar\":{\"outlinewidth\":0,\"ticks\":\"\"},\"type\":\"mesh3d\"}],\"parcoords\":[{\"line\":{\"colorbar\":{\"outlinewidth\":0,\"ticks\":\"\"}},\"type\":\"parcoords\"}],\"pie\":[{\"automargin\":true,\"type\":\"pie\"}],\"scatter\":[{\"marker\":{\"colorbar\":{\"outlinewidth\":0,\"ticks\":\"\"}},\"type\":\"scatter\"}],\"scatter3d\":[{\"line\":{\"colorbar\":{\"outlinewidth\":0,\"ticks\":\"\"}},\"marker\":{\"colorbar\":{\"outlinewidth\":0,\"ticks\":\"\"}},\"type\":\"scatter3d\"}],\"scattercarpet\":[{\"marker\":{\"colorbar\":{\"outlinewidth\":0,\"ticks\":\"\"}},\"type\":\"scattercarpet\"}],\"scattergeo\":[{\"marker\":{\"colorbar\":{\"outlinewidth\":0,\"ticks\":\"\"}},\"type\":\"scattergeo\"}],\"scattergl\":[{\"marker\":{\"colorbar\":{\"outlinewidth\":0,\"ticks\":\"\"}},\"type\":\"scattergl\"}],\"scattermapbox\":[{\"marker\":{\"colorbar\":{\"outlinewidth\":0,\"ticks\":\"\"}},\"type\":\"scattermapbox\"}],\"scatterpolar\":[{\"marker\":{\"colorbar\":{\"outlinewidth\":0,\"ticks\":\"\"}},\"type\":\"scatterpolar\"}],\"scatterpolargl\":[{\"marker\":{\"colorbar\":{\"outlinewidth\":0,\"ticks\":\"\"}},\"type\":\"scatterpolargl\"}],\"scatterternary\":[{\"marker\":{\"colorbar\":{\"outlinewidth\":0,\"ticks\":\"\"}},\"type\":\"scatterternary\"}],\"surface\":[{\"colorbar\":{\"outlinewidth\":0,\"ticks\":\"\"},\"colorscale\":[[0.0,\"#0d0887\"],[0.1111111111111111,\"#46039f\"],[0.2222222222222222,\"#7201a8\"],[0.3333333333333333,\"#9c179e\"],[0.4444444444444444,\"#bd3786\"],[0.5555555555555556,\"#d8576b\"],[0.6666666666666666,\"#ed7953\"],[0.7777777777777778,\"#fb9f3a\"],[0.8888888888888888,\"#fdca26\"],[1.0,\"#f0f921\"]],\"type\":\"surface\"}],\"table\":[{\"cells\":{\"fill\":{\"color\":\"#EBF0F8\"},\"line\":{\"color\":\"white\"}},\"header\":{\"fill\":{\"color\":\"#C8D4E3\"},\"line\":{\"color\":\"white\"}},\"type\":\"table\"}]},\"layout\":{\"annotationdefaults\":{\"arrowcolor\":\"#2a3f5f\",\"arrowhead\":0,\"arrowwidth\":1},\"autotypenumbers\":\"strict\",\"coloraxis\":{\"colorbar\":{\"outlinewidth\":0,\"ticks\":\"\"}},\"colorscale\":{\"diverging\":[[0,\"#8e0152\"],[0.1,\"#c51b7d\"],[0.2,\"#de77ae\"],[0.3,\"#f1b6da\"],[0.4,\"#fde0ef\"],[0.5,\"#f7f7f7\"],[0.6,\"#e6f5d0\"],[0.7,\"#b8e186\"],[0.8,\"#7fbc41\"],[0.9,\"#4d9221\"],[1,\"#276419\"]],\"sequential\":[[0.0,\"#0d0887\"],[0.1111111111111111,\"#46039f\"],[0.2222222222222222,\"#7201a8\"],[0.3333333333333333,\"#9c179e\"],[0.4444444444444444,\"#bd3786\"],[0.5555555555555556,\"#d8576b\"],[0.6666666666666666,\"#ed7953\"],[0.7777777777777778,\"#fb9f3a\"],[0.8888888888888888,\"#fdca26\"],[1.0,\"#f0f921\"]],\"sequentialminus\":[[0.0,\"#0d0887\"],[0.1111111111111111,\"#46039f\"],[0.2222222222222222,\"#7201a8\"],[0.3333333333333333,\"#9c179e\"],[0.4444444444444444,\"#bd3786\"],[0.5555555555555556,\"#d8576b\"],[0.6666666666666666,\"#ed7953\"],[0.7777777777777778,\"#fb9f3a\"],[0.8888888888888888,\"#fdca26\"],[1.0,\"#f0f921\"]]},\"colorway\":[\"#636efa\",\"#EF553B\",\"#00cc96\",\"#ab63fa\",\"#FFA15A\",\"#19d3f3\",\"#FF6692\",\"#B6E880\",\"#FF97FF\",\"#FECB52\"],\"font\":{\"color\":\"#2a3f5f\"},\"geo\":{\"bgcolor\":\"white\",\"lakecolor\":\"white\",\"landcolor\":\"#E5ECF6\",\"showlakes\":true,\"showland\":true,\"subunitcolor\":\"white\"},\"hoverlabel\":{\"align\":\"left\"},\"hovermode\":\"closest\",\"mapbox\":{\"style\":\"light\"},\"paper_bgcolor\":\"white\",\"plot_bgcolor\":\"#E5ECF6\",\"polar\":{\"angularaxis\":{\"gridcolor\":\"white\",\"linecolor\":\"white\",\"ticks\":\"\"},\"bgcolor\":\"#E5ECF6\",\"radialaxis\":{\"gridcolor\":\"white\",\"linecolor\":\"white\",\"ticks\":\"\"}},\"scene\":{\"xaxis\":{\"backgroundcolor\":\"#E5ECF6\",\"gridcolor\":\"white\",\"gridwidth\":2,\"linecolor\":\"white\",\"showbackground\":true,\"ticks\":\"\",\"zerolinecolor\":\"white\"},\"yaxis\":{\"backgroundcolor\":\"#E5ECF6\",\"gridcolor\":\"white\",\"gridwidth\":2,\"linecolor\":\"white\",\"showbackground\":true,\"ticks\":\"\",\"zerolinecolor\":\"white\"},\"zaxis\":{\"backgroundcolor\":\"#E5ECF6\",\"gridcolor\":\"white\",\"gridwidth\":2,\"linecolor\":\"white\",\"showbackground\":true,\"ticks\":\"\",\"zerolinecolor\":\"white\"}},\"shapedefaults\":{\"line\":{\"color\":\"#2a3f5f\"}},\"ternary\":{\"aaxis\":{\"gridcolor\":\"white\",\"linecolor\":\"white\",\"ticks\":\"\"},\"baxis\":{\"gridcolor\":\"white\",\"linecolor\":\"white\",\"ticks\":\"\"},\"bgcolor\":\"#E5ECF6\",\"caxis\":{\"gridcolor\":\"white\",\"linecolor\":\"white\",\"ticks\":\"\"}},\"title\":{\"x\":0.05},\"xaxis\":{\"automargin\":true,\"gridcolor\":\"white\",\"linecolor\":\"white\",\"ticks\":\"\",\"title\":{\"standoff\":15},\"zerolinecolor\":\"white\",\"zerolinewidth\":2},\"yaxis\":{\"automargin\":true,\"gridcolor\":\"white\",\"linecolor\":\"white\",\"ticks\":\"\",\"title\":{\"standoff\":15},\"zerolinecolor\":\"white\",\"zerolinewidth\":2}}},\"xaxis\":{\"anchor\":\"y\",\"domain\":[0.0,1.0],\"title\":{\"text\":\"datetime\"}},\"yaxis\":{\"anchor\":\"x\",\"domain\":[0.0,1.0],\"title\":{\"text\":\"elevation\"}},\"legend\":{\"tracegroupgap\":0},\"margin\":{\"t\":60}},                        {\"responsive\": true}                    ).then(function(){\n",
       "                            \n",
       "var gd = document.getElementById('3e9a2ac9-de8a-478d-81e5-c725239e27f7');\n",
       "var x = new MutationObserver(function (mutations, observer) {{\n",
       "        var display = window.getComputedStyle(gd).display;\n",
       "        if (!display || display === 'none') {{\n",
       "            console.log([gd, 'removed!']);\n",
       "            Plotly.purge(gd);\n",
       "            observer.disconnect();\n",
       "        }}\n",
       "}});\n",
       "\n",
       "// Listen for the removal of the full notebook cells\n",
       "var notebookContainer = gd.closest('#notebook-container');\n",
       "if (notebookContainer) {{\n",
       "    x.observe(notebookContainer, {childList: true});\n",
       "}}\n",
       "\n",
       "// Listen for the clearing of the current output cell\n",
       "var outputEl = gd.closest('.output');\n",
       "if (outputEl) {{\n",
       "    x.observe(outputEl, {childList: true});\n",
       "}}\n",
       "\n",
       "                        })                };                });            </script>        </div>"
      ]
     },
     "metadata": {},
     "output_type": "display_data"
    }
   ],
   "source": [
    "px.line(prop_data, y='elevation', x='datetime', hover_name=\"datetime\", \n",
    "        hover_data=['azimuth',\n",
    "                    'elevation',\n",
    "                    'latitude',\n",
    "                    'longitude'])"
   ]
  },
  {
   "cell_type": "code",
   "execution_count": null,
   "metadata": {},
   "outputs": [
    {
     "data": {
      "application/vnd.plotly.v1+json": {
       "config": {
        "plotlyServerURL": "https://plot.ly"
       },
       "data": [
        {
         "customdata": [
          [
           -32.17141235535226,
           141.96805997351217
          ],
          [
           -73.81321146970056,
           315.3432393191809
          ],
          [
           -61.48869418131999,
           147.13748629420172
          ],
          [
           -45.23865448006683,
           323.14877371924973
          ],
          [
           -13.343204761940909,
           137.95945859253865
          ],
          [
           -87.41867715619688,
           231.84747547312463
          ],
          [
           -13.570149181383377,
           329.1254263914323
          ],
          [
           -45.093473923051285,
           143.9934507172806
          ],
          [
           -61.64213831634924,
           319.98438932547566
          ],
          [
           -73.63251686963588,
           151.7408267754906
          ],
          [
           -32.373711430260514,
           325.16500175108564
          ],
          [
           -27.89404308777798,
           141.15412502033797
          ],
          [
           -77.68653156554397,
           312.0828987779564
          ],
          [
           -57.49894925168901,
           146.17810539479203
          ],
          [
           -49.340884051200014,
           322.40602199203704
          ],
          [
           -7.8837560189376585,
           136.15644781712754
          ],
          [
           -85.16106513167966,
           175.6796323509242
          ],
          [
           -18.62189866884078,
           327.80489956966494
          ],
          [
           -40.916898874269926,
           143.2659899225867
          ],
          [
           -65.73135835658351,
           318.7520026364532
          ],
          [
           -69.5827106285241,
           149.64964442319018
          ],
          [
           -36.801174619134365,
           324.3840740122736
          ],
          [
           -23.28699961161422,
           140.19429729624568
          ],
          [
           -81.69318299185393,
           305.68015237347794
          ],
          [
           -1.714963364896676,
           333.3300606261709
          ],
          [
           -53.300739830805924,
           145.29673688597418
          ],
          [
           -53.649611270097274,
           321.5673130829997
          ],
          [
           -1.2517224039037782,
           133.36974317546654
          ]
         ],
         "geo": "geo",
         "hovertemplate": "visible=No<br>hour=23<br>latitude=%{lat}<br>longitude=%{lon}<br>elevation=%{customdata[0]}<br>azimuth=%{customdata[1]}<extra></extra>",
         "lat": [
          -0.227699376414182,
          -41.54664374034856,
          -53.30469026752929,
          11.771854388598285,
          30.054212210313864,
          -70.76862839314698,
          64.43797070207464,
          -23.292691777966716,
          -18.652115291700017,
          -74.77907149576184,
          34.726816148926275,
          7.086035505671828,
          -48.883505849348204,
          -45.99877506353325,
          4.257626949040976,
          37.41518594599909,
          -77.22340790697228,
          57.214045692164184,
          -15.759511393250708,
          -26.34419278821114,
          -67.9047719329116,
          26.99766749051285,
          14.752270181319917,
          -56.551629617948734,
          77.80137298010926,
          -38.30363568223007,
          -3.732819236693361,
          45.1610007323384
         ],
         "legendgroup": "No",
         "lon": [
          56.96744395641475,
          -130.3368712083421,
          68.01020036541472,
          -121.33527091315189,
          52.217663107719986,
          -147.22230989416087,
          -105.6349952605436,
          60.50717307425374,
          -125.7808067811127,
          88.68902713694087,
          -117.31200397000991,
          55.988043217582984,
          -132.41342880494705,
          65.5350279414425,
          -122.36133445915073,
          50.75545399081622,
          -162.03830341128722,
          -110.13132765780442,
          59.36214019439569,
          -127.00285541193148,
          77.6835804293623,
          -118.75068340224237,
          54.92030852004723,
          -135.41353746771293,
          -81.5133511148336,
          63.57693873274095,
          -123.43417087613987,
          48.83956986806556
         ],
         "marker": {
          "color": "#636efa",
          "opacity": 0.3,
          "symbol": "circle"
         },
         "mode": "markers",
         "name": "No",
         "showlegend": true,
         "type": "scattergeo"
        },
        {
         "customdata": [
          [
           18.4787920297135,
           346.2629524542844
          ],
          [
           19.530687728038778,
           119.83355317798214
          ],
          [
           6.7433905016194196,
           337.74116835928874
          ],
          [
           40.36856846932655,
           89.85214623364683
          ]
         ],
         "geo": "geo",
         "hovertemplate": "visible=Yes<br>hour=23<br>latitude=%{lat}<br>longitude=%{lon}<br>elevation=%{customdata[0]}<br>azimuth=%{customdata[1]}<extra></extra>",
         "lat": [
          79.90023128075934,
          59.87352269055879,
          81.75848167499909,
          67.06710748017495
         ],
         "legendgroup": "Yes",
         "lon": [
          3.5660905582169287,
          42.72810978768613,
          -42.227652453085724,
          37.313300886664564
         ],
         "marker": {
          "color": "#EF553B",
          "opacity": 0.3,
          "symbol": "circle"
         },
         "mode": "markers",
         "name": "Yes",
         "showlegend": true,
         "type": "scattergeo"
        }
       ],
       "layout": {
        "geo": {
         "center": {},
         "domain": {
          "x": [
           0,
           1
          ],
          "y": [
           0,
           1
          ]
         },
         "projection": {
          "type": "orthographic"
         }
        },
        "legend": {
         "title": {
          "text": "visible"
         },
         "tracegroupgap": 0
        },
        "margin": {
         "t": 60
        },
        "template": {
         "data": {
          "bar": [
           {
            "error_x": {
             "color": "#2a3f5f"
            },
            "error_y": {
             "color": "#2a3f5f"
            },
            "marker": {
             "line": {
              "color": "#E5ECF6",
              "width": 0.5
             },
             "pattern": {
              "fillmode": "overlay",
              "size": 10,
              "solidity": 0.2
             }
            },
            "type": "bar"
           }
          ],
          "barpolar": [
           {
            "marker": {
             "line": {
              "color": "#E5ECF6",
              "width": 0.5
             },
             "pattern": {
              "fillmode": "overlay",
              "size": 10,
              "solidity": 0.2
             }
            },
            "type": "barpolar"
           }
          ],
          "carpet": [
           {
            "aaxis": {
             "endlinecolor": "#2a3f5f",
             "gridcolor": "white",
             "linecolor": "white",
             "minorgridcolor": "white",
             "startlinecolor": "#2a3f5f"
            },
            "baxis": {
             "endlinecolor": "#2a3f5f",
             "gridcolor": "white",
             "linecolor": "white",
             "minorgridcolor": "white",
             "startlinecolor": "#2a3f5f"
            },
            "type": "carpet"
           }
          ],
          "choropleth": [
           {
            "colorbar": {
             "outlinewidth": 0,
             "ticks": ""
            },
            "type": "choropleth"
           }
          ],
          "contour": [
           {
            "colorbar": {
             "outlinewidth": 0,
             "ticks": ""
            },
            "colorscale": [
             [
              0,
              "#0d0887"
             ],
             [
              0.1111111111111111,
              "#46039f"
             ],
             [
              0.2222222222222222,
              "#7201a8"
             ],
             [
              0.3333333333333333,
              "#9c179e"
             ],
             [
              0.4444444444444444,
              "#bd3786"
             ],
             [
              0.5555555555555556,
              "#d8576b"
             ],
             [
              0.6666666666666666,
              "#ed7953"
             ],
             [
              0.7777777777777778,
              "#fb9f3a"
             ],
             [
              0.8888888888888888,
              "#fdca26"
             ],
             [
              1,
              "#f0f921"
             ]
            ],
            "type": "contour"
           }
          ],
          "contourcarpet": [
           {
            "colorbar": {
             "outlinewidth": 0,
             "ticks": ""
            },
            "type": "contourcarpet"
           }
          ],
          "heatmap": [
           {
            "colorbar": {
             "outlinewidth": 0,
             "ticks": ""
            },
            "colorscale": [
             [
              0,
              "#0d0887"
             ],
             [
              0.1111111111111111,
              "#46039f"
             ],
             [
              0.2222222222222222,
              "#7201a8"
             ],
             [
              0.3333333333333333,
              "#9c179e"
             ],
             [
              0.4444444444444444,
              "#bd3786"
             ],
             [
              0.5555555555555556,
              "#d8576b"
             ],
             [
              0.6666666666666666,
              "#ed7953"
             ],
             [
              0.7777777777777778,
              "#fb9f3a"
             ],
             [
              0.8888888888888888,
              "#fdca26"
             ],
             [
              1,
              "#f0f921"
             ]
            ],
            "type": "heatmap"
           }
          ],
          "heatmapgl": [
           {
            "colorbar": {
             "outlinewidth": 0,
             "ticks": ""
            },
            "colorscale": [
             [
              0,
              "#0d0887"
             ],
             [
              0.1111111111111111,
              "#46039f"
             ],
             [
              0.2222222222222222,
              "#7201a8"
             ],
             [
              0.3333333333333333,
              "#9c179e"
             ],
             [
              0.4444444444444444,
              "#bd3786"
             ],
             [
              0.5555555555555556,
              "#d8576b"
             ],
             [
              0.6666666666666666,
              "#ed7953"
             ],
             [
              0.7777777777777778,
              "#fb9f3a"
             ],
             [
              0.8888888888888888,
              "#fdca26"
             ],
             [
              1,
              "#f0f921"
             ]
            ],
            "type": "heatmapgl"
           }
          ],
          "histogram": [
           {
            "marker": {
             "pattern": {
              "fillmode": "overlay",
              "size": 10,
              "solidity": 0.2
             }
            },
            "type": "histogram"
           }
          ],
          "histogram2d": [
           {
            "colorbar": {
             "outlinewidth": 0,
             "ticks": ""
            },
            "colorscale": [
             [
              0,
              "#0d0887"
             ],
             [
              0.1111111111111111,
              "#46039f"
             ],
             [
              0.2222222222222222,
              "#7201a8"
             ],
             [
              0.3333333333333333,
              "#9c179e"
             ],
             [
              0.4444444444444444,
              "#bd3786"
             ],
             [
              0.5555555555555556,
              "#d8576b"
             ],
             [
              0.6666666666666666,
              "#ed7953"
             ],
             [
              0.7777777777777778,
              "#fb9f3a"
             ],
             [
              0.8888888888888888,
              "#fdca26"
             ],
             [
              1,
              "#f0f921"
             ]
            ],
            "type": "histogram2d"
           }
          ],
          "histogram2dcontour": [
           {
            "colorbar": {
             "outlinewidth": 0,
             "ticks": ""
            },
            "colorscale": [
             [
              0,
              "#0d0887"
             ],
             [
              0.1111111111111111,
              "#46039f"
             ],
             [
              0.2222222222222222,
              "#7201a8"
             ],
             [
              0.3333333333333333,
              "#9c179e"
             ],
             [
              0.4444444444444444,
              "#bd3786"
             ],
             [
              0.5555555555555556,
              "#d8576b"
             ],
             [
              0.6666666666666666,
              "#ed7953"
             ],
             [
              0.7777777777777778,
              "#fb9f3a"
             ],
             [
              0.8888888888888888,
              "#fdca26"
             ],
             [
              1,
              "#f0f921"
             ]
            ],
            "type": "histogram2dcontour"
           }
          ],
          "mesh3d": [
           {
            "colorbar": {
             "outlinewidth": 0,
             "ticks": ""
            },
            "type": "mesh3d"
           }
          ],
          "parcoords": [
           {
            "line": {
             "colorbar": {
              "outlinewidth": 0,
              "ticks": ""
             }
            },
            "type": "parcoords"
           }
          ],
          "pie": [
           {
            "automargin": true,
            "type": "pie"
           }
          ],
          "scatter": [
           {
            "marker": {
             "colorbar": {
              "outlinewidth": 0,
              "ticks": ""
             }
            },
            "type": "scatter"
           }
          ],
          "scatter3d": [
           {
            "line": {
             "colorbar": {
              "outlinewidth": 0,
              "ticks": ""
             }
            },
            "marker": {
             "colorbar": {
              "outlinewidth": 0,
              "ticks": ""
             }
            },
            "type": "scatter3d"
           }
          ],
          "scattercarpet": [
           {
            "marker": {
             "colorbar": {
              "outlinewidth": 0,
              "ticks": ""
             }
            },
            "type": "scattercarpet"
           }
          ],
          "scattergeo": [
           {
            "marker": {
             "colorbar": {
              "outlinewidth": 0,
              "ticks": ""
             }
            },
            "type": "scattergeo"
           }
          ],
          "scattergl": [
           {
            "marker": {
             "colorbar": {
              "outlinewidth": 0,
              "ticks": ""
             }
            },
            "type": "scattergl"
           }
          ],
          "scattermapbox": [
           {
            "marker": {
             "colorbar": {
              "outlinewidth": 0,
              "ticks": ""
             }
            },
            "type": "scattermapbox"
           }
          ],
          "scatterpolar": [
           {
            "marker": {
             "colorbar": {
              "outlinewidth": 0,
              "ticks": ""
             }
            },
            "type": "scatterpolar"
           }
          ],
          "scatterpolargl": [
           {
            "marker": {
             "colorbar": {
              "outlinewidth": 0,
              "ticks": ""
             }
            },
            "type": "scatterpolargl"
           }
          ],
          "scatterternary": [
           {
            "marker": {
             "colorbar": {
              "outlinewidth": 0,
              "ticks": ""
             }
            },
            "type": "scatterternary"
           }
          ],
          "surface": [
           {
            "colorbar": {
             "outlinewidth": 0,
             "ticks": ""
            },
            "colorscale": [
             [
              0,
              "#0d0887"
             ],
             [
              0.1111111111111111,
              "#46039f"
             ],
             [
              0.2222222222222222,
              "#7201a8"
             ],
             [
              0.3333333333333333,
              "#9c179e"
             ],
             [
              0.4444444444444444,
              "#bd3786"
             ],
             [
              0.5555555555555556,
              "#d8576b"
             ],
             [
              0.6666666666666666,
              "#ed7953"
             ],
             [
              0.7777777777777778,
              "#fb9f3a"
             ],
             [
              0.8888888888888888,
              "#fdca26"
             ],
             [
              1,
              "#f0f921"
             ]
            ],
            "type": "surface"
           }
          ],
          "table": [
           {
            "cells": {
             "fill": {
              "color": "#EBF0F8"
             },
             "line": {
              "color": "white"
             }
            },
            "header": {
             "fill": {
              "color": "#C8D4E3"
             },
             "line": {
              "color": "white"
             }
            },
            "type": "table"
           }
          ]
         },
         "layout": {
          "annotationdefaults": {
           "arrowcolor": "#2a3f5f",
           "arrowhead": 0,
           "arrowwidth": 1
          },
          "autotypenumbers": "strict",
          "coloraxis": {
           "colorbar": {
            "outlinewidth": 0,
            "ticks": ""
           }
          },
          "colorscale": {
           "diverging": [
            [
             0,
             "#8e0152"
            ],
            [
             0.1,
             "#c51b7d"
            ],
            [
             0.2,
             "#de77ae"
            ],
            [
             0.3,
             "#f1b6da"
            ],
            [
             0.4,
             "#fde0ef"
            ],
            [
             0.5,
             "#f7f7f7"
            ],
            [
             0.6,
             "#e6f5d0"
            ],
            [
             0.7,
             "#b8e186"
            ],
            [
             0.8,
             "#7fbc41"
            ],
            [
             0.9,
             "#4d9221"
            ],
            [
             1,
             "#276419"
            ]
           ],
           "sequential": [
            [
             0,
             "#0d0887"
            ],
            [
             0.1111111111111111,
             "#46039f"
            ],
            [
             0.2222222222222222,
             "#7201a8"
            ],
            [
             0.3333333333333333,
             "#9c179e"
            ],
            [
             0.4444444444444444,
             "#bd3786"
            ],
            [
             0.5555555555555556,
             "#d8576b"
            ],
            [
             0.6666666666666666,
             "#ed7953"
            ],
            [
             0.7777777777777778,
             "#fb9f3a"
            ],
            [
             0.8888888888888888,
             "#fdca26"
            ],
            [
             1,
             "#f0f921"
            ]
           ],
           "sequentialminus": [
            [
             0,
             "#0d0887"
            ],
            [
             0.1111111111111111,
             "#46039f"
            ],
            [
             0.2222222222222222,
             "#7201a8"
            ],
            [
             0.3333333333333333,
             "#9c179e"
            ],
            [
             0.4444444444444444,
             "#bd3786"
            ],
            [
             0.5555555555555556,
             "#d8576b"
            ],
            [
             0.6666666666666666,
             "#ed7953"
            ],
            [
             0.7777777777777778,
             "#fb9f3a"
            ],
            [
             0.8888888888888888,
             "#fdca26"
            ],
            [
             1,
             "#f0f921"
            ]
           ]
          },
          "colorway": [
           "#636efa",
           "#EF553B",
           "#00cc96",
           "#ab63fa",
           "#FFA15A",
           "#19d3f3",
           "#FF6692",
           "#B6E880",
           "#FF97FF",
           "#FECB52"
          ],
          "font": {
           "color": "#2a3f5f"
          },
          "geo": {
           "bgcolor": "white",
           "lakecolor": "white",
           "landcolor": "#E5ECF6",
           "showlakes": true,
           "showland": true,
           "subunitcolor": "white"
          },
          "hoverlabel": {
           "align": "left"
          },
          "hovermode": "closest",
          "mapbox": {
           "style": "light"
          },
          "paper_bgcolor": "white",
          "plot_bgcolor": "#E5ECF6",
          "polar": {
           "angularaxis": {
            "gridcolor": "white",
            "linecolor": "white",
            "ticks": ""
           },
           "bgcolor": "#E5ECF6",
           "radialaxis": {
            "gridcolor": "white",
            "linecolor": "white",
            "ticks": ""
           }
          },
          "scene": {
           "xaxis": {
            "backgroundcolor": "#E5ECF6",
            "gridcolor": "white",
            "gridwidth": 2,
            "linecolor": "white",
            "showbackground": true,
            "ticks": "",
            "zerolinecolor": "white"
           },
           "yaxis": {
            "backgroundcolor": "#E5ECF6",
            "gridcolor": "white",
            "gridwidth": 2,
            "linecolor": "white",
            "showbackground": true,
            "ticks": "",
            "zerolinecolor": "white"
           },
           "zaxis": {
            "backgroundcolor": "#E5ECF6",
            "gridcolor": "white",
            "gridwidth": 2,
            "linecolor": "white",
            "showbackground": true,
            "ticks": "",
            "zerolinecolor": "white"
           }
          },
          "shapedefaults": {
           "line": {
            "color": "#2a3f5f"
           }
          },
          "ternary": {
           "aaxis": {
            "gridcolor": "white",
            "linecolor": "white",
            "ticks": ""
           },
           "baxis": {
            "gridcolor": "white",
            "linecolor": "white",
            "ticks": ""
           },
           "bgcolor": "#E5ECF6",
           "caxis": {
            "gridcolor": "white",
            "linecolor": "white",
            "ticks": ""
           }
          },
          "title": {
           "x": 0.05
          },
          "xaxis": {
           "automargin": true,
           "gridcolor": "white",
           "linecolor": "white",
           "ticks": "",
           "title": {
            "standoff": 15
           },
           "zerolinecolor": "white",
           "zerolinewidth": 2
          },
          "yaxis": {
           "automargin": true,
           "gridcolor": "white",
           "linecolor": "white",
           "ticks": "",
           "title": {
            "standoff": 15
           },
           "zerolinecolor": "white",
           "zerolinewidth": 2
          }
         }
        }
       }
      },
      "text/html": [
       "<div>                            <div id=\"fa11b8b9-a714-4273-8da6-391cd96b53d6\" class=\"plotly-graph-div\" style=\"height:525px; width:100%;\"></div>            <script type=\"text/javascript\">                require([\"plotly\"], function(Plotly) {                    window.PLOTLYENV=window.PLOTLYENV || {};                                    if (document.getElementById(\"fa11b8b9-a714-4273-8da6-391cd96b53d6\")) {                    Plotly.newPlot(                        \"fa11b8b9-a714-4273-8da6-391cd96b53d6\",                        [{\"customdata\":[[-32.17141235535226,141.96805997351217],[-73.81321146970056,315.3432393191809],[-61.48869418131999,147.13748629420172],[-45.23865448006683,323.14877371924973],[-13.343204761940909,137.95945859253865],[-87.41867715619688,231.84747547312463],[-13.570149181383377,329.1254263914323],[-45.093473923051285,143.9934507172806],[-61.64213831634924,319.98438932547566],[-73.63251686963588,151.7408267754906],[-32.373711430260514,325.16500175108564],[-27.89404308777798,141.15412502033797],[-77.68653156554397,312.0828987779564],[-57.49894925168901,146.17810539479203],[-49.340884051200014,322.40602199203704],[-7.8837560189376585,136.15644781712754],[-85.16106513167966,175.6796323509242],[-18.62189866884078,327.80489956966494],[-40.916898874269926,143.2659899225867],[-65.73135835658351,318.7520026364532],[-69.5827106285241,149.64964442319018],[-36.801174619134365,324.3840740122736],[-23.28699961161422,140.19429729624568],[-81.69318299185393,305.68015237347794],[-1.714963364896676,333.3300606261709],[-53.300739830805924,145.29673688597418],[-53.649611270097274,321.5673130829997],[-1.2517224039037782,133.36974317546654]],\"geo\":\"geo\",\"hovertemplate\":\"visible=No<br>hour=23<br>latitude=%{lat}<br>longitude=%{lon}<br>elevation=%{customdata[0]}<br>azimuth=%{customdata[1]}<extra></extra>\",\"lat\":[-0.227699376414182,-41.54664374034856,-53.30469026752929,11.771854388598285,30.054212210313864,-70.76862839314698,64.43797070207464,-23.292691777966716,-18.652115291700017,-74.77907149576184,34.726816148926275,7.086035505671828,-48.883505849348204,-45.99877506353325,4.257626949040976,37.41518594599909,-77.22340790697228,57.214045692164184,-15.759511393250708,-26.34419278821114,-67.9047719329116,26.99766749051285,14.752270181319917,-56.551629617948734,77.80137298010926,-38.30363568223007,-3.732819236693361,45.1610007323384],\"legendgroup\":\"No\",\"lon\":[56.96744395641475,-130.3368712083421,68.01020036541472,-121.33527091315189,52.217663107719986,-147.22230989416087,-105.6349952605436,60.50717307425374,-125.7808067811127,88.68902713694087,-117.31200397000991,55.988043217582984,-132.41342880494705,65.5350279414425,-122.36133445915073,50.75545399081622,-162.03830341128722,-110.13132765780442,59.36214019439569,-127.00285541193148,77.6835804293623,-118.75068340224237,54.92030852004723,-135.41353746771293,-81.5133511148336,63.57693873274095,-123.43417087613987,48.83956986806556],\"marker\":{\"color\":\"#636efa\",\"opacity\":0.3,\"symbol\":\"circle\"},\"mode\":\"markers\",\"name\":\"No\",\"showlegend\":true,\"type\":\"scattergeo\"},{\"customdata\":[[18.4787920297135,346.2629524542844],[19.530687728038778,119.83355317798214],[6.7433905016194196,337.74116835928874],[40.36856846932655,89.85214623364683]],\"geo\":\"geo\",\"hovertemplate\":\"visible=Yes<br>hour=23<br>latitude=%{lat}<br>longitude=%{lon}<br>elevation=%{customdata[0]}<br>azimuth=%{customdata[1]}<extra></extra>\",\"lat\":[79.90023128075934,59.87352269055879,81.75848167499909,67.06710748017495],\"legendgroup\":\"Yes\",\"lon\":[3.5660905582169287,42.72810978768613,-42.227652453085724,37.313300886664564],\"marker\":{\"color\":\"#EF553B\",\"opacity\":0.3,\"symbol\":\"circle\"},\"mode\":\"markers\",\"name\":\"Yes\",\"showlegend\":true,\"type\":\"scattergeo\"}],                        {\"template\":{\"data\":{\"bar\":[{\"error_x\":{\"color\":\"#2a3f5f\"},\"error_y\":{\"color\":\"#2a3f5f\"},\"marker\":{\"line\":{\"color\":\"#E5ECF6\",\"width\":0.5},\"pattern\":{\"fillmode\":\"overlay\",\"size\":10,\"solidity\":0.2}},\"type\":\"bar\"}],\"barpolar\":[{\"marker\":{\"line\":{\"color\":\"#E5ECF6\",\"width\":0.5},\"pattern\":{\"fillmode\":\"overlay\",\"size\":10,\"solidity\":0.2}},\"type\":\"barpolar\"}],\"carpet\":[{\"aaxis\":{\"endlinecolor\":\"#2a3f5f\",\"gridcolor\":\"white\",\"linecolor\":\"white\",\"minorgridcolor\":\"white\",\"startlinecolor\":\"#2a3f5f\"},\"baxis\":{\"endlinecolor\":\"#2a3f5f\",\"gridcolor\":\"white\",\"linecolor\":\"white\",\"minorgridcolor\":\"white\",\"startlinecolor\":\"#2a3f5f\"},\"type\":\"carpet\"}],\"choropleth\":[{\"colorbar\":{\"outlinewidth\":0,\"ticks\":\"\"},\"type\":\"choropleth\"}],\"contour\":[{\"colorbar\":{\"outlinewidth\":0,\"ticks\":\"\"},\"colorscale\":[[0.0,\"#0d0887\"],[0.1111111111111111,\"#46039f\"],[0.2222222222222222,\"#7201a8\"],[0.3333333333333333,\"#9c179e\"],[0.4444444444444444,\"#bd3786\"],[0.5555555555555556,\"#d8576b\"],[0.6666666666666666,\"#ed7953\"],[0.7777777777777778,\"#fb9f3a\"],[0.8888888888888888,\"#fdca26\"],[1.0,\"#f0f921\"]],\"type\":\"contour\"}],\"contourcarpet\":[{\"colorbar\":{\"outlinewidth\":0,\"ticks\":\"\"},\"type\":\"contourcarpet\"}],\"heatmap\":[{\"colorbar\":{\"outlinewidth\":0,\"ticks\":\"\"},\"colorscale\":[[0.0,\"#0d0887\"],[0.1111111111111111,\"#46039f\"],[0.2222222222222222,\"#7201a8\"],[0.3333333333333333,\"#9c179e\"],[0.4444444444444444,\"#bd3786\"],[0.5555555555555556,\"#d8576b\"],[0.6666666666666666,\"#ed7953\"],[0.7777777777777778,\"#fb9f3a\"],[0.8888888888888888,\"#fdca26\"],[1.0,\"#f0f921\"]],\"type\":\"heatmap\"}],\"heatmapgl\":[{\"colorbar\":{\"outlinewidth\":0,\"ticks\":\"\"},\"colorscale\":[[0.0,\"#0d0887\"],[0.1111111111111111,\"#46039f\"],[0.2222222222222222,\"#7201a8\"],[0.3333333333333333,\"#9c179e\"],[0.4444444444444444,\"#bd3786\"],[0.5555555555555556,\"#d8576b\"],[0.6666666666666666,\"#ed7953\"],[0.7777777777777778,\"#fb9f3a\"],[0.8888888888888888,\"#fdca26\"],[1.0,\"#f0f921\"]],\"type\":\"heatmapgl\"}],\"histogram\":[{\"marker\":{\"pattern\":{\"fillmode\":\"overlay\",\"size\":10,\"solidity\":0.2}},\"type\":\"histogram\"}],\"histogram2d\":[{\"colorbar\":{\"outlinewidth\":0,\"ticks\":\"\"},\"colorscale\":[[0.0,\"#0d0887\"],[0.1111111111111111,\"#46039f\"],[0.2222222222222222,\"#7201a8\"],[0.3333333333333333,\"#9c179e\"],[0.4444444444444444,\"#bd3786\"],[0.5555555555555556,\"#d8576b\"],[0.6666666666666666,\"#ed7953\"],[0.7777777777777778,\"#fb9f3a\"],[0.8888888888888888,\"#fdca26\"],[1.0,\"#f0f921\"]],\"type\":\"histogram2d\"}],\"histogram2dcontour\":[{\"colorbar\":{\"outlinewidth\":0,\"ticks\":\"\"},\"colorscale\":[[0.0,\"#0d0887\"],[0.1111111111111111,\"#46039f\"],[0.2222222222222222,\"#7201a8\"],[0.3333333333333333,\"#9c179e\"],[0.4444444444444444,\"#bd3786\"],[0.5555555555555556,\"#d8576b\"],[0.6666666666666666,\"#ed7953\"],[0.7777777777777778,\"#fb9f3a\"],[0.8888888888888888,\"#fdca26\"],[1.0,\"#f0f921\"]],\"type\":\"histogram2dcontour\"}],\"mesh3d\":[{\"colorbar\":{\"outlinewidth\":0,\"ticks\":\"\"},\"type\":\"mesh3d\"}],\"parcoords\":[{\"line\":{\"colorbar\":{\"outlinewidth\":0,\"ticks\":\"\"}},\"type\":\"parcoords\"}],\"pie\":[{\"automargin\":true,\"type\":\"pie\"}],\"scatter\":[{\"marker\":{\"colorbar\":{\"outlinewidth\":0,\"ticks\":\"\"}},\"type\":\"scatter\"}],\"scatter3d\":[{\"line\":{\"colorbar\":{\"outlinewidth\":0,\"ticks\":\"\"}},\"marker\":{\"colorbar\":{\"outlinewidth\":0,\"ticks\":\"\"}},\"type\":\"scatter3d\"}],\"scattercarpet\":[{\"marker\":{\"colorbar\":{\"outlinewidth\":0,\"ticks\":\"\"}},\"type\":\"scattercarpet\"}],\"scattergeo\":[{\"marker\":{\"colorbar\":{\"outlinewidth\":0,\"ticks\":\"\"}},\"type\":\"scattergeo\"}],\"scattergl\":[{\"marker\":{\"colorbar\":{\"outlinewidth\":0,\"ticks\":\"\"}},\"type\":\"scattergl\"}],\"scattermapbox\":[{\"marker\":{\"colorbar\":{\"outlinewidth\":0,\"ticks\":\"\"}},\"type\":\"scattermapbox\"}],\"scatterpolar\":[{\"marker\":{\"colorbar\":{\"outlinewidth\":0,\"ticks\":\"\"}},\"type\":\"scatterpolar\"}],\"scatterpolargl\":[{\"marker\":{\"colorbar\":{\"outlinewidth\":0,\"ticks\":\"\"}},\"type\":\"scatterpolargl\"}],\"scatterternary\":[{\"marker\":{\"colorbar\":{\"outlinewidth\":0,\"ticks\":\"\"}},\"type\":\"scatterternary\"}],\"surface\":[{\"colorbar\":{\"outlinewidth\":0,\"ticks\":\"\"},\"colorscale\":[[0.0,\"#0d0887\"],[0.1111111111111111,\"#46039f\"],[0.2222222222222222,\"#7201a8\"],[0.3333333333333333,\"#9c179e\"],[0.4444444444444444,\"#bd3786\"],[0.5555555555555556,\"#d8576b\"],[0.6666666666666666,\"#ed7953\"],[0.7777777777777778,\"#fb9f3a\"],[0.8888888888888888,\"#fdca26\"],[1.0,\"#f0f921\"]],\"type\":\"surface\"}],\"table\":[{\"cells\":{\"fill\":{\"color\":\"#EBF0F8\"},\"line\":{\"color\":\"white\"}},\"header\":{\"fill\":{\"color\":\"#C8D4E3\"},\"line\":{\"color\":\"white\"}},\"type\":\"table\"}]},\"layout\":{\"annotationdefaults\":{\"arrowcolor\":\"#2a3f5f\",\"arrowhead\":0,\"arrowwidth\":1},\"autotypenumbers\":\"strict\",\"coloraxis\":{\"colorbar\":{\"outlinewidth\":0,\"ticks\":\"\"}},\"colorscale\":{\"diverging\":[[0,\"#8e0152\"],[0.1,\"#c51b7d\"],[0.2,\"#de77ae\"],[0.3,\"#f1b6da\"],[0.4,\"#fde0ef\"],[0.5,\"#f7f7f7\"],[0.6,\"#e6f5d0\"],[0.7,\"#b8e186\"],[0.8,\"#7fbc41\"],[0.9,\"#4d9221\"],[1,\"#276419\"]],\"sequential\":[[0.0,\"#0d0887\"],[0.1111111111111111,\"#46039f\"],[0.2222222222222222,\"#7201a8\"],[0.3333333333333333,\"#9c179e\"],[0.4444444444444444,\"#bd3786\"],[0.5555555555555556,\"#d8576b\"],[0.6666666666666666,\"#ed7953\"],[0.7777777777777778,\"#fb9f3a\"],[0.8888888888888888,\"#fdca26\"],[1.0,\"#f0f921\"]],\"sequentialminus\":[[0.0,\"#0d0887\"],[0.1111111111111111,\"#46039f\"],[0.2222222222222222,\"#7201a8\"],[0.3333333333333333,\"#9c179e\"],[0.4444444444444444,\"#bd3786\"],[0.5555555555555556,\"#d8576b\"],[0.6666666666666666,\"#ed7953\"],[0.7777777777777778,\"#fb9f3a\"],[0.8888888888888888,\"#fdca26\"],[1.0,\"#f0f921\"]]},\"colorway\":[\"#636efa\",\"#EF553B\",\"#00cc96\",\"#ab63fa\",\"#FFA15A\",\"#19d3f3\",\"#FF6692\",\"#B6E880\",\"#FF97FF\",\"#FECB52\"],\"font\":{\"color\":\"#2a3f5f\"},\"geo\":{\"bgcolor\":\"white\",\"lakecolor\":\"white\",\"landcolor\":\"#E5ECF6\",\"showlakes\":true,\"showland\":true,\"subunitcolor\":\"white\"},\"hoverlabel\":{\"align\":\"left\"},\"hovermode\":\"closest\",\"mapbox\":{\"style\":\"light\"},\"paper_bgcolor\":\"white\",\"plot_bgcolor\":\"#E5ECF6\",\"polar\":{\"angularaxis\":{\"gridcolor\":\"white\",\"linecolor\":\"white\",\"ticks\":\"\"},\"bgcolor\":\"#E5ECF6\",\"radialaxis\":{\"gridcolor\":\"white\",\"linecolor\":\"white\",\"ticks\":\"\"}},\"scene\":{\"xaxis\":{\"backgroundcolor\":\"#E5ECF6\",\"gridcolor\":\"white\",\"gridwidth\":2,\"linecolor\":\"white\",\"showbackground\":true,\"ticks\":\"\",\"zerolinecolor\":\"white\"},\"yaxis\":{\"backgroundcolor\":\"#E5ECF6\",\"gridcolor\":\"white\",\"gridwidth\":2,\"linecolor\":\"white\",\"showbackground\":true,\"ticks\":\"\",\"zerolinecolor\":\"white\"},\"zaxis\":{\"backgroundcolor\":\"#E5ECF6\",\"gridcolor\":\"white\",\"gridwidth\":2,\"linecolor\":\"white\",\"showbackground\":true,\"ticks\":\"\",\"zerolinecolor\":\"white\"}},\"shapedefaults\":{\"line\":{\"color\":\"#2a3f5f\"}},\"ternary\":{\"aaxis\":{\"gridcolor\":\"white\",\"linecolor\":\"white\",\"ticks\":\"\"},\"baxis\":{\"gridcolor\":\"white\",\"linecolor\":\"white\",\"ticks\":\"\"},\"bgcolor\":\"#E5ECF6\",\"caxis\":{\"gridcolor\":\"white\",\"linecolor\":\"white\",\"ticks\":\"\"}},\"title\":{\"x\":0.05},\"xaxis\":{\"automargin\":true,\"gridcolor\":\"white\",\"linecolor\":\"white\",\"ticks\":\"\",\"title\":{\"standoff\":15},\"zerolinecolor\":\"white\",\"zerolinewidth\":2},\"yaxis\":{\"automargin\":true,\"gridcolor\":\"white\",\"linecolor\":\"white\",\"ticks\":\"\",\"title\":{\"standoff\":15},\"zerolinecolor\":\"white\",\"zerolinewidth\":2}}},\"geo\":{\"domain\":{\"x\":[0.0,1.0],\"y\":[0.0,1.0]},\"projection\":{\"type\":\"orthographic\"},\"center\":{}},\"legend\":{\"title\":{\"text\":\"visible\"},\"tracegroupgap\":0},\"margin\":{\"t\":60}},                        {\"responsive\": true}                    ).then(function(){\n",
       "                            \n",
       "var gd = document.getElementById('fa11b8b9-a714-4273-8da6-391cd96b53d6');\n",
       "var x = new MutationObserver(function (mutations, observer) {{\n",
       "        var display = window.getComputedStyle(gd).display;\n",
       "        if (!display || display === 'none') {{\n",
       "            console.log([gd, 'removed!']);\n",
       "            Plotly.purge(gd);\n",
       "            observer.disconnect();\n",
       "        }}\n",
       "}});\n",
       "\n",
       "// Listen for the removal of the full notebook cells\n",
       "var notebookContainer = gd.closest('#notebook-container');\n",
       "if (notebookContainer) {{\n",
       "    x.observe(notebookContainer, {childList: true});\n",
       "}}\n",
       "\n",
       "// Listen for the clearing of the current output cell\n",
       "var outputEl = gd.closest('.output');\n",
       "if (outputEl) {{\n",
       "    x.observe(outputEl, {childList: true});\n",
       "}}\n",
       "\n",
       "                        })                };                });            </script>        </div>"
      ]
     },
     "metadata": {},
     "output_type": "display_data"
    }
   ],
   "source": [
    "px.scatter_geo(prop_data,\n",
    "               animation_frame='hour',\n",
    "               color='visible',\n",
    "               lat='latitude',\n",
    "               lon='longitude',\n",
    "               opacity=0.3,\n",
    "               hover_data=['elevation', 'azimuth'],\n",
    "           projection='orthographic',)"
   ]
  },
  {
   "cell_type": "code",
   "execution_count": null,
   "metadata": {},
   "outputs": [],
   "source": []
  }
 ],
 "metadata": {
  "interpreter": {
   "hash": "7c1ec5d9efc34516c1b49d6429fd2f63ed729056e5d8b6dccd5a1716143e1140"
  },
  "kernelspec": {
   "display_name": "Python 3.9.10 ('simulator')",
   "language": "python",
   "name": "python3"
  },
  "language_info": {
   "codemirror_mode": {
    "name": "ipython",
    "version": 3
   },
   "file_extension": ".py",
   "mimetype": "text/x-python",
   "name": "python",
   "nbconvert_exporter": "python",
   "pygments_lexer": "ipython3",
   "version": "3.9.10"
  },
  "orig_nbformat": 4
 },
 "nbformat": 4,
 "nbformat_minor": 2
}
