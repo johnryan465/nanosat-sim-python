{
 "cells": [
  {
   "cell_type": "code",
   "execution_count": 52,
   "metadata": {},
   "outputs": [
    {
     "name": "stdout",
     "output_type": "stream",
     "text": [
      "The autoreload extension is already loaded. To reload it, use:\n",
      "  %reload_ext autoreload\n"
     ]
    }
   ],
   "source": [
    "%load_ext autoreload"
   ]
  },
  {
   "cell_type": "code",
   "execution_count": 53,
   "metadata": {},
   "outputs": [],
   "source": [
    "%autoreload 2"
   ]
  },
  {
   "cell_type": "code",
   "execution_count": 54,
   "metadata": {},
   "outputs": [],
   "source": [
    "\"\"\"\n",
    "This module is designed to visualise the outputs of the simulator\n",
    "\"\"\"\n",
    "import orekit\n",
    "from opssat.env import OPSSATEnv\n",
    "from opssat.sat import OPSSAT\n",
    "from simulator.main import Simulator\n",
    "\n",
    "import orekit\n",
    "from orekit.pyhelpers import setup_orekit_curdir\n",
    "from orekit.pyhelpers import absolutedate_to_datetime \n",
    "\n",
    "from org.orekit.frames import FramesFactory\n",
    "from org.orekit.orbits import KeplerianOrbit\n",
    "from org.orekit.time import AbsoluteDate\n",
    "from org.orekit.time import TimeScalesFactory\n",
    "from org.orekit.utils import Constants, IERSConventions, AngularDerivativesFilter\n",
    "from org.orekit.utils import PVCoordinates\n",
    "from org.hipparchus.geometry.euclidean.threed import Vector3D\n",
    "\n",
    "import numpy as np"
   ]
  },
  {
   "cell_type": "code",
   "execution_count": 55,
   "metadata": {},
   "outputs": [
    {
     "data": {
      "text/plain": [
       "<GeoMagneticField: org.orekit.models.earth.GeoMagneticField@7465860c>"
      ]
     },
     "execution_count": 55,
     "metadata": {},
     "output_type": "execute_result"
    }
   ],
   "source": [
    "from org.orekit.models.earth import GeoMagneticFieldFactory\n",
    "vm = orekit.initVM()\n",
    "setup_orekit_curdir(filename=\"orekit-data\")\n",
    "year = 2014.0\n",
    "\n",
    "GeoMagneticFieldFactory.getIGRF(year)"
   ]
  },
  {
   "cell_type": "code",
   "execution_count": 56,
   "metadata": {},
   "outputs": [],
   "source": [
    "def create_orbit(initialDate: AbsoluteDate):\n",
    "    position  = Vector3D(-6142438.668, 3492467.560, -25767.25680)\n",
    "    velocity  = Vector3D(505.8479685, 942.7809215, 7435.922231)\n",
    "    initialOrbit =  KeplerianOrbit(PVCoordinates(position, velocity),\n",
    "                                                            FramesFactory.getEME2000(), initialDate,\n",
    "                                                            Constants.EIGEN5C_EARTH_MU)\n",
    "    return initialOrbit"
   ]
  },
  {
   "cell_type": "code",
   "execution_count": 57,
   "metadata": {},
   "outputs": [
    {
     "name": "stdout",
     "output_type": "stream",
     "text": [
      "SpacecraftState{orbit=Keplerian parameters: {a: 7069220.386682823; e: 4.777356060557311E-4; i: 98.18525099174988; pa: 13.741061002484528; raan: 150.34825333049; v: -13.952151446378437;}, attitude=org.orekit.attitudes.Attitude@734b2c57, mass=5.777673, additional={}}\n"
     ]
    }
   ],
   "source": [
    "vm = orekit.initVM()\n",
    "setup_orekit_curdir()\n",
    "start_date = AbsoluteDate(2014, 1, 1, 23, 30, 00.000, TimeScalesFactory.getUTC())\n",
    "orbit = create_orbit(start_date)\n",
    "opssat = OPSSAT(orbit=orbit)\n",
    "env = OPSSATEnv()\n",
    "simulator = Simulator(satellite=opssat, orbit=orbit, env=env, step_size=60.0 * 60)\n",
    "end_date = AbsoluteDate(2014, 2, 1, 23, 40, 00.000, TimeScalesFactory.getUTC())\n",
    "res = simulator.run(end_date)"
   ]
  },
  {
   "cell_type": "code",
   "execution_count": 58,
   "metadata": {},
   "outputs": [
    {
     "data": {
      "text/plain": [
       "<SpacecraftState: SpacecraftState{orbit=Keplerian parameters: {a: 7069220.386682823; e: 4.777356060557311E-4; i: 98.18525099174988; pa: 13.741061002484528; raan: 150.34825333049; v: -13.952151446378437;}, attitude=org.orekit.attitudes.Attitude@734b2c57, mass=5.777673, additional={}}>"
      ]
     },
     "execution_count": 58,
     "metadata": {},
     "output_type": "execute_result"
    }
   ],
   "source": [
    "res[\"state\"][0]"
   ]
  },
  {
   "cell_type": "code",
   "execution_count": 59,
   "metadata": {},
   "outputs": [],
   "source": [
    "from math import radians, pi\n",
    "from org.orekit.bodies import OneAxisEllipsoid, GeodeticPoint\n",
    "from org.orekit.frames import FramesFactory, TopocentricFrame\n",
    "\n",
    "ITRF = FramesFactory.getITRF(IERSConventions.IERS_2010, True)\n",
    "earth = OneAxisEllipsoid(Constants.WGS84_EARTH_EQUATORIAL_RADIUS, \n",
    "                         Constants.WGS84_EARTH_FLATTENING, \n",
    "                         ITRF)"
   ]
  },
  {
   "cell_type": "code",
   "execution_count": 60,
   "metadata": {},
   "outputs": [],
   "source": [
    "longitude = radians(21.063)\n",
    "latitude  = radians(67.878)\n",
    "altitude  = 341.0\n",
    "station1 = GeodeticPoint(latitude, longitude, altitude)\n",
    "sta1Frame = TopocentricFrame(earth, station1, \"Esrange\")"
   ]
  },
  {
   "cell_type": "code",
   "execution_count": 61,
   "metadata": {},
   "outputs": [],
   "source": [
    "import pandas as pd\n",
    "\n",
    "inertialFrame = FramesFactory.getEME2000()\n",
    "\n",
    "pvs = list(map(lambda x: x.getPVCoordinates(), res[\"state\"]))\n",
    "\n",
    "prop_data = pd.DataFrame(data=pvs, columns=['pv'])\n",
    "\n",
    "prop_data['Position'] = prop_data['pv'].apply(lambda x: x.getPosition())\n",
    "prop_data['datetime'] = prop_data['pv'].apply(lambda x: absolutedate_to_datetime(x.getDate()))\n",
    "prop_data['elevation'] = prop_data['pv'].apply(lambda x: sta1Frame.getElevation(x.getPosition(), inertialFrame, x.getDate())*180.0/pi )\n",
    "prop_data['azimuth'] = prop_data['pv'].apply(lambda x: sta1Frame.getAzimuth(x.getPosition(), inertialFrame, x.getDate())*180.0/pi )\n",
    "prop_data.set_index('datetime', inplace=True, drop=False)\n",
    "prop_data.index.name = 'Timestamp'"
   ]
  },
  {
   "cell_type": "code",
   "execution_count": 62,
   "metadata": {},
   "outputs": [
    {
     "data": {
      "text/html": [
       "<div>\n",
       "<style scoped>\n",
       "    .dataframe tbody tr th:only-of-type {\n",
       "        vertical-align: middle;\n",
       "    }\n",
       "\n",
       "    .dataframe tbody tr th {\n",
       "        vertical-align: top;\n",
       "    }\n",
       "\n",
       "    .dataframe thead th {\n",
       "        text-align: right;\n",
       "    }\n",
       "</style>\n",
       "<table border=\"1\" class=\"dataframe\">\n",
       "  <thead>\n",
       "    <tr style=\"text-align: right;\">\n",
       "      <th></th>\n",
       "      <th>pv</th>\n",
       "      <th>Position</th>\n",
       "      <th>datetime</th>\n",
       "      <th>elevation</th>\n",
       "      <th>azimuth</th>\n",
       "    </tr>\n",
       "    <tr>\n",
       "      <th>Timestamp</th>\n",
       "      <th></th>\n",
       "      <th></th>\n",
       "      <th></th>\n",
       "      <th></th>\n",
       "      <th></th>\n",
       "    </tr>\n",
       "  </thead>\n",
       "  <tbody>\n",
       "    <tr>\n",
       "      <th>2014-01-01 23:30:00</th>\n",
       "      <td>{2014-01-01T23:30:00.000, P(-6142438.668, 3492...</td>\n",
       "      <td>{-6,142,438.668; 3,492,467.56; -25,767.2568}</td>\n",
       "      <td>2014-01-01 23:30:00</td>\n",
       "      <td>-32.142386</td>\n",
       "      <td>142.433723</td>\n",
       "    </tr>\n",
       "    <tr>\n",
       "      <th>2014-01-01 23:40:00</th>\n",
       "      <td>{2014-01-01T23:40:00.000, P(-9.044052536074705...</td>\n",
       "      <td>{-90,440,525.36074705; 296,416,256.52368015; -...</td>\n",
       "      <td>2014-01-01 23:40:00</td>\n",
       "      <td>-12.436769</td>\n",
       "      <td>188.946941</td>\n",
       "    </tr>\n",
       "    <tr>\n",
       "      <th>2014-01-01 23:50:00</th>\n",
       "      <td>{2014-01-01T23:50:00.000, P(-1.771628635512856...</td>\n",
       "      <td>{-177,162,863.5512856; 595,840,074.926729; -41...</td>\n",
       "      <td>2014-01-01 23:50:00</td>\n",
       "      <td>-12.331295</td>\n",
       "      <td>191.410166</td>\n",
       "    </tr>\n",
       "    <tr>\n",
       "      <th>2014-01-02 00:00:00</th>\n",
       "      <td>{2014-01-02T00:00:00.000, P(-2.638929870104982...</td>\n",
       "      <td>{-263,892,987.01049826; 895,280,537.1555716; -...</td>\n",
       "      <td>2014-01-02 00:00:00</td>\n",
       "      <td>-12.447175</td>\n",
       "      <td>193.645814</td>\n",
       "    </tr>\n",
       "    <tr>\n",
       "      <th>2014-01-02 00:10:00</th>\n",
       "      <td>{2014-01-02T00:10:00.000, P(-3.506250098537009...</td>\n",
       "      <td>{-350,625,009.8537009; 1,194,725,076.310812; -...</td>\n",
       "      <td>2014-01-02 00:10:00</td>\n",
       "      <td>-12.643689</td>\n",
       "      <td>195.823472</td>\n",
       "    </tr>\n",
       "  </tbody>\n",
       "</table>\n",
       "</div>"
      ],
      "text/plain": [
       "                                                                    pv  \\\n",
       "Timestamp                                                                \n",
       "2014-01-01 23:30:00  {2014-01-01T23:30:00.000, P(-6142438.668, 3492...   \n",
       "2014-01-01 23:40:00  {2014-01-01T23:40:00.000, P(-9.044052536074705...   \n",
       "2014-01-01 23:50:00  {2014-01-01T23:50:00.000, P(-1.771628635512856...   \n",
       "2014-01-02 00:00:00  {2014-01-02T00:00:00.000, P(-2.638929870104982...   \n",
       "2014-01-02 00:10:00  {2014-01-02T00:10:00.000, P(-3.506250098537009...   \n",
       "\n",
       "                                                              Position  \\\n",
       "Timestamp                                                                \n",
       "2014-01-01 23:30:00       {-6,142,438.668; 3,492,467.56; -25,767.2568}   \n",
       "2014-01-01 23:40:00  {-90,440,525.36074705; 296,416,256.52368015; -...   \n",
       "2014-01-01 23:50:00  {-177,162,863.5512856; 595,840,074.926729; -41...   \n",
       "2014-01-02 00:00:00  {-263,892,987.01049826; 895,280,537.1555716; -...   \n",
       "2014-01-02 00:10:00  {-350,625,009.8537009; 1,194,725,076.310812; -...   \n",
       "\n",
       "                               datetime  elevation     azimuth  \n",
       "Timestamp                                                       \n",
       "2014-01-01 23:30:00 2014-01-01 23:30:00 -32.142386  142.433723  \n",
       "2014-01-01 23:40:00 2014-01-01 23:40:00 -12.436769  188.946941  \n",
       "2014-01-01 23:50:00 2014-01-01 23:50:00 -12.331295  191.410166  \n",
       "2014-01-02 00:00:00 2014-01-02 00:00:00 -12.447175  193.645814  \n",
       "2014-01-02 00:10:00 2014-01-02 00:10:00 -12.643689  195.823472  "
      ]
     },
     "execution_count": 62,
     "metadata": {},
     "output_type": "execute_result"
    }
   ],
   "source": [
    "prop_data.head() "
   ]
  },
  {
   "cell_type": "code",
   "execution_count": 63,
   "metadata": {},
   "outputs": [],
   "source": [
    "prop_data['groundpoint'] = prop_data['pv'].apply(lambda pv: earth.transform(pv.position, inertialFrame, pv.date))\n",
    "prop_data['latitude'] = np.degrees(prop_data.groundpoint.apply(lambda gp: gp.latitude))\n",
    "prop_data['longitude'] = np.degrees(prop_data.groundpoint.apply(lambda gp: gp.longitude))\n",
    "prop_data['day'] = prop_data.datetime.dt.dayofyear\n",
    "prop_data['hour'] = prop_data.datetime.dt.hour"
   ]
  },
  {
   "cell_type": "code",
   "execution_count": 64,
   "metadata": {},
   "outputs": [],
   "source": [
    "prop_data['visible'] = prop_data.elevation.apply(lambda el: 'Yes' if el>0 else 'No') "
   ]
  },
  {
   "cell_type": "code",
   "execution_count": 65,
   "metadata": {},
   "outputs": [
    {
     "data": {
      "image/png": "[encoded data removed]",
      "text/plain": [
       "<Figure size 432x288 with 1 Axes>"
      ]
     },
     "metadata": {
      "needs_background": "light"
     },
     "output_type": "display_data"
    }
   ],
   "source": [
    "prop_data.plot(y='elevation'); "
   ]
  },
  {
   "cell_type": "code",
   "execution_count": 66,
   "metadata": {},
   "outputs": [],
   "source": [
    "import plotly.express as px "
   ]
  },
  {
   "cell_type": "code",
   "execution_count": 67,
   "metadata": {},
   "outputs": [
    {
     "data": {
      "application/vnd.plotly.v1+json": {
       "config": {
        "plotlyServerURL": "https://plot.ly"
       },
       "data": [
        {
         "customdata": [
          [
           142.4337231135884,
           -0.2805343880709552,
           56.52442628768894
          ],
          [
           188.94694082237015,
           -33.292834935793046,
           10.557927451875905
          ],
          [
           191.41016589996448,
           -33.474948747579695,
           7.641924216132677
          ],
          [
           193.6458144423626,
           -33.53481615843333,
           4.999394682948538
          ],
          [
           195.82347175380798,
           -33.564595395994175,
           2.424840489304858
          ],
          [
           197.97660422061892,
           -33.58241469103688,
           -0.12258744791775199
          ],
          [
           200.11621701579674,
           -33.59427484134583,
           -2.6564700988149625
          ],
          [
           202.2469505276405,
           -33.60273737771502,
           -5.1826191683564415
          ],
          [
           204.3710913001565,
           -33.60907971344153,
           -7.703937646037011
          ],
          [
           206.4899080585799,
           -33.61401020016295,
           -10.222037172367092
          ],
          [
           208.6041870620079,
           -33.61795325389352,
           -12.737884222576934
          ],
          [
           210.7144766381955,
           -33.62117866215354,
           -15.252093573875515
          ],
          [
           212.8212105592921,
           -33.62386612478209,
           -17.765074942615747
          ],
          [
           214.92477543547037,
           -33.62613995878174,
           -20.277111901633795
          ],
          [
           217.02555004188648,
           -33.62808890744466,
           -22.78840695679887
          ],
          [
           219.12392960737435,
           -33.6297780148007,
           -25.2991085834509
          ],
          [
           221.22034158722678,
           -33.63125604131338,
           -27.809328119207184
          ],
          [
           223.31525638365073,
           -33.63256025911362,
           -30.31915069177817
          ],
          [
           225.4091949498666,
           -33.633719646923616,
           -32.82864250264544
          ],
          [
           227.50273440992564,
           -33.63475707498251,
           -35.33785580965879
          ],
          [
           229.59651238444715,
           -33.635690833809356,
           -37.84683241425861
          ],
          [
           231.6912304594246,
           -33.63653572575441,
           -40.35560615198948
          ],
          [
           233.78765708492543,
           -33.63730385854576,
           -42.864204703559075
          ],
          [
           235.88663009778796,
           -33.63800523169743,
           -45.37265093324128
          ],
          [
           237.9890590033478,
           -33.63864817613149,
           -47.88096389262495
          ],
          [
           240.09592711128192,
           -33.63923968823726,
           -50.389159583355095
          ],
          [
           242.20829359286148,
           -33.63978568677358,
           -52.897251543821014
          ],
          [
           244.32729550574274,
           -33.6402912126461,
           -55.405251305421594
          ],
          [
           246.45414981541765,
           -33.64076058581315,
           -57.913168751067424
          ],
          [
           248.5901554271894,
           -33.641197529767894,
           -60.421012399426694
          ],
          [
           250.73669522850292,
           -33.64160527104402,
           -62.92878963238227
          ],
          [
           252.89523812647147,
           -33.6419866194847,
           -65.43650687841041
          ],
          [
           255.06734104997716,
           -33.6423440334447,
           -67.94416976158246
          ],
          [
           257.25465086816183,
           -33.642679673137216,
           -70.45178322346563
          ],
          [
           259.4589061573389,
           -33.642995444528935,
           -72.95935162353524
          ],
          [
           261.6819387252938,
           -33.643293035769155,
           -75.46687882231215
          ],
          [
           263.92567477573135,
           -33.64357394747786,
           -77.97436825070983
          ],
          [
           266.19213556446545,
           -33.64383951815553,
           -80.48182296809568
          ],
          [
           268.48343736351393,
           -33.6440909455705,
           -82.98924571119157
          ],
          [
           270.8017905081147,
           -33.644329304861024,
           -85.49663893545156
          ],
          [
           273.1494972549101,
           -33.64455556388644,
           -88.00400485025469
          ],
          [
           275.5289481266108,
           -33.64477059639655,
           -90.5113454488996
          ],
          [
           277.9426163603012,
           -33.64497519324826,
           -93.01866253435942
          ],
          [
           280.393050012876,
           -33.64517007209437,
           -95.5259577414302
          ],
          [
           282.8828612106071,
           -33.64535588574078,
           -98.03323255585411
          ],
          [
           285.4147119625916,
           -33.645533229395824,
           -100.54048833088841
          ],
          [
           287.9912958944354,
           -33.64570264693706,
           -103.0477263017516
          ],
          [
           290.6153152047423,
           -33.64586463644657,
           -105.55494759815488
          ],
          [
           293.28945211245633,
           -33.646019654979554,
           -108.06215325534495
          ],
          [
           296.01633405773947,
           -33.64616812278809,
           -110.5693442237458
          ],
          [
           298.79849195912647,
           -33.64631042702775,
           -113.07652137746223
          ],
          [
           301.6383109316458,
           -33.6464469250343,
           -115.58368552177521
          ],
          [
           304.5379730554409,
           -33.646577947184525,
           -118.09083739980191
          ],
          [
           307.49939207315686,
           -33.646703799503676,
           -120.59797769834057
          ],
          [
           310.5241403084273,
           -33.64682476590589,
           -123.10510705313555
          ],
          [
           313.61336865123525,
           -33.64694111023093,
           -125.61222605352695
          ],
          [
           316.767721155727,
           -33.647053078051464,
           -128.11933524661725
          ],
          [
           319.9872466294919,
           -33.64716089829686,
           -130.62643514098653
          ],
          [
           323.2713105254054,
           -33.647264784669716,
           -133.13352621005504
          ],
          [
           326.61851141054944,
           -33.64736493699147,
           -135.64060889505447
          ],
          [
           330.02660718097235,
           -33.647461542333176,
           -138.14768360774883
          ],
          [
           333.49245688011047,
           -33.647554776077165,
           -140.65475073286868
          ],
          [
           337.0119843061477,
           -33.64764480286488,
           -143.1618106303056
          ],
          [
           340.58016939844777,
           -33.647731777460855,
           -145.66886363710114
          ],
          [
           344.19107254385267,
           -33.64781584549585,
           -148.175910069269
          ],
          [
           347.83789537325856,
           -33.64789714421613,
           -150.68295022340544
          ],
          [
           351.5130793625167,
           -33.64797580308262,
           -153.18998437819639
          ],
          [
           355.2084407667645,
           -33.648051944359715,
           -155.6970127957711
          ],
          [
           358.9153373869016,
           -33.64812568364064,
           -158.20403572293355
          ],
          [
           2.624859764708481,
           -33.64819713033421,
           -160.7110533922915
          ],
          [
           6.328037035066582,
           -33.6482663880687,
           -163.218066023302
          ],
          [
           10.01604618813747,
           -33.64833355513903,
           -165.72507382318665
          ],
          [
           13.680413145637418,
           -33.64839872483193,
           -168.23207698781954
          ],
          [
           17.31319488916637,
           -33.64846198576985,
           -170.73907570252015
          ],
          [
           20.90713376152356,
           -33.648523422214794,
           -173.246070142771
          ],
          [
           24.455777699664182,
           -33.64858311435557,
           -175.75306047489403
          ],
          [
           27.953563162433095,
           -33.64864113853047,
           -178.26004685668283
          ],
          [
           31.395860485978947,
           -33.64869756751202,
           179.23297056206394
          ],
          [
           34.77898399303968,
           -33.648752470683455,
           176.72599163898408
          ],
          [
           38.100171165800226,
           -33.64880591424835,
           174.2190162386837
          ],
          [
           41.3575364610959,
           -33.64885796141262,
           171.71204423228514
          ],
          [
           44.550005911885435,
           -33.648908672561134,
           169.20507549702182
          ],
          [
           47.67723861896786,
           -33.64895810537866,
           166.69810991583276
          ],
          [
           50.73954073945264,
           -33.64900631504395,
           164.1911473770388
          ],
          [
           53.737776786177626,
           -33.649053354321566,
           161.6841877739928
          ],
          [
           56.673282114789686,
           -33.64909927369543,
           159.17723100477863
          ],
          [
           59.547779514432705,
           -33.64914412148104,
           156.67027697193126
          ],
          [
           62.36330192064995,
           -33.649187943938585,
           154.16332558217613
          ],
          [
           65.12212248833514,
           -33.64923078533504,
           151.65637674616843
          ],
          [
           67.82669262321014,
           -33.64927268808609,
           149.14943037829303
          ],
          [
           70.47958807594426,
           -33.64931369279844,
           146.6424863964316
          ],
          [
           73.08346284334839,
           -33.64935383835903,
           144.1355447217761
          ],
          [
           75.64101037797167,
           -33.64939316200668,
           141.62860527863782
          ],
          [
           78.1549314594878,
           -33.64943169940785,
           139.12166799429076
          ],
          [
           80.62790800740484,
           -33.64946948468413,
           136.61473279878516
          ],
          [
           83.06258209528949,
           -33.64950655052375,
           134.10779962483858
          ],
          [
           85.46153944568042,
           -33.64954292819461,
           131.60086840766465
          ],
          [
           87.82729672863404,
           -33.649578647607605,
           129.09393908485723
          ],
          [
           90.16229204540392,
           -33.64961373736411,
           126.5870115962668
          ],
          [
           92.46887804429126,
           -33.64964822481032,
           124.08008588389882
          ],
          [
           94.74931718304855,
           -33.6496821360438,
           121.57316189178212
          ],
          [
           97.00577871761973,
           -33.64971549600788,
           119.06623956590583
          ],
          [
           99.24033705835625,
           -33.64974832848718,
           116.55931885410283
          ],
          [
           101.4549711908096,
           -33.64978065615599,
           114.05239970597148
          ],
          [
           103.65156490827073,
           -33.64981250061191,
           111.5454820727943
          ],
          [
           105.83190764732255,
           -33.64984388241767,
           109.03856590747358
          ],
          [
           107.99769575606882,
           -33.64987482109567,
           106.53165116443552
          ],
          [
           110.15053405775241,
           -33.649905335213,
           104.02473779959735
          ],
          [
           112.29193760078034,
           -33.649935442366704,
           101.51782577028752
          ],
          [
           114.42333351025239,
           -33.6499651592239,
           99.010915035187
          ],
          [
           116.5460628764098,
           -33.649994501547816,
           96.50400555428384
          ],
          [
           118.66138263265755,
           -33.650023484232776,
           93.99709728882542
          ],
          [
           120.77046739024274,
           -33.650052121292084,
           91.49019020124867
          ],
          [
           122.87441120881637,
           -33.65008042593814,
           88.98328425517427
          ],
          [
           124.97422929232879,
           -33.65010841056238,
           86.47637941533213
          ],
          [
           127.07085960816563,
           -33.650136086770914,
           83.96947564754157
          ],
          [
           129.1651644346007,
           -33.650163465406926,
           81.46257291866624
          ],
          [
           131.25793184745453,
           -33.65019055658206,
           78.95567119658894
          ],
          [
           133.34987716170573,
           -33.650217369661064,
           76.4487704501618
          ],
          [
           135.44164434764497,
           -33.650243913339935,
           73.94187064920371
          ],
          [
           137.53380744419218,
           -33.650270195622795,
           71.43497176445373
          ],
          [
           139.62687199422135,
           -33.65029622385614,
           68.92807376754604
          ],
          [
           141.72127652820137,
           -33.650322004749164,
           66.42117663099171
          ],
          [
           143.81739412326033,
           -33.65034754440419,
           63.91428032815188
          ],
          [
           145.91553406480264,
           -33.65037284829928,
           61.40738483321194
          ],
          [
           148.01594363724428,
           -33.6503979213664,
           58.90049012117027
          ],
          [
           150.11881006908146,
           -33.65042276796688,
           56.3935961678153
          ],
          [
           152.2242626556378,
           -33.65044739192517,
           53.886702949700755
          ],
          [
           154.33237508019403,
           -33.6504717965485,
           51.37981044413553
          ],
          [
           156.44316795110197,
           -33.65049598465795,
           48.8729186291656
          ],
          [
           158.55661156873992,
           -33.65051995856723,
           46.36602748355138
          ],
          [
           160.67262893200436,
           -33.65054372016611,
           43.85913698676688
          ],
          [
           162.79109898945006,
           -33.650567270891855,
           41.352247118972194
          ],
          [
           164.91186013530387,
           -33.650590611763796,
           38.84535786100716
          ],
          [
           167.03471394553907,
           -33.65061374340308,
           36.3384691943723
          ],
          [
           169.15942914404084,
           -33.65063666606094,
           33.83158110122627
          ],
          [
           171.2857457839025,
           -33.650659379609394,
           31.324693564354625
          ],
          [
           173.4133796239771,
           -33.65068188360491,
           28.817806567184928
          ],
          [
           175.54202667645467,
           -33.65070417727392,
           26.310920093749793
          ],
          [
           177.67136789711498,
           -33.6507262595436,
           23.804034128691217
          ],
          [
           179.80107398664774,
           -33.6507481290615,
           21.297148657243977
          ],
          [
           181.93081026870942,
           -33.650769784225076,
           18.790263665226078
          ],
          [
           184.0602416085733,
           -33.65079122316354,
           16.28337913902171
          ],
          [
           186.1890373352108,
           -33.65081244381623,
           13.77649506558584
          ],
          [
           188.31687612962398,
           -33.65083344390747,
           11.269611432421623
          ],
          [
           190.4434508429899,
           -33.65085422097908,
           8.762728227572865
          ]
         ],
         "hovertemplate": "<b>%{hovertext}</b><br><br>datetime=%{x}<br>elevation=%{y}<br>azimuth=%{customdata[0]}<br>latitude=%{customdata[1]}<br>longitude=%{customdata[2]}<extra></extra>",
         "hovertext": [
          "2014-01-01T23:30:00",
          "2014-01-01T23:40:00",
          "2014-01-01T23:50:00",
          "2014-01-02T00:00:00",
          "2014-01-02T00:10:00",
          "2014-01-02T00:20:00",
          "2014-01-02T00:30:00",
          "2014-01-02T00:40:00",
          "2014-01-02T00:50:00",
          "2014-01-02T01:00:00",
          "2014-01-02T01:10:00",
          "2014-01-02T01:20:00",
          "2014-01-02T01:30:00",
          "2014-01-02T01:40:00",
          "2014-01-02T01:50:00",
          "2014-01-02T02:00:00",
          "2014-01-02T02:10:00",
          "2014-01-02T02:20:00",
          "2014-01-02T02:30:00",
          "2014-01-02T02:40:00",
          "2014-01-02T02:50:00",
          "2014-01-02T03:00:00",
          "2014-01-02T03:10:00",
          "2014-01-02T03:20:00",
          "2014-01-02T03:30:00",
          "2014-01-02T03:40:00",
          "2014-01-02T03:50:00",
          "2014-01-02T04:00:00",
          "2014-01-02T04:10:00",
          "2014-01-02T04:20:00",
          "2014-01-02T04:30:00",
          "2014-01-02T04:40:00",
          "2014-01-02T04:50:00",
          "2014-01-02T05:00:00",
          "2014-01-02T05:10:00",
          "2014-01-02T05:20:00",
          "2014-01-02T05:30:00",
          "2014-01-02T05:40:00",
          "2014-01-02T05:50:00",
          "2014-01-02T06:00:00",
          "2014-01-02T06:10:00",
          "2014-01-02T06:20:00",
          "2014-01-02T06:30:00",
          "2014-01-02T06:40:00",
          "2014-01-02T06:50:00",
          "2014-01-02T07:00:00",
          "2014-01-02T07:10:00",
          "2014-01-02T07:20:00",
          "2014-01-02T07:30:00",
          "2014-01-02T07:40:00",
          "2014-01-02T07:50:00",
          "2014-01-02T08:00:00",
          "2014-01-02T08:10:00",
          "2014-01-02T08:20:00",
          "2014-01-02T08:30:00",
          "2014-01-02T08:40:00",
          "2014-01-02T08:50:00",
          "2014-01-02T09:00:00",
          "2014-01-02T09:10:00",
          "2014-01-02T09:20:00",
          "2014-01-02T09:30:00",
          "2014-01-02T09:40:00",
          "2014-01-02T09:50:00",
          "2014-01-02T10:00:00",
          "2014-01-02T10:10:00",
          "2014-01-02T10:20:00",
          "2014-01-02T10:30:00",
          "2014-01-02T10:40:00",
          "2014-01-02T10:50:00",
          "2014-01-02T11:00:00",
          "2014-01-02T11:10:00",
          "2014-01-02T11:20:00",
          "2014-01-02T11:30:00",
          "2014-01-02T11:40:00",
          "2014-01-02T11:50:00",
          "2014-01-02T12:00:00",
          "2014-01-02T12:10:00",
          "2014-01-02T12:20:00",
          "2014-01-02T12:30:00",
          "2014-01-02T12:40:00",
          "2014-01-02T12:50:00",
          "2014-01-02T13:00:00",
          "2014-01-02T13:10:00",
          "2014-01-02T13:20:00",
          "2014-01-02T13:30:00",
          "2014-01-02T13:40:00",
          "2014-01-02T13:50:00",
          "2014-01-02T14:00:00",
          "2014-01-02T14:10:00",
          "2014-01-02T14:20:00",
          "2014-01-02T14:30:00",
          "2014-01-02T14:40:00",
          "2014-01-02T14:50:00",
          "2014-01-02T15:00:00",
          "2014-01-02T15:10:00",
          "2014-01-02T15:20:00",
          "2014-01-02T15:30:00",
          "2014-01-02T15:40:00",
          "2014-01-02T15:50:00",
          "2014-01-02T16:00:00",
          "2014-01-02T16:10:00",
          "2014-01-02T16:20:00",
          "2014-01-02T16:30:00",
          "2014-01-02T16:40:00",
          "2014-01-02T16:50:00",
          "2014-01-02T17:00:00",
          "2014-01-02T17:10:00",
          "2014-01-02T17:20:00",
          "2014-01-02T17:30:00",
          "2014-01-02T17:40:00",
          "2014-01-02T17:50:00",
          "2014-01-02T18:00:00",
          "2014-01-02T18:10:00",
          "2014-01-02T18:20:00",
          "2014-01-02T18:30:00",
          "2014-01-02T18:40:00",
          "2014-01-02T18:50:00",
          "2014-01-02T19:00:00",
          "2014-01-02T19:10:00",
          "2014-01-02T19:20:00",
          "2014-01-02T19:30:00",
          "2014-01-02T19:40:00",
          "2014-01-02T19:50:00",
          "2014-01-02T20:00:00",
          "2014-01-02T20:10:00",
          "2014-01-02T20:20:00",
          "2014-01-02T20:30:00",
          "2014-01-02T20:40:00",
          "2014-01-02T20:50:00",
          "2014-01-02T21:00:00",
          "2014-01-02T21:10:00",
          "2014-01-02T21:20:00",
          "2014-01-02T21:30:00",
          "2014-01-02T21:40:00",
          "2014-01-02T21:50:00",
          "2014-01-02T22:00:00",
          "2014-01-02T22:10:00",
          "2014-01-02T22:20:00",
          "2014-01-02T22:30:00",
          "2014-01-02T22:40:00",
          "2014-01-02T22:50:00",
          "2014-01-02T23:00:00",
          "2014-01-02T23:10:00",
          "2014-01-02T23:20:00",
          "2014-01-02T23:30:00",
          "2014-01-02T23:40:00"
         ],
         "legendgroup": "",
         "line": {
          "color": "#636efa",
          "dash": "solid"
         },
         "marker": {
          "symbol": "circle"
         },
         "mode": "lines",
         "name": "",
         "orientation": "v",
         "showlegend": false,
         "type": "scatter",
         "x": [
          "2014-01-01T23:30:00",
          "2014-01-01T23:40:00",
          "2014-01-01T23:50:00",
          "2014-01-02T00:00:00",
          "2014-01-02T00:10:00",
          "2014-01-02T00:20:00",
          "2014-01-02T00:30:00",
          "2014-01-02T00:40:00",
          "2014-01-02T00:50:00",
          "2014-01-02T01:00:00",
          "2014-01-02T01:10:00",
          "2014-01-02T01:20:00",
          "2014-01-02T01:30:00",
          "2014-01-02T01:40:00",
          "2014-01-02T01:50:00",
          "2014-01-02T02:00:00",
          "2014-01-02T02:10:00",
          "2014-01-02T02:20:00",
          "2014-01-02T02:30:00",
          "2014-01-02T02:40:00",
          "2014-01-02T02:50:00",
          "2014-01-02T03:00:00",
          "2014-01-02T03:10:00",
          "2014-01-02T03:20:00",
          "2014-01-02T03:30:00",
          "2014-01-02T03:40:00",
          "2014-01-02T03:50:00",
          "2014-01-02T04:00:00",
          "2014-01-02T04:10:00",
          "2014-01-02T04:20:00",
          "2014-01-02T04:30:00",
          "2014-01-02T04:40:00",
          "2014-01-02T04:50:00",
          "2014-01-02T05:00:00",
          "2014-01-02T05:10:00",
          "2014-01-02T05:20:00",
          "2014-01-02T05:30:00",
          "2014-01-02T05:40:00",
          "2014-01-02T05:50:00",
          "2014-01-02T06:00:00",
          "2014-01-02T06:10:00",
          "2014-01-02T06:20:00",
          "2014-01-02T06:30:00",
          "2014-01-02T06:40:00",
          "2014-01-02T06:50:00",
          "2014-01-02T07:00:00",
          "2014-01-02T07:10:00",
          "2014-01-02T07:20:00",
          "2014-01-02T07:30:00",
          "2014-01-02T07:40:00",
          "2014-01-02T07:50:00",
          "2014-01-02T08:00:00",
          "2014-01-02T08:10:00",
          "2014-01-02T08:20:00",
          "2014-01-02T08:30:00",
          "2014-01-02T08:40:00",
          "2014-01-02T08:50:00",
          "2014-01-02T09:00:00",
          "2014-01-02T09:10:00",
          "2014-01-02T09:20:00",
          "2014-01-02T09:30:00",
          "2014-01-02T09:40:00",
          "2014-01-02T09:50:00",
          "2014-01-02T10:00:00",
          "2014-01-02T10:10:00",
          "2014-01-02T10:20:00",
          "2014-01-02T10:30:00",
          "2014-01-02T10:40:00",
          "2014-01-02T10:50:00",
          "2014-01-02T11:00:00",
          "2014-01-02T11:10:00",
          "2014-01-02T11:20:00",
          "2014-01-02T11:30:00",
          "2014-01-02T11:40:00",
          "2014-01-02T11:50:00",
          "2014-01-02T12:00:00",
          "2014-01-02T12:10:00",
          "2014-01-02T12:20:00",
          "2014-01-02T12:30:00",
          "2014-01-02T12:40:00",
          "2014-01-02T12:50:00",
          "2014-01-02T13:00:00",
          "2014-01-02T13:10:00",
          "2014-01-02T13:20:00",
          "2014-01-02T13:30:00",
          "2014-01-02T13:40:00",
          "2014-01-02T13:50:00",
          "2014-01-02T14:00:00",
          "2014-01-02T14:10:00",
          "2014-01-02T14:20:00",
          "2014-01-02T14:30:00",
          "2014-01-02T14:40:00",
          "2014-01-02T14:50:00",
          "2014-01-02T15:00:00",
          "2014-01-02T15:10:00",
          "2014-01-02T15:20:00",
          "2014-01-02T15:30:00",
          "2014-01-02T15:40:00",
          "2014-01-02T15:50:00",
          "2014-01-02T16:00:00",
          "2014-01-02T16:10:00",
          "2014-01-02T16:20:00",
          "2014-01-02T16:30:00",
          "2014-01-02T16:40:00",
          "2014-01-02T16:50:00",
          "2014-01-02T17:00:00",
          "2014-01-02T17:10:00",
          "2014-01-02T17:20:00",
          "2014-01-02T17:30:00",
          "2014-01-02T17:40:00",
          "2014-01-02T17:50:00",
          "2014-01-02T18:00:00",
          "2014-01-02T18:10:00",
          "2014-01-02T18:20:00",
          "2014-01-02T18:30:00",
          "2014-01-02T18:40:00",
          "2014-01-02T18:50:00",
          "2014-01-02T19:00:00",
          "2014-01-02T19:10:00",
          "2014-01-02T19:20:00",
          "2014-01-02T19:30:00",
          "2014-01-02T19:40:00",
          "2014-01-02T19:50:00",
          "2014-01-02T20:00:00",
          "2014-01-02T20:10:00",
          "2014-01-02T20:20:00",
          "2014-01-02T20:30:00",
          "2014-01-02T20:40:00",
          "2014-01-02T20:50:00",
          "2014-01-02T21:00:00",
          "2014-01-02T21:10:00",
          "2014-01-02T21:20:00",
          "2014-01-02T21:30:00",
          "2014-01-02T21:40:00",
          "2014-01-02T21:50:00",
          "2014-01-02T22:00:00",
          "2014-01-02T22:10:00",
          "2014-01-02T22:20:00",
          "2014-01-02T22:30:00",
          "2014-01-02T22:40:00",
          "2014-01-02T22:50:00",
          "2014-01-02T23:00:00",
          "2014-01-02T23:10:00",
          "2014-01-02T23:20:00",
          "2014-01-02T23:30:00",
          "2014-01-02T23:40:00"
         ],
         "xaxis": "x",
         "y": [
          -32.1423861816526,
          -12.436769470243426,
          -12.331295386906987,
          -12.447175026835762,
          -12.643689109643352,
          -12.89244873784148,
          -13.183707252819135,
          -13.513006156769936,
          -13.87784130602206,
          -14.276553532539642,
          -14.707886186058722,
          -15.170785095005076,
          -15.664299497383844,
          -16.187529543080714,
          -16.73959704683462,
          -17.319628599191436,
          -17.926745579263507,
          -18.560058171721554,
          -19.21866177001222,
          -19.90163482201817,
          -20.60803754555981,
          -21.33691115388184,
          -22.087277357352338,
          -22.85813798489442,
          -23.64847461708816,
          -24.457248154418902,
          -25.28339826479937,
          -26.125842668557954,
          -26.983476228767184,
          -27.855169821745275,
          -28.739768967471164,
          -29.636092203646093,
          -30.542929190210018,
          -31.45903853397543,
          -32.38314532580472,
          -33.31393838589487,
          -34.25006721618787,
          -35.190138663485854,
          -36.132713302341685,
          -37.076301553930236,
          -38.01935956607984,
          -38.960284891132275,
          -39.897412012401,
          -40.82900778783435,
          -41.75326690096128,
          -42.6683074353008,
          -43.572166719276225,
          -44.462797624751836,
          -45.33806554318892,
          -46.1957463090488,
          -47.033525388729196,
          -47.84899870319,
          -48.639675499986836,
          -49.40298373109463,
          -50.13627841982429,
          -50.83685350583177,
          -51.5019576315017,
          -52.12881426590712,
          -52.71464644379591,
          -53.256706218836996,
          -53.75230868845749,
          -54.198870146052165,
          -54.59394956704694,
          -54.93529226283473,
          -55.2208741759088,
          -55.44894498525246,
          -55.618067990670575,
          -55.727154693368504,
          -55.77549211776493,
          -55.762761236458346,
          -55.68904534856373,
          -55.55482787700159,
          -55.36097972587615,
          -55.10873699908903,
          -54.79967045075593,
          -54.435648459267014,
          -54.01879555578507,
          -53.551448589054004,
          -53.03611249015436,
          -52.475417352061136,
          -51.87207820515399,
          -51.22885849943667,
          -50.5485379376541,
          -49.83388497195765,
          -49.08763399861757,
          -48.31246707027629,
          -47.51099979214551,
          -46.68577097244621,
          -45.83923554866801,
          -44.973760299932046,
          -44.091621870940166,
          -43.19500666689477,
          -42.28601222267783,
          -41.3666496986854,
          -40.43884720529828,
          -39.5044537057643,
          -38.56524329059697,
          -37.62291965591437,
          -36.67912065170141,
          -35.73542279487559,
          -34.79334566600169,
          -33.85435612853145,
          -32.91987232513891,
          -31.99126741896184,
          -31.069873057465482,
          -30.15698254466825,
          -29.25385371346674,
          -28.361711494656824,
          -27.481750182363506,
          -26.615135398557175,
          -25.763005761029262,
          -24.926474260711323,
          -24.1066293552369,
          -23.30453578672633,
          -22.52123513213528,
          -21.757746095600492,
          -21.0150645526341,
          -20.29416335688602,
          -19.595991920909043,
          -18.921475583495752,
          -18.27151477680785,
          -17.64698400800818,
          -17.0487306710648,
          -16.47757370574978,
          -15.934302122083055,
          -15.419673409968372,
          -14.934411854696277,
          -14.479206780525157,
          -14.054710745383495,
          -13.66153771069582,
          -13.300261210905267,
          -12.97141254786064,
          -12.675479034918979,
          -12.412902315727067,
          -12.1840767817179,
          -11.989348111403935,
          -11.829011953008058,
          -11.703312770277545,
          -11.612442868813108,
          -11.556541617940987,
          -11.535694880075662,
          -11.549934656454887,
          -11.599238954714336,
          -11.683531880517288,
          -11.802683951610913,
          -11.956512629574753
         ],
         "yaxis": "y"
        }
       ],
       "layout": {
        "legend": {
         "tracegroupgap": 0
        },
        "margin": {
         "t": 60
        },
        "template": {
         "data": {
          "bar": [
           {
            "error_x": {
             "color": "#2a3f5f"
            },
            "error_y": {
             "color": "#2a3f5f"
            },
            "marker": {
             "line": {
              "color": "#E5ECF6",
              "width": 0.5
             },
             "pattern": {
              "fillmode": "overlay",
              "size": 10,
              "solidity": 0.2
             }
            },
            "type": "bar"
           }
          ],
          "barpolar": [
           {
            "marker": {
             "line": {
              "color": "#E5ECF6",
              "width": 0.5
             },
             "pattern": {
              "fillmode": "overlay",
              "size": 10,
              "solidity": 0.2
             }
            },
            "type": "barpolar"
           }
          ],
          "carpet": [
           {
            "aaxis": {
             "endlinecolor": "#2a3f5f",
             "gridcolor": "white",
             "linecolor": "white",
             "minorgridcolor": "white",
             "startlinecolor": "#2a3f5f"
            },
            "baxis": {
             "endlinecolor": "#2a3f5f",
             "gridcolor": "white",
             "linecolor": "white",
             "minorgridcolor": "white",
             "startlinecolor": "#2a3f5f"
            },
            "type": "carpet"
           }
          ],
          "choropleth": [
           {
            "colorbar": {
             "outlinewidth": 0,
             "ticks": ""
            },
            "type": "choropleth"
           }
          ],
          "contour": [
           {
            "colorbar": {
             "outlinewidth": 0,
             "ticks": ""
            },
            "colorscale": [
             [
              0,
              "#0d0887"
             ],
             [
              0.1111111111111111,
              "#46039f"
             ],
             [
              0.2222222222222222,
              "#7201a8"
             ],
             [
              0.3333333333333333,
              "#9c179e"
             ],
             [
              0.4444444444444444,
              "#bd3786"
             ],
             [
              0.5555555555555556,
              "#d8576b"
             ],
             [
              0.6666666666666666,
              "#ed7953"
             ],
             [
              0.7777777777777778,
              "#fb9f3a"
             ],
             [
              0.8888888888888888,
              "#fdca26"
             ],
             [
              1,
              "#f0f921"
             ]
            ],
            "type": "contour"
           }
          ],
          "contourcarpet": [
           {
            "colorbar": {
             "outlinewidth": 0,
             "ticks": ""
            },
            "type": "contourcarpet"
           }
          ],
          "heatmap": [
           {
            "colorbar": {
             "outlinewidth": 0,
             "ticks": ""
            },
            "colorscale": [
             [
              0,
              "#0d0887"
             ],
             [
              0.1111111111111111,
              "#46039f"
             ],
             [
              0.2222222222222222,
              "#7201a8"
             ],
             [
              0.3333333333333333,
              "#9c179e"
             ],
             [
              0.4444444444444444,
              "#bd3786"
             ],
             [
              0.5555555555555556,
              "#d8576b"
             ],
             [
              0.6666666666666666,
              "#ed7953"
             ],
             [
              0.7777777777777778,
              "#fb9f3a"
             ],
             [
              0.8888888888888888,
              "#fdca26"
             ],
             [
              1,
              "#f0f921"
             ]
            ],
            "type": "heatmap"
           }
          ],
          "heatmapgl": [
           {
            "colorbar": {
             "outlinewidth": 0,
             "ticks": ""
            },
            "colorscale": [
             [
              0,
              "#0d0887"
             ],
             [
              0.1111111111111111,
              "#46039f"
             ],
             [
              0.2222222222222222,
              "#7201a8"
             ],
             [
              0.3333333333333333,
              "#9c179e"
             ],
             [
              0.4444444444444444,
              "#bd3786"
             ],
             [
              0.5555555555555556,
              "#d8576b"
             ],
             [
              0.6666666666666666,
              "#ed7953"
             ],
             [
              0.7777777777777778,
              "#fb9f3a"
             ],
             [
              0.8888888888888888,
              "#fdca26"
             ],
             [
              1,
              "#f0f921"
             ]
            ],
            "type": "heatmapgl"
           }
          ],
          "histogram": [
           {
            "marker": {
             "pattern": {
              "fillmode": "overlay",
              "size": 10,
              "solidity": 0.2
             }
            },
            "type": "histogram"
           }
          ],
          "histogram2d": [
           {
            "colorbar": {
             "outlinewidth": 0,
             "ticks": ""
            },
            "colorscale": [
             [
              0,
              "#0d0887"
             ],
             [
              0.1111111111111111,
              "#46039f"
             ],
             [
              0.2222222222222222,
              "#7201a8"
             ],
             [
              0.3333333333333333,
              "#9c179e"
             ],
             [
              0.4444444444444444,
              "#bd3786"
             ],
             [
              0.5555555555555556,
              "#d8576b"
             ],
             [
              0.6666666666666666,
              "#ed7953"
             ],
             [
              0.7777777777777778,
              "#fb9f3a"
             ],
             [
              0.8888888888888888,
              "#fdca26"
             ],
             [
              1,
              "#f0f921"
             ]
            ],
            "type": "histogram2d"
           }
          ],
          "histogram2dcontour": [
           {
            "colorbar": {
             "outlinewidth": 0,
             "ticks": ""
            },
            "colorscale": [
             [
              0,
              "#0d0887"
             ],
             [
              0.1111111111111111,
              "#46039f"
             ],
             [
              0.2222222222222222,
              "#7201a8"
             ],
             [
              0.3333333333333333,
              "#9c179e"
             ],
             [
              0.4444444444444444,
              "#bd3786"
             ],
             [
              0.5555555555555556,
              "#d8576b"
             ],
             [
              0.6666666666666666,
              "#ed7953"
             ],
             [
              0.7777777777777778,
              "#fb9f3a"
             ],
             [
              0.8888888888888888,
              "#fdca26"
             ],
             [
              1,
              "#f0f921"
             ]
            ],
            "type": "histogram2dcontour"
           }
          ],
          "mesh3d": [
           {
            "colorbar": {
             "outlinewidth": 0,
             "ticks": ""
            },
            "type": "mesh3d"
           }
          ],
          "parcoords": [
           {
            "line": {
             "colorbar": {
              "outlinewidth": 0,
              "ticks": ""
             }
            },
            "type": "parcoords"
           }
          ],
          "pie": [
           {
            "automargin": true,
            "type": "pie"
           }
          ],
          "scatter": [
           {
            "marker": {
             "colorbar": {
              "outlinewidth": 0,
              "ticks": ""
             }
            },
            "type": "scatter"
           }
          ],
          "scatter3d": [
           {
            "line": {
             "colorbar": {
              "outlinewidth": 0,
              "ticks": ""
             }
            },
            "marker": {
             "colorbar": {
              "outlinewidth": 0,
              "ticks": ""
             }
            },
            "type": "scatter3d"
           }
          ],
          "scattercarpet": [
           {
            "marker": {
             "colorbar": {
              "outlinewidth": 0,
              "ticks": ""
             }
            },
            "type": "scattercarpet"
           }
          ],
          "scattergeo": [
           {
            "marker": {
             "colorbar": {
              "outlinewidth": 0,
              "ticks": ""
             }
            },
            "type": "scattergeo"
           }
          ],
          "scattergl": [
           {
            "marker": {
             "colorbar": {
              "outlinewidth": 0,
              "ticks": ""
             }
            },
            "type": "scattergl"
           }
          ],
          "scattermapbox": [
           {
            "marker": {
             "colorbar": {
              "outlinewidth": 0,
              "ticks": ""
             }
            },
            "type": "scattermapbox"
           }
          ],
          "scatterpolar": [
           {
            "marker": {
             "colorbar": {
              "outlinewidth": 0,
              "ticks": ""
             }
            },
            "type": "scatterpolar"
           }
          ],
          "scatterpolargl": [
           {
            "marker": {
             "colorbar": {
              "outlinewidth": 0,
              "ticks": ""
             }
            },
            "type": "scatterpolargl"
           }
          ],
          "scatterternary": [
           {
            "marker": {
             "colorbar": {
              "outlinewidth": 0,
              "ticks": ""
             }
            },
            "type": "scatterternary"
           }
          ],
          "surface": [
           {
            "colorbar": {
             "outlinewidth": 0,
             "ticks": ""
            },
            "colorscale": [
             [
              0,
              "#0d0887"
             ],
             [
              0.1111111111111111,
              "#46039f"
             ],
             [
              0.2222222222222222,
              "#7201a8"
             ],
             [
              0.3333333333333333,
              "#9c179e"
             ],
             [
              0.4444444444444444,
              "#bd3786"
             ],
             [
              0.5555555555555556,
              "#d8576b"
             ],
             [
              0.6666666666666666,
              "#ed7953"
             ],
             [
              0.7777777777777778,
              "#fb9f3a"
             ],
             [
              0.8888888888888888,
              "#fdca26"
             ],
             [
              1,
              "#f0f921"
             ]
            ],
            "type": "surface"
           }
          ],
          "table": [
           {
            "cells": {
             "fill": {
              "color": "#EBF0F8"
             },
             "line": {
              "color": "white"
             }
            },
            "header": {
             "fill": {
              "color": "#C8D4E3"
             },
             "line": {
              "color": "white"
             }
            },
            "type": "table"
           }
          ]
         },
         "layout": {
          "annotationdefaults": {
           "arrowcolor": "#2a3f5f",
           "arrowhead": 0,
           "arrowwidth": 1
          },
          "autotypenumbers": "strict",
          "coloraxis": {
           "colorbar": {
            "outlinewidth": 0,
            "ticks": ""
           }
          },
          "colorscale": {
           "diverging": [
            [
             0,
             "#8e0152"
            ],
            [
             0.1,
             "#c51b7d"
            ],
            [
             0.2,
             "#de77ae"
            ],
            [
             0.3,
             "#f1b6da"
            ],
            [
             0.4,
             "#fde0ef"
            ],
            [
             0.5,
             "#f7f7f7"
            ],
            [
             0.6,
             "#e6f5d0"
            ],
            [
             0.7,
             "#b8e186"
            ],
            [
             0.8,
             "#7fbc41"
            ],
            [
             0.9,
             "#4d9221"
            ],
            [
             1,
             "#276419"
            ]
           ],
           "sequential": [
            [
             0,
             "#0d0887"
            ],
            [
             0.1111111111111111,
             "#46039f"
            ],
            [
             0.2222222222222222,
             "#7201a8"
            ],
            [
             0.3333333333333333,
             "#9c179e"
            ],
            [
             0.4444444444444444,
             "#bd3786"
            ],
            [
             0.5555555555555556,
             "#d8576b"
            ],
            [
             0.6666666666666666,
             "#ed7953"
            ],
            [
             0.7777777777777778,
             "#fb9f3a"
            ],
            [
             0.8888888888888888,
             "#fdca26"
            ],
            [
             1,
             "#f0f921"
            ]
           ],
           "sequentialminus": [
            [
             0,
             "#0d0887"
            ],
            [
             0.1111111111111111,
             "#46039f"
            ],
            [
             0.2222222222222222,
             "#7201a8"
            ],
            [
             0.3333333333333333,
             "#9c179e"
            ],
            [
             0.4444444444444444,
             "#bd3786"
            ],
            [
             0.5555555555555556,
             "#d8576b"
            ],
            [
             0.6666666666666666,
             "#ed7953"
            ],
            [
             0.7777777777777778,
             "#fb9f3a"
            ],
            [
             0.8888888888888888,
             "#fdca26"
            ],
            [
             1,
             "#f0f921"
            ]
           ]
          },
          "colorway": [
           "#636efa",
           "#EF553B",
           "#00cc96",
           "#ab63fa",
           "#FFA15A",
           "#19d3f3",
           "#FF6692",
           "#B6E880",
           "#FF97FF",
           "#FECB52"
          ],
          "font": {
           "color": "#2a3f5f"
          },
          "geo": {
           "bgcolor": "white",
           "lakecolor": "white",
           "landcolor": "#E5ECF6",
           "showlakes": true,
           "showland": true,
           "subunitcolor": "white"
          },
          "hoverlabel": {
           "align": "left"
          },
          "hovermode": "closest",
          "mapbox": {
           "style": "light"
          },
          "paper_bgcolor": "white",
          "plot_bgcolor": "#E5ECF6",
          "polar": {
           "angularaxis": {
            "gridcolor": "white",
            "linecolor": "white",
            "ticks": ""
           },
           "bgcolor": "#E5ECF6",
           "radialaxis": {
            "gridcolor": "white",
            "linecolor": "white",
            "ticks": ""
           }
          },
          "scene": {
           "xaxis": {
            "backgroundcolor": "#E5ECF6",
            "gridcolor": "white",
            "gridwidth": 2,
            "linecolor": "white",
            "showbackground": true,
            "ticks": "",
            "zerolinecolor": "white"
           },
           "yaxis": {
            "backgroundcolor": "#E5ECF6",
            "gridcolor": "white",
            "gridwidth": 2,
            "linecolor": "white",
            "showbackground": true,
            "ticks": "",
            "zerolinecolor": "white"
           },
           "zaxis": {
            "backgroundcolor": "#E5ECF6",
            "gridcolor": "white",
            "gridwidth": 2,
            "linecolor": "white",
            "showbackground": true,
            "ticks": "",
            "zerolinecolor": "white"
           }
          },
          "shapedefaults": {
           "line": {
            "color": "#2a3f5f"
           }
          },
          "ternary": {
           "aaxis": {
            "gridcolor": "white",
            "linecolor": "white",
            "ticks": ""
           },
           "baxis": {
            "gridcolor": "white",
            "linecolor": "white",
            "ticks": ""
           },
           "bgcolor": "#E5ECF6",
           "caxis": {
            "gridcolor": "white",
            "linecolor": "white",
            "ticks": ""
           }
          },
          "title": {
           "x": 0.05
          },
          "xaxis": {
           "automargin": true,
           "gridcolor": "white",
           "linecolor": "white",
           "ticks": "",
           "title": {
            "standoff": 15
           },
           "zerolinecolor": "white",
           "zerolinewidth": 2
          },
          "yaxis": {
           "automargin": true,
           "gridcolor": "white",
           "linecolor": "white",
           "ticks": "",
           "title": {
            "standoff": 15
           },
           "zerolinecolor": "white",
           "zerolinewidth": 2
          }
         }
        },
        "xaxis": {
         "anchor": "y",
         "domain": [
          0,
          1
         ],
         "title": {
          "text": "datetime"
         }
        },
        "yaxis": {
         "anchor": "x",
         "domain": [
          0,
          1
         ],
         "title": {
          "text": "elevation"
         }
        }
       }
      },
      "text/html": [
       "<div>                            <div id=\"40f9baab-85ca-4692-aaca-d844b211f00a\" class=\"plotly-graph-div\" style=\"height:525px; width:100%;\"></div>            <script type=\"text/javascript\">                require([\"plotly\"], function(Plotly) {                    window.PLOTLYENV=window.PLOTLYENV || {};                                    if (document.getElementById(\"40f9baab-85ca-4692-aaca-d844b211f00a\")) {                    Plotly.newPlot(                        \"40f9baab-85ca-4692-aaca-d844b211f00a\",                        [{\"customdata\":[[142.4337231135884,-0.2805343880709552,56.52442628768894],[188.94694082237015,-33.292834935793046,10.557927451875905],[191.41016589996448,-33.474948747579695,7.641924216132677],[193.6458144423626,-33.53481615843333,4.999394682948538],[195.82347175380798,-33.564595395994175,2.424840489304858],[197.97660422061892,-33.58241469103688,-0.12258744791775199],[200.11621701579674,-33.59427484134583,-2.6564700988149625],[202.2469505276405,-33.60273737771502,-5.1826191683564415],[204.3710913001565,-33.60907971344153,-7.703937646037011],[206.4899080585799,-33.61401020016295,-10.222037172367092],[208.6041870620079,-33.61795325389352,-12.737884222576934],[210.7144766381955,-33.62117866215354,-15.252093573875515],[212.8212105592921,-33.62386612478209,-17.765074942615747],[214.92477543547037,-33.62613995878174,-20.277111901633795],[217.02555004188648,-33.62808890744466,-22.78840695679887],[219.12392960737435,-33.6297780148007,-25.2991085834509],[221.22034158722678,-33.63125604131338,-27.809328119207184],[223.31525638365073,-33.63256025911362,-30.31915069177817],[225.4091949498666,-33.633719646923616,-32.82864250264544],[227.50273440992564,-33.63475707498251,-35.33785580965879],[229.59651238444715,-33.635690833809356,-37.84683241425861],[231.6912304594246,-33.63653572575441,-40.35560615198948],[233.78765708492543,-33.63730385854576,-42.864204703559075],[235.88663009778796,-33.63800523169743,-45.37265093324128],[237.9890590033478,-33.63864817613149,-47.88096389262495],[240.09592711128192,-33.63923968823726,-50.389159583355095],[242.20829359286148,-33.63978568677358,-52.897251543821014],[244.32729550574274,-33.6402912126461,-55.405251305421594],[246.45414981541765,-33.64076058581315,-57.913168751067424],[248.5901554271894,-33.641197529767894,-60.421012399426694],[250.73669522850292,-33.64160527104402,-62.92878963238227],[252.89523812647147,-33.6419866194847,-65.43650687841041],[255.06734104997716,-33.6423440334447,-67.94416976158246],[257.25465086816183,-33.642679673137216,-70.45178322346563],[259.4589061573389,-33.642995444528935,-72.95935162353524],[261.6819387252938,-33.643293035769155,-75.46687882231215],[263.92567477573135,-33.64357394747786,-77.97436825070983],[266.19213556446545,-33.64383951815553,-80.48182296809568],[268.48343736351393,-33.6440909455705,-82.98924571119157],[270.8017905081147,-33.644329304861024,-85.49663893545156],[273.1494972549101,-33.64455556388644,-88.00400485025469],[275.5289481266108,-33.64477059639655,-90.5113454488996],[277.9426163603012,-33.64497519324826,-93.01866253435942],[280.393050012876,-33.64517007209437,-95.5259577414302],[282.8828612106071,-33.64535588574078,-98.03323255585411],[285.4147119625916,-33.645533229395824,-100.54048833088841],[287.9912958944354,-33.64570264693706,-103.0477263017516],[290.6153152047423,-33.64586463644657,-105.55494759815488],[293.28945211245633,-33.646019654979554,-108.06215325534495],[296.01633405773947,-33.64616812278809,-110.5693442237458],[298.79849195912647,-33.64631042702775,-113.07652137746223],[301.6383109316458,-33.6464469250343,-115.58368552177521],[304.5379730554409,-33.646577947184525,-118.09083739980191],[307.49939207315686,-33.646703799503676,-120.59797769834057],[310.5241403084273,-33.64682476590589,-123.10510705313555],[313.61336865123525,-33.64694111023093,-125.61222605352695],[316.767721155727,-33.647053078051464,-128.11933524661725],[319.9872466294919,-33.64716089829686,-130.62643514098653],[323.2713105254054,-33.647264784669716,-133.13352621005504],[326.61851141054944,-33.64736493699147,-135.64060889505447],[330.02660718097235,-33.647461542333176,-138.14768360774883],[333.49245688011047,-33.647554776077165,-140.65475073286868],[337.0119843061477,-33.64764480286488,-143.1618106303056],[340.58016939844777,-33.647731777460855,-145.66886363710114],[344.19107254385267,-33.64781584549585,-148.175910069269],[347.83789537325856,-33.64789714421613,-150.68295022340544],[351.5130793625167,-33.64797580308262,-153.18998437819639],[355.2084407667645,-33.648051944359715,-155.6970127957711],[358.9153373869016,-33.64812568364064,-158.20403572293355],[2.624859764708481,-33.64819713033421,-160.7110533922915],[6.328037035066582,-33.6482663880687,-163.218066023302],[10.01604618813747,-33.64833355513903,-165.72507382318665],[13.680413145637418,-33.64839872483193,-168.23207698781954],[17.31319488916637,-33.64846198576985,-170.73907570252015],[20.90713376152356,-33.648523422214794,-173.246070142771],[24.455777699664182,-33.64858311435557,-175.75306047489403],[27.953563162433095,-33.64864113853047,-178.26004685668283],[31.395860485978947,-33.64869756751202,179.23297056206394],[34.77898399303968,-33.648752470683455,176.72599163898408],[38.100171165800226,-33.64880591424835,174.2190162386837],[41.3575364610959,-33.64885796141262,171.71204423228514],[44.550005911885435,-33.648908672561134,169.20507549702182],[47.67723861896786,-33.64895810537866,166.69810991583276],[50.73954073945264,-33.64900631504395,164.1911473770388],[53.737776786177626,-33.649053354321566,161.6841877739928],[56.673282114789686,-33.64909927369543,159.17723100477863],[59.547779514432705,-33.64914412148104,156.67027697193126],[62.36330192064995,-33.649187943938585,154.16332558217613],[65.12212248833514,-33.64923078533504,151.65637674616843],[67.82669262321014,-33.64927268808609,149.14943037829303],[70.47958807594426,-33.64931369279844,146.6424863964316],[73.08346284334839,-33.64935383835903,144.1355447217761],[75.64101037797167,-33.64939316200668,141.62860527863782],[78.1549314594878,-33.64943169940785,139.12166799429076],[80.62790800740484,-33.64946948468413,136.61473279878516],[83.06258209528949,-33.64950655052375,134.10779962483858],[85.46153944568042,-33.64954292819461,131.60086840766465],[87.82729672863404,-33.649578647607605,129.09393908485723],[90.16229204540392,-33.64961373736411,126.5870115962668],[92.46887804429126,-33.64964822481032,124.08008588389882],[94.74931718304855,-33.6496821360438,121.57316189178212],[97.00577871761973,-33.64971549600788,119.06623956590583],[99.24033705835625,-33.64974832848718,116.55931885410283],[101.4549711908096,-33.64978065615599,114.05239970597148],[103.65156490827073,-33.64981250061191,111.5454820727943],[105.83190764732255,-33.64984388241767,109.03856590747358],[107.99769575606882,-33.64987482109567,106.53165116443552],[110.15053405775241,-33.649905335213,104.02473779959735],[112.29193760078034,-33.649935442366704,101.51782577028752],[114.42333351025239,-33.6499651592239,99.010915035187],[116.5460628764098,-33.649994501547816,96.50400555428384],[118.66138263265755,-33.650023484232776,93.99709728882542],[120.77046739024274,-33.650052121292084,91.49019020124867],[122.87441120881637,-33.65008042593814,88.98328425517427],[124.97422929232879,-33.65010841056238,86.47637941533213],[127.07085960816563,-33.650136086770914,83.96947564754157],[129.1651644346007,-33.650163465406926,81.46257291866624],[131.25793184745453,-33.65019055658206,78.95567119658894],[133.34987716170573,-33.650217369661064,76.4487704501618],[135.44164434764497,-33.650243913339935,73.94187064920371],[137.53380744419218,-33.650270195622795,71.43497176445373],[139.62687199422135,-33.65029622385614,68.92807376754604],[141.72127652820137,-33.650322004749164,66.42117663099171],[143.81739412326033,-33.65034754440419,63.91428032815188],[145.91553406480264,-33.65037284829928,61.40738483321194],[148.01594363724428,-33.6503979213664,58.90049012117027],[150.11881006908146,-33.65042276796688,56.3935961678153],[152.2242626556378,-33.65044739192517,53.886702949700755],[154.33237508019403,-33.6504717965485,51.37981044413553],[156.44316795110197,-33.65049598465795,48.8729186291656],[158.55661156873992,-33.65051995856723,46.36602748355138],[160.67262893200436,-33.65054372016611,43.85913698676688],[162.79109898945006,-33.650567270891855,41.352247118972194],[164.91186013530387,-33.650590611763796,38.84535786100716],[167.03471394553907,-33.65061374340308,36.3384691943723],[169.15942914404084,-33.65063666606094,33.83158110122627],[171.2857457839025,-33.650659379609394,31.324693564354625],[173.4133796239771,-33.65068188360491,28.817806567184928],[175.54202667645467,-33.65070417727392,26.310920093749793],[177.67136789711498,-33.6507262595436,23.804034128691217],[179.80107398664774,-33.6507481290615,21.297148657243977],[181.93081026870942,-33.650769784225076,18.790263665226078],[184.0602416085733,-33.65079122316354,16.28337913902171],[186.1890373352108,-33.65081244381623,13.77649506558584],[188.31687612962398,-33.65083344390747,11.269611432421623],[190.4434508429899,-33.65085422097908,8.762728227572865]],\"hovertemplate\":\"<b>%{hovertext}</b><br><br>datetime=%{x}<br>elevation=%{y}<br>azimuth=%{customdata[0]}<br>latitude=%{customdata[1]}<br>longitude=%{customdata[2]}<extra></extra>\",\"hovertext\":[\"2014-01-01T23:30:00\",\"2014-01-01T23:40:00\",\"2014-01-01T23:50:00\",\"2014-01-02T00:00:00\",\"2014-01-02T00:10:00\",\"2014-01-02T00:20:00\",\"2014-01-02T00:30:00\",\"2014-01-02T00:40:00\",\"2014-01-02T00:50:00\",\"2014-01-02T01:00:00\",\"2014-01-02T01:10:00\",\"2014-01-02T01:20:00\",\"2014-01-02T01:30:00\",\"2014-01-02T01:40:00\",\"2014-01-02T01:50:00\",\"2014-01-02T02:00:00\",\"2014-01-02T02:10:00\",\"2014-01-02T02:20:00\",\"2014-01-02T02:30:00\",\"2014-01-02T02:40:00\",\"2014-01-02T02:50:00\",\"2014-01-02T03:00:00\",\"2014-01-02T03:10:00\",\"2014-01-02T03:20:00\",\"2014-01-02T03:30:00\",\"2014-01-02T03:40:00\",\"2014-01-02T03:50:00\",\"2014-01-02T04:00:00\",\"2014-01-02T04:10:00\",\"2014-01-02T04:20:00\",\"2014-01-02T04:30:00\",\"2014-01-02T04:40:00\",\"2014-01-02T04:50:00\",\"2014-01-02T05:00:00\",\"2014-01-02T05:10:00\",\"2014-01-02T05:20:00\",\"2014-01-02T05:30:00\",\"2014-01-02T05:40:00\",\"2014-01-02T05:50:00\",\"2014-01-02T06:00:00\",\"2014-01-02T06:10:00\",\"2014-01-02T06:20:00\",\"2014-01-02T06:30:00\",\"2014-01-02T06:40:00\",\"2014-01-02T06:50:00\",\"2014-01-02T07:00:00\",\"2014-01-02T07:10:00\",\"2014-01-02T07:20:00\",\"2014-01-02T07:30:00\",\"2014-01-02T07:40:00\",\"2014-01-02T07:50:00\",\"2014-01-02T08:00:00\",\"2014-01-02T08:10:00\",\"2014-01-02T08:20:00\",\"2014-01-02T08:30:00\",\"2014-01-02T08:40:00\",\"2014-01-02T08:50:00\",\"2014-01-02T09:00:00\",\"2014-01-02T09:10:00\",\"2014-01-02T09:20:00\",\"2014-01-02T09:30:00\",\"2014-01-02T09:40:00\",\"2014-01-02T09:50:00\",\"2014-01-02T10:00:00\",\"2014-01-02T10:10:00\",\"2014-01-02T10:20:00\",\"2014-01-02T10:30:00\",\"2014-01-02T10:40:00\",\"2014-01-02T10:50:00\",\"2014-01-02T11:00:00\",\"2014-01-02T11:10:00\",\"2014-01-02T11:20:00\",\"2014-01-02T11:30:00\",\"2014-01-02T11:40:00\",\"2014-01-02T11:50:00\",\"2014-01-02T12:00:00\",\"2014-01-02T12:10:00\",\"2014-01-02T12:20:00\",\"2014-01-02T12:30:00\",\"2014-01-02T12:40:00\",\"2014-01-02T12:50:00\",\"2014-01-02T13:00:00\",\"2014-01-02T13:10:00\",\"2014-01-02T13:20:00\",\"2014-01-02T13:30:00\",\"2014-01-02T13:40:00\",\"2014-01-02T13:50:00\",\"2014-01-02T14:00:00\",\"2014-01-02T14:10:00\",\"2014-01-02T14:20:00\",\"2014-01-02T14:30:00\",\"2014-01-02T14:40:00\",\"2014-01-02T14:50:00\",\"2014-01-02T15:00:00\",\"2014-01-02T15:10:00\",\"2014-01-02T15:20:00\",\"2014-01-02T15:30:00\",\"2014-01-02T15:40:00\",\"2014-01-02T15:50:00\",\"2014-01-02T16:00:00\",\"2014-01-02T16:10:00\",\"2014-01-02T16:20:00\",\"2014-01-02T16:30:00\",\"2014-01-02T16:40:00\",\"2014-01-02T16:50:00\",\"2014-01-02T17:00:00\",\"2014-01-02T17:10:00\",\"2014-01-02T17:20:00\",\"2014-01-02T17:30:00\",\"2014-01-02T17:40:00\",\"2014-01-02T17:50:00\",\"2014-01-02T18:00:00\",\"2014-01-02T18:10:00\",\"2014-01-02T18:20:00\",\"2014-01-02T18:30:00\",\"2014-01-02T18:40:00\",\"2014-01-02T18:50:00\",\"2014-01-02T19:00:00\",\"2014-01-02T19:10:00\",\"2014-01-02T19:20:00\",\"2014-01-02T19:30:00\",\"2014-01-02T19:40:00\",\"2014-01-02T19:50:00\",\"2014-01-02T20:00:00\",\"2014-01-02T20:10:00\",\"2014-01-02T20:20:00\",\"2014-01-02T20:30:00\",\"2014-01-02T20:40:00\",\"2014-01-02T20:50:00\",\"2014-01-02T21:00:00\",\"2014-01-02T21:10:00\",\"2014-01-02T21:20:00\",\"2014-01-02T21:30:00\",\"2014-01-02T21:40:00\",\"2014-01-02T21:50:00\",\"2014-01-02T22:00:00\",\"2014-01-02T22:10:00\",\"2014-01-02T22:20:00\",\"2014-01-02T22:30:00\",\"2014-01-02T22:40:00\",\"2014-01-02T22:50:00\",\"2014-01-02T23:00:00\",\"2014-01-02T23:10:00\",\"2014-01-02T23:20:00\",\"2014-01-02T23:30:00\",\"2014-01-02T23:40:00\"],\"legendgroup\":\"\",\"line\":{\"color\":\"#636efa\",\"dash\":\"solid\"},\"marker\":{\"symbol\":\"circle\"},\"mode\":\"lines\",\"name\":\"\",\"orientation\":\"v\",\"showlegend\":false,\"x\":[\"2014-01-01T23:30:00\",\"2014-01-01T23:40:00\",\"2014-01-01T23:50:00\",\"2014-01-02T00:00:00\",\"2014-01-02T00:10:00\",\"2014-01-02T00:20:00\",\"2014-01-02T00:30:00\",\"2014-01-02T00:40:00\",\"2014-01-02T00:50:00\",\"2014-01-02T01:00:00\",\"2014-01-02T01:10:00\",\"2014-01-02T01:20:00\",\"2014-01-02T01:30:00\",\"2014-01-02T01:40:00\",\"2014-01-02T01:50:00\",\"2014-01-02T02:00:00\",\"2014-01-02T02:10:00\",\"2014-01-02T02:20:00\",\"2014-01-02T02:30:00\",\"2014-01-02T02:40:00\",\"2014-01-02T02:50:00\",\"2014-01-02T03:00:00\",\"2014-01-02T03:10:00\",\"2014-01-02T03:20:00\",\"2014-01-02T03:30:00\",\"2014-01-02T03:40:00\",\"2014-01-02T03:50:00\",\"2014-01-02T04:00:00\",\"2014-01-02T04:10:00\",\"2014-01-02T04:20:00\",\"2014-01-02T04:30:00\",\"2014-01-02T04:40:00\",\"2014-01-02T04:50:00\",\"2014-01-02T05:00:00\",\"2014-01-02T05:10:00\",\"2014-01-02T05:20:00\",\"2014-01-02T05:30:00\",\"2014-01-02T05:40:00\",\"2014-01-02T05:50:00\",\"2014-01-02T06:00:00\",\"2014-01-02T06:10:00\",\"2014-01-02T06:20:00\",\"2014-01-02T06:30:00\",\"2014-01-02T06:40:00\",\"2014-01-02T06:50:00\",\"2014-01-02T07:00:00\",\"2014-01-02T07:10:00\",\"2014-01-02T07:20:00\",\"2014-01-02T07:30:00\",\"2014-01-02T07:40:00\",\"2014-01-02T07:50:00\",\"2014-01-02T08:00:00\",\"2014-01-02T08:10:00\",\"2014-01-02T08:20:00\",\"2014-01-02T08:30:00\",\"2014-01-02T08:40:00\",\"2014-01-02T08:50:00\",\"2014-01-02T09:00:00\",\"2014-01-02T09:10:00\",\"2014-01-02T09:20:00\",\"2014-01-02T09:30:00\",\"2014-01-02T09:40:00\",\"2014-01-02T09:50:00\",\"2014-01-02T10:00:00\",\"2014-01-02T10:10:00\",\"2014-01-02T10:20:00\",\"2014-01-02T10:30:00\",\"2014-01-02T10:40:00\",\"2014-01-02T10:50:00\",\"2014-01-02T11:00:00\",\"2014-01-02T11:10:00\",\"2014-01-02T11:20:00\",\"2014-01-02T11:30:00\",\"2014-01-02T11:40:00\",\"2014-01-02T11:50:00\",\"2014-01-02T12:00:00\",\"2014-01-02T12:10:00\",\"2014-01-02T12:20:00\",\"2014-01-02T12:30:00\",\"2014-01-02T12:40:00\",\"2014-01-02T12:50:00\",\"2014-01-02T13:00:00\",\"2014-01-02T13:10:00\",\"2014-01-02T13:20:00\",\"2014-01-02T13:30:00\",\"2014-01-02T13:40:00\",\"2014-01-02T13:50:00\",\"2014-01-02T14:00:00\",\"2014-01-02T14:10:00\",\"2014-01-02T14:20:00\",\"2014-01-02T14:30:00\",\"2014-01-02T14:40:00\",\"2014-01-02T14:50:00\",\"2014-01-02T15:00:00\",\"2014-01-02T15:10:00\",\"2014-01-02T15:20:00\",\"2014-01-02T15:30:00\",\"2014-01-02T15:40:00\",\"2014-01-02T15:50:00\",\"2014-01-02T16:00:00\",\"2014-01-02T16:10:00\",\"2014-01-02T16:20:00\",\"2014-01-02T16:30:00\",\"2014-01-02T16:40:00\",\"2014-01-02T16:50:00\",\"2014-01-02T17:00:00\",\"2014-01-02T17:10:00\",\"2014-01-02T17:20:00\",\"2014-01-02T17:30:00\",\"2014-01-02T17:40:00\",\"2014-01-02T17:50:00\",\"2014-01-02T18:00:00\",\"2014-01-02T18:10:00\",\"2014-01-02T18:20:00\",\"2014-01-02T18:30:00\",\"2014-01-02T18:40:00\",\"2014-01-02T18:50:00\",\"2014-01-02T19:00:00\",\"2014-01-02T19:10:00\",\"2014-01-02T19:20:00\",\"2014-01-02T19:30:00\",\"2014-01-02T19:40:00\",\"2014-01-02T19:50:00\",\"2014-01-02T20:00:00\",\"2014-01-02T20:10:00\",\"2014-01-02T20:20:00\",\"2014-01-02T20:30:00\",\"2014-01-02T20:40:00\",\"2014-01-02T20:50:00\",\"2014-01-02T21:00:00\",\"2014-01-02T21:10:00\",\"2014-01-02T21:20:00\",\"2014-01-02T21:30:00\",\"2014-01-02T21:40:00\",\"2014-01-02T21:50:00\",\"2014-01-02T22:00:00\",\"2014-01-02T22:10:00\",\"2014-01-02T22:20:00\",\"2014-01-02T22:30:00\",\"2014-01-02T22:40:00\",\"2014-01-02T22:50:00\",\"2014-01-02T23:00:00\",\"2014-01-02T23:10:00\",\"2014-01-02T23:20:00\",\"2014-01-02T23:30:00\",\"2014-01-02T23:40:00\"],\"xaxis\":\"x\",\"y\":[-32.1423861816526,-12.436769470243426,-12.331295386906987,-12.447175026835762,-12.643689109643352,-12.89244873784148,-13.183707252819135,-13.513006156769936,-13.87784130602206,-14.276553532539642,-14.707886186058722,-15.170785095005076,-15.664299497383844,-16.187529543080714,-16.73959704683462,-17.319628599191436,-17.926745579263507,-18.560058171721554,-19.21866177001222,-19.90163482201817,-20.60803754555981,-21.33691115388184,-22.087277357352338,-22.85813798489442,-23.64847461708816,-24.457248154418902,-25.28339826479937,-26.125842668557954,-26.983476228767184,-27.855169821745275,-28.739768967471164,-29.636092203646093,-30.542929190210018,-31.45903853397543,-32.38314532580472,-33.31393838589487,-34.25006721618787,-35.190138663485854,-36.132713302341685,-37.076301553930236,-38.01935956607984,-38.960284891132275,-39.897412012401,-40.82900778783435,-41.75326690096128,-42.6683074353008,-43.572166719276225,-44.462797624751836,-45.33806554318892,-46.1957463090488,-47.033525388729196,-47.84899870319,-48.639675499986836,-49.40298373109463,-50.13627841982429,-50.83685350583177,-51.5019576315017,-52.12881426590712,-52.71464644379591,-53.256706218836996,-53.75230868845749,-54.198870146052165,-54.59394956704694,-54.93529226283473,-55.2208741759088,-55.44894498525246,-55.618067990670575,-55.727154693368504,-55.77549211776493,-55.762761236458346,-55.68904534856373,-55.55482787700159,-55.36097972587615,-55.10873699908903,-54.79967045075593,-54.435648459267014,-54.01879555578507,-53.551448589054004,-53.03611249015436,-52.475417352061136,-51.87207820515399,-51.22885849943667,-50.5485379376541,-49.83388497195765,-49.08763399861757,-48.31246707027629,-47.51099979214551,-46.68577097244621,-45.83923554866801,-44.973760299932046,-44.091621870940166,-43.19500666689477,-42.28601222267783,-41.3666496986854,-40.43884720529828,-39.5044537057643,-38.56524329059697,-37.62291965591437,-36.67912065170141,-35.73542279487559,-34.79334566600169,-33.85435612853145,-32.91987232513891,-31.99126741896184,-31.069873057465482,-30.15698254466825,-29.25385371346674,-28.361711494656824,-27.481750182363506,-26.615135398557175,-25.763005761029262,-24.926474260711323,-24.1066293552369,-23.30453578672633,-22.52123513213528,-21.757746095600492,-21.0150645526341,-20.29416335688602,-19.595991920909043,-18.921475583495752,-18.27151477680785,-17.64698400800818,-17.0487306710648,-16.47757370574978,-15.934302122083055,-15.419673409968372,-14.934411854696277,-14.479206780525157,-14.054710745383495,-13.66153771069582,-13.300261210905267,-12.97141254786064,-12.675479034918979,-12.412902315727067,-12.1840767817179,-11.989348111403935,-11.829011953008058,-11.703312770277545,-11.612442868813108,-11.556541617940987,-11.535694880075662,-11.549934656454887,-11.599238954714336,-11.683531880517288,-11.802683951610913,-11.956512629574753],\"yaxis\":\"y\",\"type\":\"scatter\"}],                        {\"template\":{\"data\":{\"bar\":[{\"error_x\":{\"color\":\"#2a3f5f\"},\"error_y\":{\"color\":\"#2a3f5f\"},\"marker\":{\"line\":{\"color\":\"#E5ECF6\",\"width\":0.5},\"pattern\":{\"fillmode\":\"overlay\",\"size\":10,\"solidity\":0.2}},\"type\":\"bar\"}],\"barpolar\":[{\"marker\":{\"line\":{\"color\":\"#E5ECF6\",\"width\":0.5},\"pattern\":{\"fillmode\":\"overlay\",\"size\":10,\"solidity\":0.2}},\"type\":\"barpolar\"}],\"carpet\":[{\"aaxis\":{\"endlinecolor\":\"#2a3f5f\",\"gridcolor\":\"white\",\"linecolor\":\"white\",\"minorgridcolor\":\"white\",\"startlinecolor\":\"#2a3f5f\"},\"baxis\":{\"endlinecolor\":\"#2a3f5f\",\"gridcolor\":\"white\",\"linecolor\":\"white\",\"minorgridcolor\":\"white\",\"startlinecolor\":\"#2a3f5f\"},\"type\":\"carpet\"}],\"choropleth\":[{\"colorbar\":{\"outlinewidth\":0,\"ticks\":\"\"},\"type\":\"choropleth\"}],\"contour\":[{\"colorbar\":{\"outlinewidth\":0,\"ticks\":\"\"},\"colorscale\":[[0.0,\"#0d0887\"],[0.1111111111111111,\"#46039f\"],[0.2222222222222222,\"#7201a8\"],[0.3333333333333333,\"#9c179e\"],[0.4444444444444444,\"#bd3786\"],[0.5555555555555556,\"#d8576b\"],[0.6666666666666666,\"#ed7953\"],[0.7777777777777778,\"#fb9f3a\"],[0.8888888888888888,\"#fdca26\"],[1.0,\"#f0f921\"]],\"type\":\"contour\"}],\"contourcarpet\":[{\"colorbar\":{\"outlinewidth\":0,\"ticks\":\"\"},\"type\":\"contourcarpet\"}],\"heatmap\":[{\"colorbar\":{\"outlinewidth\":0,\"ticks\":\"\"},\"colorscale\":[[0.0,\"#0d0887\"],[0.1111111111111111,\"#46039f\"],[0.2222222222222222,\"#7201a8\"],[0.3333333333333333,\"#9c179e\"],[0.4444444444444444,\"#bd3786\"],[0.5555555555555556,\"#d8576b\"],[0.6666666666666666,\"#ed7953\"],[0.7777777777777778,\"#fb9f3a\"],[0.8888888888888888,\"#fdca26\"],[1.0,\"#f0f921\"]],\"type\":\"heatmap\"}],\"heatmapgl\":[{\"colorbar\":{\"outlinewidth\":0,\"ticks\":\"\"},\"colorscale\":[[0.0,\"#0d0887\"],[0.1111111111111111,\"#46039f\"],[0.2222222222222222,\"#7201a8\"],[0.3333333333333333,\"#9c179e\"],[0.4444444444444444,\"#bd3786\"],[0.5555555555555556,\"#d8576b\"],[0.6666666666666666,\"#ed7953\"],[0.7777777777777778,\"#fb9f3a\"],[0.8888888888888888,\"#fdca26\"],[1.0,\"#f0f921\"]],\"type\":\"heatmapgl\"}],\"histogram\":[{\"marker\":{\"pattern\":{\"fillmode\":\"overlay\",\"size\":10,\"solidity\":0.2}},\"type\":\"histogram\"}],\"histogram2d\":[{\"colorbar\":{\"outlinewidth\":0,\"ticks\":\"\"},\"colorscale\":[[0.0,\"#0d0887\"],[0.1111111111111111,\"#46039f\"],[0.2222222222222222,\"#7201a8\"],[0.3333333333333333,\"#9c179e\"],[0.4444444444444444,\"#bd3786\"],[0.5555555555555556,\"#d8576b\"],[0.6666666666666666,\"#ed7953\"],[0.7777777777777778,\"#fb9f3a\"],[0.8888888888888888,\"#fdca26\"],[1.0,\"#f0f921\"]],\"type\":\"histogram2d\"}],\"histogram2dcontour\":[{\"colorbar\":{\"outlinewidth\":0,\"ticks\":\"\"},\"colorscale\":[[0.0,\"#0d0887\"],[0.1111111111111111,\"#46039f\"],[0.2222222222222222,\"#7201a8\"],[0.3333333333333333,\"#9c179e\"],[0.4444444444444444,\"#bd3786\"],[0.5555555555555556,\"#d8576b\"],[0.6666666666666666,\"#ed7953\"],[0.7777777777777778,\"#fb9f3a\"],[0.8888888888888888,\"#fdca26\"],[1.0,\"#f0f921\"]],\"type\":\"histogram2dcontour\"}],\"mesh3d\":[{\"colorbar\":{\"outlinewidth\":0,\"ticks\":\"\"},\"type\":\"mesh3d\"}],\"parcoords\":[{\"line\":{\"colorbar\":{\"outlinewidth\":0,\"ticks\":\"\"}},\"type\":\"parcoords\"}],\"pie\":[{\"automargin\":true,\"type\":\"pie\"}],\"scatter\":[{\"marker\":{\"colorbar\":{\"outlinewidth\":0,\"ticks\":\"\"}},\"type\":\"scatter\"}],\"scatter3d\":[{\"line\":{\"colorbar\":{\"outlinewidth\":0,\"ticks\":\"\"}},\"marker\":{\"colorbar\":{\"outlinewidth\":0,\"ticks\":\"\"}},\"type\":\"scatter3d\"}],\"scattercarpet\":[{\"marker\":{\"colorbar\":{\"outlinewidth\":0,\"ticks\":\"\"}},\"type\":\"scattercarpet\"}],\"scattergeo\":[{\"marker\":{\"colorbar\":{\"outlinewidth\":0,\"ticks\":\"\"}},\"type\":\"scattergeo\"}],\"scattergl\":[{\"marker\":{\"colorbar\":{\"outlinewidth\":0,\"ticks\":\"\"}},\"type\":\"scattergl\"}],\"scattermapbox\":[{\"marker\":{\"colorbar\":{\"outlinewidth\":0,\"ticks\":\"\"}},\"type\":\"scattermapbox\"}],\"scatterpolar\":[{\"marker\":{\"colorbar\":{\"outlinewidth\":0,\"ticks\":\"\"}},\"type\":\"scatterpolar\"}],\"scatterpolargl\":[{\"marker\":{\"colorbar\":{\"outlinewidth\":0,\"ticks\":\"\"}},\"type\":\"scatterpolargl\"}],\"scatterternary\":[{\"marker\":{\"colorbar\":{\"outlinewidth\":0,\"ticks\":\"\"}},\"type\":\"scatterternary\"}],\"surface\":[{\"colorbar\":{\"outlinewidth\":0,\"ticks\":\"\"},\"colorscale\":[[0.0,\"#0d0887\"],[0.1111111111111111,\"#46039f\"],[0.2222222222222222,\"#7201a8\"],[0.3333333333333333,\"#9c179e\"],[0.4444444444444444,\"#bd3786\"],[0.5555555555555556,\"#d8576b\"],[0.6666666666666666,\"#ed7953\"],[0.7777777777777778,\"#fb9f3a\"],[0.8888888888888888,\"#fdca26\"],[1.0,\"#f0f921\"]],\"type\":\"surface\"}],\"table\":[{\"cells\":{\"fill\":{\"color\":\"#EBF0F8\"},\"line\":{\"color\":\"white\"}},\"header\":{\"fill\":{\"color\":\"#C8D4E3\"},\"line\":{\"color\":\"white\"}},\"type\":\"table\"}]},\"layout\":{\"annotationdefaults\":{\"arrowcolor\":\"#2a3f5f\",\"arrowhead\":0,\"arrowwidth\":1},\"autotypenumbers\":\"strict\",\"coloraxis\":{\"colorbar\":{\"outlinewidth\":0,\"ticks\":\"\"}},\"colorscale\":{\"diverging\":[[0,\"#8e0152\"],[0.1,\"#c51b7d\"],[0.2,\"#de77ae\"],[0.3,\"#f1b6da\"],[0.4,\"#fde0ef\"],[0.5,\"#f7f7f7\"],[0.6,\"#e6f5d0\"],[0.7,\"#b8e186\"],[0.8,\"#7fbc41\"],[0.9,\"#4d9221\"],[1,\"#276419\"]],\"sequential\":[[0.0,\"#0d0887\"],[0.1111111111111111,\"#46039f\"],[0.2222222222222222,\"#7201a8\"],[0.3333333333333333,\"#9c179e\"],[0.4444444444444444,\"#bd3786\"],[0.5555555555555556,\"#d8576b\"],[0.6666666666666666,\"#ed7953\"],[0.7777777777777778,\"#fb9f3a\"],[0.8888888888888888,\"#fdca26\"],[1.0,\"#f0f921\"]],\"sequentialminus\":[[0.0,\"#0d0887\"],[0.1111111111111111,\"#46039f\"],[0.2222222222222222,\"#7201a8\"],[0.3333333333333333,\"#9c179e\"],[0.4444444444444444,\"#bd3786\"],[0.5555555555555556,\"#d8576b\"],[0.6666666666666666,\"#ed7953\"],[0.7777777777777778,\"#fb9f3a\"],[0.8888888888888888,\"#fdca26\"],[1.0,\"#f0f921\"]]},\"colorway\":[\"#636efa\",\"#EF553B\",\"#00cc96\",\"#ab63fa\",\"#FFA15A\",\"#19d3f3\",\"#FF6692\",\"#B6E880\",\"#FF97FF\",\"#FECB52\"],\"font\":{\"color\":\"#2a3f5f\"},\"geo\":{\"bgcolor\":\"white\",\"lakecolor\":\"white\",\"landcolor\":\"#E5ECF6\",\"showlakes\":true,\"showland\":true,\"subunitcolor\":\"white\"},\"hoverlabel\":{\"align\":\"left\"},\"hovermode\":\"closest\",\"mapbox\":{\"style\":\"light\"},\"paper_bgcolor\":\"white\",\"plot_bgcolor\":\"#E5ECF6\",\"polar\":{\"angularaxis\":{\"gridcolor\":\"white\",\"linecolor\":\"white\",\"ticks\":\"\"},\"bgcolor\":\"#E5ECF6\",\"radialaxis\":{\"gridcolor\":\"white\",\"linecolor\":\"white\",\"ticks\":\"\"}},\"scene\":{\"xaxis\":{\"backgroundcolor\":\"#E5ECF6\",\"gridcolor\":\"white\",\"gridwidth\":2,\"linecolor\":\"white\",\"showbackground\":true,\"ticks\":\"\",\"zerolinecolor\":\"white\"},\"yaxis\":{\"backgroundcolor\":\"#E5ECF6\",\"gridcolor\":\"white\",\"gridwidth\":2,\"linecolor\":\"white\",\"showbackground\":true,\"ticks\":\"\",\"zerolinecolor\":\"white\"},\"zaxis\":{\"backgroundcolor\":\"#E5ECF6\",\"gridcolor\":\"white\",\"gridwidth\":2,\"linecolor\":\"white\",\"showbackground\":true,\"ticks\":\"\",\"zerolinecolor\":\"white\"}},\"shapedefaults\":{\"line\":{\"color\":\"#2a3f5f\"}},\"ternary\":{\"aaxis\":{\"gridcolor\":\"white\",\"linecolor\":\"white\",\"ticks\":\"\"},\"baxis\":{\"gridcolor\":\"white\",\"linecolor\":\"white\",\"ticks\":\"\"},\"bgcolor\":\"#E5ECF6\",\"caxis\":{\"gridcolor\":\"white\",\"linecolor\":\"white\",\"ticks\":\"\"}},\"title\":{\"x\":0.05},\"xaxis\":{\"automargin\":true,\"gridcolor\":\"white\",\"linecolor\":\"white\",\"ticks\":\"\",\"title\":{\"standoff\":15},\"zerolinecolor\":\"white\",\"zerolinewidth\":2},\"yaxis\":{\"automargin\":true,\"gridcolor\":\"white\",\"linecolor\":\"white\",\"ticks\":\"\",\"title\":{\"standoff\":15},\"zerolinecolor\":\"white\",\"zerolinewidth\":2}}},\"xaxis\":{\"anchor\":\"y\",\"domain\":[0.0,1.0],\"title\":{\"text\":\"datetime\"}},\"yaxis\":{\"anchor\":\"x\",\"domain\":[0.0,1.0],\"title\":{\"text\":\"elevation\"}},\"legend\":{\"tracegroupgap\":0},\"margin\":{\"t\":60}},                        {\"responsive\": true}                    ).then(function(){\n",
       "                            \n",
       "var gd = document.getElementById('40f9baab-85ca-4692-aaca-d844b211f00a');\n",
       "var x = new MutationObserver(function (mutations, observer) {{\n",
       "        var display = window.getComputedStyle(gd).display;\n",
       "        if (!display || display === 'none') {{\n",
       "            console.log([gd, 'removed!']);\n",
       "            Plotly.purge(gd);\n",
       "            observer.disconnect();\n",
       "        }}\n",
       "}});\n",
       "\n",
       "// Listen for the removal of the full notebook cells\n",
       "var notebookContainer = gd.closest('#notebook-container');\n",
       "if (notebookContainer) {{\n",
       "    x.observe(notebookContainer, {childList: true});\n",
       "}}\n",
       "\n",
       "// Listen for the clearing of the current output cell\n",
       "var outputEl = gd.closest('.output');\n",
       "if (outputEl) {{\n",
       "    x.observe(outputEl, {childList: true});\n",
       "}}\n",
       "\n",
       "                        })                };                });            </script>        </div>"
      ]
     },
     "metadata": {},
     "output_type": "display_data"
    }
   ],
   "source": [
    "px.line(prop_data, y='elevation', x='datetime', hover_name=\"datetime\", \n",
    "        hover_data=['azimuth',\n",
    "                    'elevation',\n",
    "                    'latitude',\n",
    "                    'longitude'])"
   ]
  },
  {
   "cell_type": "code",
   "execution_count": 68,
   "metadata": {},
   "outputs": [
    {
     "data": {
      "application/vnd.plotly.v1+json": {
       "config": {
        "plotlyServerURL": "https://plot.ly"
       },
       "data": [
        {
         "customdata": [
          [
           -32.1423861816526,
           142.4337231135884
          ],
          [
           -12.436769470243426,
           188.94694082237015
          ],
          [
           -12.331295386906987,
           191.41016589996448
          ],
          [
           -11.549934656454887,
           181.93081026870942
          ],
          [
           -11.599238954714336,
           184.0602416085733
          ],
          [
           -11.683531880517288,
           186.1890373352108
          ],
          [
           -11.802683951610913,
           188.31687612962398
          ],
          [
           -11.956512629574753,
           190.4434508429899
          ]
         ],
         "geo": "geo",
         "hovertemplate": "visible=No<br>hour=23<br>latitude=%{lat}<br>longitude=%{lon}<br>elevation=%{customdata[0]}<br>azimuth=%{customdata[1]}<extra></extra>",
         "lat": [
          -0.2805343880709552,
          -33.292834935793046,
          -33.474948747579695,
          -33.650769784225076,
          -33.65079122316354,
          -33.65081244381623,
          -33.65083344390747,
          -33.65085422097908
         ],
         "legendgroup": "No",
         "lon": [
          56.52442628768894,
          10.557927451875905,
          7.641924216132677,
          18.790263665226078,
          16.28337913902171,
          13.77649506558584,
          11.269611432421623,
          8.762728227572865
         ],
         "marker": {
          "color": "#636efa",
          "opacity": 0.3,
          "symbol": "circle"
         },
         "mode": "markers",
         "name": "No",
         "showlegend": true,
         "type": "scattergeo"
        }
       ],
       "frames": [
        {
         "data": [
          {
           "customdata": [
            [
             -32.1423861816526,
             142.4337231135884
            ],
            [
             -12.436769470243426,
             188.94694082237015
            ],
            [
             -12.331295386906987,
             191.41016589996448
            ],
            [
             -11.549934656454887,
             181.93081026870942
            ],
            [
             -11.599238954714336,
             184.0602416085733
            ],
            [
             -11.683531880517288,
             186.1890373352108
            ],
            [
             -11.802683951610913,
             188.31687612962398
            ],
            [
             -11.956512629574753,
             190.4434508429899
            ]
           ],
           "geo": "geo",
           "hovertemplate": "visible=No<br>hour=23<br>latitude=%{lat}<br>longitude=%{lon}<br>elevation=%{customdata[0]}<br>azimuth=%{customdata[1]}<extra></extra>",
           "lat": [
            -0.2805343880709552,
            -33.292834935793046,
            -33.474948747579695,
            -33.650769784225076,
            -33.65079122316354,
            -33.65081244381623,
            -33.65083344390747,
            -33.65085422097908
           ],
           "legendgroup": "No",
           "lon": [
            56.52442628768894,
            10.557927451875905,
            7.641924216132677,
            18.790263665226078,
            16.28337913902171,
            13.77649506558584,
            11.269611432421623,
            8.762728227572865
           ],
           "marker": {
            "color": "#636efa",
            "opacity": 0.3,
            "symbol": "circle"
           },
           "mode": "markers",
           "name": "No",
           "showlegend": true,
           "type": "scattergeo"
          }
         ],
         "name": "23"
        },
        {
         "data": [
          {
           "customdata": [
            [
             -12.447175026835762,
             193.6458144423626
            ],
            [
             -12.643689109643352,
             195.82347175380798
            ],
            [
             -12.89244873784148,
             197.97660422061892
            ],
            [
             -13.183707252819135,
             200.11621701579674
            ],
            [
             -13.513006156769936,
             202.2469505276405
            ],
            [
             -13.87784130602206,
             204.3710913001565
            ]
           ],
           "geo": "geo",
           "hovertemplate": "visible=No<br>hour=0<br>latitude=%{lat}<br>longitude=%{lon}<br>elevation=%{customdata[0]}<br>azimuth=%{customdata[1]}<extra></extra>",
           "lat": [
            -33.53481615843333,
            -33.564595395994175,
            -33.58241469103688,
            -33.59427484134583,
            -33.60273737771502,
            -33.60907971344153
           ],
           "legendgroup": "No",
           "lon": [
            4.999394682948538,
            2.424840489304858,
            -0.12258744791775199,
            -2.6564700988149625,
            -5.1826191683564415,
            -7.703937646037011
           ],
           "marker": {
            "color": "#636efa",
            "opacity": 0.3,
            "symbol": "circle"
           },
           "mode": "markers",
           "name": "No",
           "showlegend": true,
           "type": "scattergeo"
          }
         ],
         "name": "0"
        },
        {
         "data": [
          {
           "customdata": [
            [
             -14.276553532539642,
             206.4899080585799
            ],
            [
             -14.707886186058722,
             208.6041870620079
            ],
            [
             -15.170785095005076,
             210.7144766381955
            ],
            [
             -15.664299497383844,
             212.8212105592921
            ],
            [
             -16.187529543080714,
             214.92477543547037
            ],
            [
             -16.73959704683462,
             217.02555004188648
            ]
           ],
           "geo": "geo",
           "hovertemplate": "visible=No<br>hour=1<br>latitude=%{lat}<br>longitude=%{lon}<br>elevation=%{customdata[0]}<br>azimuth=%{customdata[1]}<extra></extra>",
           "lat": [
            -33.61401020016295,
            -33.61795325389352,
            -33.62117866215354,
            -33.62386612478209,
            -33.62613995878174,
            -33.62808890744466
           ],
           "legendgroup": "No",
           "lon": [
            -10.222037172367092,
            -12.737884222576934,
            -15.252093573875515,
            -17.765074942615747,
            -20.277111901633795,
            -22.78840695679887
           ],
           "marker": {
            "color": "#636efa",
            "opacity": 0.3,
            "symbol": "circle"
           },
           "mode": "markers",
           "name": "No",
           "showlegend": true,
           "type": "scattergeo"
          }
         ],
         "name": "1"
        },
        {
         "data": [
          {
           "customdata": [
            [
             -17.319628599191436,
             219.12392960737435
            ],
            [
             -17.926745579263507,
             221.22034158722678
            ],
            [
             -18.560058171721554,
             223.31525638365073
            ],
            [
             -19.21866177001222,
             225.4091949498666
            ],
            [
             -19.90163482201817,
             227.50273440992564
            ],
            [
             -20.60803754555981,
             229.59651238444715
            ]
           ],
           "geo": "geo",
           "hovertemplate": "visible=No<br>hour=2<br>latitude=%{lat}<br>longitude=%{lon}<br>elevation=%{customdata[0]}<br>azimuth=%{customdata[1]}<extra></extra>",
           "lat": [
            -33.6297780148007,
            -33.63125604131338,
            -33.63256025911362,
            -33.633719646923616,
            -33.63475707498251,
            -33.635690833809356
           ],
           "legendgroup": "No",
           "lon": [
            -25.2991085834509,
            -27.809328119207184,
            -30.31915069177817,
            -32.82864250264544,
            -35.33785580965879,
            -37.84683241425861
           ],
           "marker": {
            "color": "#636efa",
            "opacity": 0.3,
            "symbol": "circle"
           },
           "mode": "markers",
           "name": "No",
           "showlegend": true,
           "type": "scattergeo"
          }
         ],
         "name": "2"
        },
        {
         "data": [
          {
           "customdata": [
            [
             -21.33691115388184,
             231.6912304594246
            ],
            [
             -22.087277357352338,
             233.78765708492543
            ],
            [
             -22.85813798489442,
             235.88663009778796
            ],
            [
             -23.64847461708816,
             237.9890590033478
            ],
            [
             -24.457248154418902,
             240.09592711128192
            ],
            [
             -25.28339826479937,
             242.20829359286148
            ]
           ],
           "geo": "geo",
           "hovertemplate": "visible=No<br>hour=3<br>latitude=%{lat}<br>longitude=%{lon}<br>elevation=%{customdata[0]}<br>azimuth=%{customdata[1]}<extra></extra>",
           "lat": [
            -33.63653572575441,
            -33.63730385854576,
            -33.63800523169743,
            -33.63864817613149,
            -33.63923968823726,
            -33.63978568677358
           ],
           "legendgroup": "No",
           "lon": [
            -40.35560615198948,
            -42.864204703559075,
            -45.37265093324128,
            -47.88096389262495,
            -50.389159583355095,
            -52.897251543821014
           ],
           "marker": {
            "color": "#636efa",
            "opacity": 0.3,
            "symbol": "circle"
           },
           "mode": "markers",
           "name": "No",
           "showlegend": true,
           "type": "scattergeo"
          }
         ],
         "name": "3"
        },
        {
         "data": [
          {
           "customdata": [
            [
             -26.125842668557954,
             244.32729550574274
            ],
            [
             -26.983476228767184,
             246.45414981541765
            ],
            [
             -27.855169821745275,
             248.5901554271894
            ],
            [
             -28.739768967471164,
             250.73669522850292
            ],
            [
             -29.636092203646093,
             252.89523812647147
            ],
            [
             -30.542929190210018,
             255.06734104997716
            ]
           ],
           "geo": "geo",
           "hovertemplate": "visible=No<br>hour=4<br>latitude=%{lat}<br>longitude=%{lon}<br>elevation=%{customdata[0]}<br>azimuth=%{customdata[1]}<extra></extra>",
           "lat": [
            -33.6402912126461,
            -33.64076058581315,
            -33.641197529767894,
            -33.64160527104402,
            -33.6419866194847,
            -33.6423440334447
           ],
           "legendgroup": "No",
           "lon": [
            -55.405251305421594,
            -57.913168751067424,
            -60.421012399426694,
            -62.92878963238227,
            -65.43650687841041,
            -67.94416976158246
           ],
           "marker": {
            "color": "#636efa",
            "opacity": 0.3,
            "symbol": "circle"
           },
           "mode": "markers",
           "name": "No",
           "showlegend": true,
           "type": "scattergeo"
          }
         ],
         "name": "4"
        },
        {
         "data": [
          {
           "customdata": [
            [
             -31.45903853397543,
             257.25465086816183
            ],
            [
             -32.38314532580472,
             259.4589061573389
            ],
            [
             -33.31393838589487,
             261.6819387252938
            ],
            [
             -34.25006721618787,
             263.92567477573135
            ],
            [
             -35.190138663485854,
             266.19213556446545
            ],
            [
             -36.132713302341685,
             268.48343736351393
            ]
           ],
           "geo": "geo",
           "hovertemplate": "visible=No<br>hour=5<br>latitude=%{lat}<br>longitude=%{lon}<br>elevation=%{customdata[0]}<br>azimuth=%{customdata[1]}<extra></extra>",
           "lat": [
            -33.642679673137216,
            -33.642995444528935,
            -33.643293035769155,
            -33.64357394747786,
            -33.64383951815553,
            -33.6440909455705
           ],
           "legendgroup": "No",
           "lon": [
            -70.45178322346563,
            -72.95935162353524,
            -75.46687882231215,
            -77.97436825070983,
            -80.48182296809568,
            -82.98924571119157
           ],
           "marker": {
            "color": "#636efa",
            "opacity": 0.3,
            "symbol": "circle"
           },
           "mode": "markers",
           "name": "No",
           "showlegend": true,
           "type": "scattergeo"
          }
         ],
         "name": "5"
        },
        {
         "data": [
          {
           "customdata": [
            [
             -37.076301553930236,
             270.8017905081147
            ],
            [
             -38.01935956607984,
             273.1494972549101
            ],
            [
             -38.960284891132275,
             275.5289481266108
            ],
            [
             -39.897412012401,
             277.9426163603012
            ],
            [
             -40.82900778783435,
             280.393050012876
            ],
            [
             -41.75326690096128,
             282.8828612106071
            ]
           ],
           "geo": "geo",
           "hovertemplate": "visible=No<br>hour=6<br>latitude=%{lat}<br>longitude=%{lon}<br>elevation=%{customdata[0]}<br>azimuth=%{customdata[1]}<extra></extra>",
           "lat": [
            -33.644329304861024,
            -33.64455556388644,
            -33.64477059639655,
            -33.64497519324826,
            -33.64517007209437,
            -33.64535588574078
           ],
           "legendgroup": "No",
           "lon": [
            -85.49663893545156,
            -88.00400485025469,
            -90.5113454488996,
            -93.01866253435942,
            -95.5259577414302,
            -98.03323255585411
           ],
           "marker": {
            "color": "#636efa",
            "opacity": 0.3,
            "symbol": "circle"
           },
           "mode": "markers",
           "name": "No",
           "showlegend": true,
           "type": "scattergeo"
          }
         ],
         "name": "6"
        },
        {
         "data": [
          {
           "customdata": [
            [
             -42.6683074353008,
             285.4147119625916
            ],
            [
             -43.572166719276225,
             287.9912958944354
            ],
            [
             -44.462797624751836,
             290.6153152047423
            ],
            [
             -45.33806554318892,
             293.28945211245633
            ],
            [
             -46.1957463090488,
             296.01633405773947
            ],
            [
             -47.033525388729196,
             298.79849195912647
            ]
           ],
           "geo": "geo",
           "hovertemplate": "visible=No<br>hour=7<br>latitude=%{lat}<br>longitude=%{lon}<br>elevation=%{customdata[0]}<br>azimuth=%{customdata[1]}<extra></extra>",
           "lat": [
            -33.645533229395824,
            -33.64570264693706,
            -33.64586463644657,
            -33.646019654979554,
            -33.64616812278809,
            -33.64631042702775
           ],
           "legendgroup": "No",
           "lon": [
            -100.54048833088841,
            -103.0477263017516,
            -105.55494759815488,
            -108.06215325534495,
            -110.5693442237458,
            -113.07652137746223
           ],
           "marker": {
            "color": "#636efa",
            "opacity": 0.3,
            "symbol": "circle"
           },
           "mode": "markers",
           "name": "No",
           "showlegend": true,
           "type": "scattergeo"
          }
         ],
         "name": "7"
        },
        {
         "data": [
          {
           "customdata": [
            [
             -47.84899870319,
             301.6383109316458
            ],
            [
             -48.639675499986836,
             304.5379730554409
            ],
            [
             -49.40298373109463,
             307.49939207315686
            ],
            [
             -50.13627841982429,
             310.5241403084273
            ],
            [
             -50.83685350583177,
             313.61336865123525
            ],
            [
             -51.5019576315017,
             316.767721155727
            ]
           ],
           "geo": "geo",
           "hovertemplate": "visible=No<br>hour=8<br>latitude=%{lat}<br>longitude=%{lon}<br>elevation=%{customdata[0]}<br>azimuth=%{customdata[1]}<extra></extra>",
           "lat": [
            -33.6464469250343,
            -33.646577947184525,
            -33.646703799503676,
            -33.64682476590589,
            -33.64694111023093,
            -33.647053078051464
           ],
           "legendgroup": "No",
           "lon": [
            -115.58368552177521,
            -118.09083739980191,
            -120.59797769834057,
            -123.10510705313555,
            -125.61222605352695,
            -128.11933524661725
           ],
           "marker": {
            "color": "#636efa",
            "opacity": 0.3,
            "symbol": "circle"
           },
           "mode": "markers",
           "name": "No",
           "showlegend": true,
           "type": "scattergeo"
          }
         ],
         "name": "8"
        },
        {
         "data": [
          {
           "customdata": [
            [
             -52.12881426590712,
             319.9872466294919
            ],
            [
             -52.71464644379591,
             323.2713105254054
            ],
            [
             -53.256706218836996,
             326.61851141054944
            ],
            [
             -53.75230868845749,
             330.02660718097235
            ],
            [
             -54.198870146052165,
             333.49245688011047
            ],
            [
             -54.59394956704694,
             337.0119843061477
            ]
           ],
           "geo": "geo",
           "hovertemplate": "visible=No<br>hour=9<br>latitude=%{lat}<br>longitude=%{lon}<br>elevation=%{customdata[0]}<br>azimuth=%{customdata[1]}<extra></extra>",
           "lat": [
            -33.64716089829686,
            -33.647264784669716,
            -33.64736493699147,
            -33.647461542333176,
            -33.647554776077165,
            -33.64764480286488
           ],
           "legendgroup": "No",
           "lon": [
            -130.62643514098653,
            -133.13352621005504,
            -135.64060889505447,
            -138.14768360774883,
            -140.65475073286868,
            -143.1618106303056
           ],
           "marker": {
            "color": "#636efa",
            "opacity": 0.3,
            "symbol": "circle"
           },
           "mode": "markers",
           "name": "No",
           "showlegend": true,
           "type": "scattergeo"
          }
         ],
         "name": "9"
        },
        {
         "data": [
          {
           "customdata": [
            [
             -54.93529226283473,
             340.58016939844777
            ],
            [
             -55.2208741759088,
             344.19107254385267
            ],
            [
             -55.44894498525246,
             347.83789537325856
            ],
            [
             -55.618067990670575,
             351.5130793625167
            ],
            [
             -55.727154693368504,
             355.2084407667645
            ],
            [
             -55.77549211776493,
             358.9153373869016
            ]
           ],
           "geo": "geo",
           "hovertemplate": "visible=No<br>hour=10<br>latitude=%{lat}<br>longitude=%{lon}<br>elevation=%{customdata[0]}<br>azimuth=%{customdata[1]}<extra></extra>",
           "lat": [
            -33.647731777460855,
            -33.64781584549585,
            -33.64789714421613,
            -33.64797580308262,
            -33.648051944359715,
            -33.64812568364064
           ],
           "legendgroup": "No",
           "lon": [
            -145.66886363710114,
            -148.175910069269,
            -150.68295022340544,
            -153.18998437819639,
            -155.6970127957711,
            -158.20403572293355
           ],
           "marker": {
            "color": "#636efa",
            "opacity": 0.3,
            "symbol": "circle"
           },
           "mode": "markers",
           "name": "No",
           "showlegend": true,
           "type": "scattergeo"
          }
         ],
         "name": "10"
        },
        {
         "data": [
          {
           "customdata": [
            [
             -55.762761236458346,
             2.624859764708481
            ],
            [
             -55.68904534856373,
             6.328037035066582
            ],
            [
             -55.55482787700159,
             10.01604618813747
            ],
            [
             -55.36097972587615,
             13.680413145637418
            ],
            [
             -55.10873699908903,
             17.31319488916637
            ],
            [
             -54.79967045075593,
             20.90713376152356
            ]
           ],
           "geo": "geo",
           "hovertemplate": "visible=No<br>hour=11<br>latitude=%{lat}<br>longitude=%{lon}<br>elevation=%{customdata[0]}<br>azimuth=%{customdata[1]}<extra></extra>",
           "lat": [
            -33.64819713033421,
            -33.6482663880687,
            -33.64833355513903,
            -33.64839872483193,
            -33.64846198576985,
            -33.648523422214794
           ],
           "legendgroup": "No",
           "lon": [
            -160.7110533922915,
            -163.218066023302,
            -165.72507382318665,
            -168.23207698781954,
            -170.73907570252015,
            -173.246070142771
           ],
           "marker": {
            "color": "#636efa",
            "opacity": 0.3,
            "symbol": "circle"
           },
           "mode": "markers",
           "name": "No",
           "showlegend": true,
           "type": "scattergeo"
          }
         ],
         "name": "11"
        },
        {
         "data": [
          {
           "customdata": [
            [
             -54.435648459267014,
             24.455777699664182
            ],
            [
             -54.01879555578507,
             27.953563162433095
            ],
            [
             -53.551448589054004,
             31.395860485978947
            ],
            [
             -53.03611249015436,
             34.77898399303968
            ],
            [
             -52.475417352061136,
             38.100171165800226
            ],
            [
             -51.87207820515399,
             41.3575364610959
            ]
           ],
           "geo": "geo",
           "hovertemplate": "visible=No<br>hour=12<br>latitude=%{lat}<br>longitude=%{lon}<br>elevation=%{customdata[0]}<br>azimuth=%{customdata[1]}<extra></extra>",
           "lat": [
            -33.64858311435557,
            -33.64864113853047,
            -33.64869756751202,
            -33.648752470683455,
            -33.64880591424835,
            -33.64885796141262
           ],
           "legendgroup": "No",
           "lon": [
            -175.75306047489403,
            -178.26004685668283,
            179.23297056206394,
            176.72599163898408,
            174.2190162386837,
            171.71204423228514
           ],
           "marker": {
            "color": "#636efa",
            "opacity": 0.3,
            "symbol": "circle"
           },
           "mode": "markers",
           "name": "No",
           "showlegend": true,
           "type": "scattergeo"
          }
         ],
         "name": "12"
        },
        {
         "data": [
          {
           "customdata": [
            [
             -51.22885849943667,
             44.550005911885435
            ],
            [
             -50.5485379376541,
             47.67723861896786
            ],
            [
             -49.83388497195765,
             50.73954073945264
            ],
            [
             -49.08763399861757,
             53.737776786177626
            ],
            [
             -48.31246707027629,
             56.673282114789686
            ],
            [
             -47.51099979214551,
             59.547779514432705
            ]
           ],
           "geo": "geo",
           "hovertemplate": "visible=No<br>hour=13<br>latitude=%{lat}<br>longitude=%{lon}<br>elevation=%{customdata[0]}<br>azimuth=%{customdata[1]}<extra></extra>",
           "lat": [
            -33.648908672561134,
            -33.64895810537866,
            -33.64900631504395,
            -33.649053354321566,
            -33.64909927369543,
            -33.64914412148104
           ],
           "legendgroup": "No",
           "lon": [
            169.20507549702182,
            166.69810991583276,
            164.1911473770388,
            161.6841877739928,
            159.17723100477863,
            156.67027697193126
           ],
           "marker": {
            "color": "#636efa",
            "opacity": 0.3,
            "symbol": "circle"
           },
           "mode": "markers",
           "name": "No",
           "showlegend": true,
           "type": "scattergeo"
          }
         ],
         "name": "13"
        },
        {
         "data": [
          {
           "customdata": [
            [
             -46.68577097244621,
             62.36330192064995
            ],
            [
             -45.83923554866801,
             65.12212248833514
            ],
            [
             -44.973760299932046,
             67.82669262321014
            ],
            [
             -44.091621870940166,
             70.47958807594426
            ],
            [
             -43.19500666689477,
             73.08346284334839
            ],
            [
             -42.28601222267783,
             75.64101037797167
            ]
           ],
           "geo": "geo",
           "hovertemplate": "visible=No<br>hour=14<br>latitude=%{lat}<br>longitude=%{lon}<br>elevation=%{customdata[0]}<br>azimuth=%{customdata[1]}<extra></extra>",
           "lat": [
            -33.649187943938585,
            -33.64923078533504,
            -33.64927268808609,
            -33.64931369279844,
            -33.64935383835903,
            -33.64939316200668
           ],
           "legendgroup": "No",
           "lon": [
            154.16332558217613,
            151.65637674616843,
            149.14943037829303,
            146.6424863964316,
            144.1355447217761,
            141.62860527863782
           ],
           "marker": {
            "color": "#636efa",
            "opacity": 0.3,
            "symbol": "circle"
           },
           "mode": "markers",
           "name": "No",
           "showlegend": true,
           "type": "scattergeo"
          }
         ],
         "name": "14"
        },
        {
         "data": [
          {
           "customdata": [
            [
             -41.3666496986854,
             78.1549314594878
            ],
            [
             -40.43884720529828,
             80.62790800740484
            ],
            [
             -39.5044537057643,
             83.06258209528949
            ],
            [
             -38.56524329059697,
             85.46153944568042
            ],
            [
             -37.62291965591437,
             87.82729672863404
            ],
            [
             -36.67912065170141,
             90.16229204540392
            ]
           ],
           "geo": "geo",
           "hovertemplate": "visible=No<br>hour=15<br>latitude=%{lat}<br>longitude=%{lon}<br>elevation=%{customdata[0]}<br>azimuth=%{customdata[1]}<extra></extra>",
           "lat": [
            -33.64943169940785,
            -33.64946948468413,
            -33.64950655052375,
            -33.64954292819461,
            -33.649578647607605,
            -33.64961373736411
           ],
           "legendgroup": "No",
           "lon": [
            139.12166799429076,
            136.61473279878516,
            134.10779962483858,
            131.60086840766465,
            129.09393908485723,
            126.5870115962668
           ],
           "marker": {
            "color": "#636efa",
            "opacity": 0.3,
            "symbol": "circle"
           },
           "mode": "markers",
           "name": "No",
           "showlegend": true,
           "type": "scattergeo"
          }
         ],
         "name": "15"
        },
        {
         "data": [
          {
           "customdata": [
            [
             -35.73542279487559,
             92.46887804429126
            ],
            [
             -34.79334566600169,
             94.74931718304855
            ],
            [
             -33.85435612853145,
             97.00577871761973
            ],
            [
             -32.91987232513891,
             99.24033705835625
            ],
            [
             -31.99126741896184,
             101.4549711908096
            ],
            [
             -31.069873057465482,
             103.65156490827073
            ]
           ],
           "geo": "geo",
           "hovertemplate": "visible=No<br>hour=16<br>latitude=%{lat}<br>longitude=%{lon}<br>elevation=%{customdata[0]}<br>azimuth=%{customdata[1]}<extra></extra>",
           "lat": [
            -33.64964822481032,
            -33.6496821360438,
            -33.64971549600788,
            -33.64974832848718,
            -33.64978065615599,
            -33.64981250061191
           ],
           "legendgroup": "No",
           "lon": [
            124.08008588389882,
            121.57316189178212,
            119.06623956590583,
            116.55931885410283,
            114.05239970597148,
            111.5454820727943
           ],
           "marker": {
            "color": "#636efa",
            "opacity": 0.3,
            "symbol": "circle"
           },
           "mode": "markers",
           "name": "No",
           "showlegend": true,
           "type": "scattergeo"
          }
         ],
         "name": "16"
        },
        {
         "data": [
          {
           "customdata": [
            [
             -30.15698254466825,
             105.83190764732255
            ],
            [
             -29.25385371346674,
             107.99769575606882
            ],
            [
             -28.361711494656824,
             110.15053405775241
            ],
            [
             -27.481750182363506,
             112.29193760078034
            ],
            [
             -26.615135398557175,
             114.42333351025239
            ],
            [
             -25.763005761029262,
             116.5460628764098
            ]
           ],
           "geo": "geo",
           "hovertemplate": "visible=No<br>hour=17<br>latitude=%{lat}<br>longitude=%{lon}<br>elevation=%{customdata[0]}<br>azimuth=%{customdata[1]}<extra></extra>",
           "lat": [
            -33.64984388241767,
            -33.64987482109567,
            -33.649905335213,
            -33.649935442366704,
            -33.6499651592239,
            -33.649994501547816
           ],
           "legendgroup": "No",
           "lon": [
            109.03856590747358,
            106.53165116443552,
            104.02473779959735,
            101.51782577028752,
            99.010915035187,
            96.50400555428384
           ],
           "marker": {
            "color": "#636efa",
            "opacity": 0.3,
            "symbol": "circle"
           },
           "mode": "markers",
           "name": "No",
           "showlegend": true,
           "type": "scattergeo"
          }
         ],
         "name": "17"
        },
        {
         "data": [
          {
           "customdata": [
            [
             -24.926474260711323,
             118.66138263265755
            ],
            [
             -24.1066293552369,
             120.77046739024274
            ],
            [
             -23.30453578672633,
             122.87441120881637
            ],
            [
             -22.52123513213528,
             124.97422929232879
            ],
            [
             -21.757746095600492,
             127.07085960816563
            ],
            [
             -21.0150645526341,
             129.1651644346007
            ]
           ],
           "geo": "geo",
           "hovertemplate": "visible=No<br>hour=18<br>latitude=%{lat}<br>longitude=%{lon}<br>elevation=%{customdata[0]}<br>azimuth=%{customdata[1]}<extra></extra>",
           "lat": [
            -33.650023484232776,
            -33.650052121292084,
            -33.65008042593814,
            -33.65010841056238,
            -33.650136086770914,
            -33.650163465406926
           ],
           "legendgroup": "No",
           "lon": [
            93.99709728882542,
            91.49019020124867,
            88.98328425517427,
            86.47637941533213,
            83.96947564754157,
            81.46257291866624
           ],
           "marker": {
            "color": "#636efa",
            "opacity": 0.3,
            "symbol": "circle"
           },
           "mode": "markers",
           "name": "No",
           "showlegend": true,
           "type": "scattergeo"
          }
         ],
         "name": "18"
        },
        {
         "data": [
          {
           "customdata": [
            [
             -20.29416335688602,
             131.25793184745453
            ],
            [
             -19.595991920909043,
             133.34987716170573
            ],
            [
             -18.921475583495752,
             135.44164434764497
            ],
            [
             -18.27151477680785,
             137.53380744419218
            ],
            [
             -17.64698400800818,
             139.62687199422135
            ],
            [
             -17.0487306710648,
             141.72127652820137
            ]
           ],
           "geo": "geo",
           "hovertemplate": "visible=No<br>hour=19<br>latitude=%{lat}<br>longitude=%{lon}<br>elevation=%{customdata[0]}<br>azimuth=%{customdata[1]}<extra></extra>",
           "lat": [
            -33.65019055658206,
            -33.650217369661064,
            -33.650243913339935,
            -33.650270195622795,
            -33.65029622385614,
            -33.650322004749164
           ],
           "legendgroup": "No",
           "lon": [
            78.95567119658894,
            76.4487704501618,
            73.94187064920371,
            71.43497176445373,
            68.92807376754604,
            66.42117663099171
           ],
           "marker": {
            "color": "#636efa",
            "opacity": 0.3,
            "symbol": "circle"
           },
           "mode": "markers",
           "name": "No",
           "showlegend": true,
           "type": "scattergeo"
          }
         ],
         "name": "19"
        },
        {
         "data": [
          {
           "customdata": [
            [
             -16.47757370574978,
             143.81739412326033
            ],
            [
             -15.934302122083055,
             145.91553406480264
            ],
            [
             -15.419673409968372,
             148.01594363724428
            ],
            [
             -14.934411854696277,
             150.11881006908146
            ],
            [
             -14.479206780525157,
             152.2242626556378
            ],
            [
             -14.054710745383495,
             154.33237508019403
            ]
           ],
           "geo": "geo",
           "hovertemplate": "visible=No<br>hour=20<br>latitude=%{lat}<br>longitude=%{lon}<br>elevation=%{customdata[0]}<br>azimuth=%{customdata[1]}<extra></extra>",
           "lat": [
            -33.65034754440419,
            -33.65037284829928,
            -33.6503979213664,
            -33.65042276796688,
            -33.65044739192517,
            -33.6504717965485
           ],
           "legendgroup": "No",
           "lon": [
            63.91428032815188,
            61.40738483321194,
            58.90049012117027,
            56.3935961678153,
            53.886702949700755,
            51.37981044413553
           ],
           "marker": {
            "color": "#636efa",
            "opacity": 0.3,
            "symbol": "circle"
           },
           "mode": "markers",
           "name": "No",
           "showlegend": true,
           "type": "scattergeo"
          }
         ],
         "name": "20"
        },
        {
         "data": [
          {
           "customdata": [
            [
             -13.66153771069582,
             156.44316795110197
            ],
            [
             -13.300261210905267,
             158.55661156873992
            ],
            [
             -12.97141254786064,
             160.67262893200436
            ],
            [
             -12.675479034918979,
             162.79109898945006
            ],
            [
             -12.412902315727067,
             164.91186013530387
            ],
            [
             -12.1840767817179,
             167.03471394553907
            ]
           ],
           "geo": "geo",
           "hovertemplate": "visible=No<br>hour=21<br>latitude=%{lat}<br>longitude=%{lon}<br>elevation=%{customdata[0]}<br>azimuth=%{customdata[1]}<extra></extra>",
           "lat": [
            -33.65049598465795,
            -33.65051995856723,
            -33.65054372016611,
            -33.650567270891855,
            -33.650590611763796,
            -33.65061374340308
           ],
           "legendgroup": "No",
           "lon": [
            48.8729186291656,
            46.36602748355138,
            43.85913698676688,
            41.352247118972194,
            38.84535786100716,
            36.3384691943723
           ],
           "marker": {
            "color": "#636efa",
            "opacity": 0.3,
            "symbol": "circle"
           },
           "mode": "markers",
           "name": "No",
           "showlegend": true,
           "type": "scattergeo"
          }
         ],
         "name": "21"
        },
        {
         "data": [
          {
           "customdata": [
            [
             -11.989348111403935,
             169.15942914404084
            ],
            [
             -11.829011953008058,
             171.2857457839025
            ],
            [
             -11.703312770277545,
             173.4133796239771
            ],
            [
             -11.612442868813108,
             175.54202667645467
            ],
            [
             -11.556541617940987,
             177.67136789711498
            ],
            [
             -11.535694880075662,
             179.80107398664774
            ]
           ],
           "geo": "geo",
           "hovertemplate": "visible=No<br>hour=22<br>latitude=%{lat}<br>longitude=%{lon}<br>elevation=%{customdata[0]}<br>azimuth=%{customdata[1]}<extra></extra>",
           "lat": [
            -33.65063666606094,
            -33.650659379609394,
            -33.65068188360491,
            -33.65070417727392,
            -33.6507262595436,
            -33.6507481290615
           ],
           "legendgroup": "No",
           "lon": [
            33.83158110122627,
            31.324693564354625,
            28.817806567184928,
            26.310920093749793,
            23.804034128691217,
            21.297148657243977
           ],
           "marker": {
            "color": "#636efa",
            "opacity": 0.3,
            "symbol": "circle"
           },
           "mode": "markers",
           "name": "No",
           "showlegend": true,
           "type": "scattergeo"
          }
         ],
         "name": "22"
        }
       ],
       "layout": {
        "geo": {
         "center": {},
         "domain": {
          "x": [
           0,
           1
          ],
          "y": [
           0,
           1
          ]
         },
         "projection": {
          "type": "orthographic"
         }
        },
        "legend": {
         "title": {
          "text": "visible"
         },
         "tracegroupgap": 0
        },
        "margin": {
         "t": 60
        },
        "sliders": [
         {
          "active": 0,
          "currentvalue": {
           "prefix": "hour="
          },
          "len": 0.9,
          "pad": {
           "b": 10,
           "t": 60
          },
          "steps": [
           {
            "args": [
             [
              "23"
             ],
             {
              "frame": {
               "duration": 0,
               "redraw": true
              },
              "fromcurrent": true,
              "mode": "immediate",
              "transition": {
               "duration": 0,
               "easing": "linear"
              }
             }
            ],
            "label": "23",
            "method": "animate"
           },
           {
            "args": [
             [
              "0"
             ],
             {
              "frame": {
               "duration": 0,
               "redraw": true
              },
              "fromcurrent": true,
              "mode": "immediate",
              "transition": {
               "duration": 0,
               "easing": "linear"
              }
             }
            ],
            "label": "0",
            "method": "animate"
           },
           {
            "args": [
             [
              "1"
             ],
             {
              "frame": {
               "duration": 0,
               "redraw": true
              },
              "fromcurrent": true,
              "mode": "immediate",
              "transition": {
               "duration": 0,
               "easing": "linear"
              }
             }
            ],
            "label": "1",
            "method": "animate"
           },
           {
            "args": [
             [
              "2"
             ],
             {
              "frame": {
               "duration": 0,
               "redraw": true
              },
              "fromcurrent": true,
              "mode": "immediate",
              "transition": {
               "duration": 0,
               "easing": "linear"
              }
             }
            ],
            "label": "2",
            "method": "animate"
           },
           {
            "args": [
             [
              "3"
             ],
             {
              "frame": {
               "duration": 0,
               "redraw": true
              },
              "fromcurrent": true,
              "mode": "immediate",
              "transition": {
               "duration": 0,
               "easing": "linear"
              }
             }
            ],
            "label": "3",
            "method": "animate"
           },
           {
            "args": [
             [
              "4"
             ],
             {
              "frame": {
               "duration": 0,
               "redraw": true
              },
              "fromcurrent": true,
              "mode": "immediate",
              "transition": {
               "duration": 0,
               "easing": "linear"
              }
             }
            ],
            "label": "4",
            "method": "animate"
           },
           {
            "args": [
             [
              "5"
             ],
             {
              "frame": {
               "duration": 0,
               "redraw": true
              },
              "fromcurrent": true,
              "mode": "immediate",
              "transition": {
               "duration": 0,
               "easing": "linear"
              }
             }
            ],
            "label": "5",
            "method": "animate"
           },
           {
            "args": [
             [
              "6"
             ],
             {
              "frame": {
               "duration": 0,
               "redraw": true
              },
              "fromcurrent": true,
              "mode": "immediate",
              "transition": {
               "duration": 0,
               "easing": "linear"
              }
             }
            ],
            "label": "6",
            "method": "animate"
           },
           {
            "args": [
             [
              "7"
             ],
             {
              "frame": {
               "duration": 0,
               "redraw": true
              },
              "fromcurrent": true,
              "mode": "immediate",
              "transition": {
               "duration": 0,
               "easing": "linear"
              }
             }
            ],
            "label": "7",
            "method": "animate"
           },
           {
            "args": [
             [
              "8"
             ],
             {
              "frame": {
               "duration": 0,
               "redraw": true
              },
              "fromcurrent": true,
              "mode": "immediate",
              "transition": {
               "duration": 0,
               "easing": "linear"
              }
             }
            ],
            "label": "8",
            "method": "animate"
           },
           {
            "args": [
             [
              "9"
             ],
             {
              "frame": {
               "duration": 0,
               "redraw": true
              },
              "fromcurrent": true,
              "mode": "immediate",
              "transition": {
               "duration": 0,
               "easing": "linear"
              }
             }
            ],
            "label": "9",
            "method": "animate"
           },
           {
            "args": [
             [
              "10"
             ],
             {
              "frame": {
               "duration": 0,
               "redraw": true
              },
              "fromcurrent": true,
              "mode": "immediate",
              "transition": {
               "duration": 0,
               "easing": "linear"
              }
             }
            ],
            "label": "10",
            "method": "animate"
           },
           {
            "args": [
             [
              "11"
             ],
             {
              "frame": {
               "duration": 0,
               "redraw": true
              },
              "fromcurrent": true,
              "mode": "immediate",
              "transition": {
               "duration": 0,
               "easing": "linear"
              }
             }
            ],
            "label": "11",
            "method": "animate"
           },
           {
            "args": [
             [
              "12"
             ],
             {
              "frame": {
               "duration": 0,
               "redraw": true
              },
              "fromcurrent": true,
              "mode": "immediate",
              "transition": {
               "duration": 0,
               "easing": "linear"
              }
             }
            ],
            "label": "12",
            "method": "animate"
           },
           {
            "args": [
             [
              "13"
             ],
             {
              "frame": {
               "duration": 0,
               "redraw": true
              },
              "fromcurrent": true,
              "mode": "immediate",
              "transition": {
               "duration": 0,
               "easing": "linear"
              }
             }
            ],
            "label": "13",
            "method": "animate"
           },
           {
            "args": [
             [
              "14"
             ],
             {
              "frame": {
               "duration": 0,
               "redraw": true
              },
              "fromcurrent": true,
              "mode": "immediate",
              "transition": {
               "duration": 0,
               "easing": "linear"
              }
             }
            ],
            "label": "14",
            "method": "animate"
           },
           {
            "args": [
             [
              "15"
             ],
             {
              "frame": {
               "duration": 0,
               "redraw": true
              },
              "fromcurrent": true,
              "mode": "immediate",
              "transition": {
               "duration": 0,
               "easing": "linear"
              }
             }
            ],
            "label": "15",
            "method": "animate"
           },
           {
            "args": [
             [
              "16"
             ],
             {
              "frame": {
               "duration": 0,
               "redraw": true
              },
              "fromcurrent": true,
              "mode": "immediate",
              "transition": {
               "duration": 0,
               "easing": "linear"
              }
             }
            ],
            "label": "16",
            "method": "animate"
           },
           {
            "args": [
             [
              "17"
             ],
             {
              "frame": {
               "duration": 0,
               "redraw": true
              },
              "fromcurrent": true,
              "mode": "immediate",
              "transition": {
               "duration": 0,
               "easing": "linear"
              }
             }
            ],
            "label": "17",
            "method": "animate"
           },
           {
            "args": [
             [
              "18"
             ],
             {
              "frame": {
               "duration": 0,
               "redraw": true
              },
              "fromcurrent": true,
              "mode": "immediate",
              "transition": {
               "duration": 0,
               "easing": "linear"
              }
             }
            ],
            "label": "18",
            "method": "animate"
           },
           {
            "args": [
             [
              "19"
             ],
             {
              "frame": {
               "duration": 0,
               "redraw": true
              },
              "fromcurrent": true,
              "mode": "immediate",
              "transition": {
               "duration": 0,
               "easing": "linear"
              }
             }
            ],
            "label": "19",
            "method": "animate"
           },
           {
            "args": [
             [
              "20"
             ],
             {
              "frame": {
               "duration": 0,
               "redraw": true
              },
              "fromcurrent": true,
              "mode": "immediate",
              "transition": {
               "duration": 0,
               "easing": "linear"
              }
             }
            ],
            "label": "20",
            "method": "animate"
           },
           {
            "args": [
             [
              "21"
             ],
             {
              "frame": {
               "duration": 0,
               "redraw": true
              },
              "fromcurrent": true,
              "mode": "immediate",
              "transition": {
               "duration": 0,
               "easing": "linear"
              }
             }
            ],
            "label": "21",
            "method": "animate"
           },
           {
            "args": [
             [
              "22"
             ],
             {
              "frame": {
               "duration": 0,
               "redraw": true
              },
              "fromcurrent": true,
              "mode": "immediate",
              "transition": {
               "duration": 0,
               "easing": "linear"
              }
             }
            ],
            "label": "22",
            "method": "animate"
           }
          ],
          "x": 0.1,
          "xanchor": "left",
          "y": 0,
          "yanchor": "top"
         }
        ],
        "template": {
         "data": {
          "bar": [
           {
            "error_x": {
             "color": "#2a3f5f"
            },
            "error_y": {
             "color": "#2a3f5f"
            },
            "marker": {
             "line": {
              "color": "#E5ECF6",
              "width": 0.5
             },
             "pattern": {
              "fillmode": "overlay",
              "size": 10,
              "solidity": 0.2
             }
            },
            "type": "bar"
           }
          ],
          "barpolar": [
           {
            "marker": {
             "line": {
              "color": "#E5ECF6",
              "width": 0.5
             },
             "pattern": {
              "fillmode": "overlay",
              "size": 10,
              "solidity": 0.2
             }
            },
            "type": "barpolar"
           }
          ],
          "carpet": [
           {
            "aaxis": {
             "endlinecolor": "#2a3f5f",
             "gridcolor": "white",
             "linecolor": "white",
             "minorgridcolor": "white",
             "startlinecolor": "#2a3f5f"
            },
            "baxis": {
             "endlinecolor": "#2a3f5f",
             "gridcolor": "white",
             "linecolor": "white",
             "minorgridcolor": "white",
             "startlinecolor": "#2a3f5f"
            },
            "type": "carpet"
           }
          ],
          "choropleth": [
           {
            "colorbar": {
             "outlinewidth": 0,
             "ticks": ""
            },
            "type": "choropleth"
           }
          ],
          "contour": [
           {
            "colorbar": {
             "outlinewidth": 0,
             "ticks": ""
            },
            "colorscale": [
             [
              0,
              "#0d0887"
             ],
             [
              0.1111111111111111,
              "#46039f"
             ],
             [
              0.2222222222222222,
              "#7201a8"
             ],
             [
              0.3333333333333333,
              "#9c179e"
             ],
             [
              0.4444444444444444,
              "#bd3786"
             ],
             [
              0.5555555555555556,
              "#d8576b"
             ],
             [
              0.6666666666666666,
              "#ed7953"
             ],
             [
              0.7777777777777778,
              "#fb9f3a"
             ],
             [
              0.8888888888888888,
              "#fdca26"
             ],
             [
              1,
              "#f0f921"
             ]
            ],
            "type": "contour"
           }
          ],
          "contourcarpet": [
           {
            "colorbar": {
             "outlinewidth": 0,
             "ticks": ""
            },
            "type": "contourcarpet"
           }
          ],
          "heatmap": [
           {
            "colorbar": {
             "outlinewidth": 0,
             "ticks": ""
            },
            "colorscale": [
             [
              0,
              "#0d0887"
             ],
             [
              0.1111111111111111,
              "#46039f"
             ],
             [
              0.2222222222222222,
              "#7201a8"
             ],
             [
              0.3333333333333333,
              "#9c179e"
             ],
             [
              0.4444444444444444,
              "#bd3786"
             ],
             [
              0.5555555555555556,
              "#d8576b"
             ],
             [
              0.6666666666666666,
              "#ed7953"
             ],
             [
              0.7777777777777778,
              "#fb9f3a"
             ],
             [
              0.8888888888888888,
              "#fdca26"
             ],
             [
              1,
              "#f0f921"
             ]
            ],
            "type": "heatmap"
           }
          ],
          "heatmapgl": [
           {
            "colorbar": {
             "outlinewidth": 0,
             "ticks": ""
            },
            "colorscale": [
             [
              0,
              "#0d0887"
             ],
             [
              0.1111111111111111,
              "#46039f"
             ],
             [
              0.2222222222222222,
              "#7201a8"
             ],
             [
              0.3333333333333333,
              "#9c179e"
             ],
             [
              0.4444444444444444,
              "#bd3786"
             ],
             [
              0.5555555555555556,
              "#d8576b"
             ],
             [
              0.6666666666666666,
              "#ed7953"
             ],
             [
              0.7777777777777778,
              "#fb9f3a"
             ],
             [
              0.8888888888888888,
              "#fdca26"
             ],
             [
              1,
              "#f0f921"
             ]
            ],
            "type": "heatmapgl"
           }
          ],
          "histogram": [
           {
            "marker": {
             "pattern": {
              "fillmode": "overlay",
              "size": 10,
              "solidity": 0.2
             }
            },
            "type": "histogram"
           }
          ],
          "histogram2d": [
           {
            "colorbar": {
             "outlinewidth": 0,
             "ticks": ""
            },
            "colorscale": [
             [
              0,
              "#0d0887"
             ],
             [
              0.1111111111111111,
              "#46039f"
             ],
             [
              0.2222222222222222,
              "#7201a8"
             ],
             [
              0.3333333333333333,
              "#9c179e"
             ],
             [
              0.4444444444444444,
              "#bd3786"
             ],
             [
              0.5555555555555556,
              "#d8576b"
             ],
             [
              0.6666666666666666,
              "#ed7953"
             ],
             [
              0.7777777777777778,
              "#fb9f3a"
             ],
             [
              0.8888888888888888,
              "#fdca26"
             ],
             [
              1,
              "#f0f921"
             ]
            ],
            "type": "histogram2d"
           }
          ],
          "histogram2dcontour": [
           {
            "colorbar": {
             "outlinewidth": 0,
             "ticks": ""
            },
            "colorscale": [
             [
              0,
              "#0d0887"
             ],
             [
              0.1111111111111111,
              "#46039f"
             ],
             [
              0.2222222222222222,
              "#7201a8"
             ],
             [
              0.3333333333333333,
              "#9c179e"
             ],
             [
              0.4444444444444444,
              "#bd3786"
             ],
             [
              0.5555555555555556,
              "#d8576b"
             ],
             [
              0.6666666666666666,
              "#ed7953"
             ],
             [
              0.7777777777777778,
              "#fb9f3a"
             ],
             [
              0.8888888888888888,
              "#fdca26"
             ],
             [
              1,
              "#f0f921"
             ]
            ],
            "type": "histogram2dcontour"
           }
          ],
          "mesh3d": [
           {
            "colorbar": {
             "outlinewidth": 0,
             "ticks": ""
            },
            "type": "mesh3d"
           }
          ],
          "parcoords": [
           {
            "line": {
             "colorbar": {
              "outlinewidth": 0,
              "ticks": ""
             }
            },
            "type": "parcoords"
           }
          ],
          "pie": [
           {
            "automargin": true,
            "type": "pie"
           }
          ],
          "scatter": [
           {
            "marker": {
             "colorbar": {
              "outlinewidth": 0,
              "ticks": ""
             }
            },
            "type": "scatter"
           }
          ],
          "scatter3d": [
           {
            "line": {
             "colorbar": {
              "outlinewidth": 0,
              "ticks": ""
             }
            },
            "marker": {
             "colorbar": {
              "outlinewidth": 0,
              "ticks": ""
             }
            },
            "type": "scatter3d"
           }
          ],
          "scattercarpet": [
           {
            "marker": {
             "colorbar": {
              "outlinewidth": 0,
              "ticks": ""
             }
            },
            "type": "scattercarpet"
           }
          ],
          "scattergeo": [
           {
            "marker": {
             "colorbar": {
              "outlinewidth": 0,
              "ticks": ""
             }
            },
            "type": "scattergeo"
           }
          ],
          "scattergl": [
           {
            "marker": {
             "colorbar": {
              "outlinewidth": 0,
              "ticks": ""
             }
            },
            "type": "scattergl"
           }
          ],
          "scattermapbox": [
           {
            "marker": {
             "colorbar": {
              "outlinewidth": 0,
              "ticks": ""
             }
            },
            "type": "scattermapbox"
           }
          ],
          "scatterpolar": [
           {
            "marker": {
             "colorbar": {
              "outlinewidth": 0,
              "ticks": ""
             }
            },
            "type": "scatterpolar"
           }
          ],
          "scatterpolargl": [
           {
            "marker": {
             "colorbar": {
              "outlinewidth": 0,
              "ticks": ""
             }
            },
            "type": "scatterpolargl"
           }
          ],
          "scatterternary": [
           {
            "marker": {
             "colorbar": {
              "outlinewidth": 0,
              "ticks": ""
             }
            },
            "type": "scatterternary"
           }
          ],
          "surface": [
           {
            "colorbar": {
             "outlinewidth": 0,
             "ticks": ""
            },
            "colorscale": [
             [
              0,
              "#0d0887"
             ],
             [
              0.1111111111111111,
              "#46039f"
             ],
             [
              0.2222222222222222,
              "#7201a8"
             ],
             [
              0.3333333333333333,
              "#9c179e"
             ],
             [
              0.4444444444444444,
              "#bd3786"
             ],
             [
              0.5555555555555556,
              "#d8576b"
             ],
             [
              0.6666666666666666,
              "#ed7953"
             ],
             [
              0.7777777777777778,
              "#fb9f3a"
             ],
             [
              0.8888888888888888,
              "#fdca26"
             ],
             [
              1,
              "#f0f921"
             ]
            ],
            "type": "surface"
           }
          ],
          "table": [
           {
            "cells": {
             "fill": {
              "color": "#EBF0F8"
             },
             "line": {
              "color": "white"
             }
            },
            "header": {
             "fill": {
              "color": "#C8D4E3"
             },
             "line": {
              "color": "white"
             }
            },
            "type": "table"
           }
          ]
         },
         "layout": {
          "annotationdefaults": {
           "arrowcolor": "#2a3f5f",
           "arrowhead": 0,
           "arrowwidth": 1
          },
          "autotypenumbers": "strict",
          "coloraxis": {
           "colorbar": {
            "outlinewidth": 0,
            "ticks": ""
           }
          },
          "colorscale": {
           "diverging": [
            [
             0,
             "#8e0152"
            ],
            [
             0.1,
             "#c51b7d"
            ],
            [
             0.2,
             "#de77ae"
            ],
            [
             0.3,
             "#f1b6da"
            ],
            [
             0.4,
             "#fde0ef"
            ],
            [
             0.5,
             "#f7f7f7"
            ],
            [
             0.6,
             "#e6f5d0"
            ],
            [
             0.7,
             "#b8e186"
            ],
            [
             0.8,
             "#7fbc41"
            ],
            [
             0.9,
             "#4d9221"
            ],
            [
             1,
             "#276419"
            ]
           ],
           "sequential": [
            [
             0,
             "#0d0887"
            ],
            [
             0.1111111111111111,
             "#46039f"
            ],
            [
             0.2222222222222222,
             "#7201a8"
            ],
            [
             0.3333333333333333,
             "#9c179e"
            ],
            [
             0.4444444444444444,
             "#bd3786"
            ],
            [
             0.5555555555555556,
             "#d8576b"
            ],
            [
             0.6666666666666666,
             "#ed7953"
            ],
            [
             0.7777777777777778,
             "#fb9f3a"
            ],
            [
             0.8888888888888888,
             "#fdca26"
            ],
            [
             1,
             "#f0f921"
            ]
           ],
           "sequentialminus": [
            [
             0,
             "#0d0887"
            ],
            [
             0.1111111111111111,
             "#46039f"
            ],
            [
             0.2222222222222222,
             "#7201a8"
            ],
            [
             0.3333333333333333,
             "#9c179e"
            ],
            [
             0.4444444444444444,
             "#bd3786"
            ],
            [
             0.5555555555555556,
             "#d8576b"
            ],
            [
             0.6666666666666666,
             "#ed7953"
            ],
            [
             0.7777777777777778,
             "#fb9f3a"
            ],
            [
             0.8888888888888888,
             "#fdca26"
            ],
            [
             1,
             "#f0f921"
            ]
           ]
          },
          "colorway": [
           "#636efa",
           "#EF553B",
           "#00cc96",
           "#ab63fa",
           "#FFA15A",
           "#19d3f3",
           "#FF6692",
           "#B6E880",
           "#FF97FF",
           "#FECB52"
          ],
          "font": {
           "color": "#2a3f5f"
          },
          "geo": {
           "bgcolor": "white",
           "lakecolor": "white",
           "landcolor": "#E5ECF6",
           "showlakes": true,
           "showland": true,
           "subunitcolor": "white"
          },
          "hoverlabel": {
           "align": "left"
          },
          "hovermode": "closest",
          "mapbox": {
           "style": "light"
          },
          "paper_bgcolor": "white",
          "plot_bgcolor": "#E5ECF6",
          "polar": {
           "angularaxis": {
            "gridcolor": "white",
            "linecolor": "white",
            "ticks": ""
           },
           "bgcolor": "#E5ECF6",
           "radialaxis": {
            "gridcolor": "white",
            "linecolor": "white",
            "ticks": ""
           }
          },
          "scene": {
           "xaxis": {
            "backgroundcolor": "#E5ECF6",
            "gridcolor": "white",
            "gridwidth": 2,
            "linecolor": "white",
            "showbackground": true,
            "ticks": "",
            "zerolinecolor": "white"
           },
           "yaxis": {
            "backgroundcolor": "#E5ECF6",
            "gridcolor": "white",
            "gridwidth": 2,
            "linecolor": "white",
            "showbackground": true,
            "ticks": "",
            "zerolinecolor": "white"
           },
           "zaxis": {
            "backgroundcolor": "#E5ECF6",
            "gridcolor": "white",
            "gridwidth": 2,
            "linecolor": "white",
            "showbackground": true,
            "ticks": "",
            "zerolinecolor": "white"
           }
          },
          "shapedefaults": {
           "line": {
            "color": "#2a3f5f"
           }
          },
          "ternary": {
           "aaxis": {
            "gridcolor": "white",
            "linecolor": "white",
            "ticks": ""
           },
           "baxis": {
            "gridcolor": "white",
            "linecolor": "white",
            "ticks": ""
           },
           "bgcolor": "#E5ECF6",
           "caxis": {
            "gridcolor": "white",
            "linecolor": "white",
            "ticks": ""
           }
          },
          "title": {
           "x": 0.05
          },
          "xaxis": {
           "automargin": true,
           "gridcolor": "white",
           "linecolor": "white",
           "ticks": "",
           "title": {
            "standoff": 15
           },
           "zerolinecolor": "white",
           "zerolinewidth": 2
          },
          "yaxis": {
           "automargin": true,
           "gridcolor": "white",
           "linecolor": "white",
           "ticks": "",
           "title": {
            "standoff": 15
           },
           "zerolinecolor": "white",
           "zerolinewidth": 2
          }
         }
        },
        "updatemenus": [
         {
          "buttons": [
           {
            "args": [
             null,
             {
              "frame": {
               "duration": 500,
               "redraw": true
              },
              "fromcurrent": true,
              "mode": "immediate",
              "transition": {
               "duration": 500,
               "easing": "linear"
              }
             }
            ],
            "label": "&#9654;",
            "method": "animate"
           },
           {
            "args": [
             [
              null
             ],
             {
              "frame": {
               "duration": 0,
               "redraw": true
              },
              "fromcurrent": true,
              "mode": "immediate",
              "transition": {
               "duration": 0,
               "easing": "linear"
              }
             }
            ],
            "label": "&#9724;",
            "method": "animate"
           }
          ],
          "direction": "left",
          "pad": {
           "r": 10,
           "t": 70
          },
          "showactive": false,
          "type": "buttons",
          "x": 0.1,
          "xanchor": "right",
          "y": 0,
          "yanchor": "top"
         }
        ]
       }
      },
      "text/html": [
       "<div>                            <div id=\"7306deb5-3f19-40d6-a809-e5e49436846b\" class=\"plotly-graph-div\" style=\"height:525px; width:100%;\"></div>            <script type=\"text/javascript\">                require([\"plotly\"], function(Plotly) {                    window.PLOTLYENV=window.PLOTLYENV || {};                                    if (document.getElementById(\"7306deb5-3f19-40d6-a809-e5e49436846b\")) {                    Plotly.newPlot(                        \"7306deb5-3f19-40d6-a809-e5e49436846b\",                        [{\"customdata\":[[-32.1423861816526,142.4337231135884],[-12.436769470243426,188.94694082237015],[-12.331295386906987,191.41016589996448],[-11.549934656454887,181.93081026870942],[-11.599238954714336,184.0602416085733],[-11.683531880517288,186.1890373352108],[-11.802683951610913,188.31687612962398],[-11.956512629574753,190.4434508429899]],\"geo\":\"geo\",\"hovertemplate\":\"visible=No<br>hour=23<br>latitude=%{lat}<br>longitude=%{lon}<br>elevation=%{customdata[0]}<br>azimuth=%{customdata[1]}<extra></extra>\",\"lat\":[-0.2805343880709552,-33.292834935793046,-33.474948747579695,-33.650769784225076,-33.65079122316354,-33.65081244381623,-33.65083344390747,-33.65085422097908],\"legendgroup\":\"No\",\"lon\":[56.52442628768894,10.557927451875905,7.641924216132677,18.790263665226078,16.28337913902171,13.77649506558584,11.269611432421623,8.762728227572865],\"marker\":{\"color\":\"#636efa\",\"opacity\":0.3,\"symbol\":\"circle\"},\"mode\":\"markers\",\"name\":\"No\",\"showlegend\":true,\"type\":\"scattergeo\"}],                        {\"template\":{\"data\":{\"bar\":[{\"error_x\":{\"color\":\"#2a3f5f\"},\"error_y\":{\"color\":\"#2a3f5f\"},\"marker\":{\"line\":{\"color\":\"#E5ECF6\",\"width\":0.5},\"pattern\":{\"fillmode\":\"overlay\",\"size\":10,\"solidity\":0.2}},\"type\":\"bar\"}],\"barpolar\":[{\"marker\":{\"line\":{\"color\":\"#E5ECF6\",\"width\":0.5},\"pattern\":{\"fillmode\":\"overlay\",\"size\":10,\"solidity\":0.2}},\"type\":\"barpolar\"}],\"carpet\":[{\"aaxis\":{\"endlinecolor\":\"#2a3f5f\",\"gridcolor\":\"white\",\"linecolor\":\"white\",\"minorgridcolor\":\"white\",\"startlinecolor\":\"#2a3f5f\"},\"baxis\":{\"endlinecolor\":\"#2a3f5f\",\"gridcolor\":\"white\",\"linecolor\":\"white\",\"minorgridcolor\":\"white\",\"startlinecolor\":\"#2a3f5f\"},\"type\":\"carpet\"}],\"choropleth\":[{\"colorbar\":{\"outlinewidth\":0,\"ticks\":\"\"},\"type\":\"choropleth\"}],\"contour\":[{\"colorbar\":{\"outlinewidth\":0,\"ticks\":\"\"},\"colorscale\":[[0.0,\"#0d0887\"],[0.1111111111111111,\"#46039f\"],[0.2222222222222222,\"#7201a8\"],[0.3333333333333333,\"#9c179e\"],[0.4444444444444444,\"#bd3786\"],[0.5555555555555556,\"#d8576b\"],[0.6666666666666666,\"#ed7953\"],[0.7777777777777778,\"#fb9f3a\"],[0.8888888888888888,\"#fdca26\"],[1.0,\"#f0f921\"]],\"type\":\"contour\"}],\"contourcarpet\":[{\"colorbar\":{\"outlinewidth\":0,\"ticks\":\"\"},\"type\":\"contourcarpet\"}],\"heatmap\":[{\"colorbar\":{\"outlinewidth\":0,\"ticks\":\"\"},\"colorscale\":[[0.0,\"#0d0887\"],[0.1111111111111111,\"#46039f\"],[0.2222222222222222,\"#7201a8\"],[0.3333333333333333,\"#9c179e\"],[0.4444444444444444,\"#bd3786\"],[0.5555555555555556,\"#d8576b\"],[0.6666666666666666,\"#ed7953\"],[0.7777777777777778,\"#fb9f3a\"],[0.8888888888888888,\"#fdca26\"],[1.0,\"#f0f921\"]],\"type\":\"heatmap\"}],\"heatmapgl\":[{\"colorbar\":{\"outlinewidth\":0,\"ticks\":\"\"},\"colorscale\":[[0.0,\"#0d0887\"],[0.1111111111111111,\"#46039f\"],[0.2222222222222222,\"#7201a8\"],[0.3333333333333333,\"#9c179e\"],[0.4444444444444444,\"#bd3786\"],[0.5555555555555556,\"#d8576b\"],[0.6666666666666666,\"#ed7953\"],[0.7777777777777778,\"#fb9f3a\"],[0.8888888888888888,\"#fdca26\"],[1.0,\"#f0f921\"]],\"type\":\"heatmapgl\"}],\"histogram\":[{\"marker\":{\"pattern\":{\"fillmode\":\"overlay\",\"size\":10,\"solidity\":0.2}},\"type\":\"histogram\"}],\"histogram2d\":[{\"colorbar\":{\"outlinewidth\":0,\"ticks\":\"\"},\"colorscale\":[[0.0,\"#0d0887\"],[0.1111111111111111,\"#46039f\"],[0.2222222222222222,\"#7201a8\"],[0.3333333333333333,\"#9c179e\"],[0.4444444444444444,\"#bd3786\"],[0.5555555555555556,\"#d8576b\"],[0.6666666666666666,\"#ed7953\"],[0.7777777777777778,\"#fb9f3a\"],[0.8888888888888888,\"#fdca26\"],[1.0,\"#f0f921\"]],\"type\":\"histogram2d\"}],\"histogram2dcontour\":[{\"colorbar\":{\"outlinewidth\":0,\"ticks\":\"\"},\"colorscale\":[[0.0,\"#0d0887\"],[0.1111111111111111,\"#46039f\"],[0.2222222222222222,\"#7201a8\"],[0.3333333333333333,\"#9c179e\"],[0.4444444444444444,\"#bd3786\"],[0.5555555555555556,\"#d8576b\"],[0.6666666666666666,\"#ed7953\"],[0.7777777777777778,\"#fb9f3a\"],[0.8888888888888888,\"#fdca26\"],[1.0,\"#f0f921\"]],\"type\":\"histogram2dcontour\"}],\"mesh3d\":[{\"colorbar\":{\"outlinewidth\":0,\"ticks\":\"\"},\"type\":\"mesh3d\"}],\"parcoords\":[{\"line\":{\"colorbar\":{\"outlinewidth\":0,\"ticks\":\"\"}},\"type\":\"parcoords\"}],\"pie\":[{\"automargin\":true,\"type\":\"pie\"}],\"scatter\":[{\"marker\":{\"colorbar\":{\"outlinewidth\":0,\"ticks\":\"\"}},\"type\":\"scatter\"}],\"scatter3d\":[{\"line\":{\"colorbar\":{\"outlinewidth\":0,\"ticks\":\"\"}},\"marker\":{\"colorbar\":{\"outlinewidth\":0,\"ticks\":\"\"}},\"type\":\"scatter3d\"}],\"scattercarpet\":[{\"marker\":{\"colorbar\":{\"outlinewidth\":0,\"ticks\":\"\"}},\"type\":\"scattercarpet\"}],\"scattergeo\":[{\"marker\":{\"colorbar\":{\"outlinewidth\":0,\"ticks\":\"\"}},\"type\":\"scattergeo\"}],\"scattergl\":[{\"marker\":{\"colorbar\":{\"outlinewidth\":0,\"ticks\":\"\"}},\"type\":\"scattergl\"}],\"scattermapbox\":[{\"marker\":{\"colorbar\":{\"outlinewidth\":0,\"ticks\":\"\"}},\"type\":\"scattermapbox\"}],\"scatterpolar\":[{\"marker\":{\"colorbar\":{\"outlinewidth\":0,\"ticks\":\"\"}},\"type\":\"scatterpolar\"}],\"scatterpolargl\":[{\"marker\":{\"colorbar\":{\"outlinewidth\":0,\"ticks\":\"\"}},\"type\":\"scatterpolargl\"}],\"scatterternary\":[{\"marker\":{\"colorbar\":{\"outlinewidth\":0,\"ticks\":\"\"}},\"type\":\"scatterternary\"}],\"surface\":[{\"colorbar\":{\"outlinewidth\":0,\"ticks\":\"\"},\"colorscale\":[[0.0,\"#0d0887\"],[0.1111111111111111,\"#46039f\"],[0.2222222222222222,\"#7201a8\"],[0.3333333333333333,\"#9c179e\"],[0.4444444444444444,\"#bd3786\"],[0.5555555555555556,\"#d8576b\"],[0.6666666666666666,\"#ed7953\"],[0.7777777777777778,\"#fb9f3a\"],[0.8888888888888888,\"#fdca26\"],[1.0,\"#f0f921\"]],\"type\":\"surface\"}],\"table\":[{\"cells\":{\"fill\":{\"color\":\"#EBF0F8\"},\"line\":{\"color\":\"white\"}},\"header\":{\"fill\":{\"color\":\"#C8D4E3\"},\"line\":{\"color\":\"white\"}},\"type\":\"table\"}]},\"layout\":{\"annotationdefaults\":{\"arrowcolor\":\"#2a3f5f\",\"arrowhead\":0,\"arrowwidth\":1},\"autotypenumbers\":\"strict\",\"coloraxis\":{\"colorbar\":{\"outlinewidth\":0,\"ticks\":\"\"}},\"colorscale\":{\"diverging\":[[0,\"#8e0152\"],[0.1,\"#c51b7d\"],[0.2,\"#de77ae\"],[0.3,\"#f1b6da\"],[0.4,\"#fde0ef\"],[0.5,\"#f7f7f7\"],[0.6,\"#e6f5d0\"],[0.7,\"#b8e186\"],[0.8,\"#7fbc41\"],[0.9,\"#4d9221\"],[1,\"#276419\"]],\"sequential\":[[0.0,\"#0d0887\"],[0.1111111111111111,\"#46039f\"],[0.2222222222222222,\"#7201a8\"],[0.3333333333333333,\"#9c179e\"],[0.4444444444444444,\"#bd3786\"],[0.5555555555555556,\"#d8576b\"],[0.6666666666666666,\"#ed7953\"],[0.7777777777777778,\"#fb9f3a\"],[0.8888888888888888,\"#fdca26\"],[1.0,\"#f0f921\"]],\"sequentialminus\":[[0.0,\"#0d0887\"],[0.1111111111111111,\"#46039f\"],[0.2222222222222222,\"#7201a8\"],[0.3333333333333333,\"#9c179e\"],[0.4444444444444444,\"#bd3786\"],[0.5555555555555556,\"#d8576b\"],[0.6666666666666666,\"#ed7953\"],[0.7777777777777778,\"#fb9f3a\"],[0.8888888888888888,\"#fdca26\"],[1.0,\"#f0f921\"]]},\"colorway\":[\"#636efa\",\"#EF553B\",\"#00cc96\",\"#ab63fa\",\"#FFA15A\",\"#19d3f3\",\"#FF6692\",\"#B6E880\",\"#FF97FF\",\"#FECB52\"],\"font\":{\"color\":\"#2a3f5f\"},\"geo\":{\"bgcolor\":\"white\",\"lakecolor\":\"white\",\"landcolor\":\"#E5ECF6\",\"showlakes\":true,\"showland\":true,\"subunitcolor\":\"white\"},\"hoverlabel\":{\"align\":\"left\"},\"hovermode\":\"closest\",\"mapbox\":{\"style\":\"light\"},\"paper_bgcolor\":\"white\",\"plot_bgcolor\":\"#E5ECF6\",\"polar\":{\"angularaxis\":{\"gridcolor\":\"white\",\"linecolor\":\"white\",\"ticks\":\"\"},\"bgcolor\":\"#E5ECF6\",\"radialaxis\":{\"gridcolor\":\"white\",\"linecolor\":\"white\",\"ticks\":\"\"}},\"scene\":{\"xaxis\":{\"backgroundcolor\":\"#E5ECF6\",\"gridcolor\":\"white\",\"gridwidth\":2,\"linecolor\":\"white\",\"showbackground\":true,\"ticks\":\"\",\"zerolinecolor\":\"white\"},\"yaxis\":{\"backgroundcolor\":\"#E5ECF6\",\"gridcolor\":\"white\",\"gridwidth\":2,\"linecolor\":\"white\",\"showbackground\":true,\"ticks\":\"\",\"zerolinecolor\":\"white\"},\"zaxis\":{\"backgroundcolor\":\"#E5ECF6\",\"gridcolor\":\"white\",\"gridwidth\":2,\"linecolor\":\"white\",\"showbackground\":true,\"ticks\":\"\",\"zerolinecolor\":\"white\"}},\"shapedefaults\":{\"line\":{\"color\":\"#2a3f5f\"}},\"ternary\":{\"aaxis\":{\"gridcolor\":\"white\",\"linecolor\":\"white\",\"ticks\":\"\"},\"baxis\":{\"gridcolor\":\"white\",\"linecolor\":\"white\",\"ticks\":\"\"},\"bgcolor\":\"#E5ECF6\",\"caxis\":{\"gridcolor\":\"white\",\"linecolor\":\"white\",\"ticks\":\"\"}},\"title\":{\"x\":0.05},\"xaxis\":{\"automargin\":true,\"gridcolor\":\"white\",\"linecolor\":\"white\",\"ticks\":\"\",\"title\":{\"standoff\":15},\"zerolinecolor\":\"white\",\"zerolinewidth\":2},\"yaxis\":{\"automargin\":true,\"gridcolor\":\"white\",\"linecolor\":\"white\",\"ticks\":\"\",\"title\":{\"standoff\":15},\"zerolinecolor\":\"white\",\"zerolinewidth\":2}}},\"geo\":{\"domain\":{\"x\":[0.0,1.0],\"y\":[0.0,1.0]},\"projection\":{\"type\":\"orthographic\"},\"center\":{}},\"legend\":{\"title\":{\"text\":\"visible\"},\"tracegroupgap\":0},\"margin\":{\"t\":60},\"updatemenus\":[{\"buttons\":[{\"args\":[null,{\"frame\":{\"duration\":500,\"redraw\":true},\"mode\":\"immediate\",\"fromcurrent\":true,\"transition\":{\"duration\":500,\"easing\":\"linear\"}}],\"label\":\"&#9654;\",\"method\":\"animate\"},{\"args\":[[null],{\"frame\":{\"duration\":0,\"redraw\":true},\"mode\":\"immediate\",\"fromcurrent\":true,\"transition\":{\"duration\":0,\"easing\":\"linear\"}}],\"label\":\"&#9724;\",\"method\":\"animate\"}],\"direction\":\"left\",\"pad\":{\"r\":10,\"t\":70},\"showactive\":false,\"type\":\"buttons\",\"x\":0.1,\"xanchor\":\"right\",\"y\":0,\"yanchor\":\"top\"}],\"sliders\":[{\"active\":0,\"currentvalue\":{\"prefix\":\"hour=\"},\"len\":0.9,\"pad\":{\"b\":10,\"t\":60},\"steps\":[{\"args\":[[\"23\"],{\"frame\":{\"duration\":0,\"redraw\":true},\"mode\":\"immediate\",\"fromcurrent\":true,\"transition\":{\"duration\":0,\"easing\":\"linear\"}}],\"label\":\"23\",\"method\":\"animate\"},{\"args\":[[\"0\"],{\"frame\":{\"duration\":0,\"redraw\":true},\"mode\":\"immediate\",\"fromcurrent\":true,\"transition\":{\"duration\":0,\"easing\":\"linear\"}}],\"label\":\"0\",\"method\":\"animate\"},{\"args\":[[\"1\"],{\"frame\":{\"duration\":0,\"redraw\":true},\"mode\":\"immediate\",\"fromcurrent\":true,\"transition\":{\"duration\":0,\"easing\":\"linear\"}}],\"label\":\"1\",\"method\":\"animate\"},{\"args\":[[\"2\"],{\"frame\":{\"duration\":0,\"redraw\":true},\"mode\":\"immediate\",\"fromcurrent\":true,\"transition\":{\"duration\":0,\"easing\":\"linear\"}}],\"label\":\"2\",\"method\":\"animate\"},{\"args\":[[\"3\"],{\"frame\":{\"duration\":0,\"redraw\":true},\"mode\":\"immediate\",\"fromcurrent\":true,\"transition\":{\"duration\":0,\"easing\":\"linear\"}}],\"label\":\"3\",\"method\":\"animate\"},{\"args\":[[\"4\"],{\"frame\":{\"duration\":0,\"redraw\":true},\"mode\":\"immediate\",\"fromcurrent\":true,\"transition\":{\"duration\":0,\"easing\":\"linear\"}}],\"label\":\"4\",\"method\":\"animate\"},{\"args\":[[\"5\"],{\"frame\":{\"duration\":0,\"redraw\":true},\"mode\":\"immediate\",\"fromcurrent\":true,\"transition\":{\"duration\":0,\"easing\":\"linear\"}}],\"label\":\"5\",\"method\":\"animate\"},{\"args\":[[\"6\"],{\"frame\":{\"duration\":0,\"redraw\":true},\"mode\":\"immediate\",\"fromcurrent\":true,\"transition\":{\"duration\":0,\"easing\":\"linear\"}}],\"label\":\"6\",\"method\":\"animate\"},{\"args\":[[\"7\"],{\"frame\":{\"duration\":0,\"redraw\":true},\"mode\":\"immediate\",\"fromcurrent\":true,\"transition\":{\"duration\":0,\"easing\":\"linear\"}}],\"label\":\"7\",\"method\":\"animate\"},{\"args\":[[\"8\"],{\"frame\":{\"duration\":0,\"redraw\":true},\"mode\":\"immediate\",\"fromcurrent\":true,\"transition\":{\"duration\":0,\"easing\":\"linear\"}}],\"label\":\"8\",\"method\":\"animate\"},{\"args\":[[\"9\"],{\"frame\":{\"duration\":0,\"redraw\":true},\"mode\":\"immediate\",\"fromcurrent\":true,\"transition\":{\"duration\":0,\"easing\":\"linear\"}}],\"label\":\"9\",\"method\":\"animate\"},{\"args\":[[\"10\"],{\"frame\":{\"duration\":0,\"redraw\":true},\"mode\":\"immediate\",\"fromcurrent\":true,\"transition\":{\"duration\":0,\"easing\":\"linear\"}}],\"label\":\"10\",\"method\":\"animate\"},{\"args\":[[\"11\"],{\"frame\":{\"duration\":0,\"redraw\":true},\"mode\":\"immediate\",\"fromcurrent\":true,\"transition\":{\"duration\":0,\"easing\":\"linear\"}}],\"label\":\"11\",\"method\":\"animate\"},{\"args\":[[\"12\"],{\"frame\":{\"duration\":0,\"redraw\":true},\"mode\":\"immediate\",\"fromcurrent\":true,\"transition\":{\"duration\":0,\"easing\":\"linear\"}}],\"label\":\"12\",\"method\":\"animate\"},{\"args\":[[\"13\"],{\"frame\":{\"duration\":0,\"redraw\":true},\"mode\":\"immediate\",\"fromcurrent\":true,\"transition\":{\"duration\":0,\"easing\":\"linear\"}}],\"label\":\"13\",\"method\":\"animate\"},{\"args\":[[\"14\"],{\"frame\":{\"duration\":0,\"redraw\":true},\"mode\":\"immediate\",\"fromcurrent\":true,\"transition\":{\"duration\":0,\"easing\":\"linear\"}}],\"label\":\"14\",\"method\":\"animate\"},{\"args\":[[\"15\"],{\"frame\":{\"duration\":0,\"redraw\":true},\"mode\":\"immediate\",\"fromcurrent\":true,\"transition\":{\"duration\":0,\"easing\":\"linear\"}}],\"label\":\"15\",\"method\":\"animate\"},{\"args\":[[\"16\"],{\"frame\":{\"duration\":0,\"redraw\":true},\"mode\":\"immediate\",\"fromcurrent\":true,\"transition\":{\"duration\":0,\"easing\":\"linear\"}}],\"label\":\"16\",\"method\":\"animate\"},{\"args\":[[\"17\"],{\"frame\":{\"duration\":0,\"redraw\":true},\"mode\":\"immediate\",\"fromcurrent\":true,\"transition\":{\"duration\":0,\"easing\":\"linear\"}}],\"label\":\"17\",\"method\":\"animate\"},{\"args\":[[\"18\"],{\"frame\":{\"duration\":0,\"redraw\":true},\"mode\":\"immediate\",\"fromcurrent\":true,\"transition\":{\"duration\":0,\"easing\":\"linear\"}}],\"label\":\"18\",\"method\":\"animate\"},{\"args\":[[\"19\"],{\"frame\":{\"duration\":0,\"redraw\":true},\"mode\":\"immediate\",\"fromcurrent\":true,\"transition\":{\"duration\":0,\"easing\":\"linear\"}}],\"label\":\"19\",\"method\":\"animate\"},{\"args\":[[\"20\"],{\"frame\":{\"duration\":0,\"redraw\":true},\"mode\":\"immediate\",\"fromcurrent\":true,\"transition\":{\"duration\":0,\"easing\":\"linear\"}}],\"label\":\"20\",\"method\":\"animate\"},{\"args\":[[\"21\"],{\"frame\":{\"duration\":0,\"redraw\":true},\"mode\":\"immediate\",\"fromcurrent\":true,\"transition\":{\"duration\":0,\"easing\":\"linear\"}}],\"label\":\"21\",\"method\":\"animate\"},{\"args\":[[\"22\"],{\"frame\":{\"duration\":0,\"redraw\":true},\"mode\":\"immediate\",\"fromcurrent\":true,\"transition\":{\"duration\":0,\"easing\":\"linear\"}}],\"label\":\"22\",\"method\":\"animate\"}],\"x\":0.1,\"xanchor\":\"left\",\"y\":0,\"yanchor\":\"top\"}]},                        {\"responsive\": true}                    ).then(function(){\n",
       "                            Plotly.addFrames('7306deb5-3f19-40d6-a809-e5e49436846b', [{\"data\":[{\"customdata\":[[-32.1423861816526,142.4337231135884],[-12.436769470243426,188.94694082237015],[-12.331295386906987,191.41016589996448],[-11.549934656454887,181.93081026870942],[-11.599238954714336,184.0602416085733],[-11.683531880517288,186.1890373352108],[-11.802683951610913,188.31687612962398],[-11.956512629574753,190.4434508429899]],\"geo\":\"geo\",\"hovertemplate\":\"visible=No<br>hour=23<br>latitude=%{lat}<br>longitude=%{lon}<br>elevation=%{customdata[0]}<br>azimuth=%{customdata[1]}<extra></extra>\",\"lat\":[-0.2805343880709552,-33.292834935793046,-33.474948747579695,-33.650769784225076,-33.65079122316354,-33.65081244381623,-33.65083344390747,-33.65085422097908],\"legendgroup\":\"No\",\"lon\":[56.52442628768894,10.557927451875905,7.641924216132677,18.790263665226078,16.28337913902171,13.77649506558584,11.269611432421623,8.762728227572865],\"marker\":{\"color\":\"#636efa\",\"opacity\":0.3,\"symbol\":\"circle\"},\"mode\":\"markers\",\"name\":\"No\",\"showlegend\":true,\"type\":\"scattergeo\"}],\"name\":\"23\"},{\"data\":[{\"customdata\":[[-12.447175026835762,193.6458144423626],[-12.643689109643352,195.82347175380798],[-12.89244873784148,197.97660422061892],[-13.183707252819135,200.11621701579674],[-13.513006156769936,202.2469505276405],[-13.87784130602206,204.3710913001565]],\"geo\":\"geo\",\"hovertemplate\":\"visible=No<br>hour=0<br>latitude=%{lat}<br>longitude=%{lon}<br>elevation=%{customdata[0]}<br>azimuth=%{customdata[1]}<extra></extra>\",\"lat\":[-33.53481615843333,-33.564595395994175,-33.58241469103688,-33.59427484134583,-33.60273737771502,-33.60907971344153],\"legendgroup\":\"No\",\"lon\":[4.999394682948538,2.424840489304858,-0.12258744791775199,-2.6564700988149625,-5.1826191683564415,-7.703937646037011],\"marker\":{\"color\":\"#636efa\",\"opacity\":0.3,\"symbol\":\"circle\"},\"mode\":\"markers\",\"name\":\"No\",\"showlegend\":true,\"type\":\"scattergeo\"}],\"name\":\"0\"},{\"data\":[{\"customdata\":[[-14.276553532539642,206.4899080585799],[-14.707886186058722,208.6041870620079],[-15.170785095005076,210.7144766381955],[-15.664299497383844,212.8212105592921],[-16.187529543080714,214.92477543547037],[-16.73959704683462,217.02555004188648]],\"geo\":\"geo\",\"hovertemplate\":\"visible=No<br>hour=1<br>latitude=%{lat}<br>longitude=%{lon}<br>elevation=%{customdata[0]}<br>azimuth=%{customdata[1]}<extra></extra>\",\"lat\":[-33.61401020016295,-33.61795325389352,-33.62117866215354,-33.62386612478209,-33.62613995878174,-33.62808890744466],\"legendgroup\":\"No\",\"lon\":[-10.222037172367092,-12.737884222576934,-15.252093573875515,-17.765074942615747,-20.277111901633795,-22.78840695679887],\"marker\":{\"color\":\"#636efa\",\"opacity\":0.3,\"symbol\":\"circle\"},\"mode\":\"markers\",\"name\":\"No\",\"showlegend\":true,\"type\":\"scattergeo\"}],\"name\":\"1\"},{\"data\":[{\"customdata\":[[-17.319628599191436,219.12392960737435],[-17.926745579263507,221.22034158722678],[-18.560058171721554,223.31525638365073],[-19.21866177001222,225.4091949498666],[-19.90163482201817,227.50273440992564],[-20.60803754555981,229.59651238444715]],\"geo\":\"geo\",\"hovertemplate\":\"visible=No<br>hour=2<br>latitude=%{lat}<br>longitude=%{lon}<br>elevation=%{customdata[0]}<br>azimuth=%{customdata[1]}<extra></extra>\",\"lat\":[-33.6297780148007,-33.63125604131338,-33.63256025911362,-33.633719646923616,-33.63475707498251,-33.635690833809356],\"legendgroup\":\"No\",\"lon\":[-25.2991085834509,-27.809328119207184,-30.31915069177817,-32.82864250264544,-35.33785580965879,-37.84683241425861],\"marker\":{\"color\":\"#636efa\",\"opacity\":0.3,\"symbol\":\"circle\"},\"mode\":\"markers\",\"name\":\"No\",\"showlegend\":true,\"type\":\"scattergeo\"}],\"name\":\"2\"},{\"data\":[{\"customdata\":[[-21.33691115388184,231.6912304594246],[-22.087277357352338,233.78765708492543],[-22.85813798489442,235.88663009778796],[-23.64847461708816,237.9890590033478],[-24.457248154418902,240.09592711128192],[-25.28339826479937,242.20829359286148]],\"geo\":\"geo\",\"hovertemplate\":\"visible=No<br>hour=3<br>latitude=%{lat}<br>longitude=%{lon}<br>elevation=%{customdata[0]}<br>azimuth=%{customdata[1]}<extra></extra>\",\"lat\":[-33.63653572575441,-33.63730385854576,-33.63800523169743,-33.63864817613149,-33.63923968823726,-33.63978568677358],\"legendgroup\":\"No\",\"lon\":[-40.35560615198948,-42.864204703559075,-45.37265093324128,-47.88096389262495,-50.389159583355095,-52.897251543821014],\"marker\":{\"color\":\"#636efa\",\"opacity\":0.3,\"symbol\":\"circle\"},\"mode\":\"markers\",\"name\":\"No\",\"showlegend\":true,\"type\":\"scattergeo\"}],\"name\":\"3\"},{\"data\":[{\"customdata\":[[-26.125842668557954,244.32729550574274],[-26.983476228767184,246.45414981541765],[-27.855169821745275,248.5901554271894],[-28.739768967471164,250.73669522850292],[-29.636092203646093,252.89523812647147],[-30.542929190210018,255.06734104997716]],\"geo\":\"geo\",\"hovertemplate\":\"visible=No<br>hour=4<br>latitude=%{lat}<br>longitude=%{lon}<br>elevation=%{customdata[0]}<br>azimuth=%{customdata[1]}<extra></extra>\",\"lat\":[-33.6402912126461,-33.64076058581315,-33.641197529767894,-33.64160527104402,-33.6419866194847,-33.6423440334447],\"legendgroup\":\"No\",\"lon\":[-55.405251305421594,-57.913168751067424,-60.421012399426694,-62.92878963238227,-65.43650687841041,-67.94416976158246],\"marker\":{\"color\":\"#636efa\",\"opacity\":0.3,\"symbol\":\"circle\"},\"mode\":\"markers\",\"name\":\"No\",\"showlegend\":true,\"type\":\"scattergeo\"}],\"name\":\"4\"},{\"data\":[{\"customdata\":[[-31.45903853397543,257.25465086816183],[-32.38314532580472,259.4589061573389],[-33.31393838589487,261.6819387252938],[-34.25006721618787,263.92567477573135],[-35.190138663485854,266.19213556446545],[-36.132713302341685,268.48343736351393]],\"geo\":\"geo\",\"hovertemplate\":\"visible=No<br>hour=5<br>latitude=%{lat}<br>longitude=%{lon}<br>elevation=%{customdata[0]}<br>azimuth=%{customdata[1]}<extra></extra>\",\"lat\":[-33.642679673137216,-33.642995444528935,-33.643293035769155,-33.64357394747786,-33.64383951815553,-33.6440909455705],\"legendgroup\":\"No\",\"lon\":[-70.45178322346563,-72.95935162353524,-75.46687882231215,-77.97436825070983,-80.48182296809568,-82.98924571119157],\"marker\":{\"color\":\"#636efa\",\"opacity\":0.3,\"symbol\":\"circle\"},\"mode\":\"markers\",\"name\":\"No\",\"showlegend\":true,\"type\":\"scattergeo\"}],\"name\":\"5\"},{\"data\":[{\"customdata\":[[-37.076301553930236,270.8017905081147],[-38.01935956607984,273.1494972549101],[-38.960284891132275,275.5289481266108],[-39.897412012401,277.9426163603012],[-40.82900778783435,280.393050012876],[-41.75326690096128,282.8828612106071]],\"geo\":\"geo\",\"hovertemplate\":\"visible=No<br>hour=6<br>latitude=%{lat}<br>longitude=%{lon}<br>elevation=%{customdata[0]}<br>azimuth=%{customdata[1]}<extra></extra>\",\"lat\":[-33.644329304861024,-33.64455556388644,-33.64477059639655,-33.64497519324826,-33.64517007209437,-33.64535588574078],\"legendgroup\":\"No\",\"lon\":[-85.49663893545156,-88.00400485025469,-90.5113454488996,-93.01866253435942,-95.5259577414302,-98.03323255585411],\"marker\":{\"color\":\"#636efa\",\"opacity\":0.3,\"symbol\":\"circle\"},\"mode\":\"markers\",\"name\":\"No\",\"showlegend\":true,\"type\":\"scattergeo\"}],\"name\":\"6\"},{\"data\":[{\"customdata\":[[-42.6683074353008,285.4147119625916],[-43.572166719276225,287.9912958944354],[-44.462797624751836,290.6153152047423],[-45.33806554318892,293.28945211245633],[-46.1957463090488,296.01633405773947],[-47.033525388729196,298.79849195912647]],\"geo\":\"geo\",\"hovertemplate\":\"visible=No<br>hour=7<br>latitude=%{lat}<br>longitude=%{lon}<br>elevation=%{customdata[0]}<br>azimuth=%{customdata[1]}<extra></extra>\",\"lat\":[-33.645533229395824,-33.64570264693706,-33.64586463644657,-33.646019654979554,-33.64616812278809,-33.64631042702775],\"legendgroup\":\"No\",\"lon\":[-100.54048833088841,-103.0477263017516,-105.55494759815488,-108.06215325534495,-110.5693442237458,-113.07652137746223],\"marker\":{\"color\":\"#636efa\",\"opacity\":0.3,\"symbol\":\"circle\"},\"mode\":\"markers\",\"name\":\"No\",\"showlegend\":true,\"type\":\"scattergeo\"}],\"name\":\"7\"},{\"data\":[{\"customdata\":[[-47.84899870319,301.6383109316458],[-48.639675499986836,304.5379730554409],[-49.40298373109463,307.49939207315686],[-50.13627841982429,310.5241403084273],[-50.83685350583177,313.61336865123525],[-51.5019576315017,316.767721155727]],\"geo\":\"geo\",\"hovertemplate\":\"visible=No<br>hour=8<br>latitude=%{lat}<br>longitude=%{lon}<br>elevation=%{customdata[0]}<br>azimuth=%{customdata[1]}<extra></extra>\",\"lat\":[-33.6464469250343,-33.646577947184525,-33.646703799503676,-33.64682476590589,-33.64694111023093,-33.647053078051464],\"legendgroup\":\"No\",\"lon\":[-115.58368552177521,-118.09083739980191,-120.59797769834057,-123.10510705313555,-125.61222605352695,-128.11933524661725],\"marker\":{\"color\":\"#636efa\",\"opacity\":0.3,\"symbol\":\"circle\"},\"mode\":\"markers\",\"name\":\"No\",\"showlegend\":true,\"type\":\"scattergeo\"}],\"name\":\"8\"},{\"data\":[{\"customdata\":[[-52.12881426590712,319.9872466294919],[-52.71464644379591,323.2713105254054],[-53.256706218836996,326.61851141054944],[-53.75230868845749,330.02660718097235],[-54.198870146052165,333.49245688011047],[-54.59394956704694,337.0119843061477]],\"geo\":\"geo\",\"hovertemplate\":\"visible=No<br>hour=9<br>latitude=%{lat}<br>longitude=%{lon}<br>elevation=%{customdata[0]}<br>azimuth=%{customdata[1]}<extra></extra>\",\"lat\":[-33.64716089829686,-33.647264784669716,-33.64736493699147,-33.647461542333176,-33.647554776077165,-33.64764480286488],\"legendgroup\":\"No\",\"lon\":[-130.62643514098653,-133.13352621005504,-135.64060889505447,-138.14768360774883,-140.65475073286868,-143.1618106303056],\"marker\":{\"color\":\"#636efa\",\"opacity\":0.3,\"symbol\":\"circle\"},\"mode\":\"markers\",\"name\":\"No\",\"showlegend\":true,\"type\":\"scattergeo\"}],\"name\":\"9\"},{\"data\":[{\"customdata\":[[-54.93529226283473,340.58016939844777],[-55.2208741759088,344.19107254385267],[-55.44894498525246,347.83789537325856],[-55.618067990670575,351.5130793625167],[-55.727154693368504,355.2084407667645],[-55.77549211776493,358.9153373869016]],\"geo\":\"geo\",\"hovertemplate\":\"visible=No<br>hour=10<br>latitude=%{lat}<br>longitude=%{lon}<br>elevation=%{customdata[0]}<br>azimuth=%{customdata[1]}<extra></extra>\",\"lat\":[-33.647731777460855,-33.64781584549585,-33.64789714421613,-33.64797580308262,-33.648051944359715,-33.64812568364064],\"legendgroup\":\"No\",\"lon\":[-145.66886363710114,-148.175910069269,-150.68295022340544,-153.18998437819639,-155.6970127957711,-158.20403572293355],\"marker\":{\"color\":\"#636efa\",\"opacity\":0.3,\"symbol\":\"circle\"},\"mode\":\"markers\",\"name\":\"No\",\"showlegend\":true,\"type\":\"scattergeo\"}],\"name\":\"10\"},{\"data\":[{\"customdata\":[[-55.762761236458346,2.624859764708481],[-55.68904534856373,6.328037035066582],[-55.55482787700159,10.01604618813747],[-55.36097972587615,13.680413145637418],[-55.10873699908903,17.31319488916637],[-54.79967045075593,20.90713376152356]],\"geo\":\"geo\",\"hovertemplate\":\"visible=No<br>hour=11<br>latitude=%{lat}<br>longitude=%{lon}<br>elevation=%{customdata[0]}<br>azimuth=%{customdata[1]}<extra></extra>\",\"lat\":[-33.64819713033421,-33.6482663880687,-33.64833355513903,-33.64839872483193,-33.64846198576985,-33.648523422214794],\"legendgroup\":\"No\",\"lon\":[-160.7110533922915,-163.218066023302,-165.72507382318665,-168.23207698781954,-170.73907570252015,-173.246070142771],\"marker\":{\"color\":\"#636efa\",\"opacity\":0.3,\"symbol\":\"circle\"},\"mode\":\"markers\",\"name\":\"No\",\"showlegend\":true,\"type\":\"scattergeo\"}],\"name\":\"11\"},{\"data\":[{\"customdata\":[[-54.435648459267014,24.455777699664182],[-54.01879555578507,27.953563162433095],[-53.551448589054004,31.395860485978947],[-53.03611249015436,34.77898399303968],[-52.475417352061136,38.100171165800226],[-51.87207820515399,41.3575364610959]],\"geo\":\"geo\",\"hovertemplate\":\"visible=No<br>hour=12<br>latitude=%{lat}<br>longitude=%{lon}<br>elevation=%{customdata[0]}<br>azimuth=%{customdata[1]}<extra></extra>\",\"lat\":[-33.64858311435557,-33.64864113853047,-33.64869756751202,-33.648752470683455,-33.64880591424835,-33.64885796141262],\"legendgroup\":\"No\",\"lon\":[-175.75306047489403,-178.26004685668283,179.23297056206394,176.72599163898408,174.2190162386837,171.71204423228514],\"marker\":{\"color\":\"#636efa\",\"opacity\":0.3,\"symbol\":\"circle\"},\"mode\":\"markers\",\"name\":\"No\",\"showlegend\":true,\"type\":\"scattergeo\"}],\"name\":\"12\"},{\"data\":[{\"customdata\":[[-51.22885849943667,44.550005911885435],[-50.5485379376541,47.67723861896786],[-49.83388497195765,50.73954073945264],[-49.08763399861757,53.737776786177626],[-48.31246707027629,56.673282114789686],[-47.51099979214551,59.547779514432705]],\"geo\":\"geo\",\"hovertemplate\":\"visible=No<br>hour=13<br>latitude=%{lat}<br>longitude=%{lon}<br>elevation=%{customdata[0]}<br>azimuth=%{customdata[1]}<extra></extra>\",\"lat\":[-33.648908672561134,-33.64895810537866,-33.64900631504395,-33.649053354321566,-33.64909927369543,-33.64914412148104],\"legendgroup\":\"No\",\"lon\":[169.20507549702182,166.69810991583276,164.1911473770388,161.6841877739928,159.17723100477863,156.67027697193126],\"marker\":{\"color\":\"#636efa\",\"opacity\":0.3,\"symbol\":\"circle\"},\"mode\":\"markers\",\"name\":\"No\",\"showlegend\":true,\"type\":\"scattergeo\"}],\"name\":\"13\"},{\"data\":[{\"customdata\":[[-46.68577097244621,62.36330192064995],[-45.83923554866801,65.12212248833514],[-44.973760299932046,67.82669262321014],[-44.091621870940166,70.47958807594426],[-43.19500666689477,73.08346284334839],[-42.28601222267783,75.64101037797167]],\"geo\":\"geo\",\"hovertemplate\":\"visible=No<br>hour=14<br>latitude=%{lat}<br>longitude=%{lon}<br>elevation=%{customdata[0]}<br>azimuth=%{customdata[1]}<extra></extra>\",\"lat\":[-33.649187943938585,-33.64923078533504,-33.64927268808609,-33.64931369279844,-33.64935383835903,-33.64939316200668],\"legendgroup\":\"No\",\"lon\":[154.16332558217613,151.65637674616843,149.14943037829303,146.6424863964316,144.1355447217761,141.62860527863782],\"marker\":{\"color\":\"#636efa\",\"opacity\":0.3,\"symbol\":\"circle\"},\"mode\":\"markers\",\"name\":\"No\",\"showlegend\":true,\"type\":\"scattergeo\"}],\"name\":\"14\"},{\"data\":[{\"customdata\":[[-41.3666496986854,78.1549314594878],[-40.43884720529828,80.62790800740484],[-39.5044537057643,83.06258209528949],[-38.56524329059697,85.46153944568042],[-37.62291965591437,87.82729672863404],[-36.67912065170141,90.16229204540392]],\"geo\":\"geo\",\"hovertemplate\":\"visible=No<br>hour=15<br>latitude=%{lat}<br>longitude=%{lon}<br>elevation=%{customdata[0]}<br>azimuth=%{customdata[1]}<extra></extra>\",\"lat\":[-33.64943169940785,-33.64946948468413,-33.64950655052375,-33.64954292819461,-33.649578647607605,-33.64961373736411],\"legendgroup\":\"No\",\"lon\":[139.12166799429076,136.61473279878516,134.10779962483858,131.60086840766465,129.09393908485723,126.5870115962668],\"marker\":{\"color\":\"#636efa\",\"opacity\":0.3,\"symbol\":\"circle\"},\"mode\":\"markers\",\"name\":\"No\",\"showlegend\":true,\"type\":\"scattergeo\"}],\"name\":\"15\"},{\"data\":[{\"customdata\":[[-35.73542279487559,92.46887804429126],[-34.79334566600169,94.74931718304855],[-33.85435612853145,97.00577871761973],[-32.91987232513891,99.24033705835625],[-31.99126741896184,101.4549711908096],[-31.069873057465482,103.65156490827073]],\"geo\":\"geo\",\"hovertemplate\":\"visible=No<br>hour=16<br>latitude=%{lat}<br>longitude=%{lon}<br>elevation=%{customdata[0]}<br>azimuth=%{customdata[1]}<extra></extra>\",\"lat\":[-33.64964822481032,-33.6496821360438,-33.64971549600788,-33.64974832848718,-33.64978065615599,-33.64981250061191],\"legendgroup\":\"No\",\"lon\":[124.08008588389882,121.57316189178212,119.06623956590583,116.55931885410283,114.05239970597148,111.5454820727943],\"marker\":{\"color\":\"#636efa\",\"opacity\":0.3,\"symbol\":\"circle\"},\"mode\":\"markers\",\"name\":\"No\",\"showlegend\":true,\"type\":\"scattergeo\"}],\"name\":\"16\"},{\"data\":[{\"customdata\":[[-30.15698254466825,105.83190764732255],[-29.25385371346674,107.99769575606882],[-28.361711494656824,110.15053405775241],[-27.481750182363506,112.29193760078034],[-26.615135398557175,114.42333351025239],[-25.763005761029262,116.5460628764098]],\"geo\":\"geo\",\"hovertemplate\":\"visible=No<br>hour=17<br>latitude=%{lat}<br>longitude=%{lon}<br>elevation=%{customdata[0]}<br>azimuth=%{customdata[1]}<extra></extra>\",\"lat\":[-33.64984388241767,-33.64987482109567,-33.649905335213,-33.649935442366704,-33.6499651592239,-33.649994501547816],\"legendgroup\":\"No\",\"lon\":[109.03856590747358,106.53165116443552,104.02473779959735,101.51782577028752,99.010915035187,96.50400555428384],\"marker\":{\"color\":\"#636efa\",\"opacity\":0.3,\"symbol\":\"circle\"},\"mode\":\"markers\",\"name\":\"No\",\"showlegend\":true,\"type\":\"scattergeo\"}],\"name\":\"17\"},{\"data\":[{\"customdata\":[[-24.926474260711323,118.66138263265755],[-24.1066293552369,120.77046739024274],[-23.30453578672633,122.87441120881637],[-22.52123513213528,124.97422929232879],[-21.757746095600492,127.07085960816563],[-21.0150645526341,129.1651644346007]],\"geo\":\"geo\",\"hovertemplate\":\"visible=No<br>hour=18<br>latitude=%{lat}<br>longitude=%{lon}<br>elevation=%{customdata[0]}<br>azimuth=%{customdata[1]}<extra></extra>\",\"lat\":[-33.650023484232776,-33.650052121292084,-33.65008042593814,-33.65010841056238,-33.650136086770914,-33.650163465406926],\"legendgroup\":\"No\",\"lon\":[93.99709728882542,91.49019020124867,88.98328425517427,86.47637941533213,83.96947564754157,81.46257291866624],\"marker\":{\"color\":\"#636efa\",\"opacity\":0.3,\"symbol\":\"circle\"},\"mode\":\"markers\",\"name\":\"No\",\"showlegend\":true,\"type\":\"scattergeo\"}],\"name\":\"18\"},{\"data\":[{\"customdata\":[[-20.29416335688602,131.25793184745453],[-19.595991920909043,133.34987716170573],[-18.921475583495752,135.44164434764497],[-18.27151477680785,137.53380744419218],[-17.64698400800818,139.62687199422135],[-17.0487306710648,141.72127652820137]],\"geo\":\"geo\",\"hovertemplate\":\"visible=No<br>hour=19<br>latitude=%{lat}<br>longitude=%{lon}<br>elevation=%{customdata[0]}<br>azimuth=%{customdata[1]}<extra></extra>\",\"lat\":[-33.65019055658206,-33.650217369661064,-33.650243913339935,-33.650270195622795,-33.65029622385614,-33.650322004749164],\"legendgroup\":\"No\",\"lon\":[78.95567119658894,76.4487704501618,73.94187064920371,71.43497176445373,68.92807376754604,66.42117663099171],\"marker\":{\"color\":\"#636efa\",\"opacity\":0.3,\"symbol\":\"circle\"},\"mode\":\"markers\",\"name\":\"No\",\"showlegend\":true,\"type\":\"scattergeo\"}],\"name\":\"19\"},{\"data\":[{\"customdata\":[[-16.47757370574978,143.81739412326033],[-15.934302122083055,145.91553406480264],[-15.419673409968372,148.01594363724428],[-14.934411854696277,150.11881006908146],[-14.479206780525157,152.2242626556378],[-14.054710745383495,154.33237508019403]],\"geo\":\"geo\",\"hovertemplate\":\"visible=No<br>hour=20<br>latitude=%{lat}<br>longitude=%{lon}<br>elevation=%{customdata[0]}<br>azimuth=%{customdata[1]}<extra></extra>\",\"lat\":[-33.65034754440419,-33.65037284829928,-33.6503979213664,-33.65042276796688,-33.65044739192517,-33.6504717965485],\"legendgroup\":\"No\",\"lon\":[63.91428032815188,61.40738483321194,58.90049012117027,56.3935961678153,53.886702949700755,51.37981044413553],\"marker\":{\"color\":\"#636efa\",\"opacity\":0.3,\"symbol\":\"circle\"},\"mode\":\"markers\",\"name\":\"No\",\"showlegend\":true,\"type\":\"scattergeo\"}],\"name\":\"20\"},{\"data\":[{\"customdata\":[[-13.66153771069582,156.44316795110197],[-13.300261210905267,158.55661156873992],[-12.97141254786064,160.67262893200436],[-12.675479034918979,162.79109898945006],[-12.412902315727067,164.91186013530387],[-12.1840767817179,167.03471394553907]],\"geo\":\"geo\",\"hovertemplate\":\"visible=No<br>hour=21<br>latitude=%{lat}<br>longitude=%{lon}<br>elevation=%{customdata[0]}<br>azimuth=%{customdata[1]}<extra></extra>\",\"lat\":[-33.65049598465795,-33.65051995856723,-33.65054372016611,-33.650567270891855,-33.650590611763796,-33.65061374340308],\"legendgroup\":\"No\",\"lon\":[48.8729186291656,46.36602748355138,43.85913698676688,41.352247118972194,38.84535786100716,36.3384691943723],\"marker\":{\"color\":\"#636efa\",\"opacity\":0.3,\"symbol\":\"circle\"},\"mode\":\"markers\",\"name\":\"No\",\"showlegend\":true,\"type\":\"scattergeo\"}],\"name\":\"21\"},{\"data\":[{\"customdata\":[[-11.989348111403935,169.15942914404084],[-11.829011953008058,171.2857457839025],[-11.703312770277545,173.4133796239771],[-11.612442868813108,175.54202667645467],[-11.556541617940987,177.67136789711498],[-11.535694880075662,179.80107398664774]],\"geo\":\"geo\",\"hovertemplate\":\"visible=No<br>hour=22<br>latitude=%{lat}<br>longitude=%{lon}<br>elevation=%{customdata[0]}<br>azimuth=%{customdata[1]}<extra></extra>\",\"lat\":[-33.65063666606094,-33.650659379609394,-33.65068188360491,-33.65070417727392,-33.6507262595436,-33.6507481290615],\"legendgroup\":\"No\",\"lon\":[33.83158110122627,31.324693564354625,28.817806567184928,26.310920093749793,23.804034128691217,21.297148657243977],\"marker\":{\"color\":\"#636efa\",\"opacity\":0.3,\"symbol\":\"circle\"},\"mode\":\"markers\",\"name\":\"No\",\"showlegend\":true,\"type\":\"scattergeo\"}],\"name\":\"22\"}]);\n",
       "                        }).then(function(){\n",
       "                            \n",
       "var gd = document.getElementById('7306deb5-3f19-40d6-a809-e5e49436846b');\n",
       "var x = new MutationObserver(function (mutations, observer) {{\n",
       "        var display = window.getComputedStyle(gd).display;\n",
       "        if (!display || display === 'none') {{\n",
       "            console.log([gd, 'removed!']);\n",
       "            Plotly.purge(gd);\n",
       "            observer.disconnect();\n",
       "        }}\n",
       "}});\n",
       "\n",
       "// Listen for the removal of the full notebook cells\n",
       "var notebookContainer = gd.closest('#notebook-container');\n",
       "if (notebookContainer) {{\n",
       "    x.observe(notebookContainer, {childList: true});\n",
       "}}\n",
       "\n",
       "// Listen for the clearing of the current output cell\n",
       "var outputEl = gd.closest('.output');\n",
       "if (outputEl) {{\n",
       "    x.observe(outputEl, {childList: true});\n",
       "}}\n",
       "\n",
       "                        })                };                });            </script>        </div>"
      ]
     },
     "metadata": {},
     "output_type": "display_data"
    }
   ],
   "source": [
    "px.scatter_geo(prop_data,\n",
    "               animation_frame='hour',\n",
    "               color='visible',\n",
    "               lat='latitude',\n",
    "               lon='longitude',\n",
    "               opacity=0.3,\n",
    "               hover_data=['elevation', 'azimuth'],\n",
    "           projection='orthographic',)"
   ]
  },
  {
   "cell_type": "code",
   "execution_count": null,
   "metadata": {},
   "outputs": [],
   "source": []
  }
 ],
 "metadata": {
  "interpreter": {
   "hash": "7c1ec5d9efc34516c1b49d6429fd2f63ed729056e5d8b6dccd5a1716143e1140"
  },
  "kernelspec": {
   "display_name": "Python 3.9.10 ('simulator')",
   "language": "python",
   "name": "python3"
  },
  "language_info": {
   "codemirror_mode": {
    "name": "ipython",
    "version": 3
   },
   "file_extension": ".py",
   "mimetype": "text/x-python",
   "name": "python",
   "nbconvert_exporter": "python",
   "pygments_lexer": "ipython3",
   "version": "3.9.10"
  },
  "orig_nbformat": 4
 },
 "nbformat": 4,
 "nbformat_minor": 2
}
