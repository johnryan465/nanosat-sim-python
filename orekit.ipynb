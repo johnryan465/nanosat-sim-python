{
 "cells": [
  {
   "cell_type": "code",
   "execution_count": 5,
   "metadata": {},
   "outputs": [],
   "source": [
    "import orekit\n",
    "from enviroment.integrator import create_DormandPrince853\n",
    "from enviroment.opssat import OPSSAT\n",
    "\n",
    "from enviroment.sim import Simulator\n",
    "from enviroment.units import create_initial_orbit\n",
    "from org.orekit.propagation.numerical import NumericalPropagator\n",
    "from org.orekit.propagation import SpacecraftState\n",
    "from orekit.pyhelpers import setup_orekit_curdir\n",
    "\n",
    "\n"
   ]
  },
  {
   "cell_type": "code",
   "execution_count": 6,
   "metadata": {},
   "outputs": [],
   "source": [
    "\n",
    "vm = orekit.initVM()\n",
    "setup_orekit_curdir() \n",
    "initial_time, initial_orbit = create_initial_orbit()\n",
    "integrator = create_DormandPrince853(initial_orbit, 0.001, 1000.0, 60.0, 1.0)\n",
    "propagator_num = NumericalPropagator(integrator)\n",
    "sat = OPSSAT(SpacecraftState(initial_orbit, 100.0))\n",
    "sim = Simulator(propagator_num, sat)"
   ]
  },
  {
   "cell_type": "code",
   "execution_count": 7,
   "metadata": {},
   "outputs": [],
   "source": [
    "orb = sim.propagator.propagate(initial_time,  initial_time.shiftedBy(3600.0 * 48))"
   ]
  },
  {
   "cell_type": "code",
   "execution_count": 8,
   "metadata": {},
   "outputs": [
    {
     "data": {
      "text/plain": [
       "<SpacecraftState: SpacecraftState{orbit=Cartesian parameters: {P(3448526.5784809235, 244918.37207430904, -5864890.888843027), V(6464.0921180365685, 1251.1535049529266, 3907.265604638868)}, attitude=org.orekit.attitudes.Attitude@42deb43a, mass=100.0, additional={}}>"
      ]
     },
     "execution_count": 8,
     "metadata": {},
     "output_type": "execute_result"
    }
   ],
   "source": [
    "orb"
   ]
  },
  {
   "cell_type": "code",
   "execution_count": null,
   "metadata": {},
   "outputs": [],
   "source": []
  }
 ],
 "metadata": {
  "interpreter": {
   "hash": "8bc5da1a3cacbca80ad081f4cab3b427a6b621ab5ad3c983aefc5782de02e022"
  },
  "kernelspec": {
   "display_name": "Python 3.9.10 ('sim')",
   "language": "python",
   "name": "python3"
  },
  "language_info": {
   "codemirror_mode": {
    "name": "ipython",
    "version": 3
   },
   "file_extension": ".py",
   "mimetype": "text/x-python",
   "name": "python",
   "nbconvert_exporter": "python",
   "pygments_lexer": "ipython3",
   "version": "3.9.10"
  },
  "orig_nbformat": 4
 },
 "nbformat": 4,
 "nbformat_minor": 2
}
