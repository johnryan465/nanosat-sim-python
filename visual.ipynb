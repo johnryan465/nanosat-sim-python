{
 "cells": [
  {
   "cell_type": "code",
   "execution_count": 21,
   "metadata": {},
   "outputs": [
    {
     "name": "stdout",
     "output_type": "stream",
     "text": [
      "The autoreload extension is already loaded. To reload it, use:\n",
      "  %reload_ext autoreload\n"
     ]
    },
    {
     "name": "stderr",
     "output_type": "stream",
     "text": [
      "[autoreload of enviroment.force.magnet failed: Traceback (most recent call last):\n",
      "  File \"/opt/conda/envs/simulator/lib/python3.9/site-packages/IPython/extensions/autoreload.py\", line 257, in check\n",
      "    superreload(m, reload, self.old_objects)\n",
      "  File \"/opt/conda/envs/simulator/lib/python3.9/site-packages/IPython/extensions/autoreload.py\", line 480, in superreload\n",
      "    update_generic(old_obj, new_obj)\n",
      "  File \"/opt/conda/envs/simulator/lib/python3.9/site-packages/IPython/extensions/autoreload.py\", line 377, in update_generic\n",
      "    update(a, b)\n",
      "  File \"/opt/conda/envs/simulator/lib/python3.9/site-packages/IPython/extensions/autoreload.py\", line 345, in update_class\n",
      "    update_instances(old, new)\n",
      "  File \"/opt/conda/envs/simulator/lib/python3.9/site-packages/IPython/extensions/autoreload.py\", line 303, in update_instances\n",
      "    ref.__class__ = new\n",
      "TypeError: __class__ assignment: 'MagneticForce' object layout differs from 'MagneticForce'\n",
      "]\n"
     ]
    }
   ],
   "source": [
    "%load_ext autoreload"
   ]
  },
  {
   "cell_type": "code",
   "execution_count": 22,
   "metadata": {},
   "outputs": [],
   "source": [
    "%autoreload 2"
   ]
  },
  {
   "cell_type": "code",
   "execution_count": 23,
   "metadata": {},
   "outputs": [],
   "source": [
    "import orekit\n",
    "from orekit.pyhelpers import setup_orekit_curdir\n",
    "\n",
    "from org.orekit.propagation.numerical import NumericalPropagator\n",
    "\n",
    "from enviroment.utils.integrator import create_DormandPrince853\n",
    "from enviroment.simulator.opssat import OPSSAT\n",
    "\n",
    "from enviroment.simulator.sim import Simulator\n",
    "from enviroment.utils.units import create_initial_orbit\n",
    "\n",
    "from datetime import datetime\n",
    "\n",
    "\n"
   ]
  },
  {
   "cell_type": "code",
   "execution_count": 24,
   "metadata": {},
   "outputs": [],
   "source": [
    "vm = orekit.initVM()\n",
    "setup_orekit_curdir()\n",
    "\n",
    "start_time = datetime(2020,1,1)\n",
    "\n",
    "initial_time, initial_orbit = create_initial_orbit(start_time)\n",
    "integrator = create_DormandPrince853(initial_orbit, 0.001, 1000.0, 60.0, 1.0)\n",
    "propagator_num = NumericalPropagator(integrator)\n",
    "sat = OPSSAT(initial_orbit)\n"
   ]
  },
  {
   "cell_type": "code",
   "execution_count": 25,
   "metadata": {},
   "outputs": [],
   "source": [
    "from org.orekit.attitudes import Attitude\n",
    "from datetime import datetime\n",
    "from org.orekit.frames import FramesFactory\n",
    "from org.orekit.utils import AngularCoordinates\n",
    "from enviroment.utils.units import to_absolute_date\n",
    "start_time = datetime(2020,1,1)\n",
    "frame = FramesFactory.getEME2000();\n",
    "attitude = Attitude(to_absolute_date(start_time), frame, AngularCoordinates())"
   ]
  },
  {
   "cell_type": "code",
   "execution_count": 26,
   "metadata": {},
   "outputs": [],
   "source": [
    "sim = Simulator(sat, initial_orbit, attitude)\n"
   ]
  },
  {
   "cell_type": "code",
   "execution_count": 27,
   "metadata": {},
   "outputs": [
    {
     "name": "stdout",
     "output_type": "stream",
     "text": [
      "Keplerian parameters: {a: 6828137.0; e: 0.007322641593160761; i: 86.99999999999999; pa: 20.0; raan: 10.0; v: 0.0;}\n"
     ]
    },
    {
     "ename": "NotImplementedError",
     "evalue": "('instantiating java class', <class 'enviroment.force.magnet.MagneticForce'>)",
     "output_type": "error",
     "traceback": [
      "\u001b[0;31m---------------------------------------------------------------------------\u001b[0m",
      "\u001b[0;31mNotImplementedError\u001b[0m                       Traceback (most recent call last)",
      "Input \u001b[0;32mIn [27]\u001b[0m, in \u001b[0;36m<cell line: 1>\u001b[0;34m()\u001b[0m\n\u001b[0;32m----> 1\u001b[0m \u001b[43msim\u001b[49m\u001b[38;5;241;43m.\u001b[39;49m\u001b[43mrun\u001b[49m\u001b[43m(\u001b[49m\u001b[43mdatetime\u001b[49m\u001b[43m(\u001b[49m\u001b[38;5;241;43m2020\u001b[39;49m\u001b[43m,\u001b[49m\u001b[38;5;241;43m1\u001b[39;49m\u001b[43m,\u001b[49m\u001b[38;5;241;43m2\u001b[39;49m\u001b[43m)\u001b[49m\u001b[43m)\u001b[49m\n",
      "File \u001b[0;32m/workspaces/rl-for-space/simulator/enviroment/simulator/sim.py:84\u001b[0m, in \u001b[0;36mSimulator.run\u001b[0;34m(self, end_time)\u001b[0m\n\u001b[1;32m     82\u001b[0m gravityProvider \u001b[38;5;241m=\u001b[39m GravityFieldFactory\u001b[38;5;241m.\u001b[39mgetNormalizedProvider(\u001b[38;5;241m8\u001b[39m, \u001b[38;5;241m8\u001b[39m)\n\u001b[1;32m     83\u001b[0m propagator\u001b[38;5;241m.\u001b[39maddForceModel(HolmesFeatherstoneAttractionModel(earth\u001b[38;5;241m.\u001b[39mgetBodyFrame(), gravityProvider))\n\u001b[0;32m---> 84\u001b[0m propagator\u001b[38;5;241m.\u001b[39maddForceModel(\u001b[43mMagneticForce\u001b[49m\u001b[43m(\u001b[49m\u001b[43m)\u001b[49m)\n\u001b[1;32m     86\u001b[0m \u001b[38;5;66;03m# propagator.setMasterMode(180.0, handler) \u001b[39;00m\n\u001b[1;32m     87\u001b[0m \u001b[38;5;66;03m# propagator.setInitialState(initialState)\u001b[39;00m\n\u001b[1;32m     88\u001b[0m \u001b[38;5;28;01mfor\u001b[39;00m additional_state \u001b[38;5;129;01min\u001b[39;00m \u001b[38;5;28mself\u001b[39m\u001b[38;5;241m.\u001b[39msatellite\u001b[38;5;241m.\u001b[39mget_additional_state_providers():\n",
      "File \u001b[0;32m/workspaces/rl-for-space/simulator/enviroment/force/magnet.py:27\u001b[0m, in \u001b[0;36mMagneticForce.__init__\u001b[0;34m(self)\u001b[0m\n\u001b[1;32m     26\u001b[0m \u001b[38;5;28;01mdef\u001b[39;00m \u001b[38;5;21m__init__\u001b[39m(\u001b[38;5;28mself\u001b[39m) \u001b[38;5;241m-\u001b[39m\u001b[38;5;241m>\u001b[39m \u001b[38;5;28;01mNone\u001b[39;00m:\n\u001b[0;32m---> 27\u001b[0m     \u001b[38;5;28;43msuper\u001b[39;49m\u001b[43m(\u001b[49m\u001b[43m)\u001b[49m\u001b[38;5;241;43m.\u001b[39;49m\u001b[38;5;21;43m__init__\u001b[39;49m\u001b[43m(\u001b[49m\u001b[43m)\u001b[49m\n",
      "\u001b[0;31mNotImplementedError\u001b[0m: ('instantiating java class', <class 'enviroment.force.magnet.MagneticForce'>)"
     ]
    }
   ],
   "source": [
    "sim.run(datetime(2020,1,2))"
   ]
  },
  {
   "cell_type": "code",
   "execution_count": null,
   "metadata": {},
   "outputs": [],
   "source": []
  }
 ],
 "metadata": {
  "interpreter": {
   "hash": "7c1ec5d9efc34516c1b49d6429fd2f63ed729056e5d8b6dccd5a1716143e1140"
  },
  "kernelspec": {
   "display_name": "Python 3.9.10 ('simulator')",
   "language": "python",
   "name": "python3"
  },
  "language_info": {
   "codemirror_mode": {
    "name": "ipython",
    "version": 3
   },
   "file_extension": ".py",
   "mimetype": "text/x-python",
   "name": "python",
   "nbconvert_exporter": "python",
   "pygments_lexer": "ipython3",
   "version": "3.9.10"
  },
  "orig_nbformat": 4
 },
 "nbformat": 4,
 "nbformat_minor": 2
}
