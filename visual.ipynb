{
 "cells": [
  {
   "cell_type": "code",
   "execution_count": 8,
   "metadata": {},
   "outputs": [
    {
     "name": "stdout",
     "output_type": "stream",
     "text": [
      "The autoreload extension is already loaded. To reload it, use:\n",
      "  %reload_ext autoreload\n"
     ]
    }
   ],
   "source": [
    "%load_ext autoreload"
   ]
  },
  {
   "cell_type": "code",
   "execution_count": 9,
   "metadata": {},
   "outputs": [],
   "source": [
    "%autoreload 2"
   ]
  },
  {
   "cell_type": "code",
   "execution_count": 10,
   "metadata": {},
   "outputs": [],
   "source": [
    "import orekit\n",
    "from orekit.pyhelpers import setup_orekit_curdir\n",
    "\n",
    "from org.orekit.propagation.numerical import NumericalPropagator\n",
    "\n",
    "from enviroment.utils.integrator import create_DormandPrince853\n",
    "from enviroment.simulator.opssat import OPSSAT\n",
    "\n",
    "from enviroment.simulator.sim import Simulator\n",
    "from enviroment.utils.units import create_initial_orbit\n",
    "\n",
    "\n",
    "\n",
    "\n"
   ]
  },
  {
   "cell_type": "code",
   "execution_count": 11,
   "metadata": {},
   "outputs": [],
   "source": [
    "vm = orekit.initVM()\n",
    "setup_orekit_curdir()\n",
    "\n",
    "start_time = datetime(2020,1,1)\n",
    "\n",
    "initial_time, initial_orbit = create_initial_orbit(start_time)\n",
    "integrator = create_DormandPrince853(initial_orbit, 0.001, 1000.0, 60.0, 1.0)\n",
    "propagator_num = NumericalPropagator(integrator)\n",
    "sat = OPSSAT(initial_orbit)\n"
   ]
  },
  {
   "cell_type": "code",
   "execution_count": 12,
   "metadata": {},
   "outputs": [],
   "source": [
    "from org.orekit.attitudes import Attitude\n",
    "from datetime import datetime\n",
    "from org.orekit.frames import FramesFactory\n",
    "from org.orekit.utils import AngularCoordinates\n",
    "from enviroment.simulator.sim import _to_absolute_date\n",
    "start_time = datetime(2020,1,1)\n",
    "frame = FramesFactory.getEME2000();\n",
    "attitude = Attitude(_to_absolute_date(start_time), frame, AngularCoordinates())"
   ]
  },
  {
   "cell_type": "code",
   "execution_count": 13,
   "metadata": {},
   "outputs": [],
   "source": [
    "sim = Simulator(sat, initial_orbit, attitude)\n"
   ]
  },
  {
   "cell_type": "code",
   "execution_count": 14,
   "metadata": {},
   "outputs": [
    {
     "name": "stdout",
     "output_type": "stream",
     "text": [
      "Keplerian parameters: {a: 6828137.0; e: 0.007322641593160761; i: 86.99999999999999; pa: 20.0; raan: 10.0; v: 0.0;}\n",
      "<Kinematics: <null>>\n"
     ]
    },
    {
     "ename": "AttributeError",
     "evalue": "attribute 'initialState' of 'AbstractPropagator' objects is not writable",
     "output_type": "error",
     "traceback": [
      "\u001b[0;31m---------------------------------------------------------------------------\u001b[0m",
      "\u001b[0;31mAttributeError\u001b[0m                            Traceback (most recent call last)",
      "Input \u001b[0;32mIn [14]\u001b[0m, in \u001b[0;36m<cell line: 1>\u001b[0;34m()\u001b[0m\n\u001b[0;32m----> 1\u001b[0m \u001b[43msim\u001b[49m\u001b[38;5;241;43m.\u001b[39;49m\u001b[43mrun\u001b[49m\u001b[43m(\u001b[49m\u001b[43mdatetime\u001b[49m\u001b[43m(\u001b[49m\u001b[38;5;241;43m2020\u001b[39;49m\u001b[43m,\u001b[49m\u001b[38;5;241;43m1\u001b[39;49m\u001b[43m,\u001b[49m\u001b[38;5;241;43m2\u001b[39;49m\u001b[43m)\u001b[49m\u001b[43m)\u001b[49m\n",
      "File \u001b[0;32m/workspaces/rl-for-space/simulator/enviroment/simulator/sim.py:62\u001b[0m, in \u001b[0;36mSimulator.run\u001b[0;34m(self, end_time)\u001b[0m\n\u001b[1;32m     60\u001b[0m integrator \u001b[38;5;241m=\u001b[39m create_DormandPrince853(\u001b[38;5;28mself\u001b[39m\u001b[38;5;241m.\u001b[39morbit, minStep, maxstep, initStep, \u001b[38;5;241m1.0\u001b[39m)\n\u001b[1;32m     61\u001b[0m orbitType \u001b[38;5;241m=\u001b[39m OrbitType\u001b[38;5;241m.\u001b[39mCARTESIAN\n\u001b[0;32m---> 62\u001b[0m propagator \u001b[38;5;241m=\u001b[39m \u001b[43mKeplerianPropagator\u001b[49m\u001b[43m(\u001b[49m\u001b[38;5;28;43mself\u001b[39;49m\u001b[38;5;241;43m.\u001b[39;49m\u001b[43morbit\u001b[49m\u001b[43m,\u001b[49m\u001b[43m \u001b[49m\u001b[43mkinematics_attitude_provider\u001b[49m\u001b[43m)\u001b[49m\n\u001b[1;32m     63\u001b[0m \u001b[38;5;66;03m# propagator = EcksteinHechlerPropagator(self.orbit, kinematics_attitude_provider,\u001b[39;00m\n\u001b[1;32m     64\u001b[0m \u001b[38;5;66;03m#                                                    Constants.EIGEN5C_EARTH_EQUATORIAL_RADIUS,\u001b[39;00m\n\u001b[1;32m     65\u001b[0m \u001b[38;5;66;03m#                                                    Constants.EIGEN5C_EARTH_MU, Constants.EIGEN5C_EARTH_C20,\u001b[39;00m\n\u001b[0;32m   (...)\u001b[0m\n\u001b[1;32m     71\u001b[0m \u001b[38;5;66;03m# propagator.setMasterMode(180.0, handler) \u001b[39;00m\n\u001b[1;32m     72\u001b[0m \u001b[38;5;66;03m# propagator.setInitialState(initialState)\u001b[39;00m\n\u001b[1;32m     73\u001b[0m \u001b[38;5;28;01mfor\u001b[39;00m additional_state \u001b[38;5;129;01min\u001b[39;00m \u001b[38;5;28mself\u001b[39m\u001b[38;5;241m.\u001b[39msatellite\u001b[38;5;241m.\u001b[39mget_additional_state_providers():\n",
      "File \u001b[0;32m/workspaces/rl-for-space/simulator/enviroment/simulator/keplerian.py:16\u001b[0m, in \u001b[0;36mKeplerianPropagator.__init__\u001b[0;34m(self, initialOrbit, attitudeProvider)\u001b[0m\n\u001b[1;32m     14\u001b[0m \u001b[38;5;28mself\u001b[39m\u001b[38;5;241m.\u001b[39mattitude_provider \u001b[38;5;241m=\u001b[39m attitudeProvider\n\u001b[1;32m     15\u001b[0m \u001b[38;5;28mprint\u001b[39m(\u001b[38;5;28mself\u001b[39m\u001b[38;5;241m.\u001b[39mattitude_provider)\n\u001b[0;32m---> 16\u001b[0m \u001b[38;5;28;43mself\u001b[39;49m\u001b[38;5;241;43m.\u001b[39;49m\u001b[43mresetInitialState\u001b[49m\u001b[43m(\u001b[49m\u001b[43mSpacecraftState\u001b[49m\u001b[43m(\u001b[49m\u001b[43minitialOrbit\u001b[49m\u001b[43m,\u001b[49m\n\u001b[1;32m     17\u001b[0m \u001b[43m        \u001b[49m\u001b[38;5;28;43mself\u001b[39;49m\u001b[38;5;241;43m.\u001b[39;49m\u001b[43mattitude_provider\u001b[49m\u001b[38;5;241;43m.\u001b[39;49m\u001b[43mgetAttitude\u001b[49m\u001b[43m(\u001b[49m\u001b[43minitialOrbit\u001b[49m\u001b[43m,\u001b[49m\n\u001b[1;32m     18\u001b[0m \u001b[43m                \u001b[49m\u001b[43minitialOrbit\u001b[49m\u001b[38;5;241;43m.\u001b[39;49m\u001b[43mgetDate\u001b[49m\u001b[43m(\u001b[49m\u001b[43m)\u001b[49m\u001b[43m,\u001b[49m\u001b[43m \u001b[49m\u001b[43minitialOrbit\u001b[49m\u001b[38;5;241;43m.\u001b[39;49m\u001b[43mgetFrame\u001b[49m\u001b[43m(\u001b[49m\u001b[43m)\u001b[49m\u001b[43m)\u001b[49m\u001b[43m)\u001b[49m\u001b[43m)\u001b[49m\n",
      "File \u001b[0;32m/workspaces/rl-for-space/simulator/enviroment/simulator/keplerian.py:25\u001b[0m, in \u001b[0;36mKeplerianPropagator.resetInitialState\u001b[0;34m(self, state)\u001b[0m\n\u001b[1;32m     23\u001b[0m \u001b[38;5;28;01mdef\u001b[39;00m \u001b[38;5;21mresetInitialState\u001b[39m(\u001b[38;5;28mself\u001b[39m, state: SpacecraftState):\n\u001b[1;32m     24\u001b[0m     \u001b[38;5;28msuper\u001b[39m()\u001b[38;5;241m.\u001b[39mresetInitialState(state);\n\u001b[0;32m---> 25\u001b[0m     \u001b[38;5;28mself\u001b[39m\u001b[38;5;241m.\u001b[39minitialState \u001b[38;5;241m=\u001b[39m state;\n\u001b[1;32m     26\u001b[0m     \u001b[38;5;28mself\u001b[39m\u001b[38;5;241m.\u001b[39mstates \u001b[38;5;241m=\u001b[39m TimeSpanMap(\u001b[38;5;28mself\u001b[39m\u001b[38;5;241m.\u001b[39minitialState)\n",
      "\u001b[0;31mAttributeError\u001b[0m: attribute 'initialState' of 'AbstractPropagator' objects is not writable"
     ]
    }
   ],
   "source": [
    "sim.run(datetime(2020,1,2))"
   ]
  },
  {
   "cell_type": "code",
   "execution_count": null,
   "metadata": {},
   "outputs": [],
   "source": []
  }
 ],
 "metadata": {
  "interpreter": {
   "hash": "7c1ec5d9efc34516c1b49d6429fd2f63ed729056e5d8b6dccd5a1716143e1140"
  },
  "kernelspec": {
   "display_name": "Python 3.9.10 ('simulator')",
   "language": "python",
   "name": "python3"
  },
  "language_info": {
   "codemirror_mode": {
    "name": "ipython",
    "version": 3
   },
   "file_extension": ".py",
   "mimetype": "text/x-python",
   "name": "python",
   "nbconvert_exporter": "python",
   "pygments_lexer": "ipython3",
   "version": "3.9.10"
  },
  "orig_nbformat": 4
 },
 "nbformat": 4,
 "nbformat_minor": 2
}
